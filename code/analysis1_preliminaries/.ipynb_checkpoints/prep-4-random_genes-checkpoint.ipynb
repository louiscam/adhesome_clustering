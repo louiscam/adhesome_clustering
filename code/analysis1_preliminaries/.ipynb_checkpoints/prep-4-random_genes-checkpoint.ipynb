{
 "cells": [
  {
   "cell_type": "code",
   "execution_count": 1,
   "metadata": {},
   "outputs": [],
   "source": [
    "import warnings\n",
    "warnings.simplefilter(action='ignore', category=FutureWarning)"
   ]
  },
  {
   "cell_type": "code",
   "execution_count": 2,
   "metadata": {
    "code_folding": [
     0
    ]
   },
   "outputs": [
    {
     "data": {
      "text/plain": [
       "<module 'correlation_clustering' from '/home/louiscam/projects/gpcr/code/analysis1_preliminaries/correlation_clustering.py'>"
      ]
     },
     "execution_count": 2,
     "metadata": {},
     "output_type": "execute_result"
    }
   ],
   "source": [
    "# Import standard libraries\n",
    "from importlib import reload\n",
    "import numpy as np\n",
    "import matplotlib as mpl\n",
    "import matplotlib.pyplot as plt\n",
    "from scipy.cluster.hierarchy import dendrogram, linkage, fcluster\n",
    "from sklearn.metrics import adjusted_mutual_info_score\n",
    "import seaborn as sns\n",
    "from scipy import sparse\n",
    "import scipy.stats as ss\n",
    "import csv\n",
    "import pandas as pd\n",
    "import networkx as nx\n",
    "import community\n",
    "import communities as com\n",
    "import pickle\n",
    "from collections import defaultdict\n",
    "import operator\n",
    "from scipy.sparse import csr_matrix\n",
    "import itertools\n",
    "import os.path\n",
    "import math\n",
    "from sklearn.cluster import AgglomerativeClustering\n",
    "from sklearn.decomposition import PCA\n",
    "from sklearn.manifold import TSNE\n",
    "from sklearn.metrics import adjusted_mutual_info_score\n",
    "from networkx.algorithms.community.kclique import k_clique_communities\n",
    "import pybedtools\n",
    "import time\n",
    "from tqdm import tqdm\n",
    "import random\n",
    "import OmicsIntegrator as oi\n",
    "import gseapy\n",
    "from gseapy.plot import barplot, dotplot\n",
    "from ortools.linear_solver import pywraplp\n",
    "from matplotlib_venn import venn2, venn3\n",
    "# Custom libraries\n",
    "import utils as lu\n",
    "import correlation_clustering as cc\n",
    "# Reload modules in case of modifications\n",
    "reload(lu)\n",
    "reload(cc)"
   ]
  },
  {
   "cell_type": "markdown",
   "metadata": {
    "heading_collapsed": true
   },
   "source": [
    "### Directories"
   ]
  },
  {
   "cell_type": "code",
   "execution_count": 3,
   "metadata": {
    "hidden": true
   },
   "outputs": [],
   "source": [
    "# HiC information\n",
    "cell_type = 'IMR90'\n",
    "resol_str = '250kb'\n",
    "resol = 250000\n",
    "quality = 'MAPQGE30'\n",
    "norm = 'INTERKR'"
   ]
  },
  {
   "cell_type": "code",
   "execution_count": 4,
   "metadata": {
    "hidden": true
   },
   "outputs": [],
   "source": [
    "# Directory of genome data\n",
    "dir_genome = '/home/louiscam/projects/gpcr/data/genome_data/'\n",
    "# Directory of adhesome data\n",
    "dir_adhesome = '/home/louiscam/projects/gpcr/data/adhesome_data/'\n",
    "# Directory of processed HiC\n",
    "dir_processed_hic =  f'/home/louiscam/projects/gpcr/save/processed_hic_data/processed_hic_data_IMR90/final_BP250000_intraKR_inter{norm}/'\n",
    "# Directory of epigenomic data\n",
    "epigenome_dir = '/home/louiscam/projects/gpcr/data/regulatory_data/regulatory_data_IMR90/'\n",
    "processed_epigenome_data_dir = '/home/louiscam/projects/gpcr/save/processed_regulatory_marks/processed_epigenome_data_IMR90/'\n",
    "# Directory of TF data\n",
    "dir_htftarget = '/home/louiscam/projects/gpcr/data/tf_data/hTFtarget/'\n",
    "# Directory of TCR data\n",
    "dir_tcr = '/home/louiscam/projects/gpcr/data/tcr_data/'\n",
    "# Directory of proteins of interest\n",
    "dir_proteins = '/home/louiscam/projects/gpcr/data/protein_families/'\n",
    "# Saving directory\n",
    "saving_dir = '/home/louiscam/projects/gpcr/save/figures/'"
   ]
  },
  {
   "cell_type": "markdown",
   "metadata": {},
   "source": [
    "# Load data"
   ]
  },
  {
   "cell_type": "markdown",
   "metadata": {},
   "source": [
    "### Load  activity data"
   ]
  },
  {
   "cell_type": "code",
   "execution_count": 5,
   "metadata": {},
   "outputs": [],
   "source": [
    "# Active/inactive loci\n",
    "with open(saving_dir+'all_active_loci.pkl', 'rb') as f:\n",
    "    all_active_loci = pickle.load(f)\n",
    "with open(saving_dir+'all_inactive_loci.pkl', 'rb') as f:\n",
    "    all_inactive_loci = pickle.load(f)\n",
    "with open(saving_dir+'active_adhesome_loci.pkl', 'rb') as f:\n",
    "    active_adhesome_loci = pickle.load(f)\n",
    "with open(saving_dir+'inactive_adhesome_loci.pkl', 'rb') as f:\n",
    "    inactive_adhesome_loci = pickle.load(f)"
   ]
  },
  {
   "cell_type": "code",
   "execution_count": 6,
   "metadata": {},
   "outputs": [],
   "source": [
    "# Active/inactive genes (based on gene clustering)\n",
    "with open(saving_dir+'active_genes.pkl', 'rb') as f:\n",
    "    active_genes = pickle.load(f)\n",
    "with open(saving_dir+'inactive_genes.pkl', 'rb') as f:\n",
    "    inactive_genes = pickle.load(f)\n",
    "with open(saving_dir+'active_adhesome_genes.pkl', 'rb') as f:\n",
    "    active_adhesome_genes = pickle.load(f)\n",
    "with open(saving_dir+'inactive_adhesome_genes.pkl', 'rb') as f:\n",
    "    inactive_adhesome_genes = pickle.load(f)"
   ]
  },
  {
   "cell_type": "markdown",
   "metadata": {},
   "source": [
    "### Load location data"
   ]
  },
  {
   "cell_type": "code",
   "execution_count": 28,
   "metadata": {},
   "outputs": [],
   "source": [
    "# Gene location in hg19\n",
    "gene_locations_filename = dir_genome+'chrom_hg19.loc_canonical'\n",
    "gene_id_filename = dir_genome+'chrom_hg19.name'\n",
    "df_loc = lu.get_all_gene_locations(gene_locations_filename, gene_id_filename)\n",
    "df_loc['start_locus'] = (df_loc['chromStart']//resol)*resol\n",
    "df_loc['end_locus'] = (df_loc['chromEnd']//resol)*resol\n",
    "df_loc['locus'] = [\n",
    "    ['chr_'+df_loc.loc[idx,'#chrom'].split('chr')[1]+'_loc_'+str(l) \n",
    "     for l in np.arange(df_loc.loc[idx,'start_locus'], df_loc.loc[idx,'end_locus']+resol, resol)]\n",
    "    for idx in df_loc.index\n",
    "]\n",
    "df_loc = lu.unnesting(df_loc, [\"locus\"])"
   ]
  },
  {
   "cell_type": "code",
   "execution_count": 29,
   "metadata": {},
   "outputs": [],
   "source": [
    "# Load dictionary matching each gene to its corresponding chromosome\n",
    "with open(saving_dir+'gene2chrom.pkl', 'rb') as f:\n",
    "    gene2chrom = pickle.load(f)"
   ]
  },
  {
   "cell_type": "markdown",
   "metadata": {},
   "source": [
    "# Choose random active non-adhesome genes"
   ]
  },
  {
   "cell_type": "code",
   "execution_count": 30,
   "metadata": {},
   "outputs": [],
   "source": [
    "# Choose random genes\n",
    "# Procedure: choose random genes from active non adhesome loci\n",
    "\n",
    "# 0. Determine active non adhesome loci based on gene clustering and remove blacklisted loci\n",
    "with open(dir_processed_hic+f'blacklist_IMR90_{norm}.pickle', 'rb') as f:\n",
    "    blacklist_list = pickle.load(f)\n",
    "active_loci_geneclust = df_loc[df_loc['geneSymbol'].isin(active_genes)]['locus'].unique()\n",
    "active_adhesome_loci_geneclust = df_loc[df_loc['geneSymbol'].isin(active_adhesome_genes)]['locus'].unique()\n",
    "active_nonadh_loci = np.array(list(set(active_loci_geneclust)-\n",
    "                                   set(active_adhesome_loci_geneclust)-\n",
    "                                   set(blacklist_list)))\n",
    "\n",
    "# 1. Drop inactive loci and non-adhesome loci from df_loc\n",
    "nonadh_gene_pool = df_loc[df_loc['locus'].isin(active_nonadh_loci)]['geneSymbol'].unique()\n",
    "nonadh_gene_pool = np.array(list(set(nonadh_gene_pool).intersection(set(active_genes))))\n",
    "\n",
    "# 2. Select random genes from the active non-adhesome gene pool\n",
    "np.random.seed(13)\n",
    "random_active_nonadh_genes = np.random.choice(nonadh_gene_pool, len(active_adhesome_genes), replace=False)\n",
    "# with open(saving_dir+'random_active_nonadh_genes.pkl', 'wb') as f:\n",
    "#     pickle.dump(random_active_nonadh_genes, f)\n",
    "with open(saving_dir+'random_active_nonadh_genes.pkl', 'rb') as f:\n",
    "    random_active_nonadh_genes = pickle.load(f)\n",
    "\n",
    "# 3. Identify the corresponding loci\n",
    "random_active_nonadh_loci = df_loc[df_loc['geneSymbol'].isin(random_active_nonadh_genes)]['locus'].unique()"
   ]
  },
  {
   "cell_type": "code",
   "execution_count": 31,
   "metadata": {},
   "outputs": [],
   "source": [
    "# Combine random and adhesome genes/loci\n",
    "combined_genes = np.concatenate([active_adhesome_genes, random_active_nonadh_genes])\n",
    "loci_of_active_adhesome_genes = df_loc[df_loc['geneSymbol'].isin(active_adhesome_genes)]['locus'].unique()\n",
    "combined_loci = np.unique(np.concatenate([loci_of_active_adhesome_genes, random_active_nonadh_loci]))"
   ]
  },
  {
   "cell_type": "code",
   "execution_count": 32,
   "metadata": {},
   "outputs": [],
   "source": [
    "# Build maps\n",
    "combined_locus2gene = {loc: df_loc[(df_loc['geneSymbol'].isin(combined_genes)) &\n",
    "                                   (df_loc['locus']==loc)]['geneSymbol'].unique()\n",
    "                       for loc in combined_loci}\n",
    "combined_gene2locus = {g: np.array(\n",
    "    set(df_loc[df_loc['geneSymbol']==g]['locus'].unique()).intersection(set(combined_loci))\n",
    ")\n",
    "                       for g in combined_genes}"
   ]
  },
  {
   "cell_type": "markdown",
   "metadata": {},
   "source": [
    "# HiC contact map"
   ]
  },
  {
   "cell_type": "code",
   "execution_count": 33,
   "metadata": {},
   "outputs": [
    {
     "name": "stderr",
     "output_type": "stream",
     "text": [
      "100%|██████████| 231/231 [00:30<00:00,  7.67it/s]\n"
     ]
    }
   ],
   "source": [
    "# Get HiC contact map\n",
    "contacts_df = pd.DataFrame(0, index=combined_loci, columns=combined_loci)\n",
    "# Loop over all chromosome pairs and fill gene_contacts_df\n",
    "chr_list = np.arange(1,23,1)\n",
    "chr_pairs = list(itertools.combinations(chr_list, 2))\n",
    "for pair in tqdm(chr_pairs):\n",
    "    time.sleep(.01)\n",
    "    chr1, chr2 = pair\n",
    "\n",
    "    # Select loci on chr1 and chr2\n",
    "    loci_chr1 = [locus for locus in combined_loci if ('chr_'+str(chr1)+'_') in locus]\n",
    "    loci_chr2 = [locus for locus in combined_loci if ('chr_'+str(chr2)+'_') in locus]\n",
    "\n",
    "    # Load HiC data for this chromosome pair\n",
    "    processed_hic_filename = 'hic_'+'chr'+str(chr1)+'_'+'chr'+str(chr2)+'_norm1_filter3'+'.pkl'\n",
    "    with open(dir_processed_hic+processed_hic_filename, 'rb') as f:\n",
    "        hic_chpair_df = pickle.load(f)\n",
    "\n",
    "    # Fill in corresponding submatrix of gene_contacts_df by sum of Hi-C contacts across all gene loci\n",
    "    locus_id_pairs = itertools.product(loci_chr1,loci_chr2)\n",
    "    for locus1_id, locus2_id in locus_id_pairs:\n",
    "        locus1 = int(locus1_id.split('_')[3])\n",
    "        locus2 = int(locus2_id.split('_')[3])\n",
    "        contacts_df.loc[locus1_id, locus2_id] = hic_chpair_df.loc[locus1,locus2]\n",
    "# Symmetrize data frame\n",
    "contacts_df = contacts_df+contacts_df.T\n",
    "# Save to pickle\n",
    "with open(saving_dir+f'combined_contacts_df_{norm}.pkl', 'wb') as f:\n",
    "    pickle.dump(contacts_df, f)"
   ]
  },
  {
   "cell_type": "markdown",
   "metadata": {},
   "source": [
    "# HiC edge lists"
   ]
  },
  {
   "cell_type": "markdown",
   "metadata": {},
   "source": [
    "### InterX edge list"
   ]
  },
  {
   "cell_type": "code",
   "execution_count": 34,
   "metadata": {},
   "outputs": [],
   "source": [
    "# Load contacts dataframe\n",
    "with open(saving_dir+f'combined_contacts_df_{norm}.pkl', 'rb') as f:\n",
    "        combined_contacts_df = pickle.load(f)"
   ]
  },
  {
   "cell_type": "code",
   "execution_count": 35,
   "metadata": {},
   "outputs": [
    {
     "name": "stdout",
     "output_type": "stream",
     "text": [
      "Number of interX edges = 76624\n"
     ]
    },
    {
     "data": {
      "image/png": "[encoded data removed]",
      "text/plain": [
       "<Figure size 432x288 with 1 Axes>"
      ]
     },
     "metadata": {
      "needs_background": "light"
     },
     "output_type": "display_data"
    }
   ],
   "source": [
    "# Build interX edge list\n",
    "combined_interX_edge_list = cc.create_interX_edgelist(combined_contacts_df, \n",
    "                                                      combined_loci, combined_locus2gene, \n",
    "                                                      gene2chrom)\n",
    "with open(saving_dir+f'combined_interX_edge_list_{norm}.pkl', 'wb') as f:\n",
    "    pickle.dump(combined_interX_edge_list, f)\n",
    "print('Number of interX edges = '+str(len(combined_interX_edge_list)))\n",
    "\n",
    "# Histogram of interX contacts\n",
    "plt.figure()\n",
    "plt.hist(combined_interX_edge_list['scaled_hic'].values, bins=np.arange(0,1.05,0.05))\n",
    "plt.xlabel('scaled hic')\n",
    "plt.ylabel('number of interactions')\n",
    "plt.title('histogram of min-max scaled interX Hi-C')\n",
    "plt.show()"
   ]
  },
  {
   "cell_type": "markdown",
   "metadata": {},
   "source": [
    "### IntraX edge list"
   ]
  },
  {
   "cell_type": "code",
   "execution_count": 36,
   "metadata": {},
   "outputs": [
    {
     "name": "stderr",
     "output_type": "stream",
     "text": [
      "100%|██████████| 22/22 [00:47<00:00,  2.16s/it]"
     ]
    },
    {
     "name": "stdout",
     "output_type": "stream",
     "text": [
      "Number of intraX edges = 5186\n"
     ]
    },
    {
     "name": "stderr",
     "output_type": "stream",
     "text": [
      "\n"
     ]
    },
    {
     "data": {
      "image/png": "[encoded data removed]",
      "text/plain": [
       "<Figure size 432x288 with 1 Axes>"
      ]
     },
     "metadata": {
      "needs_background": "light"
     },
     "output_type": "display_data"
    }
   ],
   "source": [
    "# Build intraX edge list\n",
    "df_loc = lu.get_all_gene_locations(gene_locations_filename, gene_id_filename)\n",
    "combined_intraX_edge_list = cc.create_intraX_edgelist(combined_loci, combined_locus2gene, \n",
    "                                                      df_loc, resol, dir_processed_hic)\n",
    "with open(saving_dir+f'combined_intraX_edge_list_{norm}.pkl', 'wb') as f:\n",
    "    pickle.dump(combined_intraX_edge_list, f)\n",
    "print('Number of intraX edges = '+str(len(combined_intraX_edge_list)))\n",
    "\n",
    "# Histogram of intraX contacts\n",
    "plt.figure()\n",
    "plt.hist(combined_intraX_edge_list['scaled_hic'].values, bins=np.arange(0,1.05,0.05))\n",
    "plt.xlabel('scaled hic')\n",
    "plt.ylabel('number of interactions')\n",
    "plt.title('histogram of min-max scaled intraX Hi-C')\n",
    "plt.show()"
   ]
  },
  {
   "cell_type": "markdown",
   "metadata": {},
   "source": [
    "### Select edge lists for adhesome genes and random genes"
   ]
  },
  {
   "cell_type": "code",
   "execution_count": 42,
   "metadata": {},
   "outputs": [],
   "source": [
    "# Edge lists for active adhesome genes\n",
    "adh_interX_edges = combined_interX_edge_list[(combined_interX_edge_list['source'].isin(active_adhesome_genes)) &\n",
    "                                             (combined_interX_edge_list['target'].isin(active_adhesome_genes))]\n",
    "adh_intraX_edges = combined_intraX_edge_list[(combined_intraX_edge_list['source'].isin(active_adhesome_genes)) &\n",
    "                                             (combined_intraX_edge_list['target'].isin(active_adhesome_genes))]\n",
    "\n",
    "# Edge lists for random genes\n",
    "rand_interX_edges = combined_interX_edge_list[combined_interX_edge_list['source'].isin(random_active_nonadh_genes) &\n",
    "                                              combined_interX_edge_list['target'].isin(random_active_nonadh_genes)]\n",
    "rand_intraX_edges = combined_intraX_edge_list[combined_intraX_edge_list['source'].isin(random_active_nonadh_genes) &\n",
    "                                              combined_intraX_edge_list['target'].isin(random_active_nonadh_genes)]"
   ]
  },
  {
   "cell_type": "code",
   "execution_count": 43,
   "metadata": {},
   "outputs": [
    {
     "data": {
      "image/png": "[encoded data removed]",
      "text/plain": [
       "<Figure size 432x288 with 1 Axes>"
      ]
     },
     "metadata": {
      "needs_background": "light"
     },
     "output_type": "display_data"
    }
   ],
   "source": [
    "# Plot histograms of HiC\n",
    "plt.figure()\n",
    "plt.hist(adh_interX_edges['hic'].values, color='dodgerblue', bins=np.arange(0,4,0.1),\n",
    "         alpha=0.5, label='active adhesome interX')\n",
    "plt.hist(rand_interX_edges['hic'].values, color='orange', bins=np.arange(0,4,0.1),\n",
    "         alpha=0.5, label='random active non-adhesome interX')\n",
    "plt.ylim(0,2200)\n",
    "plt.xlabel('HiC')\n",
    "plt.ylabel('number of edges')\n",
    "plt.legend(loc='upper right')\n",
    "plt.show()"
   ]
  },
  {
   "cell_type": "code",
   "execution_count": 44,
   "metadata": {},
   "outputs": [],
   "source": [
    "# Save edge lists to pickle\n",
    "with open(saving_dir+f'adh_interX_edge_list0_{norm}.pkl', 'wb') as f:\n",
    "    pickle.dump(adh_interX_edges, f)\n",
    "with open(saving_dir+f'adh_intraX_edge_list0_{norm}.pkl', 'wb') as f:\n",
    "    pickle.dump(adh_intraX_edges, f)\n",
    "with open(saving_dir+f'random_interX_edge_list_{norm}.pkl', 'wb') as f:\n",
    "    pickle.dump(rand_interX_edges, f)\n",
    "with open(saving_dir+f'random_intraX_edge_list_{norm}.pkl', 'wb') as f:\n",
    "    pickle.dump(rand_intraX_edges, f)"
   ]
  },
  {
   "cell_type": "code",
   "execution_count": null,
   "metadata": {},
   "outputs": [],
   "source": []
  }
 ],
 "metadata": {
  "kernelspec": {
   "display_name": "Python 3",
   "language": "python",
   "name": "python3"
  },
  "language_info": {
   "codemirror_mode": {
    "name": "ipython",
    "version": 3
   },
   "file_extension": ".py",
   "mimetype": "text/x-python",
   "name": "python",
   "nbconvert_exporter": "python",
   "pygments_lexer": "ipython3",
   "version": "3.7.4"
  }
 },
 "nbformat": 4,
 "nbformat_minor": 2
}
