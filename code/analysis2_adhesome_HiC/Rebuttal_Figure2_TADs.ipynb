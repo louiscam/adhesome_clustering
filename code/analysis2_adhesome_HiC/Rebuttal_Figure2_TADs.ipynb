{
 "cells": [
  {
   "cell_type": "code",
   "execution_count": 1,
   "metadata": {},
   "outputs": [],
   "source": [
    "# Import standard libraries\n",
    "from importlib import reload\n",
    "import sys\n",
    "import numpy as np\n",
    "import matplotlib.pyplot as plt\n",
    "from matplotlib.patches import Patch\n",
    "from matplotlib.colors import ListedColormap\n",
    "import seaborn as sns\n",
    "from scipy import sparse\n",
    "import scipy.stats as ss\n",
    "from sklearn.cluster import AgglomerativeClustering\n",
    "import csv\n",
    "import warnings\n",
    "warnings.simplefilter(action='ignore', category=FutureWarning)\n",
    "import pandas as pd\n",
    "import pickle\n",
    "from collections import defaultdict\n",
    "import operator\n",
    "from scipy.sparse import csr_matrix\n",
    "import itertools\n",
    "import os.path\n",
    "import math\n",
    "import pybedtools\n",
    "import hicstraw\n",
    "from tqdm.notebook import tqdm\n",
    "from joblib import Parallel, delayed\n",
    "\n",
    "import utils as lu"
   ]
  },
  {
   "cell_type": "code",
   "execution_count": 2,
   "metadata": {},
   "outputs": [],
   "source": [
    "# Specify directories and relevant information\n",
    "genome_dir = '/home/louiscam/projects/gpcr/data/genome_data/'\n",
    "epigenome_dir = \"/home/louiscam/projects/gpcr/data/regulatory_data/regulatory_data_IMR90/\"\n",
    "raw_hic_dir = '/home/louiscam/projects/gpcr/data/hic_data/IMR90/'\n",
    "balanced_hic_dir = '/home/louiscam/projects/gpcr/save/processed_hic_data/'\n",
    "saving_dir = '/home/louiscam/projects/gpcr/save/figures/'\n",
    "arrowhead_dir = '/home/louiscam/projects/gpcr/save/processed_hic_domains/arrowhead/'\n",
    "\n",
    "cell_type = 'IMR90'\n",
    "quality = 'MAPQGE30'\n",
    "intra_norm = 'KR'\n",
    "inter_norm = 'GWKR'\n",
    "resol = 250000\n",
    "balanced_hic_dir = balanced_hic_dir+f'processed_hic_data_{cell_type}/'\n",
    "balanced_hic_dir = balanced_hic_dir+f'final_BP{resol}_intra{intra_norm}_inter{inter_norm}/'\n",
    "\n",
    "normalization = 'KR'\n",
    "resolution = 5000\n",
    "chrom_list = np.arange(1, 22+1, 1)"
   ]
  },
  {
   "cell_type": "code",
   "execution_count": 3,
   "metadata": {
    "code_folding": []
   },
   "outputs": [],
   "source": [
    "# List of colors\n",
    "colors = np.array([\"red\", \"green\", \"blue\", \"yellow\", \"orange\", \"purple\", \"pink\", \"brown\", \"gray\", \"black\", \"white\",\n",
    "          \"cyan\", \"magenta\", \"teal\", \"navy\", \"gold\", \"silver\", \"violet\", \"lime\", \"olive\", \"maroon\", \"indigo\"])\n",
    "colors_dict = {chrom: colors[chrom-1] for chrom in chrom_list}"
   ]
  },
  {
   "cell_type": "markdown",
   "metadata": {},
   "source": [
    "# Load data"
   ]
  },
  {
   "cell_type": "markdown",
   "metadata": {},
   "source": [
    "## Hi-C"
   ]
  },
  {
   "cell_type": "code",
   "execution_count": 4,
   "metadata": {},
   "outputs": [
    {
     "name": "stdout",
     "output_type": "stream",
     "text": [
      "Genome ID = hg19\n",
      "Resolutions = [2500000, 1000000, 500000, 250000, 100000, 50000, 25000, 10000, 5000]\n"
     ]
    }
   ],
   "source": [
    "# Load Hi-C\n",
    "hic = hicstraw.HiCFile(raw_hic_dir+'GSE63525_IMR90_combined_30.hic')\n",
    "print(f'Genome ID = {hic.getGenomeID()}')\n",
    "print(f'Resolutions = {hic.getResolutions()}')"
   ]
  },
  {
   "cell_type": "markdown",
   "metadata": {},
   "source": [
    "## Epigenomic marks"
   ]
  },
  {
   "cell_type": "code",
   "execution_count": 5,
   "metadata": {},
   "outputs": [],
   "source": [
    "# List of all available epigenomic marks\n",
    "epigenomic_marks_df = pd.read_csv(epigenome_dir+'filenames_belyaeva.csv', sep=',', header=0)"
   ]
  },
  {
   "cell_type": "markdown",
   "metadata": {},
   "source": [
    "## Loci"
   ]
  },
  {
   "cell_type": "code",
   "execution_count": 6,
   "metadata": {},
   "outputs": [],
   "source": [
    "# Load all loci\n",
    "with open(saving_dir+'all_active_loci.pkl', 'rb') as f:\n",
    "    all_active_loci_from_clustering = pickle.load(f)\n",
    "with open(saving_dir+'all_inactive_loci.pkl', 'rb') as f:\n",
    "    all_inactive_loci_from_clustering = pickle.load(f)\n",
    "all_loci = all_active_loci_from_clustering+all_inactive_loci_from_clustering\n",
    "all_loci = sorted(all_loci)"
   ]
  },
  {
   "cell_type": "code",
   "execution_count": 7,
   "metadata": {},
   "outputs": [],
   "source": [
    "# Divide genome into portions corresponding to loci\n",
    "df_sizes = lu.get_chrom_sizes(genome_dir, resol)\n",
    "df_chrom_list = []\n",
    "for chrom in chrom_list:\n",
    "    # Get chromosome size\n",
    "    chrom_size = int(df_sizes.loc[df_sizes['chr']==str(chrom)]['size'])\n",
    "    # Divide the chromosome into segments of HIC_RESOLN length\n",
    "    stop_pos = np.arange(resol, chrom_size + resol, resol, dtype = 'int')\n",
    "    df_chrom = pd.DataFrame()\n",
    "    df_chrom['chrom'] = ['chr' + str(chrom)]*len(stop_pos)\n",
    "    df_chrom['start'] = stop_pos - resol\n",
    "    df_chrom['stop'] = stop_pos\n",
    "    df_chrom_list.append(df_chrom)\n",
    "all_loci_pos = pd.concat(df_chrom_list, axis=0)\n",
    "all_loci_pos.loc[:, 'name'] = all_loci_pos.apply(\n",
    "    lambda row: f\"{row['chrom']}_loc_{row['start']}\", axis=1\n",
    ")\n",
    "\n",
    "# Convert all_loci_pos to bed file\n",
    "bed_all_loci = pybedtools.BedTool.from_dataframe(all_loci_pos)\n",
    "bed_all_loci = bed_all_loci.sort()"
   ]
  },
  {
   "cell_type": "code",
   "execution_count": 8,
   "metadata": {},
   "outputs": [],
   "source": [
    "# Load blacklisted loci\n",
    "with open(balanced_hic_dir+f'blacklist_IMR90_{inter_norm}.pickle', 'rb') as f:\n",
    "    blacklist_list = pickle.load(f)"
   ]
  },
  {
   "cell_type": "markdown",
   "metadata": {},
   "source": [
    "## Gene locations"
   ]
  },
  {
   "cell_type": "code",
   "execution_count": 9,
   "metadata": {},
   "outputs": [
    {
     "data": {
      "text/html": [
       "<div>\n",
       "<style scoped>\n",
       "    .dataframe tbody tr th:only-of-type {\n",
       "        vertical-align: middle;\n",
       "    }\n",
       "\n",
       "    .dataframe tbody tr th {\n",
       "        vertical-align: top;\n",
       "    }\n",
       "\n",
       "    .dataframe thead th {\n",
       "        text-align: right;\n",
       "    }\n",
       "</style>\n",
       "<table border=\"1\" class=\"dataframe\">\n",
       "  <thead>\n",
       "    <tr style=\"text-align: right;\">\n",
       "      <th></th>\n",
       "      <th>transcript</th>\n",
       "      <th>geneSymbol</th>\n",
       "      <th>#chrom</th>\n",
       "      <th>chromStart</th>\n",
       "      <th>chromEnd</th>\n",
       "      <th>clusterId</th>\n",
       "      <th>protein</th>\n",
       "    </tr>\n",
       "  </thead>\n",
       "  <tbody>\n",
       "    <tr>\n",
       "      <th>30786</th>\n",
       "      <td>uc021ree.1</td>\n",
       "      <td>7SK</td>\n",
       "      <td>chr12</td>\n",
       "      <td>114942680</td>\n",
       "      <td>114942992</td>\n",
       "      <td>7071</td>\n",
       "      <td>uc021ree.1</td>\n",
       "    </tr>\n",
       "    <tr>\n",
       "      <th>15095</th>\n",
       "      <td>uc002qsd.4</td>\n",
       "      <td>A1BG</td>\n",
       "      <td>chr19</td>\n",
       "      <td>58858171</td>\n",
       "      <td>58864865</td>\n",
       "      <td>15924</td>\n",
       "      <td>uc002qsd.4</td>\n",
       "    </tr>\n",
       "    <tr>\n",
       "      <th>14204</th>\n",
       "      <td>uc002qsg.3</td>\n",
       "      <td>A1BG-AS1</td>\n",
       "      <td>chr19</td>\n",
       "      <td>58863335</td>\n",
       "      <td>58866549</td>\n",
       "      <td>15925</td>\n",
       "      <td>uc002qsg.3</td>\n",
       "    </tr>\n",
       "    <tr>\n",
       "      <th>3436</th>\n",
       "      <td>uc001jjj.3</td>\n",
       "      <td>A1CF</td>\n",
       "      <td>chr10</td>\n",
       "      <td>52559168</td>\n",
       "      <td>52645435</td>\n",
       "      <td>3274</td>\n",
       "      <td>uc001jjj.3</td>\n",
       "    </tr>\n",
       "    <tr>\n",
       "      <th>6250</th>\n",
       "      <td>uc001qvk.1</td>\n",
       "      <td>A2M</td>\n",
       "      <td>chr12</td>\n",
       "      <td>9220303</td>\n",
       "      <td>9268558</td>\n",
       "      <td>6062</td>\n",
       "      <td>uc001qvk.1</td>\n",
       "    </tr>\n",
       "  </tbody>\n",
       "</table>\n",
       "</div>"
      ],
      "text/plain": [
       "       transcript geneSymbol #chrom  chromStart   chromEnd  clusterId  \\\n",
       "30786  uc021ree.1        7SK  chr12   114942680  114942992       7071   \n",
       "15095  uc002qsd.4       A1BG  chr19    58858171   58864865      15924   \n",
       "14204  uc002qsg.3   A1BG-AS1  chr19    58863335   58866549      15925   \n",
       "3436   uc001jjj.3       A1CF  chr10    52559168   52645435       3274   \n",
       "6250   uc001qvk.1        A2M  chr12     9220303    9268558       6062   \n",
       "\n",
       "          protein  \n",
       "30786  uc021ree.1  \n",
       "15095  uc002qsd.4  \n",
       "14204  uc002qsg.3  \n",
       "3436   uc001jjj.3  \n",
       "6250   uc001qvk.1  "
      ]
     },
     "execution_count": 9,
     "metadata": {},
     "output_type": "execute_result"
    }
   ],
   "source": [
    "# Gene location in hg19\n",
    "gene_locations_filename = genome_dir+'chrom_hg19.loc_canonical'\n",
    "gene_id_filename = genome_dir+'chrom_hg19.name'\n",
    "df_loc = lu.get_all_gene_locations(gene_locations_filename, gene_id_filename)\n",
    "df_loc.head()"
   ]
  },
  {
   "cell_type": "code",
   "execution_count": 10,
   "metadata": {},
   "outputs": [],
   "source": [
    "# Create BED object for gene locations\n",
    "allgenes_df = df_loc[['#chrom', 'chromStart', 'chromEnd', 'geneSymbol']].copy()\n",
    "allgenes_df.columns = ['chrom', 'start', 'end', 'name']\n",
    "allgenes_df = allgenes_df.reset_index(drop=True)\n",
    "allgenes_bed = pybedtools.BedTool.from_dataframe(allgenes_df)\n",
    "allgenes_bed = allgenes_bed.sort()"
   ]
  },
  {
   "cell_type": "markdown",
   "metadata": {},
   "source": [
    "## Adhesome genes"
   ]
  },
  {
   "cell_type": "code",
   "execution_count": 11,
   "metadata": {},
   "outputs": [],
   "source": [
    "# Adhesome genes\n",
    "with open(saving_dir+'active_adhesome_genes.pkl', 'rb') as f:\n",
    "    active_adhesome_genes = pickle.load(f)\n",
    "with open(saving_dir+'inactive_adhesome_genes.pkl', 'rb') as f:\n",
    "    inactive_adhesome_genes = pickle.load(f)"
   ]
  },
  {
   "cell_type": "code",
   "execution_count": 12,
   "metadata": {},
   "outputs": [],
   "source": [
    "# Create BED object for adhesome gene locations\n",
    "adhesome_df = df_loc[df_loc['geneSymbol'].isin(active_adhesome_genes)]\n",
    "adhesome_df = adhesome_df[['#chrom', 'chromStart', 'chromEnd', 'geneSymbol']]\n",
    "adhesome_df.columns = ['chrom', 'start', 'end', 'name']\n",
    "adhesome_df = adhesome_df.reset_index(drop=True)\n",
    "adhesome_bed = pybedtools.BedTool.from_dataframe(adhesome_df)\n",
    "adhesome_bed = adhesome_bed.sort()"
   ]
  },
  {
   "cell_type": "markdown",
   "metadata": {},
   "source": [
    "## TADs"
   ]
  },
  {
   "cell_type": "code",
   "execution_count": 13,
   "metadata": {},
   "outputs": [
    {
     "name": "stdout",
     "output_type": "stream",
     "text": [
      "Total number of TADs = 4443\n"
     ]
    },
    {
     "data": {
      "text/html": [
       "<div>\n",
       "<style scoped>\n",
       "    .dataframe tbody tr th:only-of-type {\n",
       "        vertical-align: middle;\n",
       "    }\n",
       "\n",
       "    .dataframe tbody tr th {\n",
       "        vertical-align: top;\n",
       "    }\n",
       "\n",
       "    .dataframe thead th {\n",
       "        text-align: right;\n",
       "    }\n",
       "</style>\n",
       "<table border=\"1\" class=\"dataframe\">\n",
       "  <thead>\n",
       "    <tr style=\"text-align: right;\">\n",
       "      <th></th>\n",
       "      <th>chromo</th>\n",
       "      <th>start</th>\n",
       "      <th>end</th>\n",
       "      <th>length</th>\n",
       "    </tr>\n",
       "  </thead>\n",
       "  <tbody>\n",
       "    <tr>\n",
       "      <th>0</th>\n",
       "      <td>1</td>\n",
       "      <td>1060001</td>\n",
       "      <td>1165000</td>\n",
       "      <td>105000</td>\n",
       "    </tr>\n",
       "    <tr>\n",
       "      <th>1</th>\n",
       "      <td>1</td>\n",
       "      <td>1325001</td>\n",
       "      <td>1440000</td>\n",
       "      <td>115000</td>\n",
       "    </tr>\n",
       "    <tr>\n",
       "      <th>2</th>\n",
       "      <td>1</td>\n",
       "      <td>1880001</td>\n",
       "      <td>1980000</td>\n",
       "      <td>100000</td>\n",
       "    </tr>\n",
       "    <tr>\n",
       "      <th>3</th>\n",
       "      <td>1</td>\n",
       "      <td>2120001</td>\n",
       "      <td>2320000</td>\n",
       "      <td>200000</td>\n",
       "    </tr>\n",
       "    <tr>\n",
       "      <th>4</th>\n",
       "      <td>1</td>\n",
       "      <td>2345001</td>\n",
       "      <td>2460000</td>\n",
       "      <td>115000</td>\n",
       "    </tr>\n",
       "  </tbody>\n",
       "</table>\n",
       "</div>"
      ],
      "text/plain": [
       "   chromo    start      end  length\n",
       "0       1  1060001  1165000  105000\n",
       "1       1  1325001  1440000  115000\n",
       "2       1  1880001  1980000  100000\n",
       "3       1  2120001  2320000  200000\n",
       "4       1  2345001  2460000  115000"
      ]
     },
     "execution_count": 13,
     "metadata": {},
     "output_type": "execute_result"
    }
   ],
   "source": [
    "# Load TAD data\n",
    "fname = arrowhead_dir+f'{normalization}/{resolution}/processed_tads_list.csv'\n",
    "processed_tads_df = pd.read_csv(fname, header=0, index_col=0)\n",
    "print(f\"Total number of TADs = {len(processed_tads_df)}\")\n",
    "processed_tads_df.head()"
   ]
  },
  {
   "cell_type": "code",
   "execution_count": 14,
   "metadata": {},
   "outputs": [],
   "source": [
    "# Create BED object\n",
    "processed_tads_df.loc[:, 'name'] =  processed_tads_df.apply(\n",
    "    lambda row: f\"tad_chr{row['chromo']}_{row['start']}_{row['end']}\", axis=1\n",
    ")\n",
    "processed_tads_df.loc[:, 'chromo'] = 'chr'+processed_tads_df['chromo'].astype(str)\n",
    "processed_tads_df = processed_tads_df[['chromo', 'start', 'end', 'name']]\n",
    "processed_tads_df.columns = ['chrom', 'start', 'end', 'name']\n",
    "processed_tads_bed = pybedtools.BedTool.from_dataframe(processed_tads_df)\n",
    "processed_tads_bed = processed_tads_bed.sort()"
   ]
  },
  {
   "cell_type": "markdown",
   "metadata": {},
   "source": [
    "# Identify adhesome TADs"
   ]
  },
  {
   "cell_type": "markdown",
   "metadata": {},
   "source": [
    "## 250kb loci corresponding to TADs"
   ]
  },
  {
   "cell_type": "code",
   "execution_count": 15,
   "metadata": {},
   "outputs": [],
   "source": [
    "# Map 250kb loci to TADs\n",
    "out_loci = pybedtools.bedtool.BedTool.map(\n",
    "    processed_tads_bed, \n",
    "    bed_all_loci, \n",
    "    c=[4], \n",
    "    o='distinct',\n",
    "    f=0.1,\n",
    ")\n",
    "out_loci = out_loci.to_dataframe()"
   ]
  },
  {
   "cell_type": "code",
   "execution_count": 16,
   "metadata": {},
   "outputs": [],
   "source": [
    "# Postprocess results\n",
    "out_loci.columns = ['chrom', 'start', 'end', 'name', 'loci']\n",
    "out_loci.loc[:, 'chrom'] = out_loci['chrom'].str.strip('chr').astype(int)\n",
    "out_loci['loci'] = out_loci['loci'].str.replace('.', '')\n",
    "out_loci['loci'] = out_loci['loci'].str.split(',')\n",
    "out_loci.loc[:, 'loci'] = out_loci.apply(\n",
    "    lambda row: row['loci'] if (row['loci'][0]!='') else list(), axis=1\n",
    ")\n",
    "out_loci.loc[:, 'n_loci'] = out_loci.apply(\n",
    "    lambda row: len(row['loci']), axis=1\n",
    ")"
   ]
  },
  {
   "cell_type": "markdown",
   "metadata": {},
   "source": [
    "## Genes located in TADs"
   ]
  },
  {
   "cell_type": "code",
   "execution_count": 17,
   "metadata": {},
   "outputs": [],
   "source": [
    "# Map genes to their TADs\n",
    "out_all = pybedtools.bedtool.BedTool.map(\n",
    "    processed_tads_bed, \n",
    "    allgenes_bed, \n",
    "    c=[4], \n",
    "    o='distinct',\n",
    "    F=0.25 # Minimum overlap required as a fraction of B.\n",
    ")\n",
    "out_all = out_all.to_dataframe()"
   ]
  },
  {
   "cell_type": "code",
   "execution_count": 18,
   "metadata": {
    "code_folding": []
   },
   "outputs": [],
   "source": [
    "# Postprocess results\n",
    "out_all.columns = ['chrom', 'start', 'end', 'name', 'genes']\n",
    "out_all.loc[:, 'chrom'] = out_all['chrom'].str.strip('chr').astype(int)\n",
    "out_all['genes'] = out_all['genes'].str.replace('.', '')\n",
    "out_all['genes'] = out_all['genes'].str.split(',')\n",
    "out_all.loc[:, 'genes'] = out_all.apply(\n",
    "    lambda row: row['genes'] if (row['genes'][0]!='') else list(), axis=1\n",
    ")\n",
    "out_all.loc[:, 'n_genes'] = out_all.apply(\n",
    "    lambda row: len(row['genes']), axis=1\n",
    ")"
   ]
  },
  {
   "cell_type": "markdown",
   "metadata": {},
   "source": [
    "## Adhesome genes located in TADs"
   ]
  },
  {
   "cell_type": "code",
   "execution_count": 19,
   "metadata": {},
   "outputs": [],
   "source": [
    "# Map genes to their TADs\n",
    "out_adhesome = pybedtools.bedtool.BedTool.map(\n",
    "    processed_tads_bed, \n",
    "    adhesome_bed, \n",
    "    c=[4], \n",
    "    o='distinct',\n",
    "    F=0.25 # Minimum overlap required as a fraction of B.\n",
    ")\n",
    "out_adhesome = out_adhesome.to_dataframe()"
   ]
  },
  {
   "cell_type": "code",
   "execution_count": 20,
   "metadata": {},
   "outputs": [
    {
     "data": {
      "text/html": [
       "<div>\n",
       "<style scoped>\n",
       "    .dataframe tbody tr th:only-of-type {\n",
       "        vertical-align: middle;\n",
       "    }\n",
       "\n",
       "    .dataframe tbody tr th {\n",
       "        vertical-align: top;\n",
       "    }\n",
       "\n",
       "    .dataframe thead th {\n",
       "        text-align: right;\n",
       "    }\n",
       "</style>\n",
       "<table border=\"1\" class=\"dataframe\">\n",
       "  <thead>\n",
       "    <tr style=\"text-align: right;\">\n",
       "      <th></th>\n",
       "      <th>chrom</th>\n",
       "      <th>start</th>\n",
       "      <th>end</th>\n",
       "      <th>name</th>\n",
       "      <th>adhesome_genes</th>\n",
       "      <th>n_adhesome_genes</th>\n",
       "    </tr>\n",
       "  </thead>\n",
       "  <tbody>\n",
       "    <tr>\n",
       "      <th>0</th>\n",
       "      <td>1</td>\n",
       "      <td>1060001</td>\n",
       "      <td>1165000</td>\n",
       "      <td>tad_chr1_1060001_1165000</td>\n",
       "      <td>[]</td>\n",
       "      <td>0</td>\n",
       "    </tr>\n",
       "    <tr>\n",
       "      <th>1</th>\n",
       "      <td>1</td>\n",
       "      <td>1325001</td>\n",
       "      <td>1440000</td>\n",
       "      <td>tad_chr1_1325001_1440000</td>\n",
       "      <td>[]</td>\n",
       "      <td>0</td>\n",
       "    </tr>\n",
       "    <tr>\n",
       "      <th>2</th>\n",
       "      <td>1</td>\n",
       "      <td>1880001</td>\n",
       "      <td>1980000</td>\n",
       "      <td>tad_chr1_1880001_1980000</td>\n",
       "      <td>[]</td>\n",
       "      <td>0</td>\n",
       "    </tr>\n",
       "    <tr>\n",
       "      <th>3</th>\n",
       "      <td>1</td>\n",
       "      <td>2120001</td>\n",
       "      <td>2320000</td>\n",
       "      <td>tad_chr1_2120001_2320000</td>\n",
       "      <td>[]</td>\n",
       "      <td>0</td>\n",
       "    </tr>\n",
       "    <tr>\n",
       "      <th>4</th>\n",
       "      <td>1</td>\n",
       "      <td>2345001</td>\n",
       "      <td>2460000</td>\n",
       "      <td>tad_chr1_2345001_2460000</td>\n",
       "      <td>[]</td>\n",
       "      <td>0</td>\n",
       "    </tr>\n",
       "  </tbody>\n",
       "</table>\n",
       "</div>"
      ],
      "text/plain": [
       "   chrom    start      end                      name adhesome_genes  \\\n",
       "0      1  1060001  1165000  tad_chr1_1060001_1165000             []   \n",
       "1      1  1325001  1440000  tad_chr1_1325001_1440000             []   \n",
       "2      1  1880001  1980000  tad_chr1_1880001_1980000             []   \n",
       "3      1  2120001  2320000  tad_chr1_2120001_2320000             []   \n",
       "4      1  2345001  2460000  tad_chr1_2345001_2460000             []   \n",
       "\n",
       "   n_adhesome_genes  \n",
       "0                 0  \n",
       "1                 0  \n",
       "2                 0  \n",
       "3                 0  \n",
       "4                 0  "
      ]
     },
     "execution_count": 20,
     "metadata": {},
     "output_type": "execute_result"
    }
   ],
   "source": [
    "# Postprocess results\n",
    "out_adhesome.columns = ['chrom', 'start', 'end', 'name', 'adhesome_genes']\n",
    "out_adhesome.loc[:, 'chrom'] = out_adhesome['chrom'].str.strip('chr').astype(int)\n",
    "out_adhesome['adhesome_genes'] = out_adhesome['adhesome_genes'].str.replace('.', '')\n",
    "out_adhesome['adhesome_genes'] = out_adhesome['adhesome_genes'].str.split(',')\n",
    "out_adhesome.loc[:, 'adhesome_genes'] = out_adhesome.apply(\n",
    "    lambda row: row['adhesome_genes'] if (row['adhesome_genes'][0]!='') else list(), axis=1\n",
    ")\n",
    "out_adhesome.loc[:, 'n_adhesome_genes'] = out_adhesome.apply(\n",
    "    lambda row: len(row['adhesome_genes']), axis=1\n",
    ")\n",
    "# out_adhesome = out_adhesome[out_adhesome['n_adhesome_genes']>0]\n",
    "out_adhesome.head()"
   ]
  },
  {
   "cell_type": "code",
   "execution_count": 21,
   "metadata": {},
   "outputs": [
    {
     "name": "stdout",
     "output_type": "stream",
     "text": [
      "Number of adhesome genes in TADs = 132\n",
      "Number of adhesome TADs = 134\n"
     ]
    },
    {
     "data": {
      "image/png": "[encoded data removed]",
      "text/plain": [
       "<Figure size 288x432 with 1 Axes>"
      ]
     },
     "metadata": {
      "needs_background": "light"
     },
     "output_type": "display_data"
    }
   ],
   "source": [
    "# Descriptive statistics\n",
    "adhesome_genes_in_tads = np.unique(sorted(itertools.chain.from_iterable(out_adhesome['adhesome_genes'].values)))\n",
    "\n",
    "print(f\"Number of adhesome genes in TADs = {len(adhesome_genes_in_tads)}\")\n",
    "print(f\"Number of adhesome TADs = {out_adhesome[out_adhesome['n_adhesome_genes']>0].shape[0]}\")\n",
    "\n",
    "# Plot number of adhesome and non-adhesome TADs\n",
    "df = (out_adhesome[['n_adhesome_genes']]>0).groupby('n_adhesome_genes').size().to_frame('')\n",
    "df.index.name = None\n",
    "df.index = ['Non-adhesome TAD', 'Adhesome TAD']\n",
    "df = df.T\n",
    "\n",
    "fig, ax = plt.subplots()\n",
    "df.plot(\n",
    "    kind='bar', \n",
    "    stacked=True, \n",
    "    color=['skyblue', 'green'],\n",
    "    figsize=(4, 6),\n",
    "    ax=ax\n",
    ")\n",
    "\n",
    "for p in ax.patches:\n",
    "    width, height = p.get_width(), p.get_height()\n",
    "    x, y = p.get_xy()\n",
    "    ax.text(x + width/2, y + height/2, f'{int(height)}', ha='center', va='center', color='w')\n",
    "\n",
    "plt.xticks(ticks=[])\n",
    "plt.ylabel('Number of TADs')\n",
    "\n",
    "plt.ylim(0, 5500)\n",
    "plt.legend(loc='upper center')\n",
    "\n",
    "plt.show()"
   ]
  },
  {
   "cell_type": "code",
   "execution_count": 22,
   "metadata": {},
   "outputs": [
    {
     "data": {
      "image/png": "[encoded data removed]",
      "text/plain": [
       "<Figure size 1440x360 with 1 Axes>"
      ]
     },
     "metadata": {
      "needs_background": "light"
     },
     "output_type": "display_data"
    }
   ],
   "source": [
    "# Compare adhesome genes in TADs and total number of adhesome genes\n",
    "total_adhesome_df = adhesome_df[['chrom', 'name']].copy()\n",
    "total_adhesome_df.loc[:, 'chrom'] = total_adhesome_df['chrom'].str.strip('chr').astype(int)\n",
    "total_adhesome_df = total_adhesome_df.sort_values(['chrom', 'name'])\n",
    "total_adhesome_df.loc[:, 'in_tad'] = total_adhesome_df['name'].isin(adhesome_genes_in_tads).astype(int)\n",
    "total_adhesome_df = total_adhesome_df.groupby(['chrom', 'in_tad'])['in_tad'].count().to_frame('Number of genes')\n",
    "total_adhesome_df = total_adhesome_df.unstack()\n",
    "total_adhesome_df = total_adhesome_df.droplevel(0, axis=1)\n",
    "total_adhesome_df.columns = ['Adhesome gene not in TAD', 'Adhesome gene in TAD']\n",
    "\n",
    "fig, ax = plt.subplots()\n",
    "\n",
    "total_adhesome_df.plot(\n",
    "    kind='bar', \n",
    "    stacked=True, \n",
    "    color=['skyblue', 'green'],\n",
    "    figsize=(20, 5),\n",
    "    ax=ax\n",
    ")\n",
    "\n",
    "plt.xlabel('Chromosome')\n",
    "plt.ylabel('Number of genes')\n",
    "plt.xticks(rotation=0)\n",
    "\n",
    "# Add value annotations to each bar\n",
    "for p in ax.patches:\n",
    "    width, height = p.get_width(), p.get_height()\n",
    "    x, y = p.get_xy()\n",
    "    ax.text(x + width/2, y + height/2, f'{int(height)}', ha='center', va='center', color='w')\n",
    "\n",
    "plt.show()"
   ]
  },
  {
   "cell_type": "markdown",
   "metadata": {},
   "source": [
    "## TAD transcription level (and other cistromic)"
   ]
  },
  {
   "cell_type": "code",
   "execution_count": 23,
   "metadata": {},
   "outputs": [
    {
     "data": {
      "text/html": [
       "<div>\n",
       "<style scoped>\n",
       "    .dataframe tbody tr th:only-of-type {\n",
       "        vertical-align: middle;\n",
       "    }\n",
       "\n",
       "    .dataframe tbody tr th {\n",
       "        vertical-align: top;\n",
       "    }\n",
       "\n",
       "    .dataframe thead th {\n",
       "        text-align: right;\n",
       "    }\n",
       "</style>\n",
       "<table border=\"1\" class=\"dataframe\">\n",
       "  <thead>\n",
       "    <tr style=\"text-align: right;\">\n",
       "      <th></th>\n",
       "      <th>name</th>\n",
       "      <th>rnaseq</th>\n",
       "      <th>CEBPB</th>\n",
       "      <th>CHD1</th>\n",
       "      <th>CTCF</th>\n",
       "      <th>DNase-seq</th>\n",
       "      <th>EP300</th>\n",
       "      <th>H2AK5ac</th>\n",
       "      <th>H2AK9ac</th>\n",
       "      <th>H2AY</th>\n",
       "      <th>...</th>\n",
       "      <th>RAD21</th>\n",
       "      <th>RB1</th>\n",
       "      <th>RBL2</th>\n",
       "      <th>RCOR1</th>\n",
       "      <th>RELA</th>\n",
       "      <th>RFX5</th>\n",
       "      <th>YAP1</th>\n",
       "      <th>chrom</th>\n",
       "      <th>start</th>\n",
       "      <th>end</th>\n",
       "    </tr>\n",
       "  </thead>\n",
       "  <tbody>\n",
       "    <tr>\n",
       "      <th>0</th>\n",
       "      <td>tad_chr10_100070001_100185000</td>\n",
       "      <td>0.188017</td>\n",
       "      <td>0.605833</td>\n",
       "      <td>-0.788639</td>\n",
       "      <td>-2.491917</td>\n",
       "      <td>-0.976879</td>\n",
       "      <td>0.283054</td>\n",
       "      <td>-0.848227</td>\n",
       "      <td>-0.947800</td>\n",
       "      <td>0.774458</td>\n",
       "      <td>...</td>\n",
       "      <td>0.673459</td>\n",
       "      <td>-0.266019</td>\n",
       "      <td>-0.458829</td>\n",
       "      <td>-1.134967</td>\n",
       "      <td>-0.241231</td>\n",
       "      <td>2.264041</td>\n",
       "      <td>0.337494</td>\n",
       "      <td>10</td>\n",
       "      <td>100070001</td>\n",
       "      <td>100185000</td>\n",
       "    </tr>\n",
       "    <tr>\n",
       "      <th>1</th>\n",
       "      <td>tad_chr10_100500001_101015000</td>\n",
       "      <td>-0.122762</td>\n",
       "      <td>-1.310068</td>\n",
       "      <td>0.117755</td>\n",
       "      <td>-1.003458</td>\n",
       "      <td>-0.221317</td>\n",
       "      <td>0.285996</td>\n",
       "      <td>0.238734</td>\n",
       "      <td>-0.873028</td>\n",
       "      <td>-1.485505</td>\n",
       "      <td>...</td>\n",
       "      <td>-0.856970</td>\n",
       "      <td>-0.266019</td>\n",
       "      <td>-0.458829</td>\n",
       "      <td>-0.352054</td>\n",
       "      <td>-0.241231</td>\n",
       "      <td>-0.455935</td>\n",
       "      <td>0.463884</td>\n",
       "      <td>10</td>\n",
       "      <td>100500001</td>\n",
       "      <td>101015000</td>\n",
       "    </tr>\n",
       "    <tr>\n",
       "      <th>2</th>\n",
       "      <td>tad_chr10_101215001_101365000</td>\n",
       "      <td>0.211522</td>\n",
       "      <td>0.228658</td>\n",
       "      <td>-0.788639</td>\n",
       "      <td>-2.491917</td>\n",
       "      <td>-1.233268</td>\n",
       "      <td>0.122714</td>\n",
       "      <td>0.272739</td>\n",
       "      <td>-1.124464</td>\n",
       "      <td>0.559648</td>\n",
       "      <td>...</td>\n",
       "      <td>-2.241534</td>\n",
       "      <td>-0.266019</td>\n",
       "      <td>-0.458829</td>\n",
       "      <td>-1.134967</td>\n",
       "      <td>-0.241231</td>\n",
       "      <td>-0.455935</td>\n",
       "      <td>-1.546434</td>\n",
       "      <td>10</td>\n",
       "      <td>101215001</td>\n",
       "      <td>101365000</td>\n",
       "    </tr>\n",
       "    <tr>\n",
       "      <th>3</th>\n",
       "      <td>tad_chr10_101380001_101480000</td>\n",
       "      <td>0.982020</td>\n",
       "      <td>0.808589</td>\n",
       "      <td>-0.788639</td>\n",
       "      <td>0.815929</td>\n",
       "      <td>0.539065</td>\n",
       "      <td>1.151865</td>\n",
       "      <td>0.734931</td>\n",
       "      <td>0.137098</td>\n",
       "      <td>-1.485505</td>\n",
       "      <td>...</td>\n",
       "      <td>0.835421</td>\n",
       "      <td>-0.266019</td>\n",
       "      <td>-0.458829</td>\n",
       "      <td>0.604923</td>\n",
       "      <td>-0.241231</td>\n",
       "      <td>-0.455935</td>\n",
       "      <td>0.997379</td>\n",
       "      <td>10</td>\n",
       "      <td>101380001</td>\n",
       "      <td>101480000</td>\n",
       "    </tr>\n",
       "    <tr>\n",
       "      <th>4</th>\n",
       "      <td>tad_chr10_101495001_101600000</td>\n",
       "      <td>-0.059686</td>\n",
       "      <td>0.737498</td>\n",
       "      <td>-0.788639</td>\n",
       "      <td>0.754879</td>\n",
       "      <td>-2.843286</td>\n",
       "      <td>-1.589815</td>\n",
       "      <td>-2.382673</td>\n",
       "      <td>-2.657039</td>\n",
       "      <td>-1.485505</td>\n",
       "      <td>...</td>\n",
       "      <td>-2.241534</td>\n",
       "      <td>-0.266019</td>\n",
       "      <td>-0.458829</td>\n",
       "      <td>-1.134967</td>\n",
       "      <td>-0.241231</td>\n",
       "      <td>-0.455935</td>\n",
       "      <td>-1.546434</td>\n",
       "      <td>10</td>\n",
       "      <td>101495001</td>\n",
       "      <td>101600000</td>\n",
       "    </tr>\n",
       "  </tbody>\n",
       "</table>\n",
       "<p>5 rows × 52 columns</p>\n",
       "</div>"
      ],
      "text/plain": [
       "                            name    rnaseq     CEBPB      CHD1      CTCF  \\\n",
       "0  tad_chr10_100070001_100185000  0.188017  0.605833 -0.788639 -2.491917   \n",
       "1  tad_chr10_100500001_101015000 -0.122762 -1.310068  0.117755 -1.003458   \n",
       "2  tad_chr10_101215001_101365000  0.211522  0.228658 -0.788639 -2.491917   \n",
       "3  tad_chr10_101380001_101480000  0.982020  0.808589 -0.788639  0.815929   \n",
       "4  tad_chr10_101495001_101600000 -0.059686  0.737498 -0.788639  0.754879   \n",
       "\n",
       "   DNase-seq     EP300   H2AK5ac   H2AK9ac      H2AY  ...     RAD21       RB1  \\\n",
       "0  -0.976879  0.283054 -0.848227 -0.947800  0.774458  ...  0.673459 -0.266019   \n",
       "1  -0.221317  0.285996  0.238734 -0.873028 -1.485505  ... -0.856970 -0.266019   \n",
       "2  -1.233268  0.122714  0.272739 -1.124464  0.559648  ... -2.241534 -0.266019   \n",
       "3   0.539065  1.151865  0.734931  0.137098 -1.485505  ...  0.835421 -0.266019   \n",
       "4  -2.843286 -1.589815 -2.382673 -2.657039 -1.485505  ... -2.241534 -0.266019   \n",
       "\n",
       "       RBL2     RCOR1      RELA      RFX5      YAP1  chrom      start  \\\n",
       "0 -0.458829 -1.134967 -0.241231  2.264041  0.337494     10  100070001   \n",
       "1 -0.458829 -0.352054 -0.241231 -0.455935  0.463884     10  100500001   \n",
       "2 -0.458829 -1.134967 -0.241231 -0.455935 -1.546434     10  101215001   \n",
       "3 -0.458829  0.604923 -0.241231 -0.455935  0.997379     10  101380001   \n",
       "4 -0.458829 -1.134967 -0.241231 -0.455935 -1.546434     10  101495001   \n",
       "\n",
       "         end  \n",
       "0  100185000  \n",
       "1  101015000  \n",
       "2  101365000  \n",
       "3  101480000  \n",
       "4  101600000  \n",
       "\n",
       "[5 rows x 52 columns]"
      ]
     },
     "execution_count": 23,
     "metadata": {},
     "output_type": "execute_result"
    }
   ],
   "source": [
    "# Load processed transcriptomic and epigenomic information for all TADs\n",
    "out_cistromic = pd.read_csv(\n",
    "    saving_dir+f'features_matrix_all_tads_norm{normalization}_resolution{resolution}.csv', \n",
    "    header=0, \n",
    "    index_col=0\n",
    ")\n",
    "out_cistromic = out_cistromic.reset_index()\n",
    "out_cistromic.loc[:, 'chrom'] = out_cistromic['name'].str.split('_', expand=True)[1].str.strip('chr').astype(int)\n",
    "out_cistromic.loc[:, 'start'] = out_cistromic['name'].str.split('_', expand=True)[2].astype(int)\n",
    "out_cistromic.loc[:, 'end'] = out_cistromic['name'].str.split('_', expand=True)[3].astype(int)\n",
    "out_cistromic.head()"
   ]
  },
  {
   "cell_type": "markdown",
   "metadata": {},
   "source": [
    "## Combine information"
   ]
  },
  {
   "cell_type": "code",
   "execution_count": 24,
   "metadata": {
    "code_folding": []
   },
   "outputs": [
    {
     "data": {
      "text/html": [
       "<div>\n",
       "<style scoped>\n",
       "    .dataframe tbody tr th:only-of-type {\n",
       "        vertical-align: middle;\n",
       "    }\n",
       "\n",
       "    .dataframe tbody tr th {\n",
       "        vertical-align: top;\n",
       "    }\n",
       "\n",
       "    .dataframe thead th {\n",
       "        text-align: right;\n",
       "    }\n",
       "</style>\n",
       "<table border=\"1\" class=\"dataframe\">\n",
       "  <thead>\n",
       "    <tr style=\"text-align: right;\">\n",
       "      <th></th>\n",
       "      <th>chrom</th>\n",
       "      <th>start</th>\n",
       "      <th>end</th>\n",
       "      <th>length</th>\n",
       "      <th>loci</th>\n",
       "      <th>n_loci</th>\n",
       "      <th>genes</th>\n",
       "      <th>n_genes</th>\n",
       "      <th>adhesome_genes</th>\n",
       "      <th>n_adhesome_genes</th>\n",
       "      <th>...</th>\n",
       "      <th>MECP2</th>\n",
       "      <th>MXI1</th>\n",
       "      <th>POLR2A</th>\n",
       "      <th>RAD21</th>\n",
       "      <th>RB1</th>\n",
       "      <th>RBL2</th>\n",
       "      <th>RCOR1</th>\n",
       "      <th>RELA</th>\n",
       "      <th>RFX5</th>\n",
       "      <th>YAP1</th>\n",
       "    </tr>\n",
       "    <tr>\n",
       "      <th>name</th>\n",
       "      <th></th>\n",
       "      <th></th>\n",
       "      <th></th>\n",
       "      <th></th>\n",
       "      <th></th>\n",
       "      <th></th>\n",
       "      <th></th>\n",
       "      <th></th>\n",
       "      <th></th>\n",
       "      <th></th>\n",
       "      <th></th>\n",
       "      <th></th>\n",
       "      <th></th>\n",
       "      <th></th>\n",
       "      <th></th>\n",
       "      <th></th>\n",
       "      <th></th>\n",
       "      <th></th>\n",
       "      <th></th>\n",
       "      <th></th>\n",
       "      <th></th>\n",
       "    </tr>\n",
       "  </thead>\n",
       "  <tbody>\n",
       "    <tr>\n",
       "      <th>tad_chr1_1060001_1165000</th>\n",
       "      <td>1</td>\n",
       "      <td>1060001</td>\n",
       "      <td>1165000</td>\n",
       "      <td>105000</td>\n",
       "      <td>[chr1_loc_1000000]</td>\n",
       "      <td>1</td>\n",
       "      <td>[AK128833, JA715134, JA715143, LOC254099, MIR2...</td>\n",
       "      <td>11</td>\n",
       "      <td>[]</td>\n",
       "      <td>0</td>\n",
       "      <td>...</td>\n",
       "      <td>1.807906</td>\n",
       "      <td>0.406501</td>\n",
       "      <td>1.114935</td>\n",
       "      <td>-2.241534</td>\n",
       "      <td>-0.266019</td>\n",
       "      <td>-0.458829</td>\n",
       "      <td>-1.134967</td>\n",
       "      <td>-0.241231</td>\n",
       "      <td>-0.455935</td>\n",
       "      <td>-1.546434</td>\n",
       "    </tr>\n",
       "    <tr>\n",
       "      <th>tad_chr1_165375001_165555000</th>\n",
       "      <td>1</td>\n",
       "      <td>165375001</td>\n",
       "      <td>165555000</td>\n",
       "      <td>180000</td>\n",
       "      <td>[chr1_loc_165250000, chr1_loc_165500000]</td>\n",
       "      <td>2</td>\n",
       "      <td>[LOC400794, LRRC52, RXRG]</td>\n",
       "      <td>3</td>\n",
       "      <td>[]</td>\n",
       "      <td>0</td>\n",
       "      <td>...</td>\n",
       "      <td>-0.732692</td>\n",
       "      <td>-1.313034</td>\n",
       "      <td>-1.148367</td>\n",
       "      <td>-2.241534</td>\n",
       "      <td>-0.266019</td>\n",
       "      <td>-0.458829</td>\n",
       "      <td>0.229368</td>\n",
       "      <td>3.472344</td>\n",
       "      <td>-0.455935</td>\n",
       "      <td>-1.546434</td>\n",
       "    </tr>\n",
       "    <tr>\n",
       "      <th>tad_chr1_164555001_164760000</th>\n",
       "      <td>1</td>\n",
       "      <td>164555001</td>\n",
       "      <td>164760000</td>\n",
       "      <td>205000</td>\n",
       "      <td>[chr1_loc_164500000]</td>\n",
       "      <td>1</td>\n",
       "      <td>[AX748175, LOC100505795, PBX1]</td>\n",
       "      <td>3</td>\n",
       "      <td>[]</td>\n",
       "      <td>0</td>\n",
       "      <td>...</td>\n",
       "      <td>-0.732692</td>\n",
       "      <td>-0.019005</td>\n",
       "      <td>-1.148367</td>\n",
       "      <td>0.031281</td>\n",
       "      <td>-0.266019</td>\n",
       "      <td>-0.458829</td>\n",
       "      <td>1.339363</td>\n",
       "      <td>-0.241231</td>\n",
       "      <td>-0.455935</td>\n",
       "      <td>0.981718</td>\n",
       "    </tr>\n",
       "    <tr>\n",
       "      <th>tad_chr1_163150001_163280000</th>\n",
       "      <td>1</td>\n",
       "      <td>163150001</td>\n",
       "      <td>163280000</td>\n",
       "      <td>130000</td>\n",
       "      <td>[chr1_loc_163000000, chr1_loc_163250000]</td>\n",
       "      <td>2</td>\n",
       "      <td>[RGS5]</td>\n",
       "      <td>1</td>\n",
       "      <td>[]</td>\n",
       "      <td>0</td>\n",
       "      <td>...</td>\n",
       "      <td>-0.732692</td>\n",
       "      <td>-1.313034</td>\n",
       "      <td>-1.148367</td>\n",
       "      <td>-2.241534</td>\n",
       "      <td>-0.266019</td>\n",
       "      <td>-0.458829</td>\n",
       "      <td>-1.134967</td>\n",
       "      <td>-0.241231</td>\n",
       "      <td>-0.455935</td>\n",
       "      <td>0.511774</td>\n",
       "    </tr>\n",
       "    <tr>\n",
       "      <th>tad_chr1_163050001_163140000</th>\n",
       "      <td>1</td>\n",
       "      <td>163050001</td>\n",
       "      <td>163140000</td>\n",
       "      <td>90000</td>\n",
       "      <td>[chr1_loc_163000000]</td>\n",
       "      <td>1</td>\n",
       "      <td>[RGS5]</td>\n",
       "      <td>1</td>\n",
       "      <td>[]</td>\n",
       "      <td>0</td>\n",
       "      <td>...</td>\n",
       "      <td>-0.732692</td>\n",
       "      <td>-1.313034</td>\n",
       "      <td>-1.148367</td>\n",
       "      <td>-2.241534</td>\n",
       "      <td>-0.266019</td>\n",
       "      <td>-0.458829</td>\n",
       "      <td>0.674745</td>\n",
       "      <td>-0.241231</td>\n",
       "      <td>-0.455935</td>\n",
       "      <td>0.488392</td>\n",
       "    </tr>\n",
       "  </tbody>\n",
       "</table>\n",
       "<p>5 rows × 58 columns</p>\n",
       "</div>"
      ],
      "text/plain": [
       "                              chrom      start        end  length  \\\n",
       "name                                                                \n",
       "tad_chr1_1060001_1165000          1    1060001    1165000  105000   \n",
       "tad_chr1_165375001_165555000      1  165375001  165555000  180000   \n",
       "tad_chr1_164555001_164760000      1  164555001  164760000  205000   \n",
       "tad_chr1_163150001_163280000      1  163150001  163280000  130000   \n",
       "tad_chr1_163050001_163140000      1  163050001  163140000   90000   \n",
       "\n",
       "                                                                  loci  \\\n",
       "name                                                                     \n",
       "tad_chr1_1060001_1165000                            [chr1_loc_1000000]   \n",
       "tad_chr1_165375001_165555000  [chr1_loc_165250000, chr1_loc_165500000]   \n",
       "tad_chr1_164555001_164760000                      [chr1_loc_164500000]   \n",
       "tad_chr1_163150001_163280000  [chr1_loc_163000000, chr1_loc_163250000]   \n",
       "tad_chr1_163050001_163140000                      [chr1_loc_163000000]   \n",
       "\n",
       "                              n_loci  \\\n",
       "name                                   \n",
       "tad_chr1_1060001_1165000           1   \n",
       "tad_chr1_165375001_165555000       2   \n",
       "tad_chr1_164555001_164760000       1   \n",
       "tad_chr1_163150001_163280000       2   \n",
       "tad_chr1_163050001_163140000       1   \n",
       "\n",
       "                                                                          genes  \\\n",
       "name                                                                              \n",
       "tad_chr1_1060001_1165000      [AK128833, JA715134, JA715143, LOC254099, MIR2...   \n",
       "tad_chr1_165375001_165555000                          [LOC400794, LRRC52, RXRG]   \n",
       "tad_chr1_164555001_164760000                     [AX748175, LOC100505795, PBX1]   \n",
       "tad_chr1_163150001_163280000                                             [RGS5]   \n",
       "tad_chr1_163050001_163140000                                             [RGS5]   \n",
       "\n",
       "                              n_genes adhesome_genes  n_adhesome_genes  ...  \\\n",
       "name                                                                    ...   \n",
       "tad_chr1_1060001_1165000           11             []                 0  ...   \n",
       "tad_chr1_165375001_165555000        3             []                 0  ...   \n",
       "tad_chr1_164555001_164760000        3             []                 0  ...   \n",
       "tad_chr1_163150001_163280000        1             []                 0  ...   \n",
       "tad_chr1_163050001_163140000        1             []                 0  ...   \n",
       "\n",
       "                                 MECP2      MXI1    POLR2A     RAD21  \\\n",
       "name                                                                   \n",
       "tad_chr1_1060001_1165000      1.807906  0.406501  1.114935 -2.241534   \n",
       "tad_chr1_165375001_165555000 -0.732692 -1.313034 -1.148367 -2.241534   \n",
       "tad_chr1_164555001_164760000 -0.732692 -0.019005 -1.148367  0.031281   \n",
       "tad_chr1_163150001_163280000 -0.732692 -1.313034 -1.148367 -2.241534   \n",
       "tad_chr1_163050001_163140000 -0.732692 -1.313034 -1.148367 -2.241534   \n",
       "\n",
       "                                   RB1      RBL2     RCOR1      RELA  \\\n",
       "name                                                                   \n",
       "tad_chr1_1060001_1165000     -0.266019 -0.458829 -1.134967 -0.241231   \n",
       "tad_chr1_165375001_165555000 -0.266019 -0.458829  0.229368  3.472344   \n",
       "tad_chr1_164555001_164760000 -0.266019 -0.458829  1.339363 -0.241231   \n",
       "tad_chr1_163150001_163280000 -0.266019 -0.458829 -1.134967 -0.241231   \n",
       "tad_chr1_163050001_163140000 -0.266019 -0.458829  0.674745 -0.241231   \n",
       "\n",
       "                                  RFX5      YAP1  \n",
       "name                                              \n",
       "tad_chr1_1060001_1165000     -0.455935 -1.546434  \n",
       "tad_chr1_165375001_165555000 -0.455935 -1.546434  \n",
       "tad_chr1_164555001_164760000 -0.455935  0.981718  \n",
       "tad_chr1_163150001_163280000 -0.455935  0.511774  \n",
       "tad_chr1_163050001_163140000 -0.455935  0.488392  \n",
       "\n",
       "[5 rows x 58 columns]"
      ]
     },
     "execution_count": 24,
     "metadata": {},
     "output_type": "execute_result"
    }
   ],
   "source": [
    "# Concatenate results\n",
    "enriched_tads_df = pd.concat(\n",
    "    [\n",
    "        out_loci.set_index(['chrom', 'start', 'end', 'name']), \n",
    "        out_all.set_index(['chrom', 'start', 'end', 'name']), \n",
    "        out_adhesome.set_index(['chrom', 'start', 'end', 'name']),\n",
    "        out_cistromic.set_index(['chrom', 'start', 'end', 'name'])\n",
    "    ], \n",
    "    axis=1\n",
    ")\n",
    "enriched_tads_df = enriched_tads_df.reset_index()\n",
    "enriched_tads_df = enriched_tads_df.set_index('name')\n",
    "enriched_tads_df = enriched_tads_df.sort_values('chrom')\n",
    "enriched_tads_df.insert(\n",
    "    loc=3, \n",
    "    column='length', \n",
    "    value=enriched_tads_df['end']-enriched_tads_df['start']+1\n",
    ")\n",
    "\n",
    "enriched_adhesome_tads_df = enriched_tads_df[enriched_tads_df['n_adhesome_genes']>0]\n",
    "enriched_tads_df.head()"
   ]
  },
  {
   "cell_type": "code",
   "execution_count": 25,
   "metadata": {},
   "outputs": [
    {
     "name": "stdout",
     "output_type": "stream",
     "text": [
      "Total number of loci = 4443\n",
      "Number of loci in cluster 0 = 2584\n",
      "Number of loci in cluster 1 = 1859\n"
     ]
    },
    {
     "data": {
      "text/plain": [
       "<Figure size 432x288 with 0 Axes>"
      ]
     },
     "metadata": {},
     "output_type": "display_data"
    },
    {
     "data": {
      "image/png": "[encoded data removed]",
      "text/plain": [
       "<Figure size 1440x360 with 5 Axes>"
      ]
     },
     "metadata": {
      "needs_background": "light"
     },
     "output_type": "display_data"
    },
    {
     "data": {
      "image/png": "[encoded data removed]",
      "text/plain": [
       "<Figure size 432x288 with 1 Axes>"
      ]
     },
     "metadata": {
      "needs_background": "light"
     },
     "output_type": "display_data"
    }
   ],
   "source": [
    "# Visualize TADs\n",
    "tads_cistromic_df = enriched_tads_df.iloc[:, 10:].copy()\n",
    "tads_cistromic_df.index.name = 'TADs'\n",
    "\n",
    "# Hierarchical clustering\n",
    "clustering = AgglomerativeClustering(n_clusters=2, affinity='cosine', linkage='average').fit(tads_cistromic_df)\n",
    "print('Total number of loci = '+str(len(clustering.labels_)))\n",
    "print('Number of loci in cluster 0 = '+str(np.sum(clustering.labels_==0)))\n",
    "print('Number of loci in cluster 1 = '+str(np.sum(clustering.labels_==1)))\n",
    "\n",
    "# Plot clustered heatmap\n",
    "color_clusters = np.array(['dodgerblue', 'orange'])\n",
    "plt.figure()\n",
    "sns.clustermap(\n",
    "    data=tads_cistromic_df.astype(float),\n",
    "    metric='cosine',\n",
    "    method='average',\n",
    "    row_colors=color_clusters[clustering.labels_],\n",
    "    cmap='bwr', \n",
    "    vmin=-np.abs(tads_cistromic_df).max().max(), \n",
    "    vmax=np.abs(tads_cistromic_df).max().max(),\n",
    "    dendrogram_ratio=0.05,\n",
    "    xticklabels=True,\n",
    "    yticklabels=False,\n",
    "    cbar_pos=(1, 0.2, 0.01, 0.75),\n",
    "    figsize=(20,5)\n",
    ")\n",
    "plt.show()\n",
    "\n",
    "# Plot distribution of RNAseq in both clusters\n",
    "tads_cistromic_df.loc[:, 'TAD cluster'] = clustering.labels_\n",
    "plt.figure()\n",
    "sns.histplot(data=tads_cistromic_df, x='rnaseq', hue='TAD cluster')\n",
    "plt.xlabel('Length-adjusted RNAseq expression')\n",
    "plt.ylabel('Count')\n",
    "plt.show()"
   ]
  },
  {
   "cell_type": "code",
   "execution_count": 26,
   "metadata": {},
   "outputs": [
    {
     "data": {
      "image/png": "[encoded data removed]",
      "text/plain": [
       "<Figure size 1440x360 with 1 Axes>"
      ]
     },
     "metadata": {
      "needs_background": "light"
     },
     "output_type": "display_data"
    }
   ],
   "source": [
    "# Segment TADs by chromosome, size, transcription\n",
    "tads_segmentation_df = enriched_tads_df[['chrom', 'length', 'rnaseq']].copy()\n",
    "tads_segmentation_df.loc[:, 'length'] = (tads_segmentation_df['length']/1000)\n",
    "tads_segmentation_df.loc[:, 'chrom'] = 'chr'+tads_segmentation_df['chrom'].astype(str)\n",
    "\n",
    "plt.figure(figsize=(20, 5))\n",
    "sns.scatterplot(\n",
    "    data=tads_segmentation_df, \n",
    "    x='length', \n",
    "    y='rnaseq', \n",
    "    hue='chrom',\n",
    "    s=5,\n",
    ")\n",
    "plt.xlabel('TAD length (kb)')\n",
    "plt.ylabel('TAD expression level')\n",
    "plt.legend(loc='upper right', ncol=2)\n",
    "plt.show()"
   ]
  },
  {
   "cell_type": "markdown",
   "metadata": {},
   "source": [
    "## Interchromosomal contacts"
   ]
  },
  {
   "cell_type": "code",
   "execution_count": 27,
   "metadata": {},
   "outputs": [],
   "source": [
    "# Function to retrieve Hi-C contacts between 2 TADs\n",
    "def retrieve_tad_contact(tad_idx1, tad_idx2, enriched_tads_df, balanced_hic_dir, blacklist_list):\n",
    "    \n",
    "    # TAD1\n",
    "    chrom1 = enriched_tads_df.loc[tad_idx1, 'chrom']\n",
    "    start1 = enriched_tads_df.loc[tad_idx1, 'start']\n",
    "    end1 = enriched_tads_df.loc[tad_idx1, 'end']\n",
    "    loci1 = enriched_tads_df.loc[tad_idx1, 'loci']\n",
    "    loci1 = list(set(loci1)-set(blacklist_list))\n",
    "\n",
    "    # TAD2\n",
    "    chrom2 = enriched_tads_df.loc[tad_idx2, 'chrom']\n",
    "    start2 = enriched_tads_df.loc[tad_idx2, 'start']\n",
    "    end2 = enriched_tads_df.loc[tad_idx2, 'end']\n",
    "    loci2 = enriched_tads_df.loc[tad_idx2, 'loci']\n",
    "    loci2 = list(set(loci2)-set(blacklist_list))\n",
    "    \n",
    "    # Access Hi-C\n",
    "    processed_hic_filename = 'hic_'+'chr'+str(chrom1)+'_'+'chr'+str(chrom2)+'_norm1_filter3'+'.pkl'\n",
    "    with open(balanced_hic_dir+processed_hic_filename, 'rb') as f:\n",
    "        hic_chpair_df = pickle.load(f)\n",
    "        \n",
    "    # Fill in corresponding submatrix of gene_contacts_df by sum of Hi-C contacts across all gene loci\n",
    "    contacts_ls = []\n",
    "    locus_id_pairs = itertools.product(loci1, loci2)\n",
    "    for locus1_id, locus2_id in locus_id_pairs:\n",
    "        locus1 = int(locus1_id.split('_')[2])\n",
    "        locus2 = int(locus2_id.split('_')[2])\n",
    "        contacts_ls.append(hic_chpair_df.loc[locus1, locus2])\n",
    "    avg_contact = np.average(contacts_ls)\n",
    "    return(avg_contact)"
   ]
  },
  {
   "cell_type": "code",
   "execution_count": 28,
   "metadata": {},
   "outputs": [
    {
     "data": {
      "application/vnd.jupyter.widget-view+json": {
       "model_id": "6aaa26b53af3424cbe2f6aa53fd72670",
       "version_major": 2,
       "version_minor": 0
      },
      "text/plain": [
       "HBox(children=(IntProgress(value=0, max=8911), HTML(value='')))"
      ]
     },
     "metadata": {},
     "output_type": "display_data"
    },
    {
     "name": "stdout",
     "output_type": "stream",
     "text": [
      "\n"
     ]
    }
   ],
   "source": [
    "# Build matrix of Hi-C contacts between adhesome TADs\n",
    "adhesome_tads_contacts = pd.DataFrame(\n",
    "    0, \n",
    "    index=enriched_adhesome_tads_df.index, \n",
    "    columns=enriched_adhesome_tads_df.index\n",
    ")\n",
    "for idx1, idx2 in tqdm(list(itertools.combinations(enriched_adhesome_tads_df.index, 2))):\n",
    "    adhesome_tads_contacts.loc[idx1, idx2] = retrieve_tad_contact(\n",
    "        idx1, \n",
    "        idx2, \n",
    "        enriched_adhesome_tads_df, \n",
    "        balanced_hic_dir,\n",
    "        blacklist_list\n",
    "    )\n",
    "adhesome_tads_contacts = adhesome_tads_contacts+adhesome_tads_contacts.T\n",
    "adhesome_tads_contacts.index.name = 'Adhesome TADs'\n",
    "adhesome_tads_contacts.columns.name = 'Adhesome TADs'"
   ]
  },
  {
   "cell_type": "code",
   "execution_count": 29,
   "metadata": {},
   "outputs": [
    {
     "data": {
      "text/plain": [
       "<Figure size 432x288 with 0 Axes>"
      ]
     },
     "metadata": {},
     "output_type": "display_data"
    },
    {
     "data": {
      "image/png": "[encoded data removed]",
      "text/plain": [
       "<Figure size 576x504 with 6 Axes>"
      ]
     },
     "metadata": {
      "needs_background": "light"
     },
     "output_type": "display_data"
    }
   ],
   "source": [
    "# Plot adhesome TADs Hi-C contacts\n",
    "plt.figure()\n",
    "cluster_map = sns.clustermap(\n",
    "    data=adhesome_tads_contacts,\n",
    "    cmap='Reds',\n",
    "    vmin=0,\n",
    "    vmax=adhesome_tads_contacts.max().max(),\n",
    "    cbar_pos=(1, 0.05, 0.03, 0.75),\n",
    "    row_cluster=False,\n",
    "    col_cluster=False,\n",
    "    row_colors=[colors_dict[c] for c in [int(tad.split('_')[1][3:]) for tad in adhesome_tads_contacts.index]],\n",
    "    col_colors=[colors_dict[c] for c in [int(tad.split('_')[1][3:]) for tad in adhesome_tads_contacts.index]],\n",
    "    xticklabels=False,\n",
    "    yticklabels=False,\n",
    "    figsize=(8, 7)\n",
    ")\n",
    "\n",
    "# Create legend handles and labels\n",
    "legend_elements = [Patch(facecolor=colors_dict[c], edgecolor='k') for c in chrom_list]\n",
    "\n",
    "# Add legend\n",
    "plt.legend(\n",
    "    handles=legend_elements, \n",
    "    labels=map(str, chrom_list), \n",
    "    title='Chromosome', \n",
    "    loc='center left', \n",
    "    bbox_to_anchor=(2, 0.5)\n",
    ")\n",
    "\n",
    "# Show the plot\n",
    "plt.show()\n"
   ]
  },
  {
   "cell_type": "markdown",
   "metadata": {},
   "source": [
    "# Create TADs background distribution"
   ]
  },
  {
   "cell_type": "markdown",
   "metadata": {},
   "source": [
    "## Segment TAD by chromosome, size, transcription level"
   ]
  },
  {
   "cell_type": "code",
   "execution_count": 57,
   "metadata": {},
   "outputs": [
    {
     "data": {
      "text/html": [
       "<div>\n",
       "<style scoped>\n",
       "    .dataframe tbody tr th:only-of-type {\n",
       "        vertical-align: middle;\n",
       "    }\n",
       "\n",
       "    .dataframe tbody tr th {\n",
       "        vertical-align: top;\n",
       "    }\n",
       "\n",
       "    .dataframe thead th {\n",
       "        text-align: right;\n",
       "    }\n",
       "</style>\n",
       "<table border=\"1\" class=\"dataframe\">\n",
       "  <thead>\n",
       "    <tr style=\"text-align: right;\">\n",
       "      <th></th>\n",
       "      <th>chrom</th>\n",
       "      <th>length</th>\n",
       "      <th>rnaseq</th>\n",
       "      <th>n_adhesome_genes</th>\n",
       "    </tr>\n",
       "    <tr>\n",
       "      <th>name</th>\n",
       "      <th></th>\n",
       "      <th></th>\n",
       "      <th></th>\n",
       "      <th></th>\n",
       "    </tr>\n",
       "  </thead>\n",
       "  <tbody>\n",
       "    <tr>\n",
       "      <th>tad_chr1_1060001_1165000</th>\n",
       "      <td>chr1</td>\n",
       "      <td>105000</td>\n",
       "      <td>0.738828</td>\n",
       "      <td>0</td>\n",
       "    </tr>\n",
       "    <tr>\n",
       "      <th>tad_chr1_165375001_165555000</th>\n",
       "      <td>chr1</td>\n",
       "      <td>180000</td>\n",
       "      <td>-3.590231</td>\n",
       "      <td>0</td>\n",
       "    </tr>\n",
       "    <tr>\n",
       "      <th>tad_chr1_164555001_164760000</th>\n",
       "      <td>chr1</td>\n",
       "      <td>205000</td>\n",
       "      <td>0.174066</td>\n",
       "      <td>0</td>\n",
       "    </tr>\n",
       "    <tr>\n",
       "      <th>tad_chr1_163150001_163280000</th>\n",
       "      <td>chr1</td>\n",
       "      <td>130000</td>\n",
       "      <td>-0.220223</td>\n",
       "      <td>0</td>\n",
       "    </tr>\n",
       "    <tr>\n",
       "      <th>tad_chr1_163050001_163140000</th>\n",
       "      <td>chr1</td>\n",
       "      <td>90000</td>\n",
       "      <td>0.053899</td>\n",
       "      <td>0</td>\n",
       "    </tr>\n",
       "  </tbody>\n",
       "</table>\n",
       "</div>"
      ],
      "text/plain": [
       "                             chrom  length    rnaseq  n_adhesome_genes\n",
       "name                                                                  \n",
       "tad_chr1_1060001_1165000      chr1  105000  0.738828                 0\n",
       "tad_chr1_165375001_165555000  chr1  180000 -3.590231                 0\n",
       "tad_chr1_164555001_164760000  chr1  205000  0.174066                 0\n",
       "tad_chr1_163150001_163280000  chr1  130000 -0.220223                 0\n",
       "tad_chr1_163050001_163140000  chr1   90000  0.053899                 0"
      ]
     },
     "execution_count": 57,
     "metadata": {},
     "output_type": "execute_result"
    }
   ],
   "source": [
    "# Select relevant parameters\n",
    "tads_segmentation_df = enriched_tads_df[['chrom', 'length', 'rnaseq', 'n_adhesome_genes']].copy()\n",
    "tads_segmentation_df.loc[:, 'chrom'] = 'chr'+tads_segmentation_df['chrom'].astype(str)\n",
    "tads_segmentation_df.head()"
   ]
  },
  {
   "cell_type": "code",
   "execution_count": 58,
   "metadata": {},
   "outputs": [
    {
     "data": {
      "image/png": "[encoded data removed]",
      "text/plain": [
       "<Figure size 720x216 with 1 Axes>"
      ]
     },
     "metadata": {
      "needs_background": "light"
     },
     "output_type": "display_data"
    }
   ],
   "source": [
    "# Distribution of TAD lengths\n",
    "delta_length = 50000\n",
    "plt.figure(figsize=(10,3))\n",
    "h = sns.histplot(\n",
    "    data=tads_segmentation_df,\n",
    "    x='length',\n",
    "    bins=np.arange(0, tads_segmentation_df['length'].max()+1, delta_length)\n",
    ")\n",
    "for b in np.arange(0, tads_segmentation_df['length'].max()+1, delta_length):\n",
    "    plt.vlines(\n",
    "        x=b, \n",
    "        ymin=0, \n",
    "        ymax=max([p.get_height() for p in h.patches]), \n",
    "        color='red', \n",
    "        linestyle='dashed', \n",
    "        alpha=0.5\n",
    "    )\n",
    "plt.yscale('log')\n",
    "plt.xlabel('TAD length')\n",
    "plt.ylabel('Count')\n",
    "plt.show()"
   ]
  },
  {
   "cell_type": "code",
   "execution_count": 59,
   "metadata": {},
   "outputs": [
    {
     "data": {
      "image/png": "[encoded data removed]",
      "text/plain": [
       "<Figure size 720x216 with 1 Axes>"
      ]
     },
     "metadata": {
      "needs_background": "light"
     },
     "output_type": "display_data"
    }
   ],
   "source": [
    "# Distribution of TAD expression\n",
    "delta_rnaseq = 0.2\n",
    "plt.figure(figsize=(10,3))\n",
    "h = sns.histplot(\n",
    "    data=tads_segmentation_df,\n",
    "    x='rnaseq',\n",
    "    bins=np.arange(tads_segmentation_df['rnaseq'].min(), tads_segmentation_df['rnaseq'].max()+0.1, delta_rnaseq)\n",
    ")\n",
    "for b in np.arange(tads_segmentation_df['rnaseq'].min(), tads_segmentation_df['rnaseq'].max()+0.1, delta_rnaseq):\n",
    "    plt.vlines(\n",
    "        x=b, \n",
    "        ymin=0, \n",
    "        ymax=max([p.get_height() for p in h.patches]), \n",
    "        color='red', \n",
    "        linestyle='dashed', \n",
    "        alpha=0.5\n",
    "    )\n",
    "# plt.yscale('log')\n",
    "plt.xlabel('Length-normalized TAD expression')\n",
    "plt.ylabel('Count')\n",
    "plt.show()"
   ]
  },
  {
   "cell_type": "code",
   "execution_count": 60,
   "metadata": {},
   "outputs": [
    {
     "data": {
      "text/html": [
       "<div>\n",
       "<style scoped>\n",
       "    .dataframe tbody tr th:only-of-type {\n",
       "        vertical-align: middle;\n",
       "    }\n",
       "\n",
       "    .dataframe tbody tr th {\n",
       "        vertical-align: top;\n",
       "    }\n",
       "\n",
       "    .dataframe thead th {\n",
       "        text-align: right;\n",
       "    }\n",
       "</style>\n",
       "<table border=\"1\" class=\"dataframe\">\n",
       "  <thead>\n",
       "    <tr style=\"text-align: right;\">\n",
       "      <th></th>\n",
       "      <th>chrom</th>\n",
       "      <th>length</th>\n",
       "      <th>rnaseq</th>\n",
       "      <th>n_adhesome_genes</th>\n",
       "      <th>length_bucket</th>\n",
       "      <th>rnaseq_bucket</th>\n",
       "    </tr>\n",
       "    <tr>\n",
       "      <th>name</th>\n",
       "      <th></th>\n",
       "      <th></th>\n",
       "      <th></th>\n",
       "      <th></th>\n",
       "      <th></th>\n",
       "      <th></th>\n",
       "    </tr>\n",
       "  </thead>\n",
       "  <tbody>\n",
       "    <tr>\n",
       "      <th>tad_chr1_1060001_1165000</th>\n",
       "      <td>chr1</td>\n",
       "      <td>105000</td>\n",
       "      <td>0.738828</td>\n",
       "      <td>0</td>\n",
       "      <td>2</td>\n",
       "      <td>3</td>\n",
       "    </tr>\n",
       "    <tr>\n",
       "      <th>tad_chr1_165375001_165555000</th>\n",
       "      <td>chr1</td>\n",
       "      <td>180000</td>\n",
       "      <td>-3.590231</td>\n",
       "      <td>0</td>\n",
       "      <td>3</td>\n",
       "      <td>-18</td>\n",
       "    </tr>\n",
       "    <tr>\n",
       "      <th>tad_chr1_164555001_164760000</th>\n",
       "      <td>chr1</td>\n",
       "      <td>205000</td>\n",
       "      <td>0.174066</td>\n",
       "      <td>0</td>\n",
       "      <td>4</td>\n",
       "      <td>0</td>\n",
       "    </tr>\n",
       "    <tr>\n",
       "      <th>tad_chr1_163150001_163280000</th>\n",
       "      <td>chr1</td>\n",
       "      <td>130000</td>\n",
       "      <td>-0.220223</td>\n",
       "      <td>0</td>\n",
       "      <td>2</td>\n",
       "      <td>-2</td>\n",
       "    </tr>\n",
       "    <tr>\n",
       "      <th>tad_chr1_163050001_163140000</th>\n",
       "      <td>chr1</td>\n",
       "      <td>90000</td>\n",
       "      <td>0.053899</td>\n",
       "      <td>0</td>\n",
       "      <td>1</td>\n",
       "      <td>0</td>\n",
       "    </tr>\n",
       "  </tbody>\n",
       "</table>\n",
       "</div>"
      ],
      "text/plain": [
       "                             chrom  length    rnaseq  n_adhesome_genes  \\\n",
       "name                                                                     \n",
       "tad_chr1_1060001_1165000      chr1  105000  0.738828                 0   \n",
       "tad_chr1_165375001_165555000  chr1  180000 -3.590231                 0   \n",
       "tad_chr1_164555001_164760000  chr1  205000  0.174066                 0   \n",
       "tad_chr1_163150001_163280000  chr1  130000 -0.220223                 0   \n",
       "tad_chr1_163050001_163140000  chr1   90000  0.053899                 0   \n",
       "\n",
       "                              length_bucket  rnaseq_bucket  \n",
       "name                                                        \n",
       "tad_chr1_1060001_1165000                  2              3  \n",
       "tad_chr1_165375001_165555000              3            -18  \n",
       "tad_chr1_164555001_164760000              4              0  \n",
       "tad_chr1_163150001_163280000              2             -2  \n",
       "tad_chr1_163050001_163140000              1              0  "
      ]
     },
     "execution_count": 60,
     "metadata": {},
     "output_type": "execute_result"
    }
   ],
   "source": [
    "# Segment\n",
    "tads_segmentation_df.loc[:, 'length_bucket'] = (tads_segmentation_df['length']//delta_length).astype(int)\n",
    "tads_segmentation_df.loc[:, 'rnaseq_bucket'] = (tads_segmentation_df['rnaseq']//delta_rnaseq).astype(int)\n",
    "tads_segmentation_df.head()"
   ]
  },
  {
   "cell_type": "markdown",
   "metadata": {},
   "source": [
    "## Comparison of adhesome TAD Hi-C with random TAD HiC"
   ]
  },
  {
   "cell_type": "code",
   "execution_count": 61,
   "metadata": {},
   "outputs": [],
   "source": [
    "# Function to sample a random sample of TADs controlling for chromosome, size, and expression\n",
    "def sample_tads(tads_segmentation_df, enriched_adhesome_tads_df, delta_length, delta_rnaseq):\n",
    "    \n",
    "    adhesome_tads_list = enriched_adhesome_tads_df.index.values\n",
    "    \n",
    "    random_tad_list = []\n",
    "    for tad in enriched_adhesome_tads_df.index:\n",
    "        # Characteristics of the chosen TAD\n",
    "        tad_chrom = enriched_adhesome_tads_df.loc[tad, 'chrom']\n",
    "        tad_length_bucket = int(enriched_adhesome_tads_df.loc[tad, 'length']/delta_length)\n",
    "        tad_rnaseq_bucket = int(enriched_adhesome_tads_df.loc[tad, 'rnaseq']/delta_rnaseq)\n",
    "\n",
    "        # Identify TAD pool to choose from\n",
    "        tad_pool = tads_segmentation_df[\n",
    "            (tads_segmentation_df['chrom']=='chr'+str(tad_chrom)) &\n",
    "            (tads_segmentation_df['length_bucket']==tad_length_bucket) &\n",
    "            (tads_segmentation_df['rnaseq_bucket']==tad_rnaseq_bucket) &\n",
    "            (~tads_segmentation_df.index.isin(adhesome_tads_list))\n",
    "        ].index.values\n",
    "        # If the TAD pool is empty, widen the buckets\n",
    "        slack = 1\n",
    "        while (tad_pool.shape[0]==0):\n",
    "            extended_length_bucket = np.arange(tad_length_bucket-slack, tad_length_bucket+slack, slack)\n",
    "            extended_rnaseq_bucket = np.arange(tad_rnaseq_bucket-slack, tad_rnaseq_bucket+slack, slack)\n",
    "            tad_pool = tads_segmentation_df[\n",
    "                (tads_segmentation_df['chrom']=='chr'+str(tad_chrom)) &\n",
    "                (tads_segmentation_df['length_bucket'].isin(extended_length_bucket)) &\n",
    "                (tads_segmentation_df['rnaseq_bucket'].isin(extended_rnaseq_bucket))\n",
    "            ].index.values\n",
    "            slack = slack+1\n",
    "\n",
    "        # Randomly sample TAD and add it to the list\n",
    "        random_tad = np.random.choice(tad_pool)\n",
    "        random_tad_list.append(random_tad)\n",
    "    return(random_tad_list)"
   ]
  },
  {
   "cell_type": "code",
   "execution_count": 62,
   "metadata": {},
   "outputs": [
    {
     "data": {
      "application/vnd.jupyter.widget-view+json": {
       "model_id": "4956ba9236004f869d62729fe2181799",
       "version_major": 2,
       "version_minor": 0
      },
      "text/plain": [
       "HBox(children=(IntProgress(value=0, max=8911), HTML(value='')))"
      ]
     },
     "metadata": {},
     "output_type": "display_data"
    },
    {
     "name": "stdout",
     "output_type": "stream",
     "text": [
      "\n"
     ]
    }
   ],
   "source": [
    "# Sample random TAD list\n",
    "random_tads = sample_tads(tads_segmentation_df, enriched_adhesome_tads_df, delta_length, delta_rnaseq)\n",
    "\n",
    "# Build matrix of Hi-C contacts between random TADs\n",
    "tads_contacts = pd.DataFrame(\n",
    "    0, \n",
    "    index=random_tads, \n",
    "    columns=random_tads\n",
    ")\n",
    "for idx1, idx2 in tqdm(list(itertools.combinations(random_tads, 2))):\n",
    "    tads_contacts.loc[idx1, idx2] = retrieve_tad_contact(\n",
    "        idx1, \n",
    "        idx2, \n",
    "        enriched_tads_df, \n",
    "        balanced_hic_dir,\n",
    "        blacklist_list\n",
    "    )\n",
    "tads_contacts = tads_contacts+tads_contacts.T\n",
    "tads_contacts.index.name = 'Random TADs'\n",
    "tads_contacts.columns.name = 'Random TADs'"
   ]
  },
  {
   "cell_type": "code",
   "execution_count": 63,
   "metadata": {
    "code_folding": []
   },
   "outputs": [
    {
     "data": {
      "text/plain": [
       "<Figure size 432x288 with 0 Axes>"
      ]
     },
     "metadata": {},
     "output_type": "display_data"
    },
    {
     "data": {
      "image/png": "[encoded data removed]",
      "text/plain": [
       "<Figure size 576x504 with 6 Axes>"
      ]
     },
     "metadata": {
      "needs_background": "light"
     },
     "output_type": "display_data"
    }
   ],
   "source": [
    "# Plot random TADs Hi-C contacts\n",
    "plt.figure()\n",
    "cluster_map = sns.clustermap(\n",
    "    data=tads_contacts,\n",
    "    cmap='Reds',\n",
    "    vmin=0,\n",
    "    vmax=adhesome_tads_contacts.max().max(),\n",
    "    cbar_pos=(1, 0.05, 0.03, 0.75),\n",
    "    row_cluster=False,\n",
    "    col_cluster=False,\n",
    "    row_colors=[colors_dict[c] for c in [int(tad.split('_')[1][3:]) for tad in tads_contacts.index]],\n",
    "    col_colors=[colors_dict[c] for c in [int(tad.split('_')[1][3:]) for tad in tads_contacts.index]],\n",
    "    xticklabels=False,\n",
    "    yticklabels=False,\n",
    "    figsize=(8, 7)\n",
    ")\n",
    "\n",
    "# Create legend handles and labels\n",
    "legend_elements = [Patch(facecolor=colors_dict[c], edgecolor='k') for c in chrom_list]\n",
    "\n",
    "# Add legend\n",
    "plt.legend(\n",
    "    handles=legend_elements, \n",
    "    labels=map(str, chrom_list), \n",
    "    title='Chromosome', \n",
    "    loc='center left', \n",
    "    bbox_to_anchor=(2, 0.5)\n",
    ")\n",
    "\n",
    "# Show the plot\n",
    "plt.show()\n"
   ]
  },
  {
   "cell_type": "code",
   "execution_count": 69,
   "metadata": {},
   "outputs": [],
   "source": [
    "# Prepare random contact distributions\n",
    "\n",
    "# Unstack contacts\n",
    "tads_contacts_unstacked = tads_contacts.stack().to_frame('hic')\n",
    "tads_contacts_unstacked.index.names = ['tad1', 'tad2']\n",
    "tads_contacts_unstacked = tads_contacts_unstacked.reset_index()\n",
    "\n",
    "# Add information on chromosomes of each pair of TADs\n",
    "tads_contacts_unstacked.loc[:, 'tad1_chrom'] = tads_contacts_unstacked['tad1'].str.split('_', expand=True)[1]\n",
    "tads_contacts_unstacked.loc[:, 'tad1_chrom'] = tads_contacts_unstacked['tad1_chrom'].str.strip('chr').astype(int)\n",
    "tads_contacts_unstacked.loc[:, 'tad2_chrom'] = tads_contacts_unstacked['tad2'].str.split('_', expand=True)[1]\n",
    "tads_contacts_unstacked.loc[:, 'tad2_chrom'] = tads_contacts_unstacked['tad2_chrom'].str.strip('chr').astype(int)\n",
    "\n",
    "# Remove duplicate values\n",
    "tads_contacts_unstacked = tads_contacts_unstacked[\n",
    "    tads_contacts_unstacked['tad1_chrom'] <= tads_contacts_unstacked['tad2_chrom']\n",
    "]\n",
    "\n",
    "# Label interchromosomal and intrachromosomal interactions\n",
    "tads_contacts_unstacked.loc[:, \"Type\"] = tads_contacts_unstacked.apply(\n",
    "    lambda row: 'Random intrachromosomal' if (row['tad1_chrom']==row['tad2_chrom']) else 'Random interchromosomal', \n",
    "    axis=1\n",
    ")"
   ]
  },
  {
   "cell_type": "code",
   "execution_count": 70,
   "metadata": {},
   "outputs": [],
   "source": [
    "# Prepare adhesome contact distributions\n",
    "\n",
    "# Unstack contacts\n",
    "adhesome_tads_contacts_unstacked = adhesome_tads_contacts.stack().to_frame('hic')\n",
    "adhesome_tads_contacts_unstacked.index.names = ['tad1', 'tad2']\n",
    "adhesome_tads_contacts_unstacked = adhesome_tads_contacts_unstacked.reset_index()\n",
    "\n",
    "# Add information on chromosomes of each pair of TADs\n",
    "adhesome_tads_contacts_unstacked.loc[:, 'tad1_chrom'] = adhesome_tads_contacts_unstacked['tad1'].str.split('_', expand=True)[1]\n",
    "adhesome_tads_contacts_unstacked.loc[:, 'tad1_chrom'] = adhesome_tads_contacts_unstacked['tad1_chrom'].str.strip('chr').astype(int)\n",
    "adhesome_tads_contacts_unstacked.loc[:, 'tad2_chrom'] = adhesome_tads_contacts_unstacked['tad2'].str.split('_', expand=True)[1]\n",
    "adhesome_tads_contacts_unstacked.loc[:, 'tad2_chrom'] = adhesome_tads_contacts_unstacked['tad2_chrom'].str.strip('chr').astype(int)\n",
    "\n",
    "# Remove duplicate values\n",
    "adhesome_tads_contacts_unstacked = adhesome_tads_contacts_unstacked[\n",
    "    adhesome_tads_contacts_unstacked['tad1_chrom'] <= adhesome_tads_contacts_unstacked['tad2_chrom']\n",
    "]\n",
    "\n",
    "# Label interchromosomal and intrachromosomal interactions\n",
    "adhesome_tads_contacts_unstacked.loc[:, \"Type\"] = adhesome_tads_contacts_unstacked.apply(\n",
    "    lambda row: 'Adhesome intrachromosomal' if (row['tad1_chrom']==row['tad2_chrom']) else 'Adhesome interchromosomal', \n",
    "    axis=1\n",
    ")"
   ]
  },
  {
   "cell_type": "code",
   "execution_count": 71,
   "metadata": {},
   "outputs": [
    {
     "data": {
      "image/png": "[encoded data removed]",
      "text/plain": [
       "<Figure size 720x216 with 1 Axes>"
      ]
     },
     "metadata": {
      "needs_background": "light"
     },
     "output_type": "display_data"
    },
    {
     "name": "stdout",
     "output_type": "stream",
     "text": [
      "WRS p-value for interchromosomal contacts between TADs = 1.2588798329138544e-267\n",
      "WRS p-value for interchromosomal contacts between TADs = 2.01349135929361e-15\n"
     ]
    }
   ],
   "source": [
    "# Compare contact distributions\n",
    "combined_unstacked = pd.concat([tads_contacts_unstacked, adhesome_tads_contacts_unstacked], axis=0)\n",
    "combined_unstacked = combined_unstacked.reset_index(drop=True)\n",
    "\n",
    "plt.figure(figsize=(10, 3))\n",
    "sns.histplot(\n",
    "    data=combined_unstacked,\n",
    "    x='hic',\n",
    "    hue='Type',\n",
    "    bins=np.arange(0, combined_unstacked['hic'].max(), 0.1),\n",
    "    palette={\n",
    "        'Adhesome interchromosomal': 'cornflowerblue', \n",
    "        'Random interchromosomal': 'orange',\n",
    "        'Adhesome intrachromosomal': 'navy',\n",
    "        'Random intrachromosomal': 'red'\n",
    "    }\n",
    ")\n",
    "plt.xlim(0,10)\n",
    "plt.xlabel('Hi-C')\n",
    "plt.ylabel('Count')\n",
    "plt.show()\n",
    "\n",
    "# Wilcoxon Ranks Sum test for interchromosomal and intrachromosomal\n",
    "stat, pval = ss.ranksums(\n",
    "    x=combined_unstacked[combined_unstacked['Type']=='Adhesome interchromosomal']['hic'].values,\n",
    "    y=combined_unstacked[combined_unstacked['Type']=='Random interchromosomal']['hic'].values,\n",
    "    alternative='two-sided'\n",
    ")\n",
    "print(f\"WRS p-value for interchromosomal contacts between TADs = {pval}\")\n",
    "stat, pval = ss.ranksums(\n",
    "    x=combined_unstacked[combined_unstacked['Type']=='Adhesome intrachromosomal']['hic'].values,\n",
    "    y=combined_unstacked[combined_unstacked['Type']=='Random intrachromosomal']['hic'].values,\n",
    "    alternative='two-sided'\n",
    ")\n",
    "print(f\"WRS p-value for interchromosomal contacts between TADs = {pval}\")"
   ]
  },
  {
   "cell_type": "markdown",
   "metadata": {},
   "source": [
    "## Compare adhesome to multiple random samples and report WRS p-values"
   ]
  },
  {
   "cell_type": "code",
   "execution_count": 42,
   "metadata": {},
   "outputs": [
    {
     "name": "stdout",
     "output_type": "stream",
     "text": [
      "Processing repetition 1\n"
     ]
    },
    {
     "data": {
      "application/vnd.jupyter.widget-view+json": {
       "model_id": "086b9901aabc471faab0ef3542cd8120",
       "version_major": 2,
       "version_minor": 0
      },
      "text/plain": [
       "HBox(children=(IntProgress(value=0, max=8911), HTML(value='')))"
      ]
     },
     "metadata": {},
     "output_type": "display_data"
    },
    {
     "name": "stdout",
     "output_type": "stream",
     "text": [
      "\n",
      "Processing repetition 2\n"
     ]
    },
    {
     "data": {
      "application/vnd.jupyter.widget-view+json": {
       "model_id": "50067943a9504a0eb055194300066c69",
       "version_major": 2,
       "version_minor": 0
      },
      "text/plain": [
       "HBox(children=(IntProgress(value=0, max=8911), HTML(value='')))"
      ]
     },
     "metadata": {},
     "output_type": "display_data"
    },
    {
     "name": "stdout",
     "output_type": "stream",
     "text": [
      "\n",
      "Processing repetition 3\n"
     ]
    },
    {
     "data": {
      "application/vnd.jupyter.widget-view+json": {
       "model_id": "9336cc87a041440ca55dd895ce6c67e2",
       "version_major": 2,
       "version_minor": 0
      },
      "text/plain": [
       "HBox(children=(IntProgress(value=0, max=8911), HTML(value='')))"
      ]
     },
     "metadata": {},
     "output_type": "display_data"
    },
    {
     "name": "stdout",
     "output_type": "stream",
     "text": [
      "\n",
      "Processing repetition 4\n"
     ]
    },
    {
     "data": {
      "application/vnd.jupyter.widget-view+json": {
       "model_id": "b5ff6b990995485b9e5ebd9d7d54aad2",
       "version_major": 2,
       "version_minor": 0
      },
      "text/plain": [
       "HBox(children=(IntProgress(value=0, max=8911), HTML(value='')))"
      ]
     },
     "metadata": {},
     "output_type": "display_data"
    },
    {
     "name": "stdout",
     "output_type": "stream",
     "text": [
      "\n",
      "Processing repetition 5\n"
     ]
    },
    {
     "data": {
      "application/vnd.jupyter.widget-view+json": {
       "model_id": "cc798f72f9ae48b9a6091dda0f7e2261",
       "version_major": 2,
       "version_minor": 0
      },
      "text/plain": [
       "HBox(children=(IntProgress(value=0, max=8911), HTML(value='')))"
      ]
     },
     "metadata": {},
     "output_type": "display_data"
    },
    {
     "name": "stdout",
     "output_type": "stream",
     "text": [
      "\n",
      "Processing repetition 6\n"
     ]
    },
    {
     "data": {
      "application/vnd.jupyter.widget-view+json": {
       "model_id": "379ba8cf5608465697ffe5153f64bc45",
       "version_major": 2,
       "version_minor": 0
      },
      "text/plain": [
       "HBox(children=(IntProgress(value=0, max=8911), HTML(value='')))"
      ]
     },
     "metadata": {},
     "output_type": "display_data"
    },
    {
     "name": "stdout",
     "output_type": "stream",
     "text": [
      "\n",
      "Processing repetition 7\n"
     ]
    },
    {
     "data": {
      "application/vnd.jupyter.widget-view+json": {
       "model_id": "2c931c6584ad4666a8be26b6ece2c2d6",
       "version_major": 2,
       "version_minor": 0
      },
      "text/plain": [
       "HBox(children=(IntProgress(value=0, max=8911), HTML(value='')))"
      ]
     },
     "metadata": {},
     "output_type": "display_data"
    },
    {
     "name": "stdout",
     "output_type": "stream",
     "text": [
      "\n",
      "Processing repetition 8\n"
     ]
    },
    {
     "data": {
      "application/vnd.jupyter.widget-view+json": {
       "model_id": "17ba6414b30c44e7987c47f5589a0e3c",
       "version_major": 2,
       "version_minor": 0
      },
      "text/plain": [
       "HBox(children=(IntProgress(value=0, max=8911), HTML(value='')))"
      ]
     },
     "metadata": {},
     "output_type": "display_data"
    },
    {
     "name": "stdout",
     "output_type": "stream",
     "text": [
      "\n",
      "Processing repetition 9\n"
     ]
    },
    {
     "data": {
      "application/vnd.jupyter.widget-view+json": {
       "model_id": "a964e236faaf468e98bf65e502f3a166",
       "version_major": 2,
       "version_minor": 0
      },
      "text/plain": [
       "HBox(children=(IntProgress(value=0, max=8911), HTML(value='')))"
      ]
     },
     "metadata": {},
     "output_type": "display_data"
    },
    {
     "name": "stdout",
     "output_type": "stream",
     "text": [
      "\n",
      "Processing repetition 10\n"
     ]
    },
    {
     "data": {
      "application/vnd.jupyter.widget-view+json": {
       "model_id": "1fa7a6fdf22c4e31ab753d134ef30deb",
       "version_major": 2,
       "version_minor": 0
      },
      "text/plain": [
       "HBox(children=(IntProgress(value=0, max=8911), HTML(value='')))"
      ]
     },
     "metadata": {},
     "output_type": "display_data"
    },
    {
     "name": "stdout",
     "output_type": "stream",
     "text": [
      "\n",
      "Processing repetition 11\n"
     ]
    },
    {
     "data": {
      "application/vnd.jupyter.widget-view+json": {
       "model_id": "c43e2885ee6647fbbf376be1113e1047",
       "version_major": 2,
       "version_minor": 0
      },
      "text/plain": [
       "HBox(children=(IntProgress(value=0, max=8911), HTML(value='')))"
      ]
     },
     "metadata": {},
     "output_type": "display_data"
    },
    {
     "name": "stdout",
     "output_type": "stream",
     "text": [
      "\n",
      "Processing repetition 12\n"
     ]
    },
    {
     "data": {
      "application/vnd.jupyter.widget-view+json": {
       "model_id": "d964460b9f144476ba2292dbf5b3a430",
       "version_major": 2,
       "version_minor": 0
      },
      "text/plain": [
       "HBox(children=(IntProgress(value=0, max=8911), HTML(value='')))"
      ]
     },
     "metadata": {},
     "output_type": "display_data"
    },
    {
     "name": "stdout",
     "output_type": "stream",
     "text": [
      "\n",
      "Processing repetition 13\n"
     ]
    },
    {
     "data": {
      "application/vnd.jupyter.widget-view+json": {
       "model_id": "7803e163be524f21920261510987d8bb",
       "version_major": 2,
       "version_minor": 0
      },
      "text/plain": [
       "HBox(children=(IntProgress(value=0, max=8911), HTML(value='')))"
      ]
     },
     "metadata": {},
     "output_type": "display_data"
    },
    {
     "name": "stdout",
     "output_type": "stream",
     "text": [
      "\n",
      "Processing repetition 14\n"
     ]
    },
    {
     "data": {
      "application/vnd.jupyter.widget-view+json": {
       "model_id": "d79eb26d945b488da41a9fb397818adb",
       "version_major": 2,
       "version_minor": 0
      },
      "text/plain": [
       "HBox(children=(IntProgress(value=0, max=8911), HTML(value='')))"
      ]
     },
     "metadata": {},
     "output_type": "display_data"
    },
    {
     "name": "stdout",
     "output_type": "stream",
     "text": [
      "\n",
      "Processing repetition 15\n"
     ]
    },
    {
     "data": {
      "application/vnd.jupyter.widget-view+json": {
       "model_id": "87692df972e94baa9329987a172d1944",
       "version_major": 2,
       "version_minor": 0
      },
      "text/plain": [
       "HBox(children=(IntProgress(value=0, max=8911), HTML(value='')))"
      ]
     },
     "metadata": {},
     "output_type": "display_data"
    },
    {
     "name": "stdout",
     "output_type": "stream",
     "text": [
      "\n",
      "Processing repetition 16\n"
     ]
    },
    {
     "data": {
      "application/vnd.jupyter.widget-view+json": {
       "model_id": "a074f67f765446b6b1360ebfb8eda930",
       "version_major": 2,
       "version_minor": 0
      },
      "text/plain": [
       "HBox(children=(IntProgress(value=0, max=8911), HTML(value='')))"
      ]
     },
     "metadata": {},
     "output_type": "display_data"
    },
    {
     "name": "stdout",
     "output_type": "stream",
     "text": [
      "\n",
      "Processing repetition 17\n"
     ]
    },
    {
     "data": {
      "application/vnd.jupyter.widget-view+json": {
       "model_id": "1da898190b0540abb63f1156242ec61c",
       "version_major": 2,
       "version_minor": 0
      },
      "text/plain": [
       "HBox(children=(IntProgress(value=0, max=8911), HTML(value='')))"
      ]
     },
     "metadata": {},
     "output_type": "display_data"
    },
    {
     "name": "stdout",
     "output_type": "stream",
     "text": [
      "\n",
      "Processing repetition 18\n"
     ]
    },
    {
     "data": {
      "application/vnd.jupyter.widget-view+json": {
       "model_id": "087affb9aece41bea1c78d810c5f75ef",
       "version_major": 2,
       "version_minor": 0
      },
      "text/plain": [
       "HBox(children=(IntProgress(value=0, max=8911), HTML(value='')))"
      ]
     },
     "metadata": {},
     "output_type": "display_data"
    },
    {
     "name": "stdout",
     "output_type": "stream",
     "text": [
      "\n",
      "Processing repetition 19\n"
     ]
    },
    {
     "data": {
      "application/vnd.jupyter.widget-view+json": {
       "model_id": "22eef5363d1d4525bde6eb5334807e8c",
       "version_major": 2,
       "version_minor": 0
      },
      "text/plain": [
       "HBox(children=(IntProgress(value=0, max=8911), HTML(value='')))"
      ]
     },
     "metadata": {},
     "output_type": "display_data"
    },
    {
     "name": "stdout",
     "output_type": "stream",
     "text": [
      "\n",
      "Processing repetition 20\n"
     ]
    },
    {
     "data": {
      "application/vnd.jupyter.widget-view+json": {
       "model_id": "38eca9726f5b436199999b5523617882",
       "version_major": 2,
       "version_minor": 0
      },
      "text/plain": [
       "HBox(children=(IntProgress(value=0, max=8911), HTML(value='')))"
      ]
     },
     "metadata": {},
     "output_type": "display_data"
    },
    {
     "name": "stdout",
     "output_type": "stream",
     "text": [
      "\n",
      "Processing repetition 21\n"
     ]
    },
    {
     "data": {
      "application/vnd.jupyter.widget-view+json": {
       "model_id": "6cddb8e7b034477cb0a2d685d8e3a2d1",
       "version_major": 2,
       "version_minor": 0
      },
      "text/plain": [
       "HBox(children=(IntProgress(value=0, max=8911), HTML(value='')))"
      ]
     },
     "metadata": {},
     "output_type": "display_data"
    },
    {
     "name": "stdout",
     "output_type": "stream",
     "text": [
      "\n",
      "Processing repetition 22\n"
     ]
    },
    {
     "data": {
      "application/vnd.jupyter.widget-view+json": {
       "model_id": "7077a165922c414a8fb03f0be5c87648",
       "version_major": 2,
       "version_minor": 0
      },
      "text/plain": [
       "HBox(children=(IntProgress(value=0, max=8911), HTML(value='')))"
      ]
     },
     "metadata": {},
     "output_type": "display_data"
    },
    {
     "name": "stdout",
     "output_type": "stream",
     "text": [
      "\n",
      "Processing repetition 23\n"
     ]
    },
    {
     "data": {
      "application/vnd.jupyter.widget-view+json": {
       "model_id": "126e4a96740b497982c94f5b3d7d7c37",
       "version_major": 2,
       "version_minor": 0
      },
      "text/plain": [
       "HBox(children=(IntProgress(value=0, max=8911), HTML(value='')))"
      ]
     },
     "metadata": {},
     "output_type": "display_data"
    },
    {
     "name": "stdout",
     "output_type": "stream",
     "text": [
      "\n",
      "Processing repetition 24\n"
     ]
    },
    {
     "data": {
      "application/vnd.jupyter.widget-view+json": {
       "model_id": "2ee82d35c51b4f7e9b98e0db3bfe47c5",
       "version_major": 2,
       "version_minor": 0
      },
      "text/plain": [
       "HBox(children=(IntProgress(value=0, max=8911), HTML(value='')))"
      ]
     },
     "metadata": {},
     "output_type": "display_data"
    },
    {
     "name": "stdout",
     "output_type": "stream",
     "text": [
      "\n",
      "Processing repetition 25\n"
     ]
    },
    {
     "data": {
      "application/vnd.jupyter.widget-view+json": {
       "model_id": "df68713aa9d347c5b3101596ea05a1ad",
       "version_major": 2,
       "version_minor": 0
      },
      "text/plain": [
       "HBox(children=(IntProgress(value=0, max=8911), HTML(value='')))"
      ]
     },
     "metadata": {},
     "output_type": "display_data"
    },
    {
     "name": "stdout",
     "output_type": "stream",
     "text": [
      "\n",
      "Processing repetition 26\n"
     ]
    },
    {
     "data": {
      "application/vnd.jupyter.widget-view+json": {
       "model_id": "f7cc7b4dbb7b4556a21931f109e9af53",
       "version_major": 2,
       "version_minor": 0
      },
      "text/plain": [
       "HBox(children=(IntProgress(value=0, max=8911), HTML(value='')))"
      ]
     },
     "metadata": {},
     "output_type": "display_data"
    },
    {
     "name": "stdout",
     "output_type": "stream",
     "text": [
      "\n",
      "Processing repetition 27\n"
     ]
    },
    {
     "data": {
      "application/vnd.jupyter.widget-view+json": {
       "model_id": "6b0a27bc37ed4d0394c8a9907adcd4e9",
       "version_major": 2,
       "version_minor": 0
      },
      "text/plain": [
       "HBox(children=(IntProgress(value=0, max=8911), HTML(value='')))"
      ]
     },
     "metadata": {},
     "output_type": "display_data"
    },
    {
     "name": "stdout",
     "output_type": "stream",
     "text": [
      "\n",
      "Processing repetition 28\n"
     ]
    },
    {
     "data": {
      "application/vnd.jupyter.widget-view+json": {
       "model_id": "aff10412e2984c85bfca1fb75a58d973",
       "version_major": 2,
       "version_minor": 0
      },
      "text/plain": [
       "HBox(children=(IntProgress(value=0, max=8911), HTML(value='')))"
      ]
     },
     "metadata": {},
     "output_type": "display_data"
    },
    {
     "name": "stdout",
     "output_type": "stream",
     "text": [
      "\n",
      "Processing repetition 29\n"
     ]
    },
    {
     "data": {
      "application/vnd.jupyter.widget-view+json": {
       "model_id": "6f87d368728f4fe4af83473e12f50019",
       "version_major": 2,
       "version_minor": 0
      },
      "text/plain": [
       "HBox(children=(IntProgress(value=0, max=8911), HTML(value='')))"
      ]
     },
     "metadata": {},
     "output_type": "display_data"
    },
    {
     "name": "stdout",
     "output_type": "stream",
     "text": [
      "\n",
      "Processing repetition 30\n"
     ]
    },
    {
     "data": {
      "application/vnd.jupyter.widget-view+json": {
       "model_id": "34413ae216c04554b79dc78bad7ac625",
       "version_major": 2,
       "version_minor": 0
      },
      "text/plain": [
       "HBox(children=(IntProgress(value=0, max=8911), HTML(value='')))"
      ]
     },
     "metadata": {},
     "output_type": "display_data"
    },
    {
     "name": "stdout",
     "output_type": "stream",
     "text": [
      "\n",
      "Processing repetition 31\n"
     ]
    },
    {
     "data": {
      "application/vnd.jupyter.widget-view+json": {
       "model_id": "25d4fcfcdc6b425aa894a4f6b2e9349c",
       "version_major": 2,
       "version_minor": 0
      },
      "text/plain": [
       "HBox(children=(IntProgress(value=0, max=8911), HTML(value='')))"
      ]
     },
     "metadata": {},
     "output_type": "display_data"
    },
    {
     "name": "stdout",
     "output_type": "stream",
     "text": [
      "\n",
      "Processing repetition 32\n"
     ]
    },
    {
     "data": {
      "application/vnd.jupyter.widget-view+json": {
       "model_id": "8ae5557d377643378149e432e2c9770d",
       "version_major": 2,
       "version_minor": 0
      },
      "text/plain": [
       "HBox(children=(IntProgress(value=0, max=8911), HTML(value='')))"
      ]
     },
     "metadata": {},
     "output_type": "display_data"
    },
    {
     "name": "stdout",
     "output_type": "stream",
     "text": [
      "\n",
      "Processing repetition 33\n"
     ]
    },
    {
     "data": {
      "application/vnd.jupyter.widget-view+json": {
       "model_id": "bdfa5673683b470fa574465a7a362c8e",
       "version_major": 2,
       "version_minor": 0
      },
      "text/plain": [
       "HBox(children=(IntProgress(value=0, max=8911), HTML(value='')))"
      ]
     },
     "metadata": {},
     "output_type": "display_data"
    },
    {
     "name": "stdout",
     "output_type": "stream",
     "text": [
      "\n",
      "Processing repetition 34\n"
     ]
    },
    {
     "data": {
      "application/vnd.jupyter.widget-view+json": {
       "model_id": "508871dd5c164bf797c996f9f1152d52",
       "version_major": 2,
       "version_minor": 0
      },
      "text/plain": [
       "HBox(children=(IntProgress(value=0, max=8911), HTML(value='')))"
      ]
     },
     "metadata": {},
     "output_type": "display_data"
    },
    {
     "name": "stdout",
     "output_type": "stream",
     "text": [
      "\n",
      "Processing repetition 35\n"
     ]
    },
    {
     "data": {
      "application/vnd.jupyter.widget-view+json": {
       "model_id": "9e9afdad759f4f89bbcba4b5244b862c",
       "version_major": 2,
       "version_minor": 0
      },
      "text/plain": [
       "HBox(children=(IntProgress(value=0, max=8911), HTML(value='')))"
      ]
     },
     "metadata": {},
     "output_type": "display_data"
    },
    {
     "name": "stdout",
     "output_type": "stream",
     "text": [
      "\n",
      "Processing repetition 36\n"
     ]
    },
    {
     "data": {
      "application/vnd.jupyter.widget-view+json": {
       "model_id": "2903ceea2da045628950c6b202beced3",
       "version_major": 2,
       "version_minor": 0
      },
      "text/plain": [
       "HBox(children=(IntProgress(value=0, max=8911), HTML(value='')))"
      ]
     },
     "metadata": {},
     "output_type": "display_data"
    },
    {
     "name": "stdout",
     "output_type": "stream",
     "text": [
      "\n",
      "Processing repetition 37\n"
     ]
    },
    {
     "data": {
      "application/vnd.jupyter.widget-view+json": {
       "model_id": "bb7ac86bfbf24da087a877d2c5234474",
       "version_major": 2,
       "version_minor": 0
      },
      "text/plain": [
       "HBox(children=(IntProgress(value=0, max=8911), HTML(value='')))"
      ]
     },
     "metadata": {},
     "output_type": "display_data"
    },
    {
     "name": "stdout",
     "output_type": "stream",
     "text": [
      "\n",
      "Processing repetition 38\n"
     ]
    },
    {
     "data": {
      "application/vnd.jupyter.widget-view+json": {
       "model_id": "7b84c5ace14848f3bc5d0a9dc68355d2",
       "version_major": 2,
       "version_minor": 0
      },
      "text/plain": [
       "HBox(children=(IntProgress(value=0, max=8911), HTML(value='')))"
      ]
     },
     "metadata": {},
     "output_type": "display_data"
    },
    {
     "name": "stdout",
     "output_type": "stream",
     "text": [
      "\n",
      "Processing repetition 39\n"
     ]
    },
    {
     "data": {
      "application/vnd.jupyter.widget-view+json": {
       "model_id": "2b5006180bac490b8bce3bc4b615e170",
       "version_major": 2,
       "version_minor": 0
      },
      "text/plain": [
       "HBox(children=(IntProgress(value=0, max=8911), HTML(value='')))"
      ]
     },
     "metadata": {},
     "output_type": "display_data"
    },
    {
     "name": "stdout",
     "output_type": "stream",
     "text": [
      "\n",
      "Processing repetition 40\n"
     ]
    },
    {
     "data": {
      "application/vnd.jupyter.widget-view+json": {
       "model_id": "e687988cb2d8416192decb01eaca611e",
       "version_major": 2,
       "version_minor": 0
      },
      "text/plain": [
       "HBox(children=(IntProgress(value=0, max=8911), HTML(value='')))"
      ]
     },
     "metadata": {},
     "output_type": "display_data"
    },
    {
     "name": "stdout",
     "output_type": "stream",
     "text": [
      "\n",
      "Processing repetition 41\n"
     ]
    },
    {
     "data": {
      "application/vnd.jupyter.widget-view+json": {
       "model_id": "155d478fcde64252b5c0742f95136a09",
       "version_major": 2,
       "version_minor": 0
      },
      "text/plain": [
       "HBox(children=(IntProgress(value=0, max=8911), HTML(value='')))"
      ]
     },
     "metadata": {},
     "output_type": "display_data"
    },
    {
     "name": "stdout",
     "output_type": "stream",
     "text": [
      "\n",
      "Processing repetition 42\n"
     ]
    },
    {
     "data": {
      "application/vnd.jupyter.widget-view+json": {
       "model_id": "af2ba1e443a54717b6ec242e285b5ef0",
       "version_major": 2,
       "version_minor": 0
      },
      "text/plain": [
       "HBox(children=(IntProgress(value=0, max=8911), HTML(value='')))"
      ]
     },
     "metadata": {},
     "output_type": "display_data"
    },
    {
     "name": "stdout",
     "output_type": "stream",
     "text": [
      "\n",
      "Processing repetition 43\n"
     ]
    },
    {
     "data": {
      "application/vnd.jupyter.widget-view+json": {
       "model_id": "1130cbd3de8a4bcb88c9bcd29be1fcb0",
       "version_major": 2,
       "version_minor": 0
      },
      "text/plain": [
       "HBox(children=(IntProgress(value=0, max=8911), HTML(value='')))"
      ]
     },
     "metadata": {},
     "output_type": "display_data"
    },
    {
     "name": "stdout",
     "output_type": "stream",
     "text": [
      "\n",
      "Processing repetition 44\n"
     ]
    },
    {
     "data": {
      "application/vnd.jupyter.widget-view+json": {
       "model_id": "de025e063ad542aab76bc851104341bf",
       "version_major": 2,
       "version_minor": 0
      },
      "text/plain": [
       "HBox(children=(IntProgress(value=0, max=8911), HTML(value='')))"
      ]
     },
     "metadata": {},
     "output_type": "display_data"
    },
    {
     "name": "stdout",
     "output_type": "stream",
     "text": [
      "\n",
      "Processing repetition 45\n"
     ]
    },
    {
     "data": {
      "application/vnd.jupyter.widget-view+json": {
       "model_id": "41f2491a2eb3480f83ca84017dc5b27e",
       "version_major": 2,
       "version_minor": 0
      },
      "text/plain": [
       "HBox(children=(IntProgress(value=0, max=8911), HTML(value='')))"
      ]
     },
     "metadata": {},
     "output_type": "display_data"
    },
    {
     "name": "stdout",
     "output_type": "stream",
     "text": [
      "\n",
      "Processing repetition 46\n"
     ]
    },
    {
     "data": {
      "application/vnd.jupyter.widget-view+json": {
       "model_id": "da3ed225bfc341e986394ca84fbc80a4",
       "version_major": 2,
       "version_minor": 0
      },
      "text/plain": [
       "HBox(children=(IntProgress(value=0, max=8911), HTML(value='')))"
      ]
     },
     "metadata": {},
     "output_type": "display_data"
    },
    {
     "name": "stdout",
     "output_type": "stream",
     "text": [
      "\n",
      "Processing repetition 47\n"
     ]
    },
    {
     "data": {
      "application/vnd.jupyter.widget-view+json": {
       "model_id": "2ed59ddd001c4a3495734a9e0811d5de",
       "version_major": 2,
       "version_minor": 0
      },
      "text/plain": [
       "HBox(children=(IntProgress(value=0, max=8911), HTML(value='')))"
      ]
     },
     "metadata": {},
     "output_type": "display_data"
    },
    {
     "name": "stdout",
     "output_type": "stream",
     "text": [
      "\n",
      "Processing repetition 48\n"
     ]
    },
    {
     "data": {
      "application/vnd.jupyter.widget-view+json": {
       "model_id": "9f59d79dbd5b41758df5f990959b2b72",
       "version_major": 2,
       "version_minor": 0
      },
      "text/plain": [
       "HBox(children=(IntProgress(value=0, max=8911), HTML(value='')))"
      ]
     },
     "metadata": {},
     "output_type": "display_data"
    },
    {
     "name": "stdout",
     "output_type": "stream",
     "text": [
      "\n",
      "Processing repetition 49\n"
     ]
    },
    {
     "data": {
      "application/vnd.jupyter.widget-view+json": {
       "model_id": "45b816bc27014c8e948f4d1cce79eb55",
       "version_major": 2,
       "version_minor": 0
      },
      "text/plain": [
       "HBox(children=(IntProgress(value=0, max=8911), HTML(value='')))"
      ]
     },
     "metadata": {},
     "output_type": "display_data"
    },
    {
     "name": "stdout",
     "output_type": "stream",
     "text": [
      "\n",
      "Processing repetition 50\n"
     ]
    },
    {
     "data": {
      "application/vnd.jupyter.widget-view+json": {
       "model_id": "9d7fb32bdc2d48cca45129294b55723c",
       "version_major": 2,
       "version_minor": 0
      },
      "text/plain": [
       "HBox(children=(IntProgress(value=0, max=8911), HTML(value='')))"
      ]
     },
     "metadata": {},
     "output_type": "display_data"
    },
    {
     "name": "stdout",
     "output_type": "stream",
     "text": [
      "\n",
      "Processing repetition 51\n"
     ]
    },
    {
     "data": {
      "application/vnd.jupyter.widget-view+json": {
       "model_id": "860a2971b8104bc885642b20cf0a9268",
       "version_major": 2,
       "version_minor": 0
      },
      "text/plain": [
       "HBox(children=(IntProgress(value=0, max=8911), HTML(value='')))"
      ]
     },
     "metadata": {},
     "output_type": "display_data"
    },
    {
     "name": "stdout",
     "output_type": "stream",
     "text": [
      "\n",
      "Processing repetition 52\n"
     ]
    },
    {
     "data": {
      "application/vnd.jupyter.widget-view+json": {
       "model_id": "0692cce1299d4cefbc6660a659aa0a3a",
       "version_major": 2,
       "version_minor": 0
      },
      "text/plain": [
       "HBox(children=(IntProgress(value=0, max=8911), HTML(value='')))"
      ]
     },
     "metadata": {},
     "output_type": "display_data"
    },
    {
     "name": "stdout",
     "output_type": "stream",
     "text": [
      "\n",
      "Processing repetition 53\n"
     ]
    },
    {
     "data": {
      "application/vnd.jupyter.widget-view+json": {
       "model_id": "40d40951f1674ac79f6a26e39a6ff692",
       "version_major": 2,
       "version_minor": 0
      },
      "text/plain": [
       "HBox(children=(IntProgress(value=0, max=8911), HTML(value='')))"
      ]
     },
     "metadata": {},
     "output_type": "display_data"
    },
    {
     "name": "stdout",
     "output_type": "stream",
     "text": [
      "\n",
      "Processing repetition 54\n"
     ]
    },
    {
     "data": {
      "application/vnd.jupyter.widget-view+json": {
       "model_id": "15fc110c65054c59a88d9c0165157ab2",
       "version_major": 2,
       "version_minor": 0
      },
      "text/plain": [
       "HBox(children=(IntProgress(value=0, max=8911), HTML(value='')))"
      ]
     },
     "metadata": {},
     "output_type": "display_data"
    },
    {
     "name": "stdout",
     "output_type": "stream",
     "text": [
      "\n",
      "Processing repetition 55\n"
     ]
    },
    {
     "data": {
      "application/vnd.jupyter.widget-view+json": {
       "model_id": "9c360d14f0754fd5bd7e06339f5a3dc0",
       "version_major": 2,
       "version_minor": 0
      },
      "text/plain": [
       "HBox(children=(IntProgress(value=0, max=8911), HTML(value='')))"
      ]
     },
     "metadata": {},
     "output_type": "display_data"
    },
    {
     "name": "stdout",
     "output_type": "stream",
     "text": [
      "\n",
      "Processing repetition 56\n"
     ]
    },
    {
     "data": {
      "application/vnd.jupyter.widget-view+json": {
       "model_id": "a792f346ebfc4770a898a61f4ee110c3",
       "version_major": 2,
       "version_minor": 0
      },
      "text/plain": [
       "HBox(children=(IntProgress(value=0, max=8911), HTML(value='')))"
      ]
     },
     "metadata": {},
     "output_type": "display_data"
    },
    {
     "name": "stdout",
     "output_type": "stream",
     "text": [
      "\n",
      "Processing repetition 57\n"
     ]
    },
    {
     "data": {
      "application/vnd.jupyter.widget-view+json": {
       "model_id": "4f85ddc8725f4b9da1f6361e623cb2ca",
       "version_major": 2,
       "version_minor": 0
      },
      "text/plain": [
       "HBox(children=(IntProgress(value=0, max=8911), HTML(value='')))"
      ]
     },
     "metadata": {},
     "output_type": "display_data"
    },
    {
     "name": "stdout",
     "output_type": "stream",
     "text": [
      "\n",
      "Processing repetition 58\n"
     ]
    },
    {
     "data": {
      "application/vnd.jupyter.widget-view+json": {
       "model_id": "e85ec12b8ddb44eab043cf5cdc8408f7",
       "version_major": 2,
       "version_minor": 0
      },
      "text/plain": [
       "HBox(children=(IntProgress(value=0, max=8911), HTML(value='')))"
      ]
     },
     "metadata": {},
     "output_type": "display_data"
    },
    {
     "name": "stdout",
     "output_type": "stream",
     "text": [
      "\n",
      "Processing repetition 59\n"
     ]
    },
    {
     "data": {
      "application/vnd.jupyter.widget-view+json": {
       "model_id": "0895586c8f8a4384801d8947f933944f",
       "version_major": 2,
       "version_minor": 0
      },
      "text/plain": [
       "HBox(children=(IntProgress(value=0, max=8911), HTML(value='')))"
      ]
     },
     "metadata": {},
     "output_type": "display_data"
    },
    {
     "name": "stdout",
     "output_type": "stream",
     "text": [
      "\n",
      "Processing repetition 60\n"
     ]
    },
    {
     "data": {
      "application/vnd.jupyter.widget-view+json": {
       "model_id": "b1522186d4e5412cb8cc66f1515f1946",
       "version_major": 2,
       "version_minor": 0
      },
      "text/plain": [
       "HBox(children=(IntProgress(value=0, max=8911), HTML(value='')))"
      ]
     },
     "metadata": {},
     "output_type": "display_data"
    },
    {
     "name": "stdout",
     "output_type": "stream",
     "text": [
      "\n",
      "Processing repetition 61\n"
     ]
    },
    {
     "data": {
      "application/vnd.jupyter.widget-view+json": {
       "model_id": "2361566c896648a99392e5b4570afc1b",
       "version_major": 2,
       "version_minor": 0
      },
      "text/plain": [
       "HBox(children=(IntProgress(value=0, max=8911), HTML(value='')))"
      ]
     },
     "metadata": {},
     "output_type": "display_data"
    },
    {
     "name": "stdout",
     "output_type": "stream",
     "text": [
      "\n",
      "Processing repetition 62\n"
     ]
    },
    {
     "data": {
      "application/vnd.jupyter.widget-view+json": {
       "model_id": "24b836a08f79424da4251999fc40aed4",
       "version_major": 2,
       "version_minor": 0
      },
      "text/plain": [
       "HBox(children=(IntProgress(value=0, max=8911), HTML(value='')))"
      ]
     },
     "metadata": {},
     "output_type": "display_data"
    },
    {
     "name": "stdout",
     "output_type": "stream",
     "text": [
      "\n",
      "Processing repetition 63\n"
     ]
    },
    {
     "data": {
      "application/vnd.jupyter.widget-view+json": {
       "model_id": "98f350a49f2349e88cabc71087f21186",
       "version_major": 2,
       "version_minor": 0
      },
      "text/plain": [
       "HBox(children=(IntProgress(value=0, max=8911), HTML(value='')))"
      ]
     },
     "metadata": {},
     "output_type": "display_data"
    },
    {
     "name": "stdout",
     "output_type": "stream",
     "text": [
      "\n",
      "Processing repetition 64\n"
     ]
    },
    {
     "data": {
      "application/vnd.jupyter.widget-view+json": {
       "model_id": "cff7345fe483488a964c64e2226d323a",
       "version_major": 2,
       "version_minor": 0
      },
      "text/plain": [
       "HBox(children=(IntProgress(value=0, max=8911), HTML(value='')))"
      ]
     },
     "metadata": {},
     "output_type": "display_data"
    },
    {
     "name": "stdout",
     "output_type": "stream",
     "text": [
      "\n",
      "Processing repetition 65\n"
     ]
    },
    {
     "data": {
      "application/vnd.jupyter.widget-view+json": {
       "model_id": "16bd000ec18545f4ba577ed8bea89f11",
       "version_major": 2,
       "version_minor": 0
      },
      "text/plain": [
       "HBox(children=(IntProgress(value=0, max=8911), HTML(value='')))"
      ]
     },
     "metadata": {},
     "output_type": "display_data"
    },
    {
     "name": "stdout",
     "output_type": "stream",
     "text": [
      "\n",
      "Processing repetition 66\n"
     ]
    },
    {
     "data": {
      "application/vnd.jupyter.widget-view+json": {
       "model_id": "bc55301435b448bc94829bdf052bcb68",
       "version_major": 2,
       "version_minor": 0
      },
      "text/plain": [
       "HBox(children=(IntProgress(value=0, max=8911), HTML(value='')))"
      ]
     },
     "metadata": {},
     "output_type": "display_data"
    },
    {
     "name": "stdout",
     "output_type": "stream",
     "text": [
      "\n",
      "Processing repetition 67\n"
     ]
    },
    {
     "data": {
      "application/vnd.jupyter.widget-view+json": {
       "model_id": "19b6a0c895044c499ec5b968ed022197",
       "version_major": 2,
       "version_minor": 0
      },
      "text/plain": [
       "HBox(children=(IntProgress(value=0, max=8911), HTML(value='')))"
      ]
     },
     "metadata": {},
     "output_type": "display_data"
    },
    {
     "name": "stdout",
     "output_type": "stream",
     "text": [
      "\n",
      "Processing repetition 68\n"
     ]
    },
    {
     "data": {
      "application/vnd.jupyter.widget-view+json": {
       "model_id": "7b266d106a824bfca8ac54e6f6fef2e7",
       "version_major": 2,
       "version_minor": 0
      },
      "text/plain": [
       "HBox(children=(IntProgress(value=0, max=8911), HTML(value='')))"
      ]
     },
     "metadata": {},
     "output_type": "display_data"
    },
    {
     "name": "stdout",
     "output_type": "stream",
     "text": [
      "\n",
      "Processing repetition 69\n"
     ]
    },
    {
     "data": {
      "application/vnd.jupyter.widget-view+json": {
       "model_id": "df74ab2754164cbc9ebdc44486b0a422",
       "version_major": 2,
       "version_minor": 0
      },
      "text/plain": [
       "HBox(children=(IntProgress(value=0, max=8911), HTML(value='')))"
      ]
     },
     "metadata": {},
     "output_type": "display_data"
    },
    {
     "name": "stdout",
     "output_type": "stream",
     "text": [
      "\n",
      "Processing repetition 70\n"
     ]
    },
    {
     "data": {
      "application/vnd.jupyter.widget-view+json": {
       "model_id": "2ec4c714491d4f42afacd1312830197e",
       "version_major": 2,
       "version_minor": 0
      },
      "text/plain": [
       "HBox(children=(IntProgress(value=0, max=8911), HTML(value='')))"
      ]
     },
     "metadata": {},
     "output_type": "display_data"
    },
    {
     "name": "stdout",
     "output_type": "stream",
     "text": [
      "\n",
      "Processing repetition 71\n"
     ]
    },
    {
     "data": {
      "application/vnd.jupyter.widget-view+json": {
       "model_id": "e3f7456ef850414da4049c5ad47c79ca",
       "version_major": 2,
       "version_minor": 0
      },
      "text/plain": [
       "HBox(children=(IntProgress(value=0, max=8911), HTML(value='')))"
      ]
     },
     "metadata": {},
     "output_type": "display_data"
    },
    {
     "name": "stdout",
     "output_type": "stream",
     "text": [
      "\n",
      "Processing repetition 72\n"
     ]
    },
    {
     "data": {
      "application/vnd.jupyter.widget-view+json": {
       "model_id": "ba19a3f93bac4af7861b5cf6cd7e0302",
       "version_major": 2,
       "version_minor": 0
      },
      "text/plain": [
       "HBox(children=(IntProgress(value=0, max=8911), HTML(value='')))"
      ]
     },
     "metadata": {},
     "output_type": "display_data"
    },
    {
     "name": "stdout",
     "output_type": "stream",
     "text": [
      "\n",
      "Processing repetition 73\n"
     ]
    },
    {
     "data": {
      "application/vnd.jupyter.widget-view+json": {
       "model_id": "679411d1bd4e489a8a114d962d0b1e00",
       "version_major": 2,
       "version_minor": 0
      },
      "text/plain": [
       "HBox(children=(IntProgress(value=0, max=8911), HTML(value='')))"
      ]
     },
     "metadata": {},
     "output_type": "display_data"
    },
    {
     "name": "stdout",
     "output_type": "stream",
     "text": [
      "\n",
      "Processing repetition 74\n"
     ]
    },
    {
     "data": {
      "application/vnd.jupyter.widget-view+json": {
       "model_id": "748161c406f04102859cc20b2289dd55",
       "version_major": 2,
       "version_minor": 0
      },
      "text/plain": [
       "HBox(children=(IntProgress(value=0, max=8911), HTML(value='')))"
      ]
     },
     "metadata": {},
     "output_type": "display_data"
    },
    {
     "name": "stdout",
     "output_type": "stream",
     "text": [
      "\n",
      "Processing repetition 75\n"
     ]
    },
    {
     "data": {
      "application/vnd.jupyter.widget-view+json": {
       "model_id": "d58e1c0a76a34289bff18d2bef9c1489",
       "version_major": 2,
       "version_minor": 0
      },
      "text/plain": [
       "HBox(children=(IntProgress(value=0, max=8911), HTML(value='')))"
      ]
     },
     "metadata": {},
     "output_type": "display_data"
    },
    {
     "name": "stdout",
     "output_type": "stream",
     "text": [
      "\n",
      "Processing repetition 76\n"
     ]
    },
    {
     "data": {
      "application/vnd.jupyter.widget-view+json": {
       "model_id": "cd494685a90447d89f5f35ffd567df7c",
       "version_major": 2,
       "version_minor": 0
      },
      "text/plain": [
       "HBox(children=(IntProgress(value=0, max=8911), HTML(value='')))"
      ]
     },
     "metadata": {},
     "output_type": "display_data"
    },
    {
     "name": "stdout",
     "output_type": "stream",
     "text": [
      "\n",
      "Processing repetition 77\n"
     ]
    },
    {
     "data": {
      "application/vnd.jupyter.widget-view+json": {
       "model_id": "45fc2d0ed436436f8ce6f147d3deb734",
       "version_major": 2,
       "version_minor": 0
      },
      "text/plain": [
       "HBox(children=(IntProgress(value=0, max=8911), HTML(value='')))"
      ]
     },
     "metadata": {},
     "output_type": "display_data"
    },
    {
     "name": "stdout",
     "output_type": "stream",
     "text": [
      "\n",
      "Processing repetition 78\n"
     ]
    },
    {
     "data": {
      "application/vnd.jupyter.widget-view+json": {
       "model_id": "d35c3bf68614420d85475cb73250391a",
       "version_major": 2,
       "version_minor": 0
      },
      "text/plain": [
       "HBox(children=(IntProgress(value=0, max=8911), HTML(value='')))"
      ]
     },
     "metadata": {},
     "output_type": "display_data"
    },
    {
     "name": "stdout",
     "output_type": "stream",
     "text": [
      "\n",
      "Processing repetition 79\n"
     ]
    },
    {
     "data": {
      "application/vnd.jupyter.widget-view+json": {
       "model_id": "c898259bd1dc4e7cbc5aefc66da26296",
       "version_major": 2,
       "version_minor": 0
      },
      "text/plain": [
       "HBox(children=(IntProgress(value=0, max=8911), HTML(value='')))"
      ]
     },
     "metadata": {},
     "output_type": "display_data"
    },
    {
     "name": "stdout",
     "output_type": "stream",
     "text": [
      "\n",
      "Processing repetition 80\n"
     ]
    },
    {
     "data": {
      "application/vnd.jupyter.widget-view+json": {
       "model_id": "cec6db819a4d4005adb40d05ce0a04cb",
       "version_major": 2,
       "version_minor": 0
      },
      "text/plain": [
       "HBox(children=(IntProgress(value=0, max=8911), HTML(value='')))"
      ]
     },
     "metadata": {},
     "output_type": "display_data"
    },
    {
     "name": "stdout",
     "output_type": "stream",
     "text": [
      "\n",
      "Processing repetition 81\n"
     ]
    },
    {
     "data": {
      "application/vnd.jupyter.widget-view+json": {
       "model_id": "9e914bd1402d450680e7271d3cf15905",
       "version_major": 2,
       "version_minor": 0
      },
      "text/plain": [
       "HBox(children=(IntProgress(value=0, max=8911), HTML(value='')))"
      ]
     },
     "metadata": {},
     "output_type": "display_data"
    },
    {
     "name": "stdout",
     "output_type": "stream",
     "text": [
      "\n",
      "Processing repetition 82\n"
     ]
    },
    {
     "data": {
      "application/vnd.jupyter.widget-view+json": {
       "model_id": "bea88ef4120c4187a4c7ab9696f77232",
       "version_major": 2,
       "version_minor": 0
      },
      "text/plain": [
       "HBox(children=(IntProgress(value=0, max=8911), HTML(value='')))"
      ]
     },
     "metadata": {},
     "output_type": "display_data"
    },
    {
     "name": "stdout",
     "output_type": "stream",
     "text": [
      "\n",
      "Processing repetition 83\n"
     ]
    },
    {
     "data": {
      "application/vnd.jupyter.widget-view+json": {
       "model_id": "2085fdaeab344f14bdc197a90adf3fb9",
       "version_major": 2,
       "version_minor": 0
      },
      "text/plain": [
       "HBox(children=(IntProgress(value=0, max=8911), HTML(value='')))"
      ]
     },
     "metadata": {},
     "output_type": "display_data"
    },
    {
     "name": "stdout",
     "output_type": "stream",
     "text": [
      "\n",
      "Processing repetition 84\n"
     ]
    },
    {
     "data": {
      "application/vnd.jupyter.widget-view+json": {
       "model_id": "b29ad3f38902426eb3eaa505194e195d",
       "version_major": 2,
       "version_minor": 0
      },
      "text/plain": [
       "HBox(children=(IntProgress(value=0, max=8911), HTML(value='')))"
      ]
     },
     "metadata": {},
     "output_type": "display_data"
    },
    {
     "name": "stdout",
     "output_type": "stream",
     "text": [
      "\n",
      "Processing repetition 85\n"
     ]
    },
    {
     "data": {
      "application/vnd.jupyter.widget-view+json": {
       "model_id": "7c6d72deb75949c292492e53c7d0eab0",
       "version_major": 2,
       "version_minor": 0
      },
      "text/plain": [
       "HBox(children=(IntProgress(value=0, max=8911), HTML(value='')))"
      ]
     },
     "metadata": {},
     "output_type": "display_data"
    },
    {
     "name": "stdout",
     "output_type": "stream",
     "text": [
      "\n",
      "Processing repetition 86\n"
     ]
    },
    {
     "data": {
      "application/vnd.jupyter.widget-view+json": {
       "model_id": "b5f9410918024228905d371de487efe2",
       "version_major": 2,
       "version_minor": 0
      },
      "text/plain": [
       "HBox(children=(IntProgress(value=0, max=8911), HTML(value='')))"
      ]
     },
     "metadata": {},
     "output_type": "display_data"
    },
    {
     "name": "stdout",
     "output_type": "stream",
     "text": [
      "\n",
      "Processing repetition 87\n"
     ]
    },
    {
     "data": {
      "application/vnd.jupyter.widget-view+json": {
       "model_id": "cb6adf80f0e74fe7a9390b7861916d27",
       "version_major": 2,
       "version_minor": 0
      },
      "text/plain": [
       "HBox(children=(IntProgress(value=0, max=8911), HTML(value='')))"
      ]
     },
     "metadata": {},
     "output_type": "display_data"
    },
    {
     "name": "stdout",
     "output_type": "stream",
     "text": [
      "\n",
      "Processing repetition 88\n"
     ]
    },
    {
     "data": {
      "application/vnd.jupyter.widget-view+json": {
       "model_id": "568e8d2d44b646f9bc5a530cdcf495a6",
       "version_major": 2,
       "version_minor": 0
      },
      "text/plain": [
       "HBox(children=(IntProgress(value=0, max=8911), HTML(value='')))"
      ]
     },
     "metadata": {},
     "output_type": "display_data"
    },
    {
     "name": "stdout",
     "output_type": "stream",
     "text": [
      "\n",
      "Processing repetition 89\n"
     ]
    },
    {
     "data": {
      "application/vnd.jupyter.widget-view+json": {
       "model_id": "cf3a4fe81a4140eebe395663e99e7cb3",
       "version_major": 2,
       "version_minor": 0
      },
      "text/plain": [
       "HBox(children=(IntProgress(value=0, max=8911), HTML(value='')))"
      ]
     },
     "metadata": {},
     "output_type": "display_data"
    },
    {
     "name": "stdout",
     "output_type": "stream",
     "text": [
      "\n",
      "Processing repetition 90\n"
     ]
    },
    {
     "data": {
      "application/vnd.jupyter.widget-view+json": {
       "model_id": "07d3eb85047c4e37820152ab4b2b9146",
       "version_major": 2,
       "version_minor": 0
      },
      "text/plain": [
       "HBox(children=(IntProgress(value=0, max=8911), HTML(value='')))"
      ]
     },
     "metadata": {},
     "output_type": "display_data"
    },
    {
     "name": "stdout",
     "output_type": "stream",
     "text": [
      "\n",
      "Processing repetition 91\n"
     ]
    },
    {
     "data": {
      "application/vnd.jupyter.widget-view+json": {
       "model_id": "2b64cc2460954a39ab19df2d4f315783",
       "version_major": 2,
       "version_minor": 0
      },
      "text/plain": [
       "HBox(children=(IntProgress(value=0, max=8911), HTML(value='')))"
      ]
     },
     "metadata": {},
     "output_type": "display_data"
    },
    {
     "name": "stdout",
     "output_type": "stream",
     "text": [
      "\n",
      "Processing repetition 92\n"
     ]
    },
    {
     "data": {
      "application/vnd.jupyter.widget-view+json": {
       "model_id": "f57cf2dc07724c898830a34412a3b196",
       "version_major": 2,
       "version_minor": 0
      },
      "text/plain": [
       "HBox(children=(IntProgress(value=0, max=8911), HTML(value='')))"
      ]
     },
     "metadata": {},
     "output_type": "display_data"
    },
    {
     "name": "stdout",
     "output_type": "stream",
     "text": [
      "\n",
      "Processing repetition 93\n"
     ]
    },
    {
     "data": {
      "application/vnd.jupyter.widget-view+json": {
       "model_id": "6d594487b0a9472e84353a3749f75504",
       "version_major": 2,
       "version_minor": 0
      },
      "text/plain": [
       "HBox(children=(IntProgress(value=0, max=8911), HTML(value='')))"
      ]
     },
     "metadata": {},
     "output_type": "display_data"
    },
    {
     "name": "stdout",
     "output_type": "stream",
     "text": [
      "\n",
      "Processing repetition 94\n"
     ]
    },
    {
     "data": {
      "application/vnd.jupyter.widget-view+json": {
       "model_id": "ec27b962291449ef97801236ef2b6f0a",
       "version_major": 2,
       "version_minor": 0
      },
      "text/plain": [
       "HBox(children=(IntProgress(value=0, max=8911), HTML(value='')))"
      ]
     },
     "metadata": {},
     "output_type": "display_data"
    },
    {
     "name": "stdout",
     "output_type": "stream",
     "text": [
      "\n",
      "Processing repetition 95\n"
     ]
    },
    {
     "data": {
      "application/vnd.jupyter.widget-view+json": {
       "model_id": "40098ed0a89443a190c2216ee7087a31",
       "version_major": 2,
       "version_minor": 0
      },
      "text/plain": [
       "HBox(children=(IntProgress(value=0, max=8911), HTML(value='')))"
      ]
     },
     "metadata": {},
     "output_type": "display_data"
    },
    {
     "name": "stdout",
     "output_type": "stream",
     "text": [
      "\n",
      "Processing repetition 96\n"
     ]
    },
    {
     "data": {
      "application/vnd.jupyter.widget-view+json": {
       "model_id": "5cc720f8924444b081f22ff12320ff83",
       "version_major": 2,
       "version_minor": 0
      },
      "text/plain": [
       "HBox(children=(IntProgress(value=0, max=8911), HTML(value='')))"
      ]
     },
     "metadata": {},
     "output_type": "display_data"
    },
    {
     "name": "stdout",
     "output_type": "stream",
     "text": [
      "\n",
      "Processing repetition 97\n"
     ]
    },
    {
     "data": {
      "application/vnd.jupyter.widget-view+json": {
       "model_id": "1b960a9d0a844a1fb2861177c6153e7a",
       "version_major": 2,
       "version_minor": 0
      },
      "text/plain": [
       "HBox(children=(IntProgress(value=0, max=8911), HTML(value='')))"
      ]
     },
     "metadata": {},
     "output_type": "display_data"
    },
    {
     "name": "stdout",
     "output_type": "stream",
     "text": [
      "\n",
      "Processing repetition 98\n"
     ]
    },
    {
     "data": {
      "application/vnd.jupyter.widget-view+json": {
       "model_id": "9d018b95691e40938f29c25caf4d55c1",
       "version_major": 2,
       "version_minor": 0
      },
      "text/plain": [
       "HBox(children=(IntProgress(value=0, max=8911), HTML(value='')))"
      ]
     },
     "metadata": {},
     "output_type": "display_data"
    },
    {
     "name": "stdout",
     "output_type": "stream",
     "text": [
      "\n",
      "Processing repetition 99\n"
     ]
    },
    {
     "data": {
      "application/vnd.jupyter.widget-view+json": {
       "model_id": "41fd8ed6b0514a52866fbf9891c9d42c",
       "version_major": 2,
       "version_minor": 0
      },
      "text/plain": [
       "HBox(children=(IntProgress(value=0, max=8911), HTML(value='')))"
      ]
     },
     "metadata": {},
     "output_type": "display_data"
    },
    {
     "name": "stdout",
     "output_type": "stream",
     "text": [
      "\n",
      "Processing repetition 100\n"
     ]
    },
    {
     "data": {
      "application/vnd.jupyter.widget-view+json": {
       "model_id": "563718fad9424b129b22322f84b7a6b6",
       "version_major": 2,
       "version_minor": 0
      },
      "text/plain": [
       "HBox(children=(IntProgress(value=0, max=8911), HTML(value='')))"
      ]
     },
     "metadata": {},
     "output_type": "display_data"
    },
    {
     "name": "stdout",
     "output_type": "stream",
     "text": [
      "\n"
     ]
    }
   ],
   "source": [
    "# Perform comparison mutliple times\n",
    "n_rep = 100\n",
    "pval_intra_list = []\n",
    "pval_inter_list = []\n",
    "np.random.seed(13)\n",
    "\n",
    "for i in range(n_rep):\n",
    "    \n",
    "    print(f\"Processing repetition {i+1}\")\n",
    "    \n",
    "    ##########################\n",
    "    # Random TADs\n",
    "    ##########################\n",
    "    \n",
    "    # Sample random TAD list\n",
    "    random_tads = sample_tads(tads_segmentation_df, enriched_adhesome_tads_df, delta_length, delta_rnaseq)\n",
    "\n",
    "    # Build matrix of Hi-C contacts between random TADs\n",
    "    tads_contacts = pd.DataFrame(\n",
    "        0, \n",
    "        index=random_tads, \n",
    "        columns=random_tads\n",
    "    )\n",
    "    for idx1, idx2 in tqdm(list(itertools.combinations(random_tads, 2))):\n",
    "        tads_contacts.loc[idx1, idx2] = retrieve_tad_contact(\n",
    "            idx1, \n",
    "            idx2, \n",
    "            enriched_tads_df, \n",
    "            balanced_hic_dir,\n",
    "            blacklist_list\n",
    "        )\n",
    "    tads_contacts = tads_contacts+tads_contacts.T\n",
    "    tads_contacts.index.name = 'Random TADs'\n",
    "    tads_contacts.columns.name = 'Random TADs'\n",
    "    \n",
    "    ##########################\n",
    "    # Prepare random contact distributions\n",
    "    ##########################\n",
    "    \n",
    "    # Unstack contacts\n",
    "    tads_contacts_unstacked = tads_contacts.stack().to_frame('hic')\n",
    "    tads_contacts_unstacked.index.names = ['tad1', 'tad2']\n",
    "    tads_contacts_unstacked = tads_contacts_unstacked.reset_index()\n",
    "\n",
    "    # Add information on chromosomes of each pair of TADs\n",
    "    tads_contacts_unstacked.loc[:, 'tad1_chrom'] = tads_contacts_unstacked['tad1'].str.split('_', expand=True)[1]\n",
    "    tads_contacts_unstacked.loc[:, 'tad1_chrom'] = tads_contacts_unstacked['tad1_chrom'].str.strip('chr').astype(int)\n",
    "    tads_contacts_unstacked.loc[:, 'tad2_chrom'] = tads_contacts_unstacked['tad2'].str.split('_', expand=True)[1]\n",
    "    tads_contacts_unstacked.loc[:, 'tad2_chrom'] = tads_contacts_unstacked['tad2_chrom'].str.strip('chr').astype(int)\n",
    "\n",
    "    # Remove duplicate values\n",
    "    tads_contacts_unstacked = tads_contacts_unstacked[\n",
    "        tads_contacts_unstacked['tad1_chrom'] <= tads_contacts_unstacked['tad2_chrom']\n",
    "    ]\n",
    "\n",
    "    # Label interchromosomal and intrachromosomal interactions\n",
    "    tads_contacts_unstacked.loc[:, \"type\"] = tads_contacts_unstacked.apply(\n",
    "        lambda row: 'Random intrachromosomal' if (row['tad1_chrom']==row['tad2_chrom']) else 'Random interchromosomal', \n",
    "        axis=1\n",
    "    )\n",
    "    \n",
    "    ##########################\n",
    "    # Compare contact distributions\n",
    "    ##########################\n",
    "    \n",
    "    combined_unstacked = pd.concat([tads_contacts_unstacked, adhesome_tads_contacts_unstacked], axis=0)\n",
    "    combined_unstacked = combined_unstacked.reset_index(drop=True)\n",
    "    \n",
    "    stat, pval = ss.ranksums(\n",
    "        x=combined_unstacked[combined_unstacked['type']=='Adhesome interchromosomal']['hic'].values,\n",
    "        y=combined_unstacked[combined_unstacked['type']=='Random interchromosomal']['hic'].values,\n",
    "        alternative='two-sided'\n",
    "    )\n",
    "    pval_inter_list.append(pval)\n",
    "    \n",
    "    stat, pval = ss.ranksums(\n",
    "        x=combined_unstacked[combined_unstacked['type']=='Adhesome intrachromosomal']['hic'].values,\n",
    "        y=combined_unstacked[combined_unstacked['type']=='Random intrachromosomal']['hic'].values,\n",
    "        alternative='two-sided'\n",
    "    )\n",
    "    pval_intra_list.append(pval)\n",
    "    \n",
    "pval_inter_list = np.array(pval_inter_list)\n",
    "pval_intra_list = np.array(pval_intra_list)\n",
    "pval_inter_list = [p if (p>0) else sys.float_info.min for p in pval_inter_list]\n",
    "pval_intra_list = [p if (p>0) else sys.float_info.min for p in pval_intra_list]\n",
    "\n",
    "with open(saving_dir+f'tad_pval_inter_list_norm{normalization}_resolution{resolution}.pkl', 'wb') as f:\n",
    "    pickle.dump(pval_inter_list, f)\n",
    "with open(saving_dir+f'tad_pval_intra_list_norm{normalization}_resolution{resolution}.pkl', 'wb') as f:\n",
    "    pickle.dump(pval_intra_list, f)    \n"
   ]
  },
  {
   "cell_type": "code",
   "execution_count": 43,
   "metadata": {},
   "outputs": [],
   "source": [
    "# Load pickled p-value lists\n",
    "with open(saving_dir+f'tad_pval_inter_list_norm{normalization}_resolution{resolution}.pkl', 'rb') as f:\n",
    "    pval_inter_list = pickle.load(f)\n",
    "with open(saving_dir+f'tad_pval_intra_list_norm{normalization}_resolution{resolution}.pkl', 'rb') as f:\n",
    "    pval_intra_list = pickle.load(f)    "
   ]
  },
  {
   "cell_type": "code",
   "execution_count": 44,
   "metadata": {},
   "outputs": [
    {
     "data": {
      "image/png": "[encoded data removed]",
      "text/plain": [
       "<Figure size 432x288 with 1 Axes>"
      ]
     },
     "metadata": {
      "needs_background": "light"
     },
     "output_type": "display_data"
    }
   ],
   "source": [
    "# Plot distribution of p-values\n",
    "plt.figure()\n",
    "plt.hist(\n",
    "    x=-np.log(pval_inter_list),\n",
    "    bins=np.arange(0, max(-np.log(pval_inter_list))+1, 10),\n",
    "    color='blue',\n",
    "    alpha=0.5,\n",
    "    label='Interchromosomal contacts'\n",
    ")\n",
    "plt.hist(\n",
    "    x=-np.log(pval_intra_list),\n",
    "    bins=np.arange(0, max(-np.log(pval_inter_list))+1, 10),\n",
    "    color='orange',\n",
    "    alpha=0.5,\n",
    "    label='Intrachromosomal contacts'\n",
    ")\n",
    "plt.xlabel('-log(pval)')\n",
    "plt.ylabel('Number of repetitions')\n",
    "plt.legend(loc='upper right')\n",
    "plt.xlim(0, max(-np.log(pval_inter_list)))\n",
    "plt.show()"
   ]
  },
  {
   "cell_type": "code",
   "execution_count": null,
   "metadata": {},
   "outputs": [],
   "source": []
  }
 ],
 "metadata": {
  "kernelspec": {
   "display_name": "Python 3",
   "language": "python",
   "name": "python3"
  },
  "language_info": {
   "codemirror_mode": {
    "name": "ipython",
    "version": 3
   },
   "file_extension": ".py",
   "mimetype": "text/x-python",
   "name": "python",
   "nbconvert_exporter": "python",
   "pygments_lexer": "ipython3",
   "version": "3.7.4"
  },
  "toc": {
   "base_numbering": 1,
   "nav_menu": {},
   "number_sections": true,
   "sideBar": true,
   "skip_h1_title": false,
   "title_cell": "Table of Contents",
   "title_sidebar": "Contents",
   "toc_cell": false,
   "toc_position": {},
   "toc_section_display": true,
   "toc_window_display": true
  }
 },
 "nbformat": 4,
 "nbformat_minor": 2
}
