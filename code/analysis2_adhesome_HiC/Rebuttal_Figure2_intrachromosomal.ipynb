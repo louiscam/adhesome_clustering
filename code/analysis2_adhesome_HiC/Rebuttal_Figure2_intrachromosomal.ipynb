{
 "cells": [
  {
   "cell_type": "code",
   "execution_count": 1,
   "metadata": {},
   "outputs": [],
   "source": [
    "# Import standard libraries\n",
    "from importlib import reload\n",
    "import sys\n",
    "import numpy as np\n",
    "import matplotlib.pyplot as plt\n",
    "from matplotlib.patches import Patch\n",
    "from matplotlib import colors\n",
    "import matplotlib.patches as mpatches\n",
    "from matplotlib.colors import ListedColormap\n",
    "import matplotlib.cm as cm\n",
    "import seaborn as sns\n",
    "from scipy import sparse\n",
    "import scipy.stats as ss\n",
    "import networkx as nx\n",
    "import OmicsIntegrator as oi\n",
    "import csv\n",
    "import warnings\n",
    "warnings.simplefilter(action='ignore', category=FutureWarning)\n",
    "import pandas as pd\n",
    "import pickle\n",
    "from collections import defaultdict\n",
    "import operator\n",
    "from scipy.sparse import csr_matrix\n",
    "import itertools\n",
    "import os.path\n",
    "import math\n",
    "import pybedtools\n",
    "import hicstraw\n",
    "from tqdm.notebook import tqdm\n",
    "from joblib import Parallel, delayed\n",
    "\n",
    "import utils as lu"
   ]
  },
  {
   "cell_type": "code",
   "execution_count": 2,
   "metadata": {},
   "outputs": [],
   "source": [
    "# Specify directories and relevant information\n",
    "genome_dir = '/home/louiscam/projects/gpcr/data/genome_data/'\n",
    "epigenome_dir = \"/home/louiscam/projects/gpcr/data/regulatory_data/regulatory_data_IMR90/\"\n",
    "raw_hic_dir = '/home/louiscam/projects/gpcr/data/hic_data/IMR90/'\n",
    "balanced_hic_dir = '/home/louiscam/projects/gpcr/save/processed_hic_data/'\n",
    "saving_dir = '/home/louiscam/projects/gpcr/save/figures/'\n",
    "arrowhead_dir = '/home/louiscam/projects/gpcr/save/processed_hic_domains/arrowhead/'\n",
    "\n",
    "cell_type = 'IMR90'\n",
    "quality = 'MAPQGE30'\n",
    "intra_norm = 'KR'\n",
    "inter_norm = 'GWKR'\n",
    "resol = 250000\n",
    "balanced_hic_dir = balanced_hic_dir+f'processed_hic_data_{cell_type}/'\n",
    "balanced_hic_dir = balanced_hic_dir+f'final_BP{resol}_intra{intra_norm}_inter{inter_norm}/'\n",
    "\n",
    "normalization = 'KR'\n",
    "resolution = 5000\n",
    "chrom_list = np.arange(1, 22+1, 1)\n",
    "all_chroms = ['chr'+str(i) for i in range(1, 22+1)]"
   ]
  },
  {
   "cell_type": "code",
   "execution_count": 3,
   "metadata": {
    "code_folding": []
   },
   "outputs": [],
   "source": [
    "# List of colors\n",
    "colors_list = np.array([\"red\", \"green\", \"blue\", \"yellow\", \"orange\", \"purple\", \"pink\", \"brown\", \"gray\", \"black\", \"dodgerblue\",\n",
    "          \"cyan\", \"magenta\", \"teal\", \"navy\", \"gold\", \"silver\", \"violet\", \"lime\", \"olive\", \"maroon\", \"indigo\"])\n",
    "colors_dict = {chrom: colors_list[chrom-1] for chrom in chrom_list}"
   ]
  },
  {
   "cell_type": "markdown",
   "metadata": {},
   "source": [
    "# Load data"
   ]
  },
  {
   "cell_type": "markdown",
   "metadata": {},
   "source": [
    "## Chromosome size"
   ]
  },
  {
   "cell_type": "code",
   "execution_count": 4,
   "metadata": {},
   "outputs": [],
   "source": [
    "# Load chromosome sizes\n",
    "fname = genome_dir+'/chrom_hg19.sizes'\n",
    "chrom_size_df = pd.read_csv(fname, sep='\\t', header=None)\n",
    "chrom_size_df.columns = ['chrom', 'size']\n",
    "chrom_size_df = chrom_size_df[chrom_size_df['chrom'].isin(all_chroms)]"
   ]
  },
  {
   "cell_type": "markdown",
   "metadata": {},
   "source": [
    "## Loci"
   ]
  },
  {
   "cell_type": "code",
   "execution_count": 5,
   "metadata": {},
   "outputs": [],
   "source": [
    "# Load all loci\n",
    "with open(saving_dir+'all_active_loci.pkl', 'rb') as f:\n",
    "    all_active_loci = pickle.load(f)\n",
    "with open(saving_dir+'all_inactive_loci.pkl', 'rb') as f:\n",
    "    all_inactive_loci = pickle.load(f)\n",
    "all_loci = all_active_loci+all_inactive_loci\n",
    "all_loci = sorted(all_loci)"
   ]
  },
  {
   "cell_type": "code",
   "execution_count": 6,
   "metadata": {},
   "outputs": [],
   "source": [
    "# Divide genome into portions corresponding to loci\n",
    "df_sizes = lu.get_chrom_sizes(genome_dir, resol)\n",
    "df_chrom_list = []\n",
    "for chrom in chrom_list:\n",
    "    # Get chromosome size\n",
    "    chrom_size = int(df_sizes.loc[df_sizes['chr']==str(chrom)]['size'])\n",
    "    # Divide the chromosome into segments of HIC_RESOLN length\n",
    "    stop_pos = np.arange(resol, chrom_size + resol, resol, dtype = 'int')\n",
    "    df_chrom = pd.DataFrame()\n",
    "    df_chrom['chrom'] = ['chr' + str(chrom)]*len(stop_pos)\n",
    "    df_chrom['start'] = stop_pos - resol\n",
    "    df_chrom['stop'] = stop_pos\n",
    "    df_chrom_list.append(df_chrom)\n",
    "all_loci_pos = pd.concat(df_chrom_list, axis=0)\n",
    "all_loci_pos.loc[:, 'name'] = all_loci_pos.apply(\n",
    "    lambda row: f\"{row['chrom']}_loc_{row['start']}\", axis=1\n",
    ")\n",
    "\n",
    "# Convert all_loci_pos to bed file\n",
    "bed_all_loci = pybedtools.BedTool.from_dataframe(all_loci_pos)\n",
    "bed_all_loci = bed_all_loci.sort()"
   ]
  },
  {
   "cell_type": "code",
   "execution_count": 7,
   "metadata": {},
   "outputs": [],
   "source": [
    "# Load blacklisted loci\n",
    "with open(balanced_hic_dir+f'blacklist_IMR90_{inter_norm}.pickle', 'rb') as f:\n",
    "    blacklist_list = pickle.load(f)"
   ]
  },
  {
   "cell_type": "code",
   "execution_count": 8,
   "metadata": {},
   "outputs": [],
   "source": [
    "# Dictionary of active non blacklisted loci per chromosome\n",
    "active_loci_per_chrom_dict = defaultdict(list)\n",
    "for loc in all_active_loci:\n",
    "    chrom = int(loc.split('_')[1])\n",
    "    if (loc not in blacklist_list):\n",
    "        active_loci_per_chrom_dict[chrom].append(loc)"
   ]
  },
  {
   "cell_type": "markdown",
   "metadata": {},
   "source": [
    "## Genes"
   ]
  },
  {
   "cell_type": "code",
   "execution_count": 9,
   "metadata": {},
   "outputs": [],
   "source": [
    "# Active/inactive genes (from clustering)\n",
    "with open(saving_dir+'active_genes.pkl', 'rb') as f:\n",
    "    active_genes = pickle.load(f)\n",
    "with open(saving_dir+'inactive_genes.pkl', 'rb') as f:\n",
    "    inactive_genes = pickle.load(f)"
   ]
  },
  {
   "cell_type": "code",
   "execution_count": 10,
   "metadata": {},
   "outputs": [
    {
     "data": {
      "text/html": [
       "<div>\n",
       "<style scoped>\n",
       "    .dataframe tbody tr th:only-of-type {\n",
       "        vertical-align: middle;\n",
       "    }\n",
       "\n",
       "    .dataframe tbody tr th {\n",
       "        vertical-align: top;\n",
       "    }\n",
       "\n",
       "    .dataframe thead th {\n",
       "        text-align: right;\n",
       "    }\n",
       "</style>\n",
       "<table border=\"1\" class=\"dataframe\">\n",
       "  <thead>\n",
       "    <tr style=\"text-align: right;\">\n",
       "      <th></th>\n",
       "      <th>transcript</th>\n",
       "      <th>geneSymbol</th>\n",
       "      <th>#chrom</th>\n",
       "      <th>chromStart</th>\n",
       "      <th>chromEnd</th>\n",
       "      <th>clusterId</th>\n",
       "      <th>protein</th>\n",
       "    </tr>\n",
       "  </thead>\n",
       "  <tbody>\n",
       "    <tr>\n",
       "      <th>30786</th>\n",
       "      <td>uc021ree.1</td>\n",
       "      <td>7SK</td>\n",
       "      <td>chr12</td>\n",
       "      <td>114942680</td>\n",
       "      <td>114942992</td>\n",
       "      <td>7071</td>\n",
       "      <td>uc021ree.1</td>\n",
       "    </tr>\n",
       "    <tr>\n",
       "      <th>15095</th>\n",
       "      <td>uc002qsd.4</td>\n",
       "      <td>A1BG</td>\n",
       "      <td>chr19</td>\n",
       "      <td>58858171</td>\n",
       "      <td>58864865</td>\n",
       "      <td>15924</td>\n",
       "      <td>uc002qsd.4</td>\n",
       "    </tr>\n",
       "    <tr>\n",
       "      <th>14204</th>\n",
       "      <td>uc002qsg.3</td>\n",
       "      <td>A1BG-AS1</td>\n",
       "      <td>chr19</td>\n",
       "      <td>58863335</td>\n",
       "      <td>58866549</td>\n",
       "      <td>15925</td>\n",
       "      <td>uc002qsg.3</td>\n",
       "    </tr>\n",
       "    <tr>\n",
       "      <th>3436</th>\n",
       "      <td>uc001jjj.3</td>\n",
       "      <td>A1CF</td>\n",
       "      <td>chr10</td>\n",
       "      <td>52559168</td>\n",
       "      <td>52645435</td>\n",
       "      <td>3274</td>\n",
       "      <td>uc001jjj.3</td>\n",
       "    </tr>\n",
       "    <tr>\n",
       "      <th>6250</th>\n",
       "      <td>uc001qvk.1</td>\n",
       "      <td>A2M</td>\n",
       "      <td>chr12</td>\n",
       "      <td>9220303</td>\n",
       "      <td>9268558</td>\n",
       "      <td>6062</td>\n",
       "      <td>uc001qvk.1</td>\n",
       "    </tr>\n",
       "  </tbody>\n",
       "</table>\n",
       "</div>"
      ],
      "text/plain": [
       "       transcript geneSymbol #chrom  chromStart   chromEnd  clusterId  \\\n",
       "30786  uc021ree.1        7SK  chr12   114942680  114942992       7071   \n",
       "15095  uc002qsd.4       A1BG  chr19    58858171   58864865      15924   \n",
       "14204  uc002qsg.3   A1BG-AS1  chr19    58863335   58866549      15925   \n",
       "3436   uc001jjj.3       A1CF  chr10    52559168   52645435       3274   \n",
       "6250   uc001qvk.1        A2M  chr12     9220303    9268558       6062   \n",
       "\n",
       "          protein  \n",
       "30786  uc021ree.1  \n",
       "15095  uc002qsd.4  \n",
       "14204  uc002qsg.3  \n",
       "3436   uc001jjj.3  \n",
       "6250   uc001qvk.1  "
      ]
     },
     "execution_count": 10,
     "metadata": {},
     "output_type": "execute_result"
    }
   ],
   "source": [
    "# Gene location in hg19\n",
    "gene_locations_filename = genome_dir+'chrom_hg19.loc_canonical'\n",
    "gene_id_filename = genome_dir+'chrom_hg19.name'\n",
    "df_loc = lu.get_all_gene_locations(gene_locations_filename, gene_id_filename)\n",
    "df_loc.head()"
   ]
  },
  {
   "cell_type": "code",
   "execution_count": 11,
   "metadata": {},
   "outputs": [],
   "source": [
    "# Create BED object for gene locations\n",
    "allgenes_df = df_loc[['#chrom', 'chromStart', 'chromEnd', 'geneSymbol']].copy()\n",
    "allgenes_df.columns = ['chrom', 'start', 'end', 'name']\n",
    "allgenes_df = allgenes_df.reset_index(drop=True)\n",
    "allgenes_bed = pybedtools.BedTool.from_dataframe(allgenes_df)\n",
    "allgenes_bed = allgenes_bed.sort()"
   ]
  },
  {
   "cell_type": "code",
   "execution_count": 12,
   "metadata": {},
   "outputs": [],
   "source": [
    "# Dictionary of genes per chromosome\n",
    "genes_per_chrom_dict = defaultdict(list)\n",
    "for idx in allgenes_df.index:\n",
    "    chrom = allgenes_df.loc[idx, 'chrom']\n",
    "    name = allgenes_df.loc[idx, 'name']\n",
    "    genes_per_chrom_dict[chrom].append(name)"
   ]
  },
  {
   "cell_type": "code",
   "execution_count": 13,
   "metadata": {},
   "outputs": [],
   "source": [
    "# Dictionary of active genes per chromosome\n",
    "active_genes_per_chrom_dict = defaultdict(list)\n",
    "for idx in allgenes_df.index:\n",
    "    chrom = allgenes_df.loc[idx, 'chrom']\n",
    "    name = allgenes_df.loc[idx, 'name']\n",
    "    if (name in active_genes):\n",
    "        active_genes_per_chrom_dict[chrom].append(name)"
   ]
  },
  {
   "cell_type": "markdown",
   "metadata": {},
   "source": [
    "## Adhesome genes"
   ]
  },
  {
   "cell_type": "code",
   "execution_count": 14,
   "metadata": {},
   "outputs": [],
   "source": [
    "# Adhesome genes\n",
    "with open(saving_dir+'active_adhesome_genes.pkl', 'rb') as f:\n",
    "    active_adhesome_genes = pickle.load(f)\n",
    "with open(saving_dir+'inactive_adhesome_genes.pkl', 'rb') as f:\n",
    "    inactive_adhesome_genes = pickle.load(f)"
   ]
  },
  {
   "cell_type": "code",
   "execution_count": 15,
   "metadata": {},
   "outputs": [],
   "source": [
    "# Create BED object for adhesome gene locations\n",
    "adhesome_df = df_loc[df_loc['geneSymbol'].isin(active_adhesome_genes)]\n",
    "adhesome_df = adhesome_df[['#chrom', 'chromStart', 'chromEnd', 'geneSymbol']]\n",
    "adhesome_df.columns = ['chrom', 'start', 'end', 'name']\n",
    "adhesome_df = adhesome_df.reset_index(drop=True)\n",
    "adhesome_bed = pybedtools.BedTool.from_dataframe(adhesome_df)\n",
    "adhesome_bed = adhesome_bed.sort()\n",
    "\n",
    "inactive_adhesome_df = df_loc[df_loc['geneSymbol'].isin(inactive_adhesome_genes)]\n",
    "inactive_adhesome_df = inactive_adhesome_df[['#chrom', 'chromStart', 'chromEnd', 'geneSymbol']]\n",
    "inactive_adhesome_df.columns = ['chrom', 'start', 'end', 'name']\n",
    "inactive_adhesome_df = inactive_adhesome_df.reset_index(drop=True)"
   ]
  },
  {
   "cell_type": "code",
   "execution_count": 16,
   "metadata": {},
   "outputs": [],
   "source": [
    "# Dictionary of adhesome genes per chromosome\n",
    "adhesome_genes_per_chrom_dict = defaultdict(list)\n",
    "for idx in adhesome_df.index:\n",
    "    chrom = adhesome_df.loc[idx, 'chrom']\n",
    "    name = adhesome_df.loc[idx, 'name']\n",
    "    adhesome_genes_per_chrom_dict[chrom].append(name)"
   ]
  },
  {
   "cell_type": "code",
   "execution_count": 17,
   "metadata": {},
   "outputs": [],
   "source": [
    "# Identify which genes are adhesome\n",
    "allgenes_df.loc[:, 'adhesome'] = allgenes_df['name'].isin(active_adhesome_genes)"
   ]
  },
  {
   "cell_type": "code",
   "execution_count": 18,
   "metadata": {},
   "outputs": [],
   "source": [
    "# Adhesome loci\n",
    "with open(saving_dir+'adhesome_chr_loci.pkl', 'rb') as f:\n",
    "    adhesome_chr_loci = pickle.load(f)\n",
    "\n",
    "active_adhesome_loci = adhesome_chr_loci[adhesome_chr_loci['active']]['locus_id'].unique()\n",
    "inactive_adhesome_loci = adhesome_chr_loci[~adhesome_chr_loci['active']]['locus_id'].unique()\n",
    "\n",
    "active_adhesome_loci_dict = defaultdict(list)\n",
    "for loc in active_adhesome_loci:\n",
    "    active_adhesome_loci_dict[int(loc.split('_')[1])].append(loc)"
   ]
  },
  {
   "cell_type": "markdown",
   "metadata": {},
   "source": [
    "## TADs"
   ]
  },
  {
   "cell_type": "code",
   "execution_count": 19,
   "metadata": {},
   "outputs": [
    {
     "data": {
      "text/html": [
       "<div>\n",
       "<style scoped>\n",
       "    .dataframe tbody tr th:only-of-type {\n",
       "        vertical-align: middle;\n",
       "    }\n",
       "\n",
       "    .dataframe tbody tr th {\n",
       "        vertical-align: top;\n",
       "    }\n",
       "\n",
       "    .dataframe thead th {\n",
       "        text-align: right;\n",
       "    }\n",
       "</style>\n",
       "<table border=\"1\" class=\"dataframe\">\n",
       "  <thead>\n",
       "    <tr style=\"text-align: right;\">\n",
       "      <th></th>\n",
       "      <th>chromo</th>\n",
       "      <th>start</th>\n",
       "      <th>end</th>\n",
       "      <th>length</th>\n",
       "    </tr>\n",
       "  </thead>\n",
       "  <tbody>\n",
       "    <tr>\n",
       "      <th>0</th>\n",
       "      <td>1</td>\n",
       "      <td>1060001</td>\n",
       "      <td>1165000</td>\n",
       "      <td>105000</td>\n",
       "    </tr>\n",
       "    <tr>\n",
       "      <th>1</th>\n",
       "      <td>1</td>\n",
       "      <td>1325001</td>\n",
       "      <td>1440000</td>\n",
       "      <td>115000</td>\n",
       "    </tr>\n",
       "    <tr>\n",
       "      <th>2</th>\n",
       "      <td>1</td>\n",
       "      <td>1880001</td>\n",
       "      <td>1980000</td>\n",
       "      <td>100000</td>\n",
       "    </tr>\n",
       "    <tr>\n",
       "      <th>3</th>\n",
       "      <td>1</td>\n",
       "      <td>2120001</td>\n",
       "      <td>2320000</td>\n",
       "      <td>200000</td>\n",
       "    </tr>\n",
       "    <tr>\n",
       "      <th>4</th>\n",
       "      <td>1</td>\n",
       "      <td>2345001</td>\n",
       "      <td>2460000</td>\n",
       "      <td>115000</td>\n",
       "    </tr>\n",
       "  </tbody>\n",
       "</table>\n",
       "</div>"
      ],
      "text/plain": [
       "   chromo    start      end  length\n",
       "0       1  1060001  1165000  105000\n",
       "1       1  1325001  1440000  115000\n",
       "2       1  1880001  1980000  100000\n",
       "3       1  2120001  2320000  200000\n",
       "4       1  2345001  2460000  115000"
      ]
     },
     "execution_count": 19,
     "metadata": {},
     "output_type": "execute_result"
    }
   ],
   "source": [
    "# Load TAD data\n",
    "fname = arrowhead_dir+f'{normalization}/{resolution}/processed_tads_list.csv'\n",
    "processed_tads_df = pd.read_csv(fname, header=0, index_col=0)\n",
    "processed_tads_df.head()"
   ]
  },
  {
   "cell_type": "code",
   "execution_count": 20,
   "metadata": {},
   "outputs": [],
   "source": [
    "# Create BED object\n",
    "processed_tads_df.loc[:, 'name'] =  processed_tads_df.apply(\n",
    "    lambda row: f\"tad_chr{row['chromo']}_{row['start']}_{row['end']}\", axis=1\n",
    ")\n",
    "processed_tads_df.loc[:, 'chromo'] = 'chr'+processed_tads_df['chromo'].astype(str)\n",
    "processed_tads_df = processed_tads_df[['chromo', 'start', 'end', 'name']]\n",
    "processed_tads_df.columns = ['chrom', 'start', 'end', 'name']\n",
    "processed_tads_bed = pybedtools.BedTool.from_dataframe(processed_tads_df)\n",
    "processed_tads_bed = processed_tads_bed.sort()"
   ]
  },
  {
   "cell_type": "markdown",
   "metadata": {},
   "source": [
    "# Proximity on the genomic sequence"
   ]
  },
  {
   "cell_type": "markdown",
   "metadata": {},
   "source": [
    "## Visualize on genome"
   ]
  },
  {
   "cell_type": "code",
   "execution_count": 21,
   "metadata": {},
   "outputs": [
    {
     "data": {
      "image/png": "[encoded data removed]",
      "text/plain": [
       "<Figure size 1440x720 with 1 Axes>"
      ]
     },
     "metadata": {},
     "output_type": "display_data"
    }
   ],
   "source": [
    "# Plot\n",
    "sns.set(font_scale=1.5)\n",
    "plt.figure(figsize=(20, 10))\n",
    "ax = sns.barplot(\n",
    "    data=chrom_size_df, \n",
    "    x='chrom', \n",
    "    y='size', \n",
    "    color='lightgrey', \n",
    "    order=all_chroms,\n",
    "    edgecolor='none'\n",
    ")\n",
    "\n",
    "# Add bands for all active adhesome genes\n",
    "for idx in adhesome_df.index:\n",
    "    \n",
    "    adh_chromosome = int(adhesome_df.loc[idx, 'chrom'].strip('chr'))\n",
    "    adh_start = adhesome_df.loc[idx, 'start']\n",
    "    adh_end = adhesome_df.loc[idx, 'end']\n",
    "    \n",
    "    bar = ax.patches[adh_chromosome-1]\n",
    "    rect = mpatches.Rectangle(\n",
    "        (bar.get_x(), adh_start), \n",
    "        bar.get_width(), \n",
    "        max((adh_end-adh_start), 1000000), # makes sure that the bar is visible\n",
    "        facecolor='blue',\n",
    "        edgecolor='none',\n",
    "        alpha=0.5\n",
    "    )\n",
    "    ax.add_patch(rect)\n",
    "    \n",
    "# Add bands for all inactive adhesome genes\n",
    "for idx in inactive_adhesome_df.index:\n",
    "    \n",
    "    adh_chromosome = int(inactive_adhesome_df.loc[idx, 'chrom'].strip('chr'))\n",
    "    adh_start = inactive_adhesome_df.loc[idx, 'start']\n",
    "    adh_end = inactive_adhesome_df.loc[idx, 'end']\n",
    "    \n",
    "    bar = ax.patches[adh_chromosome-1]\n",
    "    rect = mpatches.Rectangle(\n",
    "        (bar.get_x(), adh_start), \n",
    "        bar.get_width(), \n",
    "        max((adh_end-adh_start), 1000000), # makes sure that the bar is visible\n",
    "        facecolor='red',\n",
    "        edgecolor='none',\n",
    "        alpha=0.5\n",
    "    )\n",
    "    ax.add_patch(rect)\n",
    "\n",
    "# Create custom legend handles\n",
    "blue_patch = mpatches.Patch(color='blue', alpha=0.5, label=f'{adhesome_df.shape[0]} active adhesome genes')\n",
    "red_patch = mpatches.Patch(color='red', alpha=0.5, label=f'{inactive_adhesome_df.shape[0]} inactive adhesome genes')\n",
    "plt.legend(handles=[blue_patch, red_patch], loc='lower right', title='Adhesome genes')\n",
    "\n",
    "plt.gca().invert_yaxis()\n",
    "plt.xlabel('Chromosome')\n",
    "plt.ylabel('Genomic location (bp)')\n",
    "plt.show()"
   ]
  },
  {
   "cell_type": "markdown",
   "metadata": {},
   "source": [
    "## Using genomic distance"
   ]
  },
  {
   "cell_type": "code",
   "execution_count": 22,
   "metadata": {},
   "outputs": [],
   "source": [
    "# Find genomic distance between a set of genes\n",
    "def find_genomic_distances(selected_genes, allgenes_df):\n",
    "\n",
    "    genes_df = allgenes_df[allgenes_df['name'].isin(selected_genes)]\n",
    "    genes_distances = {}\n",
    "    for chrom in tqdm(chrom_list):\n",
    "        genes_in_chrom = genes_df[genes_df['chrom']==f'chr{chrom}']['name'].values\n",
    "        dist_df = pd.DataFrame(list(itertools.combinations(genes_in_chrom, 2)), columns=['gene1', 'gene2'])\n",
    "        dist_df.loc[:, 'genomic_distance'] = 0\n",
    "        for idx in dist_df.index:\n",
    "            gene1 = dist_df.loc[idx, 'gene1']\n",
    "            gene1_start = allgenes_df[allgenes_df['name']==gene1]['start'].values[0]\n",
    "            gene1_end = allgenes_df[allgenes_df['name']==gene1]['end'].values[0]\n",
    "            gene2 = dist_df.loc[idx, 'gene2']\n",
    "            gene2_start = allgenes_df[allgenes_df['name']==gene2]['start'].values[0]\n",
    "            gene2_end = allgenes_df[allgenes_df['name']==gene2]['end'].values[0]\n",
    "            dist = max(gene2_end-gene1_start, gene1_end-gene2_start)\n",
    "            dist_df.loc[idx, 'genomic_distance'] = dist\n",
    "        genes_distances[chrom] = dist_df\n",
    "        \n",
    "    return(genes_distances)"
   ]
  },
  {
   "cell_type": "code",
   "execution_count": 23,
   "metadata": {},
   "outputs": [
    {
     "data": {
      "application/vnd.jupyter.widget-view+json": {
       "model_id": "1753d72cbb824064baab3bdcaaf0d1ad",
       "version_major": 2,
       "version_minor": 0
      },
      "text/plain": [
       "HBox(children=(IntProgress(value=0, max=22), HTML(value='')))"
      ]
     },
     "metadata": {},
     "output_type": "display_data"
    },
    {
     "name": "stdout",
     "output_type": "stream",
     "text": [
      "\n"
     ]
    }
   ],
   "source": [
    "# Compute genomic distances between adhesome genes\n",
    "adhesome_genes_distances_dict = find_genomic_distances(active_adhesome_genes, allgenes_df)"
   ]
  },
  {
   "cell_type": "code",
   "execution_count": 24,
   "metadata": {},
   "outputs": [],
   "source": [
    "# Retrieve list of genomic distances between adhesome genes\n",
    "adhesome_genes_distances = [\n",
    "    adhesome_genes_distances_dict[chrom]['genomic_distance'].values for chrom in chrom_list\n",
    "]\n",
    "adhesome_genes_distances = list(itertools.chain.from_iterable(adhesome_genes_distances))"
   ]
  },
  {
   "cell_type": "code",
   "execution_count": 25,
   "metadata": {},
   "outputs": [
    {
     "data": {
      "application/vnd.jupyter.widget-view+json": {
       "model_id": "f14e9a7cb0c24f3b86b4a6c18e74de33",
       "version_major": 2,
       "version_minor": 0
      },
      "text/plain": [
       "HBox(children=(IntProgress(value=0, max=22), HTML(value='')))"
      ]
     },
     "metadata": {},
     "output_type": "display_data"
    },
    {
     "name": "stdout",
     "output_type": "stream",
     "text": [
      "\n"
     ]
    }
   ],
   "source": [
    "# Sample random genes on the same chromosome\n",
    "np.random.seed(13)\n",
    "random_genes = [\n",
    "    np.random.choice(\n",
    "        active_genes_per_chrom_dict[f'chr{chrom}'], \n",
    "        len(adhesome_genes_per_chrom_dict[f'chr{chrom}']), \n",
    "        replace=False\n",
    "    ) \n",
    "    for chrom in chrom_list\n",
    "]\n",
    "random_genes = sorted(itertools.chain.from_iterable(random_genes))\n",
    "\n",
    "# Compute genomic distances between adhesome genes\n",
    "random_genes_distances_dict = find_genomic_distances(random_genes, allgenes_df)"
   ]
  },
  {
   "cell_type": "code",
   "execution_count": 26,
   "metadata": {},
   "outputs": [],
   "source": [
    "# Retrieve list of genomic distances between random genes\n",
    "random_genes_distances = [\n",
    "    random_genes_distances_dict[chrom]['genomic_distance'].values for chrom in chrom_list\n",
    "]\n",
    "random_genes_distances = list(itertools.chain.from_iterable(random_genes_distances))"
   ]
  },
  {
   "cell_type": "code",
   "execution_count": 27,
   "metadata": {},
   "outputs": [
    {
     "data": {
      "image/png": "[encoded data removed]",
      "text/plain": [
       "<Figure size 432x288 with 1 Axes>"
      ]
     },
     "metadata": {},
     "output_type": "display_data"
    },
    {
     "name": "stdout",
     "output_type": "stream",
     "text": [
      "WRS p-value for intrachromosomal contacts between active adhesome genes and random active genes = 0.8871934724550488\n"
     ]
    }
   ],
   "source": [
    "# Plot histogram of distances\n",
    "plt.figure()\n",
    "plt.hist(\n",
    "    x=adhesome_genes_distances,\n",
    "    bins=np.arange(0, max(random_genes_distances), 1e7),\n",
    "    color='blue',\n",
    "    alpha=0.5,\n",
    "    label='Active adhesome genes'\n",
    ")\n",
    "plt.hist(\n",
    "    x=random_genes_distances,\n",
    "    bins=np.arange(0, max(random_genes_distances), 1e7),\n",
    "    color='orange',\n",
    "    alpha=0.5,\n",
    "    label='Random active genes'\n",
    ")\n",
    "plt.xlabel('Genomic distance (bp)')\n",
    "plt.ylabel('Count')\n",
    "plt.legend(loc='upper right')\n",
    "plt.show()\n",
    "\n",
    "stat, pval = ss.ranksums(\n",
    "    x=adhesome_genes_distances,\n",
    "    y=random_genes_distances,\n",
    "    alternative='two-sided'\n",
    ")\n",
    "print(f\"WRS p-value for intrachromosomal contacts between active adhesome genes and random active genes = {pval}\")"
   ]
  },
  {
   "cell_type": "markdown",
   "metadata": {},
   "source": [
    "## Using TADs"
   ]
  },
  {
   "cell_type": "code",
   "execution_count": 28,
   "metadata": {},
   "outputs": [],
   "source": [
    "# Map genes to their TADs\n",
    "out_adhesome = pybedtools.bedtool.BedTool.map(\n",
    "    processed_tads_bed, \n",
    "    adhesome_bed, \n",
    "    c=[4], \n",
    "    o='distinct',\n",
    "    F=0.25 # Minimum overlap required as a fraction of B.\n",
    ")\n",
    "out_adhesome = out_adhesome.to_dataframe()"
   ]
  },
  {
   "cell_type": "code",
   "execution_count": 29,
   "metadata": {},
   "outputs": [
    {
     "data": {
      "text/html": [
       "<div>\n",
       "<style scoped>\n",
       "    .dataframe tbody tr th:only-of-type {\n",
       "        vertical-align: middle;\n",
       "    }\n",
       "\n",
       "    .dataframe tbody tr th {\n",
       "        vertical-align: top;\n",
       "    }\n",
       "\n",
       "    .dataframe thead th {\n",
       "        text-align: right;\n",
       "    }\n",
       "</style>\n",
       "<table border=\"1\" class=\"dataframe\">\n",
       "  <thead>\n",
       "    <tr style=\"text-align: right;\">\n",
       "      <th></th>\n",
       "      <th>chrom</th>\n",
       "      <th>start</th>\n",
       "      <th>end</th>\n",
       "      <th>name</th>\n",
       "      <th>adhesome_genes</th>\n",
       "      <th>n_adhesome_genes</th>\n",
       "    </tr>\n",
       "  </thead>\n",
       "  <tbody>\n",
       "    <tr>\n",
       "      <th>64</th>\n",
       "      <td>1</td>\n",
       "      <td>23625001</td>\n",
       "      <td>23805000</td>\n",
       "      <td>tad_chr1_23625001_23805000</td>\n",
       "      <td>[ASAP3]</td>\n",
       "      <td>1</td>\n",
       "    </tr>\n",
       "    <tr>\n",
       "      <th>82</th>\n",
       "      <td>1</td>\n",
       "      <td>27430001</td>\n",
       "      <td>27615000</td>\n",
       "      <td>tad_chr1_27430001_27615000</td>\n",
       "      <td>[SLC9A1]</td>\n",
       "      <td>1</td>\n",
       "    </tr>\n",
       "    <tr>\n",
       "      <th>122</th>\n",
       "      <td>1</td>\n",
       "      <td>39565001</td>\n",
       "      <td>39735000</td>\n",
       "      <td>tad_chr1_39565001_39735000</td>\n",
       "      <td>[MACF1]</td>\n",
       "      <td>1</td>\n",
       "    </tr>\n",
       "    <tr>\n",
       "      <th>123</th>\n",
       "      <td>1</td>\n",
       "      <td>39765001</td>\n",
       "      <td>39935000</td>\n",
       "      <td>tad_chr1_39765001_39935000</td>\n",
       "      <td>[MACF1]</td>\n",
       "      <td>1</td>\n",
       "    </tr>\n",
       "    <tr>\n",
       "      <th>136</th>\n",
       "      <td>1</td>\n",
       "      <td>43920001</td>\n",
       "      <td>44165000</td>\n",
       "      <td>tad_chr1_43920001_44165000</td>\n",
       "      <td>[PTPRF]</td>\n",
       "      <td>1</td>\n",
       "    </tr>\n",
       "  </tbody>\n",
       "</table>\n",
       "</div>"
      ],
      "text/plain": [
       "     chrom     start       end                        name adhesome_genes  \\\n",
       "64       1  23625001  23805000  tad_chr1_23625001_23805000        [ASAP3]   \n",
       "82       1  27430001  27615000  tad_chr1_27430001_27615000       [SLC9A1]   \n",
       "122      1  39565001  39735000  tad_chr1_39565001_39735000        [MACF1]   \n",
       "123      1  39765001  39935000  tad_chr1_39765001_39935000        [MACF1]   \n",
       "136      1  43920001  44165000  tad_chr1_43920001_44165000        [PTPRF]   \n",
       "\n",
       "     n_adhesome_genes  \n",
       "64                  1  \n",
       "82                  1  \n",
       "122                 1  \n",
       "123                 1  \n",
       "136                 1  "
      ]
     },
     "execution_count": 29,
     "metadata": {},
     "output_type": "execute_result"
    }
   ],
   "source": [
    "# Postprocess results\n",
    "out_adhesome.columns = ['chrom', 'start', 'end', 'name', 'adhesome_genes']\n",
    "out_adhesome.loc[:, 'chrom'] = out_adhesome['chrom'].str.strip('chr').astype(int)\n",
    "out_adhesome['adhesome_genes'] = out_adhesome['adhesome_genes'].str.replace('.', '')\n",
    "out_adhesome['adhesome_genes'] = out_adhesome['adhesome_genes'].str.split(',')\n",
    "out_adhesome.loc[:, 'adhesome_genes'] = out_adhesome.apply(\n",
    "    lambda row: row['adhesome_genes'] if (row['adhesome_genes'][0]!='') else list(), axis=1\n",
    ")\n",
    "out_adhesome.loc[:, 'n_adhesome_genes'] = out_adhesome.apply(\n",
    "    lambda row: len(row['adhesome_genes']), axis=1\n",
    ")\n",
    "out_adhesome = out_adhesome[out_adhesome['n_adhesome_genes']>0]\n",
    "out_adhesome.head()"
   ]
  },
  {
   "cell_type": "code",
   "execution_count": 30,
   "metadata": {},
   "outputs": [
    {
     "data": {
      "image/png": "[encoded data removed]",
      "text/plain": [
       "<Figure size 432x288 with 1 Axes>"
      ]
     },
     "metadata": {},
     "output_type": "display_data"
    }
   ],
   "source": [
    "# Number of adhesome genes per TAD\n",
    "x, h = np.unique(out_adhesome[out_adhesome['n_adhesome_genes']>0]['n_adhesome_genes'], return_counts=True)\n",
    "plt.figure()\n",
    "plt.bar(\n",
    "    x=x,\n",
    "    height=h\n",
    ")\n",
    "for i, j in zip(x, h):\n",
    "    plt.text(i, j, str(j), ha='center', va='bottom')\n",
    "plt.xlabel('Number of active adhesome genes')\n",
    "plt.ylabel('Number of adhesome TADs')\n",
    "plt.xticks(np.arange(min(x), max(x)+1))\n",
    "plt.ylim(0, 150)\n",
    "plt.show()"
   ]
  },
  {
   "cell_type": "code",
   "execution_count": 31,
   "metadata": {},
   "outputs": [
    {
     "data": {
      "text/html": [
       "<div>\n",
       "<style scoped>\n",
       "    .dataframe tbody tr th:only-of-type {\n",
       "        vertical-align: middle;\n",
       "    }\n",
       "\n",
       "    .dataframe tbody tr th {\n",
       "        vertical-align: top;\n",
       "    }\n",
       "\n",
       "    .dataframe thead th {\n",
       "        text-align: right;\n",
       "    }\n",
       "</style>\n",
       "<table border=\"1\" class=\"dataframe\">\n",
       "  <thead>\n",
       "    <tr style=\"text-align: right;\">\n",
       "      <th></th>\n",
       "      <th>chrom</th>\n",
       "      <th>start</th>\n",
       "      <th>end</th>\n",
       "      <th>name</th>\n",
       "      <th>adhesome_genes</th>\n",
       "      <th>n_adhesome_genes</th>\n",
       "    </tr>\n",
       "  </thead>\n",
       "  <tbody>\n",
       "    <tr>\n",
       "      <th>837</th>\n",
       "      <td>11</td>\n",
       "      <td>70125001</td>\n",
       "      <td>70270000</td>\n",
       "      <td>tad_chr11_70125001_70270000</td>\n",
       "      <td>[CTTN, PPFIA1]</td>\n",
       "      <td>2</td>\n",
       "    </tr>\n",
       "    <tr>\n",
       "      <th>2863</th>\n",
       "      <td>22</td>\n",
       "      <td>22120001</td>\n",
       "      <td>22295000</td>\n",
       "      <td>tad_chr22_22120001_22295000</td>\n",
       "      <td>[MAPK1, PPM1F]</td>\n",
       "      <td>2</td>\n",
       "    </tr>\n",
       "  </tbody>\n",
       "</table>\n",
       "</div>"
      ],
      "text/plain": [
       "      chrom     start       end                         name  adhesome_genes  \\\n",
       "837      11  70125001  70270000  tad_chr11_70125001_70270000  [CTTN, PPFIA1]   \n",
       "2863     22  22120001  22295000  tad_chr22_22120001_22295000  [MAPK1, PPM1F]   \n",
       "\n",
       "      n_adhesome_genes  \n",
       "837                  2  \n",
       "2863                 2  "
      ]
     },
     "execution_count": 31,
     "metadata": {},
     "output_type": "execute_result"
    }
   ],
   "source": [
    "# Examine the TADs that have multiple adhesome genes\n",
    "out_adhesome[out_adhesome['n_adhesome_genes']==2]"
   ]
  },
  {
   "cell_type": "markdown",
   "metadata": {},
   "source": [
    "# Proximity in 3D"
   ]
  },
  {
   "cell_type": "markdown",
   "metadata": {},
   "source": [
    "## Using loci as unit"
   ]
  },
  {
   "cell_type": "code",
   "execution_count": 32,
   "metadata": {},
   "outputs": [
    {
     "data": {
      "application/vnd.jupyter.widget-view+json": {
       "model_id": "8e4f0afe883e4740a39bd1b89b023423",
       "version_major": 2,
       "version_minor": 0
      },
      "text/plain": [
       "HBox(children=(IntProgress(value=0, max=22), HTML(value='')))"
      ]
     },
     "metadata": {},
     "output_type": "display_data"
    },
    {
     "name": "stdout",
     "output_type": "stream",
     "text": [
      "\n"
     ]
    }
   ],
   "source": [
    "# Compute intrachromosomal Hi-C contacts between adhesome loci for each chromosome\n",
    "intraX_adhesome_hic_dict = {}\n",
    "for chrom in tqdm(chrom_list):\n",
    "    \n",
    "    # Select loci for this chromosome\n",
    "    loci = active_adhesome_loci_dict[chrom]\n",
    "    loci = list(set(loci)-set(blacklist_list))\n",
    "    loci_pairs = list(itertools.combinations(loci, 2))\n",
    "    stacked_loci_df = pd.DataFrame(loci_pairs, columns=['locus1', 'locus2'])\n",
    "    stacked_loci_df['hic'] = 0\n",
    "    \n",
    "    # Load HiC data for this chromosome pair\n",
    "    processed_hic_filename = 'hic_'+'chr'+str(chrom)+'_'+'chr'+str(chrom)+'_norm1_filter3'+'.pkl'\n",
    "    with open(balanced_hic_dir+processed_hic_filename, 'rb') as f:\n",
    "        hic_chpair_df = pickle.load(f)\n",
    "    \n",
    "    # Fill in Hi-C contact values\n",
    "    for locus1_id, locus2_id in loci_pairs:\n",
    "        locus1 = int(locus1_id.split('_')[3])\n",
    "        locus2 = int(locus2_id.split('_')[3])\n",
    "        stacked_loci_df.loc[\n",
    "            (stacked_loci_df['locus1']==locus1_id) & (stacked_loci_df['locus2']==locus2_id), 'hic'\n",
    "        ] = hic_chpair_df.loc[locus1,locus2]\n",
    "    \n",
    "    intraX_adhesome_hic_dict[chrom] = stacked_loci_df\n",
    "    \n",
    "adhesome_loci_hic_distances = [intraX_adhesome_hic_dict[chrom]['hic'].values for chrom in chrom_list]\n",
    "adhesome_loci_hic_distances = list(itertools.chain.from_iterable(adhesome_loci_hic_distances))"
   ]
  },
  {
   "cell_type": "code",
   "execution_count": 33,
   "metadata": {},
   "outputs": [],
   "source": [
    "# Select random active loci (stratify per chromosome)\n",
    "np.random.seed(13)\n",
    "active_random_loci_dict = {\n",
    "    chrom: np.random.choice(\n",
    "        list(set(active_loci_per_chrom_dict[chrom])-set(active_adhesome_loci_dict[chrom])-set(blacklist_list)),\n",
    "        size=len(active_adhesome_loci_dict[chrom]),\n",
    "        replace=True\n",
    "    ) for chrom in chrom_list\n",
    "}"
   ]
  },
  {
   "cell_type": "code",
   "execution_count": 34,
   "metadata": {},
   "outputs": [
    {
     "data": {
      "application/vnd.jupyter.widget-view+json": {
       "model_id": "7a1f5d864f344f9bae319aa42620aeb5",
       "version_major": 2,
       "version_minor": 0
      },
      "text/plain": [
       "HBox(children=(IntProgress(value=0, max=22), HTML(value='')))"
      ]
     },
     "metadata": {},
     "output_type": "display_data"
    },
    {
     "name": "stdout",
     "output_type": "stream",
     "text": [
      "\n"
     ]
    }
   ],
   "source": [
    "# Compute intrachromosomal Hi-C contacts between random loci for each chromosome\n",
    "intraX_random_hic_dict = {}\n",
    "for chrom in tqdm(chrom_list):\n",
    "    \n",
    "    # Select loci for this chromosome\n",
    "    loci = active_random_loci_dict[chrom]\n",
    "    loci_pairs = list(itertools.combinations(loci, 2))\n",
    "    stacked_loci_df = pd.DataFrame(loci_pairs, columns=['locus1', 'locus2'])\n",
    "    stacked_loci_df['hic'] = 0\n",
    "    \n",
    "    # Load HiC data for this chromosome pair\n",
    "    processed_hic_filename = 'hic_'+'chr'+str(chrom)+'_'+'chr'+str(chrom)+'_norm1_filter3'+'.pkl'\n",
    "    with open(balanced_hic_dir+processed_hic_filename, 'rb') as f:\n",
    "        hic_chpair_df = pickle.load(f)\n",
    "    \n",
    "    # Fill in Hi-C contact values\n",
    "    for locus1_id, locus2_id in loci_pairs:\n",
    "        locus1 = int(locus1_id.split('_')[3])\n",
    "        locus2 = int(locus2_id.split('_')[3])\n",
    "        stacked_loci_df.loc[\n",
    "            (stacked_loci_df['locus1']==locus1_id) & (stacked_loci_df['locus2']==locus2_id), 'hic'\n",
    "        ] = hic_chpair_df.loc[locus1,locus2]\n",
    "    \n",
    "    intraX_random_hic_dict[chrom] = stacked_loci_df\n",
    "    \n",
    "random_loci_hic_distances = [intraX_random_hic_dict[chrom]['hic'].values for chrom in chrom_list]\n",
    "random_loci_hic_distances = list(itertools.chain.from_iterable(random_loci_hic_distances))"
   ]
  },
  {
   "cell_type": "code",
   "execution_count": 35,
   "metadata": {},
   "outputs": [
    {
     "data": {
      "image/png": "[encoded data removed]",
      "text/plain": [
       "<Figure size 432x288 with 1 Axes>"
      ]
     },
     "metadata": {},
     "output_type": "display_data"
    },
    {
     "name": "stdout",
     "output_type": "stream",
     "text": [
      "WRS p-value for intrachromosomal contacts between active adhesome loci and active random loci = 0.0007349874952023457\n"
     ]
    }
   ],
   "source": [
    "# Compare intraX Hi-C distances between active adhesome loci and random active loci\n",
    "max_val = max([max(adhesome_loci_hic_distances), max(random_loci_hic_distances)])\n",
    "\n",
    "plt.figure()\n",
    "plt.hist(\n",
    "    x=adhesome_loci_hic_distances,\n",
    "    bins=np.arange(0, max_val+10, 0.5),\n",
    "    color='blue',\n",
    "    alpha=0.5,\n",
    "    label='Active adhesome genes'\n",
    ")\n",
    "plt.hist(\n",
    "    x=random_loci_hic_distances,\n",
    "    bins=np.arange(0, max_val+10, 0.5),\n",
    "    color='orange',\n",
    "    alpha=0.5,\n",
    "    label='Active random genes'\n",
    ")\n",
    "plt.legend(loc='upper right')\n",
    "plt.xlabel('Intrachromosomal Hi-C contact')\n",
    "plt.ylabel('Count')\n",
    "plt.show()\n",
    "\n",
    "stat, pval = ss.ranksums(\n",
    "    x=adhesome_loci_hic_distances,\n",
    "    y=random_loci_hic_distances,\n",
    "    alternative='two-sided'\n",
    ")\n",
    "print(f\"WRS p-value for intrachromosomal contacts between active adhesome loci and active random loci = {pval}\")"
   ]
  },
  {
   "cell_type": "code",
   "execution_count": 36,
   "metadata": {},
   "outputs": [],
   "source": [
    "# Analyze adhesome genes with high intraX contacts\n",
    "intraX_adhesome_hic_df = pd.concat(intraX_adhesome_hic_dict.values(), axis=0)\n",
    "intraX_adhesome_hic_df.loc[:, 'neighbor_loci'] = intraX_adhesome_hic_df.apply(\n",
    "    lambda row: 2 if (np.abs(int(row['locus1'].split('_')[3])-int(row['locus2'].split('_')[3]))==resol) else 1, \n",
    "    axis=1\n",
    ")"
   ]
  },
  {
   "cell_type": "code",
   "execution_count": 37,
   "metadata": {},
   "outputs": [
    {
     "data": {
      "text/plain": [
       "PosixPath('/home/louiscam/projects/gpcr/code/analysis2_adhesome_HiC/intraX_proximal_loci.html')"
      ]
     },
     "execution_count": 37,
     "metadata": {},
     "output_type": "execute_result"
    }
   ],
   "source": [
    "# Create network of highly proximal loci\n",
    "t = 7\n",
    "intraX_network = nx.from_pandas_edgelist(\n",
    "    df=intraX_adhesome_hic_df[intraX_adhesome_hic_df['hic']>t],\n",
    "    source='locus1',\n",
    "    target='locus2',\n",
    "    edge_attr=['hic', 'neighbor_loci']\n",
    ")\n",
    "\n",
    "# Add node attributes\n",
    "nx.set_node_attributes(\n",
    "    intraX_network,\n",
    "    {n: n.split('_')[1] for n in intraX_network.nodes},\n",
    "    'chromosome'\n",
    ")\n",
    "nx.set_node_attributes(\n",
    "    intraX_network,\n",
    "    {n: '_'.join(adhesome_chr_loci[adhesome_chr_loci['locus_id']==n]['gene'].values) for n in intraX_network.nodes},\n",
    "    'active_adhesome_genes'\n",
    ")\n",
    "\n",
    "# Save to html\n",
    "oi.output_networkx_graph_as_interactive_html(\n",
    "    intraX_network, \n",
    "    output_dir='.', \n",
    "    filename='intraX_proximal_loci.html'\n",
    ")"
   ]
  },
  {
   "cell_type": "code",
   "execution_count": 38,
   "metadata": {},
   "outputs": [
    {
     "name": "stdout",
     "output_type": "stream",
     "text": [
      "Number of contiguous components = 59\n",
      "Number of noncontiguous components = 7\n"
     ]
    },
    {
     "data": {
      "image/png": "[encoded data removed]",
      "text/plain": [
       "<Figure size 432x288 with 1 Axes>"
      ]
     },
     "metadata": {},
     "output_type": "display_data"
    }
   ],
   "source": [
    "# Check that all high Hi-C contact loci correspond to neighboring loci\n",
    "\n",
    "# Edges with metadata\n",
    "edge_df = oi.get_networkx_graph_as_dataframe_of_edges(intraX_network)\n",
    "edge_df.loc[:, 'interaction_id'] = edge_df.apply(\n",
    "    lambda row: row['protein1']+'_'+row['protein2'], axis=1\n",
    ")\n",
    "\n",
    "# Identify connected components\n",
    "cc_list = sorted(nx.connected_components(intraX_network), key=len, reverse=True)\n",
    "\n",
    "# For each connected component, compute the maximum genomic distance between loci.\n",
    "# If this distance is greater than resol*len(cc), then it means that we have a noncontiguous component\n",
    "non_contiguous_components = []\n",
    "contiguous_components = []\n",
    "for cc in cc_list:\n",
    "    n_cc = len(cc)\n",
    "    bp_cc = [int(loc.split('_')[3]) for loc in cc]\n",
    "    max_dist = max(bp_cc)-min(bp_cc)\n",
    "    if (max_dist>n_cc*resol):\n",
    "        non_contiguous_components.append(cc)\n",
    "    else:\n",
    "        contiguous_components.append(cc)\n",
    "        \n",
    "print(f\"Number of contiguous components = {len(contiguous_components)}\")\n",
    "print(f\"Number of noncontiguous components = {len(non_contiguous_components)}\")\n",
    "\n",
    "plt.figure()\n",
    "plt.bar(\n",
    "    x=['Contiguous\\ncomponents', 'Noncontiguous\\ncomponents'],\n",
    "    height=[len(contiguous_components), len(non_contiguous_components)]\n",
    ")\n",
    "for i, height in enumerate([len(contiguous_components), len(non_contiguous_components)]):\n",
    "    plt.text(i, height/2, str(height), ha='center', va='center', color='white')\n",
    "\n",
    "plt.xlabel('')\n",
    "plt.ylabel('# of connected components')\n",
    "plt.show()"
   ]
  },
  {
   "cell_type": "code",
   "execution_count": 39,
   "metadata": {},
   "outputs": [
    {
     "data": {
      "text/plain": [
       "PosixPath('/home/louiscam/projects/gpcr/code/analysis2_adhesome_HiC/noncontiguous_intraX_proximal_loci.html')"
      ]
     },
     "execution_count": 39,
     "metadata": {},
     "output_type": "execute_result"
    }
   ],
   "source": [
    "# Extract subgraph with these noncontiguous components only\n",
    "noncontiguous_intraX_network = intraX_network.subgraph(\n",
    "    list(itertools.chain.from_iterable(non_contiguous_components))\n",
    ")\n",
    "\n",
    "# Save to html\n",
    "oi.output_networkx_graph_as_interactive_html(\n",
    "    noncontiguous_intraX_network, \n",
    "    output_dir='.', \n",
    "    filename='noncontiguous_intraX_proximal_loci.html'\n",
    ")"
   ]
  },
  {
   "cell_type": "code",
   "execution_count": 40,
   "metadata": {},
   "outputs": [
    {
     "data": {
      "image/png": "[encoded data removed]",
      "text/plain": [
       "<Figure size 1440x720 with 3 Axes>"
      ]
     },
     "metadata": {},
     "output_type": "display_data"
    }
   ],
   "source": [
    "# Plot network\n",
    "plt.figure(figsize=(20, 10))\n",
    "\n",
    "# Define node labels and colors based on node attributes\n",
    "node_labels = nx.get_node_attributes(noncontiguous_intraX_network, 'active_adhesome_genes')\n",
    "node_colors = nx.get_node_attributes(noncontiguous_intraX_network, 'chromosome')\n",
    "node_values = [int(v) for v in node_colors.values()]\n",
    "\n",
    "# Define edge widths based on edge attribute\n",
    "edge_widths = nx.get_edge_attributes(noncontiguous_intraX_network, 'hic')\n",
    "max_width = max(edge_widths.values())  # Maximum value for scaling\n",
    "edge_widths = {k: 2 * (v / max_width) for k, v in edge_widths.items()}  # Scale the edge widths\n",
    "\n",
    "# Define edge colors based on continuous edge attribute\n",
    "edge_colors = nx.get_edge_attributes(noncontiguous_intraX_network, 'neighbor_loci')\n",
    "edge_values = list(edge_colors.values())\n",
    "edge_cmap = colors.ListedColormap(['cyan', 'black'])\n",
    "edge_colors = [edge_cmap(x - 1) for x in edge_values]\n",
    "\n",
    "# Draw the nodes\n",
    "# pos = nx.spring_layout(noncontiguous_intraX_network, k=1)\n",
    "pos = {\n",
    "    'chr_22_loc_21250000': np.array([-0.91677776, -0.03601128]),\n",
    "    'chr_22_loc_22250000': np.array([-0.79287084,  0.65991627]),\n",
    "    'chr_1_loc_154750000': np.array([-0.70922151, -0.75892015]),\n",
    "    'chr_11_loc_119250000': np.array([-0.29551316,  0.0142663 ]),\n",
    "    'chr_14_loc_105000000': np.array([0.73540295, 0.42657252]),\n",
    "    'chr_10_loc_17250000': np.array([0.52851633, 0.19659125]),\n",
    "    'chr_7_loc_6250000': np.array([-0.10376793,  0.94951587]),\n",
    "    'chr_11_loc_120000000': np.array([-0.35010934, -0.4347106 ]),\n",
    "    'chr_7_loc_5500000': np.array([0.0722799 , 0.42044964]),\n",
    "    'chr_11_loc_119000000': np.array([-0.10593315, -0.33425873]),\n",
    "    'chr_10_loc_15500000': np.array([0.98251433, 0.26626805]),\n",
    "    'chr_22_loc_22000000': np.array([-0.92001547,  0.31106195]),\n",
    "    'chr_14_loc_104000000': np.array([0.52558297, 0.85681439]),\n",
    "    'chr_14_loc_105250000': np.array([0.79703208, 0.69870295]),\n",
    "    'chr_1_loc_154000000': np.array([-0.87203551, -0.49869591]),\n",
    "    'chr_11_loc_110000000': np.array([ 0.57035473, -0.84028307]),\n",
    "    'chr_10_loc_15750000': np.array([ 1.        , -0.04529722]),\n",
    "    'chr_11_loc_120250000': np.array([-0.36448972, -0.96919705]),\n",
    "    'chr_11_loc_111250000': np.array([ 0.21905112, -0.88278516])\n",
    "}\n",
    "node_collection = nx.draw_networkx_nodes(\n",
    "    noncontiguous_intraX_network,\n",
    "    pos,\n",
    "    node_color=node_values,\n",
    "    cmap=colors.ListedColormap(colors_list),\n",
    "    node_size=500,\n",
    "    label='Node Colors'\n",
    ")\n",
    "\n",
    "# Draw the edges\n",
    "edge_collection = nx.draw_networkx_edges(\n",
    "    noncontiguous_intraX_network,\n",
    "    pos,\n",
    "    width=[edge_widths[edge] for edge in noncontiguous_intraX_network.edges()],\n",
    "    edge_color=edge_values,\n",
    "    edge_cmap=edge_cmap,\n",
    "    label='Edge Colors'\n",
    ")\n",
    "\n",
    "# Add node labels close to the nodes\n",
    "label_pos = {node: (pos[node][0], pos[node][1] + 0.05) for node in noncontiguous_intraX_network.nodes()}\n",
    "nx.draw_networkx_labels(\n",
    "    noncontiguous_intraX_network,\n",
    "    label_pos,\n",
    "    labels=node_labels,\n",
    "    font_color='black',\n",
    "    font_weight='normal',\n",
    "    verticalalignment='bottom',\n",
    "    horizontalalignment='center'\n",
    ")\n",
    "\n",
    "# Create legend for node colors\n",
    "node_colorbar = plt.colorbar(node_collection)\n",
    "node_ticks = np.array([f'chr{c}' for c in chrom_list])\n",
    "node_colorbar.set_ticks(1+np.arange(0.5, 21.5, 0.95))\n",
    "node_colorbar.set_ticklabels(node_ticks)\n",
    "\n",
    "# Create legend for edge colors\n",
    "edge_colorbar = plt.colorbar(edge_collection)\n",
    "edge_ticks = np.array(sorted(set(edge_values)))\n",
    "edge_colorbar.set_ticks(min(edge_ticks)+(2*edge_ticks-1)/(2*len(edge_ticks)))\n",
    "edge_colorbar.set_ticklabels(['Noncontiguous \\nloci', 'Contiguous \\nloci'])\n",
    "\n",
    "# Show the graph\n",
    "plt.axis('off')\n",
    "\n",
    "plt.show()"
   ]
  },
  {
   "cell_type": "markdown",
   "metadata": {},
   "source": [
    "# Proximity of adhesome genes to their promoters?"
   ]
  },
  {
   "cell_type": "code",
   "execution_count": null,
   "metadata": {},
   "outputs": [],
   "source": []
  },
  {
   "cell_type": "code",
   "execution_count": null,
   "metadata": {},
   "outputs": [],
   "source": []
  },
  {
   "cell_type": "code",
   "execution_count": null,
   "metadata": {},
   "outputs": [],
   "source": []
  },
  {
   "cell_type": "code",
   "execution_count": null,
   "metadata": {},
   "outputs": [],
   "source": []
  }
 ],
 "metadata": {
  "kernelspec": {
   "display_name": "Python 3",
   "language": "python",
   "name": "python3"
  },
  "language_info": {
   "codemirror_mode": {
    "name": "ipython",
    "version": 3
   },
   "file_extension": ".py",
   "mimetype": "text/x-python",
   "name": "python",
   "nbconvert_exporter": "python",
   "pygments_lexer": "ipython3",
   "version": "3.7.4"
  },
  "toc": {
   "base_numbering": 1,
   "nav_menu": {},
   "number_sections": true,
   "sideBar": true,
   "skip_h1_title": false,
   "title_cell": "Table of Contents",
   "title_sidebar": "Contents",
   "toc_cell": false,
   "toc_position": {},
   "toc_section_display": true,
   "toc_window_display": true
  }
 },
 "nbformat": 4,
 "nbformat_minor": 2
}
