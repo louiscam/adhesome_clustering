{
 "cells": [
  {
   "cell_type": "code",
   "execution_count": 1,
   "metadata": {},
   "outputs": [
    {
     "name": "stderr",
     "output_type": "stream",
     "text": [
      "/home/louiscam/anaconda3/lib/python3.7/site-packages/statsmodels/tools/_testing.py:19: FutureWarning: pandas.util.testing is deprecated. Use the functions in the public API at pandas.testing instead.\n",
      "  import pandas.util.testing as tm\n"
     ]
    },
    {
     "data": {
      "text/plain": [
       "<module 'process_jaspar_without_strand' from '/home/louiscam/projects/gpcr/code/JASPAR_processing/process_jaspar_without_strand.py'>"
      ]
     },
     "execution_count": 1,
     "metadata": {},
     "output_type": "execute_result"
    }
   ],
   "source": [
    "# Import standard libraries\n",
    "import os\n",
    "from importlib import reload\n",
    "import numpy as np\n",
    "import matplotlib as mpl\n",
    "import matplotlib.pyplot as plt\n",
    "import seaborn as sns\n",
    "import csv\n",
    "import pandas as pd\n",
    "import pickle\n",
    "import itertools\n",
    "from itertools import groupby\n",
    "import os.path\n",
    "import math\n",
    "import pybedtools\n",
    "import time\n",
    "from tqdm import tqdm\n",
    "import random\n",
    "import MOODS.parsers\n",
    "import MOODS.tools\n",
    "import MOODS.scan\n",
    "import subprocess\n",
    "# Custom libraries\n",
    "import utils as lu\n",
    "import process_jaspar_without_strand as pj\n",
    "# Reload modules in case of modifications\n",
    "reload(lu)\n",
    "reload(pj)"
   ]
  },
  {
   "cell_type": "markdown",
   "metadata": {},
   "source": [
    "# Directories"
   ]
  },
  {
   "cell_type": "code",
   "execution_count": 2,
   "metadata": {},
   "outputs": [],
   "source": [
    "# Directory of adhesome data\n",
    "dir_adhesome = '/home/louiscam/projects/gpcr/data/adhesome_data/'\n",
    "# Directory of genome data\n",
    "dir_genome = '/home/louiscam/projects/gpcr/data/genome_data/'\n",
    "prom_hg19_seq_dir = dir_genome+'prom_hg19_seq_dir/'\n",
    "# Directory of processed HiC\n",
    "dir_processed_hic = '/home/louiscam/projects/gpcr/save/processed_hic_data_dir/'\n",
    "# Directory for storing preliminary results\n",
    "prelim_results_dir = '/home/louiscam/projects/gpcr/save/prelim_results_dir/'\n",
    "# Directory of epigenomic data\n",
    "epigenome_dir = '/home/louiscam/projects/gpcr/data/epigenome_data/'\n",
    "processed_epigenome_data_dir = '/home/louiscam/projects/gpcr/save/processed_epigenome_data_dir/'\n",
    "# Saving directory\n",
    "saving_dir = '/home/louiscam/projects/gpcr/save/figures/'\n",
    "# Directory of tf data\n",
    "tf_dir = '/home/louiscam/projects/gpcr/data/tf_data/'\n",
    "jaspar_dir = tf_dir+'jaspar_data/'\n",
    "pfm_dir = tf_dir+'pfm_data/'\n",
    "fantom5_dir = '/home/louiscam/projects/gpcr/data/fantom5/'\n",
    "moods_out_dir = tf_dir+'moods_cage_outdir_without_strand/'\n",
    "cage_fasta_dir = dir_genome+'cage_hg19_seq_dir_without_strand/'"
   ]
  },
  {
   "cell_type": "markdown",
   "metadata": {},
   "source": [
    "# 1. Select genes of interest"
   ]
  },
  {
   "cell_type": "markdown",
   "metadata": {},
   "source": [
    "### Load genes of interest (active adhesome genes)"
   ]
  },
  {
   "cell_type": "code",
   "execution_count": 3,
   "metadata": {},
   "outputs": [
    {
     "name": "stdout",
     "output_type": "stream",
     "text": [
      "Number of genes of interest = 219\n"
     ]
    }
   ],
   "source": [
    "# Genes of interest and location\n",
    "selected_genes = pickle.load(open(saving_dir+'active_adhesome_genes.pkl', 'rb'))\n",
    "print('Number of genes of interest = '+str(len(selected_genes)))"
   ]
  },
  {
   "cell_type": "code",
   "execution_count": 4,
   "metadata": {},
   "outputs": [],
   "source": [
    "# Mapping UCSC to HGNC\n",
    "ucsc_to_hgnc = pj.create_ucsc_hgnc_dict(dir_genome+'chrom_hg19.name')"
   ]
  },
  {
   "cell_type": "markdown",
   "metadata": {},
   "source": [
    "### Load human TFs list\n",
    "from http://humantfs.ccbr.utoronto.ca/"
   ]
  },
  {
   "cell_type": "code",
   "execution_count": 5,
   "metadata": {},
   "outputs": [
    {
     "name": "stdout",
     "output_type": "stream",
     "text": [
      "Total number of TFs = 1639\n"
     ]
    }
   ],
   "source": [
    "# Load TFs\n",
    "tf_df = pd.read_csv(dir_genome+'human_tf.database', sep='\\t', header=0, index_col=0)\n",
    "tf_df = tf_df[tf_df['Is TF?']=='Yes'].sort_values(by=['HGNC symbol'])\n",
    "all_tfs = tf_df['HGNC symbol'].values\n",
    "print('Total number of TFs = '+str(len(all_tfs)))"
   ]
  },
  {
   "cell_type": "markdown",
   "metadata": {},
   "source": [
    "### Gene location"
   ]
  },
  {
   "cell_type": "code",
   "execution_count": 6,
   "metadata": {},
   "outputs": [],
   "source": [
    "# Load gene location dataframe\n",
    "gene_id_filename = dir_genome+'chrom_hg19.name'\n",
    "gene_locations_filename = dir_genome+'chrom_hg19.loc_canonical'\n",
    "df_loc = lu.get_gene_locations(gene_locations_filename, gene_id_filename)\n",
    "df_loc.columns = ['transcript','gene','chrom','gene_start','gene_end','clusterId','protein']\n",
    "df_loc['gene_length'] = df_loc['gene_end']-df_loc['gene_start']\n",
    "df_loc['gene_center'] = df_loc['gene_start']+df_loc['gene_length']//2\n",
    "# Restrict to selected genes\n",
    "df_loc = df_loc[df_loc['gene'].isin(selected_genes)]\n",
    "# Add TF information\n",
    "df_loc['isTF'] = [df_loc['gene'].iloc[i] in all_tfs for i in range(df_loc.shape[0])]"
   ]
  },
  {
   "cell_type": "code",
   "execution_count": 7,
   "metadata": {},
   "outputs": [
    {
     "name": "stdout",
     "output_type": "stream",
     "text": [
      "adhesome gene lengths quartile = [ 21507.   49385.  114977.5]\n"
     ]
    },
    {
     "data": {
      "image/png": "[encoded data removed]",
      "text/plain": [
       "<Figure size 432x288 with 1 Axes>"
      ]
     },
     "metadata": {
      "needs_background": "light"
     },
     "output_type": "display_data"
    }
   ],
   "source": [
    "# Visualize distribution of gene lengths\n",
    "print('adhesome gene lengths quartile = '+str(np.quantile(df_loc['gene_length'].values, [0.25,0.5,0.75])))\n",
    "plt.figure()\n",
    "plt.hist(df_loc['gene_length'], bins=np.arange(0,1000000,5000))\n",
    "plt.xlabel('gene length')\n",
    "plt.ylabel('number of genes')\n",
    "plt.title('histogram of adhesome gene lengths')\n",
    "plt.show()"
   ]
  },
  {
   "cell_type": "code",
   "execution_count": 8,
   "metadata": {},
   "outputs": [],
   "source": [
    "# Determine gene windows (1 locus centered at the gene)\n",
    "df_loc['gene_window_start'] = df_loc['gene_center']-250000//2\n",
    "df_loc['gene_window_end'] = df_loc['gene_center']+250000//2"
   ]
  },
  {
   "cell_type": "code",
   "execution_count": 9,
   "metadata": {},
   "outputs": [
    {
     "data": {
      "text/html": [
       "<div>\n",
       "<style scoped>\n",
       "    .dataframe tbody tr th:only-of-type {\n",
       "        vertical-align: middle;\n",
       "    }\n",
       "\n",
       "    .dataframe tbody tr th {\n",
       "        vertical-align: top;\n",
       "    }\n",
       "\n",
       "    .dataframe thead th {\n",
       "        text-align: right;\n",
       "    }\n",
       "</style>\n",
       "<table border=\"1\" class=\"dataframe\">\n",
       "  <thead>\n",
       "    <tr style=\"text-align: right;\">\n",
       "      <th></th>\n",
       "      <th>transcript</th>\n",
       "      <th>gene</th>\n",
       "      <th>chrom</th>\n",
       "      <th>gene_start</th>\n",
       "      <th>gene_end</th>\n",
       "      <th>clusterId</th>\n",
       "      <th>protein</th>\n",
       "      <th>gene_length</th>\n",
       "      <th>gene_center</th>\n",
       "      <th>isTF</th>\n",
       "      <th>gene_window_start</th>\n",
       "      <th>gene_window_end</th>\n",
       "    </tr>\n",
       "  </thead>\n",
       "  <tbody>\n",
       "    <tr>\n",
       "      <th>3334</th>\n",
       "      <td>uc001isx.3</td>\n",
       "      <td>ABI1</td>\n",
       "      <td>chr10</td>\n",
       "      <td>27035524</td>\n",
       "      <td>27150016</td>\n",
       "      <td>3074</td>\n",
       "      <td>uc001isx.3</td>\n",
       "      <td>114492</td>\n",
       "      <td>27092770</td>\n",
       "      <td>False</td>\n",
       "      <td>26967770</td>\n",
       "      <td>27217770</td>\n",
       "    </tr>\n",
       "    <tr>\n",
       "      <th>15824</th>\n",
       "      <td>uc002uzz.3</td>\n",
       "      <td>ABI2</td>\n",
       "      <td>chr2</td>\n",
       "      <td>204193002</td>\n",
       "      <td>204296892</td>\n",
       "      <td>17484</td>\n",
       "      <td>uc002uzz.3</td>\n",
       "      <td>103890</td>\n",
       "      <td>204244947</td>\n",
       "      <td>False</td>\n",
       "      <td>204119947</td>\n",
       "      <td>204369947</td>\n",
       "    </tr>\n",
       "    <tr>\n",
       "      <th>11717</th>\n",
       "      <td>uc002iop.1</td>\n",
       "      <td>ABI3</td>\n",
       "      <td>chr17</td>\n",
       "      <td>47287588</td>\n",
       "      <td>47300587</td>\n",
       "      <td>13058</td>\n",
       "      <td>uc002iop.1</td>\n",
       "      <td>12999</td>\n",
       "      <td>47294087</td>\n",
       "      <td>False</td>\n",
       "      <td>47169087</td>\n",
       "      <td>47419087</td>\n",
       "    </tr>\n",
       "    <tr>\n",
       "      <th>27778</th>\n",
       "      <td>uc004bzv.3</td>\n",
       "      <td>ABL1</td>\n",
       "      <td>chr9</td>\n",
       "      <td>133589267</td>\n",
       "      <td>133763062</td>\n",
       "      <td>30188</td>\n",
       "      <td>uc004bzv.3</td>\n",
       "      <td>173795</td>\n",
       "      <td>133676164</td>\n",
       "      <td>False</td>\n",
       "      <td>133551164</td>\n",
       "      <td>133801164</td>\n",
       "    </tr>\n",
       "    <tr>\n",
       "      <th>25716</th>\n",
       "      <td>uc003sot.4</td>\n",
       "      <td>ACTB</td>\n",
       "      <td>chr7</td>\n",
       "      <td>5566778</td>\n",
       "      <td>5570232</td>\n",
       "      <td>26639</td>\n",
       "      <td>uc003sot.4</td>\n",
       "      <td>3454</td>\n",
       "      <td>5568505</td>\n",
       "      <td>False</td>\n",
       "      <td>5443505</td>\n",
       "      <td>5693505</td>\n",
       "    </tr>\n",
       "  </tbody>\n",
       "</table>\n",
       "</div>"
      ],
      "text/plain": [
       "       transcript  gene  chrom  gene_start   gene_end  clusterId     protein  \\\n",
       "3334   uc001isx.3  ABI1  chr10    27035524   27150016       3074  uc001isx.3   \n",
       "15824  uc002uzz.3  ABI2   chr2   204193002  204296892      17484  uc002uzz.3   \n",
       "11717  uc002iop.1  ABI3  chr17    47287588   47300587      13058  uc002iop.1   \n",
       "27778  uc004bzv.3  ABL1   chr9   133589267  133763062      30188  uc004bzv.3   \n",
       "25716  uc003sot.4  ACTB   chr7     5566778    5570232      26639  uc003sot.4   \n",
       "\n",
       "       gene_length  gene_center   isTF  gene_window_start  gene_window_end  \n",
       "3334        114492     27092770  False           26967770         27217770  \n",
       "15824       103890    204244947  False          204119947        204369947  \n",
       "11717        12999     47294087  False           47169087         47419087  \n",
       "27778       173795    133676164  False          133551164        133801164  \n",
       "25716         3454      5568505  False            5443505          5693505  "
      ]
     },
     "execution_count": 9,
     "metadata": {},
     "output_type": "execute_result"
    }
   ],
   "source": [
    "# Visualize results\n",
    "df_loc.head()"
   ]
  },
  {
   "cell_type": "markdown",
   "metadata": {},
   "source": [
    "# 2. Select CAGE peaks"
   ]
  },
  {
   "cell_type": "markdown",
   "metadata": {},
   "source": [
    "### Process robust CAGE peaks"
   ]
  },
  {
   "cell_type": "code",
   "execution_count": 10,
   "metadata": {},
   "outputs": [
    {
     "name": "stdout",
     "output_type": "stream",
     "text": [
      "Number of unique CAGE peaks = 201802\n"
     ]
    },
    {
     "data": {
      "text/html": [
       "<div>\n",
       "<style scoped>\n",
       "    .dataframe tbody tr th:only-of-type {\n",
       "        vertical-align: middle;\n",
       "    }\n",
       "\n",
       "    .dataframe tbody tr th {\n",
       "        vertical-align: top;\n",
       "    }\n",
       "\n",
       "    .dataframe thead th {\n",
       "        text-align: right;\n",
       "    }\n",
       "</style>\n",
       "<table border=\"1\" class=\"dataframe\">\n",
       "  <thead>\n",
       "    <tr style=\"text-align: right;\">\n",
       "      <th></th>\n",
       "      <th>short_description</th>\n",
       "      <th>association_with_transcript</th>\n",
       "      <th>chrom</th>\n",
       "      <th>cage_start</th>\n",
       "      <th>cage_end</th>\n",
       "      <th>strand</th>\n",
       "      <th>peak_id</th>\n",
       "    </tr>\n",
       "  </thead>\n",
       "  <tbody>\n",
       "    <tr>\n",
       "      <th>95563</th>\n",
       "      <td>p1@MTND1P23</td>\n",
       "      <td>129bp_to_ENST00000416931_5end</td>\n",
       "      <td>chr1</td>\n",
       "      <td>564571</td>\n",
       "      <td>564600</td>\n",
       "      <td>+</td>\n",
       "      <td>1</td>\n",
       "    </tr>\n",
       "    <tr>\n",
       "      <th>95564</th>\n",
       "      <td>p3@MTND1P23</td>\n",
       "      <td>197bp_to_ENST00000416931_5end</td>\n",
       "      <td>chr1</td>\n",
       "      <td>564639</td>\n",
       "      <td>564649</td>\n",
       "      <td>+</td>\n",
       "      <td>3</td>\n",
       "    </tr>\n",
       "    <tr>\n",
       "      <th>95565</th>\n",
       "      <td>p3@MTND2P28</td>\n",
       "      <td>246bp_to_ENST00000457540_5end</td>\n",
       "      <td>chr1</td>\n",
       "      <td>565266</td>\n",
       "      <td>565278</td>\n",
       "      <td>+</td>\n",
       "      <td>3</td>\n",
       "    </tr>\n",
       "    <tr>\n",
       "      <th>95566</th>\n",
       "      <td>p4@MTND2P28</td>\n",
       "      <td>458bp_to_ENST00000457540_5end</td>\n",
       "      <td>chr1</td>\n",
       "      <td>565478</td>\n",
       "      <td>565483</td>\n",
       "      <td>+</td>\n",
       "      <td>4</td>\n",
       "    </tr>\n",
       "    <tr>\n",
       "      <th>95567</th>\n",
       "      <td>p1@MTND2P28</td>\n",
       "      <td>489bp_to_ENST00000457540_5end</td>\n",
       "      <td>chr1</td>\n",
       "      <td>565509</td>\n",
       "      <td>565541</td>\n",
       "      <td>+</td>\n",
       "      <td>1</td>\n",
       "    </tr>\n",
       "  </tbody>\n",
       "</table>\n",
       "</div>"
      ],
      "text/plain": [
       "      short_description    association_with_transcript chrom  cage_start  \\\n",
       "95563       p1@MTND1P23  129bp_to_ENST00000416931_5end  chr1      564571   \n",
       "95564       p3@MTND1P23  197bp_to_ENST00000416931_5end  chr1      564639   \n",
       "95565       p3@MTND2P28  246bp_to_ENST00000457540_5end  chr1      565266   \n",
       "95566       p4@MTND2P28  458bp_to_ENST00000457540_5end  chr1      565478   \n",
       "95567       p1@MTND2P28  489bp_to_ENST00000457540_5end  chr1      565509   \n",
       "\n",
       "       cage_end strand peak_id  \n",
       "95563    564600      +       1  \n",
       "95564    564649      +       3  \n",
       "95565    565278      +       3  \n",
       "95566    565483      +       4  \n",
       "95567    565541      +       1  "
      ]
     },
     "execution_count": 10,
     "metadata": {},
     "output_type": "execute_result"
    }
   ],
   "source": [
    "# Load annotated FANTOM5 CAGE peaks\n",
    "cage_df = pd.read_csv(fantom5_dir+'hg19.cage_peak_phase1and2combined_ann.txt', sep='\\t', skiprows=7, header=0)\n",
    "# Define new columns\n",
    "cage_df['chrom'] = cage_df['00Annotation'].str.split(':', expand=True)[0]\n",
    "cage_df['cage_start'] = cage_df['00Annotation'].str.split(':', expand=True)[1].str.split(\",\", expand=True)[0].str.split(\".\", expand=True)[0].astype(int)\n",
    "cage_df['cage_end'] = cage_df['00Annotation'].str.split(':', expand=True)[1].str.split(\",\", expand=True)[0].str.split(\".\", expand=True)[2].astype(int)\n",
    "cage_df['strand'] = cage_df['00Annotation'].str.split(':', expand=True)[1].str.split(\",\", expand=True)[1]\n",
    "cage_df['peak_id'] = cage_df['short_description'].str.split('@', expand=True)[0].str.strip('p')\n",
    "# Reformat dataframe\n",
    "cage_df = cage_df[['short_description','association_with_transcript','chrom','cage_start','cage_end',\n",
    "                   'strand','peak_id']]\n",
    "cage_df = cage_df.sort_values(by=['chrom','cage_start'])\n",
    "print('Number of unique CAGE peaks = '+str(len(np.unique(cage_df['short_description'].values))))\n",
    "cage_df.head()"
   ]
  },
  {
   "cell_type": "markdown",
   "metadata": {},
   "source": [
    "### CAGE peaks within selected gene windows"
   ]
  },
  {
   "cell_type": "code",
   "execution_count": 11,
   "metadata": {},
   "outputs": [],
   "source": [
    "# Create bed file for regions upstream of genes of interest\n",
    "gene_window_df = df_loc[['chrom','gene_window_start','gene_window_end','gene']]\n",
    "gene_window_df.columns = ['chrom','start','stop','name']\n",
    "gene_window_bed = pybedtools.BedTool.from_dataframe(gene_window_df).sort()"
   ]
  },
  {
   "cell_type": "code",
   "execution_count": 12,
   "metadata": {},
   "outputs": [],
   "source": [
    "# Create a bed file for robust CAGE peaks\n",
    "cage_peak_df = cage_df[['chrom','cage_start','cage_end','short_description']]\n",
    "cage_peak_df.columns = ['chrom','start','end','name']\n",
    "cage_bed = pybedtools.BedTool.from_dataframe(cage_peak_df).sort()"
   ]
  },
  {
   "cell_type": "code",
   "execution_count": 13,
   "metadata": {},
   "outputs": [],
   "source": [
    "# Get CAGE peaks for each gene of interest\n",
    "out = pybedtools.bedtool.BedTool.map(gene_window_bed, cage_bed, c = 4, o = 'distinct')\n",
    "out_df = out.to_dataframe()\n",
    "out_df.columns=['chrom','gene_window_start','gene_window_end','gene','peaks']\n",
    "out_df['peaks'] = out_df['peaks'].str.replace(',p',';p')"
   ]
  },
  {
   "cell_type": "code",
   "execution_count": 14,
   "metadata": {},
   "outputs": [],
   "source": [
    "# Reformat matching results\n",
    "peaks_per_gene_df = pd.merge(df_loc, out_df, on=['chrom','gene_window_start','gene_window_end','gene'])\n",
    "peaks_per_gene_df = peaks_per_gene_df[peaks_per_gene_df['peaks'] != '.']\n",
    "peaks_per_gene_df['peaks'] = peaks_per_gene_df['peaks'].str.split(';')\n",
    "peaks_per_gene_df['n_peaks'] = [len(peaks) for peaks in peaks_per_gene_df['peaks']]\n",
    "peaks_per_gene_df = peaks_per_gene_df[['gene', 'isTF', 'chrom', 'gene_start', 'gene_end', 'gene_length',\n",
    "                                       'gene_window_start', 'gene_window_end','peaks','n_peaks']]"
   ]
  },
  {
   "cell_type": "code",
   "execution_count": 15,
   "metadata": {},
   "outputs": [
    {
     "data": {
      "text/html": [
       "<div>\n",
       "<style scoped>\n",
       "    .dataframe tbody tr th:only-of-type {\n",
       "        vertical-align: middle;\n",
       "    }\n",
       "\n",
       "    .dataframe tbody tr th {\n",
       "        vertical-align: top;\n",
       "    }\n",
       "\n",
       "    .dataframe thead th {\n",
       "        text-align: right;\n",
       "    }\n",
       "</style>\n",
       "<table border=\"1\" class=\"dataframe\">\n",
       "  <thead>\n",
       "    <tr style=\"text-align: right;\">\n",
       "      <th></th>\n",
       "      <th>gene</th>\n",
       "      <th>isTF</th>\n",
       "      <th>chrom</th>\n",
       "      <th>gene_start</th>\n",
       "      <th>gene_end</th>\n",
       "      <th>gene_length</th>\n",
       "      <th>gene_window_start</th>\n",
       "      <th>gene_window_end</th>\n",
       "      <th>peaks</th>\n",
       "      <th>n_peaks</th>\n",
       "    </tr>\n",
       "  </thead>\n",
       "  <tbody>\n",
       "    <tr>\n",
       "      <th>0</th>\n",
       "      <td>ABI1</td>\n",
       "      <td>False</td>\n",
       "      <td>chr10</td>\n",
       "      <td>27035524</td>\n",
       "      <td>27150016</td>\n",
       "      <td>114492</td>\n",
       "      <td>26967770</td>\n",
       "      <td>27217770</td>\n",
       "      <td>[p10@PDSS1, p11@PDSS1, p12@PDSS1, p1@ABI1, p1@...</td>\n",
       "      <td>35</td>\n",
       "    </tr>\n",
       "    <tr>\n",
       "      <th>1</th>\n",
       "      <td>ABI2</td>\n",
       "      <td>False</td>\n",
       "      <td>chr2</td>\n",
       "      <td>204193002</td>\n",
       "      <td>204296892</td>\n",
       "      <td>103890</td>\n",
       "      <td>204119947</td>\n",
       "      <td>204369947</td>\n",
       "      <td>[p1@ABI2, p2@ABI2, p3@ABI2, p4@ABI2, p5@ABI2, ...</td>\n",
       "      <td>17</td>\n",
       "    </tr>\n",
       "    <tr>\n",
       "      <th>2</th>\n",
       "      <td>ABI3</td>\n",
       "      <td>False</td>\n",
       "      <td>chr17</td>\n",
       "      <td>47287588</td>\n",
       "      <td>47300587</td>\n",
       "      <td>12999</td>\n",
       "      <td>47169087</td>\n",
       "      <td>47419087</td>\n",
       "      <td>[p1@ABI3, p1@B4GALNT2, p1@FLJ40194, p1@GNGT2, ...</td>\n",
       "      <td>35</td>\n",
       "    </tr>\n",
       "    <tr>\n",
       "      <th>3</th>\n",
       "      <td>ABL1</td>\n",
       "      <td>False</td>\n",
       "      <td>chr9</td>\n",
       "      <td>133589267</td>\n",
       "      <td>133763062</td>\n",
       "      <td>173795</td>\n",
       "      <td>133551164</td>\n",
       "      <td>133801164</td>\n",
       "      <td>[p1@ABL1, p1@AF533988, p1@EXOSC2, p1@M14755, p...</td>\n",
       "      <td>21</td>\n",
       "    </tr>\n",
       "    <tr>\n",
       "      <th>4</th>\n",
       "      <td>ACTB</td>\n",
       "      <td>False</td>\n",
       "      <td>chr7</td>\n",
       "      <td>5566778</td>\n",
       "      <td>5570232</td>\n",
       "      <td>3454</td>\n",
       "      <td>5443505</td>\n",
       "      <td>5693505</td>\n",
       "      <td>[p10@ACTB, p10@TNRC18, p11@ACTB, p12@ACTB, p13...</td>\n",
       "      <td>79</td>\n",
       "    </tr>\n",
       "  </tbody>\n",
       "</table>\n",
       "</div>"
      ],
      "text/plain": [
       "   gene   isTF  chrom  gene_start   gene_end  gene_length  gene_window_start  \\\n",
       "0  ABI1  False  chr10    27035524   27150016       114492           26967770   \n",
       "1  ABI2  False   chr2   204193002  204296892       103890          204119947   \n",
       "2  ABI3  False  chr17    47287588   47300587        12999           47169087   \n",
       "3  ABL1  False   chr9   133589267  133763062       173795          133551164   \n",
       "4  ACTB  False   chr7     5566778    5570232         3454            5443505   \n",
       "\n",
       "   gene_window_end                                              peaks  n_peaks  \n",
       "0         27217770  [p10@PDSS1, p11@PDSS1, p12@PDSS1, p1@ABI1, p1@...       35  \n",
       "1        204369947  [p1@ABI2, p2@ABI2, p3@ABI2, p4@ABI2, p5@ABI2, ...       17  \n",
       "2         47419087  [p1@ABI3, p1@B4GALNT2, p1@FLJ40194, p1@GNGT2, ...       35  \n",
       "3        133801164  [p1@ABL1, p1@AF533988, p1@EXOSC2, p1@M14755, p...       21  \n",
       "4          5693505  [p10@ACTB, p10@TNRC18, p11@ACTB, p12@ACTB, p13...       79  "
      ]
     },
     "execution_count": 15,
     "metadata": {},
     "output_type": "execute_result"
    }
   ],
   "source": [
    "# Visualize results\n",
    "peaks_per_gene_df.head()"
   ]
  },
  {
   "cell_type": "code",
   "execution_count": 16,
   "metadata": {},
   "outputs": [
    {
     "data": {
      "image/png": "[encoded data removed]",
      "text/plain": [
       "<Figure size 432x288 with 1 Axes>"
      ]
     },
     "metadata": {
      "needs_background": "light"
     },
     "output_type": "display_data"
    }
   ],
   "source": [
    "# Histogram of number of peaks per gene\n",
    "plt.figure()\n",
    "plt.hist(peaks_per_gene_df['n_peaks'], bins=np.arange(0,110,1))\n",
    "plt.xlabel('number of peaks')\n",
    "plt.ylabel('number of genes')\n",
    "plt.title('histogram of number of peaks per gene')\n",
    "plt.show()"
   ]
  },
  {
   "cell_type": "markdown",
   "metadata": {},
   "source": [
    "# 3. Associate CAGE peaks with genes"
   ]
  },
  {
   "cell_type": "code",
   "execution_count": 17,
   "metadata": {},
   "outputs": [
    {
     "name": "stderr",
     "output_type": "stream",
     "text": [
      "/home/louiscam/projects/gpcr/code/JASPAR_processing/utils.py:37: FutureWarning: In a future version of pandas all arguments of DataFrame.drop except for the argument 'labels' will be keyword-only\n",
      "  return df1.join(df.drop(explode, 1), how='left')\n"
     ]
    }
   ],
   "source": [
    "# Dataframe of genes for each peak\n",
    "genes_per_peak = peaks_per_gene_df[['gene','peaks']]\n",
    "genes_per_peak = lu.unnesting(genes_per_peak,['peaks'])\n",
    "genes_per_peak = genes_per_peak.groupby('peaks')['gene'].apply(list).reset_index(name='genes')\n",
    "genes_per_peak['n_genes'] = [len(genes) for genes in genes_per_peak['genes']]\n",
    "genes_per_peak.columns = ['short_description','genes','n_genes']"
   ]
  },
  {
   "cell_type": "code",
   "execution_count": 18,
   "metadata": {},
   "outputs": [],
   "source": [
    "# Add peak location\n",
    "genes_per_peak = pd.merge(genes_per_peak, cage_df, on=['short_description'])\n",
    "genes_per_peak = genes_per_peak[['short_description','chrom','cage_start','cage_end','strand','genes']]\n",
    "genes_per_peak = genes_per_peak.sort_values(by=['chrom'])"
   ]
  },
  {
   "cell_type": "code",
   "execution_count": 19,
   "metadata": {},
   "outputs": [],
   "source": [
    "# Consider a window around each peak\n",
    "genes_per_peak['cage_window_start'] = genes_per_peak['cage_start']-400\n",
    "genes_per_peak['cage_window_end'] = genes_per_peak['cage_end']+400"
   ]
  },
  {
   "cell_type": "code",
   "execution_count": 20,
   "metadata": {},
   "outputs": [
    {
     "data": {
      "text/html": [
       "<div>\n",
       "<style scoped>\n",
       "    .dataframe tbody tr th:only-of-type {\n",
       "        vertical-align: middle;\n",
       "    }\n",
       "\n",
       "    .dataframe tbody tr th {\n",
       "        vertical-align: top;\n",
       "    }\n",
       "\n",
       "    .dataframe thead th {\n",
       "        text-align: right;\n",
       "    }\n",
       "</style>\n",
       "<table border=\"1\" class=\"dataframe\">\n",
       "  <thead>\n",
       "    <tr style=\"text-align: right;\">\n",
       "      <th></th>\n",
       "      <th>short_description</th>\n",
       "      <th>chrom</th>\n",
       "      <th>cage_start</th>\n",
       "      <th>cage_end</th>\n",
       "      <th>strand</th>\n",
       "      <th>genes</th>\n",
       "      <th>cage_window_start</th>\n",
       "      <th>cage_window_end</th>\n",
       "    </tr>\n",
       "  </thead>\n",
       "  <tbody>\n",
       "    <tr>\n",
       "      <th>3103</th>\n",
       "      <td>p2@TPM3</td>\n",
       "      <td>chr1</td>\n",
       "      <td>154164569</td>\n",
       "      <td>154164584</td>\n",
       "      <td>-</td>\n",
       "      <td>[HAX1]</td>\n",
       "      <td>154164169</td>\n",
       "      <td>154164984</td>\n",
       "    </tr>\n",
       "    <tr>\n",
       "      <th>4130</th>\n",
       "      <td>p4@DCST2</td>\n",
       "      <td>chr1</td>\n",
       "      <td>155006254</td>\n",
       "      <td>155006259</td>\n",
       "      <td>-</td>\n",
       "      <td>[SHC1]</td>\n",
       "      <td>155005854</td>\n",
       "      <td>155006659</td>\n",
       "    </tr>\n",
       "    <tr>\n",
       "      <th>781</th>\n",
       "      <td>p1@ADAM15</td>\n",
       "      <td>chr1</td>\n",
       "      <td>155023757</td>\n",
       "      <td>155023833</td>\n",
       "      <td>+</td>\n",
       "      <td>[SHC1]</td>\n",
       "      <td>155023357</td>\n",
       "      <td>155024233</td>\n",
       "    </tr>\n",
       "    <tr>\n",
       "      <th>1763</th>\n",
       "      <td>p1@SERINC2</td>\n",
       "      <td>chr1</td>\n",
       "      <td>31886034</td>\n",
       "      <td>31886099</td>\n",
       "      <td>+</td>\n",
       "      <td>[FABP3]</td>\n",
       "      <td>31885634</td>\n",
       "      <td>31886499</td>\n",
       "    </tr>\n",
       "    <tr>\n",
       "      <th>4134</th>\n",
       "      <td>p4@DNAJB4</td>\n",
       "      <td>chr1</td>\n",
       "      <td>78444874</td>\n",
       "      <td>78444905</td>\n",
       "      <td>+</td>\n",
       "      <td>[NEXN]</td>\n",
       "      <td>78444474</td>\n",
       "      <td>78445305</td>\n",
       "    </tr>\n",
       "  </tbody>\n",
       "</table>\n",
       "</div>"
      ],
      "text/plain": [
       "     short_description chrom  cage_start   cage_end strand    genes  \\\n",
       "3103           p2@TPM3  chr1   154164569  154164584      -   [HAX1]   \n",
       "4130          p4@DCST2  chr1   155006254  155006259      -   [SHC1]   \n",
       "781          p1@ADAM15  chr1   155023757  155023833      +   [SHC1]   \n",
       "1763        p1@SERINC2  chr1    31886034   31886099      +  [FABP3]   \n",
       "4134         p4@DNAJB4  chr1    78444874   78444905      +   [NEXN]   \n",
       "\n",
       "      cage_window_start  cage_window_end  \n",
       "3103          154164169        154164984  \n",
       "4130          155005854        155006659  \n",
       "781           155023357        155024233  \n",
       "1763           31885634         31886499  \n",
       "4134           78444474         78445305  "
      ]
     },
     "execution_count": 20,
     "metadata": {},
     "output_type": "execute_result"
    }
   ],
   "source": [
    "# Visualize\n",
    "genes_per_peak.head()"
   ]
  },
  {
   "cell_type": "markdown",
   "metadata": {},
   "source": [
    "# 4. Create sequence files for all CAGE windows"
   ]
  },
  {
   "cell_type": "raw",
   "metadata": {},
   "source": [
    "# Loop over all CAGE windows to generate sequence files\n",
    "for i in tqdm(range(genes_per_peak.shape[0])):\n",
    "    time.sleep(.01)\n",
    "    # Peak characteristics\n",
    "    peak = genes_per_peak['short_description'].iloc[i]\n",
    "    chrom = genes_per_peak['chrom'].iloc[i]\n",
    "    start = genes_per_peak['cage_window_start'].iloc[i]\n",
    "    end = genes_per_peak['cage_window_end'].iloc[i]\n",
    "    # Generate window sequence\n",
    "    result = subprocess.run(cage_fasta_dir+'twoBitToFa http://hgdownload.cse.ucsc.edu/gbdb/hg19/hg19.2bit '+\n",
    "                            cage_fasta_dir+peak+'.fa'+\n",
    "                            ' -seq='+chrom+' -start='+str(start)+' -end='+str(end)+' -noMask',\n",
    "                            shell=True)"
   ]
  },
  {
   "cell_type": "markdown",
   "metadata": {},
   "source": [
    "# 5. Search for TFBS in all CAGE windows\n",
    "See process_JASPAR_without_strand.py"
   ]
  },
  {
   "cell_type": "markdown",
   "metadata": {},
   "source": [
    "# 6. Find TFs binding each CAGE window"
   ]
  },
  {
   "cell_type": "markdown",
   "metadata": {},
   "source": [
    "### Useful data"
   ]
  },
  {
   "cell_type": "code",
   "execution_count": 37,
   "metadata": {},
   "outputs": [],
   "source": [
    "# Load JASPAR TFBS metadata\n",
    "jaspar_df = pd.read_csv(tf_dir+'JASPAR-HomoSapiens.csv', \n",
    "                        header=0, usecols=['ID','Name','Species','Class','Family'])\n",
    "# Mapping JASPAR ID to HGNC\n",
    "jasparid_to_hgnc = {jaspar_df.iloc[i,0]:jaspar_df.iloc[i,1] for i in range(jaspar_df.shape[0])}"
   ]
  },
  {
   "cell_type": "code",
   "execution_count": 38,
   "metadata": {},
   "outputs": [
    {
     "name": "stdout",
     "output_type": "stream",
     "text": [
      "Number of unique TFs = 639\n",
      "Number of unique TF motifs = 810\n"
     ]
    },
    {
     "data": {
      "text/html": [
       "<div>\n",
       "<style scoped>\n",
       "    .dataframe tbody tr th:only-of-type {\n",
       "        vertical-align: middle;\n",
       "    }\n",
       "\n",
       "    .dataframe tbody tr th {\n",
       "        vertical-align: top;\n",
       "    }\n",
       "\n",
       "    .dataframe thead th {\n",
       "        text-align: right;\n",
       "    }\n",
       "</style>\n",
       "<table border=\"1\" class=\"dataframe\">\n",
       "  <thead>\n",
       "    <tr style=\"text-align: right;\">\n",
       "      <th></th>\n",
       "      <th>ID</th>\n",
       "      <th>Name</th>\n",
       "      <th>Species</th>\n",
       "      <th>Class</th>\n",
       "      <th>Family</th>\n",
       "    </tr>\n",
       "  </thead>\n",
       "  <tbody>\n",
       "    <tr>\n",
       "      <th>0</th>\n",
       "      <td>MA0002.1</td>\n",
       "      <td>RUNX1</td>\n",
       "      <td>Homo sapiens</td>\n",
       "      <td>Runt domain factors</td>\n",
       "      <td>Runt-related factors</td>\n",
       "    </tr>\n",
       "    <tr>\n",
       "      <th>1</th>\n",
       "      <td>MA0003.1</td>\n",
       "      <td>TFAP2A</td>\n",
       "      <td>Homo sapiens</td>\n",
       "      <td>Basic helix-span-helix factors (bHSH)</td>\n",
       "      <td>AP-2</td>\n",
       "    </tr>\n",
       "    <tr>\n",
       "      <th>2</th>\n",
       "      <td>MA0003.2</td>\n",
       "      <td>TFAP2A</td>\n",
       "      <td>Homo sapiens</td>\n",
       "      <td>Basic helix-span-helix factors (bHSH)</td>\n",
       "      <td>AP-2</td>\n",
       "    </tr>\n",
       "    <tr>\n",
       "      <th>3</th>\n",
       "      <td>MA0003.3</td>\n",
       "      <td>TFAP2A</td>\n",
       "      <td>Homo sapiens</td>\n",
       "      <td>Basic helix-span-helix factors (bHSH)</td>\n",
       "      <td>AP-2</td>\n",
       "    </tr>\n",
       "    <tr>\n",
       "      <th>4</th>\n",
       "      <td>MA0003.4</td>\n",
       "      <td>TFAP2A</td>\n",
       "      <td>Homo sapiens</td>\n",
       "      <td>Basic helix-span-helix factors (bHSH)</td>\n",
       "      <td>AP-2</td>\n",
       "    </tr>\n",
       "  </tbody>\n",
       "</table>\n",
       "</div>"
      ],
      "text/plain": [
       "         ID    Name       Species                                  Class  \\\n",
       "0  MA0002.1   RUNX1  Homo sapiens                    Runt domain factors   \n",
       "1  MA0003.1  TFAP2A  Homo sapiens  Basic helix-span-helix factors (bHSH)   \n",
       "2  MA0003.2  TFAP2A  Homo sapiens  Basic helix-span-helix factors (bHSH)   \n",
       "3  MA0003.3  TFAP2A  Homo sapiens  Basic helix-span-helix factors (bHSH)   \n",
       "4  MA0003.4  TFAP2A  Homo sapiens  Basic helix-span-helix factors (bHSH)   \n",
       "\n",
       "                 Family  \n",
       "0  Runt-related factors  \n",
       "1                  AP-2  \n",
       "2                  AP-2  \n",
       "3                  AP-2  \n",
       "4                  AP-2  "
      ]
     },
     "execution_count": 38,
     "metadata": {},
     "output_type": "execute_result"
    }
   ],
   "source": [
    "# Visualize data\n",
    "print('Number of unique TFs = '+str(len(np.unique(jaspar_df['Name']))))\n",
    "print('Number of unique TF motifs = '+str(len(np.unique(jaspar_df['ID']))))\n",
    "jaspar_df.head()"
   ]
  },
  {
   "cell_type": "markdown",
   "metadata": {},
   "source": [
    "### Load MOODS results"
   ]
  },
  {
   "cell_type": "code",
   "execution_count": 37,
   "metadata": {},
   "outputs": [],
   "source": [
    "# Create dictionary mapping CAGE peaks to the corresponding TFs\n",
    "tfs_associated_to_cage_peaks = {}"
   ]
  },
  {
   "cell_type": "raw",
   "metadata": {},
   "source": [
    "# Loop over files in moods_out_dir and summarize results\n",
    "for peak_moods_file in os.listdir(moods_out_dir):\n",
    "    # load results dataframe for that gene\n",
    "    cage_peak = peak_moods_file.strip('.txt')\n",
    "    res_df = pd.read_csv(moods_out_dir+peak_moods_file, sep=',', header=None, \n",
    "                         usecols=[0,1,2,3,4,5], \n",
    "                         names=['peak_id','tfbs_file','motif_loc','strand','score','motif'])\n",
    "    # Add columns corresponding to the target gene\n",
    "    res_df['cage_peak'] = cage_peak\n",
    "    res_df['chrom'] = res_df['peak_id'].str.split(':', expand=True)[0]\n",
    "    location_cols = res_df['peak_id'].str.split(':', expand=True)[1]\n",
    "    res_df[['start','stop']] = location_cols.str.split('-', expand=True)\n",
    "    # Add columns corresponding to the TFBS\n",
    "    res_df['jaspar_tfbs'] = res_df['tfbs_file'].str.strip('.pfm')\n",
    "    res_df['TF'] = [jasparid_to_hgnc[jaspar_id] for jaspar_id in res_df['jaspar_tfbs']]\n",
    "    # Select relevant columns\n",
    "    res_df = res_df[['cage_peak', 'chrom','start','stop','motif_loc',\n",
    "                     'jaspar_tfbs','TF','score','strand','motif']]\n",
    "    # Store list of TFs associated with the current CAGE peak in dict\n",
    "    tfs_associated_to_cage_peaks[cage_peak] = np.sort(np.unique(res_df['TF'].values))"
   ]
  },
  {
   "cell_type": "code",
   "execution_count": 39,
   "metadata": {},
   "outputs": [],
   "source": [
    "peak_moods_file = os.listdir(moods_out_dir)[0]\n",
    "# load results dataframe for that gene\n",
    "cage_peak = peak_moods_file.strip('.txt')\n",
    "res_df = pd.read_csv(moods_out_dir+peak_moods_file, sep=',', header=None, \n",
    "                     usecols=[0,1,2,3,4,5], \n",
    "                     names=['peak_id','tfbs_file','motif_loc','strand','score','motif'])\n",
    "# Add columns corresponding to the target gene\n",
    "res_df['cage_peak'] = cage_peak\n",
    "res_df['chrom'] = res_df['peak_id'].str.split(':', expand=True)[0]\n",
    "location_cols = res_df['peak_id'].str.split(':', expand=True)[1]\n",
    "res_df[['start','stop']] = location_cols.str.split('-', expand=True)\n",
    "# Add columns corresponding to the TFBS\n",
    "res_df['jaspar_tfbs'] = res_df['tfbs_file'].str.strip('.pfm')\n",
    "res_df['TF'] = [jasparid_to_hgnc[jaspar_id] for jaspar_id in res_df['jaspar_tfbs']]\n",
    "# Select relevant columns\n",
    "res_df = res_df[['cage_peak', 'chrom','start','stop','motif_loc',\n",
    "                 'jaspar_tfbs','TF','score','strand','motif']]\n",
    "# Store list of TFs associated with the current CAGE peak in dict\n",
    "tfs_associated_to_cage_peaks[cage_peak] = np.sort(np.unique(res_df['TF'].values))"
   ]
  },
  {
   "cell_type": "markdown",
   "metadata": {},
   "source": [
    "# 7. Find TFs targeting genes of interest"
   ]
  },
  {
   "cell_type": "code",
   "execution_count": 40,
   "metadata": {},
   "outputs": [
    {
     "name": "stderr",
     "output_type": "stream",
     "text": [
      "/home/louiscam/projects/gpcr/code/JASPAR_processing/utils.py:37: FutureWarning: In a future version of pandas all arguments of DataFrame.drop except for the argument 'labels' will be keyword-only\n",
      "  return df1.join(df.drop(explode, 1), how='left')\n"
     ]
    }
   ],
   "source": [
    "# Construct dataframe with gene-tf pairs\n",
    "tf_and_genes_df = genes_per_peak.copy()\n",
    "tf_and_genes_df['tfs'] = [tfs_associated_to_cage_peaks[cage_peak] if cage_peak in tfs_associated_to_cage_peaks.keys()\n",
    "                          else ['ToDo']\n",
    "                          for cage_peak in tf_and_genes_df['short_description'].values]\n",
    "tf_and_genes_df = lu.unnesting(tf_and_genes_df,['genes'])\n",
    "tf_and_genes_df = lu.unnesting(tf_and_genes_df,['tfs'])\n",
    "tf_and_genes_df = tf_and_genes_df[['genes','tfs','short_description','chrom','cage_start','cage_end','strand']]"
   ]
  },
  {
   "cell_type": "code",
   "execution_count": 41,
   "metadata": {},
   "outputs": [
    {
     "data": {
      "text/html": [
       "<div>\n",
       "<style scoped>\n",
       "    .dataframe tbody tr th:only-of-type {\n",
       "        vertical-align: middle;\n",
       "    }\n",
       "\n",
       "    .dataframe tbody tr th {\n",
       "        vertical-align: top;\n",
       "    }\n",
       "\n",
       "    .dataframe thead th {\n",
       "        text-align: right;\n",
       "    }\n",
       "</style>\n",
       "<table border=\"1\" class=\"dataframe\">\n",
       "  <thead>\n",
       "    <tr style=\"text-align: right;\">\n",
       "      <th></th>\n",
       "      <th>ucsc_genes</th>\n",
       "      <th>hgnc_gene</th>\n",
       "      <th>tfs</th>\n",
       "      <th>short_description</th>\n",
       "      <th>chrom</th>\n",
       "      <th>cage_start</th>\n",
       "      <th>cage_end</th>\n",
       "      <th>strand</th>\n",
       "    </tr>\n",
       "  </thead>\n",
       "  <tbody>\n",
       "    <tr>\n",
       "      <th>0</th>\n",
       "      <td>uc002lga.3</td>\n",
       "      <td>TCF4</td>\n",
       "      <td>ToDo</td>\n",
       "      <td>p101@TCF4</td>\n",
       "      <td>chr18</td>\n",
       "      <td>53303180</td>\n",
       "      <td>53303190</td>\n",
       "      <td>-</td>\n",
       "    </tr>\n",
       "    <tr>\n",
       "      <th>0</th>\n",
       "      <td>uc021ukp.1</td>\n",
       "      <td>TCF4</td>\n",
       "      <td>ToDo</td>\n",
       "      <td>p101@TCF4</td>\n",
       "      <td>chr18</td>\n",
       "      <td>53303180</td>\n",
       "      <td>53303190</td>\n",
       "      <td>-</td>\n",
       "    </tr>\n",
       "    <tr>\n",
       "      <th>0</th>\n",
       "      <td>uc002lga.3</td>\n",
       "      <td>TCF4</td>\n",
       "      <td>ToDo</td>\n",
       "      <td>p101@TCF4</td>\n",
       "      <td>chr18</td>\n",
       "      <td>53303180</td>\n",
       "      <td>53303190</td>\n",
       "      <td>-</td>\n",
       "    </tr>\n",
       "    <tr>\n",
       "      <th>0</th>\n",
       "      <td>uc021ukp.1</td>\n",
       "      <td>TCF4</td>\n",
       "      <td>ToDo</td>\n",
       "      <td>p101@TCF4</td>\n",
       "      <td>chr18</td>\n",
       "      <td>53303180</td>\n",
       "      <td>53303190</td>\n",
       "      <td>-</td>\n",
       "    </tr>\n",
       "    <tr>\n",
       "      <th>1</th>\n",
       "      <td>uc011avz.1</td>\n",
       "      <td>ANKRD28</td>\n",
       "      <td>ToDo</td>\n",
       "      <td>p10@ANKRD28</td>\n",
       "      <td>chr3</td>\n",
       "      <td>15839693</td>\n",
       "      <td>15839707</td>\n",
       "      <td>-</td>\n",
       "    </tr>\n",
       "  </tbody>\n",
       "</table>\n",
       "</div>"
      ],
      "text/plain": [
       "   ucsc_genes hgnc_gene   tfs short_description  chrom  cage_start  cage_end  \\\n",
       "0  uc002lga.3      TCF4  ToDo         p101@TCF4  chr18    53303180  53303190   \n",
       "0  uc021ukp.1      TCF4  ToDo         p101@TCF4  chr18    53303180  53303190   \n",
       "0  uc002lga.3      TCF4  ToDo         p101@TCF4  chr18    53303180  53303190   \n",
       "0  uc021ukp.1      TCF4  ToDo         p101@TCF4  chr18    53303180  53303190   \n",
       "1  uc011avz.1   ANKRD28  ToDo       p10@ANKRD28   chr3    15839693  15839707   \n",
       "\n",
       "  strand  \n",
       "0      -  \n",
       "0      -  \n",
       "0      -  \n",
       "0      -  \n",
       "1      -  "
      ]
     },
     "execution_count": 41,
     "metadata": {},
     "output_type": "execute_result"
    }
   ],
   "source": [
    "# Visualize results\n",
    "tf_and_genes_df.sort_values('short_description').head()"
   ]
  },
  {
   "cell_type": "code",
   "execution_count": null,
   "metadata": {},
   "outputs": [],
   "source": [
    "2"
   ]
  },
  {
   "cell_type": "code",
   "execution_count": null,
   "metadata": {},
   "outputs": [],
   "source": []
  },
  {
   "cell_type": "code",
   "execution_count": null,
   "metadata": {},
   "outputs": [],
   "source": []
  }
 ],
 "metadata": {
  "kernelspec": {
   "display_name": "Python 3",
   "language": "python",
   "name": "python3"
  },
  "language_info": {
   "codemirror_mode": {
    "name": "ipython",
    "version": 3
   },
   "file_extension": ".py",
   "mimetype": "text/x-python",
   "name": "python",
   "nbconvert_exporter": "python",
   "pygments_lexer": "ipython3",
   "version": "3.7.4"
  }
 },
 "nbformat": 4,
 "nbformat_minor": 2
}
