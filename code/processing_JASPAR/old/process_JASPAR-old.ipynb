{
 "cells": [
  {
   "cell_type": "code",
   "execution_count": 1,
   "metadata": {},
   "outputs": [
    {
     "name": "stderr",
     "output_type": "stream",
     "text": [
      "/home/louiscam/anaconda3/lib/python3.7/site-packages/statsmodels/tools/_testing.py:19: FutureWarning: pandas.util.testing is deprecated. Use the functions in the public API at pandas.testing instead.\n",
      "  import pandas.util.testing as tm\n"
     ]
    },
    {
     "data": {
      "text/plain": [
       "<module 'utils' from '/home/louiscam/projects/gpcr/code/JASPAR_processing/utils.py'>"
      ]
     },
     "execution_count": 1,
     "metadata": {},
     "output_type": "execute_result"
    }
   ],
   "source": [
    "# Import standard libraries\n",
    "import os\n",
    "from importlib import reload\n",
    "import numpy as np\n",
    "import matplotlib as mpl\n",
    "import matplotlib.pyplot as plt\n",
    "import seaborn as sns\n",
    "import csv\n",
    "import pandas as pd\n",
    "import pickle\n",
    "import itertools\n",
    "from itertools import groupby\n",
    "import os.path\n",
    "import math\n",
    "import pybedtools\n",
    "import time\n",
    "from tqdm import tqdm\n",
    "import random\n",
    "import MOODS.parsers\n",
    "import MOODS.tools\n",
    "import MOODS.scan\n",
    "import subprocess\n",
    "# Custom libraries\n",
    "import utils as lu\n",
    "# Reload modules in case of modifications\n",
    "reload(lu)"
   ]
  },
  {
   "cell_type": "markdown",
   "metadata": {},
   "source": [
    "# Directories"
   ]
  },
  {
   "cell_type": "code",
   "execution_count": 2,
   "metadata": {},
   "outputs": [],
   "source": [
    "# Directory of adhesome data\n",
    "dir_adhesome = '/home/louiscam/projects/gpcr/data/adhesome_data/'\n",
    "# Directory of genome data\n",
    "dir_genome = '/home/louiscam/projects/gpcr/data/genome_data/'\n",
    "prom_hg19_seq_dir = dir_genome+'prom_hg19_seq_dir/'\n",
    "# Directory of processed HiC\n",
    "dir_processed_hic = '/home/louiscam/projects/gpcr/save/processed_hic_data_dir/'\n",
    "# Directory for storing preliminary results\n",
    "prelim_results_dir = '/home/louiscam/projects/gpcr/save/prelim_results_dir/'\n",
    "# Directory of epigenomic data\n",
    "epigenome_dir = '/home/louiscam/projects/gpcr/data/epigenome_data/'\n",
    "processed_epigenome_data_dir = '/home/louiscam/projects/gpcr/save/processed_epigenome_data_dir/'\n",
    "# Saving directory\n",
    "saving_dir = '/home/louiscam/projects/gpcr/save/figures/'\n",
    "# Directory of JASPAR data\n",
    "tf_dir = '/home/louiscam/projects/gpcr/data/tf_data/'\n",
    "jaspar_dir = tf_dir+'jaspar_data/'\n",
    "pfm_dir = tf_dir+'pfm_data/'\n",
    "moods_out_dir = tf_dir+'moods_out_dir/'"
   ]
  },
  {
   "cell_type": "markdown",
   "metadata": {},
   "source": [
    "# List of all PFMs"
   ]
  },
  {
   "cell_type": "code",
   "execution_count": 3,
   "metadata": {},
   "outputs": [
    {
     "name": "stdout",
     "output_type": "stream",
     "text": [
      "Number of TF motifs = 810\n",
      "Number of distinct TFs = 639\n"
     ]
    },
    {
     "data": {
      "text/html": [
       "<div>\n",
       "<style scoped>\n",
       "    .dataframe tbody tr th:only-of-type {\n",
       "        vertical-align: middle;\n",
       "    }\n",
       "\n",
       "    .dataframe tbody tr th {\n",
       "        vertical-align: top;\n",
       "    }\n",
       "\n",
       "    .dataframe thead th {\n",
       "        text-align: right;\n",
       "    }\n",
       "</style>\n",
       "<table border=\"1\" class=\"dataframe\">\n",
       "  <thead>\n",
       "    <tr style=\"text-align: right;\">\n",
       "      <th></th>\n",
       "      <th>ID</th>\n",
       "      <th>Name</th>\n",
       "      <th>Species</th>\n",
       "      <th>Class</th>\n",
       "      <th>Family</th>\n",
       "    </tr>\n",
       "  </thead>\n",
       "  <tbody>\n",
       "    <tr>\n",
       "      <th>0</th>\n",
       "      <td>MA0002.1</td>\n",
       "      <td>RUNX1</td>\n",
       "      <td>Homo sapiens</td>\n",
       "      <td>Runt domain factors</td>\n",
       "      <td>Runt-related factors</td>\n",
       "    </tr>\n",
       "    <tr>\n",
       "      <th>1</th>\n",
       "      <td>MA0003.1</td>\n",
       "      <td>TFAP2A</td>\n",
       "      <td>Homo sapiens</td>\n",
       "      <td>Basic helix-span-helix factors (bHSH)</td>\n",
       "      <td>AP-2</td>\n",
       "    </tr>\n",
       "    <tr>\n",
       "      <th>2</th>\n",
       "      <td>MA0003.2</td>\n",
       "      <td>TFAP2A</td>\n",
       "      <td>Homo sapiens</td>\n",
       "      <td>Basic helix-span-helix factors (bHSH)</td>\n",
       "      <td>AP-2</td>\n",
       "    </tr>\n",
       "    <tr>\n",
       "      <th>3</th>\n",
       "      <td>MA0003.3</td>\n",
       "      <td>TFAP2A</td>\n",
       "      <td>Homo sapiens</td>\n",
       "      <td>Basic helix-span-helix factors (bHSH)</td>\n",
       "      <td>AP-2</td>\n",
       "    </tr>\n",
       "    <tr>\n",
       "      <th>4</th>\n",
       "      <td>MA0003.4</td>\n",
       "      <td>TFAP2A</td>\n",
       "      <td>Homo sapiens</td>\n",
       "      <td>Basic helix-span-helix factors (bHSH)</td>\n",
       "      <td>AP-2</td>\n",
       "    </tr>\n",
       "    <tr>\n",
       "      <th>5</th>\n",
       "      <td>MA0007.2</td>\n",
       "      <td>AR</td>\n",
       "      <td>Homo sapiens</td>\n",
       "      <td>Nuclear receptors with C4 zinc fingers</td>\n",
       "      <td>Steroid hormone receptors (NR3)</td>\n",
       "    </tr>\n",
       "    <tr>\n",
       "      <th>6</th>\n",
       "      <td>MA0009.2</td>\n",
       "      <td>TBXT</td>\n",
       "      <td>Homo sapiens</td>\n",
       "      <td>T-Box factors</td>\n",
       "      <td>Brachyury-related factors</td>\n",
       "    </tr>\n",
       "    <tr>\n",
       "      <th>7</th>\n",
       "      <td>MA0014.2</td>\n",
       "      <td>PAX5</td>\n",
       "      <td>Homo sapiens</td>\n",
       "      <td>Paired box factors</td>\n",
       "      <td>Paired domain only</td>\n",
       "    </tr>\n",
       "    <tr>\n",
       "      <th>8</th>\n",
       "      <td>MA0014.3</td>\n",
       "      <td>PAX5</td>\n",
       "      <td>Homo sapiens</td>\n",
       "      <td>Paired box factors</td>\n",
       "      <td>Paired domain only</td>\n",
       "    </tr>\n",
       "    <tr>\n",
       "      <th>9</th>\n",
       "      <td>MA0017.1</td>\n",
       "      <td>NR2F1</td>\n",
       "      <td>Homo sapiens</td>\n",
       "      <td>Nuclear receptors with C4 zinc fingers</td>\n",
       "      <td>RXR-related receptors (NR2)</td>\n",
       "    </tr>\n",
       "  </tbody>\n",
       "</table>\n",
       "</div>"
      ],
      "text/plain": [
       "         ID    Name       Species                                   Class  \\\n",
       "0  MA0002.1   RUNX1  Homo sapiens                     Runt domain factors   \n",
       "1  MA0003.1  TFAP2A  Homo sapiens   Basic helix-span-helix factors (bHSH)   \n",
       "2  MA0003.2  TFAP2A  Homo sapiens   Basic helix-span-helix factors (bHSH)   \n",
       "3  MA0003.3  TFAP2A  Homo sapiens   Basic helix-span-helix factors (bHSH)   \n",
       "4  MA0003.4  TFAP2A  Homo sapiens   Basic helix-span-helix factors (bHSH)   \n",
       "5  MA0007.2      AR  Homo sapiens  Nuclear receptors with C4 zinc fingers   \n",
       "6  MA0009.2    TBXT  Homo sapiens                           T-Box factors   \n",
       "7  MA0014.2    PAX5  Homo sapiens                      Paired box factors   \n",
       "8  MA0014.3    PAX5  Homo sapiens                      Paired box factors   \n",
       "9  MA0017.1   NR2F1  Homo sapiens  Nuclear receptors with C4 zinc fingers   \n",
       "\n",
       "                            Family  \n",
       "0             Runt-related factors  \n",
       "1                             AP-2  \n",
       "2                             AP-2  \n",
       "3                             AP-2  \n",
       "4                             AP-2  \n",
       "5  Steroid hormone receptors (NR3)  \n",
       "6        Brachyury-related factors  \n",
       "7               Paired domain only  \n",
       "8               Paired domain only  \n",
       "9      RXR-related receptors (NR2)  "
      ]
     },
     "execution_count": 3,
     "metadata": {},
     "output_type": "execute_result"
    }
   ],
   "source": [
    "# Read metadata\n",
    "jaspar_df = pd.read_csv(tf_dir+'JASPAR-HomoSapiens.csv', \n",
    "                        header=0, usecols=['ID','Name','Species','Class','Family'])\n",
    "homosapiens_ids = np.unique(jaspar_df['ID'])\n",
    "print('Number of TF motifs = '+str(len(np.unique(jaspar_df['ID']))))\n",
    "print('Number of distinct TFs = '+str(len(np.unique(jaspar_df['Name']))))\n",
    "jaspar_df.head(10)"
   ]
  },
  {
   "cell_type": "markdown",
   "metadata": {},
   "source": [
    "# Convert .jaspar files to .pfm"
   ]
  },
  {
   "cell_type": "code",
   "execution_count": 4,
   "metadata": {},
   "outputs": [],
   "source": [
    "# Loop over all files in jaspar_dir and convert the Homo Sapiens ones to .pfm\n",
    "for filename in os.listdir(jaspar_dir):\n",
    "    if filename.endswith(\".jaspar\") and (filename.split('.jaspar')[0] in homosapiens_ids): \n",
    "        # Open .jaspar file\n",
    "        with open(jaspar_dir+filename) as f:\n",
    "            lines = f.readlines()\n",
    "        # Change format\n",
    "        lines[1] = lines[1].replace('A  [', '').replace(']', '').lstrip()\n",
    "        lines[2] = lines[2].replace('C  [', '').replace(']', '').lstrip()\n",
    "        lines[3] = lines[3].replace('G  [', '').replace(']', '').lstrip()\n",
    "        lines[4] = lines[4].replace('T  [', '').replace(']', '').lstrip()\n",
    "        # Save to .pfm file\n",
    "        pfm_file = open(pfm_dir+filename.split('.jaspar')[0]+'.pfm', \"w\")\n",
    "        for line in lines:\n",
    "            pfm_file.write(line)\n",
    "        pfm_file.close()"
   ]
  },
  {
   "cell_type": "markdown",
   "metadata": {},
   "source": [
    "# Read promoter sequences for genes of interest"
   ]
  },
  {
   "cell_type": "code",
   "execution_count": 5,
   "metadata": {},
   "outputs": [],
   "source": [
    "# Load genes of interest\n",
    "adh_tf_genes = pickle.load(open(saving_dir+'adh_tf_genes.pkl', 'rb'))\n",
    "selected_genes = adh_tf_genes"
   ]
  },
  {
   "cell_type": "code",
   "execution_count": 6,
   "metadata": {},
   "outputs": [],
   "source": [
    "# Create a dictionary matching gene UCSC names with HGNC names\n",
    "# Load correspondance between UCSC gene name and HGNC gene name\n",
    "gene_id_filename = dir_genome+'chrom_hg19.name'\n",
    "df_name0 = pd.read_csv(gene_id_filename, sep = '\\t', header = 0,dtype={\"rfamAcc\": str, \"tRnaName\": str})\n",
    "# Only keep UCSC name and geneSymbol\n",
    "df_name0 = df_name0[['#kgID','geneSymbol']]\n",
    "df_name0.columns = ['transcript','geneSymbol']\n",
    "df_name0['geneSymbol'] = df_name0['geneSymbol'].str.upper()\n",
    "ucsc_to_hgnc = {df_name0.iloc[i,0]: df_name0.iloc[i,1] for i in range(df_name0.shape[0])}"
   ]
  },
  {
   "cell_type": "code",
   "execution_count": 7,
   "metadata": {},
   "outputs": [],
   "source": [
    "# Construct fasta files for all genes of interest\n",
    "fasta_name = dir_genome+'prom_hg19.seq'\n",
    "fh = open(fasta_name)\n",
    "# ditch the boolean (x[0]) and just keep the header or sequence since we know they alternate.\n",
    "faiter = (x[1] for x in groupby(fh, lambda line: line[0] == \">\"))\n",
    "for header in faiter:\n",
    "    # read the gene\n",
    "    headerStr = header.__next__().strip()\n",
    "    ucsc_gene = headerStr.split(' ')[0].split('_')[2]\n",
    "    hgnc_gene = ucsc_to_hgnc[ucsc_gene]\n",
    "    loc = headerStr.split(' ')[1]\n",
    "    # join all sequence lines to one.\n",
    "    seq = \"\\n\".join(s.strip() for s in faiter.__next__())\n",
    "    if (hgnc_gene in selected_genes): \n",
    "        with open(dir_genome+'prom_hg19_seq_dir/'+ucsc_gene+'.fa', 'w') as f:\n",
    "            f.write(\"%s\\n\" % headerStr)\n",
    "            f.write(\"%s\" % seq)"
   ]
  },
  {
   "cell_type": "markdown",
   "metadata": {},
   "source": [
    "# Scan genome"
   ]
  },
  {
   "cell_type": "code",
   "execution_count": 9,
   "metadata": {},
   "outputs": [
    {
     "name": "stderr",
     "output_type": "stream",
     "text": [
      " 10%|▉         | 172/1770 [31:58<4:58:04, 11.19s/it]"
     ]
    },
    {
     "ename": "KeyboardInterrupt",
     "evalue": "",
     "output_type": "error",
     "traceback": [
      "\u001b[0;31m---------------------------------------------------------------------------\u001b[0m",
      "\u001b[0;31mKeyboardInterrupt\u001b[0m                         Traceback (most recent call last)",
      "\u001b[0;32m<ipython-input-9-5aaf8236d0fe>\u001b[0m in \u001b[0;36m<module>\u001b[0;34m\u001b[0m\n\u001b[1;32m     11\u001b[0m                             \u001b[0;34m\" --ps \"\u001b[0m\u001b[0;34m+\u001b[0m\u001b[0;34m\"1.0\"\u001b[0m\u001b[0;34m+\u001b[0m\u001b[0;34m\u001b[0m\u001b[0;34m\u001b[0m\u001b[0m\n\u001b[1;32m     12\u001b[0m                             \u001b[0;34m\" -o \"\u001b[0m\u001b[0;34m+\u001b[0m\u001b[0mmoods_out_dir\u001b[0m\u001b[0;34m+\u001b[0m\u001b[0mgene_name\u001b[0m\u001b[0;34m+\u001b[0m\u001b[0;34m'.txt'\u001b[0m\u001b[0;34m,\u001b[0m\u001b[0;34m\u001b[0m\u001b[0;34m\u001b[0m\u001b[0m\n\u001b[0;32m---> 13\u001b[0;31m                             shell=True)\n\u001b[0m",
      "\u001b[0;32m~/anaconda3/lib/python3.7/subprocess.py\u001b[0m in \u001b[0;36mrun\u001b[0;34m(input, capture_output, timeout, check, *popenargs, **kwargs)\u001b[0m\n\u001b[1;32m    472\u001b[0m     \u001b[0;32mwith\u001b[0m \u001b[0mPopen\u001b[0m\u001b[0;34m(\u001b[0m\u001b[0;34m*\u001b[0m\u001b[0mpopenargs\u001b[0m\u001b[0;34m,\u001b[0m \u001b[0;34m**\u001b[0m\u001b[0mkwargs\u001b[0m\u001b[0;34m)\u001b[0m \u001b[0;32mas\u001b[0m \u001b[0mprocess\u001b[0m\u001b[0;34m:\u001b[0m\u001b[0;34m\u001b[0m\u001b[0;34m\u001b[0m\u001b[0m\n\u001b[1;32m    473\u001b[0m         \u001b[0;32mtry\u001b[0m\u001b[0;34m:\u001b[0m\u001b[0;34m\u001b[0m\u001b[0;34m\u001b[0m\u001b[0m\n\u001b[0;32m--> 474\u001b[0;31m             \u001b[0mstdout\u001b[0m\u001b[0;34m,\u001b[0m \u001b[0mstderr\u001b[0m \u001b[0;34m=\u001b[0m \u001b[0mprocess\u001b[0m\u001b[0;34m.\u001b[0m\u001b[0mcommunicate\u001b[0m\u001b[0;34m(\u001b[0m\u001b[0minput\u001b[0m\u001b[0;34m,\u001b[0m \u001b[0mtimeout\u001b[0m\u001b[0;34m=\u001b[0m\u001b[0mtimeout\u001b[0m\u001b[0;34m)\u001b[0m\u001b[0;34m\u001b[0m\u001b[0;34m\u001b[0m\u001b[0m\n\u001b[0m\u001b[1;32m    475\u001b[0m         \u001b[0;32mexcept\u001b[0m \u001b[0mTimeoutExpired\u001b[0m\u001b[0;34m:\u001b[0m\u001b[0;34m\u001b[0m\u001b[0;34m\u001b[0m\u001b[0m\n\u001b[1;32m    476\u001b[0m             \u001b[0mprocess\u001b[0m\u001b[0;34m.\u001b[0m\u001b[0mkill\u001b[0m\u001b[0;34m(\u001b[0m\u001b[0;34m)\u001b[0m\u001b[0;34m\u001b[0m\u001b[0;34m\u001b[0m\u001b[0m\n",
      "\u001b[0;32m~/anaconda3/lib/python3.7/subprocess.py\u001b[0m in \u001b[0;36mcommunicate\u001b[0;34m(self, input, timeout)\u001b[0m\n\u001b[1;32m    929\u001b[0m                 \u001b[0mstderr\u001b[0m \u001b[0;34m=\u001b[0m \u001b[0mself\u001b[0m\u001b[0;34m.\u001b[0m\u001b[0mstderr\u001b[0m\u001b[0;34m.\u001b[0m\u001b[0mread\u001b[0m\u001b[0;34m(\u001b[0m\u001b[0;34m)\u001b[0m\u001b[0;34m\u001b[0m\u001b[0;34m\u001b[0m\u001b[0m\n\u001b[1;32m    930\u001b[0m                 \u001b[0mself\u001b[0m\u001b[0;34m.\u001b[0m\u001b[0mstderr\u001b[0m\u001b[0;34m.\u001b[0m\u001b[0mclose\u001b[0m\u001b[0;34m(\u001b[0m\u001b[0;34m)\u001b[0m\u001b[0;34m\u001b[0m\u001b[0;34m\u001b[0m\u001b[0m\n\u001b[0;32m--> 931\u001b[0;31m             \u001b[0mself\u001b[0m\u001b[0;34m.\u001b[0m\u001b[0mwait\u001b[0m\u001b[0;34m(\u001b[0m\u001b[0;34m)\u001b[0m\u001b[0;34m\u001b[0m\u001b[0;34m\u001b[0m\u001b[0m\n\u001b[0m\u001b[1;32m    932\u001b[0m         \u001b[0;32melse\u001b[0m\u001b[0;34m:\u001b[0m\u001b[0;34m\u001b[0m\u001b[0;34m\u001b[0m\u001b[0m\n\u001b[1;32m    933\u001b[0m             \u001b[0;32mif\u001b[0m \u001b[0mtimeout\u001b[0m \u001b[0;32mis\u001b[0m \u001b[0;32mnot\u001b[0m \u001b[0;32mNone\u001b[0m\u001b[0;34m:\u001b[0m\u001b[0;34m\u001b[0m\u001b[0;34m\u001b[0m\u001b[0m\n",
      "\u001b[0;32m~/anaconda3/lib/python3.7/subprocess.py\u001b[0m in \u001b[0;36mwait\u001b[0;34m(self, timeout)\u001b[0m\n\u001b[1;32m    988\u001b[0m             \u001b[0mendtime\u001b[0m \u001b[0;34m=\u001b[0m \u001b[0m_time\u001b[0m\u001b[0;34m(\u001b[0m\u001b[0;34m)\u001b[0m \u001b[0;34m+\u001b[0m \u001b[0mtimeout\u001b[0m\u001b[0;34m\u001b[0m\u001b[0;34m\u001b[0m\u001b[0m\n\u001b[1;32m    989\u001b[0m         \u001b[0;32mtry\u001b[0m\u001b[0;34m:\u001b[0m\u001b[0;34m\u001b[0m\u001b[0;34m\u001b[0m\u001b[0m\n\u001b[0;32m--> 990\u001b[0;31m             \u001b[0;32mreturn\u001b[0m \u001b[0mself\u001b[0m\u001b[0;34m.\u001b[0m\u001b[0m_wait\u001b[0m\u001b[0;34m(\u001b[0m\u001b[0mtimeout\u001b[0m\u001b[0;34m=\u001b[0m\u001b[0mtimeout\u001b[0m\u001b[0;34m)\u001b[0m\u001b[0;34m\u001b[0m\u001b[0;34m\u001b[0m\u001b[0m\n\u001b[0m\u001b[1;32m    991\u001b[0m         \u001b[0;32mexcept\u001b[0m \u001b[0mKeyboardInterrupt\u001b[0m\u001b[0;34m:\u001b[0m\u001b[0;34m\u001b[0m\u001b[0;34m\u001b[0m\u001b[0m\n\u001b[1;32m    992\u001b[0m             \u001b[0;31m# https://bugs.python.org/issue25942\u001b[0m\u001b[0;34m\u001b[0m\u001b[0;34m\u001b[0m\u001b[0;34m\u001b[0m\u001b[0m\n",
      "\u001b[0;32m~/anaconda3/lib/python3.7/subprocess.py\u001b[0m in \u001b[0;36m_wait\u001b[0;34m(self, timeout)\u001b[0m\n\u001b[1;32m   1622\u001b[0m                         \u001b[0;32mif\u001b[0m \u001b[0mself\u001b[0m\u001b[0;34m.\u001b[0m\u001b[0mreturncode\u001b[0m \u001b[0;32mis\u001b[0m \u001b[0;32mnot\u001b[0m \u001b[0;32mNone\u001b[0m\u001b[0;34m:\u001b[0m\u001b[0;34m\u001b[0m\u001b[0;34m\u001b[0m\u001b[0m\n\u001b[1;32m   1623\u001b[0m                             \u001b[0;32mbreak\u001b[0m  \u001b[0;31m# Another thread waited.\u001b[0m\u001b[0;34m\u001b[0m\u001b[0;34m\u001b[0m\u001b[0m\n\u001b[0;32m-> 1624\u001b[0;31m                         \u001b[0;34m(\u001b[0m\u001b[0mpid\u001b[0m\u001b[0;34m,\u001b[0m \u001b[0msts\u001b[0m\u001b[0;34m)\u001b[0m \u001b[0;34m=\u001b[0m \u001b[0mself\u001b[0m\u001b[0;34m.\u001b[0m\u001b[0m_try_wait\u001b[0m\u001b[0;34m(\u001b[0m\u001b[0;36m0\u001b[0m\u001b[0;34m)\u001b[0m\u001b[0;34m\u001b[0m\u001b[0;34m\u001b[0m\u001b[0m\n\u001b[0m\u001b[1;32m   1625\u001b[0m                         \u001b[0;31m# Check the pid and loop as waitpid has been known to\u001b[0m\u001b[0;34m\u001b[0m\u001b[0;34m\u001b[0m\u001b[0;34m\u001b[0m\u001b[0m\n\u001b[1;32m   1626\u001b[0m                         \u001b[0;31m# return 0 even without WNOHANG in odd situations.\u001b[0m\u001b[0;34m\u001b[0m\u001b[0;34m\u001b[0m\u001b[0;34m\u001b[0m\u001b[0m\n",
      "\u001b[0;32m~/anaconda3/lib/python3.7/subprocess.py\u001b[0m in \u001b[0;36m_try_wait\u001b[0;34m(self, wait_flags)\u001b[0m\n\u001b[1;32m   1580\u001b[0m             \u001b[0;34m\"\"\"All callers to this function MUST hold self._waitpid_lock.\"\"\"\u001b[0m\u001b[0;34m\u001b[0m\u001b[0;34m\u001b[0m\u001b[0m\n\u001b[1;32m   1581\u001b[0m             \u001b[0;32mtry\u001b[0m\u001b[0;34m:\u001b[0m\u001b[0;34m\u001b[0m\u001b[0;34m\u001b[0m\u001b[0m\n\u001b[0;32m-> 1582\u001b[0;31m                 \u001b[0;34m(\u001b[0m\u001b[0mpid\u001b[0m\u001b[0;34m,\u001b[0m \u001b[0msts\u001b[0m\u001b[0;34m)\u001b[0m \u001b[0;34m=\u001b[0m \u001b[0mos\u001b[0m\u001b[0;34m.\u001b[0m\u001b[0mwaitpid\u001b[0m\u001b[0;34m(\u001b[0m\u001b[0mself\u001b[0m\u001b[0;34m.\u001b[0m\u001b[0mpid\u001b[0m\u001b[0;34m,\u001b[0m \u001b[0mwait_flags\u001b[0m\u001b[0;34m)\u001b[0m\u001b[0;34m\u001b[0m\u001b[0;34m\u001b[0m\u001b[0m\n\u001b[0m\u001b[1;32m   1583\u001b[0m             \u001b[0;32mexcept\u001b[0m \u001b[0mChildProcessError\u001b[0m\u001b[0;34m:\u001b[0m\u001b[0;34m\u001b[0m\u001b[0;34m\u001b[0m\u001b[0m\n\u001b[1;32m   1584\u001b[0m                 \u001b[0;31m# This happens if SIGCLD is set to be ignored or waiting\u001b[0m\u001b[0;34m\u001b[0m\u001b[0;34m\u001b[0m\u001b[0;34m\u001b[0m\u001b[0m\n",
      "\u001b[0;31mKeyboardInterrupt\u001b[0m: "
     ]
    }
   ],
   "source": [
    "# Run MOODS for each gene of interest\n",
    "MOODS_exec = \"~/MOODS/python/scripts/moods-dna.py\"\n",
    "for gene_file in tqdm(os.listdir(prom_hg19_seq_dir)):\n",
    "    time.sleep(.01)\n",
    "    gene_name = gene_file.strip('.fa')\n",
    "    result = subprocess.run(MOODS_exec+\n",
    "                            \" -m \"+pfm_dir+'*.pfm'+\n",
    "                            \" -s \"+prom_hg19_seq_dir+gene_file+\n",
    "                            \" -p \"+\"0.00001\"+\n",
    "                            \" --bg \"+\"0.29 0.21 0.21 0.29\"+\n",
    "                            \" --ps \"+\"1.0\"+\n",
    "                            \" -o \"+moods_out_dir+gene_name+'.txt', \n",
    "                            shell=True)"
   ]
  },
  {
   "cell_type": "code",
   "execution_count": null,
   "metadata": {},
   "outputs": [],
   "source": []
  },
  {
   "cell_type": "code",
   "execution_count": null,
   "metadata": {},
   "outputs": [],
   "source": []
  },
  {
   "cell_type": "code",
   "execution_count": null,
   "metadata": {},
   "outputs": [],
   "source": []
  }
 ],
 "metadata": {
  "kernelspec": {
   "display_name": "Python 3",
   "language": "python",
   "name": "python3"
  },
  "language_info": {
   "codemirror_mode": {
    "name": "ipython",
    "version": 3
   },
   "file_extension": ".py",
   "mimetype": "text/x-python",
   "name": "python",
   "nbconvert_exporter": "python",
   "pygments_lexer": "ipython3",
   "version": "3.7.4"
  }
 },
 "nbformat": 4,
 "nbformat_minor": 2
}
