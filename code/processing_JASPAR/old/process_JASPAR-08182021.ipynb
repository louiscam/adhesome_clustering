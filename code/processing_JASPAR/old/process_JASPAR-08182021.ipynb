{
 "cells": [
  {
   "cell_type": "code",
   "execution_count": 1,
   "metadata": {},
   "outputs": [
    {
     "name": "stderr",
     "output_type": "stream",
     "text": [
      "/home/louiscam/anaconda3/lib/python3.7/site-packages/statsmodels/tools/_testing.py:19: FutureWarning: pandas.util.testing is deprecated. Use the functions in the public API at pandas.testing instead.\n",
      "  import pandas.util.testing as tm\n"
     ]
    },
    {
     "data": {
      "text/plain": [
       "<module 'process_jaspar_with_cage' from '/home/louiscam/projects/gpcr/code/JASPAR_processing/process_jaspar_with_cage.py'>"
      ]
     },
     "execution_count": 1,
     "metadata": {},
     "output_type": "execute_result"
    }
   ],
   "source": [
    "# Import standard libraries\n",
    "import os\n",
    "from importlib import reload\n",
    "import numpy as np\n",
    "import matplotlib as mpl\n",
    "import matplotlib.pyplot as plt\n",
    "import seaborn as sns\n",
    "import csv\n",
    "import pandas as pd\n",
    "import pickle\n",
    "import itertools\n",
    "from itertools import groupby\n",
    "import os.path\n",
    "import math\n",
    "import pybedtools\n",
    "import time\n",
    "from tqdm import tqdm\n",
    "import random\n",
    "import MOODS.parsers\n",
    "import MOODS.tools\n",
    "import MOODS.scan\n",
    "import subprocess\n",
    "# Custom libraries\n",
    "import utils as lu\n",
    "import process_jaspar_with_cage as pj\n",
    "# Reload modules in case of modifications\n",
    "reload(lu)\n",
    "reload(pj)"
   ]
  },
  {
   "cell_type": "markdown",
   "metadata": {},
   "source": [
    "# Directories"
   ]
  },
  {
   "cell_type": "code",
   "execution_count": 2,
   "metadata": {},
   "outputs": [],
   "source": [
    "# Directory of adhesome data\n",
    "dir_adhesome = '/home/louiscam/projects/gpcr/data/adhesome_data/'\n",
    "# Directory of genome data\n",
    "dir_genome = '/home/louiscam/projects/gpcr/data/genome_data/'\n",
    "prom_hg19_seq_dir = dir_genome+'prom_hg19_seq_dir/'\n",
    "# Directory of processed HiC\n",
    "dir_processed_hic = '/home/louiscam/projects/gpcr/save/processed_hic_data_dir/'\n",
    "# Directory for storing preliminary results\n",
    "prelim_results_dir = '/home/louiscam/projects/gpcr/save/prelim_results_dir/'\n",
    "# Directory of epigenomic data\n",
    "epigenome_dir = '/home/louiscam/projects/gpcr/data/epigenome_data/'\n",
    "processed_epigenome_data_dir = '/home/louiscam/projects/gpcr/save/processed_epigenome_data_dir/'\n",
    "# Saving directory\n",
    "saving_dir = '/home/louiscam/projects/gpcr/save/figures/'\n",
    "# Directory of tf data\n",
    "tf_dir = '/home/louiscam/projects/gpcr/data/tf_data/'\n",
    "jaspar_dir = tf_dir+'jaspar_data/'\n",
    "pfm_dir = tf_dir+'pfm_data/'\n",
    "moods_out_dir = tf_dir+'moods_cage_outdir/'\n",
    "fantom5_dir = '/home/louiscam/projects/gpcr/data/fantom5/'\n",
    "cage_fasta_dir = dir_genome+'cage_hg19_seq_dir/'"
   ]
  },
  {
   "cell_type": "markdown",
   "metadata": {},
   "source": [
    "# 1. Select genes of interest"
   ]
  },
  {
   "cell_type": "markdown",
   "metadata": {},
   "source": [
    "### Load genes of interest"
   ]
  },
  {
   "cell_type": "code",
   "execution_count": 3,
   "metadata": {},
   "outputs": [
    {
     "name": "stdout",
     "output_type": "stream",
     "text": [
      "Number of genes of interest = 339\n"
     ]
    }
   ],
   "source": [
    "# Genes of interest and location\n",
    "adh_tf_genes = pickle.load(open(saving_dir+'adh_tf_genes.pkl', 'rb'))\n",
    "print('Number of genes of interest = '+str(len(adh_tf_genes)))"
   ]
  },
  {
   "cell_type": "markdown",
   "metadata": {},
   "source": [
    "### Gene location"
   ]
  },
  {
   "cell_type": "code",
   "execution_count": 4,
   "metadata": {},
   "outputs": [],
   "source": [
    "# Load correspondance between UCSC gene name and HGNC gene name\n",
    "gene_id_filename = dir_genome+'chrom_hg19.name'\n",
    "df_name0 = pd.read_csv(gene_id_filename, sep = '\\t', header = 0,dtype={\"rfamAcc\": str, \"tRnaName\": str})\n",
    "# Only keep UCSC name and geneSymbol\n",
    "df_name0 = df_name0[['#kgID','geneSymbol']]\n",
    "df_name0.columns = ['#name','geneSymbol']\n",
    "df_name0['geneSymbol'] = df_name0['geneSymbol'].str.upper()\n",
    "# Mapping UCSC to HGNC\n",
    "ucsc_to_hgnc = pj.create_ucsc_hgnc_dict(dir_genome+'chrom_hg19.name')"
   ]
  },
  {
   "cell_type": "code",
   "execution_count": 6,
   "metadata": {},
   "outputs": [],
   "source": [
    "# Load gene locations\n",
    "gene_locations_filename = dir_genome+'chrom_hg19.loc'\n",
    "df_loc0 = pd.read_csv(gene_locations_filename, sep = '\\t', header = 0)\n",
    "# Merge df_loc0 and df_name0\n",
    "df_loc1 = pd.merge(df_name0, df_loc0, on=['#name'])\n",
    "# Filter out irregular chromosomes\n",
    "keep_chrom = ['chr'+str(i) for i in np.arange(1,23)]\n",
    "df_loc2 = df_loc1[df_loc1['chrom'].isin(keep_chrom)]\n",
    "df_loc2 = df_loc2.sort_values(by=['geneSymbol'])\n",
    "# Remove ribosomal RNA (may be able to remove more irrelevant things, how?)\n",
    "df_loc3 = df_loc2[~df_loc2['geneSymbol'].str.contains('RRNA')]\n",
    "# Restrict to genes of interest\n",
    "df_loc4 = df_loc3[df_loc3['geneSymbol'].isin(adh_tf_genes)]\n",
    "df_loc4.columns = ['ucsc_gene','hgnc_gene','chrom','strand','txStart','txEnd','cdsStart','cdsEnd','exonCount',\n",
    "                  'exonStarts','exonEnds','proteinID','alignID']"
   ]
  },
  {
   "cell_type": "code",
   "execution_count": 10,
   "metadata": {},
   "outputs": [],
   "source": [
    "# Define region 1kb upstream of transcripts\n",
    "df_loc4['upstream_start'] = [df_loc4['txStart'].iloc[i]-1000 if (df_loc4['strand'].iloc[i]=='+') \n",
    "                             else df_loc4['txEnd'].iloc[i] for i in range(df_loc4.shape[0])]\n",
    "df_loc4['upstream_end'] = [df_loc4['txStart'].iloc[i] if (df_loc4['strand'].iloc[i]=='+') \n",
    "                             else df_loc4['txEnd'].iloc[i]+1000 for i in range(df_loc4.shape[0])]"
   ]
  },
  {
   "cell_type": "code",
   "execution_count": 15,
   "metadata": {},
   "outputs": [
    {
     "name": "stdout",
     "output_type": "stream",
     "text": [
      "Number of unique UCSC transscripts = 1722\n"
     ]
    },
    {
     "data": {
      "text/html": [
       "<div>\n",
       "<style scoped>\n",
       "    .dataframe tbody tr th:only-of-type {\n",
       "        vertical-align: middle;\n",
       "    }\n",
       "\n",
       "    .dataframe tbody tr th {\n",
       "        vertical-align: top;\n",
       "    }\n",
       "\n",
       "    .dataframe thead th {\n",
       "        text-align: right;\n",
       "    }\n",
       "</style>\n",
       "<table border=\"1\" class=\"dataframe\">\n",
       "  <thead>\n",
       "    <tr style=\"text-align: right;\">\n",
       "      <th></th>\n",
       "      <th>ucsc_gene</th>\n",
       "      <th>hgnc_gene</th>\n",
       "      <th>chrom</th>\n",
       "      <th>strand</th>\n",
       "      <th>txStart</th>\n",
       "      <th>txEnd</th>\n",
       "      <th>cdsStart</th>\n",
       "      <th>cdsEnd</th>\n",
       "      <th>exonCount</th>\n",
       "      <th>exonStarts</th>\n",
       "      <th>exonEnds</th>\n",
       "      <th>proteinID</th>\n",
       "      <th>alignID</th>\n",
       "      <th>upstream_start</th>\n",
       "      <th>upstream_end</th>\n",
       "    </tr>\n",
       "  </thead>\n",
       "  <tbody>\n",
       "    <tr>\n",
       "      <th>9625</th>\n",
       "      <td>uc010qdg.2</td>\n",
       "      <td>ABI1</td>\n",
       "      <td>chr10</td>\n",
       "      <td>-</td>\n",
       "      <td>27035524</td>\n",
       "      <td>27066170</td>\n",
       "      <td>27037498</td>\n",
       "      <td>27066068</td>\n",
       "      <td>7</td>\n",
       "      <td>27035524,27040526,27047990,27054146,27057780,2...</td>\n",
       "      <td>27037674,27040712,27048167,27054247,27057921,2...</td>\n",
       "      <td>B4DKX2</td>\n",
       "      <td>uc010qdg.2</td>\n",
       "      <td>27066170</td>\n",
       "      <td>27067170</td>\n",
       "    </tr>\n",
       "    <tr>\n",
       "      <th>9620</th>\n",
       "      <td>uc010qdk.2</td>\n",
       "      <td>ABI1</td>\n",
       "      <td>chr10</td>\n",
       "      <td>-</td>\n",
       "      <td>27035524</td>\n",
       "      <td>27150016</td>\n",
       "      <td>27037498</td>\n",
       "      <td>27149792</td>\n",
       "      <td>9</td>\n",
       "      <td>27035524,27040526,27054146,27057780,27059173,2...</td>\n",
       "      <td>27037674,27040712,27054247,27057921,27059274,2...</td>\n",
       "      <td>B6VEX4</td>\n",
       "      <td>uc010qdk.2</td>\n",
       "      <td>27150016</td>\n",
       "      <td>27151016</td>\n",
       "    </tr>\n",
       "    <tr>\n",
       "      <th>9623</th>\n",
       "      <td>uc010qdh.2</td>\n",
       "      <td>ABI1</td>\n",
       "      <td>chr10</td>\n",
       "      <td>-</td>\n",
       "      <td>27035524</td>\n",
       "      <td>27150016</td>\n",
       "      <td>27037498</td>\n",
       "      <td>27149792</td>\n",
       "      <td>8</td>\n",
       "      <td>27035524,27040526,27054146,27057780,27059173,2...</td>\n",
       "      <td>27037674,27040712,27054247,27057921,27059274,2...</td>\n",
       "      <td>Q8IZP0-10</td>\n",
       "      <td>uc010qdh.2</td>\n",
       "      <td>27150016</td>\n",
       "      <td>27151016</td>\n",
       "    </tr>\n",
       "    <tr>\n",
       "      <th>9613</th>\n",
       "      <td>uc001itb.3</td>\n",
       "      <td>ABI1</td>\n",
       "      <td>chr10</td>\n",
       "      <td>-</td>\n",
       "      <td>27035524</td>\n",
       "      <td>27150016</td>\n",
       "      <td>27037498</td>\n",
       "      <td>27149792</td>\n",
       "      <td>12</td>\n",
       "      <td>27035524,27040526,27047990,27052808,27054146,2...</td>\n",
       "      <td>27037674,27040712,27048167,27052889,27054247,2...</td>\n",
       "      <td>H7BXI6</td>\n",
       "      <td>uc001itb.3</td>\n",
       "      <td>27150016</td>\n",
       "      <td>27151016</td>\n",
       "    </tr>\n",
       "    <tr>\n",
       "      <th>9616</th>\n",
       "      <td>uc001isy.3</td>\n",
       "      <td>ABI1</td>\n",
       "      <td>chr10</td>\n",
       "      <td>-</td>\n",
       "      <td>27035524</td>\n",
       "      <td>27150016</td>\n",
       "      <td>27037498</td>\n",
       "      <td>27149792</td>\n",
       "      <td>11</td>\n",
       "      <td>27035524,27040526,27044583,27047990,27054146,2...</td>\n",
       "      <td>27037674,27040712,27044670,27048167,27054247,2...</td>\n",
       "      <td>Q8IZP0-9</td>\n",
       "      <td>uc001isy.3</td>\n",
       "      <td>27150016</td>\n",
       "      <td>27151016</td>\n",
       "    </tr>\n",
       "  </tbody>\n",
       "</table>\n",
       "</div>"
      ],
      "text/plain": [
       "       ucsc_gene hgnc_gene  chrom strand   txStart     txEnd  cdsStart  \\\n",
       "9625  uc010qdg.2      ABI1  chr10      -  27035524  27066170  27037498   \n",
       "9620  uc010qdk.2      ABI1  chr10      -  27035524  27150016  27037498   \n",
       "9623  uc010qdh.2      ABI1  chr10      -  27035524  27150016  27037498   \n",
       "9613  uc001itb.3      ABI1  chr10      -  27035524  27150016  27037498   \n",
       "9616  uc001isy.3      ABI1  chr10      -  27035524  27150016  27037498   \n",
       "\n",
       "        cdsEnd  exonCount                                         exonStarts  \\\n",
       "9625  27066068          7  27035524,27040526,27047990,27054146,27057780,2...   \n",
       "9620  27149792          9  27035524,27040526,27054146,27057780,27059173,2...   \n",
       "9623  27149792          8  27035524,27040526,27054146,27057780,27059173,2...   \n",
       "9613  27149792         12  27035524,27040526,27047990,27052808,27054146,2...   \n",
       "9616  27149792         11  27035524,27040526,27044583,27047990,27054146,2...   \n",
       "\n",
       "                                               exonEnds  proteinID  \\\n",
       "9625  27037674,27040712,27048167,27054247,27057921,2...     B4DKX2   \n",
       "9620  27037674,27040712,27054247,27057921,27059274,2...     B6VEX4   \n",
       "9623  27037674,27040712,27054247,27057921,27059274,2...  Q8IZP0-10   \n",
       "9613  27037674,27040712,27048167,27052889,27054247,2...     H7BXI6   \n",
       "9616  27037674,27040712,27044670,27048167,27054247,2...   Q8IZP0-9   \n",
       "\n",
       "         alignID  upstream_start  upstream_end  \n",
       "9625  uc010qdg.2        27066170      27067170  \n",
       "9620  uc010qdk.2        27150016      27151016  \n",
       "9623  uc010qdh.2        27150016      27151016  \n",
       "9613  uc001itb.3        27150016      27151016  \n",
       "9616  uc001isy.3        27150016      27151016  "
      ]
     },
     "execution_count": 15,
     "metadata": {},
     "output_type": "execute_result"
    }
   ],
   "source": [
    "# Visualize location dataframe\n",
    "df_loc = df_loc4.copy()\n",
    "print('Number of unique UCSC transscripts = '+str(len(np.unique(df_loc['ucsc_gene']))))\n",
    "df_loc.head()"
   ]
  },
  {
   "cell_type": "markdown",
   "metadata": {},
   "source": [
    "# 2. Determine CAGE peaks within 1kb upstream of genes of interest"
   ]
  },
  {
   "cell_type": "markdown",
   "metadata": {},
   "source": [
    "### Process robust CAGE peaks"
   ]
  },
  {
   "cell_type": "code",
   "execution_count": 16,
   "metadata": {},
   "outputs": [
    {
     "name": "stdout",
     "output_type": "stream",
     "text": [
      "Number of unique CAGE peaks = 201802\n"
     ]
    },
    {
     "data": {
      "text/html": [
       "<div>\n",
       "<style scoped>\n",
       "    .dataframe tbody tr th:only-of-type {\n",
       "        vertical-align: middle;\n",
       "    }\n",
       "\n",
       "    .dataframe tbody tr th {\n",
       "        vertical-align: top;\n",
       "    }\n",
       "\n",
       "    .dataframe thead th {\n",
       "        text-align: right;\n",
       "    }\n",
       "</style>\n",
       "<table border=\"1\" class=\"dataframe\">\n",
       "  <thead>\n",
       "    <tr style=\"text-align: right;\">\n",
       "      <th></th>\n",
       "      <th>short_description</th>\n",
       "      <th>association_with_transcript</th>\n",
       "      <th>chrom</th>\n",
       "      <th>cage_start</th>\n",
       "      <th>cage_end</th>\n",
       "      <th>strand</th>\n",
       "      <th>peak_id</th>\n",
       "    </tr>\n",
       "  </thead>\n",
       "  <tbody>\n",
       "    <tr>\n",
       "      <th>95563</th>\n",
       "      <td>p1@MTND1P23</td>\n",
       "      <td>129bp_to_ENST00000416931_5end</td>\n",
       "      <td>chr1</td>\n",
       "      <td>564571</td>\n",
       "      <td>564600</td>\n",
       "      <td>+</td>\n",
       "      <td>1</td>\n",
       "    </tr>\n",
       "    <tr>\n",
       "      <th>95564</th>\n",
       "      <td>p3@MTND1P23</td>\n",
       "      <td>197bp_to_ENST00000416931_5end</td>\n",
       "      <td>chr1</td>\n",
       "      <td>564639</td>\n",
       "      <td>564649</td>\n",
       "      <td>+</td>\n",
       "      <td>3</td>\n",
       "    </tr>\n",
       "    <tr>\n",
       "      <th>95565</th>\n",
       "      <td>p3@MTND2P28</td>\n",
       "      <td>246bp_to_ENST00000457540_5end</td>\n",
       "      <td>chr1</td>\n",
       "      <td>565266</td>\n",
       "      <td>565278</td>\n",
       "      <td>+</td>\n",
       "      <td>3</td>\n",
       "    </tr>\n",
       "    <tr>\n",
       "      <th>95566</th>\n",
       "      <td>p4@MTND2P28</td>\n",
       "      <td>458bp_to_ENST00000457540_5end</td>\n",
       "      <td>chr1</td>\n",
       "      <td>565478</td>\n",
       "      <td>565483</td>\n",
       "      <td>+</td>\n",
       "      <td>4</td>\n",
       "    </tr>\n",
       "    <tr>\n",
       "      <th>95567</th>\n",
       "      <td>p1@MTND2P28</td>\n",
       "      <td>489bp_to_ENST00000457540_5end</td>\n",
       "      <td>chr1</td>\n",
       "      <td>565509</td>\n",
       "      <td>565541</td>\n",
       "      <td>+</td>\n",
       "      <td>1</td>\n",
       "    </tr>\n",
       "  </tbody>\n",
       "</table>\n",
       "</div>"
      ],
      "text/plain": [
       "      short_description    association_with_transcript chrom  cage_start  \\\n",
       "95563       p1@MTND1P23  129bp_to_ENST00000416931_5end  chr1      564571   \n",
       "95564       p3@MTND1P23  197bp_to_ENST00000416931_5end  chr1      564639   \n",
       "95565       p3@MTND2P28  246bp_to_ENST00000457540_5end  chr1      565266   \n",
       "95566       p4@MTND2P28  458bp_to_ENST00000457540_5end  chr1      565478   \n",
       "95567       p1@MTND2P28  489bp_to_ENST00000457540_5end  chr1      565509   \n",
       "\n",
       "       cage_end strand peak_id  \n",
       "95563    564600      +       1  \n",
       "95564    564649      +       3  \n",
       "95565    565278      +       3  \n",
       "95566    565483      +       4  \n",
       "95567    565541      +       1  "
      ]
     },
     "execution_count": 16,
     "metadata": {},
     "output_type": "execute_result"
    }
   ],
   "source": [
    "# Load annotated FANTOM5 CAGE peaks\n",
    "cage_df = pd.read_csv(fantom5_dir+'hg19.cage_peak_phase1and2combined_ann.txt', sep='\\t', skiprows=7, header=0)\n",
    "# Define new columns\n",
    "cage_df['chrom'] = cage_df['00Annotation'].str.split(':', expand=True)[0]\n",
    "cage_df['cage_start'] = cage_df['00Annotation'].str.split(':', expand=True)[1].str.split(\",\", expand=True)[0].str.split(\".\", expand=True)[0].astype(int)\n",
    "cage_df['cage_end'] = cage_df['00Annotation'].str.split(':', expand=True)[1].str.split(\",\", expand=True)[0].str.split(\".\", expand=True)[2].astype(int)\n",
    "cage_df['strand'] = cage_df['00Annotation'].str.split(':', expand=True)[1].str.split(\",\", expand=True)[1]\n",
    "cage_df['peak_id'] = cage_df['short_description'].str.split('@', expand=True)[0].str.strip('p')\n",
    "# Reformat dataframe\n",
    "cage_df = cage_df[['short_description','association_with_transcript','chrom','cage_start','cage_end',\n",
    "                   'strand','peak_id']]\n",
    "cage_df = cage_df.sort_values(by=['chrom','cage_start'])\n",
    "print('Number of unique CAGE peaks = '+str(len(np.unique(cage_df['short_description'].values))))\n",
    "cage_df.head()"
   ]
  },
  {
   "cell_type": "markdown",
   "metadata": {},
   "source": [
    "### CAGE peaks within 1kb of genes of interest"
   ]
  },
  {
   "cell_type": "code",
   "execution_count": 17,
   "metadata": {},
   "outputs": [],
   "source": [
    "# Create bed file for regions upstream of genes of interest\n",
    "upstream_gene_df = df_loc[['chrom','upstream_start','upstream_end','ucsc_gene']]\n",
    "upstream_gene_df.columns = ['chrom','start','stop','name']\n",
    "upstream_gene_bed = pybedtools.BedTool.from_dataframe(upstream_gene_df).sort()"
   ]
  },
  {
   "cell_type": "code",
   "execution_count": 18,
   "metadata": {},
   "outputs": [],
   "source": [
    "# Create a bed file for robust CAGE peaks\n",
    "cage_peak_df = cage_df[['chrom','cage_start','cage_end','short_description']]\n",
    "cage_peak_df.columns = ['chrom','start','end','name']\n",
    "cage_bed = pybedtools.BedTool.from_dataframe(cage_peak_df).sort()"
   ]
  },
  {
   "cell_type": "code",
   "execution_count": 19,
   "metadata": {},
   "outputs": [],
   "source": [
    "# Get CAGE peaks for each gene of interest\n",
    "out = pybedtools.bedtool.BedTool.map(upstream_gene_bed, cage_bed, c = 4, o = 'distinct')\n",
    "out_df = out.to_dataframe()\n",
    "out_df.columns=['chrom','upstream_start','upstream_end','ucsc_gene','peaks']"
   ]
  },
  {
   "cell_type": "code",
   "execution_count": 20,
   "metadata": {},
   "outputs": [],
   "source": [
    "# Reformat matching results\n",
    "peaks_per_gene_df = pd.merge(df_loc, out_df, on=['chrom','upstream_start','upstream_end','ucsc_gene'])\n",
    "peaks_per_gene_df = peaks_per_gene_df[peaks_per_gene_df['peaks'] != '.']\n",
    "peaks_per_gene_df['peaks'] = peaks_per_gene_df['peaks'].str.split(',')"
   ]
  },
  {
   "cell_type": "code",
   "execution_count": 23,
   "metadata": {},
   "outputs": [
    {
     "data": {
      "text/html": [
       "<div>\n",
       "<style scoped>\n",
       "    .dataframe tbody tr th:only-of-type {\n",
       "        vertical-align: middle;\n",
       "    }\n",
       "\n",
       "    .dataframe tbody tr th {\n",
       "        vertical-align: top;\n",
       "    }\n",
       "\n",
       "    .dataframe thead th {\n",
       "        text-align: right;\n",
       "    }\n",
       "</style>\n",
       "<table border=\"1\" class=\"dataframe\">\n",
       "  <thead>\n",
       "    <tr style=\"text-align: right;\">\n",
       "      <th></th>\n",
       "      <th>ucsc_gene</th>\n",
       "      <th>hgnc_gene</th>\n",
       "      <th>chrom</th>\n",
       "      <th>strand</th>\n",
       "      <th>txStart</th>\n",
       "      <th>txEnd</th>\n",
       "      <th>cdsStart</th>\n",
       "      <th>cdsEnd</th>\n",
       "      <th>exonCount</th>\n",
       "      <th>upstream_start</th>\n",
       "      <th>upstream_end</th>\n",
       "      <th>peaks</th>\n",
       "    </tr>\n",
       "  </thead>\n",
       "  <tbody>\n",
       "    <tr>\n",
       "      <th>14</th>\n",
       "      <td>uc010zij.2</td>\n",
       "      <td>ABI2</td>\n",
       "      <td>chr2</td>\n",
       "      <td>+</td>\n",
       "      <td>204193002</td>\n",
       "      <td>204296892</td>\n",
       "      <td>204240738</td>\n",
       "      <td>204292075</td>\n",
       "      <td>10</td>\n",
       "      <td>204192002</td>\n",
       "      <td>204193002</td>\n",
       "      <td>[p1@ABI2]</td>\n",
       "    </tr>\n",
       "    <tr>\n",
       "      <th>15</th>\n",
       "      <td>uc010zii.2</td>\n",
       "      <td>ABI2</td>\n",
       "      <td>chr2</td>\n",
       "      <td>+</td>\n",
       "      <td>204193002</td>\n",
       "      <td>204296892</td>\n",
       "      <td>204193237</td>\n",
       "      <td>204292075</td>\n",
       "      <td>10</td>\n",
       "      <td>204192002</td>\n",
       "      <td>204193002</td>\n",
       "      <td>[p1@ABI2]</td>\n",
       "    </tr>\n",
       "    <tr>\n",
       "      <th>16</th>\n",
       "      <td>uc002uzz.3</td>\n",
       "      <td>ABI2</td>\n",
       "      <td>chr2</td>\n",
       "      <td>+</td>\n",
       "      <td>204193002</td>\n",
       "      <td>204296892</td>\n",
       "      <td>204193237</td>\n",
       "      <td>204292075</td>\n",
       "      <td>10</td>\n",
       "      <td>204192002</td>\n",
       "      <td>204193002</td>\n",
       "      <td>[p1@ABI2]</td>\n",
       "    </tr>\n",
       "    <tr>\n",
       "      <th>18</th>\n",
       "      <td>uc010zin.2</td>\n",
       "      <td>ABI2</td>\n",
       "      <td>chr2</td>\n",
       "      <td>+</td>\n",
       "      <td>204259422</td>\n",
       "      <td>204296892</td>\n",
       "      <td>204267321</td>\n",
       "      <td>204292075</td>\n",
       "      <td>5</td>\n",
       "      <td>204258422</td>\n",
       "      <td>204259422</td>\n",
       "      <td>[p7@ABI2]</td>\n",
       "    </tr>\n",
       "    <tr>\n",
       "      <th>19</th>\n",
       "      <td>uc010zih.2</td>\n",
       "      <td>ABI2</td>\n",
       "      <td>chr2</td>\n",
       "      <td>+</td>\n",
       "      <td>204193002</td>\n",
       "      <td>204296892</td>\n",
       "      <td>204267321</td>\n",
       "      <td>204292075</td>\n",
       "      <td>5</td>\n",
       "      <td>204192002</td>\n",
       "      <td>204193002</td>\n",
       "      <td>[p1@ABI2]</td>\n",
       "    </tr>\n",
       "  </tbody>\n",
       "</table>\n",
       "</div>"
      ],
      "text/plain": [
       "     ucsc_gene hgnc_gene chrom strand    txStart      txEnd   cdsStart  \\\n",
       "14  uc010zij.2      ABI2  chr2      +  204193002  204296892  204240738   \n",
       "15  uc010zii.2      ABI2  chr2      +  204193002  204296892  204193237   \n",
       "16  uc002uzz.3      ABI2  chr2      +  204193002  204296892  204193237   \n",
       "18  uc010zin.2      ABI2  chr2      +  204259422  204296892  204267321   \n",
       "19  uc010zih.2      ABI2  chr2      +  204193002  204296892  204267321   \n",
       "\n",
       "       cdsEnd  exonCount  upstream_start  upstream_end      peaks  \n",
       "14  204292075         10       204192002     204193002  [p1@ABI2]  \n",
       "15  204292075         10       204192002     204193002  [p1@ABI2]  \n",
       "16  204292075         10       204192002     204193002  [p1@ABI2]  \n",
       "18  204292075          5       204258422     204259422  [p7@ABI2]  \n",
       "19  204292075          5       204192002     204193002  [p1@ABI2]  "
      ]
     },
     "execution_count": 23,
     "metadata": {},
     "output_type": "execute_result"
    }
   ],
   "source": [
    "# Visualize results\n",
    "peaks_per_gene_df[['ucsc_gene', 'hgnc_gene', 'chrom', 'strand', 'txStart', 'txEnd',\n",
    "        'cdsStart', 'cdsEnd', 'exonCount', 'upstream_start', 'upstream_end','peaks']].head()"
   ]
  },
  {
   "cell_type": "markdown",
   "metadata": {},
   "source": [
    "# 3. Associate CAGE peaks with genes"
   ]
  },
  {
   "cell_type": "code",
   "execution_count": 25,
   "metadata": {},
   "outputs": [],
   "source": [
    "# Dataframe of genes for each peak\n",
    "genes_per_peak = peaks_per_gene_df[['ucsc_gene','peaks']]\n",
    "genes_per_peak = lu.unnesting(genes_per_peak,['peaks'])\n",
    "genes_per_peak = genes_per_peak[genes_per_peak['peaks'].str.contains('p')]\n",
    "genes_per_peak = genes_per_peak.groupby('peaks')['ucsc_gene'].apply(list).reset_index(name='ucsc_genes')\n",
    "genes_per_peak.columns = ['short_description','ucsc_genes']"
   ]
  },
  {
   "cell_type": "code",
   "execution_count": 26,
   "metadata": {},
   "outputs": [],
   "source": [
    "# Add peak location\n",
    "genes_per_peak = pd.merge(genes_per_peak, cage_df, on=['short_description'])\n",
    "genes_per_peak = genes_per_peak[['short_description','chrom','cage_start','cage_end','strand','ucsc_genes']]\n",
    "genes_per_peak = genes_per_peak.sort_values(by=['chrom'])"
   ]
  },
  {
   "cell_type": "code",
   "execution_count": 27,
   "metadata": {},
   "outputs": [],
   "source": [
    "# Consider a window around each peak\n",
    "genes_per_peak['window_start'] = [genes_per_peak['cage_start'].iloc[i]-400 if (genes_per_peak['strand'].iloc[i]=='+') \n",
    "                                  else genes_per_peak['cage_start'].iloc[i]-50 for i in range(genes_per_peak.shape[0])]\n",
    "genes_per_peak['window_end'] = [genes_per_peak['cage_end'].iloc[i]+50 if (genes_per_peak['strand'].iloc[i]=='+') \n",
    "                                  else genes_per_peak['cage_end'].iloc[i]+400 for i in range(genes_per_peak.shape[0])]"
   ]
  },
  {
   "cell_type": "code",
   "execution_count": 28,
   "metadata": {},
   "outputs": [
    {
     "data": {
      "text/html": [
       "<div>\n",
       "<style scoped>\n",
       "    .dataframe tbody tr th:only-of-type {\n",
       "        vertical-align: middle;\n",
       "    }\n",
       "\n",
       "    .dataframe tbody tr th {\n",
       "        vertical-align: top;\n",
       "    }\n",
       "\n",
       "    .dataframe thead th {\n",
       "        text-align: right;\n",
       "    }\n",
       "</style>\n",
       "<table border=\"1\" class=\"dataframe\">\n",
       "  <thead>\n",
       "    <tr style=\"text-align: right;\">\n",
       "      <th></th>\n",
       "      <th>short_description</th>\n",
       "      <th>chrom</th>\n",
       "      <th>cage_start</th>\n",
       "      <th>cage_end</th>\n",
       "      <th>strand</th>\n",
       "      <th>ucsc_genes</th>\n",
       "      <th>window_start</th>\n",
       "      <th>window_end</th>\n",
       "    </tr>\n",
       "  </thead>\n",
       "  <tbody>\n",
       "    <tr>\n",
       "      <th>672</th>\n",
       "      <td>p2@SLC9A1</td>\n",
       "      <td>chr1</td>\n",
       "      <td>27481950</td>\n",
       "      <td>27482009</td>\n",
       "      <td>-</td>\n",
       "      <td>[uc001bnm.4, uc010ofk.3, uc001bnn.3]</td>\n",
       "      <td>27481900</td>\n",
       "      <td>27482409</td>\n",
       "    </tr>\n",
       "    <tr>\n",
       "      <th>698</th>\n",
       "      <td>p2@USF1</td>\n",
       "      <td>chr1</td>\n",
       "      <td>161015752</td>\n",
       "      <td>161015778</td>\n",
       "      <td>-</td>\n",
       "      <td>[uc001fxj.4, uc001fxi.4]</td>\n",
       "      <td>161015702</td>\n",
       "      <td>161016178</td>\n",
       "    </tr>\n",
       "    <tr>\n",
       "      <th>798</th>\n",
       "      <td>p3@HDAC1</td>\n",
       "      <td>chr1</td>\n",
       "      <td>32757519</td>\n",
       "      <td>32757558</td>\n",
       "      <td>+</td>\n",
       "      <td>[uc001bvb.1, uc010ohe.1, uc010ohd.1, uc010ohf.1]</td>\n",
       "      <td>32757119</td>\n",
       "      <td>32757608</td>\n",
       "    </tr>\n",
       "    <tr>\n",
       "      <th>138</th>\n",
       "      <td>p15@HDGF</td>\n",
       "      <td>chr1</td>\n",
       "      <td>156722252</td>\n",
       "      <td>156722268</td>\n",
       "      <td>-</td>\n",
       "      <td>[uc001fpz.4, uc010phr.2, uc009wse.3, uc001fpy.4]</td>\n",
       "      <td>156722202</td>\n",
       "      <td>156722668</td>\n",
       "    </tr>\n",
       "    <tr>\n",
       "      <th>1111</th>\n",
       "      <td>p5@SHC1</td>\n",
       "      <td>chr1</td>\n",
       "      <td>154943232</td>\n",
       "      <td>154943245</td>\n",
       "      <td>-</td>\n",
       "      <td>[uc001ffw.3, uc001ffv.3]</td>\n",
       "      <td>154943182</td>\n",
       "      <td>154943645</td>\n",
       "    </tr>\n",
       "  </tbody>\n",
       "</table>\n",
       "</div>"
      ],
      "text/plain": [
       "     short_description chrom  cage_start   cage_end strand  \\\n",
       "672          p2@SLC9A1  chr1    27481950   27482009      -   \n",
       "698            p2@USF1  chr1   161015752  161015778      -   \n",
       "798           p3@HDAC1  chr1    32757519   32757558      +   \n",
       "138           p15@HDGF  chr1   156722252  156722268      -   \n",
       "1111           p5@SHC1  chr1   154943232  154943245      -   \n",
       "\n",
       "                                            ucsc_genes  window_start  \\\n",
       "672               [uc001bnm.4, uc010ofk.3, uc001bnn.3]      27481900   \n",
       "698                           [uc001fxj.4, uc001fxi.4]     161015702   \n",
       "798   [uc001bvb.1, uc010ohe.1, uc010ohd.1, uc010ohf.1]      32757119   \n",
       "138   [uc001fpz.4, uc010phr.2, uc009wse.3, uc001fpy.4]     156722202   \n",
       "1111                          [uc001ffw.3, uc001ffv.3]     154943182   \n",
       "\n",
       "      window_end  \n",
       "672     27482409  \n",
       "698    161016178  \n",
       "798     32757608  \n",
       "138    156722668  \n",
       "1111   154943645  "
      ]
     },
     "execution_count": 28,
     "metadata": {},
     "output_type": "execute_result"
    }
   ],
   "source": [
    "# Visualize\n",
    "genes_per_peak.head()"
   ]
  },
  {
   "cell_type": "markdown",
   "metadata": {},
   "source": [
    "# 4. Create sequence files for all CAGE windows"
   ]
  },
  {
   "cell_type": "raw",
   "metadata": {},
   "source": [
    "# Loop over all CAGE windows to generate sequence files\n",
    "for i in tqdm(range(len(genes_per_peak))):\n",
    "    time.sleep(.01)\n",
    "    # Peak characteristics\n",
    "    peak = genes_per_peak['short_description'].iloc[i]\n",
    "    chrom = genes_per_peak['chrom'].iloc[i]\n",
    "    start = genes_per_peak['window_start'].iloc[i]\n",
    "    end = genes_per_peak['window_end'].iloc[i]\n",
    "    # Generate window sequence\n",
    "    result = subprocess.run(cage_fasta_dir+'twoBitToFa http://hgdownload.cse.ucsc.edu/gbdb/hg19/hg19.2bit '+\n",
    "                            cage_fasta_dir+peak+'.fa'+\n",
    "                            ' -seq='+chrom+' -start='+str(start)+' -end='+str(end)+' -noMask',\n",
    "                            shell=True)"
   ]
  },
  {
   "cell_type": "markdown",
   "metadata": {},
   "source": [
    "# 5. Search for TFBS in all CAGE windows\n",
    "See process_jaspar_with_cage.py"
   ]
  },
  {
   "cell_type": "raw",
   "metadata": {},
   "source": [
    "# Convert PFMs into .pfm format\n",
    "homosapiens_ids = pj.get_homosapiens_tfbs(tf_dir)\n",
    "pj.convert_jaspar_to_pfm(jaspar_dir, pfm_dir, homosapiens_ids)"
   ]
  },
  {
   "cell_type": "raw",
   "metadata": {},
   "source": [
    "# Search for TFBS using MOODS\n",
    "MOODS_exec = \"~/MOODS/python/scripts/moods-dna.py\"\n",
    "all_cage_seq_files = os.listdir(cage_fasta_dir)\n",
    "n_all_cage_seq_files = len(all_cage_seq_files)\n",
    "for i in tqdm(range(n_all_cage_seq_files)):\n",
    "    time.sleep(.01)\n",
    "    cage_file = all_cage_seq_files[i]\n",
    "    if cage_file.endswith(\".fa\"):\n",
    "        cage_name = cage_file.strip('.fa')\n",
    "        result = subprocess.run(MOODS_exec+\n",
    "                                \" -m \"+pfm_dir+'*.pfm'+\n",
    "                                \" -s \"+cage_fasta_dir+cage_file+\n",
    "                                \" -p \"+\"0.00001\"+\n",
    "                                \" --bg \"+\"0.29 0.21 0.21 0.29\"+\n",
    "                                \" --ps \"+\"1.0\"+\n",
    "                                \" -o \"+moods_out_dir+cage_name+'.txt', \n",
    "                                shell=True)"
   ]
  },
  {
   "cell_type": "markdown",
   "metadata": {},
   "source": [
    "# 6. Find TFs binding each CAGE window"
   ]
  },
  {
   "cell_type": "markdown",
   "metadata": {},
   "source": [
    "### Useful data"
   ]
  },
  {
   "cell_type": "code",
   "execution_count": 29,
   "metadata": {},
   "outputs": [],
   "source": [
    "# Load JASPAR TFBS metadata\n",
    "jaspar_df = pd.read_csv(tf_dir+'JASPAR-HomoSapiens.csv', \n",
    "                        header=0, usecols=['ID','Name','Species','Class','Family'])\n",
    "# Mapping JASPAR ID to HGNC\n",
    "jasparid_to_hgnc = {jaspar_df.iloc[i,0]:jaspar_df.iloc[i,1] for i in range(jaspar_df.shape[0])}"
   ]
  },
  {
   "cell_type": "code",
   "execution_count": 31,
   "metadata": {},
   "outputs": [
    {
     "name": "stdout",
     "output_type": "stream",
     "text": [
      "Number of unique TFs = 639\n",
      "Number of unique TF motifs = 810\n"
     ]
    },
    {
     "data": {
      "text/html": [
       "<div>\n",
       "<style scoped>\n",
       "    .dataframe tbody tr th:only-of-type {\n",
       "        vertical-align: middle;\n",
       "    }\n",
       "\n",
       "    .dataframe tbody tr th {\n",
       "        vertical-align: top;\n",
       "    }\n",
       "\n",
       "    .dataframe thead th {\n",
       "        text-align: right;\n",
       "    }\n",
       "</style>\n",
       "<table border=\"1\" class=\"dataframe\">\n",
       "  <thead>\n",
       "    <tr style=\"text-align: right;\">\n",
       "      <th></th>\n",
       "      <th>ID</th>\n",
       "      <th>Name</th>\n",
       "      <th>Species</th>\n",
       "      <th>Class</th>\n",
       "      <th>Family</th>\n",
       "    </tr>\n",
       "  </thead>\n",
       "  <tbody>\n",
       "    <tr>\n",
       "      <th>0</th>\n",
       "      <td>MA0002.1</td>\n",
       "      <td>RUNX1</td>\n",
       "      <td>Homo sapiens</td>\n",
       "      <td>Runt domain factors</td>\n",
       "      <td>Runt-related factors</td>\n",
       "    </tr>\n",
       "    <tr>\n",
       "      <th>1</th>\n",
       "      <td>MA0003.1</td>\n",
       "      <td>TFAP2A</td>\n",
       "      <td>Homo sapiens</td>\n",
       "      <td>Basic helix-span-helix factors (bHSH)</td>\n",
       "      <td>AP-2</td>\n",
       "    </tr>\n",
       "    <tr>\n",
       "      <th>2</th>\n",
       "      <td>MA0003.2</td>\n",
       "      <td>TFAP2A</td>\n",
       "      <td>Homo sapiens</td>\n",
       "      <td>Basic helix-span-helix factors (bHSH)</td>\n",
       "      <td>AP-2</td>\n",
       "    </tr>\n",
       "    <tr>\n",
       "      <th>3</th>\n",
       "      <td>MA0003.3</td>\n",
       "      <td>TFAP2A</td>\n",
       "      <td>Homo sapiens</td>\n",
       "      <td>Basic helix-span-helix factors (bHSH)</td>\n",
       "      <td>AP-2</td>\n",
       "    </tr>\n",
       "    <tr>\n",
       "      <th>4</th>\n",
       "      <td>MA0003.4</td>\n",
       "      <td>TFAP2A</td>\n",
       "      <td>Homo sapiens</td>\n",
       "      <td>Basic helix-span-helix factors (bHSH)</td>\n",
       "      <td>AP-2</td>\n",
       "    </tr>\n",
       "  </tbody>\n",
       "</table>\n",
       "</div>"
      ],
      "text/plain": [
       "         ID    Name       Species                                  Class  \\\n",
       "0  MA0002.1   RUNX1  Homo sapiens                    Runt domain factors   \n",
       "1  MA0003.1  TFAP2A  Homo sapiens  Basic helix-span-helix factors (bHSH)   \n",
       "2  MA0003.2  TFAP2A  Homo sapiens  Basic helix-span-helix factors (bHSH)   \n",
       "3  MA0003.3  TFAP2A  Homo sapiens  Basic helix-span-helix factors (bHSH)   \n",
       "4  MA0003.4  TFAP2A  Homo sapiens  Basic helix-span-helix factors (bHSH)   \n",
       "\n",
       "                 Family  \n",
       "0  Runt-related factors  \n",
       "1                  AP-2  \n",
       "2                  AP-2  \n",
       "3                  AP-2  \n",
       "4                  AP-2  "
      ]
     },
     "execution_count": 31,
     "metadata": {},
     "output_type": "execute_result"
    }
   ],
   "source": [
    "# Visualize data\n",
    "print('Number of unique TFs = '+str(len(np.unique(jaspar_df['Name']))))\n",
    "print('Number of unique TF motifs = '+str(len(np.unique(jaspar_df['ID']))))\n",
    "jaspar_df.head()"
   ]
  },
  {
   "cell_type": "markdown",
   "metadata": {},
   "source": [
    "### Load MOODS results"
   ]
  },
  {
   "cell_type": "code",
   "execution_count": 37,
   "metadata": {},
   "outputs": [],
   "source": [
    "# Create dictionary mapping CAGE peaks to the corresponding TFs\n",
    "tfs_associated_to_cage_peaks = {}"
   ]
  },
  {
   "cell_type": "raw",
   "metadata": {},
   "source": [
    "# Loop over files in moods_out_dir and summarize results\n",
    "for peak_moods_file in os.listdir(moods_out_dir):\n",
    "    # load results dataframe for that gene\n",
    "    cage_peak = peak_moods_file.strip('.txt')\n",
    "    res_df = pd.read_csv(moods_out_dir+peak_moods_file, sep=',', header=None, \n",
    "                         usecols=[0,1,2,3,4,5], \n",
    "                         names=['peak_id','tfbs_file','motif_loc','strand','score','motif'])\n",
    "    # Add columns corresponding to the target gene\n",
    "    res_df['cage_peak'] = cage_peak\n",
    "    res_df['chrom'] = res_df['peak_id'].str.split(':', expand=True)[0]\n",
    "    location_cols = res_df['peak_id'].str.split(':', expand=True)[1]\n",
    "    res_df[['start','stop']] = location_cols.str.split('-', expand=True)\n",
    "    # Add columns corresponding to the TFBS\n",
    "    res_df['jaspar_tfbs'] = res_df['tfbs_file'].str.strip('.pfm')\n",
    "    res_df['TF'] = [jasparid_to_hgnc[jaspar_id] for jaspar_id in res_df['jaspar_tfbs']]\n",
    "    # Select relevant columns\n",
    "    res_df = res_df[['cage_peak', 'chrom','start','stop','motif_loc',\n",
    "                     'jaspar_tfbs','TF','score','strand','motif']]\n",
    "    # Store list of TFs associated with the current CAGE peak in dict\n",
    "    tfs_associated_to_cage_peaks[cage_peak] = res_df['TF'].values"
   ]
  },
  {
   "cell_type": "code",
   "execution_count": 39,
   "metadata": {},
   "outputs": [],
   "source": [
    "peak_moods_file = os.listdir(moods_out_dir)[0]\n",
    "# load results dataframe for that gene\n",
    "cage_peak = peak_moods_file.strip('.txt')\n",
    "res_df = pd.read_csv(moods_out_dir+peak_moods_file, sep=',', header=None, \n",
    "                     usecols=[0,1,2,3,4,5], \n",
    "                     names=['peak_id','tfbs_file','motif_loc','strand','score','motif'])\n",
    "# Add columns corresponding to the target gene\n",
    "res_df['cage_peak'] = cage_peak\n",
    "res_df['chrom'] = res_df['peak_id'].str.split(':', expand=True)[0]\n",
    "location_cols = res_df['peak_id'].str.split(':', expand=True)[1]\n",
    "res_df[['start','stop']] = location_cols.str.split('-', expand=True)\n",
    "# Add columns corresponding to the TFBS\n",
    "res_df['jaspar_tfbs'] = res_df['tfbs_file'].str.strip('.pfm')\n",
    "res_df['TF'] = [jasparid_to_hgnc[jaspar_id] for jaspar_id in res_df['jaspar_tfbs']]\n",
    "# Select relevant columns\n",
    "res_df = res_df[['cage_peak', 'chrom','start','stop','motif_loc',\n",
    "                 'jaspar_tfbs','TF','score','strand','motif']]\n",
    "# Store list of TFs associated with the current CAGE peak in dict\n",
    "tfs_associated_to_cage_peaks[cage_peak] = res_df['TF'].values"
   ]
  },
  {
   "cell_type": "markdown",
   "metadata": {},
   "source": [
    "# 7. Find TFs targeting genes of interest"
   ]
  },
  {
   "cell_type": "code",
   "execution_count": 40,
   "metadata": {},
   "outputs": [
    {
     "name": "stderr",
     "output_type": "stream",
     "text": [
      "/home/louiscam/projects/gpcr/code/JASPAR_processing/utils.py:37: FutureWarning: In a future version of pandas all arguments of DataFrame.drop except for the argument 'labels' will be keyword-only\n",
      "  return df1.join(df.drop(explode, 1), how='left')\n"
     ]
    }
   ],
   "source": [
    "# Construct dataframe with gene-tf pairs\n",
    "tf_and_genes_df = genes_per_peak.copy()\n",
    "tf_and_genes_df['tfs'] = [tfs_associated_to_cage_peaks[cage_peak] if cage_peak in tfs_associated_to_cage_peaks.keys()\n",
    "                          else ['ToDo']\n",
    "                          for cage_peak in tf_and_genes_df['short_description'].values]\n",
    "tf_and_genes_df = lu.unnesting(tf_and_genes_df,['ucsc_genes'])\n",
    "tf_and_genes_df = lu.unnesting(tf_and_genes_df,['tfs'])\n",
    "tf_and_genes_df['hgnc_gene'] = [ucsc_to_hgnc[ucsc_id] for ucsc_id in tf_and_genes_df['ucsc_genes']]\n",
    "tf_and_genes_df = tf_and_genes_df[['ucsc_genes','hgnc_gene','tfs',\n",
    "                                   'short_description','chrom','cage_start','cage_end','strand']]"
   ]
  },
  {
   "cell_type": "code",
   "execution_count": 41,
   "metadata": {},
   "outputs": [
    {
     "data": {
      "text/html": [
       "<div>\n",
       "<style scoped>\n",
       "    .dataframe tbody tr th:only-of-type {\n",
       "        vertical-align: middle;\n",
       "    }\n",
       "\n",
       "    .dataframe tbody tr th {\n",
       "        vertical-align: top;\n",
       "    }\n",
       "\n",
       "    .dataframe thead th {\n",
       "        text-align: right;\n",
       "    }\n",
       "</style>\n",
       "<table border=\"1\" class=\"dataframe\">\n",
       "  <thead>\n",
       "    <tr style=\"text-align: right;\">\n",
       "      <th></th>\n",
       "      <th>ucsc_genes</th>\n",
       "      <th>hgnc_gene</th>\n",
       "      <th>tfs</th>\n",
       "      <th>short_description</th>\n",
       "      <th>chrom</th>\n",
       "      <th>cage_start</th>\n",
       "      <th>cage_end</th>\n",
       "      <th>strand</th>\n",
       "    </tr>\n",
       "  </thead>\n",
       "  <tbody>\n",
       "    <tr>\n",
       "      <th>0</th>\n",
       "      <td>uc002lga.3</td>\n",
       "      <td>TCF4</td>\n",
       "      <td>ToDo</td>\n",
       "      <td>p101@TCF4</td>\n",
       "      <td>chr18</td>\n",
       "      <td>53303180</td>\n",
       "      <td>53303190</td>\n",
       "      <td>-</td>\n",
       "    </tr>\n",
       "    <tr>\n",
       "      <th>0</th>\n",
       "      <td>uc021ukp.1</td>\n",
       "      <td>TCF4</td>\n",
       "      <td>ToDo</td>\n",
       "      <td>p101@TCF4</td>\n",
       "      <td>chr18</td>\n",
       "      <td>53303180</td>\n",
       "      <td>53303190</td>\n",
       "      <td>-</td>\n",
       "    </tr>\n",
       "    <tr>\n",
       "      <th>0</th>\n",
       "      <td>uc002lga.3</td>\n",
       "      <td>TCF4</td>\n",
       "      <td>ToDo</td>\n",
       "      <td>p101@TCF4</td>\n",
       "      <td>chr18</td>\n",
       "      <td>53303180</td>\n",
       "      <td>53303190</td>\n",
       "      <td>-</td>\n",
       "    </tr>\n",
       "    <tr>\n",
       "      <th>0</th>\n",
       "      <td>uc021ukp.1</td>\n",
       "      <td>TCF4</td>\n",
       "      <td>ToDo</td>\n",
       "      <td>p101@TCF4</td>\n",
       "      <td>chr18</td>\n",
       "      <td>53303180</td>\n",
       "      <td>53303190</td>\n",
       "      <td>-</td>\n",
       "    </tr>\n",
       "    <tr>\n",
       "      <th>1</th>\n",
       "      <td>uc011avz.1</td>\n",
       "      <td>ANKRD28</td>\n",
       "      <td>ToDo</td>\n",
       "      <td>p10@ANKRD28</td>\n",
       "      <td>chr3</td>\n",
       "      <td>15839693</td>\n",
       "      <td>15839707</td>\n",
       "      <td>-</td>\n",
       "    </tr>\n",
       "  </tbody>\n",
       "</table>\n",
       "</div>"
      ],
      "text/plain": [
       "   ucsc_genes hgnc_gene   tfs short_description  chrom  cage_start  cage_end  \\\n",
       "0  uc002lga.3      TCF4  ToDo         p101@TCF4  chr18    53303180  53303190   \n",
       "0  uc021ukp.1      TCF4  ToDo         p101@TCF4  chr18    53303180  53303190   \n",
       "0  uc002lga.3      TCF4  ToDo         p101@TCF4  chr18    53303180  53303190   \n",
       "0  uc021ukp.1      TCF4  ToDo         p101@TCF4  chr18    53303180  53303190   \n",
       "1  uc011avz.1   ANKRD28  ToDo       p10@ANKRD28   chr3    15839693  15839707   \n",
       "\n",
       "  strand  \n",
       "0      -  \n",
       "0      -  \n",
       "0      -  \n",
       "0      -  \n",
       "1      -  "
      ]
     },
     "execution_count": 41,
     "metadata": {},
     "output_type": "execute_result"
    }
   ],
   "source": [
    "# Visualize results\n",
    "tf_and_genes_df.sort_values('short_description').head()"
   ]
  },
  {
   "cell_type": "code",
   "execution_count": null,
   "metadata": {},
   "outputs": [],
   "source": []
  },
  {
   "cell_type": "code",
   "execution_count": null,
   "metadata": {},
   "outputs": [],
   "source": []
  },
  {
   "cell_type": "code",
   "execution_count": null,
   "metadata": {},
   "outputs": [],
   "source": []
  }
 ],
 "metadata": {
  "kernelspec": {
   "display_name": "Python 3",
   "language": "python",
   "name": "python3"
  },
  "language_info": {
   "codemirror_mode": {
    "name": "ipython",
    "version": 3
   },
   "file_extension": ".py",
   "mimetype": "text/x-python",
   "name": "python",
   "nbconvert_exporter": "python",
   "pygments_lexer": "ipython3",
   "version": "3.7.4"
  }
 },
 "nbformat": 4,
 "nbformat_minor": 2
}
