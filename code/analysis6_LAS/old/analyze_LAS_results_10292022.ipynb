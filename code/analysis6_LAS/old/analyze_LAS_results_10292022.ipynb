{
 "cells": [
  {
   "cell_type": "code",
   "execution_count": 11,
   "metadata": {
    "code_folding": []
   },
   "outputs": [],
   "source": [
    "# Import standard libraries\n",
    "import warnings\n",
    "warnings.simplefilter(action='ignore', category=FutureWarning)\n",
    "from importlib import reload\n",
    "import numpy as np\n",
    "import matplotlib as mpl\n",
    "import matplotlib.pyplot as plt\n",
    "from matplotlib_venn import venn2\n",
    "from brokenaxes import brokenaxes\n",
    "from scipy.cluster.hierarchy import dendrogram, linkage, fcluster\n",
    "from sklearn.metrics import adjusted_mutual_info_score\n",
    "import seaborn as sns\n",
    "from scipy import sparse\n",
    "import scipy.stats as ss\n",
    "import csv\n",
    "import pandas as pd\n",
    "import networkx as nx\n",
    "import community\n",
    "import communities as com\n",
    "import pickle\n",
    "from collections import defaultdict\n",
    "import operator\n",
    "from scipy.sparse import csr_matrix\n",
    "import itertools\n",
    "import os.path\n",
    "import math\n",
    "from sklearn.cluster import AgglomerativeClustering\n",
    "from sklearn.decomposition import PCA\n",
    "from sklearn.manifold import TSNE\n",
    "from sklearn.metrics import adjusted_mutual_info_score\n",
    "from networkx.algorithms.community.kclique import k_clique_communities\n",
    "import pybedtools\n",
    "import time\n",
    "from tqdm import tqdm\n",
    "import random\n",
    "import OmicsIntegrator as oi\n",
    "import gseapy\n",
    "from gseapy.plot import barplot, dotplot\n",
    "from ortools.linear_solver import pywraplp\n",
    "from joblib import Parallel, delayed"
   ]
  },
  {
   "cell_type": "markdown",
   "metadata": {},
   "source": [
    "# Directories"
   ]
  },
  {
   "cell_type": "code",
   "execution_count": 12,
   "metadata": {},
   "outputs": [],
   "source": [
    "# Relevant information\n",
    "cell_type = 'IMR90'\n",
    "resol_str = '250kb'\n",
    "resol = 250000\n",
    "quality = 'MAPQGE30'\n",
    "norm = 'GWKR'"
   ]
  },
  {
   "cell_type": "code",
   "execution_count": 13,
   "metadata": {},
   "outputs": [],
   "source": [
    "# Directory of genome data\n",
    "dir_genome = '/home/louiscam/projects/gpcr/data/genome_data/'\n",
    "# Directory of adhesome data\n",
    "dir_adhesome = '/home/louiscam/projects/gpcr/data/adhesome_data/'\n",
    "# Directory of processed HiC\n",
    "dir_processed_hic = f'/home/louiscam/projects/gpcr/save/processed_hic_data/processed_hic_data_IMR90/final_BP250000_intraKR_inter{norm}/'\n",
    "# Directory of LAS processed data\n",
    "dir_las = f'/home/louiscam/projects/gpcr/save/LAS_results/IMR90/{norm}/'\n",
    "# Saving directory\n",
    "saving_dir = '/home/louiscam/projects/gpcr/save/figures/'\n",
    "saving_main_dir = '/home/louiscam/projects/gpcr/save/figures_main/'\n",
    "saving_supp_dir = '/home/louiscam/projects/gpcr/save/figures_supplement/'"
   ]
  },
  {
   "cell_type": "code",
   "execution_count": 14,
   "metadata": {},
   "outputs": [],
   "source": [
    "# Load mapping between loci and adhesome genes\n",
    "with open(saving_dir+'locus2gene.pkl', 'rb') as f:\n",
    "    locus2gene = pickle.load(f)\n",
    "# Load active adhesome genes   \n",
    "with open(saving_dir+'active_adhesome_genes.pkl', 'rb') as f:\n",
    "    active_adhesome_genes = pickle.load(f)\n",
    "# Load active adhesome TF genes   \n",
    "with open(saving_dir+'active_lung_adhesome_tf_genes.pkl', 'rb') as f:\n",
    "    active_lung_adhesome_tf_genes = pickle.load(f)\n",
    "# Load active genes   \n",
    "with open(saving_dir+'active_genes.pkl', 'rb') as f:\n",
    "    active_genes = pickle.load(f)\n",
    "# Load active random non-adhesome genes   \n",
    "with open(saving_dir+'random_active_nonadh_genes.pkl', 'rb') as f:\n",
    "    random_active_nonadh_genes = pickle.load(f)    "
   ]
  },
  {
   "cell_type": "markdown",
   "metadata": {},
   "source": [
    "# Function to graph using intermingling regions"
   ]
  },
  {
   "cell_type": "code",
   "execution_count": 15,
   "metadata": {},
   "outputs": [],
   "source": [
    "# For each chromosome pair and each intermingling region, create a graph and edge list\n",
    "\n",
    "def create_las_graph(dir_las, gene_list, tf_gene_list):\n",
    "\n",
    "    chr_list = np.arange(1,23,1)\n",
    "    chr_pairs = list(itertools.combinations(chr_list, 2))\n",
    "    intermingling_graphs = {}\n",
    "    intermingling_adhesome_graphs = {}\n",
    "\n",
    "    for chr1, chr2 in tqdm(chr_pairs):\n",
    "\n",
    "        # Load intermingling regions\n",
    "        intermingling_regions_chr1chr2_fname = dir_las+f'intermingling_regions.chr{chr1}_chr{chr2}.avg_filt.csv'\n",
    "        intermingling_regions_chr1chr2 = pd.read_csv(intermingling_regions_chr1chr2_fname, \n",
    "                                                     header=0, index_col=0, sep=',')\n",
    "\n",
    "        if len(intermingling_regions_chr1chr2)==0:\n",
    "            # print(f'Chromosomes {chr1} and {chr2} do not have intermingling regions')\n",
    "            pass\n",
    "        else:\n",
    "            # Sort regions by LAS score\n",
    "            intermingling_regions_chr1chr2 = intermingling_regions_chr1chr2.sort_values(by=['score'], ascending=False)\n",
    "\n",
    "            # For each intermingling region, list loci on chr1 and chr2\n",
    "            intermingling_regions_chr1chr2['loci_chr1'] = intermingling_regions_chr1chr2.apply(\n",
    "                lambda row: np.arange(row[0], row[1]+1, resol).astype(int), axis=1\n",
    "            )\n",
    "            intermingling_regions_chr1chr2['loci_chr1'] = intermingling_regions_chr1chr2['loci_chr1'].apply(\n",
    "                lambda loci: [f'chr_{chr1}_loc_{loc}' for loc in loci]\n",
    "            )\n",
    "            intermingling_regions_chr1chr2['loci_chr2'] = intermingling_regions_chr1chr2.apply(\n",
    "                lambda row: np.arange(row[2], row[3]+1, resol).astype(int), axis=1\n",
    "            )\n",
    "            intermingling_regions_chr1chr2['loci_chr2'] = intermingling_regions_chr1chr2['loci_chr2'].apply(\n",
    "                lambda loci: [f'chr_{chr2}_loc_{loc}' for loc in loci]\n",
    "            ) \n",
    "\n",
    "            # Create edge list for chr1/chr2\n",
    "            edge_list = intermingling_regions_chr1chr2[['loci_chr1', 'loci_chr2', 'score']]\n",
    "            # Add intraX edges\n",
    "            intraX_edge_list_chr1 = edge_list.loc[:,['loci_chr1', 'loci_chr1', 'score']]\n",
    "            intraX_edge_list_chr1.columns = ['loci_chr1', 'loci_chr2', 'score']\n",
    "            intraX_edge_list_chr2 = edge_list.loc[:,['loci_chr2', 'loci_chr2', 'score']]\n",
    "            intraX_edge_list_chr2.columns = ['loci_chr1', 'loci_chr2', 'score']\n",
    "            edge_list = pd.concat([edge_list, intraX_edge_list_chr1, intraX_edge_list_chr2], ignore_index=True, axis=0)\n",
    "            edge_list = edge_list.explode(column=['loci_chr1'])\n",
    "            edge_list = edge_list.explode(column=['loci_chr2'])\n",
    "            # Drop self-edges\n",
    "            edge_list = edge_list[(edge_list['loci_chr1'] != edge_list['loci_chr2'])]\n",
    "            # Aggregate duplicated edges\n",
    "            edge_list = edge_list.sort_values(['loci_chr1', 'loci_chr2'])\n",
    "            edge_list = edge_list.groupby(['loci_chr1', 'loci_chr2']).agg('max')\n",
    "            edge_list = edge_list.reset_index()\n",
    "\n",
    "            # Create graph\n",
    "            G = nx.from_pandas_edgelist(df=edge_list, source='loci_chr1', target='loci_chr2', edge_attr=['score'])\n",
    "\n",
    "            # Add node attributes\n",
    "            nx.set_node_attributes(G, \n",
    "                                   {loc: 'chr'+loc.split('_')[1] for loc in G.nodes}, \n",
    "                                   'chrom')\n",
    "            nx.set_node_attributes(G, \n",
    "                                   {loc: locus2gene[loc] if (loc in locus2gene.keys()) else [] for loc in G.nodes}, \n",
    "                                   'genes')\n",
    "            nx.set_node_attributes(G, \n",
    "                                   {loc: len(locus2gene[loc]) if (loc in locus2gene.keys()) else [] for loc in G.nodes}, \n",
    "                                   'n_genes')\n",
    "            nx.set_node_attributes(G, \n",
    "                                   {loc: [g for g in locus2gene[loc] if g in gene_list] \n",
    "                                    if (loc in locus2gene.keys()) else [] for loc in G.nodes}, \n",
    "                                   'adhesome_genes')\n",
    "            nx.set_node_attributes(G, \n",
    "                                   {loc: len([g for g in locus2gene[loc] if g in gene_list]) \n",
    "                                    if (loc in locus2gene.keys()) else 0 for loc in G.nodes}, \n",
    "                                   'n_adhesome_genes')\n",
    "            nx.set_node_attributes(G, \n",
    "                                   {loc: [g for g in locus2gene[loc] if g in tf_gene_list] \n",
    "                                    if (loc in locus2gene.keys()) else [] for loc in G.nodes}, \n",
    "                                   'active_lung_adhesome_tf_genes')\n",
    "            nx.set_node_attributes(G, \n",
    "                                   {loc: len([g for g in locus2gene[loc] if g in tf_gene_list]) \n",
    "                                    if (loc in locus2gene.keys()) else 0 for loc in G.nodes}, \n",
    "                                   'n_active_lung_adhesome_tf_genes')\n",
    "            nx.set_node_attributes(G, \n",
    "                                   {loc: str(len([g for g in locus2gene[loc] if g in tf_gene_list])>0) \n",
    "                                    if (loc in locus2gene.keys()) else 'False' for loc in G.nodes}, \n",
    "                                   'active_lung_adhesome_tf_genes_present')\n",
    "            nx.set_node_attributes(G, \n",
    "                                   {loc: [g for g in locus2gene[loc] \n",
    "                                          if ((g in gene_list) or (g in tf_gene_list))] \n",
    "                                    if (loc in locus2gene.keys()) else [] for loc in G.nodes}, \n",
    "                                   'adhesome_and_tf_genes')\n",
    "\n",
    "            # Save graph\n",
    "            intermingling_graphs[f'chr{chr1}_chr{chr2}'] = G\n",
    "            n_adhesome_genes_dict = nx.get_node_attributes(G, 'n_adhesome_genes')\n",
    "            n_active_lung_adhesome_tf_genes_dict = nx.get_node_attributes(G, 'n_active_lung_adhesome_tf_genes')\n",
    "            non_adhesome_nodes = [loc for loc in G.nodes \n",
    "                                  if ((n_adhesome_genes_dict[loc]==0) and \n",
    "                                      (n_active_lung_adhesome_tf_genes_dict[loc]==0))]\n",
    "            G.remove_nodes_from(non_adhesome_nodes)\n",
    "            intermingling_adhesome_graphs[f'chr{chr1}_chr{chr2}'] = G\n",
    "\n",
    "    G = nx.compose_all(list(intermingling_adhesome_graphs.values()))\n",
    "    return(G)"
   ]
  },
  {
   "cell_type": "markdown",
   "metadata": {},
   "source": [
    "# Create LAS graph for adhesome"
   ]
  },
  {
   "cell_type": "code",
   "execution_count": 16,
   "metadata": {},
   "outputs": [
    {
     "name": "stderr",
     "output_type": "stream",
     "text": [
      "100%|██████████| 231/231 [00:18<00:00, 12.44it/s]\n"
     ]
    },
    {
     "name": "stdout",
     "output_type": "stream",
     "text": [
      "Name: \n",
      "Type: Graph\n",
      "Number of nodes: 224\n",
      "Number of edges: 7006\n",
      "Average degree:  62.5536\n",
      "Density: 0.28050928891736066\n"
     ]
    }
   ],
   "source": [
    "# Create LAS graph for adhesome genes\n",
    "G = create_las_graph(dir_las, active_adhesome_genes, active_lung_adhesome_tf_genes)\n",
    "print(nx.info(G))\n",
    "print(f'Density: {nx.density(G)}')"
   ]
  },
  {
   "cell_type": "code",
   "execution_count": 21,
   "metadata": {},
   "outputs": [
    {
     "name": "stderr",
     "output_type": "stream",
     "text": [
      "100%|██████████| 500/500 [12:16<00:00,  1.47s/it]\n"
     ]
    }
   ],
   "source": [
    "# Compare adhesome LAS graph to random non adhesome genes LAS graph\n",
    "n_adhesome = len(active_adhesome_genes)+len(active_lung_adhesome_tf_genes)\n",
    "active_non_adhesome_genes = set(active_genes)-set(active_adhesome_genes)-set(active_lung_adhesome_tf_genes)\n",
    "active_non_adhesome_genes = list(active_non_adhesome_genes)\n",
    "\n",
    "n_rep = 500\n",
    "graph_densities = []\n",
    "graph_avg_degrees = []\n",
    "\n",
    "def build_random_las_graph(seed):\n",
    "    np.random.seed(seed)\n",
    "    random_non_adhesome_genes = np.random.choice(a=active_non_adhesome_genes, size=n_adhesome, replace=False)\n",
    "    G_random = create_las_graph(dir_las, random_non_adhesome_genes, [])\n",
    "    return([nx.density(G_random), np.mean(list(dict(nx.degree(G_random)).values()))])\n",
    "\n",
    "out = Parallel(n_jobs=os.cpu_count()-2)(delayed(build_random_las_graph)(i**2) for i in tqdm(range(n_rep)))\n",
    "out = np.array(out)\n",
    "graph_densities = out[:,0]\n",
    "graph_avg_degrees = out[:,1]"
   ]
  },
  {
   "cell_type": "code",
   "execution_count": 24,
   "metadata": {},
   "outputs": [
    {
     "data": {
      "image/png": "[encoded data removed]",
      "text/plain": [
       "<Figure size 432x288 with 1 Axes>"
      ]
     },
     "metadata": {
      "needs_background": "light"
     },
     "output_type": "display_data"
    },
    {
     "name": "stdout",
     "output_type": "stream",
     "text": [
      "p-value = 0.15\n"
     ]
    },
    {
     "data": {
      "image/png": "[encoded data removed]",
      "text/plain": [
       "<Figure size 432x288 with 1 Axes>"
      ]
     },
     "metadata": {
      "needs_background": "light"
     },
     "output_type": "display_data"
    },
    {
     "name": "stdout",
     "output_type": "stream",
     "text": [
      "p-value = 0.0\n"
     ]
    }
   ],
   "source": [
    "# Plot\n",
    "plt.figure()\n",
    "plt.hist(graph_densities, bins=np.arange(0.15, 0.6, 0.01))\n",
    "plt.vlines(x=nx.density(G), ymin=0, ymax=60, color='red', linestyle='dashed', alpha=0.5)\n",
    "plt.xlabel('graph density')\n",
    "plt.ylabel('number of random graphs')\n",
    "plt.show()\n",
    "print(f'p-value = {np.mean(graph_densities>=nx.density(G))}')\n",
    "\n",
    "plt.figure()\n",
    "plt.hist(graph_avg_degrees, bins=np.arange(0, 70, 2))\n",
    "plt.vlines(x=np.mean(list(dict(nx.degree(G)).values())), ymin=0, ymax=60, color='red', linestyle='dashed', alpha=0.5)\n",
    "plt.xlabel('graph average degree')\n",
    "plt.ylabel('number of random graphs')\n",
    "plt.show()\n",
    "print(f'p-value = {np.mean(graph_avg_degrees>np.mean(list(dict(nx.degree(G)).values())))}')"
   ]
  },
  {
   "cell_type": "code",
   "execution_count": 17,
   "metadata": {},
   "outputs": [],
   "source": [
    "# Info on nodes and edges\n",
    "graph_nodes = oi.get_networkx_graph_as_dataframe_of_nodes(G)\n",
    "graph_edges = oi.get_networkx_graph_as_dataframe_of_edges(G)"
   ]
  },
  {
   "cell_type": "code",
   "execution_count": 18,
   "metadata": {},
   "outputs": [
    {
     "data": {
      "image/png": "[encoded data removed]",
      "text/plain": [
       "<Figure size 432x288 with 1 Axes>"
      ]
     },
     "metadata": {
      "needs_background": "light"
     },
     "output_type": "display_data"
    }
   ],
   "source": [
    "# Plot distribution of edge weights\n",
    "t = 2000\n",
    "plt.figure()\n",
    "plt.hist(graph_edges['score'].values, bins = np.arange(0,5000, 100))\n",
    "plt.vlines(x=t, ymin=0, ymax=800, color='red', linestyle='dashed')\n",
    "plt.xlabel('edge score')\n",
    "plt.ylabel('count')\n",
    "plt.show()"
   ]
  },
  {
   "cell_type": "code",
   "execution_count": 41,
   "metadata": {},
   "outputs": [
    {
     "name": "stdout",
     "output_type": "stream",
     "text": [
      "Name: \n",
      "Type: Graph\n",
      "Number of nodes: 52\n",
      "Number of edges: 760\n",
      "Average degree:  29.2308\n"
     ]
    }
   ],
   "source": [
    "# Threshold edges\n",
    "score_dict = nx.get_edge_attributes(G, 'score')\n",
    "edges2remove = [e for e in G.edges if score_dict[e]<t]\n",
    "G.remove_edges_from(edges2remove)\n",
    "G.remove_nodes_from(list(nx.isolates(G)))\n",
    "print(nx.info(G))"
   ]
  },
  {
   "cell_type": "code",
   "execution_count": 259,
   "metadata": {},
   "outputs": [
    {
     "data": {
      "text/plain": [
       "PosixPath('/home/louiscam/projects/gpcr/code/analysis_LAS/las_graph_random.html')"
      ]
     },
     "execution_count": 259,
     "metadata": {},
     "output_type": "execute_result"
    }
   ],
   "source": [
    "# Save network as html\n",
    "oi.output_networkx_graph_as_interactive_html(G, output_dir='/home/louiscam/projects/gpcr/code/analysis_LAS/',\n",
    "                                            filename='las_graph.html')"
   ]
  },
  {
   "cell_type": "markdown",
   "metadata": {},
   "source": [
    "# Another way to represent the graph where nodes = clusters"
   ]
  },
  {
   "cell_type": "code",
   "execution_count": 187,
   "metadata": {},
   "outputs": [
    {
     "name": "stderr",
     "output_type": "stream",
     "text": [
      " 26%|██▌       | 60/231 [00:01<00:04, 42.12it/s]"
     ]
    },
    {
     "name": "stdout",
     "output_type": "stream",
     "text": [
      "Chromosomes 3 and 18 do not have intermingling regions\n"
     ]
    },
    {
     "name": "stderr",
     "output_type": "stream",
     "text": [
      "100%|██████████| 231/231 [00:07<00:00, 31.53it/s]\n"
     ]
    }
   ],
   "source": [
    "# For each chromosome pair and each intermingling region, create a graph and edge list\n",
    "\n",
    "chr_list = np.arange(1,23,1)\n",
    "chr_pairs = list(itertools.combinations(chr_list, 2))\n",
    "\n",
    "node_attribute_chrom = {}\n",
    "edge_lists = []\n",
    "\n",
    "for chr1, chr2 in tqdm(chr_pairs):\n",
    "\n",
    "    # Load intermingling regions\n",
    "    intermingling_regions_chr1chr2_fname = dir_las+f'intermingling_regions.chr{chr1}_chr{chr2}.avg_filt.csv'\n",
    "    intermingling_regions_chr1chr2 = pd.read_csv(intermingling_regions_chr1chr2_fname, \n",
    "                                                 header=0, index_col=0, sep=',')\n",
    "\n",
    "    if len(intermingling_regions_chr1chr2)==0:\n",
    "        print(f'Chromosomes {chr1} and {chr2} do not have intermingling regions')\n",
    "    else:\n",
    "        # Sort regions by LAS score\n",
    "        intermingling_regions_chr1chr2 = intermingling_regions_chr1chr2.sort_values(by=['score'], ascending=False)\n",
    "\n",
    "        # For each intermingling region, list loci on chr1 and chr2\n",
    "        intermingling_regions_chr1chr2['loci_chr1'] = intermingling_regions_chr1chr2.apply(\n",
    "            lambda row: np.arange(row[0], row[1]+1, resol).astype(int), axis=1\n",
    "        )\n",
    "        intermingling_regions_chr1chr2['loci_chr1'] = intermingling_regions_chr1chr2['loci_chr1'].apply(\n",
    "            lambda loci: [f'chr_{chr1}_loc_{loc}' for loc in loci]\n",
    "        )\n",
    "        intermingling_regions_chr1chr2['loci_chr2'] = intermingling_regions_chr1chr2.apply(\n",
    "            lambda row: np.arange(row[2], row[3]+1, resol).astype(int), axis=1\n",
    "        )\n",
    "        intermingling_regions_chr1chr2['loci_chr2'] = intermingling_regions_chr1chr2['loci_chr2'].apply(\n",
    "            lambda loci: [f'chr_{chr2}_loc_{loc}' for loc in loci]\n",
    "        )\n",
    "        \n",
    "        # List adhesome gene in loci_chr1 and loci_chr2\n",
    "        intermingling_regions_chr1chr2['adhesome_chr1'] = intermingling_regions_chr1chr2['loci_chr1'].apply(\n",
    "            lambda loci: sorted(itertools.chain.from_iterable([[g for g in locus2gene[loc] \n",
    "                           if (g in active_adhesome_genes)] for loc in loci if (loc in locus2gene.keys())]))\n",
    "        )\n",
    "        intermingling_regions_chr1chr2['adhesome_chr2'] = intermingling_regions_chr1chr2['loci_chr2'].apply(\n",
    "            lambda loci:  sorted(itertools.chain.from_iterable([[g for g in locus2gene[loc] \n",
    "                           if (g in active_adhesome_genes)] for loc in loci if (loc in locus2gene.keys())]))\n",
    "        )\n",
    "        \n",
    "        # Name cluster 1 and 2 by their genes\n",
    "        intermingling_regions_chr1chr2['source'] = intermingling_regions_chr1chr2['adhesome_chr1'].apply(\n",
    "            lambda gene_list: ', '.join(sorted(set(gene_list)))  \n",
    "        )\n",
    "        intermingling_regions_chr1chr2['target'] = intermingling_regions_chr1chr2['adhesome_chr2'].apply(\n",
    "            lambda gene_list: ', '.join(sorted(set(gene_list)))  \n",
    "        )\n",
    "        \n",
    "        # Only keep relationships between clusters containing adhesome genes\n",
    "        intermingling_regions_chr1chr2 = intermingling_regions_chr1chr2[\n",
    "            (intermingling_regions_chr1chr2['source'] != '') & (intermingling_regions_chr1chr2['target'] != '')\n",
    "        ]\n",
    "        \n",
    "        # Create edge list\n",
    "        intermingling_regions_chr1chr2 = intermingling_regions_chr1chr2[['source', 'target', 'score']]\n",
    "        edge_lists.append(intermingling_regions_chr1chr2)\n",
    "        for source in intermingling_regions_chr1chr2['source']:\n",
    "            node_attribute_chrom[source] = 'chr'+str(chr1)\n",
    "        for target in intermingling_regions_chr1chr2['target']:\n",
    "            node_attribute_chrom[target] = 'chr'+str(chr2)"
   ]
  },
  {
   "cell_type": "code",
   "execution_count": 188,
   "metadata": {},
   "outputs": [
    {
     "name": "stdout",
     "output_type": "stream",
     "text": [
      "Name: \n",
      "Type: Graph\n",
      "Number of nodes: 160\n",
      "Number of edges: 1225\n",
      "Average degree:  15.3125\n",
      "Density: 0.09630503144654089\n"
     ]
    }
   ],
   "source": [
    "# Create final edge list and graph\n",
    "edge_list = pd.concat(edge_lists, axis=0)\n",
    "G = nx.from_pandas_edgelist(df=edge_list, source='source', target='target', edge_attr=['score'])\n",
    "nx.set_node_attributes(G, node_attribute_chrom, 'chrom')\n",
    "print(nx.info(G))\n",
    "print(f'Density: {nx.density(G)}')"
   ]
  },
  {
   "cell_type": "code",
   "execution_count": 189,
   "metadata": {},
   "outputs": [],
   "source": [
    "# Determine nodes that have at least one gene in common\n",
    "nodes = list(G.nodes)\n",
    "common_genes = pd.DataFrame(0, index=nodes, columns=nodes)\n",
    "for node1, node2 in itertools.combinations(nodes, 2):\n",
    "    node1_ls = node1.split(', ')\n",
    "    node2_ls = node2.split(', ')\n",
    "    common_genes.loc[node1, node2] = len(set.intersection(*[set(node1_ls), set(node2_ls)]))\n",
    "G_common = nx.from_pandas_adjacency(common_genes>0) \n",
    "supernodes = list(nx.connected_components(G_common))"
   ]
  },
  {
   "cell_type": "code",
   "execution_count": 190,
   "metadata": {},
   "outputs": [],
   "source": [
    "# Contract nodes\n",
    "for supernode in supernodes:\n",
    "    supernode_nodes = sorted(list(supernode))\n",
    "    for node in supernode_nodes[1:]:\n",
    "        G = nx.contracted_nodes(G, supernode_nodes[0], node)"
   ]
  },
  {
   "cell_type": "code",
   "execution_count": 191,
   "metadata": {},
   "outputs": [],
   "source": [
    "# Count number of interacting gene pairs (from adhesome network) between two clusters\n",
    "with open(saving_dir+'adhesome_network_graph.pkl', 'rb') as f:\n",
    "    adhesome_network = pickle.load(f)\n",
    "\n",
    "def get_interactions(e, adhesome_network):\n",
    "    source, target = e\n",
    "    source_genes = source.split(', ')\n",
    "    target_genes = target.split(', ')\n",
    "    interacting_pairs = []\n",
    "    for g1, g2 in itertools.product(source_genes, target_genes):\n",
    "        if (g1 in adhesome_network.nodes) & (g2 in adhesome_network.nodes):\n",
    "            if (g1 in nx.neighbors(adhesome_network, g2)) | (g2 in nx.neighbors(adhesome_network, g1)):\n",
    "                interacting_pairs.append((g1, g2))\n",
    "    return(interacting_pairs)\n",
    "                        \n",
    "def get_n_interactions(e, adhesome_network):\n",
    "    source, target = e\n",
    "    source_genes = source.split(', ')\n",
    "    target_genes = target.split(', ')\n",
    "    interacting_pairs = []\n",
    "    for g1, g2 in itertools.product(source_genes, target_genes):\n",
    "        if (g1 in adhesome_network.nodes) & (g2 in adhesome_network.nodes):\n",
    "            if (g1 in nx.neighbors(adhesome_network, g2)) | (g2 in nx.neighbors(adhesome_network, g1)):\n",
    "                interacting_pairs.append((g1, g2))\n",
    "    return(len(interacting_pairs))\n",
    "\n",
    "G_edge_interact_dict = {e: get_interactions(e, adhesome_network) for e in G.edges}\n",
    "G_edge_n_interact_dict = {e: get_n_interactions(e, adhesome_network) for e in G.edges}\n",
    "\n",
    "nx.set_edge_attributes(G, G_edge_interact_dict, 'intercluster interactions')\n",
    "nx.set_edge_attributes(G, G_edge_n_interact_dict, 'number of intercluster interactions')"
   ]
  },
  {
   "cell_type": "code",
   "execution_count": 192,
   "metadata": {},
   "outputs": [],
   "source": [
    "# Info on nodes and edges\n",
    "graph_nodes = oi.get_networkx_graph_as_dataframe_of_nodes(G)\n",
    "graph_edges = oi.get_networkx_graph_as_dataframe_of_edges(G)"
   ]
  },
  {
   "cell_type": "code",
   "execution_count": 193,
   "metadata": {},
   "outputs": [
    {
     "data": {
      "image/png": "[encoded data removed]",
      "text/plain": [
       "<Figure size 432x288 with 1 Axes>"
      ]
     },
     "metadata": {
      "needs_background": "light"
     },
     "output_type": "display_data"
    }
   ],
   "source": [
    "# Plot distribution of edge weights\n",
    "t = 1000\n",
    "plt.figure()\n",
    "plt.hist(graph_edges['score'].values, bins = np.arange(0,5000, 100))\n",
    "plt.vlines(x=t, ymin=0, ymax=1500, color='red', linestyle='dashed')\n",
    "plt.xlabel('edge score')\n",
    "plt.ylabel('count')\n",
    "plt.show()"
   ]
  },
  {
   "cell_type": "code",
   "execution_count": 195,
   "metadata": {},
   "outputs": [],
   "source": [
    "# Threshold edges\n",
    "# score_dict = nx.get_edge_attributes(G, 'score')\n",
    "# edges2remove = [e for e in G.edges if score_dict[e]<t]\n",
    "# G.remove_edges_from(edges2remove)\n",
    "# G.remove_nodes_from(list(nx.isolates(G)))\n",
    "# print(nx.info(G))\n",
    "\n",
    "# Flag edges with score below t\n",
    "score_dict = nx.get_edge_attributes(G, 'score')\n",
    "nx.set_edge_attributes(\n",
    "    G, \n",
    "    {e: True if score_dict[e]>t else False for e in G.edges}, \n",
    "    'high score')"
   ]
  },
  {
   "cell_type": "code",
   "execution_count": 196,
   "metadata": {},
   "outputs": [
    {
     "data": {
      "text/plain": [
       "PosixPath('/home/louiscam/projects/gpcr/code/analysis_LAS/las_graph_contracted.html')"
      ]
     },
     "execution_count": 196,
     "metadata": {},
     "output_type": "execute_result"
    }
   ],
   "source": [
    "# Save network as html\n",
    "oi.output_networkx_graph_as_interactive_html(G, output_dir='/home/louiscam/projects/gpcr/code/analysis_LAS/',\n",
    "                                            filename='las_graph_contracted.html')"
   ]
  },
  {
   "cell_type": "code",
   "execution_count": 197,
   "metadata": {},
   "outputs": [],
   "source": [
    "# Save network to pickle\n",
    "with open(saving_dir+'las_graph_contracted.pkl', 'wb') as f:\n",
    "    pickle.dump(G, f)"
   ]
  },
  {
   "cell_type": "code",
   "execution_count": null,
   "metadata": {},
   "outputs": [],
   "source": []
  }
 ],
 "metadata": {
  "kernelspec": {
   "display_name": "Python 3",
   "language": "python",
   "name": "python3"
  },
  "language_info": {
   "codemirror_mode": {
    "name": "ipython",
    "version": 3
   },
   "file_extension": ".py",
   "mimetype": "text/x-python",
   "name": "python",
   "nbconvert_exporter": "python",
   "pygments_lexer": "ipython3",
   "version": "3.7.4"
  }
 },
 "nbformat": 4,
 "nbformat_minor": 2
}
