{
 "cells": [
  {
   "cell_type": "code",
   "execution_count": 43,
   "metadata": {},
   "outputs": [
    {
     "data": {
      "text/plain": [
       "<module 'large_average_submatrix_hic_avgcutoff_iter' from '/home/louiscam/projects/gpcr/code/analysis_LAS/large_average_submatrix_hic_avgcutoff_iter.py'>"
      ]
     },
     "execution_count": 43,
     "metadata": {},
     "output_type": "execute_result"
    }
   ],
   "source": [
    "# Import standard libraries\n",
    "import warnings\n",
    "warnings.simplefilter(action='ignore', category=FutureWarning)\n",
    "from importlib import reload\n",
    "import numpy as np\n",
    "import matplotlib as mpl\n",
    "import matplotlib.pyplot as plt\n",
    "from matplotlib_venn import venn2\n",
    "from brokenaxes import brokenaxes\n",
    "from scipy.cluster.hierarchy import dendrogram, linkage, fcluster\n",
    "from sklearn.metrics import adjusted_mutual_info_score\n",
    "import seaborn as sns\n",
    "from scipy import sparse\n",
    "import scipy.stats as ss\n",
    "from scipy.special import gammaln\n",
    "import csv\n",
    "import pandas as pd\n",
    "import networkx as nx\n",
    "import community\n",
    "import communities as com\n",
    "import pickle\n",
    "from collections import defaultdict\n",
    "import operator\n",
    "from scipy.sparse import csr_matrix\n",
    "from scipy.spatial.distance import pdist, squareform\n",
    "import itertools\n",
    "import os.path\n",
    "import math\n",
    "from sklearn.cluster import AgglomerativeClustering\n",
    "from sklearn.decomposition import PCA\n",
    "from sklearn.manifold import TSNE\n",
    "from sklearn.metrics import adjusted_mutual_info_score\n",
    "from networkx.algorithms.community.kclique import k_clique_communities\n",
    "import pybedtools\n",
    "import time\n",
    "from tqdm import tqdm\n",
    "import random\n",
    "import OmicsIntegrator as oi\n",
    "import gseapy\n",
    "from gseapy.plot import barplot, dotplot\n",
    "from ortools.linear_solver import pywraplp\n",
    "from joblib import Parallel, delayed\n",
    "\n",
    "# Import custom libraries\n",
    "import utils as lu\n",
    "import large_average_submatrix_hic_avgcutoff_iter as las\n",
    "reload(lu)\n",
    "reload(las)"
   ]
  },
  {
   "cell_type": "code",
   "execution_count": 62,
   "metadata": {},
   "outputs": [
    {
     "data": {
      "image/png": "[encoded data removed]",
      "text/plain": [
       "<Figure size 432x288 with 2 Axes>"
      ]
     },
     "metadata": {
      "needs_background": "light"
     },
     "output_type": "display_data"
    }
   ],
   "source": [
    "# Simulate data\n",
    "seed = 13\n",
    "data = las.simulate_data(seed)\n",
    "m, n = data.shape\n",
    "data = pd.DataFrame(data, index=np.arange(m), columns=np.arange(n).astype(str))\n",
    "plt.figure()\n",
    "sns.heatmap(data)\n",
    "plt.show()"
   ]
  },
  {
   "cell_type": "code",
   "execution_count": 63,
   "metadata": {},
   "outputs": [
    {
     "data": {
      "image/png": "[encoded data removed]",
      "text/plain": [
       "<Figure size 432x288 with 2 Axes>"
      ]
     },
     "metadata": {
      "needs_background": "light"
     },
     "output_type": "display_data"
    }
   ],
   "source": [
    "# Transform the data\n",
    "mean = data.values.flatten().mean()\n",
    "std = data.values.flatten().std()\n",
    "zscored_data = (data-mean)/std\n",
    "plt.figure()\n",
    "sns.heatmap(zscored_data)\n",
    "plt.show()"
   ]
  },
  {
   "cell_type": "code",
   "execution_count": 64,
   "metadata": {},
   "outputs": [
    {
     "name": "stdout",
     "output_type": "stream",
     "text": [
      "Total number of hypotheses = 60225\n",
      "Bonferroni p-value threshold = 0.9999998339559983\n",
      "Bonferroni statistic threshold = 5.104261953603367\n"
     ]
    }
   ],
   "source": [
    "# LAS parameters\n",
    "iters = 100\n",
    "max_submatrix_size = 10\n",
    "alpha = 0.01\n",
    "\n",
    "# Count the number of submatrices of size max_submatrix_size\n",
    "n_hyp = 0\n",
    "for k,l in itertools.product(range(max_submatrix_size), range(max_submatrix_size)):\n",
    "    n_hyp = n_hyp+(n-k+1)*(m-l+1)\n",
    "pvalue_threshold = 1-alpha/n_hyp\n",
    "threshold_stat = ss.norm.ppf(pvalue_threshold)\n",
    "print(f'Total number of hypotheses = {n_hyp}')\n",
    "print(f'Bonferroni p-value threshold = {pvalue_threshold}')\n",
    "print(f'Bonferroni statistic threshold = {threshold_stat}')"
   ]
  },
  {
   "cell_type": "code",
   "execution_count": 65,
   "metadata": {},
   "outputs": [],
   "source": [
    "# LAS algorithm\n",
    "\n",
    "def search(data, max_submatrix_size):\n",
    "    # run search procedure with fixed k, l first\n",
    "    max_num_rows = int(max_submatrix_size/1)\n",
    "    max_num_cols = int(max_submatrix_size/1)\n",
    "    k = random.randint(1, max_num_rows)\n",
    "    l = random.randint(1, max_num_cols)\n",
    "    row_set, col_set = las.search_fixed_k_l(data, k,l)\n",
    "\n",
    "    # allow k and l to vary\n",
    "    # initialize the running average\n",
    "    pre_score = -1000000\n",
    "    curr_score = 0\n",
    "    # iterate until convergence\n",
    "    while(pre_score != curr_score):\n",
    "        # sum across columns\n",
    "        row_summed = np.sum(col_set, axis =1)\n",
    "        start_row, k, score_rows = las.enumerate_adj_submatrix_scores(data, row_summed, max_num_rows, k, l, 'row')\n",
    "        # make a row set\n",
    "        row_set = data[start_row:start_row+k, :]\n",
    "\n",
    "        # columns\n",
    "        col_summed = np.sum(row_set, axis =0)\n",
    "        start_col, l, score_cols = las.enumerate_adj_submatrix_scores(data, col_summed, max_num_cols, k, l, 'col')\n",
    "        # make a col set\n",
    "        col_set = data[:,start_col:start_col+l]\n",
    "\n",
    "        # update scores\n",
    "        pre_score = curr_score\n",
    "        curr_score = score_cols\n",
    "        #print('Score = ', pre_score, curr_score)\n",
    "\n",
    "    return start_row, k, start_col, l, curr_score\n",
    "\n",
    "def search_main(data, dir, iter, max_submatrix_size, iters):\n",
    "    num_iter = iters\n",
    "    # keep track of submatrix params that you get out\n",
    "    search_attributes = np.empty((num_iter, 5))\n",
    "    for iteration in range(num_iter):\n",
    "        start_row, k, start_col, l, curr_score = search(data, max_submatrix_size)\n",
    "        search_attributes[iteration] = start_row, k, start_col,l ,curr_score\n",
    "\n",
    "    # save the iterations\n",
    "    np.savetxt(dir + 'sub_matrix' + str(iter) + '.txt', search_attributes)\n",
    "\n",
    "\n",
    "    best_start_row, best_k, best_start_col, best_l, best_score =  search_attributes[np.argmax(search_attributes[:,4])]\n",
    "    rows = np.arange(best_start_row, best_start_row + best_k, dtype = 'int')\n",
    "    cols = np.arange(best_start_col, best_start_col + best_l, dtype = 'int')\n",
    "    sub_matrix = data[np.ix_(rows,cols)]\n",
    "    return rows, cols, sub_matrix, best_score\n",
    "\n",
    "def large_average_submatrix_adj(data, threshold_stat, max_submatrix_size, iters):\n",
    "    # store some data on iterations\n",
    "    dir = '/home/louiscam/projects/gpcr/code/analysis_LAS/LAS_test/'\n",
    "    if (os.path.isdir(dir) == False):\n",
    "        os.makedirs(dir)\n",
    "\n",
    "    # algorithm until score falls below threshold\n",
    "    continue_search = True\n",
    "    iter = 0\n",
    "    # store matrices\n",
    "    start_rows, stop_rows, start_cols, stop_cols, best_score_list, avg_list = [], [], [], [], [], []\n",
    "\n",
    "    while (continue_search):\n",
    "        rows, cols, sub_matrix, best_score = search_main(data, dir, iter, max_submatrix_size, iters)\n",
    "        data = las.residual(sub_matrix, data, rows, cols)\n",
    "        # check whether score is below threshold based on the the size of submatrix\n",
    "        continue_search = las.check_submatrix_below_threshold(sub_matrix, threshold_stat)\n",
    "        if (continue_search == True):\n",
    "            start_rows.append(rows[0])\n",
    "            stop_rows.append(rows[-1])\n",
    "            start_cols.append(cols[0])\n",
    "            stop_cols.append(cols[-1])\n",
    "            best_score_list.append(best_score)\n",
    "            avg_list.append(np.average(sub_matrix))\n",
    "            iter = iter + 1\n",
    "            print('Best score = ', best_score)\n",
    "            print('Average = ', np.average(sub_matrix))\n",
    "            print(rows[0], rows[-1], cols[0], cols[-1])\n",
    "\n",
    "    return start_rows, stop_rows, start_cols, stop_cols, best_score_list, avg_list\n",
    "\n",
    "def run_LAS(df, threshold_stat, max_submatrix_size, iters):\n",
    "    \n",
    "    # Load data\n",
    "    data = df.values\n",
    "\n",
    "    # run LAS algorithm\n",
    "    start_rows, stop_rows, start_cols, stop_cols, best_score_list, avg_list = large_average_submatrix_adj(\n",
    "        data, threshold_stat, max_submatrix_size, iters\n",
    "    )\n",
    "\n",
    "    # convert indices to positions\n",
    "    start_row_pos, stop_row_pos, start_col_pos, stop_col_pos = las.map_num2pos(df, start_rows, stop_rows, start_cols, stop_cols)\n",
    "\n",
    "    # store results in dataframe\n",
    "    dic = {'start row' : pd.Series(start_row_pos), 'stop row' : pd.Series(stop_row_pos), 'start col' : pd.Series(start_col_pos), 'stop col': pd.Series(stop_col_pos), 'score' : pd.Series(best_score_list), 'avg' : pd.Series(avg_list)}\n",
    "    df_intermingling = pd.DataFrame(dic, columns=dic.keys())\n",
    "    \n",
    "    return(df_intermingling)"
   ]
  },
  {
   "cell_type": "code",
   "execution_count": 66,
   "metadata": {},
   "outputs": [
    {
     "name": "stdout",
     "output_type": "stream",
     "text": [
      "21.29493418837101 5.104261953603367\n",
      "Best score =  224.30653707765293\n",
      "Average =  5.498328364676258\n",
      "2 6 3 5\n",
      "3.576680996168068 5.104261953603367\n"
     ]
    }
   ],
   "source": [
    "# Run LAS\n",
    "out_df = run_LAS(zscored_data, threshold_stat, 5, iters)"
   ]
  },
  {
   "cell_type": "code",
   "execution_count": 67,
   "metadata": {},
   "outputs": [
    {
     "data": {
      "text/html": [
       "<div>\n",
       "<style scoped>\n",
       "    .dataframe tbody tr th:only-of-type {\n",
       "        vertical-align: middle;\n",
       "    }\n",
       "\n",
       "    .dataframe tbody tr th {\n",
       "        vertical-align: top;\n",
       "    }\n",
       "\n",
       "    .dataframe thead th {\n",
       "        text-align: right;\n",
       "    }\n",
       "</style>\n",
       "<table border=\"1\" class=\"dataframe\">\n",
       "  <thead>\n",
       "    <tr style=\"text-align: right;\">\n",
       "      <th></th>\n",
       "      <th>start row</th>\n",
       "      <th>stop row</th>\n",
       "      <th>start col</th>\n",
       "      <th>stop col</th>\n",
       "      <th>score</th>\n",
       "      <th>avg</th>\n",
       "    </tr>\n",
       "  </thead>\n",
       "  <tbody>\n",
       "    <tr>\n",
       "      <th>0</th>\n",
       "      <td>2</td>\n",
       "      <td>6</td>\n",
       "      <td>3.0</td>\n",
       "      <td>5.0</td>\n",
       "      <td>224.306537</td>\n",
       "      <td>5.498328</td>\n",
       "    </tr>\n",
       "  </tbody>\n",
       "</table>\n",
       "</div>"
      ],
      "text/plain": [
       "   start row  stop row  start col  stop col       score       avg\n",
       "0          2         6        3.0       5.0  224.306537  5.498328"
      ]
     },
     "execution_count": 67,
     "metadata": {},
     "output_type": "execute_result"
    }
   ],
   "source": [
    "# Show list of intermingling regions\n",
    "out_df"
   ]
  },
  {
   "cell_type": "code",
   "execution_count": 68,
   "metadata": {},
   "outputs": [
    {
     "data": {
      "image/png": "[encoded data removed]",
      "text/plain": [
       "<Figure size 720x720 with 2 Axes>"
      ]
     },
     "metadata": {
      "needs_background": "light"
     },
     "output_type": "display_data"
    }
   ],
   "source": [
    "# Plot identified LAS regions\n",
    "minl, maxl = data.min().min(), data.max().max()\n",
    "\n",
    "plt.figure(figsize=(10,10))\n",
    "plt.imshow(data.values, cmap = 'Reds', vmin = minl, vmax = maxl)\n",
    "cbar = plt.colorbar()\n",
    "cbar.solids.set_rasterized(True) \n",
    "\n",
    "# label ticks with genomic position (Mb)\n",
    "xaxis = range(0, data.shape[1], 100)\n",
    "xlabels = [str(las.map_colnum2pos(data, x)/1) for x in xaxis]\n",
    "plt.xticks(xaxis, xlabels)\n",
    "yaxis = range(0, data.shape[0], 100)\n",
    "ylabels = [str(las.map_rownum2pos(data, y)/1) for y in yaxis]\n",
    "plt.yticks(yaxis, ylabels)\n",
    "\n",
    "plt.xlabel('x', fontsize = 14)\n",
    "plt.ylabel('y', fontsize = 14)\n",
    "\n",
    "df_intermingling = out_df.copy()\n",
    "# iterate over all las regions found\n",
    "for num in range(0, len(df_intermingling)):\n",
    "    region = df_intermingling.iloc[num]\n",
    "    start_row = region['start row']-0.5\n",
    "    stop_row = region['stop row']+0.5\n",
    "    start_col = region['start col']-0.5\n",
    "    stop_col = region['stop col']+0.5\n",
    "\n",
    "    # draw vertical lines - columns are same\n",
    "    plt.plot([start_col, start_col], [start_row, stop_row], 'k-', lw = 0.8)\n",
    "    plt.plot([stop_col, stop_col], [start_row, stop_row], 'k-', lw = 0.8)\n",
    "    # draw horizontal lines - rows are same\n",
    "    plt.plot([start_col, stop_col], [start_row, start_row], 'k-', lw = 0.8)\n",
    "    plt.plot([start_col, stop_col], [stop_row, stop_row], 'k-', lw = 0.8)\n",
    "\n",
    "plt.show()"
   ]
  },
  {
   "cell_type": "code",
   "execution_count": null,
   "metadata": {},
   "outputs": [],
   "source": []
  }
 ],
 "metadata": {
  "kernelspec": {
   "display_name": "Python 3",
   "language": "python",
   "name": "python3"
  },
  "language_info": {
   "codemirror_mode": {
    "name": "ipython",
    "version": 3
   },
   "file_extension": ".py",
   "mimetype": "text/x-python",
   "name": "python",
   "nbconvert_exporter": "python",
   "pygments_lexer": "ipython3",
   "version": "3.7.4"
  }
 },
 "nbformat": 4,
 "nbformat_minor": 2
}
