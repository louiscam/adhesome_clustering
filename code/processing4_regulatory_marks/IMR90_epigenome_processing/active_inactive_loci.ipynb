{
 "cells": [
  {
   "cell_type": "code",
   "execution_count": 1,
   "metadata": {},
   "outputs": [],
   "source": [
    "from importlib import reload\n",
    "import sys\n",
    "import pickle\n",
    "import numpy as np \n",
    "import matplotlib as mpl\n",
    "mpl.use('Agg')\n",
    "import matplotlib.pyplot as plt\n",
    "plt.ioff()\n",
    "import seaborn as sns\n",
    "import pandas as pd\n",
    "from sklearn.cluster import AgglomerativeClustering\n",
    "from sklearn.decomposition import PCA\n",
    "from sklearn.manifold import TSNE\n",
    "import pybedtools\n",
    "from joblib import Parallel, delayed\n",
    "import get_feature_matrix_perchr as gfm\n",
    "from tqdm import tqdm\n",
    "import time"
   ]
  },
  {
   "cell_type": "code",
   "execution_count": 2,
   "metadata": {},
   "outputs": [
    {
     "data": {
      "text/plain": [
       "<module 'get_feature_matrix_perchr' from '/home/louiscam/projects/gpcr/code/epigenome_processing/get_feature_matrix_perchr.py'>"
      ]
     },
     "execution_count": 2,
     "metadata": {},
     "output_type": "execute_result"
    }
   ],
   "source": [
    "# Reload modules in case of modifications\n",
    "reload(gfm)"
   ]
  },
  {
   "cell_type": "markdown",
   "metadata": {},
   "source": [
    "# Data directories"
   ]
  },
  {
   "cell_type": "code",
   "execution_count": 3,
   "metadata": {},
   "outputs": [],
   "source": [
    "genome_dir = '/home/louiscam/projects/gpcr/data/genome_data/'\n",
    "epigenome_dir = '/home/louiscam/projects/gpcr/data/epigenome_data_targetfinder/'\n",
    "processed_epigenome_data_dir = '/home/louiscam/projects/gpcr/save/processed_epigenome_data_dir/'\n",
    "dir_adhesome = '/home/louiscam/projects/gpcr/data/adhesome_data/'"
   ]
  },
  {
   "cell_type": "code",
   "execution_count": 4,
   "metadata": {},
   "outputs": [],
   "source": [
    "cell_type = 'IMR90'\n",
    "resol_str = '250kb'\n",
    "resol = 250000\n",
    "quality = 'MAPQGE30'"
   ]
  },
  {
   "cell_type": "markdown",
   "metadata": {},
   "source": [
    "# Create dataframe of regulatory marks for loci"
   ]
  },
  {
   "cell_type": "code",
   "execution_count": 5,
   "metadata": {},
   "outputs": [],
   "source": [
    "# Get dataframe of available regulatory marks\n",
    "df = pd.read_csv(epigenome_dir+'filenames_belyaeva.csv', sep=',', header=0)"
   ]
  },
  {
   "cell_type": "code",
   "execution_count": 6,
   "metadata": {},
   "outputs": [],
   "source": [
    "# Get chromosome sizes\n",
    "df_sizes = gfm.get_chrom_sizes(genome_dir, resol)"
   ]
  },
  {
   "cell_type": "code",
   "execution_count": 7,
   "metadata": {},
   "outputs": [],
   "source": [
    "# Divide genome into portions corresponding to loci\n",
    "chr_list = np.arange(1,22+1)\n",
    "df_chrom_list = []\n",
    "for chrom in chr_list:\n",
    "    # Get chromosome size\n",
    "    chrom_size = int(df_sizes.loc[df_sizes['chr']==str(chrom)]['size'])\n",
    "    # Divide the chromosome into segments of HIC_RESOLN length\n",
    "    stop_pos = np.arange(resol, chrom_size + resol, resol, dtype = 'int')\n",
    "    df_chrom = pd.DataFrame()\n",
    "    df_chrom['chrom'] = ['chr' + str(chrom)]*len(stop_pos)\n",
    "    df_chrom['start'] = stop_pos - resol\n",
    "    df_chrom['stop'] = stop_pos\n",
    "    df_chrom_list.append(df_chrom)\n",
    "all_loci_pos = pd.concat(df_chrom_list, axis=0)"
   ]
  },
  {
   "cell_type": "code",
   "execution_count": 8,
   "metadata": {},
   "outputs": [
    {
     "data": {
      "text/html": [
       "<div>\n",
       "<style scoped>\n",
       "    .dataframe tbody tr th:only-of-type {\n",
       "        vertical-align: middle;\n",
       "    }\n",
       "\n",
       "    .dataframe tbody tr th {\n",
       "        vertical-align: top;\n",
       "    }\n",
       "\n",
       "    .dataframe thead th {\n",
       "        text-align: right;\n",
       "    }\n",
       "</style>\n",
       "<table border=\"1\" class=\"dataframe\">\n",
       "  <thead>\n",
       "    <tr style=\"text-align: right;\">\n",
       "      <th></th>\n",
       "      <th>locus</th>\n",
       "      <th>chrom</th>\n",
       "      <th>start</th>\n",
       "      <th>end</th>\n",
       "      <th>length</th>\n",
       "    </tr>\n",
       "  </thead>\n",
       "  <tbody>\n",
       "    <tr>\n",
       "      <th>0</th>\n",
       "      <td>chr_1_loc_0</td>\n",
       "      <td>1</td>\n",
       "      <td>0</td>\n",
       "      <td>250000</td>\n",
       "      <td>250000</td>\n",
       "    </tr>\n",
       "    <tr>\n",
       "      <th>1</th>\n",
       "      <td>chr_1_loc_250000</td>\n",
       "      <td>1</td>\n",
       "      <td>250000</td>\n",
       "      <td>500000</td>\n",
       "      <td>250000</td>\n",
       "    </tr>\n",
       "    <tr>\n",
       "      <th>2</th>\n",
       "      <td>chr_1_loc_500000</td>\n",
       "      <td>1</td>\n",
       "      <td>500000</td>\n",
       "      <td>750000</td>\n",
       "      <td>250000</td>\n",
       "    </tr>\n",
       "    <tr>\n",
       "      <th>3</th>\n",
       "      <td>chr_1_loc_750000</td>\n",
       "      <td>1</td>\n",
       "      <td>750000</td>\n",
       "      <td>1000000</td>\n",
       "      <td>250000</td>\n",
       "    </tr>\n",
       "    <tr>\n",
       "      <th>4</th>\n",
       "      <td>chr_1_loc_1000000</td>\n",
       "      <td>1</td>\n",
       "      <td>1000000</td>\n",
       "      <td>1250000</td>\n",
       "      <td>250000</td>\n",
       "    </tr>\n",
       "  </tbody>\n",
       "</table>\n",
       "</div>"
      ],
      "text/plain": [
       "               locus  chrom    start      end  length\n",
       "0        chr_1_loc_0      1        0   250000  250000\n",
       "1   chr_1_loc_250000      1   250000   500000  250000\n",
       "2   chr_1_loc_500000      1   500000   750000  250000\n",
       "3   chr_1_loc_750000      1   750000  1000000  250000\n",
       "4  chr_1_loc_1000000      1  1000000  1250000  250000"
      ]
     },
     "execution_count": 8,
     "metadata": {},
     "output_type": "execute_result"
    }
   ],
   "source": [
    "# Create dataframe of loci location\n",
    "all_loci_loc = all_loci_pos.copy()\n",
    "all_loci_loc['chrom'] = all_loci_loc['chrom'].str.strip('chr').astype(int)\n",
    "all_loci_loc['locus'] = ['chr_'+str(all_loci_loc.iloc[i]['chrom'])+'_loc_'+str(all_loci_loc.iloc[i]['start'])\n",
    "                          for i in range(all_loci_loc.shape[0])]\n",
    "all_loci_loc.columns = ['#chrom', 'chromStart', 'chromEnd', 'locus']\n",
    "all_loci_loc = all_loci_loc[['locus', '#chrom', 'chromStart', 'chromEnd']]\n",
    "all_loci_loc['locusLength'] = resol\n",
    "all_loci_loc.columns = ['locus','chrom','start','end','length']\n",
    "all_loci_loc = all_loci_loc.sort_values(by=['chrom','start'])\n",
    "all_loci_loc.head()"
   ]
  },
  {
   "cell_type": "code",
   "execution_count": 13,
   "metadata": {},
   "outputs": [],
   "source": [
    "# Convert to bed file\n",
    "bed_all_loci = pybedtools.BedTool.from_dataframe(all_loci_pos)\n",
    "bed_all_loci = bed_all_loci.sort()\n",
    "bed_all_loci_df = bed_all_loci.to_dataframe()"
   ]
  },
  {
   "cell_type": "code",
   "execution_count": 14,
   "metadata": {},
   "outputs": [
    {
     "name": "stdout",
     "output_type": "stream",
     "text": [
      "Process RNAseq\n"
     ]
    }
   ],
   "source": [
    "# Process all epigenomic features\n",
    "for i in range(len(df)):\n",
    "    f = df.iloc[i]['filename']\n",
    "    feature = df.loc[i,'name']\n",
    "    print('Process '+feature)\n",
    "    # Get bed file of the feature\n",
    "    bed = pybedtools.BedTool(epigenome_dir + f).sort()\n",
    "    # Get counts for this feature and this chromosome\n",
    "    out = pybedtools.bedtool.BedTool.map(bed_all_loci, bed, c = [2,3], o = 'count_distinct')\n",
    "    counts = out.to_dataframe()['name'].values\n",
    "    # Store results into matrix\n",
    "    all_loci_loc[feature] = counts\n",
    "    # Normalize by locus length\n",
    "    all_loci_loc['norm_'+feature] = np.log(1+1000000*all_loci_loc[feature]/resol)\n",
    "    # z-score\n",
    "    mean = all_loci_loc['norm_'+feature].mean()\n",
    "    std = all_loci_loc['norm_'+feature].std()\n",
    "    all_loci_loc['z_'+feature] = (all_loci_loc['norm_'+feature]-mean)/std"
   ]
  },
  {
   "cell_type": "code",
   "execution_count": 16,
   "metadata": {},
   "outputs": [],
   "source": [
    "# Normalize epigenomic features\n",
    "all_loci_loc = all_loci_loc[[col for col in all_loci_loc.columns if ('z_' in col) or (col == 'locus')]]\n",
    "all_loci_loc = all_loci_loc.set_index('locus').transpose()\n",
    "all_loci_loc = all_loci_loc.sort_index(axis=1)\n",
    "all_loci_loc.index = all_loci_loc.index.str.strip('z_')"
   ]
  },
  {
   "cell_type": "markdown",
   "metadata": {},
   "source": [
    "# Determine active and inactive regions"
   ]
  },
  {
   "cell_type": "markdown",
   "metadata": {},
   "source": [
    "### Load epigenomic data"
   ]
  },
  {
   "cell_type": "code",
   "execution_count": 10,
   "metadata": {},
   "outputs": [
    {
     "data": {
      "text/html": [
       "<div>\n",
       "<style scoped>\n",
       "    .dataframe tbody tr th:only-of-type {\n",
       "        vertical-align: middle;\n",
       "    }\n",
       "\n",
       "    .dataframe tbody tr th {\n",
       "        vertical-align: top;\n",
       "    }\n",
       "\n",
       "    .dataframe thead th {\n",
       "        text-align: right;\n",
       "    }\n",
       "</style>\n",
       "<table border=\"1\" class=\"dataframe\">\n",
       "  <thead>\n",
       "    <tr style=\"text-align: right;\">\n",
       "      <th></th>\n",
       "      <th>chr_1_loc_0</th>\n",
       "      <th>chr_1_loc_250000</th>\n",
       "      <th>chr_1_loc_500000</th>\n",
       "      <th>chr_1_loc_750000</th>\n",
       "      <th>chr_1_loc_1000000</th>\n",
       "      <th>chr_1_loc_1250000</th>\n",
       "      <th>chr_1_loc_1500000</th>\n",
       "      <th>chr_1_loc_1750000</th>\n",
       "      <th>chr_1_loc_2000000</th>\n",
       "      <th>chr_1_loc_2250000</th>\n",
       "      <th>...</th>\n",
       "      <th>chr_22_loc_49000000</th>\n",
       "      <th>chr_22_loc_49250000</th>\n",
       "      <th>chr_22_loc_49500000</th>\n",
       "      <th>chr_22_loc_49750000</th>\n",
       "      <th>chr_22_loc_50000000</th>\n",
       "      <th>chr_22_loc_50250000</th>\n",
       "      <th>chr_22_loc_50500000</th>\n",
       "      <th>chr_22_loc_50750000</th>\n",
       "      <th>chr_22_loc_51000000</th>\n",
       "      <th>chr_22_loc_51250000</th>\n",
       "    </tr>\n",
       "  </thead>\n",
       "  <tbody>\n",
       "    <tr>\n",
       "      <th>H3K4me1</th>\n",
       "      <td>-1.008735</td>\n",
       "      <td>-2.015639</td>\n",
       "      <td>-0.505283</td>\n",
       "      <td>0.796121</td>\n",
       "      <td>0.699133</td>\n",
       "      <td>0.699133</td>\n",
       "      <td>0.765209</td>\n",
       "      <td>0.699133</td>\n",
       "      <td>0.645307</td>\n",
       "      <td>0.868093</td>\n",
       "      <td>...</td>\n",
       "      <td>-2.015639</td>\n",
       "      <td>-1.512187</td>\n",
       "      <td>-2.015639</td>\n",
       "      <td>-2.015639</td>\n",
       "      <td>0.322319</td>\n",
       "      <td>0.663696</td>\n",
       "      <td>0.920941</td>\n",
       "      <td>0.699133</td>\n",
       "      <td>0.780829</td>\n",
       "      <td>-2.015639</td>\n",
       "    </tr>\n",
       "    <tr>\n",
       "      <th>H3K4me2</th>\n",
       "      <td>-1.958933</td>\n",
       "      <td>-1.958933</td>\n",
       "      <td>-0.780395</td>\n",
       "      <td>0.903726</td>\n",
       "      <td>0.629325</td>\n",
       "      <td>0.777549</td>\n",
       "      <td>0.960422</td>\n",
       "      <td>1.110838</td>\n",
       "      <td>1.155592</td>\n",
       "      <td>0.587846</td>\n",
       "      <td>...</td>\n",
       "      <td>-1.958933</td>\n",
       "      <td>-1.369664</td>\n",
       "      <td>-1.958933</td>\n",
       "      <td>-1.958933</td>\n",
       "      <td>0.398144</td>\n",
       "      <td>0.706663</td>\n",
       "      <td>0.706663</td>\n",
       "      <td>0.842976</td>\n",
       "      <td>0.668873</td>\n",
       "      <td>-1.958933</td>\n",
       "    </tr>\n",
       "    <tr>\n",
       "      <th>H3K4me3</th>\n",
       "      <td>-0.762508</td>\n",
       "      <td>-1.559915</td>\n",
       "      <td>-0.296056</td>\n",
       "      <td>2.096163</td>\n",
       "      <td>2.047202</td>\n",
       "      <td>2.188246</td>\n",
       "      <td>1.942547</td>\n",
       "      <td>1.629711</td>\n",
       "      <td>2.096163</td>\n",
       "      <td>1.555465</td>\n",
       "      <td>...</td>\n",
       "      <td>-1.559915</td>\n",
       "      <td>-0.762508</td>\n",
       "      <td>-1.559915</td>\n",
       "      <td>-1.559915</td>\n",
       "      <td>1.089012</td>\n",
       "      <td>1.555465</td>\n",
       "      <td>2.096163</td>\n",
       "      <td>1.699454</td>\n",
       "      <td>2.047202</td>\n",
       "      <td>-1.559915</td>\n",
       "    </tr>\n",
       "    <tr>\n",
       "      <th>H3K36me3</th>\n",
       "      <td>-0.846516</td>\n",
       "      <td>-1.915456</td>\n",
       "      <td>0.502253</td>\n",
       "      <td>1.085439</td>\n",
       "      <td>0.909434</td>\n",
       "      <td>0.732414</td>\n",
       "      <td>1.053306</td>\n",
       "      <td>0.966577</td>\n",
       "      <td>0.947996</td>\n",
       "      <td>0.756895</td>\n",
       "      <td>...</td>\n",
       "      <td>-0.221226</td>\n",
       "      <td>0.119462</td>\n",
       "      <td>-0.312046</td>\n",
       "      <td>-0.221226</td>\n",
       "      <td>0.269171</td>\n",
       "      <td>0.756895</td>\n",
       "      <td>0.825993</td>\n",
       "      <td>0.780622</td>\n",
       "      <td>1.019776</td>\n",
       "      <td>-1.915456</td>\n",
       "    </tr>\n",
       "    <tr>\n",
       "      <th>H3K9ac</th>\n",
       "      <td>-2.030991</td>\n",
       "      <td>-3.572735</td>\n",
       "      <td>-1.408623</td>\n",
       "      <td>1.086720</td>\n",
       "      <td>1.328125</td>\n",
       "      <td>1.152158</td>\n",
       "      <td>1.381093</td>\n",
       "      <td>1.314479</td>\n",
       "      <td>1.152158</td>\n",
       "      <td>1.286674</td>\n",
       "      <td>...</td>\n",
       "      <td>-1.129128</td>\n",
       "      <td>-1.011953</td>\n",
       "      <td>-1.011953</td>\n",
       "      <td>-1.260118</td>\n",
       "      <td>0.635789</td>\n",
       "      <td>0.709143</td>\n",
       "      <td>1.183488</td>\n",
       "      <td>1.341605</td>\n",
       "      <td>0.943019</td>\n",
       "      <td>-3.572735</td>\n",
       "    </tr>\n",
       "    <tr>\n",
       "      <th>POLR2A</th>\n",
       "      <td>-0.789470</td>\n",
       "      <td>-0.789470</td>\n",
       "      <td>0.148832</td>\n",
       "      <td>3.123182</td>\n",
       "      <td>2.327504</td>\n",
       "      <td>2.456524</td>\n",
       "      <td>1.636007</td>\n",
       "      <td>1.389201</td>\n",
       "      <td>2.456524</td>\n",
       "      <td>1.636007</td>\n",
       "      <td>...</td>\n",
       "      <td>-0.789470</td>\n",
       "      <td>-0.789470</td>\n",
       "      <td>-0.789470</td>\n",
       "      <td>-0.789470</td>\n",
       "      <td>1.636007</td>\n",
       "      <td>1.636007</td>\n",
       "      <td>1.389201</td>\n",
       "      <td>2.184879</td>\n",
       "      <td>0.148832</td>\n",
       "      <td>-0.789470</td>\n",
       "    </tr>\n",
       "    <tr>\n",
       "      <th>H3K9me3</th>\n",
       "      <td>-4.012477</td>\n",
       "      <td>-6.973887</td>\n",
       "      <td>-3.677000</td>\n",
       "      <td>-0.596838</td>\n",
       "      <td>-0.485287</td>\n",
       "      <td>-1.461657</td>\n",
       "      <td>-1.556038</td>\n",
       "      <td>0.620154</td>\n",
       "      <td>-0.485287</td>\n",
       "      <td>-0.329699</td>\n",
       "      <td>...</td>\n",
       "      <td>-1.655523</td>\n",
       "      <td>-1.126180</td>\n",
       "      <td>-1.556038</td>\n",
       "      <td>-1.655523</td>\n",
       "      <td>-0.186247</td>\n",
       "      <td>0.030477</td>\n",
       "      <td>-0.186247</td>\n",
       "      <td>-1.051067</td>\n",
       "      <td>0.260780</td>\n",
       "      <td>-6.973887</td>\n",
       "    </tr>\n",
       "    <tr>\n",
       "      <th>H3K27me3</th>\n",
       "      <td>-0.207024</td>\n",
       "      <td>-1.800421</td>\n",
       "      <td>-1.297760</td>\n",
       "      <td>0.641495</td>\n",
       "      <td>0.407424</td>\n",
       "      <td>0.295636</td>\n",
       "      <td>-0.501062</td>\n",
       "      <td>0.407424</td>\n",
       "      <td>0.372042</td>\n",
       "      <td>0.562305</td>\n",
       "      <td>...</td>\n",
       "      <td>-1.800421</td>\n",
       "      <td>-1.800421</td>\n",
       "      <td>-1.800421</td>\n",
       "      <td>-1.297760</td>\n",
       "      <td>0.562305</td>\n",
       "      <td>0.210222</td>\n",
       "      <td>0.616047</td>\n",
       "      <td>0.254186</td>\n",
       "      <td>0.798297</td>\n",
       "      <td>-1.800421</td>\n",
       "    </tr>\n",
       "    <tr>\n",
       "      <th>RNAseq</th>\n",
       "      <td>-0.580582</td>\n",
       "      <td>-1.212921</td>\n",
       "      <td>0.481148</td>\n",
       "      <td>1.608928</td>\n",
       "      <td>1.932739</td>\n",
       "      <td>1.820298</td>\n",
       "      <td>1.605801</td>\n",
       "      <td>1.055406</td>\n",
       "      <td>0.703510</td>\n",
       "      <td>1.027435</td>\n",
       "      <td>...</td>\n",
       "      <td>-0.630660</td>\n",
       "      <td>-0.515558</td>\n",
       "      <td>-1.436824</td>\n",
       "      <td>-1.274597</td>\n",
       "      <td>0.548814</td>\n",
       "      <td>1.118235</td>\n",
       "      <td>1.479756</td>\n",
       "      <td>1.333030</td>\n",
       "      <td>0.878212</td>\n",
       "      <td>-1.991482</td>\n",
       "    </tr>\n",
       "    <tr>\n",
       "      <th>ATACseq</th>\n",
       "      <td>-0.649909</td>\n",
       "      <td>-1.994005</td>\n",
       "      <td>-1.994005</td>\n",
       "      <td>1.160163</td>\n",
       "      <td>1.077385</td>\n",
       "      <td>1.148882</td>\n",
       "      <td>1.051953</td>\n",
       "      <td>0.844721</td>\n",
       "      <td>0.984326</td>\n",
       "      <td>0.925460</td>\n",
       "      <td>...</td>\n",
       "      <td>-1.474038</td>\n",
       "      <td>-1.994005</td>\n",
       "      <td>-0.534272</td>\n",
       "      <td>1.038907</td>\n",
       "      <td>0.984326</td>\n",
       "      <td>1.113985</td>\n",
       "      <td>1.077385</td>\n",
       "      <td>-0.434103</td>\n",
       "      <td>-1.994005</td>\n",
       "      <td>-1.994005</td>\n",
       "    </tr>\n",
       "  </tbody>\n",
       "</table>\n",
       "<p>10 rows × 11537 columns</p>\n",
       "</div>"
      ],
      "text/plain": [
       "          chr_1_loc_0  chr_1_loc_250000  chr_1_loc_500000  chr_1_loc_750000  \\\n",
       "H3K4me1     -1.008735         -2.015639         -0.505283          0.796121   \n",
       "H3K4me2     -1.958933         -1.958933         -0.780395          0.903726   \n",
       "H3K4me3     -0.762508         -1.559915         -0.296056          2.096163   \n",
       "H3K36me3    -0.846516         -1.915456          0.502253          1.085439   \n",
       "H3K9ac      -2.030991         -3.572735         -1.408623          1.086720   \n",
       "POLR2A      -0.789470         -0.789470          0.148832          3.123182   \n",
       "H3K9me3     -4.012477         -6.973887         -3.677000         -0.596838   \n",
       "H3K27me3    -0.207024         -1.800421         -1.297760          0.641495   \n",
       "RNAseq      -0.580582         -1.212921          0.481148          1.608928   \n",
       "ATACseq     -0.649909         -1.994005         -1.994005          1.160163   \n",
       "\n",
       "          chr_1_loc_1000000  chr_1_loc_1250000  chr_1_loc_1500000  \\\n",
       "H3K4me1            0.699133           0.699133           0.765209   \n",
       "H3K4me2            0.629325           0.777549           0.960422   \n",
       "H3K4me3            2.047202           2.188246           1.942547   \n",
       "H3K36me3           0.909434           0.732414           1.053306   \n",
       "H3K9ac             1.328125           1.152158           1.381093   \n",
       "POLR2A             2.327504           2.456524           1.636007   \n",
       "H3K9me3           -0.485287          -1.461657          -1.556038   \n",
       "H3K27me3           0.407424           0.295636          -0.501062   \n",
       "RNAseq             1.932739           1.820298           1.605801   \n",
       "ATACseq            1.077385           1.148882           1.051953   \n",
       "\n",
       "          chr_1_loc_1750000  chr_1_loc_2000000  chr_1_loc_2250000  \\\n",
       "H3K4me1            0.699133           0.645307           0.868093   \n",
       "H3K4me2            1.110838           1.155592           0.587846   \n",
       "H3K4me3            1.629711           2.096163           1.555465   \n",
       "H3K36me3           0.966577           0.947996           0.756895   \n",
       "H3K9ac             1.314479           1.152158           1.286674   \n",
       "POLR2A             1.389201           2.456524           1.636007   \n",
       "H3K9me3            0.620154          -0.485287          -0.329699   \n",
       "H3K27me3           0.407424           0.372042           0.562305   \n",
       "RNAseq             1.055406           0.703510           1.027435   \n",
       "ATACseq            0.844721           0.984326           0.925460   \n",
       "\n",
       "                 ...           chr_22_loc_49000000  chr_22_loc_49250000  \\\n",
       "H3K4me1          ...                     -2.015639            -1.512187   \n",
       "H3K4me2          ...                     -1.958933            -1.369664   \n",
       "H3K4me3          ...                     -1.559915            -0.762508   \n",
       "H3K36me3         ...                     -0.221226             0.119462   \n",
       "H3K9ac           ...                     -1.129128            -1.011953   \n",
       "POLR2A           ...                     -0.789470            -0.789470   \n",
       "H3K9me3          ...                     -1.655523            -1.126180   \n",
       "H3K27me3         ...                     -1.800421            -1.800421   \n",
       "RNAseq           ...                     -0.630660            -0.515558   \n",
       "ATACseq          ...                     -1.474038            -1.994005   \n",
       "\n",
       "          chr_22_loc_49500000  chr_22_loc_49750000  chr_22_loc_50000000  \\\n",
       "H3K4me1             -2.015639            -2.015639             0.322319   \n",
       "H3K4me2             -1.958933            -1.958933             0.398144   \n",
       "H3K4me3             -1.559915            -1.559915             1.089012   \n",
       "H3K36me3            -0.312046            -0.221226             0.269171   \n",
       "H3K9ac              -1.011953            -1.260118             0.635789   \n",
       "POLR2A              -0.789470            -0.789470             1.636007   \n",
       "H3K9me3             -1.556038            -1.655523            -0.186247   \n",
       "H3K27me3            -1.800421            -1.297760             0.562305   \n",
       "RNAseq              -1.436824            -1.274597             0.548814   \n",
       "ATACseq             -0.534272             1.038907             0.984326   \n",
       "\n",
       "          chr_22_loc_50250000  chr_22_loc_50500000  chr_22_loc_50750000  \\\n",
       "H3K4me1              0.663696             0.920941             0.699133   \n",
       "H3K4me2              0.706663             0.706663             0.842976   \n",
       "H3K4me3              1.555465             2.096163             1.699454   \n",
       "H3K36me3             0.756895             0.825993             0.780622   \n",
       "H3K9ac               0.709143             1.183488             1.341605   \n",
       "POLR2A               1.636007             1.389201             2.184879   \n",
       "H3K9me3              0.030477            -0.186247            -1.051067   \n",
       "H3K27me3             0.210222             0.616047             0.254186   \n",
       "RNAseq               1.118235             1.479756             1.333030   \n",
       "ATACseq              1.113985             1.077385            -0.434103   \n",
       "\n",
       "          chr_22_loc_51000000  chr_22_loc_51250000  \n",
       "H3K4me1              0.780829            -2.015639  \n",
       "H3K4me2              0.668873            -1.958933  \n",
       "H3K4me3              2.047202            -1.559915  \n",
       "H3K36me3             1.019776            -1.915456  \n",
       "H3K9ac               0.943019            -3.572735  \n",
       "POLR2A               0.148832            -0.789470  \n",
       "H3K9me3              0.260780            -6.973887  \n",
       "H3K27me3             0.798297            -1.800421  \n",
       "RNAseq               0.878212            -1.991482  \n",
       "ATACseq             -1.994005            -1.994005  \n",
       "\n",
       "[10 rows x 11537 columns]"
      ]
     },
     "execution_count": 10,
     "metadata": {},
     "output_type": "execute_result"
    }
   ],
   "source": [
    "# collect normalized epigenomic data across all chromosomes into one dataframe\n",
    "df_all_norm = pd.DataFrame()\n",
    "chr_list =  np.arange(1,22+1)\n",
    "for chrom in chr_list:\n",
    "    df_chipseq_norm = pd.read_csv(processed_epigenome_data_dir+'features_matrix_chr'+str(chrom)+'_norm.csv', header=0, index_col = 0)\n",
    "    df_chipseq_norm.columns = 'chr_'+str(chrom)+'_loc_'+np.array(df_chipseq_norm.columns)\n",
    "    # Concatenate to data for previous chromosomes\n",
    "    df_all_norm = pd.concat([df_all_norm, df_chipseq_norm],axis=1)\n",
    "df_all_norm"
   ]
  },
  {
   "cell_type": "markdown",
   "metadata": {},
   "source": [
    "### Hierarchical clustering"
   ]
  },
  {
   "cell_type": "code",
   "execution_count": 7,
   "metadata": {},
   "outputs": [
    {
     "name": "stdout",
     "output_type": "stream",
     "text": [
      "Total number of loci = 11537\n",
      "Number of loci in cluster 0 = 5085\n",
      "Number of loci in cluster 1 = 6452\n"
     ]
    }
   ],
   "source": [
    "# Hierarchical clustering\n",
    "clustering = AgglomerativeClustering(n_clusters=2, affinity='euclidean', linkage='ward').fit(df_all_norm.T)\n",
    "print('Total number of loci = '+str(len(clustering.labels_)))\n",
    "print('Number of loci in cluster 0 = '+str(np.sum(clustering.labels_==0)))\n",
    "print('Number of loci in cluster 1 = '+str(np.sum(clustering.labels_==1)))"
   ]
  },
  {
   "cell_type": "code",
   "execution_count": 8,
   "metadata": {},
   "outputs": [],
   "source": [
    "# PCA\n",
    "pca = PCA(n_components=2)\n",
    "PCs = pca.fit_transform(df_all_norm.T)"
   ]
  },
  {
   "cell_type": "code",
   "execution_count": 9,
   "metadata": {},
   "outputs": [],
   "source": [
    "# tSNE\n",
    "tsne = TSNE(n_components=2)\n",
    "tSNEs = tsne.fit_transform(df_all_norm.T)"
   ]
  },
  {
   "cell_type": "code",
   "execution_count": 93,
   "metadata": {},
   "outputs": [
    {
     "data": {
      "text/html": [
       "<div>\n",
       "<style scoped>\n",
       "    .dataframe tbody tr th:only-of-type {\n",
       "        vertical-align: middle;\n",
       "    }\n",
       "\n",
       "    .dataframe tbody tr th {\n",
       "        vertical-align: top;\n",
       "    }\n",
       "\n",
       "    .dataframe thead th {\n",
       "        text-align: right;\n",
       "    }\n",
       "</style>\n",
       "<table border=\"1\" class=\"dataframe\">\n",
       "  <thead>\n",
       "    <tr style=\"text-align: right;\">\n",
       "      <th></th>\n",
       "      <th>H3K4me1</th>\n",
       "      <th>H3K4me2</th>\n",
       "      <th>H3K4me3</th>\n",
       "      <th>H3K36me3</th>\n",
       "      <th>H3K9ac</th>\n",
       "      <th>POLR2A</th>\n",
       "      <th>H3K9me3</th>\n",
       "      <th>H3K27me3</th>\n",
       "      <th>RNAseq</th>\n",
       "      <th>ATACseq</th>\n",
       "      <th>cluster</th>\n",
       "      <th>PC1</th>\n",
       "      <th>PC2</th>\n",
       "      <th>tSNE1</th>\n",
       "      <th>tSNE2</th>\n",
       "    </tr>\n",
       "  </thead>\n",
       "  <tbody>\n",
       "    <tr>\n",
       "      <th>chr_1_loc_0</th>\n",
       "      <td>-1.008735</td>\n",
       "      <td>-1.958933</td>\n",
       "      <td>-0.762508</td>\n",
       "      <td>-0.846516</td>\n",
       "      <td>-2.030991</td>\n",
       "      <td>-0.789470</td>\n",
       "      <td>-4.012477</td>\n",
       "      <td>-0.207024</td>\n",
       "      <td>-0.580582</td>\n",
       "      <td>-0.649909</td>\n",
       "      <td>0</td>\n",
       "      <td>3.604792</td>\n",
       "      <td>2.546615</td>\n",
       "      <td>18.637463</td>\n",
       "      <td>-47.233109</td>\n",
       "    </tr>\n",
       "    <tr>\n",
       "      <th>chr_1_loc_250000</th>\n",
       "      <td>-2.015639</td>\n",
       "      <td>-1.958933</td>\n",
       "      <td>-1.559915</td>\n",
       "      <td>-1.915456</td>\n",
       "      <td>-3.572735</td>\n",
       "      <td>-0.789470</td>\n",
       "      <td>-6.973887</td>\n",
       "      <td>-1.800421</td>\n",
       "      <td>-1.212921</td>\n",
       "      <td>-1.994005</td>\n",
       "      <td>0</td>\n",
       "      <td>7.062331</td>\n",
       "      <td>4.800447</td>\n",
       "      <td>36.665329</td>\n",
       "      <td>-51.088432</td>\n",
       "    </tr>\n",
       "    <tr>\n",
       "      <th>chr_1_loc_500000</th>\n",
       "      <td>-0.505283</td>\n",
       "      <td>-0.780395</td>\n",
       "      <td>-0.296056</td>\n",
       "      <td>0.502253</td>\n",
       "      <td>-1.408623</td>\n",
       "      <td>0.148832</td>\n",
       "      <td>-3.677000</td>\n",
       "      <td>-1.297760</td>\n",
       "      <td>0.481148</td>\n",
       "      <td>-1.994005</td>\n",
       "      <td>0</td>\n",
       "      <td>2.204047</td>\n",
       "      <td>2.981675</td>\n",
       "      <td>15.004036</td>\n",
       "      <td>-42.209999</td>\n",
       "    </tr>\n",
       "    <tr>\n",
       "      <th>chr_1_loc_750000</th>\n",
       "      <td>0.796121</td>\n",
       "      <td>0.903726</td>\n",
       "      <td>2.096163</td>\n",
       "      <td>1.085439</td>\n",
       "      <td>1.086720</td>\n",
       "      <td>3.123182</td>\n",
       "      <td>-0.596838</td>\n",
       "      <td>0.641495</td>\n",
       "      <td>1.608928</td>\n",
       "      <td>1.160163</td>\n",
       "      <td>1</td>\n",
       "      <td>-4.107282</td>\n",
       "      <td>1.795891</td>\n",
       "      <td>55.177624</td>\n",
       "      <td>62.523865</td>\n",
       "    </tr>\n",
       "    <tr>\n",
       "      <th>chr_1_loc_1000000</th>\n",
       "      <td>0.699133</td>\n",
       "      <td>0.629325</td>\n",
       "      <td>2.047202</td>\n",
       "      <td>0.909434</td>\n",
       "      <td>1.328125</td>\n",
       "      <td>2.327504</td>\n",
       "      <td>-0.485287</td>\n",
       "      <td>0.407424</td>\n",
       "      <td>1.932739</td>\n",
       "      <td>1.077385</td>\n",
       "      <td>1</td>\n",
       "      <td>-3.888290</td>\n",
       "      <td>1.491828</td>\n",
       "      <td>54.453098</td>\n",
       "      <td>59.735138</td>\n",
       "    </tr>\n",
       "  </tbody>\n",
       "</table>\n",
       "</div>"
      ],
      "text/plain": [
       "                    H3K4me1   H3K4me2   H3K4me3  H3K36me3    H3K9ac    POLR2A  \\\n",
       "chr_1_loc_0       -1.008735 -1.958933 -0.762508 -0.846516 -2.030991 -0.789470   \n",
       "chr_1_loc_250000  -2.015639 -1.958933 -1.559915 -1.915456 -3.572735 -0.789470   \n",
       "chr_1_loc_500000  -0.505283 -0.780395 -0.296056  0.502253 -1.408623  0.148832   \n",
       "chr_1_loc_750000   0.796121  0.903726  2.096163  1.085439  1.086720  3.123182   \n",
       "chr_1_loc_1000000  0.699133  0.629325  2.047202  0.909434  1.328125  2.327504   \n",
       "\n",
       "                    H3K9me3  H3K27me3    RNAseq   ATACseq  cluster       PC1  \\\n",
       "chr_1_loc_0       -4.012477 -0.207024 -0.580582 -0.649909        0  3.604792   \n",
       "chr_1_loc_250000  -6.973887 -1.800421 -1.212921 -1.994005        0  7.062331   \n",
       "chr_1_loc_500000  -3.677000 -1.297760  0.481148 -1.994005        0  2.204047   \n",
       "chr_1_loc_750000  -0.596838  0.641495  1.608928  1.160163        1 -4.107282   \n",
       "chr_1_loc_1000000 -0.485287  0.407424  1.932739  1.077385        1 -3.888290   \n",
       "\n",
       "                        PC2      tSNE1      tSNE2  \n",
       "chr_1_loc_0        2.546615  18.637463 -47.233109  \n",
       "chr_1_loc_250000   4.800447  36.665329 -51.088432  \n",
       "chr_1_loc_500000   2.981675  15.004036 -42.209999  \n",
       "chr_1_loc_750000   1.795891  55.177624  62.523865  \n",
       "chr_1_loc_1000000  1.491828  54.453098  59.735138  "
      ]
     },
     "execution_count": 93,
     "metadata": {},
     "output_type": "execute_result"
    }
   ],
   "source": [
    "# Add cluster, pca and tSNE coordinates to data\n",
    "df_clusters = df_all_norm.T\n",
    "df_clusters['cluster'] = clustering.labels_\n",
    "df_clusters['PC1'] = PCs[:,0]\n",
    "df_clusters['PC2'] = PCs[:,1]\n",
    "df_clusters['tSNE1'] = tSNEs[:,0]\n",
    "df_clusters['tSNE2'] = tSNEs[:,1]\n",
    "df_clusters.head()"
   ]
  },
  {
   "cell_type": "markdown",
   "metadata": {},
   "source": [
    "### Add adhesome loci information"
   ]
  },
  {
   "cell_type": "code",
   "execution_count": 94,
   "metadata": {},
   "outputs": [],
   "source": [
    "# Load adhesome loci\n",
    "adhesome_loci = pickle.load(open('adhesome_loci.pkl', 'rb'))\n",
    "adhesome_loci = np.unique(adhesome_loci['locus_id'].values)\n",
    "n_adhesome = len(adhesome_loci)"
   ]
  },
  {
   "cell_type": "code",
   "execution_count": 95,
   "metadata": {},
   "outputs": [
    {
     "data": {
      "text/html": [
       "<div>\n",
       "<style scoped>\n",
       "    .dataframe tbody tr th:only-of-type {\n",
       "        vertical-align: middle;\n",
       "    }\n",
       "\n",
       "    .dataframe tbody tr th {\n",
       "        vertical-align: top;\n",
       "    }\n",
       "\n",
       "    .dataframe thead th {\n",
       "        text-align: right;\n",
       "    }\n",
       "</style>\n",
       "<table border=\"1\" class=\"dataframe\">\n",
       "  <thead>\n",
       "    <tr style=\"text-align: right;\">\n",
       "      <th></th>\n",
       "      <th>H3K4me1</th>\n",
       "      <th>H3K4me2</th>\n",
       "      <th>H3K4me3</th>\n",
       "      <th>H3K36me3</th>\n",
       "      <th>H3K9ac</th>\n",
       "      <th>POLR2A</th>\n",
       "      <th>H3K9me3</th>\n",
       "      <th>H3K27me3</th>\n",
       "      <th>RNAseq</th>\n",
       "      <th>ATACseq</th>\n",
       "      <th>cluster</th>\n",
       "      <th>PC1</th>\n",
       "      <th>PC2</th>\n",
       "      <th>tSNE1</th>\n",
       "      <th>tSNE2</th>\n",
       "      <th>adhesome_locus</th>\n",
       "    </tr>\n",
       "  </thead>\n",
       "  <tbody>\n",
       "    <tr>\n",
       "      <th>chr_1_loc_0</th>\n",
       "      <td>-1.008735</td>\n",
       "      <td>-1.958933</td>\n",
       "      <td>-0.762508</td>\n",
       "      <td>-0.846516</td>\n",
       "      <td>-2.030991</td>\n",
       "      <td>-0.789470</td>\n",
       "      <td>-4.012477</td>\n",
       "      <td>-0.207024</td>\n",
       "      <td>-0.580582</td>\n",
       "      <td>-0.649909</td>\n",
       "      <td>0</td>\n",
       "      <td>3.604792</td>\n",
       "      <td>2.546615</td>\n",
       "      <td>18.637463</td>\n",
       "      <td>-47.233109</td>\n",
       "      <td>0</td>\n",
       "    </tr>\n",
       "    <tr>\n",
       "      <th>chr_1_loc_250000</th>\n",
       "      <td>-2.015639</td>\n",
       "      <td>-1.958933</td>\n",
       "      <td>-1.559915</td>\n",
       "      <td>-1.915456</td>\n",
       "      <td>-3.572735</td>\n",
       "      <td>-0.789470</td>\n",
       "      <td>-6.973887</td>\n",
       "      <td>-1.800421</td>\n",
       "      <td>-1.212921</td>\n",
       "      <td>-1.994005</td>\n",
       "      <td>0</td>\n",
       "      <td>7.062331</td>\n",
       "      <td>4.800447</td>\n",
       "      <td>36.665329</td>\n",
       "      <td>-51.088432</td>\n",
       "      <td>0</td>\n",
       "    </tr>\n",
       "    <tr>\n",
       "      <th>chr_1_loc_500000</th>\n",
       "      <td>-0.505283</td>\n",
       "      <td>-0.780395</td>\n",
       "      <td>-0.296056</td>\n",
       "      <td>0.502253</td>\n",
       "      <td>-1.408623</td>\n",
       "      <td>0.148832</td>\n",
       "      <td>-3.677000</td>\n",
       "      <td>-1.297760</td>\n",
       "      <td>0.481148</td>\n",
       "      <td>-1.994005</td>\n",
       "      <td>0</td>\n",
       "      <td>2.204047</td>\n",
       "      <td>2.981675</td>\n",
       "      <td>15.004036</td>\n",
       "      <td>-42.209999</td>\n",
       "      <td>0</td>\n",
       "    </tr>\n",
       "    <tr>\n",
       "      <th>chr_1_loc_750000</th>\n",
       "      <td>0.796121</td>\n",
       "      <td>0.903726</td>\n",
       "      <td>2.096163</td>\n",
       "      <td>1.085439</td>\n",
       "      <td>1.086720</td>\n",
       "      <td>3.123182</td>\n",
       "      <td>-0.596838</td>\n",
       "      <td>0.641495</td>\n",
       "      <td>1.608928</td>\n",
       "      <td>1.160163</td>\n",
       "      <td>1</td>\n",
       "      <td>-4.107282</td>\n",
       "      <td>1.795891</td>\n",
       "      <td>55.177624</td>\n",
       "      <td>62.523865</td>\n",
       "      <td>0</td>\n",
       "    </tr>\n",
       "    <tr>\n",
       "      <th>chr_1_loc_1000000</th>\n",
       "      <td>0.699133</td>\n",
       "      <td>0.629325</td>\n",
       "      <td>2.047202</td>\n",
       "      <td>0.909434</td>\n",
       "      <td>1.328125</td>\n",
       "      <td>2.327504</td>\n",
       "      <td>-0.485287</td>\n",
       "      <td>0.407424</td>\n",
       "      <td>1.932739</td>\n",
       "      <td>1.077385</td>\n",
       "      <td>1</td>\n",
       "      <td>-3.888290</td>\n",
       "      <td>1.491828</td>\n",
       "      <td>54.453098</td>\n",
       "      <td>59.735138</td>\n",
       "      <td>0</td>\n",
       "    </tr>\n",
       "  </tbody>\n",
       "</table>\n",
       "</div>"
      ],
      "text/plain": [
       "                    H3K4me1   H3K4me2   H3K4me3  H3K36me3    H3K9ac    POLR2A  \\\n",
       "chr_1_loc_0       -1.008735 -1.958933 -0.762508 -0.846516 -2.030991 -0.789470   \n",
       "chr_1_loc_250000  -2.015639 -1.958933 -1.559915 -1.915456 -3.572735 -0.789470   \n",
       "chr_1_loc_500000  -0.505283 -0.780395 -0.296056  0.502253 -1.408623  0.148832   \n",
       "chr_1_loc_750000   0.796121  0.903726  2.096163  1.085439  1.086720  3.123182   \n",
       "chr_1_loc_1000000  0.699133  0.629325  2.047202  0.909434  1.328125  2.327504   \n",
       "\n",
       "                    H3K9me3  H3K27me3    RNAseq   ATACseq  cluster       PC1  \\\n",
       "chr_1_loc_0       -4.012477 -0.207024 -0.580582 -0.649909        0  3.604792   \n",
       "chr_1_loc_250000  -6.973887 -1.800421 -1.212921 -1.994005        0  7.062331   \n",
       "chr_1_loc_500000  -3.677000 -1.297760  0.481148 -1.994005        0  2.204047   \n",
       "chr_1_loc_750000  -0.596838  0.641495  1.608928  1.160163        1 -4.107282   \n",
       "chr_1_loc_1000000 -0.485287  0.407424  1.932739  1.077385        1 -3.888290   \n",
       "\n",
       "                        PC2      tSNE1      tSNE2  adhesome_locus  \n",
       "chr_1_loc_0        2.546615  18.637463 -47.233109               0  \n",
       "chr_1_loc_250000   4.800447  36.665329 -51.088432               0  \n",
       "chr_1_loc_500000   2.981675  15.004036 -42.209999               0  \n",
       "chr_1_loc_750000   1.795891  55.177624  62.523865               0  \n",
       "chr_1_loc_1000000  1.491828  54.453098  59.735138               0  "
      ]
     },
     "execution_count": 95,
     "metadata": {},
     "output_type": "execute_result"
    }
   ],
   "source": [
    "# Add column to df_clusters\n",
    "df_clusters['adhesome_locus'] = 0\n",
    "df_clusters.loc[adhesome_loci,'adhesome_locus'] = 1\n",
    "pickle.dump(df_clusters, open(processed_epigenome_data_dir+'active_inactive_loci.pkl', 'wb'))\n",
    "df_clusters.head()"
   ]
  },
  {
   "cell_type": "code",
   "execution_count": 54,
   "metadata": {},
   "outputs": [],
   "source": [
    "# Number of active/inactive adhesome loci\n",
    "n_adhesome_active = len(df_clusters[(df_clusters['adhesome_locus']==1) & (df_clusters['cluster']==1)])\n",
    "n_adhesome_inactive = len(df_clusters[(df_clusters['adhesome_locus']==1) & (df_clusters['cluster']==0)])"
   ]
  },
  {
   "cell_type": "markdown",
   "metadata": {},
   "source": [
    "### Plot clusters"
   ]
  },
  {
   "cell_type": "code",
   "execution_count": 38,
   "metadata": {},
   "outputs": [
    {
     "data": {
      "text/plain": [
       "<matplotlib.axes._subplots.AxesSubplot at 0x7f15c60cb290>"
      ]
     },
     "execution_count": 38,
     "metadata": {},
     "output_type": "execute_result"
    },
    {
     "data": {
      "image/png": "[encoded data removed]",
      "text/plain": [
       "<Figure size 432x288 with 2 Axes>"
      ]
     },
     "metadata": {
      "needs_background": "light"
     },
     "output_type": "display_data"
    }
   ],
   "source": [
    "# Plot PC1 and PC2\n",
    "%matplotlib inline\n",
    "df_clusters.plot.scatter(x='PC1', y='PC2', c='cluster', colormap='viridis', alpha=0.1)"
   ]
  },
  {
   "cell_type": "code",
   "execution_count": 39,
   "metadata": {},
   "outputs": [
    {
     "data": {
      "text/plain": [
       "<matplotlib.axes._subplots.AxesSubplot at 0x7f15c60cb5d0>"
      ]
     },
     "execution_count": 39,
     "metadata": {},
     "output_type": "execute_result"
    },
    {
     "data": {
      "image/png": "[encoded data removed]",
      "text/plain": [
       "<Figure size 432x288 with 2 Axes>"
      ]
     },
     "metadata": {
      "needs_background": "light"
     },
     "output_type": "display_data"
    }
   ],
   "source": [
    "# Plot tSNE1 and tSNE2\n",
    "%matplotlib inline\n",
    "df_clusters.plot.scatter(x='tSNE1', y='tSNE2', c='cluster', colormap='viridis', alpha=0.1)"
   ]
  },
  {
   "cell_type": "markdown",
   "metadata": {},
   "source": [
    "### Plot histogram of features"
   ]
  },
  {
   "cell_type": "code",
   "execution_count": 77,
   "metadata": {},
   "outputs": [
    {
     "data": {
      "image/png": "[encoded data removed]",
      "text/plain": [
       "<Figure size 432x288 with 1 Axes>"
      ]
     },
     "metadata": {
      "needs_background": "light"
     },
     "output_type": "display_data"
    }
   ],
   "source": [
    "# Distribution of H3K9me3 in clusters\n",
    "%matplotlib inline\n",
    "plt.figure()\n",
    "plt.hist(df_clusters.loc[df_clusters['cluster']==0]['H3K9me3'], bins=np.arange(-8,2,0.2), \n",
    "         color='blue', alpha=0.5, density=True, label='cluster0 (inactive)')\n",
    "plt.hist(df_clusters.loc[df_clusters['cluster']==1]['H3K9me3'], bins=np.arange(-8,2,0.2), \n",
    "         color='orange', alpha=0.5, density=True, label='cluster1 (active)')\n",
    "plt.scatter(df_clusters[(df_clusters['adhesome_locus']==1) & (df_clusters['cluster']==0)]['H3K9me3'], \n",
    "            np.zeros(n_adhesome_inactive)-0.05, color='blue', alpha=0.5, s=1)\n",
    "plt.scatter(df_clusters[(df_clusters['adhesome_locus']==1) & (df_clusters['cluster']==1)]['H3K9me3'], \n",
    "            np.zeros(n_adhesome_active)-0.1, color='orange', alpha=0.5, s=1)\n",
    "plt.xlabel('H3K9me3')\n",
    "plt.ylabel('density')\n",
    "plt.title('Distribution of H3K9me3 in the clusters')\n",
    "plt.legend(loc='upper right')\n",
    "plt.show()"
   ]
  },
  {
   "cell_type": "code",
   "execution_count": 79,
   "metadata": {},
   "outputs": [
    {
     "data": {
      "image/png": "[encoded data removed]",
      "text/plain": [
       "<Figure size 432x288 with 1 Axes>"
      ]
     },
     "metadata": {
      "needs_background": "light"
     },
     "output_type": "display_data"
    }
   ],
   "source": [
    "# Distribution of H3K9me3 in clusters for adhesome loci only\n",
    "%matplotlib inline\n",
    "plt.figure()\n",
    "plt.hist(df_clusters[(df_clusters['adhesome_locus']==1) & (df_clusters['cluster']==0)]['H3K9me3'], bins=np.arange(-8,2,0.2), \n",
    "         color='blue', alpha=0.5, density=True, label='inactive adhesome loci')\n",
    "plt.hist(df_clusters[(df_clusters['adhesome_locus']==1) & (df_clusters['cluster']==1)]['H3K9me3'], bins=np.arange(-8,2,0.2), \n",
    "         color='orange', alpha=0.5, density=True, label='active adhesome loci')\n",
    "plt.xlabel('H3K9me3')\n",
    "plt.ylabel('density')\n",
    "plt.title('Distribution of H3K9me3 for adhesome loci in the clusters')\n",
    "plt.legend(loc='upper left')\n",
    "plt.show()"
   ]
  },
  {
   "cell_type": "code",
   "execution_count": 80,
   "metadata": {},
   "outputs": [
    {
     "data": {
      "image/png": "[encoded data removed]",
      "text/plain": [
       "<Figure size 432x288 with 1 Axes>"
      ]
     },
     "metadata": {
      "needs_background": "light"
     },
     "output_type": "display_data"
    }
   ],
   "source": [
    "# Distribution of POLR2A in clusters\n",
    "%matplotlib inline\n",
    "plt.figure()\n",
    "plt.hist(df_clusters.loc[df_clusters['cluster']==0]['POLR2A'], bins=np.arange(-1,4,0.2), \n",
    "         color='blue', alpha=0.5, density=True, label='cluster0 (inactive)')\n",
    "plt.hist(df_clusters.loc[df_clusters['cluster']==1]['POLR2A'], bins=np.arange(-1,4,0.2), \n",
    "         color='orange', alpha=0.5, density=True, label='cluster1 (active)')\n",
    "plt.scatter(df_clusters[(df_clusters['adhesome_locus']==1) & (df_clusters['cluster']==0)]['POLR2A'], \n",
    "            np.zeros(n_adhesome_inactive)-0.2, color='blue', alpha=0.5, s=1)\n",
    "plt.scatter(df_clusters[(df_clusters['adhesome_locus']==1) & (df_clusters['cluster']==1)]['POLR2A'], \n",
    "            np.zeros(n_adhesome_active)-0.5, color='orange', alpha=0.5, s=1)\n",
    "plt.xlabel('POLR2A')\n",
    "plt.ylabel('density')\n",
    "plt.title('Distribution of POLR2A in the clusters')\n",
    "plt.legend(loc='upper right')\n",
    "plt.show()"
   ]
  },
  {
   "cell_type": "code",
   "execution_count": 83,
   "metadata": {},
   "outputs": [
    {
     "data": {
      "image/png": "[encoded data removed]",
      "text/plain": [
       "<Figure size 432x288 with 1 Axes>"
      ]
     },
     "metadata": {
      "needs_background": "light"
     },
     "output_type": "display_data"
    }
   ],
   "source": [
    "# Distribution of POLR2A in clusters for adhesome loci only\n",
    "%matplotlib inline\n",
    "plt.figure()\n",
    "plt.hist(df_clusters[(df_clusters['adhesome_locus']==1) & (df_clusters['cluster']==0)]['POLR2A'], bins=np.arange(-1,4,0.2), \n",
    "         color='blue', alpha=0.5, density=True, label='inactive adhesome loci')\n",
    "plt.hist(df_clusters[(df_clusters['adhesome_locus']==1) & (df_clusters['cluster']==1)]['POLR2A'], bins=np.arange(-1,4,0.2), \n",
    "         color='orange', alpha=0.5, density=True, label='active adhesome loci')\n",
    "plt.xlabel('POLR2A')\n",
    "plt.ylabel('density')\n",
    "plt.title('Distribution of POLR2A for adhesome loci in the clusters')\n",
    "plt.legend(loc='upper right')\n",
    "plt.show()"
   ]
  },
  {
   "cell_type": "code",
   "execution_count": 84,
   "metadata": {},
   "outputs": [
    {
     "data": {
      "image/png": "[encoded data removed]",
      "text/plain": [
       "<Figure size 432x288 with 1 Axes>"
      ]
     },
     "metadata": {
      "needs_background": "light"
     },
     "output_type": "display_data"
    }
   ],
   "source": [
    "# Distribution of RNAseq in clusters\n",
    "%matplotlib inline\n",
    "plt.figure()\n",
    "plt.hist(df_clusters.loc[df_clusters['cluster']==0]['RNAseq'], bins=np.arange(-2,4,0.2), \n",
    "         color='blue', alpha=0.5, density=True, label='cluster0 (inactive)')\n",
    "plt.hist(df_clusters.loc[df_clusters['cluster']==1]['RNAseq'], bins=np.arange(-2,4,0.2), \n",
    "         color='orange', alpha=0.5, density=True, label='cluster1 (active)')\n",
    "plt.scatter(df_clusters[(df_clusters['adhesome_locus']==1) & (df_clusters['cluster']==0)]['RNAseq'], \n",
    "            np.zeros(n_adhesome_inactive)-0.1, color='blue', alpha=0.5, s=1)\n",
    "plt.scatter(df_clusters[(df_clusters['adhesome_locus']==1) & (df_clusters['cluster']==1)]['RNAseq'], \n",
    "            np.zeros(n_adhesome_active)-0.2, color='orange', alpha=0.5, s=1)\n",
    "plt.xlabel('z-scored RNA-seq value')\n",
    "plt.ylabel('number of loci')\n",
    "plt.title('Distribution of RNAseq in the clusters')\n",
    "plt.legend(loc='upper right')\n",
    "plt.show()"
   ]
  },
  {
   "cell_type": "code",
   "execution_count": 86,
   "metadata": {},
   "outputs": [
    {
     "data": {
      "image/png": "[encoded data removed]",
      "text/plain": [
       "<Figure size 432x288 with 1 Axes>"
      ]
     },
     "metadata": {
      "needs_background": "light"
     },
     "output_type": "display_data"
    }
   ],
   "source": [
    "# Distribution of RNA-seq in clusters for adhesome loci only\n",
    "%matplotlib inline\n",
    "plt.figure()\n",
    "plt.hist(df_clusters[(df_clusters['adhesome_locus']==1) & (df_clusters['cluster']==0)]['RNAseq'], bins=np.arange(-1,4,0.2), \n",
    "         color='blue', alpha=0.5, density=True, label='inactive adhesome loci')\n",
    "plt.hist(df_clusters[(df_clusters['adhesome_locus']==1) & (df_clusters['cluster']==1)]['RNAseq'], bins=np.arange(-1,4,0.2), \n",
    "         color='orange', alpha=0.5, density=True, label='active adhesome loci')\n",
    "plt.xlabel('z-scored RNA-seq value')\n",
    "plt.ylabel('density')\n",
    "plt.title('Distribution of RNAseq for adhesome loci in the clusters')\n",
    "plt.legend(loc='upper right')\n",
    "plt.show()"
   ]
  },
  {
   "cell_type": "code",
   "execution_count": 87,
   "metadata": {},
   "outputs": [
    {
     "name": "stdout",
     "output_type": "stream",
     "text": [
      "6452\n",
      "['chr_1_loc_750000', 'chr_1_loc_1000000', 'chr_1_loc_1250000', 'chr_1_loc_1500000', 'chr_1_loc_1750000', 'chr_1_loc_2000000', 'chr_1_loc_2250000', 'chr_1_loc_2500000', 'chr_1_loc_3000000', 'chr_1_loc_3250000']\n"
     ]
    }
   ],
   "source": [
    "# Define active loci as loci in cluster 1\n",
    "active_loci = list(df_clusters[df_clusters['cluster']==1].index)\n",
    "print(len(active_loci))\n",
    "print(active_loci[0:10])"
   ]
  },
  {
   "cell_type": "markdown",
   "metadata": {},
   "source": [
    "# Active and inactive adhesome loci"
   ]
  },
  {
   "cell_type": "code",
   "execution_count": 88,
   "metadata": {},
   "outputs": [
    {
     "data": {
      "text/html": [
       "<div>\n",
       "<style scoped>\n",
       "    .dataframe tbody tr th:only-of-type {\n",
       "        vertical-align: middle;\n",
       "    }\n",
       "\n",
       "    .dataframe tbody tr th {\n",
       "        vertical-align: top;\n",
       "    }\n",
       "\n",
       "    .dataframe thead th {\n",
       "        text-align: right;\n",
       "    }\n",
       "</style>\n",
       "<table border=\"1\" class=\"dataframe\">\n",
       "  <thead>\n",
       "    <tr style=\"text-align: right;\">\n",
       "      <th></th>\n",
       "      <th>chrom</th>\n",
       "      <th>chrom_int</th>\n",
       "      <th>loci</th>\n",
       "      <th>gene</th>\n",
       "    </tr>\n",
       "  </thead>\n",
       "  <tbody>\n",
       "    <tr>\n",
       "      <th>34</th>\n",
       "      <td>chr1</td>\n",
       "      <td>1</td>\n",
       "      <td>65</td>\n",
       "      <td>FBLIM1</td>\n",
       "    </tr>\n",
       "    <tr>\n",
       "      <th>97</th>\n",
       "      <td>chr1</td>\n",
       "      <td>1</td>\n",
       "      <td>96</td>\n",
       "      <td>ASAP3</td>\n",
       "    </tr>\n",
       "    <tr>\n",
       "      <th>173</th>\n",
       "      <td>chr1</td>\n",
       "      <td>1</td>\n",
       "      <td>110</td>\n",
       "      <td>SLC9A1</td>\n",
       "    </tr>\n",
       "    <tr>\n",
       "      <th>158</th>\n",
       "      <td>chr1</td>\n",
       "      <td>1</td>\n",
       "      <td>128</td>\n",
       "      <td>FABP3</td>\n",
       "    </tr>\n",
       "    <tr>\n",
       "      <th>139</th>\n",
       "      <td>chr1</td>\n",
       "      <td>1</td>\n",
       "      <td>159</td>\n",
       "      <td>MACF1</td>\n",
       "    </tr>\n",
       "  </tbody>\n",
       "</table>\n",
       "</div>"
      ],
      "text/plain": [
       "    chrom  chrom_int  loci    gene\n",
       "34   chr1          1    65  FBLIM1\n",
       "97   chr1          1    96   ASAP3\n",
       "173  chr1          1   110  SLC9A1\n",
       "158  chr1          1   128   FABP3\n",
       "139  chr1          1   159   MACF1"
      ]
     },
     "execution_count": 88,
     "metadata": {},
     "output_type": "execute_result"
    }
   ],
   "source": [
    "# Load adhesome loci\n",
    "adhesome_chr_loci = pd.read_csv(dir_adhesome+'adhesome_loci.csv', header=0, index_col=0)\n",
    "adhesome_chr_loci.head()"
   ]
  },
  {
   "cell_type": "code",
   "execution_count": 89,
   "metadata": {},
   "outputs": [
    {
     "data": {
      "text/html": [
       "<div>\n",
       "<style scoped>\n",
       "    .dataframe tbody tr th:only-of-type {\n",
       "        vertical-align: middle;\n",
       "    }\n",
       "\n",
       "    .dataframe tbody tr th {\n",
       "        vertical-align: top;\n",
       "    }\n",
       "\n",
       "    .dataframe thead th {\n",
       "        text-align: right;\n",
       "    }\n",
       "</style>\n",
       "<table border=\"1\" class=\"dataframe\">\n",
       "  <thead>\n",
       "    <tr style=\"text-align: right;\">\n",
       "      <th></th>\n",
       "      <th>chrom</th>\n",
       "      <th>chrom_int</th>\n",
       "      <th>loci</th>\n",
       "      <th>gene</th>\n",
       "      <th>locus_id</th>\n",
       "    </tr>\n",
       "  </thead>\n",
       "  <tbody>\n",
       "    <tr>\n",
       "      <th>34</th>\n",
       "      <td>chr1</td>\n",
       "      <td>1</td>\n",
       "      <td>65</td>\n",
       "      <td>FBLIM1</td>\n",
       "      <td>chr_1_loc_16250000</td>\n",
       "    </tr>\n",
       "    <tr>\n",
       "      <th>97</th>\n",
       "      <td>chr1</td>\n",
       "      <td>1</td>\n",
       "      <td>96</td>\n",
       "      <td>ASAP3</td>\n",
       "      <td>chr_1_loc_24000000</td>\n",
       "    </tr>\n",
       "    <tr>\n",
       "      <th>173</th>\n",
       "      <td>chr1</td>\n",
       "      <td>1</td>\n",
       "      <td>110</td>\n",
       "      <td>SLC9A1</td>\n",
       "      <td>chr_1_loc_27500000</td>\n",
       "    </tr>\n",
       "    <tr>\n",
       "      <th>158</th>\n",
       "      <td>chr1</td>\n",
       "      <td>1</td>\n",
       "      <td>128</td>\n",
       "      <td>FABP3</td>\n",
       "      <td>chr_1_loc_32000000</td>\n",
       "    </tr>\n",
       "    <tr>\n",
       "      <th>139</th>\n",
       "      <td>chr1</td>\n",
       "      <td>1</td>\n",
       "      <td>159</td>\n",
       "      <td>MACF1</td>\n",
       "      <td>chr_1_loc_39750000</td>\n",
       "    </tr>\n",
       "  </tbody>\n",
       "</table>\n",
       "</div>"
      ],
      "text/plain": [
       "    chrom  chrom_int  loci    gene            locus_id\n",
       "34   chr1          1    65  FBLIM1  chr_1_loc_16250000\n",
       "97   chr1          1    96   ASAP3  chr_1_loc_24000000\n",
       "173  chr1          1   110  SLC9A1  chr_1_loc_27500000\n",
       "158  chr1          1   128   FABP3  chr_1_loc_32000000\n",
       "139  chr1          1   159   MACF1  chr_1_loc_39750000"
      ]
     },
     "execution_count": 89,
     "metadata": {},
     "output_type": "execute_result"
    }
   ],
   "source": [
    "# Add locus ID column\n",
    "adhesome_chr_loci['locus_id'] = ['chr_'+str(adhesome_chr_loci.iloc[i]['chrom_int'])+'_loc_'\n",
    "                                 +str(adhesome_chr_loci.iloc[i]['loci']*resol) \n",
    "                                 for i in range(len(adhesome_chr_loci))]\n",
    "adhesome_chr_loci.head()"
   ]
  },
  {
   "cell_type": "code",
   "execution_count": 90,
   "metadata": {},
   "outputs": [
    {
     "data": {
      "text/html": [
       "<div>\n",
       "<style scoped>\n",
       "    .dataframe tbody tr th:only-of-type {\n",
       "        vertical-align: middle;\n",
       "    }\n",
       "\n",
       "    .dataframe tbody tr th {\n",
       "        vertical-align: top;\n",
       "    }\n",
       "\n",
       "    .dataframe thead th {\n",
       "        text-align: right;\n",
       "    }\n",
       "</style>\n",
       "<table border=\"1\" class=\"dataframe\">\n",
       "  <thead>\n",
       "    <tr style=\"text-align: right;\">\n",
       "      <th></th>\n",
       "      <th>chrom</th>\n",
       "      <th>chrom_int</th>\n",
       "      <th>loci</th>\n",
       "      <th>gene</th>\n",
       "      <th>locus_id</th>\n",
       "      <th>active</th>\n",
       "    </tr>\n",
       "  </thead>\n",
       "  <tbody>\n",
       "    <tr>\n",
       "      <th>34</th>\n",
       "      <td>chr1</td>\n",
       "      <td>1</td>\n",
       "      <td>65</td>\n",
       "      <td>FBLIM1</td>\n",
       "      <td>chr_1_loc_16250000</td>\n",
       "      <td>True</td>\n",
       "    </tr>\n",
       "    <tr>\n",
       "      <th>97</th>\n",
       "      <td>chr1</td>\n",
       "      <td>1</td>\n",
       "      <td>96</td>\n",
       "      <td>ASAP3</td>\n",
       "      <td>chr_1_loc_24000000</td>\n",
       "      <td>True</td>\n",
       "    </tr>\n",
       "    <tr>\n",
       "      <th>173</th>\n",
       "      <td>chr1</td>\n",
       "      <td>1</td>\n",
       "      <td>110</td>\n",
       "      <td>SLC9A1</td>\n",
       "      <td>chr_1_loc_27500000</td>\n",
       "      <td>True</td>\n",
       "    </tr>\n",
       "    <tr>\n",
       "      <th>158</th>\n",
       "      <td>chr1</td>\n",
       "      <td>1</td>\n",
       "      <td>128</td>\n",
       "      <td>FABP3</td>\n",
       "      <td>chr_1_loc_32000000</td>\n",
       "      <td>True</td>\n",
       "    </tr>\n",
       "    <tr>\n",
       "      <th>139</th>\n",
       "      <td>chr1</td>\n",
       "      <td>1</td>\n",
       "      <td>159</td>\n",
       "      <td>MACF1</td>\n",
       "      <td>chr_1_loc_39750000</td>\n",
       "      <td>True</td>\n",
       "    </tr>\n",
       "  </tbody>\n",
       "</table>\n",
       "</div>"
      ],
      "text/plain": [
       "    chrom  chrom_int  loci    gene            locus_id  active\n",
       "34   chr1          1    65  FBLIM1  chr_1_loc_16250000    True\n",
       "97   chr1          1    96   ASAP3  chr_1_loc_24000000    True\n",
       "173  chr1          1   110  SLC9A1  chr_1_loc_27500000    True\n",
       "158  chr1          1   128   FABP3  chr_1_loc_32000000    True\n",
       "139  chr1          1   159   MACF1  chr_1_loc_39750000    True"
      ]
     },
     "execution_count": 90,
     "metadata": {},
     "output_type": "execute_result"
    }
   ],
   "source": [
    "# Add activity column\n",
    "adhesome_chr_loci['active'] = [adhesome_chr_loci.iloc[i]['locus_id'] in active_loci \n",
    "                               for i in range(len(adhesome_chr_loci))]\n",
    "adhesome_chr_loci.to_csv('adhesome_loci_activity.csv', header=True)\n",
    "adhesome_chr_loci.head()"
   ]
  },
  {
   "cell_type": "code",
   "execution_count": 91,
   "metadata": {},
   "outputs": [
    {
     "name": "stdout",
     "output_type": "stream",
     "text": [
      "Number of active adhesome loci = 264\n",
      "Number of inactive adhesome loci = 41\n"
     ]
    }
   ],
   "source": [
    "# Basic statistics\n",
    "print('Number of active adhesome loci = '+str(adhesome_chr_loci['active'].sum()))\n",
    "print('Number of inactive adhesome loci = '+str(len(adhesome_chr_loci)-adhesome_chr_loci['active'].sum()))\n"
   ]
  },
  {
   "cell_type": "code",
   "execution_count": 92,
   "metadata": {},
   "outputs": [
    {
     "data": {
      "text/plain": [
       "<Figure size 432x288 with 0 Axes>"
      ]
     },
     "metadata": {},
     "output_type": "display_data"
    },
    {
     "data": {
      "image/png": "[encoded data removed]",
      "text/plain": [
       "<Figure size 432x288 with 1 Axes>"
      ]
     },
     "metadata": {
      "needs_background": "light"
     },
     "output_type": "display_data"
    }
   ],
   "source": [
    "# Plot number of active/inactive adhesome loci for all chromosomes\n",
    "df_bar = adhesome_chr_loci.groupby(['chrom_int'])\n",
    "df_bar1 = df_bar['active'].value_counts().unstack()\n",
    "plt.figure()\n",
    "df_bar1.plot(kind='bar', title='Count of active/inactive adhesome loci per chromosome')\n",
    "plt.xlabel('chromosome')\n",
    "plt.show()"
   ]
  },
  {
   "cell_type": "code",
   "execution_count": null,
   "metadata": {},
   "outputs": [],
   "source": []
  },
  {
   "cell_type": "code",
   "execution_count": null,
   "metadata": {},
   "outputs": [],
   "source": []
  },
  {
   "cell_type": "code",
   "execution_count": null,
   "metadata": {},
   "outputs": [],
   "source": []
  }
 ],
 "metadata": {
  "kernelspec": {
   "display_name": "Python 3",
   "language": "python",
   "name": "python3"
  },
  "language_info": {
   "codemirror_mode": {
    "name": "ipython",
    "version": 3
   },
   "file_extension": ".py",
   "mimetype": "text/x-python",
   "name": "python",
   "nbconvert_exporter": "python",
   "pygments_lexer": "ipython3",
   "version": "3.7.4"
  }
 },
 "nbformat": 4,
 "nbformat_minor": 2
}
