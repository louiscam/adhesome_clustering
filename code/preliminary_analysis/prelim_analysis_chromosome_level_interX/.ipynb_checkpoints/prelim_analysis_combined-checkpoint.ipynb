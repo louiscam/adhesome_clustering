{
 "cells": [
  {
   "cell_type": "code",
   "execution_count": 1,
   "metadata": {},
   "outputs": [],
   "source": [
    "# Import standard libraries\n",
    "from importlib import reload\n",
    "import numpy as np\n",
    "import matplotlib.pyplot as plt\n",
    "import seaborn as sns\n",
    "from scipy import sparse\n",
    "import scipy.stats as ss\n",
    "import csv\n",
    "import pandas as pd\n",
    "import networkx as nx\n",
    "import pickle\n",
    "from collections import defaultdict\n",
    "import operator\n",
    "from scipy.sparse import csr_matrix\n",
    "import itertools\n",
    "import os.path\n",
    "import math\n",
    "import pybedtools\n",
    "\n",
    "# Custom libraries\n",
    "import prelim_analysis as pa"
   ]
  },
  {
   "cell_type": "code",
   "execution_count": 2,
   "metadata": {},
   "outputs": [
    {
     "data": {
      "text/plain": [
       "<module 'prelim_analysis' from '/home/louiscam/projects/gpcr/code/preliminary_analysis/prelim_analysis_chromosome_level/prelim_analysis.py'>"
      ]
     },
     "execution_count": 2,
     "metadata": {},
     "output_type": "execute_result"
    }
   ],
   "source": [
    "# Reload modules in case of modifications\n",
    "reload(pa)"
   ]
  },
  {
   "cell_type": "markdown",
   "metadata": {},
   "source": [
    "In this notebook, we look at several preliminary results:\n",
    "1. Heatmap 1: for each chromosome pair, compute the effect size of adhesome gene contacts compared to random gene contacts\n",
    "2. Heatmap 2: for each gene pair, compute the average Hi-C contact values, and contrast with the same heatmap 222 randomly selected genes\n",
    "3. Number of adhesome genes/loci per chromosome (for information)"
   ]
  },
  {
   "cell_type": "markdown",
   "metadata": {},
   "source": [
    "# Data directories"
   ]
  },
  {
   "cell_type": "code",
   "execution_count": 3,
   "metadata": {},
   "outputs": [],
   "source": [
    "# Directory of adhesome data\n",
    "dir_adhesome = '/home/louiscam/projects/gpcr/data/adhesome_data/'\n",
    "# Directory of genome data\n",
    "dir_genome = '/home/louiscam/projects/gpcr/data/genome_data/'\n",
    "# Directory of processed HiC\n",
    "dir_processed_hic = '/home/louiscam/projects/gpcr/save/processed_hic_data_dir/'\n",
    "# Directory for storing preliminary results\n",
    "prelim_results_dir = '/home/louiscam/projects/gpcr/save/prelim_results_dir/'"
   ]
  },
  {
   "cell_type": "markdown",
   "metadata": {},
   "source": [
    "# 1. Heatmap 1: Chromosome level"
   ]
  },
  {
   "cell_type": "code",
   "execution_count": 4,
   "metadata": {},
   "outputs": [],
   "source": [
    "# Load pickled data\n",
    "random_mean_hic_df = pickle.load(open(prelim_results_dir+'average_hic_allloci'+'.pkl', 'rb'))\n",
    "adhesome_mean_hic_df = pickle.load(open(prelim_results_dir+'average_hic_adhesomeloci'+'.pkl', 'rb'))\n",
    "effect_size_df = pickle.load(open(prelim_results_dir+'adhesome_hic_contacts_effectsize'+'.pkl', 'rb'))\n",
    "effect_size_full_df = effect_size_df+effect_size_df.transpose()\n",
    "# Infer chromosome list\n",
    "chr_list = np.arange(effect_size_df.shape[0])+1\n",
    "chr_names = np.array(effect_size_df.columns, dtype='str')"
   ]
  },
  {
   "cell_type": "code",
   "execution_count": 5,
   "metadata": {
    "scrolled": true
   },
   "outputs": [
    {
     "data": {
      "image/png": "[encoded data removed]",
      "text/plain": [
       "<Figure size 432x432 with 2 Axes>"
      ]
     },
     "metadata": {
      "needs_background": "light"
     },
     "output_type": "display_data"
    }
   ],
   "source": [
    "fig = plt.figure(figsize=(6,6))\n",
    "ax = fig.add_subplot(111)\n",
    "im = ax.imshow((effect_size_full_df), origin='upper', interpolation='none', cmap='rocket')\n",
    "# Place ticks at the middle of every pixel\n",
    "ax.set_xticks(chr_list-1)\n",
    "ax.set_yticks(chr_list-1)\n",
    "ax.set_ylim(len(chr_list)-0.5, -0.5)\n",
    "# Use input dataframe row and column names as ticks\n",
    "ax.set_xticklabels(chr_names, rotation=90)\n",
    "ax.set_yticklabels(chr_names)\n",
    "# Put x axis labels on top\n",
    "ax.xaxis.set_label_position('top') \n",
    "ax.xaxis.set_ticks_position('top')\n",
    "# Define axis name\n",
    "ax.set_xlabel('chromosomes')\n",
    "ax.set_ylabel('chromosomes')\n",
    "# Add colorbar\n",
    "fig.colorbar(im)\n",
    "#plt.savefig('', format='png')\n",
    "plt.show()"
   ]
  },
  {
   "cell_type": "code",
   "execution_count": 6,
   "metadata": {},
   "outputs": [
    {
     "name": "stdout",
     "output_type": "stream",
     "text": [
      "0.6422239231030121\n"
     ]
    },
    {
     "data": {
      "image/png": "[encoded data removed]",
      "text/plain": [
       "<Figure size 432x288 with 1 Axes>"
      ]
     },
     "metadata": {
      "needs_background": "light"
     },
     "output_type": "display_data"
    }
   ],
   "source": [
    "# Distribution of effect sizes\n",
    "effect_sizes_array = effect_size_df.values.flatten()\n",
    "effect_sizes_array = effect_sizes_array[effect_sizes_array!=0]\n",
    "print(np.mean(effect_sizes_array))\n",
    "plt.figure()\n",
    "plt.hist(effect_sizes_array, 20)\n",
    "plt.axvline(np.mean(effect_sizes_array), color='red', linestyle='dashed')\n",
    "plt.xlabel('effect sizes')\n",
    "plt.ylabel('count')\n",
    "plt.show()"
   ]
  },
  {
   "cell_type": "markdown",
   "metadata": {},
   "source": [
    "# 2. Number of adhesome genes/loci per chromosome"
   ]
  },
  {
   "cell_type": "code",
   "execution_count": 7,
   "metadata": {},
   "outputs": [],
   "source": [
    "# Load adhesome data\n",
    "resol = 250000\n",
    "adhesome_components_filename = dir_adhesome+'components.csv'\n",
    "df_components = pa.load_adhesome_data(adhesome_components_filename)"
   ]
  },
  {
   "cell_type": "code",
   "execution_count": 8,
   "metadata": {},
   "outputs": [],
   "source": [
    "# Load gene locations\n",
    "gene_locations_filename = dir_genome+'chrom_hg19.loc_canonical'\n",
    "gene_id_filename = dir_genome+'chrom_hg19.name'\n",
    "df_loc = pa.get_gene_locations(gene_locations_filename, gene_id_filename)"
   ]
  },
  {
   "cell_type": "code",
   "execution_count": 11,
   "metadata": {},
   "outputs": [
    {
     "name": "stdout",
     "output_type": "stream",
     "text": [
      "Adhesome genes absent from UCSC genes: ['DDEF1', 'SMPX', 'PPP2CA', 'ARHGEF6', 'ITGAW', 'JUB', 'GRLF1', 'MSN', 'SH3KBP1', 'FLNA']\n",
      "222\n"
     ]
    },
    {
     "data": {
      "text/html": [
       "<div>\n",
       "<style scoped>\n",
       "    .dataframe tbody tr th:only-of-type {\n",
       "        vertical-align: middle;\n",
       "    }\n",
       "\n",
       "    .dataframe tbody tr th {\n",
       "        vertical-align: top;\n",
       "    }\n",
       "\n",
       "    .dataframe thead th {\n",
       "        text-align: right;\n",
       "    }\n",
       "</style>\n",
       "<table border=\"1\" class=\"dataframe\">\n",
       "  <thead>\n",
       "    <tr style=\"text-align: right;\">\n",
       "      <th></th>\n",
       "      <th>gene</th>\n",
       "      <th>chrom</th>\n",
       "      <th>genoStart</th>\n",
       "      <th>genoEnd</th>\n",
       "      <th>geneLength</th>\n",
       "    </tr>\n",
       "  </thead>\n",
       "  <tbody>\n",
       "    <tr>\n",
       "      <th>0</th>\n",
       "      <td>ACTN1</td>\n",
       "      <td>chr14</td>\n",
       "      <td>69340839</td>\n",
       "      <td>69446083</td>\n",
       "      <td>105244</td>\n",
       "    </tr>\n",
       "    <tr>\n",
       "      <th>1</th>\n",
       "      <td>CFL1</td>\n",
       "      <td>chr11</td>\n",
       "      <td>65622284</td>\n",
       "      <td>65626101</td>\n",
       "      <td>3817</td>\n",
       "    </tr>\n",
       "    <tr>\n",
       "      <th>2</th>\n",
       "      <td>CORO1B</td>\n",
       "      <td>chr11</td>\n",
       "      <td>67205517</td>\n",
       "      <td>67210983</td>\n",
       "      <td>5466</td>\n",
       "    </tr>\n",
       "    <tr>\n",
       "      <th>3</th>\n",
       "      <td>CTTN</td>\n",
       "      <td>chr11</td>\n",
       "      <td>70244611</td>\n",
       "      <td>70282690</td>\n",
       "      <td>38079</td>\n",
       "    </tr>\n",
       "    <tr>\n",
       "      <th>4</th>\n",
       "      <td>KEAP1</td>\n",
       "      <td>chr19</td>\n",
       "      <td>10596795</td>\n",
       "      <td>10614054</td>\n",
       "      <td>17259</td>\n",
       "    </tr>\n",
       "  </tbody>\n",
       "</table>\n",
       "</div>"
      ],
      "text/plain": [
       "     gene  chrom  genoStart   genoEnd  geneLength\n",
       "0   ACTN1  chr14   69340839  69446083      105244\n",
       "1    CFL1  chr11   65622284  65626101        3817\n",
       "2  CORO1B  chr11   67205517  67210983        5466\n",
       "3    CTTN  chr11   70244611  70282690       38079\n",
       "4   KEAP1  chr19   10596795  10614054       17259"
      ]
     },
     "execution_count": 11,
     "metadata": {},
     "output_type": "execute_result"
    }
   ],
   "source": [
    "# Get dataframe of adhesome genes with chromosome location\n",
    "adhesome_loc_df = pa.get_adhesome_genes_location(df_components, df_loc)\n",
    "print(len(adhesome_loc_df))\n",
    "adhesome_loc_df.head()"
   ]
  },
  {
   "cell_type": "code",
   "execution_count": 12,
   "metadata": {},
   "outputs": [
    {
     "name": "stdout",
     "output_type": "stream",
     "text": [
      "305\n"
     ]
    },
    {
     "data": {
      "text/html": [
       "<div>\n",
       "<style scoped>\n",
       "    .dataframe tbody tr th:only-of-type {\n",
       "        vertical-align: middle;\n",
       "    }\n",
       "\n",
       "    .dataframe tbody tr th {\n",
       "        vertical-align: top;\n",
       "    }\n",
       "\n",
       "    .dataframe thead th {\n",
       "        text-align: right;\n",
       "    }\n",
       "</style>\n",
       "<table border=\"1\" class=\"dataframe\">\n",
       "  <thead>\n",
       "    <tr style=\"text-align: right;\">\n",
       "      <th></th>\n",
       "      <th>gene</th>\n",
       "      <th>chrom</th>\n",
       "      <th>loci</th>\n",
       "      <th>genoStart</th>\n",
       "      <th>genoEnd</th>\n",
       "      <th>geneLength</th>\n",
       "      <th>startLocus_id</th>\n",
       "      <th>startLocus</th>\n",
       "      <th>startLocus_coverage</th>\n",
       "      <th>endLocus_id</th>\n",
       "      <th>endLocus</th>\n",
       "      <th>endLocus_coverage</th>\n",
       "    </tr>\n",
       "  </thead>\n",
       "  <tbody>\n",
       "    <tr>\n",
       "      <th>0</th>\n",
       "      <td>ACTN1</td>\n",
       "      <td>chr14</td>\n",
       "      <td>278</td>\n",
       "      <td>69340839</td>\n",
       "      <td>69446083</td>\n",
       "      <td>105244</td>\n",
       "      <td>278</td>\n",
       "      <td>69500000</td>\n",
       "      <td>0.420976</td>\n",
       "      <td>278</td>\n",
       "      <td>69500000</td>\n",
       "      <td>0.420976</td>\n",
       "    </tr>\n",
       "    <tr>\n",
       "      <th>1</th>\n",
       "      <td>CFL1</td>\n",
       "      <td>chr11</td>\n",
       "      <td>263</td>\n",
       "      <td>65622284</td>\n",
       "      <td>65626101</td>\n",
       "      <td>3817</td>\n",
       "      <td>263</td>\n",
       "      <td>65750000</td>\n",
       "      <td>0.015268</td>\n",
       "      <td>263</td>\n",
       "      <td>65750000</td>\n",
       "      <td>0.015268</td>\n",
       "    </tr>\n",
       "    <tr>\n",
       "      <th>2</th>\n",
       "      <td>CORO1B</td>\n",
       "      <td>chr11</td>\n",
       "      <td>269</td>\n",
       "      <td>67205517</td>\n",
       "      <td>67210983</td>\n",
       "      <td>5466</td>\n",
       "      <td>269</td>\n",
       "      <td>67250000</td>\n",
       "      <td>0.021864</td>\n",
       "      <td>269</td>\n",
       "      <td>67250000</td>\n",
       "      <td>0.021864</td>\n",
       "    </tr>\n",
       "    <tr>\n",
       "      <th>3</th>\n",
       "      <td>CTTN</td>\n",
       "      <td>chr11</td>\n",
       "      <td>281</td>\n",
       "      <td>70244611</td>\n",
       "      <td>70282690</td>\n",
       "      <td>38079</td>\n",
       "      <td>281</td>\n",
       "      <td>70250000</td>\n",
       "      <td>0.021556</td>\n",
       "      <td>282</td>\n",
       "      <td>70500000</td>\n",
       "      <td>0.130760</td>\n",
       "    </tr>\n",
       "    <tr>\n",
       "      <th>3</th>\n",
       "      <td>CTTN</td>\n",
       "      <td>chr11</td>\n",
       "      <td>282</td>\n",
       "      <td>70244611</td>\n",
       "      <td>70282690</td>\n",
       "      <td>38079</td>\n",
       "      <td>281</td>\n",
       "      <td>70250000</td>\n",
       "      <td>0.021556</td>\n",
       "      <td>282</td>\n",
       "      <td>70500000</td>\n",
       "      <td>0.130760</td>\n",
       "    </tr>\n",
       "  </tbody>\n",
       "</table>\n",
       "</div>"
      ],
      "text/plain": [
       "     gene  chrom  loci  genoStart   genoEnd  geneLength  startLocus_id  \\\n",
       "0   ACTN1  chr14   278   69340839  69446083      105244            278   \n",
       "1    CFL1  chr11   263   65622284  65626101        3817            263   \n",
       "2  CORO1B  chr11   269   67205517  67210983        5466            269   \n",
       "3    CTTN  chr11   281   70244611  70282690       38079            281   \n",
       "3    CTTN  chr11   282   70244611  70282690       38079            281   \n",
       "\n",
       "   startLocus  startLocus_coverage  endLocus_id  endLocus  endLocus_coverage  \n",
       "0    69500000             0.420976          278  69500000           0.420976  \n",
       "1    65750000             0.015268          263  65750000           0.015268  \n",
       "2    67250000             0.021864          269  67250000           0.021864  \n",
       "3    70250000             0.021556          282  70500000           0.130760  \n",
       "3    70250000             0.021556          282  70500000           0.130760  "
      ]
     },
     "execution_count": 12,
     "metadata": {},
     "output_type": "execute_result"
    }
   ],
   "source": [
    "# Get dataframe of adhesome gene loci with chromosome location\n",
    "adhesome_loc_df1 = pa.get_adhesome_genes_loci(adhesome_loc_df, resol)\n",
    "print(len(adhesome_loc_df1))\n",
    "adhesome_loc_df1.head()"
   ]
  },
  {
   "cell_type": "code",
   "execution_count": 13,
   "metadata": {},
   "outputs": [
    {
     "data": {
      "text/plain": [
       "<Figure size 432x288 with 0 Axes>"
      ]
     },
     "metadata": {},
     "output_type": "display_data"
    },
    {
     "data": {
      "image/png": "[encoded data removed]",
      "text/plain": [
       "<Figure size 432x288 with 1 Axes>"
      ]
     },
     "metadata": {
      "needs_background": "light"
     },
     "output_type": "display_data"
    }
   ],
   "source": [
    "# Plot bar plot of adhesome genes per chromosome\n",
    "adh_genes_per_chrom = adhesome_loc_df.chrom.value_counts().reindex(chr_names)\n",
    "adh_loci_per_chrom = adhesome_loc_df1.chrom.value_counts().reindex(chr_names)\n",
    "adh_per_chrom = pd.DataFrame({'chr':chr_names,\n",
    "                             'adhesome_genes': adh_genes_per_chrom,\n",
    "                             'adhesome_loci': adh_loci_per_chrom})\n",
    "adh_per_chrom.set_index('chr', inplace=True)\n",
    "plt.figure()\n",
    "adh_per_chrom.plot.bar()\n",
    "plt.ylabel('Count')\n",
    "plt.xlabel('chromosome')\n",
    "plt.show()"
   ]
  },
  {
   "cell_type": "code",
   "execution_count": 14,
   "metadata": {},
   "outputs": [
    {
     "name": "stdout",
     "output_type": "stream",
     "text": [
      "1.3738738738738738\n"
     ]
    }
   ],
   "source": [
    "# Average number of loci per gene\n",
    "avg_loci_per_gene = np.mean(adhesome_loc_df1.gene.value_counts().sort_index())\n",
    "print(avg_loci_per_gene)"
   ]
  },
  {
   "cell_type": "code",
   "execution_count": null,
   "metadata": {},
   "outputs": [],
   "source": []
  }
 ],
 "metadata": {
  "kernelspec": {
   "display_name": "Python 3",
   "language": "python",
   "name": "python3"
  },
  "language_info": {
   "codemirror_mode": {
    "name": "ipython",
    "version": 3
   },
   "file_extension": ".py",
   "mimetype": "text/x-python",
   "name": "python",
   "nbconvert_exporter": "python",
   "pygments_lexer": "ipython3",
   "version": "3.7.4"
  }
 },
 "nbformat": 4,
 "nbformat_minor": 2
}
