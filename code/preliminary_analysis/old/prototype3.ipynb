{
 "cells": [
  {
   "cell_type": "code",
   "execution_count": 1,
   "metadata": {},
   "outputs": [],
   "source": [
    "# Import standard libraries\n",
    "from importlib import reload\n",
    "import numpy as np\n",
    "import matplotlib.pyplot as plt\n",
    "import seaborn as sns\n",
    "from scipy import sparse\n",
    "import scipy.stats as ss\n",
    "import csv\n",
    "import pandas as pd\n",
    "import networkx as nx\n",
    "import community\n",
    "import pickle\n",
    "from collections import defaultdict\n",
    "import operator\n",
    "from scipy.sparse import csr_matrix\n",
    "import itertools\n",
    "import os.path\n",
    "import math\n",
    "import pybedtools\n",
    "import time\n",
    "from tqdm import tqdm\n",
    "\n",
    "# Custom libraries\n",
    "import prelim_analysis as pa\n",
    "import prototype_utils as pu"
   ]
  },
  {
   "cell_type": "code",
   "execution_count": 2,
   "metadata": {},
   "outputs": [
    {
     "data": {
      "text/plain": [
       "<module 'prototype_utils' from '/home/louiscam/projects/gpcr/code/preliminary_analysis/old/prototype_utils.py'>"
      ]
     },
     "execution_count": 2,
     "metadata": {},
     "output_type": "execute_result"
    }
   ],
   "source": [
    "# Reload modules in case of modifications\n",
    "reload(pa)\n",
    "reload(pu)"
   ]
  },
  {
   "cell_type": "markdown",
   "metadata": {},
   "source": [
    "# Data directories"
   ]
  },
  {
   "cell_type": "code",
   "execution_count": 3,
   "metadata": {},
   "outputs": [],
   "source": [
    "# Directory of adhesome data\n",
    "dir_adhesome = '/home/louiscam/projects/gpcr/data/adhesome_data/'\n",
    "# Directory of genome data\n",
    "dir_genome = '/home/louiscam/projects/gpcr/data/genome_data/'\n",
    "# Directory of processed HiC\n",
    "dir_processed_hic = '/home/louiscam/projects/gpcr/save/processed_hic_data_dir/'\n",
    "# Directory for storing preliminary results\n",
    "prelim_results_dir = '/home/louiscam/projects/gpcr/save/prelim_results_dir/'"
   ]
  },
  {
   "cell_type": "code",
   "execution_count": 4,
   "metadata": {},
   "outputs": [],
   "source": [
    "# Specify directories and relevant information\n",
    "cell_type = 'IMR90'\n",
    "resol_str = '250kb'\n",
    "resol = 250000\n",
    "quality = 'MAPQGE30'"
   ]
  },
  {
   "cell_type": "markdown",
   "metadata": {},
   "source": [
    "# Load adhesome data"
   ]
  },
  {
   "cell_type": "code",
   "execution_count": 5,
   "metadata": {},
   "outputs": [
    {
     "name": "stdout",
     "output_type": "stream",
     "text": [
      "Number of components: 232\n",
      "Number of intrinsic components: 150\n",
      "Number of associated components: 82\n"
     ]
    },
    {
     "data": {
      "text/html": [
       "<div>\n",
       "<style scoped>\n",
       "    .dataframe tbody tr th:only-of-type {\n",
       "        vertical-align: middle;\n",
       "    }\n",
       "\n",
       "    .dataframe tbody tr th {\n",
       "        vertical-align: top;\n",
       "    }\n",
       "\n",
       "    .dataframe thead th {\n",
       "        text-align: right;\n",
       "    }\n",
       "</style>\n",
       "<table border=\"1\" class=\"dataframe\">\n",
       "  <thead>\n",
       "    <tr style=\"text-align: right;\">\n",
       "      <th></th>\n",
       "      <th>geneSymbol</th>\n",
       "      <th>geneID</th>\n",
       "      <th>proteinName</th>\n",
       "      <th>swisprotID</th>\n",
       "      <th>synonyms</th>\n",
       "      <th>functionalCategory</th>\n",
       "      <th>FA</th>\n",
       "    </tr>\n",
       "  </thead>\n",
       "  <tbody>\n",
       "    <tr>\n",
       "      <th>0</th>\n",
       "      <td>ACTN1</td>\n",
       "      <td>87</td>\n",
       "      <td>Actinin</td>\n",
       "      <td>P12814</td>\n",
       "      <td>alpha-actinin</td>\n",
       "      <td>Actin regulation</td>\n",
       "      <td>Intrinsic Proteins</td>\n",
       "    </tr>\n",
       "    <tr>\n",
       "      <th>1</th>\n",
       "      <td>CFL1</td>\n",
       "      <td>1072</td>\n",
       "      <td>cofilin</td>\n",
       "      <td>P23528</td>\n",
       "      <td>CFL</td>\n",
       "      <td>Actin regulation</td>\n",
       "      <td>Intrinsic Proteins</td>\n",
       "    </tr>\n",
       "    <tr>\n",
       "      <th>2</th>\n",
       "      <td>CORO1B</td>\n",
       "      <td>57175</td>\n",
       "      <td>coronin 1B</td>\n",
       "      <td>Q9BR76</td>\n",
       "      <td>coronin-2</td>\n",
       "      <td>Actin regulation</td>\n",
       "      <td>Intrinsic Proteins</td>\n",
       "    </tr>\n",
       "    <tr>\n",
       "      <th>3</th>\n",
       "      <td>CTTN</td>\n",
       "      <td>2017</td>\n",
       "      <td>Cortactin</td>\n",
       "      <td>Q14247</td>\n",
       "      <td>EMS1, Amplaxin</td>\n",
       "      <td>Actin regulation</td>\n",
       "      <td>Intrinsic Proteins</td>\n",
       "    </tr>\n",
       "    <tr>\n",
       "      <th>4</th>\n",
       "      <td>FLNA</td>\n",
       "      <td>2316</td>\n",
       "      <td>Filamin</td>\n",
       "      <td>P21333</td>\n",
       "      <td>endothelial actin-binding protein, ABP-280, al...</td>\n",
       "      <td>Actin regulation</td>\n",
       "      <td>Intrinsic Proteins</td>\n",
       "    </tr>\n",
       "  </tbody>\n",
       "</table>\n",
       "</div>"
      ],
      "text/plain": [
       "  geneSymbol geneID proteinName swisprotID  \\\n",
       "0      ACTN1     87     Actinin     P12814   \n",
       "1       CFL1   1072     cofilin     P23528   \n",
       "2     CORO1B  57175  coronin 1B     Q9BR76   \n",
       "3       CTTN   2017   Cortactin     Q14247   \n",
       "4       FLNA   2316     Filamin     P21333   \n",
       "\n",
       "                                            synonyms functionalCategory  \\\n",
       "0                                      alpha-actinin   Actin regulation   \n",
       "1                                                CFL   Actin regulation   \n",
       "2                                          coronin-2   Actin regulation   \n",
       "3                                     EMS1, Amplaxin   Actin regulation   \n",
       "4  endothelial actin-binding protein, ABP-280, al...   Actin regulation   \n",
       "\n",
       "                   FA  \n",
       "0  Intrinsic Proteins  \n",
       "1  Intrinsic Proteins  \n",
       "2  Intrinsic Proteins  \n",
       "3  Intrinsic Proteins  \n",
       "4  Intrinsic Proteins  "
      ]
     },
     "execution_count": 5,
     "metadata": {},
     "output_type": "execute_result"
    }
   ],
   "source": [
    "adhesome_components_filename = dir_adhesome+'components.csv'\n",
    "df_components = pa.load_adhesome_data(adhesome_components_filename)\n",
    "# Print information\n",
    "print('Number of components: '+str(len(df_components)))\n",
    "print('Number of intrinsic components: '+str(len(df_components[df_components['FA']=='Intrinsic Proteins'])))\n",
    "print('Number of associated components: '+str(len(df_components[df_components['FA']=='Associated Proteins'])))\n",
    "df_components.head()"
   ]
  },
  {
   "cell_type": "code",
   "execution_count": 6,
   "metadata": {},
   "outputs": [
    {
     "name": "stdout",
     "output_type": "stream",
     "text": [
      "['ABL1' 'ACTB' 'ACTN1' 'AGAP2' 'ARHGAP24']\n"
     ]
    }
   ],
   "source": [
    "# List of intrinsic components\n",
    "intrinsic_comps = np.sort(df_components[df_components['FA']=='Intrinsic Proteins']['geneSymbol'].values)\n",
    "print(intrinsic_comps[:5])\n",
    "# List of associated components\n",
    "associated_comps = np.sort(df_components[df_components['FA']=='Associated Proteins']['geneSymbol'].values)"
   ]
  },
  {
   "cell_type": "markdown",
   "metadata": {},
   "source": [
    "# Position of genes on hg19 genome"
   ]
  },
  {
   "cell_type": "code",
   "execution_count": 7,
   "metadata": {},
   "outputs": [
    {
     "name": "stdout",
     "output_type": "stream",
     "text": [
      "25959\n"
     ]
    },
    {
     "data": {
      "text/html": [
       "<div>\n",
       "<style scoped>\n",
       "    .dataframe tbody tr th:only-of-type {\n",
       "        vertical-align: middle;\n",
       "    }\n",
       "\n",
       "    .dataframe tbody tr th {\n",
       "        vertical-align: top;\n",
       "    }\n",
       "\n",
       "    .dataframe thead th {\n",
       "        text-align: right;\n",
       "    }\n",
       "</style>\n",
       "<table border=\"1\" class=\"dataframe\">\n",
       "  <thead>\n",
       "    <tr style=\"text-align: right;\">\n",
       "      <th></th>\n",
       "      <th>transcript</th>\n",
       "      <th>geneSymbol</th>\n",
       "      <th>#chrom</th>\n",
       "      <th>chromStart</th>\n",
       "      <th>chromEnd</th>\n",
       "      <th>clusterId</th>\n",
       "      <th>protein</th>\n",
       "    </tr>\n",
       "  </thead>\n",
       "  <tbody>\n",
       "    <tr>\n",
       "      <th>30786</th>\n",
       "      <td>uc021ree.1</td>\n",
       "      <td>7SK</td>\n",
       "      <td>chr12</td>\n",
       "      <td>114942680</td>\n",
       "      <td>114942992</td>\n",
       "      <td>7071</td>\n",
       "      <td>uc021ree.1</td>\n",
       "    </tr>\n",
       "    <tr>\n",
       "      <th>15095</th>\n",
       "      <td>uc002qsd.4</td>\n",
       "      <td>A1BG</td>\n",
       "      <td>chr19</td>\n",
       "      <td>58858171</td>\n",
       "      <td>58864865</td>\n",
       "      <td>15924</td>\n",
       "      <td>uc002qsd.4</td>\n",
       "    </tr>\n",
       "    <tr>\n",
       "      <th>14204</th>\n",
       "      <td>uc002qsg.3</td>\n",
       "      <td>A1BG-AS1</td>\n",
       "      <td>chr19</td>\n",
       "      <td>58863335</td>\n",
       "      <td>58866549</td>\n",
       "      <td>15925</td>\n",
       "      <td>uc002qsg.3</td>\n",
       "    </tr>\n",
       "    <tr>\n",
       "      <th>3436</th>\n",
       "      <td>uc001jjj.3</td>\n",
       "      <td>A1CF</td>\n",
       "      <td>chr10</td>\n",
       "      <td>52559168</td>\n",
       "      <td>52645435</td>\n",
       "      <td>3274</td>\n",
       "      <td>uc001jjj.3</td>\n",
       "    </tr>\n",
       "    <tr>\n",
       "      <th>6250</th>\n",
       "      <td>uc001qvk.1</td>\n",
       "      <td>A2M</td>\n",
       "      <td>chr12</td>\n",
       "      <td>9220303</td>\n",
       "      <td>9268558</td>\n",
       "      <td>6062</td>\n",
       "      <td>uc001qvk.1</td>\n",
       "    </tr>\n",
       "  </tbody>\n",
       "</table>\n",
       "</div>"
      ],
      "text/plain": [
       "       transcript geneSymbol #chrom  chromStart   chromEnd  clusterId  \\\n",
       "30786  uc021ree.1        7SK  chr12   114942680  114942992       7071   \n",
       "15095  uc002qsd.4       A1BG  chr19    58858171   58864865      15924   \n",
       "14204  uc002qsg.3   A1BG-AS1  chr19    58863335   58866549      15925   \n",
       "3436   uc001jjj.3       A1CF  chr10    52559168   52645435       3274   \n",
       "6250   uc001qvk.1        A2M  chr12     9220303    9268558       6062   \n",
       "\n",
       "          protein  \n",
       "30786  uc021ree.1  \n",
       "15095  uc002qsd.4  \n",
       "14204  uc002qsg.3  \n",
       "3436   uc001jjj.3  \n",
       "6250   uc001qvk.1  "
      ]
     },
     "execution_count": 7,
     "metadata": {},
     "output_type": "execute_result"
    }
   ],
   "source": [
    "# Path to gene locations and gene names files\n",
    "gene_locations_filename = dir_genome+'chrom_hg19.loc_canonical'\n",
    "gene_id_filename = dir_genome+'chrom_hg19.name'\n",
    "df_loc = pa.get_gene_locations(gene_locations_filename, gene_id_filename)\n",
    "print(len(df_loc))\n",
    "df_loc.head()"
   ]
  },
  {
   "cell_type": "markdown",
   "metadata": {},
   "source": [
    "# Location of adhesome genes"
   ]
  },
  {
   "cell_type": "code",
   "execution_count": 8,
   "metadata": {},
   "outputs": [
    {
     "name": "stdout",
     "output_type": "stream",
     "text": [
      "Adhesome genes absent from UCSC genes: ['JUB', 'MSN', 'ARHGEF6', 'DDEF1', 'SH3KBP1', 'FLNA', 'SMPX', 'GRLF1', 'PPP2CA', 'ITGAW']\n",
      "222\n"
     ]
    },
    {
     "data": {
      "text/html": [
       "<div>\n",
       "<style scoped>\n",
       "    .dataframe tbody tr th:only-of-type {\n",
       "        vertical-align: middle;\n",
       "    }\n",
       "\n",
       "    .dataframe tbody tr th {\n",
       "        vertical-align: top;\n",
       "    }\n",
       "\n",
       "    .dataframe thead th {\n",
       "        text-align: right;\n",
       "    }\n",
       "</style>\n",
       "<table border=\"1\" class=\"dataframe\">\n",
       "  <thead>\n",
       "    <tr style=\"text-align: right;\">\n",
       "      <th></th>\n",
       "      <th>gene</th>\n",
       "      <th>chrom</th>\n",
       "      <th>genoStart</th>\n",
       "      <th>genoEnd</th>\n",
       "      <th>geneLength</th>\n",
       "    </tr>\n",
       "  </thead>\n",
       "  <tbody>\n",
       "    <tr>\n",
       "      <th>0</th>\n",
       "      <td>ACTN1</td>\n",
       "      <td>chr14</td>\n",
       "      <td>69340839</td>\n",
       "      <td>69446083</td>\n",
       "      <td>105244</td>\n",
       "    </tr>\n",
       "    <tr>\n",
       "      <th>1</th>\n",
       "      <td>CFL1</td>\n",
       "      <td>chr11</td>\n",
       "      <td>65622284</td>\n",
       "      <td>65626101</td>\n",
       "      <td>3817</td>\n",
       "    </tr>\n",
       "    <tr>\n",
       "      <th>2</th>\n",
       "      <td>CORO1B</td>\n",
       "      <td>chr11</td>\n",
       "      <td>67205517</td>\n",
       "      <td>67210983</td>\n",
       "      <td>5466</td>\n",
       "    </tr>\n",
       "    <tr>\n",
       "      <th>3</th>\n",
       "      <td>CTTN</td>\n",
       "      <td>chr11</td>\n",
       "      <td>70244611</td>\n",
       "      <td>70282690</td>\n",
       "      <td>38079</td>\n",
       "    </tr>\n",
       "    <tr>\n",
       "      <th>4</th>\n",
       "      <td>KEAP1</td>\n",
       "      <td>chr19</td>\n",
       "      <td>10596795</td>\n",
       "      <td>10614054</td>\n",
       "      <td>17259</td>\n",
       "    </tr>\n",
       "  </tbody>\n",
       "</table>\n",
       "</div>"
      ],
      "text/plain": [
       "     gene  chrom  genoStart   genoEnd  geneLength\n",
       "0   ACTN1  chr14   69340839  69446083      105244\n",
       "1    CFL1  chr11   65622284  65626101        3817\n",
       "2  CORO1B  chr11   67205517  67210983        5466\n",
       "3    CTTN  chr11   70244611  70282690       38079\n",
       "4   KEAP1  chr19   10596795  10614054       17259"
      ]
     },
     "execution_count": 8,
     "metadata": {},
     "output_type": "execute_result"
    }
   ],
   "source": [
    "# Merge adhesome proteins dataframe with gene location dataframe\n",
    "adhesome_loc_df = pa.get_adhesome_genes_location(df_components, df_loc)\n",
    "print(len(adhesome_loc_df))\n",
    "adhesome_loc_df.head()"
   ]
  },
  {
   "cell_type": "code",
   "execution_count": 9,
   "metadata": {},
   "outputs": [
    {
     "data": {
      "text/html": [
       "<div>\n",
       "<style scoped>\n",
       "    .dataframe tbody tr th:only-of-type {\n",
       "        vertical-align: middle;\n",
       "    }\n",
       "\n",
       "    .dataframe tbody tr th {\n",
       "        vertical-align: top;\n",
       "    }\n",
       "\n",
       "    .dataframe thead th {\n",
       "        text-align: right;\n",
       "    }\n",
       "</style>\n",
       "<table border=\"1\" class=\"dataframe\">\n",
       "  <thead>\n",
       "    <tr style=\"text-align: right;\">\n",
       "      <th></th>\n",
       "      <th>gene</th>\n",
       "      <th>chrom</th>\n",
       "      <th>loci</th>\n",
       "      <th>genoStart</th>\n",
       "      <th>genoEnd</th>\n",
       "      <th>geneLength</th>\n",
       "      <th>startLocus_id</th>\n",
       "      <th>startLocus</th>\n",
       "      <th>startLocus_coverage</th>\n",
       "      <th>endLocus_id</th>\n",
       "      <th>endLocus</th>\n",
       "      <th>endLocus_coverage</th>\n",
       "    </tr>\n",
       "  </thead>\n",
       "  <tbody>\n",
       "    <tr>\n",
       "      <th>0</th>\n",
       "      <td>ACTN1</td>\n",
       "      <td>chr14</td>\n",
       "      <td>278</td>\n",
       "      <td>69340839</td>\n",
       "      <td>69446083</td>\n",
       "      <td>105244</td>\n",
       "      <td>278</td>\n",
       "      <td>69500000</td>\n",
       "      <td>0.420976</td>\n",
       "      <td>278</td>\n",
       "      <td>69500000</td>\n",
       "      <td>0.420976</td>\n",
       "    </tr>\n",
       "    <tr>\n",
       "      <th>1</th>\n",
       "      <td>CFL1</td>\n",
       "      <td>chr11</td>\n",
       "      <td>263</td>\n",
       "      <td>65622284</td>\n",
       "      <td>65626101</td>\n",
       "      <td>3817</td>\n",
       "      <td>263</td>\n",
       "      <td>65750000</td>\n",
       "      <td>0.015268</td>\n",
       "      <td>263</td>\n",
       "      <td>65750000</td>\n",
       "      <td>0.015268</td>\n",
       "    </tr>\n",
       "    <tr>\n",
       "      <th>2</th>\n",
       "      <td>CORO1B</td>\n",
       "      <td>chr11</td>\n",
       "      <td>269</td>\n",
       "      <td>67205517</td>\n",
       "      <td>67210983</td>\n",
       "      <td>5466</td>\n",
       "      <td>269</td>\n",
       "      <td>67250000</td>\n",
       "      <td>0.021864</td>\n",
       "      <td>269</td>\n",
       "      <td>67250000</td>\n",
       "      <td>0.021864</td>\n",
       "    </tr>\n",
       "    <tr>\n",
       "      <th>3</th>\n",
       "      <td>CTTN</td>\n",
       "      <td>chr11</td>\n",
       "      <td>281</td>\n",
       "      <td>70244611</td>\n",
       "      <td>70282690</td>\n",
       "      <td>38079</td>\n",
       "      <td>281</td>\n",
       "      <td>70250000</td>\n",
       "      <td>0.021556</td>\n",
       "      <td>282</td>\n",
       "      <td>70500000</td>\n",
       "      <td>0.130760</td>\n",
       "    </tr>\n",
       "    <tr>\n",
       "      <th>3</th>\n",
       "      <td>CTTN</td>\n",
       "      <td>chr11</td>\n",
       "      <td>282</td>\n",
       "      <td>70244611</td>\n",
       "      <td>70282690</td>\n",
       "      <td>38079</td>\n",
       "      <td>281</td>\n",
       "      <td>70250000</td>\n",
       "      <td>0.021556</td>\n",
       "      <td>282</td>\n",
       "      <td>70500000</td>\n",
       "      <td>0.130760</td>\n",
       "    </tr>\n",
       "  </tbody>\n",
       "</table>\n",
       "</div>"
      ],
      "text/plain": [
       "     gene  chrom  loci  genoStart   genoEnd  geneLength  startLocus_id  \\\n",
       "0   ACTN1  chr14   278   69340839  69446083      105244            278   \n",
       "1    CFL1  chr11   263   65622284  65626101        3817            263   \n",
       "2  CORO1B  chr11   269   67205517  67210983        5466            269   \n",
       "3    CTTN  chr11   281   70244611  70282690       38079            281   \n",
       "3    CTTN  chr11   282   70244611  70282690       38079            281   \n",
       "\n",
       "   startLocus  startLocus_coverage  endLocus_id  endLocus  endLocus_coverage  \n",
       "0    69500000             0.420976          278  69500000           0.420976  \n",
       "1    65750000             0.015268          263  65750000           0.015268  \n",
       "2    67250000             0.021864          269  67250000           0.021864  \n",
       "3    70250000             0.021556          282  70500000           0.130760  \n",
       "3    70250000             0.021556          282  70500000           0.130760  "
      ]
     },
     "execution_count": 9,
     "metadata": {},
     "output_type": "execute_result"
    }
   ],
   "source": [
    "# Specify start locus and end locus\n",
    "adhesome_loc_df = pa.get_adhesome_genes_loci(adhesome_loc_df, resol)\n",
    "adhesome_loc_df.head()"
   ]
  },
  {
   "cell_type": "markdown",
   "metadata": {},
   "source": [
    "# Create matrix of adhesome gene Hi-C contacts"
   ]
  },
  {
   "cell_type": "code",
   "execution_count": 10,
   "metadata": {},
   "outputs": [],
   "source": [
    "# Add column specifying chromosome number as an int\n",
    "adhesome_chr_loci = adhesome_loc_df[['gene','chrom','loci']]\n",
    "adhesome_chr_loci['chrom_int'] = adhesome_chr_loci['chrom'].str.split('chr').str[1].astype(int)"
   ]
  },
  {
   "cell_type": "code",
   "execution_count": 11,
   "metadata": {},
   "outputs": [
    {
     "data": {
      "text/html": [
       "<div>\n",
       "<style scoped>\n",
       "    .dataframe tbody tr th:only-of-type {\n",
       "        vertical-align: middle;\n",
       "    }\n",
       "\n",
       "    .dataframe tbody tr th {\n",
       "        vertical-align: top;\n",
       "    }\n",
       "\n",
       "    .dataframe thead th {\n",
       "        text-align: right;\n",
       "    }\n",
       "</style>\n",
       "<table border=\"1\" class=\"dataframe\">\n",
       "  <thead>\n",
       "    <tr style=\"text-align: right;\">\n",
       "      <th></th>\n",
       "      <th>gene</th>\n",
       "      <th>chrom</th>\n",
       "      <th>loci</th>\n",
       "      <th>chrom_int</th>\n",
       "    </tr>\n",
       "  </thead>\n",
       "  <tbody>\n",
       "    <tr>\n",
       "      <th>34</th>\n",
       "      <td>FBLIM1</td>\n",
       "      <td>chr1</td>\n",
       "      <td>65</td>\n",
       "      <td>1</td>\n",
       "    </tr>\n",
       "    <tr>\n",
       "      <th>97</th>\n",
       "      <td>ASAP3</td>\n",
       "      <td>chr1</td>\n",
       "      <td>96</td>\n",
       "      <td>1</td>\n",
       "    </tr>\n",
       "    <tr>\n",
       "      <th>173</th>\n",
       "      <td>SLC9A1</td>\n",
       "      <td>chr1</td>\n",
       "      <td>110</td>\n",
       "      <td>1</td>\n",
       "    </tr>\n",
       "    <tr>\n",
       "      <th>158</th>\n",
       "      <td>FABP3</td>\n",
       "      <td>chr1</td>\n",
       "      <td>128</td>\n",
       "      <td>1</td>\n",
       "    </tr>\n",
       "    <tr>\n",
       "      <th>139</th>\n",
       "      <td>MACF1</td>\n",
       "      <td>chr1</td>\n",
       "      <td>159</td>\n",
       "      <td>1</td>\n",
       "    </tr>\n",
       "  </tbody>\n",
       "</table>\n",
       "</div>"
      ],
      "text/plain": [
       "       gene chrom  loci  chrom_int\n",
       "34   FBLIM1  chr1    65          1\n",
       "97    ASAP3  chr1    96          1\n",
       "173  SLC9A1  chr1   110          1\n",
       "158   FABP3  chr1   128          1\n",
       "139   MACF1  chr1   159          1"
      ]
     },
     "execution_count": 11,
     "metadata": {},
     "output_type": "execute_result"
    }
   ],
   "source": [
    "# Select loci information of all adhesome genes (and sort by chromosome and locus)\n",
    "adhesome_chr_loci = adhesome_chr_loci.sort_values(['chrom_int','loci'])\n",
    "adhesome_chr_loci.head()"
   ]
  },
  {
   "cell_type": "code",
   "execution_count": 12,
   "metadata": {},
   "outputs": [],
   "source": [
    "# List of adhesome loci IDs\n",
    "gene_list = np.array(adhesome_chr_loci.gene.drop_duplicates(keep='first'))\n",
    "# Create empty dataframe indexed by loci ID\n",
    "gene_contacts_df = pd.DataFrame(0, index=gene_list, columns=gene_list)"
   ]
  },
  {
   "cell_type": "code",
   "execution_count": 13,
   "metadata": {},
   "outputs": [
    {
     "name": "stderr",
     "output_type": "stream",
     "text": [
      "100%|██████████| 231/231 [00:58<00:00,  3.96it/s]\n"
     ]
    }
   ],
   "source": [
    "# Loop over all chromosome pairs and fill gene_contacts_df\n",
    "chr_list = np.arange(1,23,1)\n",
    "chr_pairs = list(itertools.combinations(chr_list, 2))\n",
    "for pair in tqdm(chr_pairs):\n",
    "    time.sleep(.01)\n",
    "    chr1, chr2 = pair\n",
    "\n",
    "    # Restrict adhesome dataframe to chr1 and chr2\n",
    "    adhesome_chr1_df = adhesome_chr_loci.loc[adhesome_chr_loci['chrom']=='chr'+str(chr1)]\n",
    "    adhesome_genes_chr1 = np.unique(adhesome_chr1_df['gene'])\n",
    "    adhesome_chr2_df = adhesome_chr_loci.loc[adhesome_chr_loci['chrom']=='chr'+str(chr2)]\n",
    "    adhesome_genes_chr2 = np.unique(adhesome_chr2_df['gene'])\n",
    "\n",
    "    # Load HiC data for this chromosome pair\n",
    "    processed_hic_filename = 'hic_'+'chr'+str(chr1)+'_'+'chr'+str(chr2)+'_norm1_filter3'+'.pkl'\n",
    "    hic_chpair_df = pickle.load(open(dir_processed_hic+processed_hic_filename, 'rb'))\n",
    "\n",
    "    # Fill in corresponding submatrix of gene_contacts_df by sum of Hi-C contacts across all gene loci\n",
    "    gene_pairs = itertools.product(adhesome_genes_chr1,adhesome_genes_chr2)\n",
    "    for gene1, gene2 in gene_pairs:\n",
    "        gene1_loci = np.array(adhesome_chr1_df[adhesome_chr1_df['gene']==gene1]['loci']*resol)\n",
    "        gene2_loci = np.array(adhesome_chr2_df[adhesome_chr2_df['gene']==gene2]['loci']*resol)\n",
    "        gene_contacts_df.loc[gene1, gene2] = hic_chpair_df.loc[gene1_loci,gene2_loci].sum().sum()\n"
   ]
  },
  {
   "cell_type": "code",
   "execution_count": 14,
   "metadata": {},
   "outputs": [
    {
     "data": {
      "image/png": "[encoded data removed]",
      "text/plain": [
       "<Figure size 360x360 with 2 Axes>"
      ]
     },
     "metadata": {
      "needs_background": "light"
     },
     "output_type": "display_data"
    }
   ],
   "source": [
    "fig = plt.figure(figsize=(5,5))\n",
    "ax = fig.add_subplot(111)\n",
    "im = ax.imshow((gene_contacts_df), origin='upper', interpolation='none', cmap='rocket')\n",
    "# Place ticks at the middle of every pixel\n",
    "ax.set_xticks(np.arange(len(gene_list)))\n",
    "ax.set_yticks(np.arange(len(gene_list)))\n",
    "ax.set_ylim(len(gene_list)-0.5, -0.5)\n",
    "# Use input dataframe row and column names as ticks\n",
    "ax.set_xticklabels(gene_list, rotation=90, fontsize=3)\n",
    "ax.set_yticklabels(gene_list, fontsize=3)\n",
    "# Put x axis labels on top\n",
    "ax.xaxis.set_label_position('top') \n",
    "ax.xaxis.set_ticks_position('top')\n",
    "# Define axis name\n",
    "ax.set_xlabel('adhesome genes')\n",
    "ax.set_ylabel('adhesome_genes')\n",
    "# Add colorbar\n",
    "fig.colorbar(im)\n",
    "#plt.savefig('hic_contacts_adhesome_genes.pdf', format='pdf')\n",
    "plt.show()"
   ]
  },
  {
   "cell_type": "markdown",
   "metadata": {},
   "source": [
    "# Load adhesome network adjacency matrix"
   ]
  },
  {
   "cell_type": "code",
   "execution_count": 15,
   "metadata": {},
   "outputs": [
    {
     "ename": "NameError",
     "evalue": "name 'df_interactions' is not defined",
     "output_type": "error",
     "traceback": [
      "\u001b[0;31m---------------------------------------------------------------------------\u001b[0m",
      "\u001b[0;31mNameError\u001b[0m                                 Traceback (most recent call last)",
      "\u001b[0;32m<ipython-input-15-0ab325c3ec68>\u001b[0m in \u001b[0;36m<module>\u001b[0;34m\u001b[0m\n\u001b[0;32m----> 1\u001b[0;31m \u001b[0mnp\u001b[0m\u001b[0;34m.\u001b[0m\u001b[0munique\u001b[0m\u001b[0;34m(\u001b[0m\u001b[0mdf_interactions\u001b[0m\u001b[0;34m[\u001b[0m\u001b[0;34m'Type'\u001b[0m\u001b[0;34m]\u001b[0m\u001b[0;34m)\u001b[0m\u001b[0;34m\u001b[0m\u001b[0;34m\u001b[0m\u001b[0m\n\u001b[0m",
      "\u001b[0;31mNameError\u001b[0m: name 'df_interactions' is not defined"
     ]
    }
   ],
   "source": [
    "np.unique(df_interactions['Type'])"
   ]
  },
  {
   "cell_type": "code",
   "execution_count": 214,
   "metadata": {},
   "outputs": [
    {
     "data": {
      "text/html": [
       "<div>\n",
       "<style scoped>\n",
       "    .dataframe tbody tr th:only-of-type {\n",
       "        vertical-align: middle;\n",
       "    }\n",
       "\n",
       "    .dataframe tbody tr th {\n",
       "        vertical-align: top;\n",
       "    }\n",
       "\n",
       "    .dataframe thead th {\n",
       "        text-align: right;\n",
       "    }\n",
       "</style>\n",
       "<table border=\"1\" class=\"dataframe\">\n",
       "  <thead>\n",
       "    <tr style=\"text-align: right;\">\n",
       "      <th></th>\n",
       "      <th>Source</th>\n",
       "      <th>Target</th>\n",
       "      <th>Effect</th>\n",
       "      <th>Type</th>\n",
       "      <th>PMID</th>\n",
       "      <th>data_source</th>\n",
       "    </tr>\n",
       "  </thead>\n",
       "  <tbody>\n",
       "    <tr>\n",
       "      <th>798</th>\n",
       "      <td>ABI1</td>\n",
       "      <td>ABL1</td>\n",
       "      <td>+</td>\n",
       "      <td>activation</td>\n",
       "      <td>12591740</td>\n",
       "      <td>adhesome.org</td>\n",
       "    </tr>\n",
       "    <tr>\n",
       "      <th>2869</th>\n",
       "      <td>ABI1</td>\n",
       "      <td>ABL1</td>\n",
       "      <td>0</td>\n",
       "      <td>binding</td>\n",
       "      <td>18328268</td>\n",
       "      <td>axel_ppi</td>\n",
       "    </tr>\n",
       "    <tr>\n",
       "      <th>2870</th>\n",
       "      <td>ABI1</td>\n",
       "      <td>ABL1</td>\n",
       "      <td>0</td>\n",
       "      <td>binding</td>\n",
       "      <td>21320496</td>\n",
       "      <td>axel_ppi</td>\n",
       "    </tr>\n",
       "    <tr>\n",
       "      <th>2871</th>\n",
       "      <td>ABI1</td>\n",
       "      <td>ABL1</td>\n",
       "      <td>0</td>\n",
       "      <td>binding</td>\n",
       "      <td>17101133</td>\n",
       "      <td>axel_ppi</td>\n",
       "    </tr>\n",
       "    <tr>\n",
       "      <th>2872</th>\n",
       "      <td>ABI1</td>\n",
       "      <td>ABL1</td>\n",
       "      <td>0</td>\n",
       "      <td>binding</td>\n",
       "      <td>11163214</td>\n",
       "      <td>axel_ppi</td>\n",
       "    </tr>\n",
       "  </tbody>\n",
       "</table>\n",
       "</div>"
      ],
      "text/plain": [
       "     Source Target Effect        Type      PMID   data_source\n",
       "798    ABI1   ABL1      +  activation  12591740  adhesome.org\n",
       "2869   ABI1   ABL1      0     binding  18328268      axel_ppi\n",
       "2870   ABI1   ABL1      0     binding  21320496      axel_ppi\n",
       "2871   ABI1   ABL1      0     binding  17101133      axel_ppi\n",
       "2872   ABI1   ABL1      0     binding  11163214      axel_ppi"
      ]
     },
     "execution_count": 214,
     "metadata": {},
     "output_type": "execute_result"
    }
   ],
   "source": [
    "df_interactions.sort_values(by=['Source','Target']).head()"
   ]
  },
  {
   "cell_type": "code",
   "execution_count": 223,
   "metadata": {},
   "outputs": [
    {
     "data": {
      "text/plain": [
       "(array([1370.,    0.,    0.,    0.,    0., 4124.,    0.,    0.,    0.,\n",
       "        1048.]),\n",
       " array([0. , 0.2, 0.4, 0.6, 0.8, 1. , 1.2, 1.4, 1.6, 1.8, 2. ]),\n",
       " <a list of 10 Patch objects>)"
      ]
     },
     "execution_count": 223,
     "metadata": {},
     "output_type": "execute_result"
    },
    {
     "data": {
      "image/png": "[encoded data removed]",
      "text/plain": [
       "<Figure size 432x288 with 1 Axes>"
      ]
     },
     "metadata": {
      "needs_background": "light"
     },
     "output_type": "display_data"
    }
   ],
   "source": [
    "plt.hist(df_interactions['data_source'])"
   ]
  },
  {
   "cell_type": "code",
   "execution_count": 211,
   "metadata": {},
   "outputs": [
    {
     "name": "stdout",
     "output_type": "stream",
     "text": [
      "6\n",
      "6\n"
     ]
    },
    {
     "data": {
      "image/png": "[encoded data removed]",
      "text/plain": [
       "<Figure size 432x288 with 1 Axes>"
      ]
     },
     "metadata": {
      "needs_background": "light"
     },
     "output_type": "display_data"
    }
   ],
   "source": [
    "inter_type = 'unknown'\n",
    "\n",
    "# Load interactions\n",
    "interactions_filename = 'interactions.csv'\n",
    "df_interactions = pd.read_csv(dir_adhesome+interactions_filename, sep = ',', header = 0)\n",
    "df_interactions['Type'] = df_interactions['Type'].str.lower().str.replace('_reaction','')\n",
    "\n",
    "# Remove missing genes from node list\n",
    "missing_genes = ['PPP2CA', 'FLNA', 'MSN', 'GRLF1', 'DDEF1', 'ARHGEF6', 'SMPX', 'SH3KBP1', 'JUB', 'ITGAW']\n",
    "df_components1 = df_components[~df_components['geneSymbol'].isin(missing_genes)]\n",
    "df_components1 = df_components1[~df_components1['geneSymbol'].isin(missing_genes)]\n",
    "# Remove missing genes from edge list\n",
    "df_interactions1 = df_interactions[~df_interactions['Source'].isin(missing_genes)]\n",
    "df_interactions1 = df_interactions1[~df_interactions1['Target'].isin(missing_genes)]\n",
    "# Remove non-genes from edge list (e.g. calcium)\n",
    "df_interactions1 = df_interactions1[df_interactions1['Source'].isin(df_components1['geneSymbol'])]\n",
    "df_interactions1 = df_interactions1[df_interactions1['Target'].isin(df_components1['geneSymbol'])]\n",
    "# Only keep rows corresponding to the desired type of interaction\n",
    "df_interactions1 = df_interactions1[df_interactions1['Type']==inter_type]\n",
    "print(len(df_interactions1))\n",
    "# Drop duplicate rows based on source and target protein\n",
    "df_interactions1 = df_interactions1.drop_duplicates(subset=['Source','Target'], keep='first')\n",
    "print(len(df_interactions1))\n",
    "\n",
    "# Create dataframe with chromosome information for each adhesome gene\n",
    "adhesome_chr = adhesome_chr_loci.drop_duplicates(subset='gene', keep='first')\n",
    "\n",
    "# Add chromosome information for source and target genes\n",
    "df_interactions1 = pd.merge(df_interactions1, adhesome_chr[['gene','chrom']].add_suffix('_source'), \n",
    "                       how='inner', left_on='Source', right_on='gene_source')\n",
    "df_interactions1 = pd.merge(df_interactions1, adhesome_chr[['gene','chrom']].add_suffix('_target'), \n",
    "                       how='inner', left_on='Target', right_on='gene_target')\n",
    "df_interactions1 = df_interactions1.drop(['gene_source','gene_target'], axis=1)\n",
    "df_interactions1['same_chrom'] = df_interactions1['chrom_source']==df_interactions1['chrom_target']\n",
    "\n",
    "# Remove edges between genes located on the same chromosomes\n",
    "df_interactions1 = df_interactions1[df_interactions1['same_chrom']==False]\n",
    "\n",
    "# Create networkX adhesome network without node attributes\n",
    "adhesome_network = nx.from_pandas_edgelist(df_interactions1, 'Source', 'Target', \n",
    "                                            ['Effect', 'Type', 'PMID', 'data_source'])\n",
    "# Dictionary of node attributes\n",
    "node_attributes = {\n",
    "    df_components1['geneSymbol'].iloc[i]: {'Gene ID': df_components1['geneID'].iloc[i],\n",
    "                                         'Protein name': df_components1['proteinName'].iloc[i],\n",
    "                                         'Swiss-Prot ID': df_components1['swisprotID'].iloc[i],\n",
    "                                         'Synonyms': df_components1['synonyms'].iloc[i],\n",
    "                                         'Functional Category': df_components1['functionalCategory'].iloc[i],\n",
    "                                         'FA': df_components1['FA'].iloc[i]\n",
    "                                     } \n",
    "                   for i in range(len(df_components1))\n",
    "\n",
    "}\n",
    "# Add node attributes to networkx graph\n",
    "nx.set_node_attributes(adhesome_network, node_attributes)\n",
    "\n",
    "# Transform the gene Hi-C contact dataframe to (index, column, value format)\n",
    "gene_contacts_full_df = gene_contacts_df+gene_contacts_df.transpose()\n",
    "new_index = pd.MultiIndex.from_tuples(itertools.combinations(gene_contacts_full_df.index.tolist(), 2),\n",
    "                                      names=[\"columns\",\"index\"])\n",
    "gene_contacts_full_df1 = gene_contacts_full_df.stack().reindex(new_index).reset_index(name='hic_contact')\n",
    "\n",
    "# Transform the adhesome network adjacency matrix to (index, column, value format)\n",
    "adhesome_network_df = nx.to_pandas_adjacency(adhesome_network, dtype=int)\n",
    "new_index = pd.MultiIndex.from_tuples(itertools.product(adhesome_network_df.index.tolist(),adhesome_network_df.index.tolist()),\n",
    "                                      names=[\"columns\",\"index\"])\n",
    "adhesome_network_df1 = adhesome_network_df.stack().reindex(new_index).reset_index(name='edge')\n",
    "\n",
    "# Join gene_contacts_full_df1 and adhesome_network_df1\n",
    "combined_df = pd.merge(gene_contacts_full_df1, adhesome_network_df1, \n",
    "                       how='inner', on=['columns','index'])\n",
    "combined_df = combined_df.sort_values(by='hic_contact', ascending=False)\n",
    "\n",
    "# Plot ROC curve\n",
    "combined_df = combined_df[combined_df['hic_contact']>-1]\n",
    "plt.figure()\n",
    "plt.plot(np.arange(len(combined_df)),np.cumsum(combined_df['edge']), color='green')\n",
    "plt.plot([0,len(combined_df)],[0,np.sum(combined_df['edge'])], color='grey', linestyle='dashed')\n",
    "plt.plot([0,np.sum(combined_df['edge'])],[0,np.sum(combined_df['edge'])], color='grey', linestyle='dashed')\n",
    "plt.xlabel('Gene pairs in decreasing order of Hi-C contact value')\n",
    "plt.ylabel('Number of edges in the adjacency matrix')\n",
    "plt.show()"
   ]
  },
  {
   "cell_type": "code",
   "execution_count": null,
   "metadata": {},
   "outputs": [],
   "source": []
  },
  {
   "cell_type": "code",
   "execution_count": 144,
   "metadata": {},
   "outputs": [],
   "source": [
    "# Load interactions\n",
    "interactions_filename = 'interactions.csv'\n",
    "df_interactions = pd.read_csv(dir_adhesome+interactions_filename, sep = ',', header = 0)"
   ]
  },
  {
   "cell_type": "code",
   "execution_count": 75,
   "metadata": {},
   "outputs": [],
   "source": [
    "# Remove missing genes from node list\n",
    "missing_genes = ['PPP2CA', 'FLNA', 'MSN', 'GRLF1', 'DDEF1', 'ARHGEF6', 'SMPX', 'SH3KBP1', 'JUB', 'ITGAW']\n",
    "df_components1 = df_components[~df_components['geneSymbol'].isin(missing_genes)]\n",
    "df_components1 = df_components1[~df_components1['geneSymbol'].isin(missing_genes)]\n",
    "# Remove missing genes from edge list\n",
    "df_interactions1 = df_interactions[~df_interactions['Source'].isin(missing_genes)]\n",
    "df_interactions1 = df_interactions1[~df_interactions1['Target'].isin(missing_genes)]\n",
    "# Remove non-genes from edge list (e.g. calcium)\n",
    "df_interactions1 = df_interactions1[df_interactions1['Source'].isin(df_components1['geneSymbol'])]\n",
    "df_interactions1 = df_interactions1[df_interactions1['Target'].isin(df_components1['geneSymbol'])]\n",
    "# Drop duplicate rows based on source and target protein\n",
    "df_interactions1 = df_interactions1.drop_duplicates(subset=['Source','Target'], keep='first')"
   ]
  },
  {
   "cell_type": "code",
   "execution_count": 78,
   "metadata": {},
   "outputs": [],
   "source": [
    "# Create dataframe with chromosome information for each adhesome gene\n",
    "adhesome_chr = adhesome_chr_loci.drop_duplicates(subset='gene', keep='first')"
   ]
  },
  {
   "cell_type": "code",
   "execution_count": 79,
   "metadata": {},
   "outputs": [
    {
     "name": "stdout",
     "output_type": "stream",
     "text": [
      "2658\n"
     ]
    },
    {
     "data": {
      "text/html": [
       "<div>\n",
       "<style scoped>\n",
       "    .dataframe tbody tr th:only-of-type {\n",
       "        vertical-align: middle;\n",
       "    }\n",
       "\n",
       "    .dataframe tbody tr th {\n",
       "        vertical-align: top;\n",
       "    }\n",
       "\n",
       "    .dataframe thead th {\n",
       "        text-align: right;\n",
       "    }\n",
       "</style>\n",
       "<table border=\"1\" class=\"dataframe\">\n",
       "  <thead>\n",
       "    <tr style=\"text-align: right;\">\n",
       "      <th></th>\n",
       "      <th>Source</th>\n",
       "      <th>Target</th>\n",
       "      <th>Effect</th>\n",
       "      <th>Type</th>\n",
       "      <th>PMID</th>\n",
       "      <th>data_source</th>\n",
       "      <th>chrom_source</th>\n",
       "      <th>chrom_target</th>\n",
       "      <th>same_chrom</th>\n",
       "    </tr>\n",
       "  </thead>\n",
       "  <tbody>\n",
       "    <tr>\n",
       "      <th>0</th>\n",
       "      <td>LPXN</td>\n",
       "      <td>GIT1</td>\n",
       "      <td>0</td>\n",
       "      <td>Binding</td>\n",
       "      <td>12674328</td>\n",
       "      <td>adhesome.org</td>\n",
       "      <td>chr11</td>\n",
       "      <td>chr17</td>\n",
       "      <td>False</td>\n",
       "    </tr>\n",
       "    <tr>\n",
       "      <th>1</th>\n",
       "      <td>PAK1</td>\n",
       "      <td>GIT1</td>\n",
       "      <td>0</td>\n",
       "      <td>Binding</td>\n",
       "      <td>12006652</td>\n",
       "      <td>adhesome.org</td>\n",
       "      <td>chr11</td>\n",
       "      <td>chr17</td>\n",
       "      <td>False</td>\n",
       "    </tr>\n",
       "    <tr>\n",
       "      <th>2</th>\n",
       "      <td>PLCG1</td>\n",
       "      <td>GIT1</td>\n",
       "      <td>0</td>\n",
       "      <td>Binding</td>\n",
       "      <td>16598076</td>\n",
       "      <td>adhesome.org</td>\n",
       "      <td>chr20</td>\n",
       "      <td>chr17</td>\n",
       "      <td>False</td>\n",
       "    </tr>\n",
       "    <tr>\n",
       "      <th>3</th>\n",
       "      <td>SRC</td>\n",
       "      <td>GIT1</td>\n",
       "      <td>+</td>\n",
       "      <td>Activation</td>\n",
       "      <td>14523024</td>\n",
       "      <td>adhesome.org</td>\n",
       "      <td>chr20</td>\n",
       "      <td>chr17</td>\n",
       "      <td>False</td>\n",
       "    </tr>\n",
       "    <tr>\n",
       "      <th>4</th>\n",
       "      <td>PTK2B</td>\n",
       "      <td>GIT1</td>\n",
       "      <td>0</td>\n",
       "      <td>Binding</td>\n",
       "      <td>12629171</td>\n",
       "      <td>axel_ppi</td>\n",
       "      <td>chr8</td>\n",
       "      <td>chr17</td>\n",
       "      <td>False</td>\n",
       "    </tr>\n",
       "    <tr>\n",
       "      <th>5</th>\n",
       "      <td>MAPK1</td>\n",
       "      <td>GIT1</td>\n",
       "      <td>0</td>\n",
       "      <td>Binding</td>\n",
       "      <td>15923189</td>\n",
       "      <td>adhesome.org</td>\n",
       "      <td>chr22</td>\n",
       "      <td>chr17</td>\n",
       "      <td>False</td>\n",
       "    </tr>\n",
       "    <tr>\n",
       "      <th>6</th>\n",
       "      <td>PTK2</td>\n",
       "      <td>GIT1</td>\n",
       "      <td>+</td>\n",
       "      <td>Activation</td>\n",
       "      <td>10938112</td>\n",
       "      <td>adhesome.org</td>\n",
       "      <td>chr8</td>\n",
       "      <td>chr17</td>\n",
       "      <td>False</td>\n",
       "    </tr>\n",
       "    <tr>\n",
       "      <th>7</th>\n",
       "      <td>PXN</td>\n",
       "      <td>GIT1</td>\n",
       "      <td>0</td>\n",
       "      <td>Binding</td>\n",
       "      <td>11448998</td>\n",
       "      <td>adhesome.org</td>\n",
       "      <td>chr12</td>\n",
       "      <td>chr17</td>\n",
       "      <td>False</td>\n",
       "    </tr>\n",
       "    <tr>\n",
       "      <th>8</th>\n",
       "      <td>GRB2</td>\n",
       "      <td>GIT1</td>\n",
       "      <td>0</td>\n",
       "      <td>Binding</td>\n",
       "      <td>21900206</td>\n",
       "      <td>axel_ppi</td>\n",
       "      <td>chr17</td>\n",
       "      <td>chr17</td>\n",
       "      <td>True</td>\n",
       "    </tr>\n",
       "    <tr>\n",
       "      <th>9</th>\n",
       "      <td>PTPRF</td>\n",
       "      <td>GIT1</td>\n",
       "      <td>0</td>\n",
       "      <td>Binding</td>\n",
       "      <td>12629171</td>\n",
       "      <td>axel_ppi</td>\n",
       "      <td>chr1</td>\n",
       "      <td>chr17</td>\n",
       "      <td>False</td>\n",
       "    </tr>\n",
       "    <tr>\n",
       "      <th>10</th>\n",
       "      <td>PDPK1</td>\n",
       "      <td>GIT1</td>\n",
       "      <td>0</td>\n",
       "      <td>Binding</td>\n",
       "      <td>21900206</td>\n",
       "      <td>axel_ppi</td>\n",
       "      <td>chr16</td>\n",
       "      <td>chr17</td>\n",
       "      <td>False</td>\n",
       "    </tr>\n",
       "    <tr>\n",
       "      <th>11</th>\n",
       "      <td>NCK2</td>\n",
       "      <td>GIT1</td>\n",
       "      <td>0</td>\n",
       "      <td>Binding</td>\n",
       "      <td>26186194</td>\n",
       "      <td>axel_ppi</td>\n",
       "      <td>chr2</td>\n",
       "      <td>chr17</td>\n",
       "      <td>False</td>\n",
       "    </tr>\n",
       "    <tr>\n",
       "      <th>12</th>\n",
       "      <td>TGFB1I1</td>\n",
       "      <td>GIT1</td>\n",
       "      <td>0</td>\n",
       "      <td>Binding</td>\n",
       "      <td>12153727</td>\n",
       "      <td>adhesome.org</td>\n",
       "      <td>chr16</td>\n",
       "      <td>chr17</td>\n",
       "      <td>False</td>\n",
       "    </tr>\n",
       "  </tbody>\n",
       "</table>\n",
       "</div>"
      ],
      "text/plain": [
       "     Source Target Effect        Type      PMID   data_source chrom_source  \\\n",
       "0      LPXN   GIT1      0     Binding  12674328  adhesome.org        chr11   \n",
       "1      PAK1   GIT1      0     Binding  12006652  adhesome.org        chr11   \n",
       "2     PLCG1   GIT1      0     Binding  16598076  adhesome.org        chr20   \n",
       "3       SRC   GIT1      +  Activation  14523024  adhesome.org        chr20   \n",
       "4     PTK2B   GIT1      0     Binding  12629171      axel_ppi         chr8   \n",
       "5     MAPK1   GIT1      0     Binding  15923189  adhesome.org        chr22   \n",
       "6      PTK2   GIT1      +  Activation  10938112  adhesome.org         chr8   \n",
       "7       PXN   GIT1      0     Binding  11448998  adhesome.org        chr12   \n",
       "8      GRB2   GIT1      0     Binding  21900206      axel_ppi        chr17   \n",
       "9     PTPRF   GIT1      0     Binding  12629171      axel_ppi         chr1   \n",
       "10    PDPK1   GIT1      0     Binding  21900206      axel_ppi        chr16   \n",
       "11     NCK2   GIT1      0     Binding  26186194      axel_ppi         chr2   \n",
       "12  TGFB1I1   GIT1      0     Binding  12153727  adhesome.org        chr16   \n",
       "\n",
       "   chrom_target  same_chrom  \n",
       "0         chr17       False  \n",
       "1         chr17       False  \n",
       "2         chr17       False  \n",
       "3         chr17       False  \n",
       "4         chr17       False  \n",
       "5         chr17       False  \n",
       "6         chr17       False  \n",
       "7         chr17       False  \n",
       "8         chr17        True  \n",
       "9         chr17       False  \n",
       "10        chr17       False  \n",
       "11        chr17       False  \n",
       "12        chr17       False  "
      ]
     },
     "execution_count": 79,
     "metadata": {},
     "output_type": "execute_result"
    }
   ],
   "source": [
    "# Add chromosome information for source and target genes\n",
    "df_interactions1 = pd.merge(df_interactions1, adhesome_chr[['gene','chrom']].add_suffix('_source'), \n",
    "                       how='inner', left_on='Source', right_on='gene_source')\n",
    "df_interactions1 = pd.merge(df_interactions1, adhesome_chr[['gene','chrom']].add_suffix('_target'), \n",
    "                       how='inner', left_on='Target', right_on='gene_target')\n",
    "df_interactions1 = df_interactions1.drop(['gene_source','gene_target'], axis=1)\n",
    "df_interactions1['same_chrom'] = df_interactions1['chrom_source']==df_interactions1['chrom_target']\n",
    "print(len(df_interactions1))\n",
    "df_interactions1.head(13)"
   ]
  },
  {
   "cell_type": "code",
   "execution_count": 80,
   "metadata": {},
   "outputs": [
    {
     "name": "stdout",
     "output_type": "stream",
     "text": [
      "2514\n"
     ]
    },
    {
     "data": {
      "text/html": [
       "<div>\n",
       "<style scoped>\n",
       "    .dataframe tbody tr th:only-of-type {\n",
       "        vertical-align: middle;\n",
       "    }\n",
       "\n",
       "    .dataframe tbody tr th {\n",
       "        vertical-align: top;\n",
       "    }\n",
       "\n",
       "    .dataframe thead th {\n",
       "        text-align: right;\n",
       "    }\n",
       "</style>\n",
       "<table border=\"1\" class=\"dataframe\">\n",
       "  <thead>\n",
       "    <tr style=\"text-align: right;\">\n",
       "      <th></th>\n",
       "      <th>Source</th>\n",
       "      <th>Target</th>\n",
       "      <th>Effect</th>\n",
       "      <th>Type</th>\n",
       "      <th>PMID</th>\n",
       "      <th>data_source</th>\n",
       "      <th>chrom_source</th>\n",
       "      <th>chrom_target</th>\n",
       "      <th>same_chrom</th>\n",
       "    </tr>\n",
       "  </thead>\n",
       "  <tbody>\n",
       "    <tr>\n",
       "      <th>0</th>\n",
       "      <td>LPXN</td>\n",
       "      <td>GIT1</td>\n",
       "      <td>0</td>\n",
       "      <td>Binding</td>\n",
       "      <td>12674328</td>\n",
       "      <td>adhesome.org</td>\n",
       "      <td>chr11</td>\n",
       "      <td>chr17</td>\n",
       "      <td>False</td>\n",
       "    </tr>\n",
       "    <tr>\n",
       "      <th>1</th>\n",
       "      <td>PAK1</td>\n",
       "      <td>GIT1</td>\n",
       "      <td>0</td>\n",
       "      <td>Binding</td>\n",
       "      <td>12006652</td>\n",
       "      <td>adhesome.org</td>\n",
       "      <td>chr11</td>\n",
       "      <td>chr17</td>\n",
       "      <td>False</td>\n",
       "    </tr>\n",
       "    <tr>\n",
       "      <th>2</th>\n",
       "      <td>PLCG1</td>\n",
       "      <td>GIT1</td>\n",
       "      <td>0</td>\n",
       "      <td>Binding</td>\n",
       "      <td>16598076</td>\n",
       "      <td>adhesome.org</td>\n",
       "      <td>chr20</td>\n",
       "      <td>chr17</td>\n",
       "      <td>False</td>\n",
       "    </tr>\n",
       "    <tr>\n",
       "      <th>3</th>\n",
       "      <td>SRC</td>\n",
       "      <td>GIT1</td>\n",
       "      <td>+</td>\n",
       "      <td>Activation</td>\n",
       "      <td>14523024</td>\n",
       "      <td>adhesome.org</td>\n",
       "      <td>chr20</td>\n",
       "      <td>chr17</td>\n",
       "      <td>False</td>\n",
       "    </tr>\n",
       "    <tr>\n",
       "      <th>4</th>\n",
       "      <td>PTK2B</td>\n",
       "      <td>GIT1</td>\n",
       "      <td>0</td>\n",
       "      <td>Binding</td>\n",
       "      <td>12629171</td>\n",
       "      <td>axel_ppi</td>\n",
       "      <td>chr8</td>\n",
       "      <td>chr17</td>\n",
       "      <td>False</td>\n",
       "    </tr>\n",
       "    <tr>\n",
       "      <th>5</th>\n",
       "      <td>MAPK1</td>\n",
       "      <td>GIT1</td>\n",
       "      <td>0</td>\n",
       "      <td>Binding</td>\n",
       "      <td>15923189</td>\n",
       "      <td>adhesome.org</td>\n",
       "      <td>chr22</td>\n",
       "      <td>chr17</td>\n",
       "      <td>False</td>\n",
       "    </tr>\n",
       "    <tr>\n",
       "      <th>6</th>\n",
       "      <td>PTK2</td>\n",
       "      <td>GIT1</td>\n",
       "      <td>+</td>\n",
       "      <td>Activation</td>\n",
       "      <td>10938112</td>\n",
       "      <td>adhesome.org</td>\n",
       "      <td>chr8</td>\n",
       "      <td>chr17</td>\n",
       "      <td>False</td>\n",
       "    </tr>\n",
       "    <tr>\n",
       "      <th>7</th>\n",
       "      <td>PXN</td>\n",
       "      <td>GIT1</td>\n",
       "      <td>0</td>\n",
       "      <td>Binding</td>\n",
       "      <td>11448998</td>\n",
       "      <td>adhesome.org</td>\n",
       "      <td>chr12</td>\n",
       "      <td>chr17</td>\n",
       "      <td>False</td>\n",
       "    </tr>\n",
       "    <tr>\n",
       "      <th>9</th>\n",
       "      <td>PTPRF</td>\n",
       "      <td>GIT1</td>\n",
       "      <td>0</td>\n",
       "      <td>Binding</td>\n",
       "      <td>12629171</td>\n",
       "      <td>axel_ppi</td>\n",
       "      <td>chr1</td>\n",
       "      <td>chr17</td>\n",
       "      <td>False</td>\n",
       "    </tr>\n",
       "    <tr>\n",
       "      <th>10</th>\n",
       "      <td>PDPK1</td>\n",
       "      <td>GIT1</td>\n",
       "      <td>0</td>\n",
       "      <td>Binding</td>\n",
       "      <td>21900206</td>\n",
       "      <td>axel_ppi</td>\n",
       "      <td>chr16</td>\n",
       "      <td>chr17</td>\n",
       "      <td>False</td>\n",
       "    </tr>\n",
       "    <tr>\n",
       "      <th>11</th>\n",
       "      <td>NCK2</td>\n",
       "      <td>GIT1</td>\n",
       "      <td>0</td>\n",
       "      <td>Binding</td>\n",
       "      <td>26186194</td>\n",
       "      <td>axel_ppi</td>\n",
       "      <td>chr2</td>\n",
       "      <td>chr17</td>\n",
       "      <td>False</td>\n",
       "    </tr>\n",
       "    <tr>\n",
       "      <th>12</th>\n",
       "      <td>TGFB1I1</td>\n",
       "      <td>GIT1</td>\n",
       "      <td>0</td>\n",
       "      <td>Binding</td>\n",
       "      <td>12153727</td>\n",
       "      <td>adhesome.org</td>\n",
       "      <td>chr16</td>\n",
       "      <td>chr17</td>\n",
       "      <td>False</td>\n",
       "    </tr>\n",
       "    <tr>\n",
       "      <th>13</th>\n",
       "      <td>ARF1</td>\n",
       "      <td>GIT1</td>\n",
       "      <td>_</td>\n",
       "      <td>Inhibition</td>\n",
       "      <td>10896954</td>\n",
       "      <td>adhesome.org</td>\n",
       "      <td>chr1</td>\n",
       "      <td>chr17</td>\n",
       "      <td>False</td>\n",
       "    </tr>\n",
       "  </tbody>\n",
       "</table>\n",
       "</div>"
      ],
      "text/plain": [
       "     Source Target Effect        Type      PMID   data_source chrom_source  \\\n",
       "0      LPXN   GIT1      0     Binding  12674328  adhesome.org        chr11   \n",
       "1      PAK1   GIT1      0     Binding  12006652  adhesome.org        chr11   \n",
       "2     PLCG1   GIT1      0     Binding  16598076  adhesome.org        chr20   \n",
       "3       SRC   GIT1      +  Activation  14523024  adhesome.org        chr20   \n",
       "4     PTK2B   GIT1      0     Binding  12629171      axel_ppi         chr8   \n",
       "5     MAPK1   GIT1      0     Binding  15923189  adhesome.org        chr22   \n",
       "6      PTK2   GIT1      +  Activation  10938112  adhesome.org         chr8   \n",
       "7       PXN   GIT1      0     Binding  11448998  adhesome.org        chr12   \n",
       "9     PTPRF   GIT1      0     Binding  12629171      axel_ppi         chr1   \n",
       "10    PDPK1   GIT1      0     Binding  21900206      axel_ppi        chr16   \n",
       "11     NCK2   GIT1      0     Binding  26186194      axel_ppi         chr2   \n",
       "12  TGFB1I1   GIT1      0     Binding  12153727  adhesome.org        chr16   \n",
       "13     ARF1   GIT1      _  Inhibition  10896954  adhesome.org         chr1   \n",
       "\n",
       "   chrom_target  same_chrom  \n",
       "0         chr17       False  \n",
       "1         chr17       False  \n",
       "2         chr17       False  \n",
       "3         chr17       False  \n",
       "4         chr17       False  \n",
       "5         chr17       False  \n",
       "6         chr17       False  \n",
       "7         chr17       False  \n",
       "9         chr17       False  \n",
       "10        chr17       False  \n",
       "11        chr17       False  \n",
       "12        chr17       False  \n",
       "13        chr17       False  "
      ]
     },
     "execution_count": 80,
     "metadata": {},
     "output_type": "execute_result"
    }
   ],
   "source": [
    "# Remove edges between genes located on the same chromosomes\n",
    "df_interactions1 = df_interactions1[df_interactions1['same_chrom']==False]\n",
    "print(len(df_interactions1))\n",
    "df_interactions1.head(13)"
   ]
  },
  {
   "cell_type": "code",
   "execution_count": 81,
   "metadata": {},
   "outputs": [
    {
     "name": "stdout",
     "output_type": "stream",
     "text": [
      "Number of interactions: 1257\n"
     ]
    }
   ],
   "source": [
    "# Create networkX adhesome network without node attributes\n",
    "adhesome_network = nx.from_pandas_edgelist(df_interactions1, 'Source', 'Target', \n",
    "                                            ['Effect', 'Type', 'PMID', 'data_source'])\n",
    "print('Number of interactions: '+str(len(adhesome_network.edges)))"
   ]
  },
  {
   "cell_type": "code",
   "execution_count": 82,
   "metadata": {},
   "outputs": [],
   "source": [
    "# Dictionary of node attributes\n",
    "node_attributes = {\n",
    "    df_components1['geneSymbol'].iloc[i]: {'Gene ID': df_components1['geneID'].iloc[i],\n",
    "                                         'Protein name': df_components1['proteinName'].iloc[i],\n",
    "                                         'Swiss-Prot ID': df_components1['swisprotID'].iloc[i],\n",
    "                                         'Synonyms': df_components1['synonyms'].iloc[i],\n",
    "                                         'Functional Category': df_components1['functionalCategory'].iloc[i],\n",
    "                                         'FA': df_components1['FA'].iloc[i]\n",
    "                                     } \n",
    "                   for i in range(len(df_components1))\n",
    "\n",
    "}"
   ]
  },
  {
   "cell_type": "code",
   "execution_count": 83,
   "metadata": {},
   "outputs": [],
   "source": [
    "# Add node attributes to networkx graph\n",
    "nx.set_node_attributes(adhesome_network, node_attributes)"
   ]
  },
  {
   "cell_type": "markdown",
   "metadata": {},
   "source": [
    "# ROC curve\n",
    "We sort all pairs of genes based on their Hi-C contact values, and examine whether the corresponding gene pirs corresponds to an edge in the adhesome network. This allows us to plot an ROC-type curve, where the x-axis corresponds to the list of gene pairs, sorted in descending order of Hi-C contact, and the y-axis corresponds to the number top edges that are actually present in the adhesome network."
   ]
  },
  {
   "cell_type": "code",
   "execution_count": 84,
   "metadata": {},
   "outputs": [],
   "source": [
    "# Transform the gene Hi-C contact dataframe to (index, column, value format)\n",
    "gene_contacts_full_df = gene_contacts_df+gene_contacts_df.transpose()\n",
    "new_index = pd.MultiIndex.from_tuples(itertools.combinations(gene_contacts_full_df.index.tolist(), 2),\n",
    "                                      names=[\"columns\",\"index\"])\n",
    "gene_contacts_full_df1 = gene_contacts_full_df.stack().reindex(new_index).reset_index(name='hic_contact')"
   ]
  },
  {
   "cell_type": "code",
   "execution_count": 85,
   "metadata": {},
   "outputs": [],
   "source": [
    "# Transform the adhesome network adjacency matrix to (index, column, value format)\n",
    "adhesome_network_df = nx.to_pandas_adjacency(adhesome_network, dtype=int)\n",
    "new_index = pd.MultiIndex.from_tuples(itertools.product(adhesome_network_df.index.tolist(),adhesome_network_df.index.tolist()),\n",
    "                                      names=[\"columns\",\"index\"])\n",
    "adhesome_network_df1 = adhesome_network_df.stack().reindex(new_index).reset_index(name='edge')"
   ]
  },
  {
   "cell_type": "code",
   "execution_count": 143,
   "metadata": {},
   "outputs": [
    {
     "data": {
      "text/html": [
       "<div>\n",
       "<style scoped>\n",
       "    .dataframe tbody tr th:only-of-type {\n",
       "        vertical-align: middle;\n",
       "    }\n",
       "\n",
       "    .dataframe tbody tr th {\n",
       "        vertical-align: top;\n",
       "    }\n",
       "\n",
       "    .dataframe thead th {\n",
       "        text-align: right;\n",
       "    }\n",
       "</style>\n",
       "<table border=\"1\" class=\"dataframe\">\n",
       "  <thead>\n",
       "    <tr style=\"text-align: right;\">\n",
       "      <th></th>\n",
       "      <th>columns</th>\n",
       "      <th>index</th>\n",
       "      <th>hic_contact</th>\n",
       "      <th>edge</th>\n",
       "    </tr>\n",
       "  </thead>\n",
       "  <tbody>\n",
       "    <tr>\n",
       "      <th>8918</th>\n",
       "      <td>LPP</td>\n",
       "      <td>PTK2</td>\n",
       "      <td>17.902131</td>\n",
       "      <td>0</td>\n",
       "    </tr>\n",
       "    <tr>\n",
       "      <th>8885</th>\n",
       "      <td>LPP</td>\n",
       "      <td>PALLD</td>\n",
       "      <td>17.630129</td>\n",
       "      <td>0</td>\n",
       "    </tr>\n",
       "    <tr>\n",
       "      <th>9407</th>\n",
       "      <td>PALLD</td>\n",
       "      <td>PTK2</td>\n",
       "      <td>16.536330</td>\n",
       "      <td>0</td>\n",
       "    </tr>\n",
       "    <tr>\n",
       "      <th>10324</th>\n",
       "      <td>PDE4D</td>\n",
       "      <td>TIAM1</td>\n",
       "      <td>16.184708</td>\n",
       "      <td>0</td>\n",
       "    </tr>\n",
       "    <tr>\n",
       "      <th>10247</th>\n",
       "      <td>PDE4D</td>\n",
       "      <td>PTPRO</td>\n",
       "      <td>15.752584</td>\n",
       "      <td>0</td>\n",
       "    </tr>\n",
       "  </tbody>\n",
       "</table>\n",
       "</div>"
      ],
      "text/plain": [
       "      columns  index  hic_contact  edge\n",
       "8918      LPP   PTK2    17.902131     0\n",
       "8885      LPP  PALLD    17.630129     0\n",
       "9407    PALLD   PTK2    16.536330     0\n",
       "10324   PDE4D  TIAM1    16.184708     0\n",
       "10247   PDE4D  PTPRO    15.752584     0"
      ]
     },
     "execution_count": 143,
     "metadata": {},
     "output_type": "execute_result"
    }
   ],
   "source": [
    "# Join gene_contacts_full_df1 and adhesome_network_df1\n",
    "combined_df = pd.merge(gene_contacts_full_df1, adhesome_network_df1, \n",
    "                       how='inner', on=['columns','index'])\n",
    "combined_df = combined_df.sort_values(by='hic_contact', ascending=False)\n",
    "combined_df.head()"
   ]
  },
  {
   "cell_type": "code",
   "execution_count": 141,
   "metadata": {},
   "outputs": [
    {
     "data": {
      "image/png": "[encoded data removed]",
      "text/plain": [
       "<Figure size 432x288 with 1 Axes>"
      ]
     },
     "metadata": {
      "needs_background": "light"
     },
     "output_type": "display_data"
    }
   ],
   "source": [
    "# Plot ROC curve\n",
    "combined_df = combined_df[combined_df['hic_contact']>5]\n",
    "plt.figure()\n",
    "plt.plot(np.arange(len(combined_df)),np.cumsum(combined_df['edge']), color='green')\n",
    "plt.plot([0,len(combined_df)],[0,np.sum(combined_df['edge'])], color='grey', linestyle='dashed')\n",
    "plt.plot([0,np.sum(combined_df['edge'])],[0,np.sum(combined_df['edge'])], color='grey', linestyle='dashed')\n",
    "plt.xlabel('Gene pairs in decreasing order of Hi-C contact value')\n",
    "plt.ylabel('Number of edges in the adjacency matrix')\n",
    "plt.show()"
   ]
  },
  {
   "cell_type": "code",
   "execution_count": 133,
   "metadata": {},
   "outputs": [
    {
     "data": {
      "image/png": "[encoded data removed]",
      "text/plain": [
       "<Figure size 432x288 with 1 Axes>"
      ]
     },
     "metadata": {
      "needs_background": "light"
     },
     "output_type": "display_data"
    },
    {
     "name": "stdout",
     "output_type": "stream",
     "text": [
      "Mean of Hi-C contacts for gene pairs that interact in the adhesome network = 1.9239188087377854\n",
      "Mean of Hi-C contacts for gene pairs that do not interact in the adhesome network = 1.769337308525597\n"
     ]
    }
   ],
   "source": [
    "# Compare distibution of Hi-C contact values between pairs that have versus do not have an edge in the adhesome network\n",
    "plt.figure()\n",
    "sns.distplot(combined_df[combined_df['edge']==1]['hic_contact'], color='blue', label='interact in adhesome network')\n",
    "plt.axvline(x = np.mean(combined_df[combined_df['edge']==1]['hic_contact']), color='blue', linestyle='dashed')\n",
    "sns.distplot(combined_df[combined_df['edge']==0]['hic_contact'], color='green', label='do not interact in adhesome network')\n",
    "plt.axvline(x = np.mean(combined_df[combined_df['edge']==0]['hic_contact']), color='green', linestyle='dashed')\n",
    "plt.xlabel('Hi-C contact values')\n",
    "plt.legend(loc='upper right')\n",
    "plt.show()\n",
    "print('Mean of Hi-C contacts for gene pairs that interact in the adhesome network = '+\n",
    "      str(np.mean(combined_df[combined_df['edge']==1]['hic_contact'])))\n",
    "print('Mean of Hi-C contacts for gene pairs that do not interact in the adhesome network = '+\n",
    "      str(np.mean(combined_df[combined_df['edge']==0]['hic_contact'])))"
   ]
  },
  {
   "cell_type": "code",
   "execution_count": null,
   "metadata": {},
   "outputs": [],
   "source": []
  },
  {
   "cell_type": "code",
   "execution_count": 129,
   "metadata": {},
   "outputs": [
    {
     "data": {
      "text/plain": [
       "<matplotlib.axes._subplots.AxesSubplot at 0x7fd09ee9d390>"
      ]
     },
     "execution_count": 129,
     "metadata": {},
     "output_type": "execute_result"
    },
    {
     "data": {
      "image/png": "[encoded data removed]",
      "text/plain": [
       "<Figure size 432x288 with 1 Axes>"
      ]
     },
     "metadata": {
      "needs_background": "light"
     },
     "output_type": "display_data"
    }
   ],
   "source": [
    "sns.distplot(combined_df['hic_contact'], kde=False)"
   ]
  },
  {
   "cell_type": "code",
   "execution_count": 126,
   "metadata": {},
   "outputs": [
    {
     "data": {
      "text/plain": [
       "<matplotlib.axes._subplots.AxesSubplot at 0x7fd09eedfc90>"
      ]
     },
     "execution_count": 126,
     "metadata": {},
     "output_type": "execute_result"
    },
    {
     "data": {
      "image/png": "[encoded data removed]",
      "text/plain": [
       "<Figure size 432x288 with 1 Axes>"
      ]
     },
     "metadata": {
      "needs_background": "light"
     },
     "output_type": "display_data"
    }
   ],
   "source": [
    "sns.distplot(combined_df['hic_contact'], kde=False)\n"
   ]
  },
  {
   "cell_type": "code",
   "execution_count": null,
   "metadata": {},
   "outputs": [],
   "source": []
  }
 ],
 "metadata": {
  "kernelspec": {
   "display_name": "Python 3",
   "language": "python",
   "name": "python3"
  },
  "language_info": {
   "codemirror_mode": {
    "name": "ipython",
    "version": 3
   },
   "file_extension": ".py",
   "mimetype": "text/x-python",
   "name": "python",
   "nbconvert_exporter": "python",
   "pygments_lexer": "ipython3",
   "version": "3.7.4"
  }
 },
 "nbformat": 4,
 "nbformat_minor": 2
}
