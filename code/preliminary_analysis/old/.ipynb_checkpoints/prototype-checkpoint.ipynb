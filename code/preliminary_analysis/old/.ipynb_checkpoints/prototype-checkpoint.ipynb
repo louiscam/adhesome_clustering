{
 "cells": [
  {
   "cell_type": "code",
   "execution_count": 45,
   "metadata": {},
   "outputs": [],
   "source": [
    "# Import standard libraries\n",
    "from importlib import reload\n",
    "import numpy as np\n",
    "import matplotlib.pyplot as plt\n",
    "import seaborn as sns\n",
    "from scipy import sparse\n",
    "import scipy.stats as ss\n",
    "import csv\n",
    "import pandas as pd\n",
    "import networkx as nx\n",
    "import pickle\n",
    "from collections import defaultdict\n",
    "import operator\n",
    "from scipy.sparse import csr_matrix\n",
    "import itertools\n",
    "import os.path\n",
    "import math\n",
    "import pybedtools\n",
    "\n",
    "# Custom libraries\n",
    "import prototype_utils as pu"
   ]
  },
  {
   "cell_type": "code",
   "execution_count": 2,
   "metadata": {},
   "outputs": [
    {
     "data": {
      "text/plain": [
       "<module 'prototype_utils' from '/home/louiscam/projects/gpcr/code/preliminary_analysis/prototype_utils.py'>"
      ]
     },
     "execution_count": 2,
     "metadata": {},
     "output_type": "execute_result"
    }
   ],
   "source": [
    "# Reload modules in case of modifications\n",
    "reload(pu)"
   ]
  },
  {
   "cell_type": "markdown",
   "metadata": {},
   "source": [
    "# Data directories"
   ]
  },
  {
   "cell_type": "code",
   "execution_count": 14,
   "metadata": {},
   "outputs": [],
   "source": [
    "# Directory of adhesome data\n",
    "dir_adhesome = '/home/louiscam/projects/gpcr/data/adhesome_data/'\n",
    "# Directory of genome data\n",
    "dir_genome = '/home/louiscam/projects/gpcr/data/genome_data/'\n",
    "# Directory of processed HiC\n",
    "dir_processed_hic = '/home/louiscam/projects/gpcr/save/processed_hic_data_dir/'"
   ]
  },
  {
   "cell_type": "code",
   "execution_count": 4,
   "metadata": {},
   "outputs": [],
   "source": [
    "# Specify directories and relevant information\n",
    "cell_type = 'IMR90'\n",
    "resol_str = '250kb'\n",
    "resol = 250000\n",
    "quality = 'MAPQGE30'"
   ]
  },
  {
   "cell_type": "markdown",
   "metadata": {},
   "source": [
    "# Load adhesome data"
   ]
  },
  {
   "cell_type": "code",
   "execution_count": 5,
   "metadata": {},
   "outputs": [
    {
     "name": "stdout",
     "output_type": "stream",
     "text": [
      "Number of components: 232\n",
      "Number of intrinsic components: 150\n",
      "Number of associated components: 82\n"
     ]
    },
    {
     "data": {
      "text/html": [
       "<div>\n",
       "<style scoped>\n",
       "    .dataframe tbody tr th:only-of-type {\n",
       "        vertical-align: middle;\n",
       "    }\n",
       "\n",
       "    .dataframe tbody tr th {\n",
       "        vertical-align: top;\n",
       "    }\n",
       "\n",
       "    .dataframe thead th {\n",
       "        text-align: right;\n",
       "    }\n",
       "</style>\n",
       "<table border=\"1\" class=\"dataframe\">\n",
       "  <thead>\n",
       "    <tr style=\"text-align: right;\">\n",
       "      <th></th>\n",
       "      <th>geneSymbol</th>\n",
       "      <th>geneID</th>\n",
       "      <th>proteinName</th>\n",
       "      <th>swisprotID</th>\n",
       "      <th>synonyms</th>\n",
       "      <th>functionalCategory</th>\n",
       "      <th>FA</th>\n",
       "    </tr>\n",
       "  </thead>\n",
       "  <tbody>\n",
       "    <tr>\n",
       "      <th>0</th>\n",
       "      <td>ACTN1</td>\n",
       "      <td>87</td>\n",
       "      <td>Actinin</td>\n",
       "      <td>P12814</td>\n",
       "      <td>alpha-actinin</td>\n",
       "      <td>Actin regulation</td>\n",
       "      <td>Intrinsic Proteins</td>\n",
       "    </tr>\n",
       "    <tr>\n",
       "      <th>1</th>\n",
       "      <td>CFL1</td>\n",
       "      <td>1072</td>\n",
       "      <td>cofilin</td>\n",
       "      <td>P23528</td>\n",
       "      <td>CFL</td>\n",
       "      <td>Actin regulation</td>\n",
       "      <td>Intrinsic Proteins</td>\n",
       "    </tr>\n",
       "    <tr>\n",
       "      <th>2</th>\n",
       "      <td>CORO1B</td>\n",
       "      <td>57175</td>\n",
       "      <td>coronin 1B</td>\n",
       "      <td>Q9BR76</td>\n",
       "      <td>coronin-2</td>\n",
       "      <td>Actin regulation</td>\n",
       "      <td>Intrinsic Proteins</td>\n",
       "    </tr>\n",
       "    <tr>\n",
       "      <th>3</th>\n",
       "      <td>CTTN</td>\n",
       "      <td>2017</td>\n",
       "      <td>Cortactin</td>\n",
       "      <td>Q14247</td>\n",
       "      <td>EMS1, Amplaxin</td>\n",
       "      <td>Actin regulation</td>\n",
       "      <td>Intrinsic Proteins</td>\n",
       "    </tr>\n",
       "    <tr>\n",
       "      <th>4</th>\n",
       "      <td>FLNA</td>\n",
       "      <td>2316</td>\n",
       "      <td>Filamin</td>\n",
       "      <td>P21333</td>\n",
       "      <td>endothelial actin-binding protein, ABP-280, al...</td>\n",
       "      <td>Actin regulation</td>\n",
       "      <td>Intrinsic Proteins</td>\n",
       "    </tr>\n",
       "  </tbody>\n",
       "</table>\n",
       "</div>"
      ],
      "text/plain": [
       "  geneSymbol geneID proteinName swisprotID  \\\n",
       "0      ACTN1     87     Actinin     P12814   \n",
       "1       CFL1   1072     cofilin     P23528   \n",
       "2     CORO1B  57175  coronin 1B     Q9BR76   \n",
       "3       CTTN   2017   Cortactin     Q14247   \n",
       "4       FLNA   2316     Filamin     P21333   \n",
       "\n",
       "                                            synonyms functionalCategory  \\\n",
       "0                                      alpha-actinin   Actin regulation   \n",
       "1                                                CFL   Actin regulation   \n",
       "2                                          coronin-2   Actin regulation   \n",
       "3                                     EMS1, Amplaxin   Actin regulation   \n",
       "4  endothelial actin-binding protein, ABP-280, al...   Actin regulation   \n",
       "\n",
       "                   FA  \n",
       "0  Intrinsic Proteins  \n",
       "1  Intrinsic Proteins  \n",
       "2  Intrinsic Proteins  \n",
       "3  Intrinsic Proteins  \n",
       "4  Intrinsic Proteins  "
      ]
     },
     "execution_count": 5,
     "metadata": {},
     "output_type": "execute_result"
    }
   ],
   "source": [
    "# Load components\n",
    "components_filename = 'components.csv'\n",
    "df_components = pd.read_csv(dir_adhesome+components_filename, sep = ',', header = 0)\n",
    "# Process dataframe\n",
    "df_components['Official Symbol'] = df_components['Official Symbol'].str.upper()\n",
    "df_components.columns = ['geneSymbol','geneID','proteinName','swisprotID','synonyms','functionalCategory','FA']\n",
    "# Print information\n",
    "print('Number of components: '+str(len(df_components)))\n",
    "print('Number of intrinsic components: '+str(len(df_components[df_components['FA']=='Intrinsic Proteins'])))\n",
    "print('Number of associated components: '+str(len(df_components[df_components['FA']=='Associated Proteins'])))\n",
    "df_components.head()"
   ]
  },
  {
   "cell_type": "code",
   "execution_count": 6,
   "metadata": {},
   "outputs": [
    {
     "name": "stdout",
     "output_type": "stream",
     "text": [
      "['ABL1' 'ACTB' 'ACTN1' 'AGAP2' 'ARHGAP24']\n"
     ]
    }
   ],
   "source": [
    "# List of intrinsic components\n",
    "intrinsic_comps = np.sort(df_components[df_components['FA']=='Intrinsic Proteins']['geneSymbol'].values)\n",
    "print(intrinsic_comps[:5])\n",
    "# List of associated components\n",
    "associated_comps = np.sort(df_components[df_components['FA']=='Associated Proteins']['geneSymbol'].values)"
   ]
  },
  {
   "cell_type": "markdown",
   "metadata": {},
   "source": [
    "# Position of genes on hg19 genome"
   ]
  },
  {
   "cell_type": "markdown",
   "metadata": {},
   "source": [
    "Positions of known genes in the hg19 genome can be retrieved from the UCSC Table Browser (https://genome.ucsc.edu/cgi-bin/hgTables?hgsid=1021064011_ad33421UafMtn6fGrxiDQ2sACaMe&clade=mammal&org=Human&db=hg19&hgta_group=genes&hgta_track=knownGene&hgta_table=kgXref&hgta_regionType=genome&position=chr19%3A2%2C249%2C113-2%2C252%2C072&hgta_outputType=primaryTable&hgta_outFileName=chrom_hg19_loc) with the following keys:\n",
    "- Clade: Mammal\n",
    "- Genome: Human\n",
    "- Assembly: Feb 2009 (GRCh37/hg19)\n",
    "- Group: Genes and Gene Predictions\n",
    "- Track: UCSC Genes\n",
    "- Table: Known Genes OR Known Canonical (will select only the longest isoform for each gene)\n",
    "\n",
    "The UCSC gene names can be matched with standard gene symbols using another table, accessible with the keys:\n",
    "- Clade: Mammal\n",
    "- Genome: Human\n",
    "- Assembly: Feb 2009 (GRCh37/hg19)\n",
    "- Group: Genes and Gene Predictions\n",
    "- Track: UCSC Genes\n",
    "- Table: kgXref\n"
   ]
  },
  {
   "cell_type": "code",
   "execution_count": 7,
   "metadata": {},
   "outputs": [
    {
     "name": "stdout",
     "output_type": "stream",
     "text": [
      "25959\n"
     ]
    },
    {
     "data": {
      "text/html": [
       "<div>\n",
       "<style scoped>\n",
       "    .dataframe tbody tr th:only-of-type {\n",
       "        vertical-align: middle;\n",
       "    }\n",
       "\n",
       "    .dataframe tbody tr th {\n",
       "        vertical-align: top;\n",
       "    }\n",
       "\n",
       "    .dataframe thead th {\n",
       "        text-align: right;\n",
       "    }\n",
       "</style>\n",
       "<table border=\"1\" class=\"dataframe\">\n",
       "  <thead>\n",
       "    <tr style=\"text-align: right;\">\n",
       "      <th></th>\n",
       "      <th>transcript</th>\n",
       "      <th>geneSymbol</th>\n",
       "      <th>#chrom</th>\n",
       "      <th>chromStart</th>\n",
       "      <th>chromEnd</th>\n",
       "      <th>clusterId</th>\n",
       "      <th>protein</th>\n",
       "    </tr>\n",
       "  </thead>\n",
       "  <tbody>\n",
       "    <tr>\n",
       "      <th>30786</th>\n",
       "      <td>uc021ree.1</td>\n",
       "      <td>7SK</td>\n",
       "      <td>chr12</td>\n",
       "      <td>114942680</td>\n",
       "      <td>114942992</td>\n",
       "      <td>7071</td>\n",
       "      <td>uc021ree.1</td>\n",
       "    </tr>\n",
       "    <tr>\n",
       "      <th>15095</th>\n",
       "      <td>uc002qsd.4</td>\n",
       "      <td>A1BG</td>\n",
       "      <td>chr19</td>\n",
       "      <td>58858171</td>\n",
       "      <td>58864865</td>\n",
       "      <td>15924</td>\n",
       "      <td>uc002qsd.4</td>\n",
       "    </tr>\n",
       "    <tr>\n",
       "      <th>14204</th>\n",
       "      <td>uc002qsg.3</td>\n",
       "      <td>A1BG-AS1</td>\n",
       "      <td>chr19</td>\n",
       "      <td>58863335</td>\n",
       "      <td>58866549</td>\n",
       "      <td>15925</td>\n",
       "      <td>uc002qsg.3</td>\n",
       "    </tr>\n",
       "    <tr>\n",
       "      <th>3436</th>\n",
       "      <td>uc001jjj.3</td>\n",
       "      <td>A1CF</td>\n",
       "      <td>chr10</td>\n",
       "      <td>52559168</td>\n",
       "      <td>52645435</td>\n",
       "      <td>3274</td>\n",
       "      <td>uc001jjj.3</td>\n",
       "    </tr>\n",
       "    <tr>\n",
       "      <th>6250</th>\n",
       "      <td>uc001qvk.1</td>\n",
       "      <td>A2M</td>\n",
       "      <td>chr12</td>\n",
       "      <td>9220303</td>\n",
       "      <td>9268558</td>\n",
       "      <td>6062</td>\n",
       "      <td>uc001qvk.1</td>\n",
       "    </tr>\n",
       "  </tbody>\n",
       "</table>\n",
       "</div>"
      ],
      "text/plain": [
       "       transcript geneSymbol #chrom  chromStart   chromEnd  clusterId  \\\n",
       "30786  uc021ree.1        7SK  chr12   114942680  114942992       7071   \n",
       "15095  uc002qsd.4       A1BG  chr19    58858171   58864865      15924   \n",
       "14204  uc002qsg.3   A1BG-AS1  chr19    58863335   58866549      15925   \n",
       "3436   uc001jjj.3       A1CF  chr10    52559168   52645435       3274   \n",
       "6250   uc001qvk.1        A2M  chr12     9220303    9268558       6062   \n",
       "\n",
       "          protein  \n",
       "30786  uc021ree.1  \n",
       "15095  uc002qsd.4  \n",
       "14204  uc002qsg.3  \n",
       "3436   uc001jjj.3  \n",
       "6250   uc001qvk.1  "
      ]
     },
     "execution_count": 7,
     "metadata": {},
     "output_type": "execute_result"
    }
   ],
   "source": [
    "# Path to gene locations and gene names files\n",
    "gene_locations_filename = dir_genome+'chrom_hg19.loc_canonical'\n",
    "gene_id_filename = dir_genome+'chrom_hg19.name'\n",
    "# Get gene location dataframe\n",
    "df_loc = pu.get_gene_locations(gene_locations_filename, gene_id_filename)\n",
    "print(len(df_loc))\n",
    "df_loc.head()"
   ]
  },
  {
   "cell_type": "markdown",
   "metadata": {},
   "source": [
    "# Location of adhesome proteins"
   ]
  },
  {
   "cell_type": "code",
   "execution_count": 8,
   "metadata": {},
   "outputs": [
    {
     "name": "stdout",
     "output_type": "stream",
     "text": [
      "222\n"
     ]
    },
    {
     "data": {
      "text/html": [
       "<div>\n",
       "<style scoped>\n",
       "    .dataframe tbody tr th:only-of-type {\n",
       "        vertical-align: middle;\n",
       "    }\n",
       "\n",
       "    .dataframe tbody tr th {\n",
       "        vertical-align: top;\n",
       "    }\n",
       "\n",
       "    .dataframe thead th {\n",
       "        text-align: right;\n",
       "    }\n",
       "</style>\n",
       "<table border=\"1\" class=\"dataframe\">\n",
       "  <thead>\n",
       "    <tr style=\"text-align: right;\">\n",
       "      <th></th>\n",
       "      <th>geneSymbol</th>\n",
       "      <th>geneID</th>\n",
       "      <th>proteinName</th>\n",
       "      <th>swisprotID</th>\n",
       "      <th>synonyms</th>\n",
       "      <th>functionalCategory</th>\n",
       "      <th>FA</th>\n",
       "      <th>transcript</th>\n",
       "      <th>#chrom</th>\n",
       "      <th>chromStart</th>\n",
       "      <th>chromEnd</th>\n",
       "      <th>clusterId</th>\n",
       "      <th>protein</th>\n",
       "    </tr>\n",
       "  </thead>\n",
       "  <tbody>\n",
       "    <tr>\n",
       "      <th>0</th>\n",
       "      <td>ACTN1</td>\n",
       "      <td>87</td>\n",
       "      <td>Actinin</td>\n",
       "      <td>P12814</td>\n",
       "      <td>alpha-actinin</td>\n",
       "      <td>Actin regulation</td>\n",
       "      <td>Intrinsic Proteins</td>\n",
       "      <td>uc001xkm.3</td>\n",
       "      <td>chr14</td>\n",
       "      <td>69340839</td>\n",
       "      <td>69446083</td>\n",
       "      <td>8381</td>\n",
       "      <td>uc001xkm.3</td>\n",
       "    </tr>\n",
       "    <tr>\n",
       "      <th>1</th>\n",
       "      <td>CFL1</td>\n",
       "      <td>1072</td>\n",
       "      <td>cofilin</td>\n",
       "      <td>P23528</td>\n",
       "      <td>CFL</td>\n",
       "      <td>Actin regulation</td>\n",
       "      <td>Intrinsic Proteins</td>\n",
       "      <td>uc001ofs.3</td>\n",
       "      <td>chr11</td>\n",
       "      <td>65622284</td>\n",
       "      <td>65626101</td>\n",
       "      <td>5135</td>\n",
       "      <td>uc001ofs.3</td>\n",
       "    </tr>\n",
       "    <tr>\n",
       "      <th>2</th>\n",
       "      <td>CORO1B</td>\n",
       "      <td>57175</td>\n",
       "      <td>coronin 1B</td>\n",
       "      <td>Q9BR76</td>\n",
       "      <td>coronin-2</td>\n",
       "      <td>Actin regulation</td>\n",
       "      <td>Intrinsic Proteins</td>\n",
       "      <td>uc001olk.1</td>\n",
       "      <td>chr11</td>\n",
       "      <td>67205517</td>\n",
       "      <td>67210983</td>\n",
       "      <td>5204</td>\n",
       "      <td>uc001olk.1</td>\n",
       "    </tr>\n",
       "    <tr>\n",
       "      <th>3</th>\n",
       "      <td>CTTN</td>\n",
       "      <td>2017</td>\n",
       "      <td>Cortactin</td>\n",
       "      <td>Q14247</td>\n",
       "      <td>EMS1, Amplaxin</td>\n",
       "      <td>Actin regulation</td>\n",
       "      <td>Intrinsic Proteins</td>\n",
       "      <td>uc001opu.3</td>\n",
       "      <td>chr11</td>\n",
       "      <td>70244611</td>\n",
       "      <td>70282690</td>\n",
       "      <td>5262</td>\n",
       "      <td>uc001opu.3</td>\n",
       "    </tr>\n",
       "    <tr>\n",
       "      <th>4</th>\n",
       "      <td>KEAP1</td>\n",
       "      <td>9817</td>\n",
       "      <td>Keap1</td>\n",
       "      <td>Q14145</td>\n",
       "      <td>Kelch-like protein19, cytosolic inhibitor of N...</td>\n",
       "      <td>Actin regulation</td>\n",
       "      <td>Intrinsic Proteins</td>\n",
       "      <td>uc002mor.1</td>\n",
       "      <td>chr19</td>\n",
       "      <td>10596795</td>\n",
       "      <td>10614054</td>\n",
       "      <td>14445</td>\n",
       "      <td>uc002mor.1</td>\n",
       "    </tr>\n",
       "  </tbody>\n",
       "</table>\n",
       "</div>"
      ],
      "text/plain": [
       "  geneSymbol geneID proteinName swisprotID  \\\n",
       "0      ACTN1     87     Actinin     P12814   \n",
       "1       CFL1   1072     cofilin     P23528   \n",
       "2     CORO1B  57175  coronin 1B     Q9BR76   \n",
       "3       CTTN   2017   Cortactin     Q14247   \n",
       "4      KEAP1   9817       Keap1     Q14145   \n",
       "\n",
       "                                            synonyms functionalCategory  \\\n",
       "0                                      alpha-actinin   Actin regulation   \n",
       "1                                                CFL   Actin regulation   \n",
       "2                                          coronin-2   Actin regulation   \n",
       "3                                     EMS1, Amplaxin   Actin regulation   \n",
       "4  Kelch-like protein19, cytosolic inhibitor of N...   Actin regulation   \n",
       "\n",
       "                   FA  transcript #chrom  chromStart  chromEnd  clusterId  \\\n",
       "0  Intrinsic Proteins  uc001xkm.3  chr14    69340839  69446083       8381   \n",
       "1  Intrinsic Proteins  uc001ofs.3  chr11    65622284  65626101       5135   \n",
       "2  Intrinsic Proteins  uc001olk.1  chr11    67205517  67210983       5204   \n",
       "3  Intrinsic Proteins  uc001opu.3  chr11    70244611  70282690       5262   \n",
       "4  Intrinsic Proteins  uc002mor.1  chr19    10596795  10614054      14445   \n",
       "\n",
       "      protein  \n",
       "0  uc001xkm.3  \n",
       "1  uc001ofs.3  \n",
       "2  uc001olk.1  \n",
       "3  uc001opu.3  \n",
       "4  uc002mor.1  "
      ]
     },
     "execution_count": 8,
     "metadata": {},
     "output_type": "execute_result"
    }
   ],
   "source": [
    "# Merge adhesome proteins dataframe with gene location dataframe\n",
    "adhesome_loc_df0 = pd.merge(df_components, df_loc, on=['geneSymbol'], how='inner')\n",
    "print(len(adhesome_loc_df0))\n",
    "adhesome_loc_df0.head()"
   ]
  },
  {
   "cell_type": "code",
   "execution_count": 9,
   "metadata": {},
   "outputs": [
    {
     "name": "stdout",
     "output_type": "stream",
     "text": [
      "{'JUB', 'GRLF1', 'ITGAW', 'ARHGEF6', 'PPP2CA', 'MSN', 'SMPX', 'SH3KBP1', 'DDEF1', 'FLNA'}\n"
     ]
    }
   ],
   "source": [
    "# Print adhesome genes that are not present in the location data\n",
    "print(set(df_components['geneSymbol']).difference(set(df_loc['geneSymbol'])))"
   ]
  },
  {
   "cell_type": "code",
   "execution_count": 112,
   "metadata": {},
   "outputs": [
    {
     "data": {
      "text/html": [
       "<div>\n",
       "<style scoped>\n",
       "    .dataframe tbody tr th:only-of-type {\n",
       "        vertical-align: middle;\n",
       "    }\n",
       "\n",
       "    .dataframe tbody tr th {\n",
       "        vertical-align: top;\n",
       "    }\n",
       "\n",
       "    .dataframe thead th {\n",
       "        text-align: right;\n",
       "    }\n",
       "</style>\n",
       "<table border=\"1\" class=\"dataframe\">\n",
       "  <thead>\n",
       "    <tr style=\"text-align: right;\">\n",
       "      <th></th>\n",
       "      <th>gene</th>\n",
       "      <th>chrom</th>\n",
       "      <th>genoStart</th>\n",
       "      <th>genoEnd</th>\n",
       "      <th>geneLength</th>\n",
       "    </tr>\n",
       "  </thead>\n",
       "  <tbody>\n",
       "    <tr>\n",
       "      <th>0</th>\n",
       "      <td>ACTN1</td>\n",
       "      <td>chr14</td>\n",
       "      <td>69340839</td>\n",
       "      <td>69446083</td>\n",
       "      <td>105244</td>\n",
       "    </tr>\n",
       "    <tr>\n",
       "      <th>1</th>\n",
       "      <td>CFL1</td>\n",
       "      <td>chr11</td>\n",
       "      <td>65622284</td>\n",
       "      <td>65626101</td>\n",
       "      <td>3817</td>\n",
       "    </tr>\n",
       "    <tr>\n",
       "      <th>2</th>\n",
       "      <td>CORO1B</td>\n",
       "      <td>chr11</td>\n",
       "      <td>67205517</td>\n",
       "      <td>67210983</td>\n",
       "      <td>5466</td>\n",
       "    </tr>\n",
       "    <tr>\n",
       "      <th>3</th>\n",
       "      <td>CTTN</td>\n",
       "      <td>chr11</td>\n",
       "      <td>70244611</td>\n",
       "      <td>70282690</td>\n",
       "      <td>38079</td>\n",
       "    </tr>\n",
       "    <tr>\n",
       "      <th>4</th>\n",
       "      <td>KEAP1</td>\n",
       "      <td>chr19</td>\n",
       "      <td>10596795</td>\n",
       "      <td>10614054</td>\n",
       "      <td>17259</td>\n",
       "    </tr>\n",
       "  </tbody>\n",
       "</table>\n",
       "</div>"
      ],
      "text/plain": [
       "     gene  chrom  genoStart   genoEnd  geneLength\n",
       "0   ACTN1  chr14   69340839  69446083      105244\n",
       "1    CFL1  chr11   65622284  65626101        3817\n",
       "2  CORO1B  chr11   67205517  67210983        5466\n",
       "3    CTTN  chr11   70244611  70282690       38079\n",
       "4   KEAP1  chr19   10596795  10614054       17259"
      ]
     },
     "execution_count": 112,
     "metadata": {},
     "output_type": "execute_result"
    }
   ],
   "source": [
    "# Select relevant columns\n",
    "adhesome_loc_df = adhesome_loc_df0[['geneSymbol','#chrom','chromStart','chromEnd']]\n",
    "adhesome_loc_df.columns = ['gene','chrom','genoStart','genoEnd']\n",
    "adhesome_loc_df.loc[:,'geneLength'] = list(adhesome_loc_df['genoEnd']-adhesome_loc_df['genoStart'])\n",
    "adhesome_loc_df.head()"
   ]
  },
  {
   "cell_type": "code",
   "execution_count": 113,
   "metadata": {},
   "outputs": [
    {
     "data": {
      "text/html": [
       "<div>\n",
       "<style scoped>\n",
       "    .dataframe tbody tr th:only-of-type {\n",
       "        vertical-align: middle;\n",
       "    }\n",
       "\n",
       "    .dataframe tbody tr th {\n",
       "        vertical-align: top;\n",
       "    }\n",
       "\n",
       "    .dataframe thead th {\n",
       "        text-align: right;\n",
       "    }\n",
       "</style>\n",
       "<table border=\"1\" class=\"dataframe\">\n",
       "  <thead>\n",
       "    <tr style=\"text-align: right;\">\n",
       "      <th></th>\n",
       "      <th>gene</th>\n",
       "      <th>chrom</th>\n",
       "      <th>loci</th>\n",
       "      <th>genoStart</th>\n",
       "      <th>genoEnd</th>\n",
       "      <th>geneLength</th>\n",
       "      <th>startLocus_id</th>\n",
       "      <th>startLocus</th>\n",
       "      <th>startLocus_coverage</th>\n",
       "      <th>endLocus_id</th>\n",
       "      <th>endLocus</th>\n",
       "      <th>endLocus_coverage</th>\n",
       "    </tr>\n",
       "  </thead>\n",
       "  <tbody>\n",
       "    <tr>\n",
       "      <th>0</th>\n",
       "      <td>ACTN1</td>\n",
       "      <td>chr14</td>\n",
       "      <td>278</td>\n",
       "      <td>69340839</td>\n",
       "      <td>69446083</td>\n",
       "      <td>105244</td>\n",
       "      <td>278</td>\n",
       "      <td>69500000</td>\n",
       "      <td>0.420976</td>\n",
       "      <td>278</td>\n",
       "      <td>69500000</td>\n",
       "      <td>0.420976</td>\n",
       "    </tr>\n",
       "    <tr>\n",
       "      <th>1</th>\n",
       "      <td>CFL1</td>\n",
       "      <td>chr11</td>\n",
       "      <td>263</td>\n",
       "      <td>65622284</td>\n",
       "      <td>65626101</td>\n",
       "      <td>3817</td>\n",
       "      <td>263</td>\n",
       "      <td>65750000</td>\n",
       "      <td>0.015268</td>\n",
       "      <td>263</td>\n",
       "      <td>65750000</td>\n",
       "      <td>0.015268</td>\n",
       "    </tr>\n",
       "    <tr>\n",
       "      <th>2</th>\n",
       "      <td>CORO1B</td>\n",
       "      <td>chr11</td>\n",
       "      <td>269</td>\n",
       "      <td>67205517</td>\n",
       "      <td>67210983</td>\n",
       "      <td>5466</td>\n",
       "      <td>269</td>\n",
       "      <td>67250000</td>\n",
       "      <td>0.021864</td>\n",
       "      <td>269</td>\n",
       "      <td>67250000</td>\n",
       "      <td>0.021864</td>\n",
       "    </tr>\n",
       "    <tr>\n",
       "      <th>3</th>\n",
       "      <td>CTTN</td>\n",
       "      <td>chr11</td>\n",
       "      <td>281</td>\n",
       "      <td>70244611</td>\n",
       "      <td>70282690</td>\n",
       "      <td>38079</td>\n",
       "      <td>281</td>\n",
       "      <td>70250000</td>\n",
       "      <td>0.021556</td>\n",
       "      <td>282</td>\n",
       "      <td>70500000</td>\n",
       "      <td>0.130760</td>\n",
       "    </tr>\n",
       "    <tr>\n",
       "      <th>3</th>\n",
       "      <td>CTTN</td>\n",
       "      <td>chr11</td>\n",
       "      <td>282</td>\n",
       "      <td>70244611</td>\n",
       "      <td>70282690</td>\n",
       "      <td>38079</td>\n",
       "      <td>281</td>\n",
       "      <td>70250000</td>\n",
       "      <td>0.021556</td>\n",
       "      <td>282</td>\n",
       "      <td>70500000</td>\n",
       "      <td>0.130760</td>\n",
       "    </tr>\n",
       "  </tbody>\n",
       "</table>\n",
       "</div>"
      ],
      "text/plain": [
       "     gene  chrom  loci  genoStart   genoEnd  geneLength  startLocus_id  \\\n",
       "0   ACTN1  chr14   278   69340839  69446083      105244            278   \n",
       "1    CFL1  chr11   263   65622284  65626101        3817            263   \n",
       "2  CORO1B  chr11   269   67205517  67210983        5466            269   \n",
       "3    CTTN  chr11   281   70244611  70282690       38079            281   \n",
       "3    CTTN  chr11   282   70244611  70282690       38079            281   \n",
       "\n",
       "   startLocus  startLocus_coverage  endLocus_id  endLocus  endLocus_coverage  \n",
       "0    69500000             0.420976          278  69500000           0.420976  \n",
       "1    65750000             0.015268          263  65750000           0.015268  \n",
       "2    67250000             0.021864          269  67250000           0.021864  \n",
       "3    70250000             0.021556          282  70500000           0.130760  \n",
       "3    70250000             0.021556          282  70500000           0.130760  "
      ]
     },
     "execution_count": 113,
     "metadata": {},
     "output_type": "execute_result"
    }
   ],
   "source": [
    "# Specify start locus and end locus\n",
    "adhesome_loc_df.loc[:,'startLocus_id'] = list((adhesome_loc_df['genoStart']//resol+1))\n",
    "adhesome_loc_df.loc[:,'endLocus_id'] = list((adhesome_loc_df['genoEnd']//resol+1))\n",
    "adhesome_loc_df.loc[:,'startLocus'] = list((adhesome_loc_df['genoStart']//resol+1)*resol)\n",
    "adhesome_loc_df.loc[:,'endLocus'] = list((adhesome_loc_df['genoEnd']//resol+1)*resol)\n",
    "# Compute coverage of the gene on its start locus and end locus\n",
    "mask = adhesome_loc_df['startLocus']==adhesome_loc_df['endLocus']\n",
    "adhesome_loc_df.loc[mask,'startLocus_coverage'] = adhesome_loc_df.loc[mask,'geneLength']/resol\n",
    "adhesome_loc_df.loc[mask,'endLocus_coverage'] = adhesome_loc_df.loc[mask,'startLocus_coverage']\n",
    "mask = adhesome_loc_df['startLocus']<adhesome_loc_df['endLocus']\n",
    "adhesome_loc_df.loc[mask,'startLocus_coverage'] = (adhesome_loc_df.loc[mask,'startLocus']-adhesome_loc_df.loc[mask,'genoStart'])/resol\n",
    "adhesome_loc_df.loc[mask,'endLocus_coverage'] = (adhesome_loc_df.loc[mask,'genoEnd']-adhesome_loc_df.loc[mask,'endLocus']+resol)/resol\n",
    "# Add column with list of loci\n",
    "ngenes = adhesome_loc_df.shape[0]\n",
    "adhesome_loc_df.loc[:,'loci'] = [np.arange(adhesome_loc_df.loc[i,'startLocus_id'], adhesome_loc_df.loc[i,'endLocus_id']+1) for i in range(ngenes)]\n",
    "# Explode dataframe based on loci\n",
    "adhesome_loc_df = pu.unnesting(adhesome_loc_df,['loci'])\n",
    "# Reorganize columns of dataframe\n",
    "adhesome_loc_df = adhesome_loc_df[['gene','chrom','loci',\n",
    "                                   'genoStart','genoEnd','geneLength',\n",
    "                                   'startLocus_id','startLocus','startLocus_coverage',\n",
    "                                   'endLocus_id','endLocus','endLocus_coverage']]\n",
    "adhesome_loc_df.head()"
   ]
  },
  {
   "cell_type": "markdown",
   "metadata": {},
   "source": [
    "# Check HiC interactions on pairs of chromosome"
   ]
  },
  {
   "cell_type": "code",
   "execution_count": 136,
   "metadata": {},
   "outputs": [],
   "source": [
    "# Load pair of chromosomes\n",
    "chr1 = 1\n",
    "chr2 = 2"
   ]
  },
  {
   "cell_type": "code",
   "execution_count": 137,
   "metadata": {},
   "outputs": [],
   "source": [
    "# Restrict adhesome dataframe to chr1 and chr2\n",
    "adhesome_chr1_df = adhesome_loc_df.loc[adhesome_loc_df['chrom']=='chr'+str(chr1)]\n",
    "adhesome_chr2_df = adhesome_loc_df.loc[adhesome_loc_df['chrom']=='chr'+str(chr2)]"
   ]
  },
  {
   "cell_type": "code",
   "execution_count": 138,
   "metadata": {},
   "outputs": [],
   "source": [
    "# Load HiC data for this chromosome pair\n",
    "processed_hic_filename = 'hic_'+'chr'+str(chr1)+'_'+'chr'+str(chr2)+'_norm1_filter3'+'.pkl'\n",
    "hic_chpair_df = pickle.load(open(dir_processed_hic+processed_hic_filename, 'rb'))"
   ]
  },
  {
   "cell_type": "code",
   "execution_count": 141,
   "metadata": {},
   "outputs": [],
   "source": [
    "# Restrict HiC data to loci corresponding to adhesome genes\n",
    "adhesome_chr1_loci = adhesome_chr1_df['loci']*resol\n",
    "adhesome_chr2_loci = adhesome_chr2_df['loci']*resol\n",
    "hic_chpair_df_restrict = hic_chpair_df.loc[adhesome_chr1_loci,adhesome_chr2_loci]"
   ]
  },
  {
   "cell_type": "code",
   "execution_count": 142,
   "metadata": {},
   "outputs": [
    {
     "name": "stdout",
     "output_type": "stream",
     "text": [
      "Mean across all loci = 0.5834202151706196\n",
      "Mean across adhesome loci = 1.052355195732847\n"
     ]
    },
    {
     "data": {
      "image/png": "[encoded data removed]",
      "text/plain": [
       "<Figure size 432x288 with 1 Axes>"
      ]
     },
     "metadata": {
      "needs_background": "light"
     },
     "output_type": "display_data"
    }
   ],
   "source": [
    "# Plot density plots of HiC contacts between adhesome proteins and between all proteins\n",
    "plt.figure()\n",
    "sns.distplot(hic_chpair_df.values.flatten(), \n",
    "             kde=True, hist=False, \n",
    "             color='green',\n",
    "             axlabel='HiC contact values', label='HiC contacts across all loci')\n",
    "plt.axvline(np.mean(hic_chpair_df.values.flatten()), color='green', linestyle='dashed')\n",
    "print('Mean across all loci = '+str(np.mean(hic_chpair_df.values.flatten())))\n",
    "sns.distplot(hic_chpair_df_restrict.values.flatten(), \n",
    "             kde=True, hist=False, \n",
    "             color='orange',\n",
    "            label='HiC contacts across adhesome loci')\n",
    "plt.axvline(np.mean(hic_chpair_df_restrict.values.flatten()), color='orange', linestyle='dashed')\n",
    "print('Mean across adhesome loci = '+str(np.mean(hic_chpair_df_restrict.values.flatten())))\n",
    "plt.show()"
   ]
  },
  {
   "cell_type": "code",
   "execution_count": null,
   "metadata": {},
   "outputs": [],
   "source": []
  },
  {
   "cell_type": "code",
   "execution_count": null,
   "metadata": {},
   "outputs": [],
   "source": []
  },
  {
   "cell_type": "code",
   "execution_count": null,
   "metadata": {},
   "outputs": [],
   "source": []
  },
  {
   "cell_type": "code",
   "execution_count": null,
   "metadata": {},
   "outputs": [],
   "source": []
  },
  {
   "cell_type": "code",
   "execution_count": null,
   "metadata": {},
   "outputs": [],
   "source": []
  },
  {
   "cell_type": "code",
   "execution_count": null,
   "metadata": {},
   "outputs": [],
   "source": []
  },
  {
   "cell_type": "code",
   "execution_count": null,
   "metadata": {},
   "outputs": [],
   "source": []
  }
 ],
 "metadata": {
  "kernelspec": {
   "display_name": "Python 3",
   "language": "python",
   "name": "python3"
  },
  "language_info": {
   "codemirror_mode": {
    "name": "ipython",
    "version": 3
   },
   "file_extension": ".py",
   "mimetype": "text/x-python",
   "name": "python",
   "nbconvert_exporter": "python",
   "pygments_lexer": "ipython3",
   "version": "3.7.4"
  }
 },
 "nbformat": 4,
 "nbformat_minor": 2
}
