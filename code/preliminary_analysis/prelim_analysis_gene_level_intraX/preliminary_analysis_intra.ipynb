{
 "cells": [
  {
   "cell_type": "code",
   "execution_count": 1,
   "metadata": {},
   "outputs": [],
   "source": [
    "# Import standard libraries\n",
    "from importlib import reload\n",
    "import numpy as np\n",
    "import matplotlib.pyplot as plt\n",
    "import seaborn as sns\n",
    "from scipy import sparse\n",
    "import scipy.stats as ss\n",
    "import csv\n",
    "import pandas as pd\n",
    "import networkx as nx\n",
    "import community\n",
    "import pickle\n",
    "from collections import defaultdict\n",
    "import operator\n",
    "from scipy.sparse import csr_matrix\n",
    "import itertools\n",
    "import os.path\n",
    "import math\n",
    "import pybedtools\n",
    "import time\n",
    "from tqdm import tqdm\n",
    "import random\n",
    "\n",
    "# Custom libraries\n",
    "import prelim_analysis_utils as pa"
   ]
  },
  {
   "cell_type": "code",
   "execution_count": 131,
   "metadata": {},
   "outputs": [
    {
     "data": {
      "text/plain": [
       "<module 'prelim_analysis_utils' from '/home/louiscam/projects/gpcr/code/preliminary_analysis/prelim_analysis_gene_level_intraX/prelim_analysis_utils.py'>"
      ]
     },
     "execution_count": 131,
     "metadata": {},
     "output_type": "execute_result"
    }
   ],
   "source": [
    "# Reload modules in case of modifications\n",
    "reload(pa)"
   ]
  },
  {
   "cell_type": "markdown",
   "metadata": {},
   "source": [
    "# Data directories"
   ]
  },
  {
   "cell_type": "code",
   "execution_count": 3,
   "metadata": {},
   "outputs": [],
   "source": [
    "# Directory of adhesome data\n",
    "dir_adhesome = '/home/louiscam/projects/gpcr/data/adhesome_data/'\n",
    "# Directory of genome data\n",
    "dir_genome = '/home/louiscam/projects/gpcr/data/genome_data/'\n",
    "# Directory of processed HiC\n",
    "dir_processed_hic = '/home/louiscam/projects/gpcr/save/processed_hic_data_dir/'\n",
    "# Directory for storing preliminary results\n",
    "prelim_results_dir = '/home/louiscam/projects/gpcr/save/prelim_results_dir/'"
   ]
  },
  {
   "cell_type": "code",
   "execution_count": 4,
   "metadata": {},
   "outputs": [],
   "source": [
    "# Specify directories and relevant information\n",
    "cell_type = 'IMR90'\n",
    "resol_str = '250kb'\n",
    "resol = 250000\n",
    "quality = 'MAPQGE30'"
   ]
  },
  {
   "cell_type": "markdown",
   "metadata": {},
   "source": [
    "# Adhesome genes location"
   ]
  },
  {
   "cell_type": "code",
   "execution_count": 5,
   "metadata": {},
   "outputs": [],
   "source": [
    "# Load adhesome components data\n",
    "adhesome_components_filename = dir_adhesome+'components.csv'\n",
    "df_components = pa.load_adhesome_data(adhesome_components_filename)\n",
    "all_adhesome_genes = np.array(df_components['geneSymbol'])"
   ]
  },
  {
   "cell_type": "code",
   "execution_count": 6,
   "metadata": {},
   "outputs": [],
   "source": [
    "# Load gene location in hg19\n",
    "gene_locations_filename = dir_genome+'chrom_hg19.loc_canonical'\n",
    "gene_id_filename = dir_genome+'chrom_hg19.name'\n",
    "df_loc = pa.get_gene_locations(gene_locations_filename, gene_id_filename)\n",
    "df_loc['in_adhesome'] = df_loc['geneSymbol'].isin(all_adhesome_genes)"
   ]
  },
  {
   "cell_type": "code",
   "execution_count": 7,
   "metadata": {
    "scrolled": true
   },
   "outputs": [
    {
     "name": "stdout",
     "output_type": "stream",
     "text": [
      "Adhesome genes absent from UCSC genes: ['PPP2CA', 'JUB', 'GRLF1', 'ARHGEF6', 'SMPX', 'DDEF1', 'ITGAW', 'FLNA', 'MSN', 'SH3KBP1']\n"
     ]
    }
   ],
   "source": [
    "# Find location of adhesome genes\n",
    "adhesome_loc_df, missing_adhesome_genes = pa.get_adhesome_genes_location(df_components, df_loc)\n",
    "adhesome_loc_df = pa.get_adhesome_genes_loci(adhesome_loc_df, resol)"
   ]
  },
  {
   "cell_type": "code",
   "execution_count": 8,
   "metadata": {},
   "outputs": [],
   "source": [
    "# Add column specifying chromosome number as an int\n",
    "adhesome_chr_loci = adhesome_loc_df[['gene','chrom','loci']]\n",
    "adhesome_chr_loci['chrom_int'] = adhesome_chr_loci['chrom'].str.split('chr').str[1].astype(int)\n",
    "adhesome_chr_loci = adhesome_chr_loci.sort_values(['chrom_int','loci'])"
   ]
  },
  {
   "cell_type": "code",
   "execution_count": 9,
   "metadata": {},
   "outputs": [],
   "source": [
    "# Also create dataframe with chromosome information for each adhesome gene\n",
    "adhesome_chr = adhesome_chr_loci.drop_duplicates(subset='gene', keep='first')"
   ]
  },
  {
   "cell_type": "markdown",
   "metadata": {},
   "source": [
    "# Matrix of adhesome gene Hi-C contacts"
   ]
  },
  {
   "cell_type": "code",
   "execution_count": 47,
   "metadata": {},
   "outputs": [],
   "source": [
    "# Choose chromosome\n",
    "chr0 = 22"
   ]
  },
  {
   "cell_type": "code",
   "execution_count": 48,
   "metadata": {},
   "outputs": [],
   "source": [
    "# Create matrix of adhesome genes Hi-C contacts\n",
    "gene_contacts_df = pa.build_adhesome_gene_contact_mat(chr0, adhesome_chr_loci, dir_processed_hic, resol)\n",
    "gene_contacts_df = gene_contacts_df+gene_contacts_df.transpose()"
   ]
  },
  {
   "cell_type": "code",
   "execution_count": 49,
   "metadata": {},
   "outputs": [
    {
     "name": "stdout",
     "output_type": "stream",
     "text": [
      "Number of adhesome genes on chromosome 22: 7\n",
      "Number of adhesome gene pairs on chromosome 22: 21\n"
     ]
    },
    {
     "data": {
      "image/png": "[encoded data removed]",
      "text/plain": [
       "<Figure size 360x360 with 2 Axes>"
      ]
     },
     "metadata": {
      "needs_background": "light"
     },
     "output_type": "display_data"
    }
   ],
   "source": [
    "# Plot matrix as heatmap\n",
    "gene_list = list(gene_contacts_df.columns)\n",
    "print('Number of adhesome genes on chromosome '+str(chr0)+': '+str(len(gene_list)))\n",
    "print('Number of adhesome gene pairs on chromosome '+str(chr0)+': '+str(int(len(gene_list)*(len(gene_list)-1)/2)))\n",
    "pa.plot_heatmap(gene_contacts_df, gene_list, gene_list,'adhesome genes', 'adhesome genes', 5, gene_contacts_df.max().max())"
   ]
  },
  {
   "cell_type": "code",
   "execution_count": 51,
   "metadata": {},
   "outputs": [],
   "source": [
    "# Transform the gene Hi-C contact dataframe to (index, column, value format)\n",
    "new_index = pd.MultiIndex.from_tuples(itertools.combinations(gene_contacts_df.index.tolist(), 2),\n",
    "                                      names=[\"column\",\"index\"])\n",
    "gene_contacts_df1 = gene_contacts_df.stack().reindex(new_index).reset_index(name='hic_contact')"
   ]
  },
  {
   "cell_type": "markdown",
   "metadata": {},
   "source": [
    "### Compare to random genes"
   ]
  },
  {
   "cell_type": "code",
   "execution_count": 52,
   "metadata": {},
   "outputs": [],
   "source": [
    "# Restrict df_loc to chr0\n",
    "df_loc_chr0 = df_loc[df_loc['#chrom']=='chr'+str(chr0)]\n",
    "# Number of adhesome genes and non adhesome genes on chr0\n",
    "n_adh_genes = len(df_loc_chr0[df_loc_chr0['in_adhesome']==True])\n",
    "n_non_adh_genes = len(df_loc_chr0[df_loc_chr0['in_adhesome']==False])"
   ]
  },
  {
   "cell_type": "code",
   "execution_count": 53,
   "metadata": {},
   "outputs": [],
   "source": [
    "# Number of adhesome and non adhesome genes\n",
    "random.seed(13)\n",
    "df_rand = df_loc_chr0[df_loc_chr0['in_adhesome']==False]\n",
    "df_rand = df_rand.iloc[random.sample(range(n_non_adh_genes), n_adh_genes),[1,2,3,4]]\n",
    "df_rand.columns = ['gene','chrom','genoStart','genoEnd']\n",
    "df_rand['geneLength'] = df_rand['genoEnd']-df_rand['genoStart']\n",
    "df_rand = df_rand.reset_index(drop=True)"
   ]
  },
  {
   "cell_type": "code",
   "execution_count": 54,
   "metadata": {},
   "outputs": [],
   "source": [
    "# Find the corresponding loci\n",
    "rand_loc_df = pa.get_adhesome_genes_loci(df_rand, resol)\n",
    "rand_chr_loci = rand_loc_df.iloc[:,[0,1,2]]\n",
    "rand_chr_loci['chrom_int'] = rand_loc_df['chrom'].str.split('chr').str[1].astype(int)\n",
    "rand_chr_loci = rand_chr_loci.sort_values(['loci'])\n",
    "# Create matrix of random genes Hi-C contacts\n",
    "gene_contacts_df_rand = pa.build_adhesome_gene_contact_mat(chr0, rand_chr_loci, \n",
    "                                                      dir_processed_hic, resol)\n",
    "gene_contacts_df_rand = gene_contacts_df_rand+gene_contacts_df_rand.transpose()"
   ]
  },
  {
   "cell_type": "code",
   "execution_count": 55,
   "metadata": {},
   "outputs": [
    {
     "data": {
      "image/png": "[encoded data removed]",
      "text/plain": [
       "<Figure size 360x360 with 2 Axes>"
      ]
     },
     "metadata": {
      "needs_background": "light"
     },
     "output_type": "display_data"
    }
   ],
   "source": [
    "# Plot matrix as heatmap\n",
    "gene_list_rand = list(gene_contacts_df_rand.columns)\n",
    "pa.plot_heatmap(gene_contacts_df_rand, gene_list_rand, gene_list_rand,'random genes', 'random genes', 5, gene_contacts_df.max().max())"
   ]
  },
  {
   "cell_type": "code",
   "execution_count": 56,
   "metadata": {},
   "outputs": [
    {
     "name": "stdout",
     "output_type": "stream",
     "text": [
      "Mean Hi-C between adhesome genes = 4.5934069033468505\n",
      "Mean Hi-C between random genes = 4.858957394447428\n"
     ]
    },
    {
     "data": {
      "image/png": "[encoded data removed]",
      "text/plain": [
       "<Figure size 432x288 with 1 Axes>"
      ]
     },
     "metadata": {
      "needs_background": "light"
     },
     "output_type": "display_data"
    }
   ],
   "source": [
    "# Compare distributions\n",
    "plt.figure()\n",
    "sns.distplot(gene_contacts_df.values.flatten(), \n",
    "             kde=False, hist=True, \n",
    "             color='green',\n",
    "             axlabel='HiC contact values', label='HiC intraX contacts between adhesome genes')\n",
    "plt.axvline(np.mean(gene_contacts_df.values.flatten()), color='green', linestyle='dashed')\n",
    "print('Mean Hi-C between adhesome genes = '+str(np.mean(gene_contacts_df.values.flatten())))\n",
    "sns.distplot(gene_contacts_df_rand.values.flatten(), \n",
    "             kde=False, hist=True, \n",
    "             color='orange',\n",
    "             axlabel='HiC contact values', label='HiC intraX contacts between random genes')\n",
    "plt.axvline(np.mean(gene_contacts_df_rand.values.flatten()), color='orange', linestyle='dashed')\n",
    "print('Mean Hi-C between random genes = '+str(np.mean(gene_contacts_df_rand.values.flatten())))\n",
    "plt.ylabel('count')\n",
    "plt.legend(['adhesome genes','random genes'], loc='upper right')\n",
    "plotname = 'adhesome_random_hic_contacts_interX_genes'+'.pdf'\n",
    "#plt.savefig(prelim_results_dir+plotname, format='pdf')\n",
    "plt.show()"
   ]
  },
  {
   "cell_type": "code",
   "execution_count": 57,
   "metadata": {},
   "outputs": [
    {
     "name": "stdout",
     "output_type": "stream",
     "text": [
      "2\n"
     ]
    }
   ],
   "source": [
    "# Store adhesome gene pairs with highest Hi-C contact values as pickle\n",
    "threshold = np.quantile(gene_contacts_df1['hic_contact'], 0.9)\n",
    "top_adhesome_gene_pairs = gene_contacts_df1[gene_contacts_df1['hic_contact']>threshold].sort_values(by='hic_contact', ascending=False)\n",
    "print(len(top_adhesome_gene_pairs))\n",
    "pickle.dump(top_adhesome_gene_pairs, open(prelim_results_dir+'top_adhesome_gene_pairs_intraX_chr'+str(chr0)+'.pkl', 'wb'), protocol=pickle.HIGHEST_PROTOCOL)"
   ]
  },
  {
   "cell_type": "markdown",
   "metadata": {},
   "source": [
    "# Adhesome network interactions"
   ]
  },
  {
   "cell_type": "markdown",
   "metadata": {},
   "source": [
    "### Histogram of effects and types of interactions across all chromosomes"
   ]
  },
  {
   "cell_type": "code",
   "execution_count": 58,
   "metadata": {},
   "outputs": [],
   "source": [
    "# Load interactions\n",
    "interactions_filename = 'interactions.csv'\n",
    "df_interactions = pd.read_csv(dir_adhesome+interactions_filename, sep = ',', header = 0)\n",
    "df_interactions['Type'] = df_interactions['Type'].str.lower().str.replace('_reaction','')"
   ]
  },
  {
   "cell_type": "code",
   "execution_count": 59,
   "metadata": {},
   "outputs": [],
   "source": [
    "# Remove missing genes from edge list\n",
    "df_interactions = df_interactions[~df_interactions['Source'].isin(missing_adhesome_genes)]\n",
    "df_interactions = df_interactions[~df_interactions['Target'].isin(missing_adhesome_genes)]"
   ]
  },
  {
   "cell_type": "code",
   "execution_count": 60,
   "metadata": {},
   "outputs": [],
   "source": [
    "# Remove non-adhesome genes from edge list (e.g. calcium)\n",
    "adhesome_genes = np.array(adhesome_chr.gene)\n",
    "df_interactions = df_interactions[df_interactions['Source'].isin(adhesome_genes)]\n",
    "df_interactions = df_interactions[df_interactions['Target'].isin(adhesome_genes)]"
   ]
  },
  {
   "cell_type": "code",
   "execution_count": 61,
   "metadata": {},
   "outputs": [],
   "source": [
    "# Add chromosome information for source and target genes\n",
    "df_interactions = pd.merge(df_interactions, adhesome_chr[['gene','chrom']].add_suffix('_source'), \n",
    "                       how='inner', left_on='Source', right_on='gene_source')\n",
    "df_interactions = pd.merge(df_interactions, adhesome_chr[['gene','chrom']].add_suffix('_target'), \n",
    "                       how='inner', left_on='Target', right_on='gene_target')\n",
    "df_interactions = df_interactions.drop(['gene_source','gene_target'], axis=1)\n",
    "df_interactions['same_chrom'] = df_interactions['chrom_source']==df_interactions['chrom_target']"
   ]
  },
  {
   "cell_type": "code",
   "execution_count": 62,
   "metadata": {},
   "outputs": [
    {
     "data": {
      "image/png": "[encoded data removed]",
      "text/plain": [
       "<Figure size 432x288 with 1 Axes>"
      ]
     },
     "metadata": {
      "needs_background": "light"
     },
     "output_type": "display_data"
    }
   ],
   "source": [
    "# Histogram of edge effects\n",
    "df_interactions_interX_effect = df_interactions[df_interactions['same_chrom']==False].drop_duplicates(subset=['Source','Target','Effect'],keep='first').Effect.value_counts()\n",
    "df_interactions_intraX_effect = df_interactions[df_interactions['same_chrom']==True].drop_duplicates(subset=['Source','Target','Effect'],keep='first').Effect.value_counts()\n",
    "fig = plt.figure()\n",
    "ax = fig.add_subplot(111)\n",
    "ax.bar(x = list(df_interactions_interX_effect.index), height = df_interactions_interX_effect, color='grey')\n",
    "ax.bar(x = list(df_interactions_intraX_effect.index), height = df_interactions_intraX_effect, color='green')\n",
    "plt.xlabel('Adhesome proteins interaction effect')\n",
    "plt.ylabel('count')\n",
    "plt.legend(['interX', 'intraX'], loc='upper right')\n",
    "plt.show()"
   ]
  },
  {
   "cell_type": "code",
   "execution_count": 63,
   "metadata": {},
   "outputs": [
    {
     "data": {
      "image/png": "[encoded data removed]",
      "text/plain": [
       "<Figure size 432x288 with 1 Axes>"
      ]
     },
     "metadata": {
      "needs_background": "light"
     },
     "output_type": "display_data"
    }
   ],
   "source": [
    "# Histogram of edge types\n",
    "df_interactions_interX_type = df_interactions[df_interactions['same_chrom']==False].drop_duplicates(subset=['Source','Target','Type'],keep='first').Type.value_counts()\n",
    "df_interactions_intraX_type = df_interactions[df_interactions['same_chrom']==True].drop_duplicates(subset=['Source','Target','Type'],keep='first').Type.value_counts()\n",
    "fig = plt.figure()\n",
    "ax = fig.add_subplot(111)\n",
    "ax.bar(x = list(df_interactions_interX_type.index), height = df_interactions_interX_type, color='grey')\n",
    "ax.bar(x = list(df_interactions_intraX_type.index), height = df_interactions_intraX_type, color='green')\n",
    "plt.xlabel('Adhesome proteins interaction effect')\n",
    "plt.ylabel('count')\n",
    "plt.xticks(rotation=90)\n",
    "plt.legend(['interX', 'intraX'], loc='upper right')\n",
    "plt.show()"
   ]
  },
  {
   "cell_type": "markdown",
   "metadata": {},
   "source": [
    "### Adhesome interactions specific to chr0"
   ]
  },
  {
   "cell_type": "code",
   "execution_count": 115,
   "metadata": {},
   "outputs": [],
   "source": [
    "# Load interactions\n",
    "interactions_filename = 'interactions.csv'\n",
    "df_interactions = pd.read_csv(dir_adhesome+interactions_filename, sep = ',', header = 0)\n",
    "df_interactions['Type'] = df_interactions['Type'].str.lower().str.replace('_reaction','')"
   ]
  },
  {
   "cell_type": "code",
   "execution_count": 116,
   "metadata": {},
   "outputs": [],
   "source": [
    "# Remove missing genes from edge list\n",
    "df_interactions = df_interactions[~df_interactions['Source'].isin(missing_adhesome_genes)]\n",
    "df_interactions = df_interactions[~df_interactions['Target'].isin(missing_adhesome_genes)]"
   ]
  },
  {
   "cell_type": "code",
   "execution_count": 117,
   "metadata": {},
   "outputs": [],
   "source": [
    "# Remove non-genes from edge list (e.g. calcium)\n",
    "df_interactions = df_interactions[df_interactions['Source'].isin(adhesome_genes)]\n",
    "df_interactions = df_interactions[df_interactions['Target'].isin(adhesome_genes)]"
   ]
  },
  {
   "cell_type": "code",
   "execution_count": 118,
   "metadata": {},
   "outputs": [],
   "source": [
    "# Add chromosome information for source and target genes\n",
    "df_interactions = pd.merge(df_interactions, adhesome_chr[['gene','chrom']].add_suffix('_source'), \n",
    "                       how='inner', left_on='Source', right_on='gene_source')\n",
    "df_interactions = pd.merge(df_interactions, adhesome_chr[['gene','chrom']].add_suffix('_target'), \n",
    "                       how='inner', left_on='Target', right_on='gene_target')\n",
    "df_interactions = df_interactions.drop(['gene_source','gene_target'], axis=1)\n",
    "df_interactions['same_chrom'] = df_interactions['chrom_source']==df_interactions['chrom_target']"
   ]
  },
  {
   "cell_type": "code",
   "execution_count": 119,
   "metadata": {},
   "outputs": [],
   "source": [
    "# Only select intraX interactions\n",
    "df_interactions = df_interactions[df_interactions['same_chrom']==True]"
   ]
  },
  {
   "cell_type": "code",
   "execution_count": 120,
   "metadata": {},
   "outputs": [],
   "source": [
    "# Only select intraX interactions on chr0\n",
    "df_interactions = df_interactions[df_interactions['chrom_source']=='chr'+str(chr0)]\n",
    "df_interactions = df_interactions.drop_duplicates(subset=['Source','Target','Effect','Type'], \n",
    "                                                  keep='first')"
   ]
  },
  {
   "cell_type": "markdown",
   "metadata": {},
   "source": [
    "# ROC based on interaction effect"
   ]
  },
  {
   "cell_type": "code",
   "execution_count": 121,
   "metadata": {},
   "outputs": [
    {
     "data": {
      "text/plain": [
       "Series([], Name: Effect, dtype: int64)"
      ]
     },
     "execution_count": 121,
     "metadata": {},
     "output_type": "execute_result"
    }
   ],
   "source": [
    "# Distribution of effects\n",
    "df_interactions.Effect.value_counts()"
   ]
  },
  {
   "cell_type": "code",
   "execution_count": 122,
   "metadata": {},
   "outputs": [
    {
     "data": {
      "text/plain": [
       "<Figure size 1440x360 with 0 Axes>"
      ]
     },
     "metadata": {},
     "output_type": "display_data"
    }
   ],
   "source": [
    "interaction_effects = np.unique(df_interactions['Effect'])\n",
    "\n",
    "# Initialize empty figure\n",
    "grid_size = [1,3]\n",
    "fig = plt.figure(figsize=(20,5))\n",
    "fig.subplots_adjust(hspace=0.4, wspace=0.4)\n",
    "effect_count = 0\n",
    "\n",
    "for effect in interaction_effects:\n",
    "    effect_count += 1\n",
    "    \n",
    "    # Only keep rows corresponding to effect\n",
    "    df_interactions1 = df_interactions[df_interactions['Effect']==effect]\n",
    "    # Drop duplicate rows based on source and target protein\n",
    "    df_interactions1 = df_interactions1.drop_duplicates(subset=['Source','Target'], keep='first')\n",
    "    \n",
    "\n",
    "    # Create networkX adhesome network without node attributes\n",
    "    adhesome_network = nx.from_pandas_edgelist(df_interactions1, 'Source', 'Target', \n",
    "                                            ['Effect', 'Type', 'PMID', 'data_source'])\n",
    "\n",
    "    # Transform the adhesome network adjacency matrix to (index, column, value format)\n",
    "    adhesome_network_df = nx.to_pandas_adjacency(adhesome_network, dtype=int)\n",
    "    new_index = pd.MultiIndex.from_tuples(itertools.product(adhesome_network_df.index.tolist(),\n",
    "                                                            adhesome_network_df.index.tolist()),\n",
    "                                          names=[\"column\",\"index\"])\n",
    "    adhesome_network_df1 = adhesome_network_df.stack().reindex(new_index).reset_index(name='edge')\n",
    "\n",
    "    # Join gene_contacts_full_df1 and adhesome_network_df1\n",
    "    combined_df = pd.merge(gene_contacts_df1, adhesome_network_df1, \n",
    "                           how='left', on=['column','index'])\n",
    "    combined_df = combined_df.fillna(0)\n",
    "    combined_df = combined_df.sort_values(by='hic_contact', ascending=False)\n",
    "    \n",
    "    # Plot ROC curve\n",
    "    ax = fig.add_subplot(grid_size[0], grid_size[1], effect_count)\n",
    "    plt.plot(np.arange(len(combined_df))+1,np.cumsum(combined_df['edge']), color='green')\n",
    "    plt.plot([0,len(combined_df)],[0,np.sum(combined_df['edge'])], color='grey', linestyle='dashed')\n",
    "    plt.plot([0,np.sum(combined_df['edge'])],[0,np.sum(combined_df['edge'])], color='grey', linestyle='dashed')\n",
    "    plt.plot([len(combined_df)-np.sum(combined_df['edge']),len(combined_df)],[0,np.sum(combined_df['edge'])], color='grey', linestyle='dashed')\n",
    "    ax.set_xlabel('Gene pairs in decreasing order of Hi-C contact value')\n",
    "    ax.set_ylabel('Number of edges in the adjacency matrix')\n",
    "    ax.set_title(effect)\n",
    "\n",
    "plt.show()\n"
   ]
  },
  {
   "cell_type": "markdown",
   "metadata": {},
   "source": [
    "# ROC based on interaction type"
   ]
  },
  {
   "cell_type": "code",
   "execution_count": 123,
   "metadata": {},
   "outputs": [
    {
     "data": {
      "text/plain": [
       "Series([], Name: Type, dtype: int64)"
      ]
     },
     "execution_count": 123,
     "metadata": {},
     "output_type": "execute_result"
    }
   ],
   "source": [
    "# Distribution of interaction types\n",
    "df_interactions.Type.value_counts()"
   ]
  },
  {
   "cell_type": "code",
   "execution_count": 124,
   "metadata": {},
   "outputs": [
    {
     "data": {
      "text/plain": [
       "<Figure size 1440x1440 with 0 Axes>"
      ]
     },
     "metadata": {},
     "output_type": "display_data"
    }
   ],
   "source": [
    "interaction_types = np.unique(df_interactions['Type'])\n",
    "\n",
    "# Initialize empty figure\n",
    "grid_size = [4,3]\n",
    "fig = plt.figure(figsize=(20,20))\n",
    "fig.subplots_adjust(hspace=0.4, wspace=0.4)\n",
    "type_count = 0\n",
    "\n",
    "for int_type in interaction_types:\n",
    "    type_count += 1\n",
    "    \n",
    "    # Only keep rows corresponding to effect\n",
    "    df_interactions1 = df_interactions[df_interactions['Type']==int_type]\n",
    "    # Drop duplicate rows based on source and target protein\n",
    "    df_interactions1 = df_interactions1.drop_duplicates(subset=['Source','Target'], keep='first')\n",
    "    \n",
    "\n",
    "    # Create networkX adhesome network without node attributes\n",
    "    adhesome_network = nx.from_pandas_edgelist(df_interactions1, 'Source', 'Target', \n",
    "                                            ['Effect', 'Type', 'PMID', 'data_source'])\n",
    "\n",
    "    # Transform the adhesome network adjacency matrix to (index, column, value format)\n",
    "    adhesome_network_df = nx.to_pandas_adjacency(adhesome_network, dtype=int)\n",
    "    new_index = pd.MultiIndex.from_tuples(itertools.product(adhesome_network_df.index.tolist(),\n",
    "                                                            adhesome_network_df.index.tolist()),\n",
    "                                          names=[\"column\",\"index\"])\n",
    "    adhesome_network_df1 = adhesome_network_df.stack().reindex(new_index).reset_index(name='edge')\n",
    "\n",
    "    # Join gene_contacts_full_df1 and adhesome_network_df1\n",
    "    combined_df = pd.merge(gene_contacts_df1, adhesome_network_df1, \n",
    "                           how='left', on=['column','index'])\n",
    "    combined_df = combined_df.fillna(0)\n",
    "    combined_df = combined_df.sort_values(by='hic_contact', ascending=False)\n",
    "    print(combined_df[combined_df['edge']==1])\n",
    "    \n",
    "    # Plot ROC curve\n",
    "    ax = fig.add_subplot(grid_size[0], grid_size[1], type_count)\n",
    "    plt.plot(np.arange(len(combined_df))+1,np.cumsum(combined_df['edge']), color='green')\n",
    "    plt.plot([0,len(combined_df)],[0,np.sum(combined_df['edge'])], color='grey', linestyle='dashed')\n",
    "    plt.plot([0,np.sum(combined_df['edge'])],[0,np.sum(combined_df['edge'])], color='grey', linestyle='dashed')\n",
    "    plt.plot([len(combined_df)-np.sum(combined_df['edge']),len(combined_df)],[0,np.sum(combined_df['edge'])], color='grey', linestyle='dashed')\n",
    "    ax.set_xlabel('Gene pairs in decreasing order of Hi-C contact value')\n",
    "    ax.set_ylabel('Number of edges in the adjacency matrix')\n",
    "    ax.set_title(int_type)\n",
    "\n",
    "plt.show()\n"
   ]
  },
  {
   "cell_type": "markdown",
   "metadata": {},
   "source": [
    "# Produce all plots for a given chromosome"
   ]
  },
  {
   "cell_type": "code",
   "execution_count": 156,
   "metadata": {
    "scrolled": false
   },
   "outputs": [
    {
     "name": "stdout",
     "output_type": "stream",
     "text": [
      "Number of adhesome genes on chromosome 22: 7\n",
      "Number of adhesome gene pairs on chromosome 22: 21\n"
     ]
    },
    {
     "data": {
      "image/png": "[encoded data removed]",
      "text/plain": [
       "<Figure size 360x360 with 2 Axes>"
      ]
     },
     "metadata": {
      "needs_background": "light"
     },
     "output_type": "display_data"
    },
    {
     "data": {
      "image/png": "[encoded data removed]",
      "text/plain": [
       "<Figure size 360x360 with 2 Axes>"
      ]
     },
     "metadata": {
      "needs_background": "light"
     },
     "output_type": "display_data"
    },
    {
     "name": "stdout",
     "output_type": "stream",
     "text": [
      "Mean Hi-C between adhesome genes = 4.5934069033468505\n",
      "Mean Hi-C between random genes = 4.858957394447428\n"
     ]
    },
    {
     "data": {
      "image/png": "[encoded data removed]",
      "text/plain": [
       "<Figure size 432x288 with 1 Axes>"
      ]
     },
     "metadata": {
      "needs_background": "light"
     },
     "output_type": "display_data"
    },
    {
     "data": {
      "text/plain": [
       "<Figure size 1440x360 with 0 Axes>"
      ]
     },
     "metadata": {},
     "output_type": "display_data"
    },
    {
     "data": {
      "text/plain": [
       "<Figure size 1440x1440 with 0 Axes>"
      ]
     },
     "metadata": {},
     "output_type": "display_data"
    }
   ],
   "source": [
    "chr0 = 22\n",
    "\n",
    "# Create matrix of adhesome genes Hi-C contacts\n",
    "gene_contacts_df = pa.build_adhesome_gene_contact_mat(chr0, adhesome_chr_loci, dir_processed_hic, resol)\n",
    "gene_contacts_df = gene_contacts_df+gene_contacts_df.transpose()\n",
    "\n",
    "# Plot matrix as heatmap\n",
    "gene_list = list(gene_contacts_df.columns)\n",
    "print('Number of adhesome genes on chromosome '+str(chr0)+': '+str(len(gene_list)))\n",
    "print('Number of adhesome gene pairs on chromosome '+str(chr0)+': '+str(int(len(gene_list)*(len(gene_list)-1)/2)))\n",
    "pa.plot_heatmap(gene_contacts_df, gene_list, gene_list,'adhesome genes', 'adhesome genes', 5, gene_contacts_df.max().max(), fontsize=8)\n",
    "\n",
    "# Transform the gene Hi-C contact dataframe to (index, column, value format)\n",
    "new_index = pd.MultiIndex.from_tuples(itertools.combinations(gene_contacts_df.index.tolist(), 2),\n",
    "                                      names=[\"column\",\"index\"])\n",
    "gene_contacts_df1 = gene_contacts_df.stack().reindex(new_index).reset_index(name='hic_contact')\n",
    "\n",
    "# Restrict df_loc to chr0\n",
    "df_loc_chr0 = df_loc[df_loc['#chrom']=='chr'+str(chr0)]\n",
    "# Number of adhesome genes and non adhesome genes on chr0\n",
    "n_adh_genes = len(df_loc_chr0[df_loc_chr0['in_adhesome']==True])\n",
    "n_non_adh_genes = len(df_loc_chr0[df_loc_chr0['in_adhesome']==False])\n",
    "# Number of adhesome and non adhesome genes\n",
    "random.seed(13)\n",
    "df_rand = df_loc_chr0[df_loc_chr0['in_adhesome']==False]\n",
    "df_rand = df_rand.iloc[random.sample(range(n_non_adh_genes), n_adh_genes),[1,2,3,4]]\n",
    "df_rand.columns = ['gene','chrom','genoStart','genoEnd']\n",
    "df_rand['geneLength'] = df_rand['genoEnd']-df_rand['genoStart']\n",
    "df_rand = df_rand.reset_index(drop=True)\n",
    "# Find the corresponding loci\n",
    "rand_loc_df = pa.get_adhesome_genes_loci(df_rand, resol)\n",
    "rand_chr_loci = rand_loc_df.iloc[:,[0,1,2]]\n",
    "rand_chr_loci['chrom_int'] = rand_loc_df['chrom'].str.split('chr').str[1].astype(int)\n",
    "rand_chr_loci = rand_chr_loci.sort_values(['loci'])\n",
    "# Create matrix of random genes Hi-C contacts\n",
    "gene_contacts_df_rand = pa.build_adhesome_gene_contact_mat(chr0, rand_chr_loci, \n",
    "                                                      dir_processed_hic, resol)\n",
    "gene_contacts_df_rand = gene_contacts_df_rand+gene_contacts_df_rand.transpose()\n",
    "# Plot matrix as heatmap\n",
    "gene_list_rand = list(gene_contacts_df_rand.columns)\n",
    "pa.plot_heatmap(gene_contacts_df_rand, gene_list_rand, gene_list_rand,'random genes', 'random genes', 5, gene_contacts_df.max().max(), fontsize=8)\n",
    "\n",
    "# Compare distributions\n",
    "plt.figure()\n",
    "sns.distplot(gene_contacts_df.values.flatten(), \n",
    "             kde=False, hist=True, \n",
    "             color='green',\n",
    "             axlabel='HiC contact values', label='HiC intraX contacts between adhesome genes')\n",
    "plt.axvline(np.mean(gene_contacts_df.values.flatten()), color='green', linestyle='dashed')\n",
    "print('Mean Hi-C between adhesome genes = '+str(np.mean(gene_contacts_df.values.flatten())))\n",
    "sns.distplot(gene_contacts_df_rand.values.flatten(), \n",
    "             kde=False, hist=True, \n",
    "             color='orange',\n",
    "             axlabel='HiC contact values', label='HiC intraX contacts between random genes')\n",
    "plt.axvline(np.mean(gene_contacts_df_rand.values.flatten()), color='orange', linestyle='dashed')\n",
    "print('Mean Hi-C between random genes = '+str(np.mean(gene_contacts_df_rand.values.flatten())))\n",
    "plt.ylabel('count')\n",
    "plt.legend(['adhesome genes','random genes'], loc='upper right')\n",
    "plotname = 'adhesome_random_hic_contacts_interX_genes'+'.pdf'\n",
    "#plt.savefig(prelim_results_dir+plotname, format='pdf')\n",
    "plt.show()\n",
    "\n",
    "# Load interactions\n",
    "interactions_filename = 'interactions.csv'\n",
    "df_interactions = pd.read_csv(dir_adhesome+interactions_filename, sep = ',', header = 0)\n",
    "df_interactions['Type'] = df_interactions['Type'].str.lower().str.replace('_reaction','')\n",
    "# Remove missing genes from edge list\n",
    "df_interactions = df_interactions[~df_interactions['Source'].isin(missing_adhesome_genes)]\n",
    "df_interactions = df_interactions[~df_interactions['Target'].isin(missing_adhesome_genes)]\n",
    "# Remove non-genes from edge list (e.g. calcium)\n",
    "df_interactions = df_interactions[df_interactions['Source'].isin(adhesome_genes)]\n",
    "df_interactions = df_interactions[df_interactions['Target'].isin(adhesome_genes)]\n",
    "# Add chromosome information for source and target genes\n",
    "df_interactions = pd.merge(df_interactions, adhesome_chr[['gene','chrom']].add_suffix('_source'), \n",
    "                       how='inner', left_on='Source', right_on='gene_source')\n",
    "df_interactions = pd.merge(df_interactions, adhesome_chr[['gene','chrom']].add_suffix('_target'), \n",
    "                       how='inner', left_on='Target', right_on='gene_target')\n",
    "df_interactions = df_interactions.drop(['gene_source','gene_target'], axis=1)\n",
    "df_interactions['same_chrom'] = df_interactions['chrom_source']==df_interactions['chrom_target']\n",
    "# Only select intraX interactions\n",
    "df_interactions = df_interactions[df_interactions['same_chrom']==True]\n",
    "# Only select intraX interactions on chr0\n",
    "df_interactions = df_interactions[df_interactions['chrom_source']=='chr'+str(chr0)]\n",
    "df_interactions = df_interactions.drop_duplicates(subset=['Source','Target','Effect','Type'], \n",
    "                                                  keep='first')\n",
    "\n",
    "interaction_effects = np.unique(df_interactions['Effect'])\n",
    "\n",
    "# Initialize empty figure\n",
    "grid_size = [1,3]\n",
    "fig = plt.figure(figsize=(20,5))\n",
    "fig.subplots_adjust(hspace=0.4, wspace=0.4)\n",
    "effect_count = 0\n",
    "\n",
    "# ROC based on effect\n",
    "for effect in interaction_effects:\n",
    "    effect_count += 1\n",
    "    \n",
    "    # Only keep rows corresponding to effect\n",
    "    df_interactions1 = df_interactions.copy()\n",
    "    df_interactions1 = df_interactions1[df_interactions1['Effect']==effect]\n",
    "    # Drop duplicate rows based on source and target protein\n",
    "    df_interactions1 = df_interactions1.drop_duplicates(subset=['Source','Target'], keep='first')\n",
    "    \n",
    "\n",
    "    # Create networkX adhesome network without node attributes\n",
    "    adhesome_network = nx.from_pandas_edgelist(df_interactions1, 'Source', 'Target', \n",
    "                                            ['Effect', 'Type', 'PMID', 'data_source'])\n",
    "\n",
    "    # Transform the adhesome network adjacency matrix to (index, column, value format)\n",
    "    adhesome_network_df = nx.to_pandas_adjacency(adhesome_network, dtype=int)\n",
    "    new_index = pd.MultiIndex.from_tuples(itertools.product(adhesome_network_df.index.tolist(),\n",
    "                                                            adhesome_network_df.index.tolist()),\n",
    "                                          names=[\"column\",\"index\"])\n",
    "    adhesome_network_df1 = adhesome_network_df.stack().reindex(new_index).reset_index(name='edge')\n",
    "    \n",
    "    # Join gene_contacts_full_df1 and adhesome_network_df1\n",
    "    combined_df = pd.merge(gene_contacts_df1, adhesome_network_df1, \n",
    "                           how='left', on=['column','index'])\n",
    "    combined_df = combined_df.fillna(0)\n",
    "    combined_df = combined_df.sort_values(by='hic_contact', ascending=False)\n",
    "    \n",
    "    # Plot ROC curve\n",
    "    ax = fig.add_subplot(grid_size[0], grid_size[1], effect_count)\n",
    "    plt.plot(np.arange(len(combined_df))+1,np.cumsum(combined_df['edge']), color='green')\n",
    "    plt.plot([0,len(combined_df)],[0,np.sum(combined_df['edge'])], color='grey', linestyle='dashed')\n",
    "    plt.plot([0,np.sum(combined_df['edge'])],[0,np.sum(combined_df['edge'])], color='grey', linestyle='dashed')\n",
    "    plt.plot([len(combined_df)-np.sum(combined_df['edge']),len(combined_df)],[0,np.sum(combined_df['edge'])], color='grey', linestyle='dashed')\n",
    "    ax.set_xlabel('Gene pairs in decreasing order of Hi-C contact value')\n",
    "    ax.set_ylabel('Number of edges in the adjacency matrix')\n",
    "    ax.set_title(effect)\n",
    "\n",
    "plt.show()\n",
    "\n",
    "# ROC based on type\n",
    "interaction_types = np.unique(df_interactions['Type'])\n",
    "\n",
    "# Initialize empty figure\n",
    "grid_size = [4,3]\n",
    "fig = plt.figure(figsize=(20,20))\n",
    "fig.subplots_adjust(hspace=0.4, wspace=0.4)\n",
    "type_count = 0\n",
    "\n",
    "for int_type in interaction_types:\n",
    "    type_count += 1\n",
    "    \n",
    "    # Only keep rows corresponding to effect\n",
    "    df_interactions1 = df_interactions.copy()\n",
    "    df_interactions1 = df_interactions1[df_interactions1['Type']==int_type]\n",
    "    # Drop duplicate rows based on source and target protein\n",
    "    df_interactions1 = df_interactions1.drop_duplicates(subset=['Source','Target'], keep='first')\n",
    "    \n",
    "\n",
    "    # Create networkX adhesome network without node attributes\n",
    "    adhesome_network = nx.from_pandas_edgelist(df_interactions1, 'Source', 'Target', \n",
    "                                            ['Effect', 'Type', 'PMID', 'data_source'])\n",
    "\n",
    "    # Transform the adhesome network adjacency matrix to (index, column, value format)\n",
    "    adhesome_network_df = nx.to_pandas_adjacency(adhesome_network, dtype=int)\n",
    "    new_index = pd.MultiIndex.from_tuples(itertools.product(adhesome_network_df.index.tolist(),\n",
    "                                                            adhesome_network_df.index.tolist()),\n",
    "                                          names=[\"column\",\"index\"])\n",
    "    adhesome_network_df1 = adhesome_network_df.stack().reindex(new_index).reset_index(name='edge')\n",
    "\n",
    "    # Join gene_contacts_full_df1 and adhesome_network_df1\n",
    "    combined_df = pd.merge(gene_contacts_df1, adhesome_network_df1, \n",
    "                           how='left', on=['column','index'])\n",
    "    combined_df = combined_df.fillna(0)\n",
    "    combined_df = combined_df.sort_values(by='hic_contact', ascending=False)\n",
    "    print(combined_df[combined_df['edge']==1])\n",
    "    \n",
    "    # Plot ROC curve\n",
    "    ax = fig.add_subplot(grid_size[0], grid_size[1], type_count)\n",
    "    plt.plot(np.arange(len(combined_df))+1,np.cumsum(combined_df['edge']), color='green')\n",
    "    plt.plot([0,len(combined_df)],[0,np.sum(combined_df['edge'])], color='grey', linestyle='dashed')\n",
    "    plt.plot([0,np.sum(combined_df['edge'])],[0,np.sum(combined_df['edge'])], color='grey', linestyle='dashed')\n",
    "    plt.plot([len(combined_df)-np.sum(combined_df['edge']),len(combined_df)],[0,np.sum(combined_df['edge'])], color='grey', linestyle='dashed')\n",
    "    ax.set_xlabel('Gene pairs in decreasing order of Hi-C contact value')\n",
    "    ax.set_ylabel('Number of edges in the adjacency matrix')\n",
    "    ax.set_title(int_type)\n",
    "\n",
    "plt.show()\n"
   ]
  },
  {
   "cell_type": "code",
   "execution_count": 128,
   "metadata": {},
   "outputs": [
    {
     "data": {
      "text/plain": [
       "['ANKRD28',\n",
       " 'ITGA9',\n",
       " 'RHOA',\n",
       " 'PPM1M',\n",
       " 'NISCH',\n",
       " 'CD47',\n",
       " 'ITGB5',\n",
       " 'PLD1',\n",
       " 'PIK3CA',\n",
       " 'LPP']"
      ]
     },
     "execution_count": 128,
     "metadata": {},
     "output_type": "execute_result"
    }
   ],
   "source": [
    "gene_list"
   ]
  },
  {
   "cell_type": "code",
   "execution_count": null,
   "metadata": {},
   "outputs": [],
   "source": []
  }
 ],
 "metadata": {
  "kernelspec": {
   "display_name": "Python 3",
   "language": "python",
   "name": "python3"
  },
  "language_info": {
   "codemirror_mode": {
    "name": "ipython",
    "version": 3
   },
   "file_extension": ".py",
   "mimetype": "text/x-python",
   "name": "python",
   "nbconvert_exporter": "python",
   "pygments_lexer": "ipython3",
   "version": "3.7.4"
  }
 },
 "nbformat": 4,
 "nbformat_minor": 2
}
