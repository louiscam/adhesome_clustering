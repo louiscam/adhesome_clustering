{
 "cells": [
  {
   "cell_type": "code",
   "execution_count": 1,
   "metadata": {},
   "outputs": [],
   "source": [
    "# Import standard libraries\n",
    "import numpy as np\n",
    "import matplotlib.pyplot as plt\n",
    "from scipy import sparse\n",
    "import scipy.stats as ss\n",
    "import csv\n",
    "import pandas as pd\n",
    "import pickle\n",
    "from collections import defaultdict\n",
    "import operator\n",
    "from scipy.sparse import csr_matrix\n",
    "import itertools\n",
    "import os.path\n",
    "import math\n",
    "import pybedtools"
   ]
  },
  {
   "cell_type": "markdown",
   "metadata": {},
   "source": [
    "# Data directories"
   ]
  },
  {
   "cell_type": "code",
   "execution_count": 2,
   "metadata": {},
   "outputs": [],
   "source": [
    "# Data global directories\n",
    "dir_interchrom = '../../data/hic/IMR90_interchromosomal/250kb_resolution_interchromosomal/'\n",
    "dir_quality = 'MAPQGE30/' #'MAPQG0/'"
   ]
  },
  {
   "cell_type": "code",
   "execution_count": 3,
   "metadata": {},
   "outputs": [],
   "source": [
    "# Choose a particular chromosome pair\n",
    "chr1 = 10\n",
    "chr2 = 11"
   ]
  },
  {
   "cell_type": "code",
   "execution_count": 4,
   "metadata": {},
   "outputs": [],
   "source": [
    "# Choose a particular resolution\n",
    "resol = int(2.5e5)\n",
    "resol_str = '250kb'"
   ]
  },
  {
   "cell_type": "code",
   "execution_count": 5,
   "metadata": {},
   "outputs": [],
   "source": [
    "# Define data directories for the chromosome pair\n",
    "chrom_pair_dir = 'chr'+str(chr1)+'_'+'chr'+str(chr2)+'/'\n",
    "data_dir = dir_interchrom + chrom_pair_dir + dir_quality\n",
    "raw_mat_path = data_dir+'chr'+str(chr1)+'_'+str(chr2)+'_'+resol_str+'.RAWobserved'\n",
    "KRnorm_chr1_path = data_dir+'chr'+str(chr1)+'_'+resol_str+'.KRnorm'\n",
    "KRnorm_chr2_path = data_dir+'chr'+str(chr2)+'_'+resol_str+'.KRnorm'"
   ]
  },
  {
   "cell_type": "code",
   "execution_count": 6,
   "metadata": {},
   "outputs": [
    {
     "name": "stdout",
     "output_type": "stream",
     "text": [
      "../../data/hic/IMR90_interchromosomal/250kb_resolution_interchromosomal/chr10_chr11/MAPQGE30/chr10_11_250kb.RAWobserved\n",
      "../../data/hic/IMR90_interchromosomal/250kb_resolution_interchromosomal/chr10_chr11/MAPQGE30/chr10_250kb.KRnorm\n",
      "../../data/hic/IMR90_interchromosomal/250kb_resolution_interchromosomal/chr10_chr11/MAPQGE30/chr11_250kb.KRnorm\n"
     ]
    }
   ],
   "source": [
    "# Print paths\n",
    "print(raw_mat_path)\n",
    "print(KRnorm_chr1_path)\n",
    "print(KRnorm_chr2_path)"
   ]
  },
  {
   "cell_type": "markdown",
   "metadata": {},
   "source": [
    "# Load chromosome sizes"
   ]
  },
  {
   "cell_type": "markdown",
   "metadata": {},
   "source": [
    "Chromosome sizes can be obtained from https://hgdownload.cse.ucsc.edu/goldenPath/hg19/bigZips/"
   ]
  },
  {
   "cell_type": "code",
   "execution_count": 7,
   "metadata": {},
   "outputs": [
    {
     "data": {
      "text/html": [
       "<div>\n",
       "<style scoped>\n",
       "    .dataframe tbody tr th:only-of-type {\n",
       "        vertical-align: middle;\n",
       "    }\n",
       "\n",
       "    .dataframe tbody tr th {\n",
       "        vertical-align: top;\n",
       "    }\n",
       "\n",
       "    .dataframe thead th {\n",
       "        text-align: right;\n",
       "    }\n",
       "</style>\n",
       "<table border=\"1\" class=\"dataframe\">\n",
       "  <thead>\n",
       "    <tr style=\"text-align: right;\">\n",
       "      <th></th>\n",
       "      <th>chr</th>\n",
       "      <th>size</th>\n",
       "      <th>size_loci</th>\n",
       "    </tr>\n",
       "  </thead>\n",
       "  <tbody>\n",
       "    <tr>\n",
       "      <th>0</th>\n",
       "      <td>1</td>\n",
       "      <td>249250621</td>\n",
       "      <td>998</td>\n",
       "    </tr>\n",
       "    <tr>\n",
       "      <th>1</th>\n",
       "      <td>2</td>\n",
       "      <td>243199373</td>\n",
       "      <td>973</td>\n",
       "    </tr>\n",
       "    <tr>\n",
       "      <th>2</th>\n",
       "      <td>3</td>\n",
       "      <td>198022430</td>\n",
       "      <td>793</td>\n",
       "    </tr>\n",
       "    <tr>\n",
       "      <th>3</th>\n",
       "      <td>4</td>\n",
       "      <td>191154276</td>\n",
       "      <td>765</td>\n",
       "    </tr>\n",
       "    <tr>\n",
       "      <th>4</th>\n",
       "      <td>5</td>\n",
       "      <td>180915260</td>\n",
       "      <td>724</td>\n",
       "    </tr>\n",
       "    <tr>\n",
       "      <th>5</th>\n",
       "      <td>6</td>\n",
       "      <td>171115067</td>\n",
       "      <td>685</td>\n",
       "    </tr>\n",
       "    <tr>\n",
       "      <th>6</th>\n",
       "      <td>7</td>\n",
       "      <td>159138663</td>\n",
       "      <td>637</td>\n",
       "    </tr>\n",
       "    <tr>\n",
       "      <th>7</th>\n",
       "      <td>X</td>\n",
       "      <td>155270560</td>\n",
       "      <td>622</td>\n",
       "    </tr>\n",
       "    <tr>\n",
       "      <th>8</th>\n",
       "      <td>8</td>\n",
       "      <td>146364022</td>\n",
       "      <td>586</td>\n",
       "    </tr>\n",
       "    <tr>\n",
       "      <th>9</th>\n",
       "      <td>9</td>\n",
       "      <td>141213431</td>\n",
       "      <td>565</td>\n",
       "    </tr>\n",
       "    <tr>\n",
       "      <th>10</th>\n",
       "      <td>10</td>\n",
       "      <td>135534747</td>\n",
       "      <td>543</td>\n",
       "    </tr>\n",
       "    <tr>\n",
       "      <th>11</th>\n",
       "      <td>11</td>\n",
       "      <td>135006516</td>\n",
       "      <td>541</td>\n",
       "    </tr>\n",
       "    <tr>\n",
       "      <th>12</th>\n",
       "      <td>12</td>\n",
       "      <td>133851895</td>\n",
       "      <td>536</td>\n",
       "    </tr>\n",
       "    <tr>\n",
       "      <th>13</th>\n",
       "      <td>13</td>\n",
       "      <td>115169878</td>\n",
       "      <td>461</td>\n",
       "    </tr>\n",
       "    <tr>\n",
       "      <th>14</th>\n",
       "      <td>14</td>\n",
       "      <td>107349540</td>\n",
       "      <td>430</td>\n",
       "    </tr>\n",
       "    <tr>\n",
       "      <th>15</th>\n",
       "      <td>15</td>\n",
       "      <td>102531392</td>\n",
       "      <td>411</td>\n",
       "    </tr>\n",
       "    <tr>\n",
       "      <th>16</th>\n",
       "      <td>16</td>\n",
       "      <td>90354753</td>\n",
       "      <td>362</td>\n",
       "    </tr>\n",
       "    <tr>\n",
       "      <th>17</th>\n",
       "      <td>17</td>\n",
       "      <td>81195210</td>\n",
       "      <td>325</td>\n",
       "    </tr>\n",
       "    <tr>\n",
       "      <th>18</th>\n",
       "      <td>18</td>\n",
       "      <td>78077248</td>\n",
       "      <td>313</td>\n",
       "    </tr>\n",
       "    <tr>\n",
       "      <th>19</th>\n",
       "      <td>20</td>\n",
       "      <td>63025520</td>\n",
       "      <td>253</td>\n",
       "    </tr>\n",
       "    <tr>\n",
       "      <th>20</th>\n",
       "      <td>Y</td>\n",
       "      <td>59373566</td>\n",
       "      <td>238</td>\n",
       "    </tr>\n",
       "    <tr>\n",
       "      <th>21</th>\n",
       "      <td>19</td>\n",
       "      <td>59128983</td>\n",
       "      <td>237</td>\n",
       "    </tr>\n",
       "    <tr>\n",
       "      <th>22</th>\n",
       "      <td>22</td>\n",
       "      <td>51304566</td>\n",
       "      <td>206</td>\n",
       "    </tr>\n",
       "    <tr>\n",
       "      <th>23</th>\n",
       "      <td>21</td>\n",
       "      <td>48129895</td>\n",
       "      <td>193</td>\n",
       "    </tr>\n",
       "    <tr>\n",
       "      <th>90</th>\n",
       "      <td>M</td>\n",
       "      <td>16571</td>\n",
       "      <td>1</td>\n",
       "    </tr>\n",
       "  </tbody>\n",
       "</table>\n",
       "</div>"
      ],
      "text/plain": [
       "   chr       size  size_loci\n",
       "0    1  249250621        998\n",
       "1    2  243199373        973\n",
       "2    3  198022430        793\n",
       "3    4  191154276        765\n",
       "4    5  180915260        724\n",
       "5    6  171115067        685\n",
       "6    7  159138663        637\n",
       "7    X  155270560        622\n",
       "8    8  146364022        586\n",
       "9    9  141213431        565\n",
       "10  10  135534747        543\n",
       "11  11  135006516        541\n",
       "12  12  133851895        536\n",
       "13  13  115169878        461\n",
       "14  14  107349540        430\n",
       "15  15  102531392        411\n",
       "16  16   90354753        362\n",
       "17  17   81195210        325\n",
       "18  18   78077248        313\n",
       "19  20   63025520        253\n",
       "20   Y   59373566        238\n",
       "21  19   59128983        237\n",
       "22  22   51304566        206\n",
       "23  21   48129895        193\n",
       "90   M      16571          1"
      ]
     },
     "execution_count": 7,
     "metadata": {},
     "output_type": "execute_result"
    }
   ],
   "source": [
    "# Get chromosome size\n",
    "sizes_filename = '../../data/genome_data/chrom_hg19.sizes'\n",
    "df_sizes = pd.read_csv(sizes_filename, sep = '\\t', header = None, names=['chr','size'])\n",
    "df_sizes['chr'] = df_sizes['chr'].str.split('chr',expand=True)[1]\n",
    "df_sizes['size_loci'] = np.ceil(df_sizes['size']/250000).astype(int)\n",
    "df_sizes = df_sizes[~df_sizes['chr'].str.contains('hap|alt|Un|rand')]\n",
    "df_sizes"
   ]
  },
  {
   "cell_type": "markdown",
   "metadata": {},
   "source": [
    "# Load raw Hi-C data"
   ]
  },
  {
   "cell_type": "code",
   "execution_count": 8,
   "metadata": {},
   "outputs": [],
   "source": [
    "# Load raw data\n",
    "data = np.loadtxt(raw_mat_path, delimiter = '\\t')\n",
    "row_ind = data[:,0]/resol\n",
    "row_ind = row_ind.astype(int)\n",
    "col_ind = data[:,1]/resol\n",
    "col_ind = col_ind.astype(int)\n",
    "contact_values = data[:,2]\n"
   ]
  },
  {
   "cell_type": "code",
   "execution_count": 9,
   "metadata": {},
   "outputs": [
    {
     "name": "stdout",
     "output_type": "stream",
     "text": [
      "Number of loci present for chr1: 531\n",
      "Number of loci present for chr2: 528\n"
     ]
    }
   ],
   "source": [
    "# Safety checks\n",
    "print('Number of loci present for chr1: '+str(len(np.unique(row_ind))))\n",
    "print('Number of loci present for chr2: '+str(len(np.unique(col_ind))))"
   ]
  },
  {
   "cell_type": "code",
   "execution_count": 10,
   "metadata": {},
   "outputs": [
    {
     "data": {
      "image/png": "[encoded data removed]",
      "text/plain": [
       "<Figure size 432x288 with 1 Axes>"
      ]
     },
     "metadata": {
      "needs_background": "light"
     },
     "output_type": "display_data"
    }
   ],
   "source": [
    "# Plot contact values histogram\n",
    "plt.figure()\n",
    "plt.hist(contact_values,50)\n",
    "plt.xlabel('contact values')\n",
    "plt.ylabel('count')\n",
    "plt.yscale('log')\n",
    "plt.show()"
   ]
  },
  {
   "cell_type": "markdown",
   "metadata": {},
   "source": [
    "# Load normalization vectors"
   ]
  },
  {
   "cell_type": "code",
   "execution_count": 11,
   "metadata": {},
   "outputs": [],
   "source": [
    "# Load normalization vectors\n",
    "norm_chr1 = np.loadtxt(KRnorm_chr1_path, delimiter = '\\t')\n",
    "norm_chr2 = np.loadtxt(KRnorm_chr2_path, delimiter = '\\t')"
   ]
  },
  {
   "cell_type": "code",
   "execution_count": 12,
   "metadata": {},
   "outputs": [
    {
     "name": "stdout",
     "output_type": "stream",
     "text": [
      "Length (in loci) of chr1 (from hg19): 543\n",
      "Total number of loci for chr1: 543\n",
      "Length (in loci) of chr2 (from hg19): 541\n",
      "Total number of loci for chr2: 541\n"
     ]
    }
   ],
   "source": [
    "# Safety check (verify if number of loci per chromosome matches hg19 data from UCSC)\n",
    "chr1_size = int(df_sizes[df_sizes['chr']==str(chr1)]['size_loci'])\n",
    "chr2_size = int(df_sizes[df_sizes['chr']==str(chr2)]['size_loci'])\n",
    "print('Length (in loci) of chr1 (from hg19): '+str(chr1_size))\n",
    "print('Total number of loci for chr1: '+str(len(norm_chr1)-1))\n",
    "print('Length (in loci) of chr2 (from hg19): '+str(chr2_size))\n",
    "print('Total number of loci for chr2: '+str(len(norm_chr2)-1))"
   ]
  },
  {
   "cell_type": "markdown",
   "metadata": {},
   "source": [
    "# Normalize raw Hi-C data"
   ]
  },
  {
   "cell_type": "markdown",
   "metadata": {},
   "source": [
    "TODO: Understand why I do not get the same results as Anastasiya after normalization"
   ]
  },
  {
   "cell_type": "code",
   "execution_count": 13,
   "metadata": {},
   "outputs": [
    {
     "data": {
      "text/html": [
       "<div>\n",
       "<style scoped>\n",
       "    .dataframe tbody tr th:only-of-type {\n",
       "        vertical-align: middle;\n",
       "    }\n",
       "\n",
       "    .dataframe tbody tr th {\n",
       "        vertical-align: top;\n",
       "    }\n",
       "\n",
       "    .dataframe thead th {\n",
       "        text-align: right;\n",
       "    }\n",
       "</style>\n",
       "<table border=\"1\" class=\"dataframe\">\n",
       "  <thead>\n",
       "    <tr style=\"text-align: right;\">\n",
       "      <th></th>\n",
       "      <th>locus_chr1</th>\n",
       "      <th>locus_chr2</th>\n",
       "      <th>value</th>\n",
       "    </tr>\n",
       "  </thead>\n",
       "  <tbody>\n",
       "    <tr>\n",
       "      <th>0</th>\n",
       "      <td>0</td>\n",
       "      <td>0</td>\n",
       "      <td>15.0</td>\n",
       "    </tr>\n",
       "    <tr>\n",
       "      <th>1</th>\n",
       "      <td>1</td>\n",
       "      <td>0</td>\n",
       "      <td>7.0</td>\n",
       "    </tr>\n",
       "    <tr>\n",
       "      <th>2</th>\n",
       "      <td>2</td>\n",
       "      <td>0</td>\n",
       "      <td>5.0</td>\n",
       "    </tr>\n",
       "    <tr>\n",
       "      <th>3</th>\n",
       "      <td>3</td>\n",
       "      <td>0</td>\n",
       "      <td>2.0</td>\n",
       "    </tr>\n",
       "    <tr>\n",
       "      <th>4</th>\n",
       "      <td>4</td>\n",
       "      <td>0</td>\n",
       "      <td>2.0</td>\n",
       "    </tr>\n",
       "  </tbody>\n",
       "</table>\n",
       "</div>"
      ],
      "text/plain": [
       "   locus_chr1  locus_chr2  value\n",
       "0           0           0   15.0\n",
       "1           1           0    7.0\n",
       "2           2           0    5.0\n",
       "3           3           0    2.0\n",
       "4           4           0    2.0"
      ]
     },
     "execution_count": 13,
     "metadata": {},
     "output_type": "execute_result"
    }
   ],
   "source": [
    "# Convert Hi-C data to pandas dataframe\n",
    "raw_hic_data = pd.DataFrame(data={'locus_chr1':row_ind,'locus_chr2':col_ind,'value':contact_values})\n",
    "raw_hic_data.head()"
   ]
  },
  {
   "cell_type": "code",
   "execution_count": 14,
   "metadata": {},
   "outputs": [
    {
     "data": {
      "text/html": [
       "<div>\n",
       "<style scoped>\n",
       "    .dataframe tbody tr th:only-of-type {\n",
       "        vertical-align: middle;\n",
       "    }\n",
       "\n",
       "    .dataframe tbody tr th {\n",
       "        vertical-align: top;\n",
       "    }\n",
       "\n",
       "    .dataframe thead th {\n",
       "        text-align: right;\n",
       "    }\n",
       "</style>\n",
       "<table border=\"1\" class=\"dataframe\">\n",
       "  <thead>\n",
       "    <tr style=\"text-align: right;\">\n",
       "      <th></th>\n",
       "      <th>locus_chr1</th>\n",
       "      <th>locus_chr2</th>\n",
       "      <th>value</th>\n",
       "      <th>norm_locus_chr1</th>\n",
       "      <th>norm_locus_chr2</th>\n",
       "    </tr>\n",
       "  </thead>\n",
       "  <tbody>\n",
       "    <tr>\n",
       "      <th>0</th>\n",
       "      <td>0</td>\n",
       "      <td>0</td>\n",
       "      <td>15.0</td>\n",
       "      <td>0.537635</td>\n",
       "      <td>0.445645</td>\n",
       "    </tr>\n",
       "    <tr>\n",
       "      <th>1</th>\n",
       "      <td>1</td>\n",
       "      <td>0</td>\n",
       "      <td>7.0</td>\n",
       "      <td>1.070878</td>\n",
       "      <td>0.445645</td>\n",
       "    </tr>\n",
       "    <tr>\n",
       "      <th>2</th>\n",
       "      <td>2</td>\n",
       "      <td>0</td>\n",
       "      <td>5.0</td>\n",
       "      <td>1.065181</td>\n",
       "      <td>0.445645</td>\n",
       "    </tr>\n",
       "    <tr>\n",
       "      <th>3</th>\n",
       "      <td>3</td>\n",
       "      <td>0</td>\n",
       "      <td>2.0</td>\n",
       "      <td>1.035501</td>\n",
       "      <td>0.445645</td>\n",
       "    </tr>\n",
       "    <tr>\n",
       "      <th>4</th>\n",
       "      <td>4</td>\n",
       "      <td>0</td>\n",
       "      <td>2.0</td>\n",
       "      <td>1.006773</td>\n",
       "      <td>0.445645</td>\n",
       "    </tr>\n",
       "  </tbody>\n",
       "</table>\n",
       "</div>"
      ],
      "text/plain": [
       "   locus_chr1  locus_chr2  value  norm_locus_chr1  norm_locus_chr2\n",
       "0           0           0   15.0         0.537635         0.445645\n",
       "1           1           0    7.0         1.070878         0.445645\n",
       "2           2           0    5.0         1.065181         0.445645\n",
       "3           3           0    2.0         1.035501         0.445645\n",
       "4           4           0    2.0         1.006773         0.445645"
      ]
     },
     "execution_count": 14,
     "metadata": {},
     "output_type": "execute_result"
    }
   ],
   "source": [
    "# Add columns corresponding to the normalizing factors for each entry\n",
    "raw_hic_data['norm_locus_chr1'] = norm_chr1[raw_hic_data['locus_chr1']]\n",
    "raw_hic_data['norm_locus_chr2'] = norm_chr2[raw_hic_data['locus_chr2']]\n",
    "raw_hic_data.head()"
   ]
  },
  {
   "cell_type": "code",
   "execution_count": 15,
   "metadata": {},
   "outputs": [
    {
     "data": {
      "text/html": [
       "<div>\n",
       "<style scoped>\n",
       "    .dataframe tbody tr th:only-of-type {\n",
       "        vertical-align: middle;\n",
       "    }\n",
       "\n",
       "    .dataframe tbody tr th {\n",
       "        vertical-align: top;\n",
       "    }\n",
       "\n",
       "    .dataframe thead th {\n",
       "        text-align: right;\n",
       "    }\n",
       "</style>\n",
       "<table border=\"1\" class=\"dataframe\">\n",
       "  <thead>\n",
       "    <tr style=\"text-align: right;\">\n",
       "      <th></th>\n",
       "      <th>locus_chr1</th>\n",
       "      <th>locus_chr2</th>\n",
       "      <th>value</th>\n",
       "      <th>norm_locus_chr1</th>\n",
       "      <th>norm_locus_chr2</th>\n",
       "      <th>norm_value</th>\n",
       "    </tr>\n",
       "  </thead>\n",
       "  <tbody>\n",
       "    <tr>\n",
       "      <th>0</th>\n",
       "      <td>0</td>\n",
       "      <td>0</td>\n",
       "      <td>15.0</td>\n",
       "      <td>0.537635</td>\n",
       "      <td>0.445645</td>\n",
       "      <td>62.605896</td>\n",
       "    </tr>\n",
       "    <tr>\n",
       "      <th>1</th>\n",
       "      <td>1</td>\n",
       "      <td>0</td>\n",
       "      <td>7.0</td>\n",
       "      <td>1.070878</td>\n",
       "      <td>0.445645</td>\n",
       "      <td>14.667944</td>\n",
       "    </tr>\n",
       "    <tr>\n",
       "      <th>2</th>\n",
       "      <td>2</td>\n",
       "      <td>0</td>\n",
       "      <td>5.0</td>\n",
       "      <td>1.065181</td>\n",
       "      <td>0.445645</td>\n",
       "      <td>10.533145</td>\n",
       "    </tr>\n",
       "    <tr>\n",
       "      <th>3</th>\n",
       "      <td>3</td>\n",
       "      <td>0</td>\n",
       "      <td>2.0</td>\n",
       "      <td>1.035501</td>\n",
       "      <td>0.445645</td>\n",
       "      <td>4.334021</td>\n",
       "    </tr>\n",
       "    <tr>\n",
       "      <th>4</th>\n",
       "      <td>4</td>\n",
       "      <td>0</td>\n",
       "      <td>2.0</td>\n",
       "      <td>1.006773</td>\n",
       "      <td>0.445645</td>\n",
       "      <td>4.457689</td>\n",
       "    </tr>\n",
       "  </tbody>\n",
       "</table>\n",
       "</div>"
      ],
      "text/plain": [
       "   locus_chr1  locus_chr2  value  norm_locus_chr1  norm_locus_chr2  norm_value\n",
       "0           0           0   15.0         0.537635         0.445645   62.605896\n",
       "1           1           0    7.0         1.070878         0.445645   14.667944\n",
       "2           2           0    5.0         1.065181         0.445645   10.533145\n",
       "3           3           0    2.0         1.035501         0.445645    4.334021\n",
       "4           4           0    2.0         1.006773         0.445645    4.457689"
      ]
     },
     "execution_count": 15,
     "metadata": {},
     "output_type": "execute_result"
    }
   ],
   "source": [
    "# Create normalized value\n",
    "raw_hic_data['norm_value'] = raw_hic_data['value']/(raw_hic_data['norm_locus_chr1']*raw_hic_data['norm_locus_chr2'])\n",
    "raw_hic_data.head()"
   ]
  },
  {
   "cell_type": "code",
   "execution_count": 16,
   "metadata": {},
   "outputs": [
    {
     "name": "stdout",
     "output_type": "stream",
     "text": [
      "Number of NaN normalized values: 14\n"
     ]
    }
   ],
   "source": [
    "# Number of NaN normalized values\n",
    "print('Number of NaN normalized values: '+str(np.sum(np.isnan(raw_hic_data['norm_value']))))"
   ]
  },
  {
   "cell_type": "code",
   "execution_count": 17,
   "metadata": {},
   "outputs": [
    {
     "name": "stderr",
     "output_type": "stream",
     "text": [
      "/home/louiscam/anaconda3/lib/python3.7/site-packages/numpy/lib/histograms.py:829: RuntimeWarning: invalid value encountered in greater_equal\n",
      "  keep = (tmp_a >= first_edge)\n",
      "/home/louiscam/anaconda3/lib/python3.7/site-packages/numpy/lib/histograms.py:830: RuntimeWarning: invalid value encountered in less_equal\n",
      "  keep &= (tmp_a <= last_edge)\n"
     ]
    },
    {
     "data": {
      "image/png": "[encoded data removed]",
      "text/plain": [
       "<Figure size 432x288 with 1 Axes>"
      ]
     },
     "metadata": {
      "needs_background": "light"
     },
     "output_type": "display_data"
    }
   ],
   "source": [
    "# Plot normalized contact values histogram\n",
    "plt.figure()\n",
    "plt.hist(raw_hic_data['norm_value'],50)\n",
    "plt.xlabel('normalized contact values')\n",
    "plt.ylabel('count')\n",
    "plt.yscale('log')\n",
    "plt.show()"
   ]
  },
  {
   "cell_type": "code",
   "execution_count": 18,
   "metadata": {},
   "outputs": [],
   "source": [
    "# Save Hi-C dataframe to csv\n",
    "filename = data_dir+'chr'+str(chr1)+'_'+str(chr2)+'_'+resol_str+'.KRobserved'\n",
    "raw_hic_data.to_csv(filename, sep='\\t', na_rep='', header=True)"
   ]
  },
  {
   "cell_type": "markdown",
   "metadata": {},
   "source": [
    "# Form dense Hi-C dataframe"
   ]
  },
  {
   "cell_type": "code",
   "execution_count": 19,
   "metadata": {},
   "outputs": [
    {
     "data": {
      "text/html": [
       "<div>\n",
       "<style scoped>\n",
       "    .dataframe tbody tr th:only-of-type {\n",
       "        vertical-align: middle;\n",
       "    }\n",
       "\n",
       "    .dataframe tbody tr th {\n",
       "        vertical-align: top;\n",
       "    }\n",
       "\n",
       "    .dataframe thead th {\n",
       "        text-align: right;\n",
       "    }\n",
       "</style>\n",
       "<table border=\"1\" class=\"dataframe\">\n",
       "  <thead>\n",
       "    <tr style=\"text-align: right;\">\n",
       "      <th></th>\n",
       "      <th>0</th>\n",
       "      <th>250000</th>\n",
       "      <th>500000</th>\n",
       "      <th>750000</th>\n",
       "      <th>1000000</th>\n",
       "      <th>1250000</th>\n",
       "      <th>1500000</th>\n",
       "      <th>1750000</th>\n",
       "      <th>2000000</th>\n",
       "      <th>2250000</th>\n",
       "      <th>...</th>\n",
       "      <th>132750000</th>\n",
       "      <th>133000000</th>\n",
       "      <th>133250000</th>\n",
       "      <th>133500000</th>\n",
       "      <th>133750000</th>\n",
       "      <th>134000000</th>\n",
       "      <th>134250000</th>\n",
       "      <th>134500000</th>\n",
       "      <th>134750000</th>\n",
       "      <th>135000000</th>\n",
       "    </tr>\n",
       "  </thead>\n",
       "  <tbody>\n",
       "    <tr>\n",
       "      <th>0</th>\n",
       "      <td>62.605896</td>\n",
       "      <td>16.397430</td>\n",
       "      <td>16.378051</td>\n",
       "      <td>8.793959</td>\n",
       "      <td>5.582416</td>\n",
       "      <td>18.580250</td>\n",
       "      <td>6.116312</td>\n",
       "      <td>6.560183</td>\n",
       "      <td>11.188324</td>\n",
       "      <td>0.000000</td>\n",
       "      <td>...</td>\n",
       "      <td>5.492073</td>\n",
       "      <td>0.000000</td>\n",
       "      <td>0.000000</td>\n",
       "      <td>4.359249</td>\n",
       "      <td>5.574047</td>\n",
       "      <td>3.478282</td>\n",
       "      <td>2.188934</td>\n",
       "      <td>3.945192</td>\n",
       "      <td>5.378288</td>\n",
       "      <td>0.0</td>\n",
       "    </tr>\n",
       "    <tr>\n",
       "      <th>250000</th>\n",
       "      <td>14.667944</td>\n",
       "      <td>14.112574</td>\n",
       "      <td>10.571921</td>\n",
       "      <td>8.830019</td>\n",
       "      <td>7.006634</td>\n",
       "      <td>1.332603</td>\n",
       "      <td>3.070696</td>\n",
       "      <td>6.587084</td>\n",
       "      <td>3.370261</td>\n",
       "      <td>3.769851</td>\n",
       "      <td>...</td>\n",
       "      <td>0.919099</td>\n",
       "      <td>0.000000</td>\n",
       "      <td>1.071314</td>\n",
       "      <td>2.188562</td>\n",
       "      <td>1.865635</td>\n",
       "      <td>4.365681</td>\n",
       "      <td>3.296866</td>\n",
       "      <td>3.961369</td>\n",
       "      <td>0.000000</td>\n",
       "      <td>0.0</td>\n",
       "    </tr>\n",
       "    <tr>\n",
       "      <th>500000</th>\n",
       "      <td>10.533145</td>\n",
       "      <td>16.552739</td>\n",
       "      <td>4.723765</td>\n",
       "      <td>11.096564</td>\n",
       "      <td>8.452935</td>\n",
       "      <td>5.358924</td>\n",
       "      <td>5.145203</td>\n",
       "      <td>5.518598</td>\n",
       "      <td>4.517718</td>\n",
       "      <td>5.685025</td>\n",
       "      <td>...</td>\n",
       "      <td>0.000000</td>\n",
       "      <td>0.000000</td>\n",
       "      <td>0.000000</td>\n",
       "      <td>1.100134</td>\n",
       "      <td>4.689035</td>\n",
       "      <td>0.877807</td>\n",
       "      <td>0.000000</td>\n",
       "      <td>1.991279</td>\n",
       "      <td>2.714614</td>\n",
       "      <td>0.0</td>\n",
       "    </tr>\n",
       "    <tr>\n",
       "      <th>750000</th>\n",
       "      <td>4.334021</td>\n",
       "      <td>8.513592</td>\n",
       "      <td>4.859160</td>\n",
       "      <td>4.565848</td>\n",
       "      <td>5.796812</td>\n",
       "      <td>5.512525</td>\n",
       "      <td>4.234142</td>\n",
       "      <td>3.406066</td>\n",
       "      <td>2.323604</td>\n",
       "      <td>5.847972</td>\n",
       "      <td>...</td>\n",
       "      <td>1.901000</td>\n",
       "      <td>0.000000</td>\n",
       "      <td>0.000000</td>\n",
       "      <td>0.000000</td>\n",
       "      <td>1.929374</td>\n",
       "      <td>4.514835</td>\n",
       "      <td>4.546004</td>\n",
       "      <td>0.000000</td>\n",
       "      <td>2.792422</td>\n",
       "      <td>0.0</td>\n",
       "    </tr>\n",
       "    <tr>\n",
       "      <th>1000000</th>\n",
       "      <td>4.457689</td>\n",
       "      <td>5.003727</td>\n",
       "      <td>2.498907</td>\n",
       "      <td>4.696132</td>\n",
       "      <td>4.471665</td>\n",
       "      <td>4.252366</td>\n",
       "      <td>3.266220</td>\n",
       "      <td>3.503255</td>\n",
       "      <td>5.974766</td>\n",
       "      <td>2.004947</td>\n",
       "      <td>...</td>\n",
       "      <td>1.955244</td>\n",
       "      <td>3.367685</td>\n",
       "      <td>0.000000</td>\n",
       "      <td>2.327917</td>\n",
       "      <td>4.961068</td>\n",
       "      <td>5.572395</td>\n",
       "      <td>1.168930</td>\n",
       "      <td>5.267008</td>\n",
       "      <td>1.436051</td>\n",
       "      <td>0.0</td>\n",
       "    </tr>\n",
       "  </tbody>\n",
       "</table>\n",
       "<p>5 rows × 541 columns</p>\n",
       "</div>"
      ],
      "text/plain": [
       "         0          250000     500000     750000     1000000    1250000    \\\n",
       "0        62.605896  16.397430  16.378051   8.793959   5.582416  18.580250   \n",
       "250000   14.667944  14.112574  10.571921   8.830019   7.006634   1.332603   \n",
       "500000   10.533145  16.552739   4.723765  11.096564   8.452935   5.358924   \n",
       "750000    4.334021   8.513592   4.859160   4.565848   5.796812   5.512525   \n",
       "1000000   4.457689   5.003727   2.498907   4.696132   4.471665   4.252366   \n",
       "\n",
       "         1500000    1750000    2000000    2250000      ...      132750000  \\\n",
       "0         6.116312   6.560183  11.188324   0.000000    ...       5.492073   \n",
       "250000    3.070696   6.587084   3.370261   3.769851    ...       0.919099   \n",
       "500000    5.145203   5.518598   4.517718   5.685025    ...       0.000000   \n",
       "750000    4.234142   3.406066   2.323604   5.847972    ...       1.901000   \n",
       "1000000   3.266220   3.503255   5.974766   2.004947    ...       1.955244   \n",
       "\n",
       "         133000000  133250000  133500000  133750000  134000000  134250000  \\\n",
       "0         0.000000   0.000000   4.359249   5.574047   3.478282   2.188934   \n",
       "250000    0.000000   1.071314   2.188562   1.865635   4.365681   3.296866   \n",
       "500000    0.000000   0.000000   1.100134   4.689035   0.877807   0.000000   \n",
       "750000    0.000000   0.000000   0.000000   1.929374   4.514835   4.546004   \n",
       "1000000   3.367685   0.000000   2.327917   4.961068   5.572395   1.168930   \n",
       "\n",
       "         134500000  134750000  135000000  \n",
       "0         3.945192   5.378288        0.0  \n",
       "250000    3.961369   0.000000        0.0  \n",
       "500000    1.991279   2.714614        0.0  \n",
       "750000    0.000000   2.792422        0.0  \n",
       "1000000   5.267008   1.436051        0.0  \n",
       "\n",
       "[5 rows x 541 columns]"
      ]
     },
     "execution_count": 19,
     "metadata": {},
     "output_type": "execute_result"
    }
   ],
   "source": [
    "# Create dense Hi-C dataframe\n",
    "hic_matrix = csr_matrix((raw_hic_data['norm_value'], (raw_hic_data['locus_chr1'], raw_hic_data['locus_chr2'])), \n",
    "                        shape = (chr1_size, chr2_size))\n",
    "hic_dense = np.asarray(hic_matrix.todense())\n",
    "row_labels = np.arange(chr1_size)*resol\n",
    "col_labels = np.arange(chr2_size)*resol\n",
    "df = pd.DataFrame(hic_dense, index = row_labels, columns = col_labels)\n",
    "df = df.fillna(0)\n",
    "df.head()"
   ]
  },
  {
   "cell_type": "markdown",
   "metadata": {},
   "source": [
    "# Plot normalized Hi-C matrix"
   ]
  },
  {
   "cell_type": "code",
   "execution_count": 20,
   "metadata": {},
   "outputs": [],
   "source": [
    "# Helper functions\n",
    "def map_rownum2pos(df, row_num):\n",
    "    positions = df.index.values\n",
    "    return positions[row_num]\n",
    "\n",
    "def map_colnum2pos(df, col_num):\n",
    "    positions = df.columns.values\n",
    "    return float(positions[col_num])"
   ]
  },
  {
   "cell_type": "code",
   "execution_count": 21,
   "metadata": {},
   "outputs": [
    {
     "name": "stderr",
     "output_type": "stream",
     "text": [
      "/home/louiscam/anaconda3/lib/python3.7/site-packages/ipykernel_launcher.py:2: FutureWarning: Method .as_matrix will be removed in a future version. Use .values instead.\n",
      "  \n"
     ]
    },
    {
     "data": {
      "image/png": "[encoded data removed]",
      "text/plain": [
       "<Figure size 432x288 with 2 Axes>"
      ]
     },
     "metadata": {
      "needs_background": "light"
     },
     "output_type": "display_data"
    }
   ],
   "source": [
    "# Plot matrix\n",
    "data = df.as_matrix()\n",
    "plt.figure()\n",
    "plt.imshow(data, cmap = 'Reds')\n",
    "cbar = plt.colorbar()\n",
    "cbar.set_label('balanced contacts')\n",
    "cbar.solids.set_rasterized(True)\n",
    "\n",
    "# label ticks with genomic position (Mb)\n",
    "xaxis = range(0, df.shape[1], 100)\n",
    "xlabels = [str(map_colnum2pos(df, x)/1000000.0) for x in xaxis]\n",
    "plt.xticks(xaxis, xlabels)\n",
    "yaxis = range(0, df.shape[0], 100)\n",
    "ylabels = [str(map_rownum2pos(df, y)/1000000.0) for y in yaxis]\n",
    "plt.yticks(yaxis, ylabels)\n",
    "\n",
    "plt.xlabel('chr' + str(chr2) + ' (Mb)', fontsize = 14)\n",
    "plt.ylabel('chr' + str(chr1) + ' (Mb)', fontsize = 14)\n",
    "\n",
    "plt.show()"
   ]
  },
  {
   "cell_type": "markdown",
   "metadata": {},
   "source": [
    "# Filter out peri-centromeric regions"
   ]
  },
  {
   "cell_type": "markdown",
   "metadata": {},
   "source": [
    "Centromeric regions can be obtained from http://genome.ucsc.edu/cgi-bin/hgTables using the following filters:\n",
    "- clade: mammal  \n",
    "- genome: human  \n",
    "- assembly: Feb 2009  \n",
    "- group: mapping and sequencing tracks  \n",
    "- track: gap  \n",
    "- table: gap  \n",
    "- region: genome  \n",
    "- output format: all fields from selected table  \n",
    "- filter: does match \"centromere\""
   ]
  },
  {
   "cell_type": "code",
   "execution_count": 24,
   "metadata": {},
   "outputs": [
    {
     "data": {
      "text/html": [
       "<div>\n",
       "<style scoped>\n",
       "    .dataframe tbody tr th:only-of-type {\n",
       "        vertical-align: middle;\n",
       "    }\n",
       "\n",
       "    .dataframe tbody tr th {\n",
       "        vertical-align: top;\n",
       "    }\n",
       "\n",
       "    .dataframe thead th {\n",
       "        text-align: right;\n",
       "    }\n",
       "</style>\n",
       "<table border=\"1\" class=\"dataframe\">\n",
       "  <thead>\n",
       "    <tr style=\"text-align: right;\">\n",
       "      <th></th>\n",
       "      <th>bin</th>\n",
       "      <th>chrom</th>\n",
       "      <th>chromStart</th>\n",
       "      <th>chromEnd</th>\n",
       "      <th>ix</th>\n",
       "      <th>n</th>\n",
       "      <th>size</th>\n",
       "      <th>type</th>\n",
       "      <th>bridge</th>\n",
       "    </tr>\n",
       "  </thead>\n",
       "  <tbody>\n",
       "    <tr>\n",
       "      <th>0</th>\n",
       "      <td>23</td>\n",
       "      <td>chr1</td>\n",
       "      <td>121535434</td>\n",
       "      <td>124535434</td>\n",
       "      <td>1270</td>\n",
       "      <td>N</td>\n",
       "      <td>3000000</td>\n",
       "      <td>centromere</td>\n",
       "      <td>no</td>\n",
       "    </tr>\n",
       "    <tr>\n",
       "      <th>1</th>\n",
       "      <td>20</td>\n",
       "      <td>chr2</td>\n",
       "      <td>92326171</td>\n",
       "      <td>95326171</td>\n",
       "      <td>770</td>\n",
       "      <td>N</td>\n",
       "      <td>3000000</td>\n",
       "      <td>centromere</td>\n",
       "      <td>no</td>\n",
       "    </tr>\n",
       "    <tr>\n",
       "      <th>2</th>\n",
       "      <td>2</td>\n",
       "      <td>chr3</td>\n",
       "      <td>90504854</td>\n",
       "      <td>93504854</td>\n",
       "      <td>784</td>\n",
       "      <td>N</td>\n",
       "      <td>3000000</td>\n",
       "      <td>centromere</td>\n",
       "      <td>no</td>\n",
       "    </tr>\n",
       "    <tr>\n",
       "      <th>3</th>\n",
       "      <td>1</td>\n",
       "      <td>chr4</td>\n",
       "      <td>49660117</td>\n",
       "      <td>52660117</td>\n",
       "      <td>447</td>\n",
       "      <td>N</td>\n",
       "      <td>3000000</td>\n",
       "      <td>centromere</td>\n",
       "      <td>no</td>\n",
       "    </tr>\n",
       "    <tr>\n",
       "      <th>4</th>\n",
       "      <td>14</td>\n",
       "      <td>chr5</td>\n",
       "      <td>46405641</td>\n",
       "      <td>49405641</td>\n",
       "      <td>452</td>\n",
       "      <td>N</td>\n",
       "      <td>3000000</td>\n",
       "      <td>centromere</td>\n",
       "      <td>no</td>\n",
       "    </tr>\n",
       "  </tbody>\n",
       "</table>\n",
       "</div>"
      ],
      "text/plain": [
       "   bin chrom  chromStart   chromEnd    ix  n     size        type bridge\n",
       "0   23  chr1   121535434  124535434  1270  N  3000000  centromere     no\n",
       "1   20  chr2    92326171   95326171   770  N  3000000  centromere     no\n",
       "2    2  chr3    90504854   93504854   784  N  3000000  centromere     no\n",
       "3    1  chr4    49660117   52660117   447  N  3000000  centromere     no\n",
       "4   14  chr5    46405641   49405641   452  N  3000000  centromere     no"
      ]
     },
     "execution_count": 24,
     "metadata": {},
     "output_type": "execute_result"
    }
   ],
   "source": [
    "# Get centromeric locations\n",
    "centrom_filename = '../../data/genome_data/chrom_hg19.centromeres'\n",
    "df_centrom = pd.read_csv(centrom_filename, sep = '\\t')\n",
    "df_centrom.head()"
   ]
  },
  {
   "cell_type": "code",
   "execution_count": 25,
   "metadata": {},
   "outputs": [],
   "source": [
    "# For chromosome chr1\n",
    "filter_size = 2000000\n",
    "chr_data = df_centrom[df_centrom['chrom'] == 'chr' + str(chr1)]\n",
    "centrom_start = int(math.floor(float(chr_data['chromStart'])/resol)*resol)\n",
    "centrom_end = int(math.ceil(float(chr_data['chromEnd'])/resol)*resol)\n",
    "centrom_start = centrom_start - filter_size\n",
    "centrom_end = centrom_end + filter_size\n",
    "df.loc[centrom_start:centrom_end, :] = 0"
   ]
  },
  {
   "cell_type": "code",
   "execution_count": 26,
   "metadata": {},
   "outputs": [],
   "source": [
    "# For chromosome chr2\n",
    "filter_size = 2000000\n",
    "chr_data = df_centrom[df_centrom['chrom'] == 'chr' + str(chr2)]\n",
    "centrom_start = int(math.floor(float(chr_data['chromStart'])/resol)*resol)\n",
    "centrom_end = int(math.ceil(float(chr_data['chromEnd'])/resol)*resol)\n",
    "centrom_start = centrom_start - filter_size\n",
    "centrom_end = centrom_end + filter_size\n",
    "df.loc[:,centrom_start:centrom_end] = 0"
   ]
  },
  {
   "cell_type": "code",
   "execution_count": 27,
   "metadata": {},
   "outputs": [
    {
     "name": "stderr",
     "output_type": "stream",
     "text": [
      "/home/louiscam/anaconda3/lib/python3.7/site-packages/ipykernel_launcher.py:2: FutureWarning: Method .as_matrix will be removed in a future version. Use .values instead.\n",
      "  \n"
     ]
    },
    {
     "data": {
      "image/png": "[encoded data removed]",
      "text/plain": [
       "<Figure size 432x288 with 2 Axes>"
      ]
     },
     "metadata": {
      "needs_background": "light"
     },
     "output_type": "display_data"
    }
   ],
   "source": [
    "# Plot matrix\n",
    "data = df.as_matrix()\n",
    "plt.figure()\n",
    "plt.imshow(data, cmap = 'Reds')\n",
    "cbar = plt.colorbar()\n",
    "cbar.set_label('balanced contacts')\n",
    "cbar.solids.set_rasterized(True)\n",
    "\n",
    "# label ticks with genomic position (Mb)\n",
    "xaxis = range(0, df.shape[1], 100)\n",
    "xlabels = [str(map_colnum2pos(df, x)/1000000.0) for x in xaxis]\n",
    "plt.xticks(xaxis, xlabels)\n",
    "yaxis = range(0, df.shape[0], 100)\n",
    "ylabels = [str(map_rownum2pos(df, y)/1000000.0) for y in yaxis]\n",
    "plt.yticks(yaxis, ylabels)\n",
    "\n",
    "plt.xlabel('chr' + str(chr2) + ' (Mb)', fontsize = 14)\n",
    "plt.ylabel('chr' + str(chr1) + ' (Mb)', fontsize = 14)\n",
    "\n",
    "plt.show()"
   ]
  },
  {
   "cell_type": "markdown",
   "metadata": {},
   "source": [
    "# Filter out repeat regions"
   ]
  },
  {
   "cell_type": "markdown",
   "metadata": {},
   "source": [
    "- Repeat regions of the human genome can be obtained from http://hgdownload.cse.ucsc.edu/goldenpath/hg19/database/\n",
    "- The corresponding table schema is located at https://genome.ucsc.edu/cgi-bin/hgTables?db=hg19&hgta_group=rep&hgta_track=rmsk&hgta_table=rmsk&hgta_doSchema=describe+table+schema\n",
    "- Interpretation of some fields can be found at: https://hgdownload.cse.ucsc.edu/goldenPath/hg19/bigZips/\n",
    "\n",
    "TODO: determine what chromosomes I should filter out or not"
   ]
  },
  {
   "cell_type": "code",
   "execution_count": 28,
   "metadata": {},
   "outputs": [
    {
     "data": {
      "text/html": [
       "<div>\n",
       "<style scoped>\n",
       "    .dataframe tbody tr th:only-of-type {\n",
       "        vertical-align: middle;\n",
       "    }\n",
       "\n",
       "    .dataframe tbody tr th {\n",
       "        vertical-align: top;\n",
       "    }\n",
       "\n",
       "    .dataframe thead th {\n",
       "        text-align: right;\n",
       "    }\n",
       "</style>\n",
       "<table border=\"1\" class=\"dataframe\">\n",
       "  <thead>\n",
       "    <tr style=\"text-align: right;\">\n",
       "      <th></th>\n",
       "      <th>bin</th>\n",
       "      <th>swScore</th>\n",
       "      <th>milliDiv</th>\n",
       "      <th>milliDel</th>\n",
       "      <th>milliIns</th>\n",
       "      <th>genoname</th>\n",
       "      <th>genoStart</th>\n",
       "      <th>genoEnd</th>\n",
       "      <th>genoLeft</th>\n",
       "      <th>strand</th>\n",
       "      <th>repname</th>\n",
       "      <th>repClass</th>\n",
       "      <th>repFamily</th>\n",
       "      <th>repStart</th>\n",
       "      <th>repEnd</th>\n",
       "      <th>repLeft</th>\n",
       "      <th>id</th>\n",
       "    </tr>\n",
       "  </thead>\n",
       "  <tbody>\n",
       "    <tr>\n",
       "      <th>0</th>\n",
       "      <td>585</td>\n",
       "      <td>1504</td>\n",
       "      <td>13</td>\n",
       "      <td>4</td>\n",
       "      <td>13</td>\n",
       "      <td>chr1</td>\n",
       "      <td>10000</td>\n",
       "      <td>10468</td>\n",
       "      <td>-249240153</td>\n",
       "      <td>+</td>\n",
       "      <td>(CCCTAA)n</td>\n",
       "      <td>Simple_repeat</td>\n",
       "      <td>Simple_repeat</td>\n",
       "      <td>1</td>\n",
       "      <td>463</td>\n",
       "      <td>0</td>\n",
       "      <td>1</td>\n",
       "    </tr>\n",
       "    <tr>\n",
       "      <th>1</th>\n",
       "      <td>585</td>\n",
       "      <td>3612</td>\n",
       "      <td>114</td>\n",
       "      <td>270</td>\n",
       "      <td>13</td>\n",
       "      <td>chr1</td>\n",
       "      <td>10468</td>\n",
       "      <td>11447</td>\n",
       "      <td>-249239174</td>\n",
       "      <td>-</td>\n",
       "      <td>TAR1</td>\n",
       "      <td>Satellite</td>\n",
       "      <td>telo</td>\n",
       "      <td>-399</td>\n",
       "      <td>1712</td>\n",
       "      <td>483</td>\n",
       "      <td>2</td>\n",
       "    </tr>\n",
       "    <tr>\n",
       "      <th>2</th>\n",
       "      <td>585</td>\n",
       "      <td>437</td>\n",
       "      <td>235</td>\n",
       "      <td>186</td>\n",
       "      <td>35</td>\n",
       "      <td>chr1</td>\n",
       "      <td>11503</td>\n",
       "      <td>11675</td>\n",
       "      <td>-249238946</td>\n",
       "      <td>-</td>\n",
       "      <td>L1MC</td>\n",
       "      <td>LINE</td>\n",
       "      <td>L1</td>\n",
       "      <td>-2236</td>\n",
       "      <td>5646</td>\n",
       "      <td>5449</td>\n",
       "      <td>3</td>\n",
       "    </tr>\n",
       "    <tr>\n",
       "      <th>3</th>\n",
       "      <td>585</td>\n",
       "      <td>239</td>\n",
       "      <td>294</td>\n",
       "      <td>19</td>\n",
       "      <td>10</td>\n",
       "      <td>chr1</td>\n",
       "      <td>11677</td>\n",
       "      <td>11780</td>\n",
       "      <td>-249238841</td>\n",
       "      <td>-</td>\n",
       "      <td>MER5B</td>\n",
       "      <td>DNA</td>\n",
       "      <td>hAT-Charlie</td>\n",
       "      <td>-74</td>\n",
       "      <td>104</td>\n",
       "      <td>1</td>\n",
       "      <td>4</td>\n",
       "    </tr>\n",
       "    <tr>\n",
       "      <th>4</th>\n",
       "      <td>585</td>\n",
       "      <td>318</td>\n",
       "      <td>230</td>\n",
       "      <td>38</td>\n",
       "      <td>0</td>\n",
       "      <td>chr1</td>\n",
       "      <td>15264</td>\n",
       "      <td>15355</td>\n",
       "      <td>-249235266</td>\n",
       "      <td>-</td>\n",
       "      <td>MIR3</td>\n",
       "      <td>SINE</td>\n",
       "      <td>MIR</td>\n",
       "      <td>-119</td>\n",
       "      <td>143</td>\n",
       "      <td>49</td>\n",
       "      <td>5</td>\n",
       "    </tr>\n",
       "  </tbody>\n",
       "</table>\n",
       "</div>"
      ],
      "text/plain": [
       "   bin  swScore  milliDiv  milliDel  milliIns genoname  genoStart  genoEnd  \\\n",
       "0  585     1504        13         4        13     chr1      10000    10468   \n",
       "1  585     3612       114       270        13     chr1      10468    11447   \n",
       "2  585      437       235       186        35     chr1      11503    11675   \n",
       "3  585      239       294        19        10     chr1      11677    11780   \n",
       "4  585      318       230        38         0     chr1      15264    15355   \n",
       "\n",
       "    genoLeft strand    repname       repClass      repFamily  repStart  \\\n",
       "0 -249240153      +  (CCCTAA)n  Simple_repeat  Simple_repeat         1   \n",
       "1 -249239174      -       TAR1      Satellite           telo      -399   \n",
       "2 -249238946      -       L1MC           LINE             L1     -2236   \n",
       "3 -249238841      -      MER5B            DNA    hAT-Charlie       -74   \n",
       "4 -249235266      -       MIR3           SINE            MIR      -119   \n",
       "\n",
       "   repEnd  repLeft  id  \n",
       "0     463        0   1  \n",
       "1    1712      483   2  \n",
       "2    5646     5449   3  \n",
       "3     104        1   4  \n",
       "4     143       49   5  "
      ]
     },
     "execution_count": 28,
     "metadata": {},
     "output_type": "execute_result"
    }
   ],
   "source": [
    "# Load table of repeats\n",
    "repeats_file_path = '../../data/genome_data/rmsk.txt'\n",
    "repeats_colnames = ['bin','swScore','milliDiv','milliDel','milliIns','genoname','genoStart','genoEnd',\n",
    "                    'genoLeft','strand','repname','repClass','repFamily','repStart','repEnd','repLeft','id']\n",
    "df_repeats0 = pd.read_csv(repeats_file_path, header=None , sep= '\\t', names = repeats_colnames)\n",
    "df_repeats0.head()"
   ]
  },
  {
   "cell_type": "code",
   "execution_count": 29,
   "metadata": {},
   "outputs": [
    {
     "name": "stdout",
     "output_type": "stream",
     "text": [
      "Number of repeats longer than resolution: 0\n"
     ]
    },
    {
     "data": {
      "text/html": [
       "<div>\n",
       "<style scoped>\n",
       "    .dataframe tbody tr th:only-of-type {\n",
       "        vertical-align: middle;\n",
       "    }\n",
       "\n",
       "    .dataframe tbody tr th {\n",
       "        vertical-align: top;\n",
       "    }\n",
       "\n",
       "    .dataframe thead th {\n",
       "        text-align: right;\n",
       "    }\n",
       "</style>\n",
       "<table border=\"1\" class=\"dataframe\">\n",
       "  <thead>\n",
       "    <tr style=\"text-align: right;\">\n",
       "      <th></th>\n",
       "      <th>genoname</th>\n",
       "      <th>genoStart</th>\n",
       "      <th>genoEnd</th>\n",
       "      <th>repLength</th>\n",
       "    </tr>\n",
       "  </thead>\n",
       "  <tbody>\n",
       "    <tr>\n",
       "      <th>0</th>\n",
       "      <td>chr1</td>\n",
       "      <td>10000</td>\n",
       "      <td>10468</td>\n",
       "      <td>468</td>\n",
       "    </tr>\n",
       "    <tr>\n",
       "      <th>1</th>\n",
       "      <td>chr1</td>\n",
       "      <td>10468</td>\n",
       "      <td>11447</td>\n",
       "      <td>979</td>\n",
       "    </tr>\n",
       "    <tr>\n",
       "      <th>2</th>\n",
       "      <td>chr1</td>\n",
       "      <td>11503</td>\n",
       "      <td>11675</td>\n",
       "      <td>172</td>\n",
       "    </tr>\n",
       "    <tr>\n",
       "      <th>3</th>\n",
       "      <td>chr1</td>\n",
       "      <td>11677</td>\n",
       "      <td>11780</td>\n",
       "      <td>103</td>\n",
       "    </tr>\n",
       "    <tr>\n",
       "      <th>4</th>\n",
       "      <td>chr1</td>\n",
       "      <td>15264</td>\n",
       "      <td>15355</td>\n",
       "      <td>91</td>\n",
       "    </tr>\n",
       "  </tbody>\n",
       "</table>\n",
       "</div>"
      ],
      "text/plain": [
       "  genoname  genoStart  genoEnd  repLength\n",
       "0     chr1      10000    10468        468\n",
       "1     chr1      10468    11447        979\n",
       "2     chr1      11503    11675        172\n",
       "3     chr1      11677    11780        103\n",
       "4     chr1      15264    15355         91"
      ]
     },
     "execution_count": 29,
     "metadata": {},
     "output_type": "execute_result"
    }
   ],
   "source": [
    "# Select relevant columns\n",
    "df_repeats = df_repeats0[['genoname','genoStart','genoEnd']]\n",
    "# Add column with length of repeat\n",
    "df_repeats.insert(3,'repLength', df_repeats['genoEnd']-df_repeats['genoStart'], True)\n",
    "print('Number of repeats longer than resolution: '+str(sum(df_repeats['repLength']>resol)))\n",
    "df_repeats.head()"
   ]
  },
  {
   "cell_type": "code",
   "execution_count": 30,
   "metadata": {},
   "outputs": [
    {
     "name": "stdout",
     "output_type": "stream",
     "text": [
      "Chromosomes in data table: ['chr1' 'chr10' 'chr11' 'chr12' 'chr13' 'chr14' 'chr15' 'chr16' 'chr17'\n",
      " 'chr18' 'chr19' 'chr2' 'chr20' 'chr21' 'chr22' 'chr3' 'chr4' 'chr5'\n",
      " 'chr6' 'chr7' 'chr8' 'chr9' 'chrM' 'chrMT' 'chrX' 'chrY']\n"
     ]
    }
   ],
   "source": [
    "# Filter out alt, fix, random, Un chromosomes\n",
    "df_repeats = df_repeats[~df_repeats['genoname'].str.contains('alt|fix|rand|Un|hap')]\n",
    "df_repeats_bed = pybedtools.BedTool.from_dataframe(df_repeats)\n",
    "print('Chromosomes in data table: '+str(np.unique(df_repeats['genoname'])))"
   ]
  },
  {
   "cell_type": "markdown",
   "metadata": {},
   "source": [
    "## Filter out repeats for chr1"
   ]
  },
  {
   "cell_type": "code",
   "execution_count": 36,
   "metadata": {},
   "outputs": [
    {
     "data": {
      "text/html": [
       "<div>\n",
       "<style scoped>\n",
       "    .dataframe tbody tr th:only-of-type {\n",
       "        vertical-align: middle;\n",
       "    }\n",
       "\n",
       "    .dataframe tbody tr th {\n",
       "        vertical-align: top;\n",
       "    }\n",
       "\n",
       "    .dataframe thead th {\n",
       "        text-align: right;\n",
       "    }\n",
       "</style>\n",
       "<table border=\"1\" class=\"dataframe\">\n",
       "  <thead>\n",
       "    <tr style=\"text-align: right;\">\n",
       "      <th></th>\n",
       "      <th>chr</th>\n",
       "      <th>start</th>\n",
       "      <th>stop</th>\n",
       "    </tr>\n",
       "  </thead>\n",
       "  <tbody>\n",
       "    <tr>\n",
       "      <th>0</th>\n",
       "      <td>chr10</td>\n",
       "      <td>0</td>\n",
       "      <td>250000</td>\n",
       "    </tr>\n",
       "    <tr>\n",
       "      <th>1</th>\n",
       "      <td>chr10</td>\n",
       "      <td>250000</td>\n",
       "      <td>500000</td>\n",
       "    </tr>\n",
       "    <tr>\n",
       "      <th>2</th>\n",
       "      <td>chr10</td>\n",
       "      <td>500000</td>\n",
       "      <td>750000</td>\n",
       "    </tr>\n",
       "    <tr>\n",
       "      <th>3</th>\n",
       "      <td>chr10</td>\n",
       "      <td>750000</td>\n",
       "      <td>1000000</td>\n",
       "    </tr>\n",
       "    <tr>\n",
       "      <th>4</th>\n",
       "      <td>chr10</td>\n",
       "      <td>1000000</td>\n",
       "      <td>1250000</td>\n",
       "    </tr>\n",
       "  </tbody>\n",
       "</table>\n",
       "</div>"
      ],
      "text/plain": [
       "     chr    start     stop\n",
       "0  chr10        0   250000\n",
       "1  chr10   250000   500000\n",
       "2  chr10   500000   750000\n",
       "3  chr10   750000  1000000\n",
       "4  chr10  1000000  1250000"
      ]
     },
     "execution_count": 36,
     "metadata": {},
     "output_type": "execute_result"
    }
   ],
   "source": [
    "# Create dataframe of all possible start sites for this chr\n",
    "chr1_size = int(df_sizes[df_sizes['chr']==str(chr1)]['size'])\n",
    "start_regions = range(0, chr1_size, resol)\n",
    "df_chr = pd.DataFrame({'chr':['chr' + str(chr1)]*len(start_regions), 'start':start_regions})\n",
    "df_chr['stop'] = df_chr['start'] + resol\n",
    "df_chr_bed = pybedtools.BedTool.from_dataframe(df_chr)\n",
    "df_chr.head()"
   ]
  },
  {
   "cell_type": "code",
   "execution_count": 37,
   "metadata": {},
   "outputs": [
    {
     "data": {
      "text/html": [
       "<div>\n",
       "<style scoped>\n",
       "    .dataframe tbody tr th:only-of-type {\n",
       "        vertical-align: middle;\n",
       "    }\n",
       "\n",
       "    .dataframe tbody tr th {\n",
       "        vertical-align: top;\n",
       "    }\n",
       "\n",
       "    .dataframe thead th {\n",
       "        text-align: right;\n",
       "    }\n",
       "</style>\n",
       "<table border=\"1\" class=\"dataframe\">\n",
       "  <thead>\n",
       "    <tr style=\"text-align: right;\">\n",
       "      <th></th>\n",
       "      <th>chr</th>\n",
       "      <th>start</th>\n",
       "      <th>end</th>\n",
       "      <th>bases covered</th>\n",
       "      <th>length intersection</th>\n",
       "      <th>length locus</th>\n",
       "      <th>coverage</th>\n",
       "    </tr>\n",
       "  </thead>\n",
       "  <tbody>\n",
       "    <tr>\n",
       "      <th>0</th>\n",
       "      <td>chr10</td>\n",
       "      <td>0</td>\n",
       "      <td>250000</td>\n",
       "      <td>304</td>\n",
       "      <td>109448</td>\n",
       "      <td>250000</td>\n",
       "      <td>0.437792</td>\n",
       "    </tr>\n",
       "    <tr>\n",
       "      <th>1</th>\n",
       "      <td>chr10</td>\n",
       "      <td>250000</td>\n",
       "      <td>500000</td>\n",
       "      <td>295</td>\n",
       "      <td>71773</td>\n",
       "      <td>250000</td>\n",
       "      <td>0.287092</td>\n",
       "    </tr>\n",
       "    <tr>\n",
       "      <th>2</th>\n",
       "      <td>chr10</td>\n",
       "      <td>500000</td>\n",
       "      <td>750000</td>\n",
       "      <td>272</td>\n",
       "      <td>60628</td>\n",
       "      <td>250000</td>\n",
       "      <td>0.242512</td>\n",
       "    </tr>\n",
       "    <tr>\n",
       "      <th>3</th>\n",
       "      <td>chr10</td>\n",
       "      <td>750000</td>\n",
       "      <td>1000000</td>\n",
       "      <td>436</td>\n",
       "      <td>126014</td>\n",
       "      <td>250000</td>\n",
       "      <td>0.504056</td>\n",
       "    </tr>\n",
       "    <tr>\n",
       "      <th>4</th>\n",
       "      <td>chr10</td>\n",
       "      <td>1000000</td>\n",
       "      <td>1250000</td>\n",
       "      <td>372</td>\n",
       "      <td>95298</td>\n",
       "      <td>250000</td>\n",
       "      <td>0.381192</td>\n",
       "    </tr>\n",
       "  </tbody>\n",
       "</table>\n",
       "</div>"
      ],
      "text/plain": [
       "     chr    start      end  bases covered  length intersection  length locus  \\\n",
       "0  chr10        0   250000            304               109448        250000   \n",
       "1  chr10   250000   500000            295                71773        250000   \n",
       "2  chr10   500000   750000            272                60628        250000   \n",
       "3  chr10   750000  1000000            436               126014        250000   \n",
       "4  chr10  1000000  1250000            372                95298        250000   \n",
       "\n",
       "   coverage  \n",
       "0  0.437792  \n",
       "1  0.287092  \n",
       "2  0.242512  \n",
       "3  0.504056  \n",
       "4  0.381192  "
      ]
     },
     "execution_count": 37,
     "metadata": {},
     "output_type": "execute_result"
    }
   ],
   "source": [
    "# Compute coverage\n",
    "coverage_chr = df_chr_bed.coverage(df_repeats_bed).to_dataframe(names = ['chr', 'start', 'end', 'bases covered', \n",
    "                                                                         'length intersection', 'length locus', \n",
    "                                                                         'coverage'])\n",
    "coverage_chr.head()"
   ]
  },
  {
   "cell_type": "code",
   "execution_count": 38,
   "metadata": {},
   "outputs": [
    {
     "name": "stdout",
     "output_type": "stream",
     "text": [
      "Quantiles of coverage: [0.        0.2937164 0.3469096 0.3700896 0.3952056 0.410022  0.4239864\n",
      " 0.4383212 0.4525792 0.4724064 0.481564  0.4977752 0.5052584 0.5204428\n",
      " 0.5297328 0.542062  0.5527384 0.5709364 0.5893712 0.6236612]\n"
     ]
    },
    {
     "data": {
      "image/png": "[encoded data removed]",
      "text/plain": [
       "<Figure size 432x288 with 1 Axes>"
      ]
     },
     "metadata": {
      "needs_background": "light"
     },
     "output_type": "display_data"
    }
   ],
   "source": [
    "# Determine a threshold to filter out loci\n",
    "print('Quantiles of coverage: '+str(np.quantile(a=coverage_chr['coverage'],q=np.arange(0,1,0.05))))\n",
    "threshold = np.quantile(a=coverage_chr['coverage'],q=0.95)\n",
    "plt.figure()\n",
    "plt.hist(coverage_chr['coverage'],50)\n",
    "plt.vlines(x=threshold, ymin=0, ymax=40, color='red')\n",
    "plt.xlabel('coverage values')\n",
    "plt.ylabel('counts')\n",
    "plt.show()"
   ]
  },
  {
   "cell_type": "code",
   "execution_count": 39,
   "metadata": {},
   "outputs": [],
   "source": [
    "# Select loci to filter out\n",
    "regions2filter = coverage_chr[coverage_chr['coverage'] >= threshold]['start'].values"
   ]
  },
  {
   "cell_type": "code",
   "execution_count": 40,
   "metadata": {},
   "outputs": [],
   "source": [
    "# Filter repeats\n",
    "df.loc[regions2filter,:] = 0"
   ]
  },
  {
   "cell_type": "markdown",
   "metadata": {},
   "source": [
    "## Filter out repeat regions of chr2"
   ]
  },
  {
   "cell_type": "code",
   "execution_count": 41,
   "metadata": {},
   "outputs": [
    {
     "data": {
      "text/html": [
       "<div>\n",
       "<style scoped>\n",
       "    .dataframe tbody tr th:only-of-type {\n",
       "        vertical-align: middle;\n",
       "    }\n",
       "\n",
       "    .dataframe tbody tr th {\n",
       "        vertical-align: top;\n",
       "    }\n",
       "\n",
       "    .dataframe thead th {\n",
       "        text-align: right;\n",
       "    }\n",
       "</style>\n",
       "<table border=\"1\" class=\"dataframe\">\n",
       "  <thead>\n",
       "    <tr style=\"text-align: right;\">\n",
       "      <th></th>\n",
       "      <th>chr</th>\n",
       "      <th>start</th>\n",
       "      <th>stop</th>\n",
       "    </tr>\n",
       "  </thead>\n",
       "  <tbody>\n",
       "    <tr>\n",
       "      <th>0</th>\n",
       "      <td>chr11</td>\n",
       "      <td>0</td>\n",
       "      <td>250000</td>\n",
       "    </tr>\n",
       "    <tr>\n",
       "      <th>1</th>\n",
       "      <td>chr11</td>\n",
       "      <td>250000</td>\n",
       "      <td>500000</td>\n",
       "    </tr>\n",
       "    <tr>\n",
       "      <th>2</th>\n",
       "      <td>chr11</td>\n",
       "      <td>500000</td>\n",
       "      <td>750000</td>\n",
       "    </tr>\n",
       "    <tr>\n",
       "      <th>3</th>\n",
       "      <td>chr11</td>\n",
       "      <td>750000</td>\n",
       "      <td>1000000</td>\n",
       "    </tr>\n",
       "    <tr>\n",
       "      <th>4</th>\n",
       "      <td>chr11</td>\n",
       "      <td>1000000</td>\n",
       "      <td>1250000</td>\n",
       "    </tr>\n",
       "  </tbody>\n",
       "</table>\n",
       "</div>"
      ],
      "text/plain": [
       "     chr    start     stop\n",
       "0  chr11        0   250000\n",
       "1  chr11   250000   500000\n",
       "2  chr11   500000   750000\n",
       "3  chr11   750000  1000000\n",
       "4  chr11  1000000  1250000"
      ]
     },
     "execution_count": 41,
     "metadata": {},
     "output_type": "execute_result"
    }
   ],
   "source": [
    "# Create dataframe of all possible start sites for this chr\n",
    "chr2_size = int(df_sizes[df_sizes['chr']==str(chr2)]['size'])\n",
    "start_regions = range(0, chr2_size, resol)\n",
    "df_chr = pd.DataFrame({'chr':['chr' + str(chr2)]*len(start_regions), 'start':start_regions})\n",
    "df_chr['stop'] = df_chr['start'] + resol\n",
    "df_chr_bed = pybedtools.BedTool.from_dataframe(df_chr)\n",
    "df_chr.head()"
   ]
  },
  {
   "cell_type": "code",
   "execution_count": 42,
   "metadata": {},
   "outputs": [
    {
     "data": {
      "text/html": [
       "<div>\n",
       "<style scoped>\n",
       "    .dataframe tbody tr th:only-of-type {\n",
       "        vertical-align: middle;\n",
       "    }\n",
       "\n",
       "    .dataframe tbody tr th {\n",
       "        vertical-align: top;\n",
       "    }\n",
       "\n",
       "    .dataframe thead th {\n",
       "        text-align: right;\n",
       "    }\n",
       "</style>\n",
       "<table border=\"1\" class=\"dataframe\">\n",
       "  <thead>\n",
       "    <tr style=\"text-align: right;\">\n",
       "      <th></th>\n",
       "      <th>chr</th>\n",
       "      <th>start</th>\n",
       "      <th>end</th>\n",
       "      <th>bases covered</th>\n",
       "      <th>length intersection</th>\n",
       "      <th>length locus</th>\n",
       "      <th>coverage</th>\n",
       "    </tr>\n",
       "  </thead>\n",
       "  <tbody>\n",
       "    <tr>\n",
       "      <th>0</th>\n",
       "      <td>chr11</td>\n",
       "      <td>0</td>\n",
       "      <td>250000</td>\n",
       "      <td>349</td>\n",
       "      <td>99218</td>\n",
       "      <td>250000</td>\n",
       "      <td>0.396872</td>\n",
       "    </tr>\n",
       "    <tr>\n",
       "      <th>1</th>\n",
       "      <td>chr11</td>\n",
       "      <td>250000</td>\n",
       "      <td>500000</td>\n",
       "      <td>469</td>\n",
       "      <td>106910</td>\n",
       "      <td>250000</td>\n",
       "      <td>0.427640</td>\n",
       "    </tr>\n",
       "    <tr>\n",
       "      <th>2</th>\n",
       "      <td>chr11</td>\n",
       "      <td>500000</td>\n",
       "      <td>750000</td>\n",
       "      <td>490</td>\n",
       "      <td>100259</td>\n",
       "      <td>250000</td>\n",
       "      <td>0.401036</td>\n",
       "    </tr>\n",
       "    <tr>\n",
       "      <th>3</th>\n",
       "      <td>chr11</td>\n",
       "      <td>750000</td>\n",
       "      <td>1000000</td>\n",
       "      <td>387</td>\n",
       "      <td>78491</td>\n",
       "      <td>250000</td>\n",
       "      <td>0.313964</td>\n",
       "    </tr>\n",
       "    <tr>\n",
       "      <th>4</th>\n",
       "      <td>chr11</td>\n",
       "      <td>1000000</td>\n",
       "      <td>1250000</td>\n",
       "      <td>226</td>\n",
       "      <td>57837</td>\n",
       "      <td>250000</td>\n",
       "      <td>0.231348</td>\n",
       "    </tr>\n",
       "  </tbody>\n",
       "</table>\n",
       "</div>"
      ],
      "text/plain": [
       "     chr    start      end  bases covered  length intersection  length locus  \\\n",
       "0  chr11        0   250000            349                99218        250000   \n",
       "1  chr11   250000   500000            469               106910        250000   \n",
       "2  chr11   500000   750000            490               100259        250000   \n",
       "3  chr11   750000  1000000            387                78491        250000   \n",
       "4  chr11  1000000  1250000            226                57837        250000   \n",
       "\n",
       "   coverage  \n",
       "0  0.396872  \n",
       "1  0.427640  \n",
       "2  0.401036  \n",
       "3  0.313964  \n",
       "4  0.231348  "
      ]
     },
     "execution_count": 42,
     "metadata": {},
     "output_type": "execute_result"
    }
   ],
   "source": [
    "# Compute coverage\n",
    "coverage_chr = df_chr_bed.coverage(df_repeats_bed).to_dataframe(names = ['chr', 'start', 'end', 'bases covered', \n",
    "                                                                         'length intersection', 'length locus', \n",
    "                                                                         'coverage'])\n",
    "coverage_chr.head()"
   ]
  },
  {
   "cell_type": "code",
   "execution_count": 43,
   "metadata": {},
   "outputs": [
    {
     "name": "stdout",
     "output_type": "stream",
     "text": [
      "Quantiles of coverage: [0.       0.328112 0.3648   0.397052 0.421372 0.440816 0.456512 0.469876\n",
      " 0.480552 0.491324 0.503352 0.51554  0.527356 0.53812  0.549892 0.567492\n",
      " 0.577856 0.591216 0.611532 0.643524]\n"
     ]
    },
    {
     "data": {
      "image/png": "[encoded data removed]",
      "text/plain": [
       "<Figure size 432x288 with 1 Axes>"
      ]
     },
     "metadata": {
      "needs_background": "light"
     },
     "output_type": "display_data"
    }
   ],
   "source": [
    "# Determine a threshold to filter out loci\n",
    "print('Quantiles of coverage: '+str(np.quantile(a=coverage_chr['coverage'],q=np.arange(0,1,0.05))))\n",
    "threshold = np.quantile(a=coverage_chr['coverage'],q=0.95)\n",
    "plt.figure()\n",
    "plt.hist(coverage_chr['coverage'],50)\n",
    "plt.vlines(x=threshold, ymin=0, ymax=40, color='red')\n",
    "plt.xlabel('coverage values')\n",
    "plt.ylabel('counts')\n",
    "plt.show()"
   ]
  },
  {
   "cell_type": "code",
   "execution_count": 44,
   "metadata": {},
   "outputs": [],
   "source": [
    "# Select loci to filter out\n",
    "regions2filter = coverage_chr[coverage_chr['coverage'] >= threshold]['start'].values"
   ]
  },
  {
   "cell_type": "code",
   "execution_count": 45,
   "metadata": {},
   "outputs": [],
   "source": [
    "# Filter repeats\n",
    "df.loc[:,regions2filter] = 0"
   ]
  },
  {
   "cell_type": "markdown",
   "metadata": {},
   "source": [
    "## Plot Hi-C"
   ]
  },
  {
   "cell_type": "code",
   "execution_count": 46,
   "metadata": {},
   "outputs": [
    {
     "name": "stderr",
     "output_type": "stream",
     "text": [
      "/home/louiscam/anaconda3/lib/python3.7/site-packages/ipykernel_launcher.py:2: FutureWarning: Method .as_matrix will be removed in a future version. Use .values instead.\n",
      "  \n"
     ]
    },
    {
     "data": {
      "image/png": "[encoded data removed]",
      "text/plain": [
       "<Figure size 432x288 with 2 Axes>"
      ]
     },
     "metadata": {
      "needs_background": "light"
     },
     "output_type": "display_data"
    }
   ],
   "source": [
    "# Plot matrix\n",
    "data = df.as_matrix()\n",
    "plt.figure()\n",
    "plt.imshow(data, cmap = 'Reds')\n",
    "cbar = plt.colorbar()\n",
    "cbar.set_label('balanced contacts')\n",
    "cbar.solids.set_rasterized(True)\n",
    "\n",
    "# label ticks with genomic position (Mb)\n",
    "xaxis = range(0, df.shape[1], 100)\n",
    "xlabels = [str(map_colnum2pos(df, x)/1000000.0) for x in xaxis]\n",
    "plt.xticks(xaxis, xlabels)\n",
    "yaxis = range(0, df.shape[0], 100)\n",
    "ylabels = [str(map_rownum2pos(df, y)/1000000.0) for y in yaxis]\n",
    "plt.yticks(yaxis, ylabels)\n",
    "\n",
    "plt.xlabel('chr' + str(chr2) + ' (Mb)', fontsize = 14)\n",
    "plt.ylabel('chr' + str(chr1) + ' (Mb)', fontsize = 14)\n",
    "\n",
    "plt.show()"
   ]
  },
  {
   "cell_type": "code",
   "execution_count": 47,
   "metadata": {},
   "outputs": [],
   "source": [
    "# ToDo: do it for chromosome chr2, and actually for all chromosomes at the same time so that we have a unique\n",
    "# threshold used for every chromosome in order to filter out repeats"
   ]
  },
  {
   "cell_type": "markdown",
   "metadata": {},
   "source": [
    "# Filter out outliers"
   ]
  },
  {
   "cell_type": "code",
   "execution_count": 48,
   "metadata": {},
   "outputs": [],
   "source": [
    "# Define function to detect upper outliers (value greater than 75th percentile + 1.5IQR)\n",
    "def detect_upper_outliers(arr):\n",
    "    p25 = np.percentile(arr, 25)\n",
    "    p75 = np.percentile(arr, 75)\n",
    "    upper = p75 + 1.5*(p75-p25)\n",
    "    return upper"
   ]
  },
  {
   "cell_type": "code",
   "execution_count": 49,
   "metadata": {},
   "outputs": [
    {
     "data": {
      "text/html": [
       "<div>\n",
       "<style scoped>\n",
       "    .dataframe tbody tr th:only-of-type {\n",
       "        vertical-align: middle;\n",
       "    }\n",
       "\n",
       "    .dataframe tbody tr th {\n",
       "        vertical-align: top;\n",
       "    }\n",
       "\n",
       "    .dataframe thead th {\n",
       "        text-align: right;\n",
       "    }\n",
       "</style>\n",
       "<table border=\"1\" class=\"dataframe\">\n",
       "  <thead>\n",
       "    <tr style=\"text-align: right;\">\n",
       "      <th></th>\n",
       "      <th>0</th>\n",
       "      <th>250000</th>\n",
       "      <th>500000</th>\n",
       "      <th>750000</th>\n",
       "      <th>1000000</th>\n",
       "      <th>1250000</th>\n",
       "      <th>1500000</th>\n",
       "      <th>1750000</th>\n",
       "      <th>2000000</th>\n",
       "      <th>2250000</th>\n",
       "      <th>...</th>\n",
       "      <th>132750000</th>\n",
       "      <th>133000000</th>\n",
       "      <th>133250000</th>\n",
       "      <th>133500000</th>\n",
       "      <th>133750000</th>\n",
       "      <th>134000000</th>\n",
       "      <th>134250000</th>\n",
       "      <th>134500000</th>\n",
       "      <th>134750000</th>\n",
       "      <th>135000000</th>\n",
       "    </tr>\n",
       "  </thead>\n",
       "  <tbody>\n",
       "    <tr>\n",
       "      <th>0</th>\n",
       "      <td>4.152706</td>\n",
       "      <td>2.856322</td>\n",
       "      <td>2.855208</td>\n",
       "      <td>2.281766</td>\n",
       "      <td>1.884402</td>\n",
       "      <td>2.974521</td>\n",
       "      <td>1.962390</td>\n",
       "      <td>2.022895</td>\n",
       "      <td>2.500478</td>\n",
       "      <td>0.000000</td>\n",
       "      <td>...</td>\n",
       "      <td>1.870582</td>\n",
       "      <td>0.000000</td>\n",
       "      <td>0.000000</td>\n",
       "      <td>1.678824</td>\n",
       "      <td>1.883130</td>\n",
       "      <td>1.499239</td>\n",
       "      <td>1.159687</td>\n",
       "      <td>1.598416</td>\n",
       "      <td>1.852900</td>\n",
       "      <td>0.0</td>\n",
       "    </tr>\n",
       "    <tr>\n",
       "      <th>250000</th>\n",
       "      <td>2.751617</td>\n",
       "      <td>2.715527</td>\n",
       "      <td>2.448582</td>\n",
       "      <td>2.285441</td>\n",
       "      <td>2.080270</td>\n",
       "      <td>0.846985</td>\n",
       "      <td>1.403814</td>\n",
       "      <td>2.026447</td>\n",
       "      <td>1.474823</td>\n",
       "      <td>1.562315</td>\n",
       "      <td>...</td>\n",
       "      <td>0.651856</td>\n",
       "      <td>0.000000</td>\n",
       "      <td>0.728183</td>\n",
       "      <td>1.159570</td>\n",
       "      <td>1.052790</td>\n",
       "      <td>1.680023</td>\n",
       "      <td>1.457886</td>\n",
       "      <td>1.601682</td>\n",
       "      <td>0.000000</td>\n",
       "      <td>0.0</td>\n",
       "    </tr>\n",
       "    <tr>\n",
       "      <th>500000</th>\n",
       "      <td>2.445225</td>\n",
       "      <td>2.865210</td>\n",
       "      <td>1.744627</td>\n",
       "      <td>2.492921</td>\n",
       "      <td>2.246325</td>\n",
       "      <td>1.849859</td>\n",
       "      <td>1.815672</td>\n",
       "      <td>1.874659</td>\n",
       "      <td>1.707964</td>\n",
       "      <td>1.899870</td>\n",
       "      <td>...</td>\n",
       "      <td>0.000000</td>\n",
       "      <td>0.000000</td>\n",
       "      <td>0.000000</td>\n",
       "      <td>0.742001</td>\n",
       "      <td>1.738541</td>\n",
       "      <td>0.630104</td>\n",
       "      <td>0.000000</td>\n",
       "      <td>1.095701</td>\n",
       "      <td>1.312275</td>\n",
       "      <td>0.0</td>\n",
       "    </tr>\n",
       "    <tr>\n",
       "      <th>750000</th>\n",
       "      <td>1.674105</td>\n",
       "      <td>2.252722</td>\n",
       "      <td>1.768006</td>\n",
       "      <td>1.716649</td>\n",
       "      <td>1.916454</td>\n",
       "      <td>1.873727</td>\n",
       "      <td>1.655203</td>\n",
       "      <td>1.482982</td>\n",
       "      <td>1.201050</td>\n",
       "      <td>1.923953</td>\n",
       "      <td>...</td>\n",
       "      <td>1.065055</td>\n",
       "      <td>0.000000</td>\n",
       "      <td>0.000000</td>\n",
       "      <td>0.000000</td>\n",
       "      <td>1.074789</td>\n",
       "      <td>1.707442</td>\n",
       "      <td>1.713078</td>\n",
       "      <td>0.000000</td>\n",
       "      <td>1.333005</td>\n",
       "      <td>0.0</td>\n",
       "    </tr>\n",
       "    <tr>\n",
       "      <th>1000000</th>\n",
       "      <td>1.697026</td>\n",
       "      <td>1.792380</td>\n",
       "      <td>1.252451</td>\n",
       "      <td>1.739787</td>\n",
       "      <td>1.699583</td>\n",
       "      <td>1.658679</td>\n",
       "      <td>1.450728</td>\n",
       "      <td>1.504801</td>\n",
       "      <td>1.942299</td>\n",
       "      <td>1.100260</td>\n",
       "      <td>...</td>\n",
       "      <td>1.083581</td>\n",
       "      <td>1.474233</td>\n",
       "      <td>0.000000</td>\n",
       "      <td>1.202347</td>\n",
       "      <td>1.785250</td>\n",
       "      <td>1.882878</td>\n",
       "      <td>0.774234</td>\n",
       "      <td>1.835299</td>\n",
       "      <td>0.890378</td>\n",
       "      <td>0.0</td>\n",
       "    </tr>\n",
       "  </tbody>\n",
       "</table>\n",
       "<p>5 rows × 541 columns</p>\n",
       "</div>"
      ],
      "text/plain": [
       "         0          250000     500000     750000     1000000    1250000    \\\n",
       "0         4.152706   2.856322   2.855208   2.281766   1.884402   2.974521   \n",
       "250000    2.751617   2.715527   2.448582   2.285441   2.080270   0.846985   \n",
       "500000    2.445225   2.865210   1.744627   2.492921   2.246325   1.849859   \n",
       "750000    1.674105   2.252722   1.768006   1.716649   1.916454   1.873727   \n",
       "1000000   1.697026   1.792380   1.252451   1.739787   1.699583   1.658679   \n",
       "\n",
       "         1500000    1750000    2000000    2250000      ...      132750000  \\\n",
       "0         1.962390   2.022895   2.500478   0.000000    ...       1.870582   \n",
       "250000    1.403814   2.026447   1.474823   1.562315    ...       0.651856   \n",
       "500000    1.815672   1.874659   1.707964   1.899870    ...       0.000000   \n",
       "750000    1.655203   1.482982   1.201050   1.923953    ...       1.065055   \n",
       "1000000   1.450728   1.504801   1.942299   1.100260    ...       1.083581   \n",
       "\n",
       "         133000000  133250000  133500000  133750000  134000000  134250000  \\\n",
       "0         0.000000   0.000000   1.678824   1.883130   1.499239   1.159687   \n",
       "250000    0.000000   0.728183   1.159570   1.052790   1.680023   1.457886   \n",
       "500000    0.000000   0.000000   0.742001   1.738541   0.630104   0.000000   \n",
       "750000    0.000000   0.000000   0.000000   1.074789   1.707442   1.713078   \n",
       "1000000   1.474233   0.000000   1.202347   1.785250   1.882878   0.774234   \n",
       "\n",
       "         134500000  134750000  135000000  \n",
       "0         1.598416   1.852900        0.0  \n",
       "250000    1.601682   0.000000        0.0  \n",
       "500000    1.095701   1.312275        0.0  \n",
       "750000    0.000000   1.333005        0.0  \n",
       "1000000   1.835299   0.890378        0.0  \n",
       "\n",
       "[5 rows x 541 columns]"
      ]
     },
     "execution_count": 49,
     "metadata": {},
     "output_type": "execute_result"
    }
   ],
   "source": [
    "# Log transform df\n",
    "df_transformed = np.log(1+df)\n",
    "df_transformed.head()"
   ]
  },
  {
   "cell_type": "code",
   "execution_count": 50,
   "metadata": {},
   "outputs": [
    {
     "name": "stderr",
     "output_type": "stream",
     "text": [
      "/home/louiscam/anaconda3/lib/python3.7/site-packages/ipykernel_launcher.py:2: FutureWarning: Method .as_matrix will be removed in a future version. Use .values instead.\n",
      "  \n",
      "/home/louiscam/anaconda3/lib/python3.7/site-packages/ipykernel_launcher.py:3: FutureWarning: Method .as_matrix will be removed in a future version. Use .values instead.\n",
      "  This is separate from the ipykernel package so we can avoid doing imports until\n"
     ]
    }
   ],
   "source": [
    "# Get all the row and column sums\n",
    "row_orig = np.sum(df_transformed, axis = 1).as_matrix()\n",
    "col_orig = np.sum(df_transformed, axis = 0).as_matrix()\n",
    "# Get rid of zeros\n",
    "row = row_orig[np.nonzero(row_orig)]\n",
    "col = col_orig[np.nonzero(col_orig)]"
   ]
  },
  {
   "cell_type": "code",
   "execution_count": 51,
   "metadata": {},
   "outputs": [],
   "source": [
    "# Compute a threshold for outliers for chr1 and chr2\n",
    "threshold_row = detect_upper_outliers(row)\n",
    "threshold_col = detect_upper_outliers(col)"
   ]
  },
  {
   "cell_type": "code",
   "execution_count": 52,
   "metadata": {},
   "outputs": [],
   "source": [
    "# Filter out outliers for chr1 (rows)\n",
    "ind_row = np.arange(len(row_orig))[row_orig>threshold_row]\n",
    "df_transformed.iloc[ind_row,:] = 0\n",
    "# Filter out outliers for chr2 (columns)\n",
    "ind_col = np.arange(len(col_orig))[col_orig>threshold_col]\n",
    "df_transformed.iloc[:,ind_col] = 0"
   ]
  },
  {
   "cell_type": "code",
   "execution_count": 53,
   "metadata": {},
   "outputs": [
    {
     "name": "stderr",
     "output_type": "stream",
     "text": [
      "/home/louiscam/anaconda3/lib/python3.7/site-packages/ipykernel_launcher.py:2: FutureWarning: Method .as_matrix will be removed in a future version. Use .values instead.\n",
      "  \n"
     ]
    },
    {
     "data": {
      "image/png": "[encoded data removed]",
      "text/plain": [
       "<Figure size 432x288 with 2 Axes>"
      ]
     },
     "metadata": {
      "needs_background": "light"
     },
     "output_type": "display_data"
    }
   ],
   "source": [
    "# Plot matrix\n",
    "data = df_transformed.as_matrix()\n",
    "plt.figure()\n",
    "plt.imshow(data, cmap = 'Reds')\n",
    "cbar = plt.colorbar()\n",
    "cbar.set_label('balanced contacts')\n",
    "cbar.solids.set_rasterized(True)\n",
    "\n",
    "# label ticks with genomic position (Mb)\n",
    "xaxis = range(0, df_transformed.shape[1], 100)\n",
    "xlabels = [str(map_colnum2pos(df_transformed, x)/1000000.0) for x in xaxis]\n",
    "plt.xticks(xaxis, xlabels)\n",
    "yaxis = range(0, df_transformed.shape[0], 100)\n",
    "ylabels = [str(map_rownum2pos(df_transformed, y)/1000000.0) for y in yaxis]\n",
    "plt.yticks(yaxis, ylabels)\n",
    "\n",
    "plt.xlabel('chr' + str(chr2) + ' (Mb)', fontsize = 14)\n",
    "plt.ylabel('chr' + str(chr1) + ' (Mb)', fontsize = 14)\n",
    "\n",
    "plt.show()"
   ]
  },
  {
   "cell_type": "code",
   "execution_count": null,
   "metadata": {},
   "outputs": [],
   "source": []
  },
  {
   "cell_type": "code",
   "execution_count": null,
   "metadata": {},
   "outputs": [],
   "source": []
  },
  {
   "cell_type": "code",
   "execution_count": null,
   "metadata": {},
   "outputs": [],
   "source": []
  },
  {
   "cell_type": "code",
   "execution_count": null,
   "metadata": {},
   "outputs": [],
   "source": []
  },
  {
   "cell_type": "code",
   "execution_count": null,
   "metadata": {},
   "outputs": [],
   "source": []
  },
  {
   "cell_type": "code",
   "execution_count": null,
   "metadata": {},
   "outputs": [],
   "source": []
  }
 ],
 "metadata": {
  "kernelspec": {
   "display_name": "Python 3",
   "language": "python",
   "name": "python3"
  },
  "language_info": {
   "codemirror_mode": {
    "name": "ipython",
    "version": 3
   },
   "file_extension": ".py",
   "mimetype": "text/x-python",
   "name": "python",
   "nbconvert_exporter": "python",
   "pygments_lexer": "ipython3",
   "version": "3.7.4"
  }
 },
 "nbformat": 4,
 "nbformat_minor": 2
}
