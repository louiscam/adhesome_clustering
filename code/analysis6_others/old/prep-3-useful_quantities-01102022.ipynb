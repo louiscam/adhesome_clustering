{
 "cells": [
  {
   "cell_type": "markdown",
   "metadata": {},
   "source": [
    "Goal: Save any interesting quantity to pickle"
   ]
  },
  {
   "cell_type": "code",
   "execution_count": null,
   "metadata": {},
   "outputs": [],
   "source": [
    "import warnings\n",
    "warnings.simplefilter(action='ignore', category=FutureWarning)"
   ]
  },
  {
   "cell_type": "code",
   "execution_count": null,
   "metadata": {
    "code_folding": [
     0
    ]
   },
   "outputs": [],
   "source": [
    "# Import standard libraries\n",
    "from importlib import reload\n",
    "import numpy as np\n",
    "import matplotlib as mpl\n",
    "import matplotlib.pyplot as plt\n",
    "from scipy.cluster.hierarchy import dendrogram, linkage, fcluster\n",
    "from sklearn.metrics import adjusted_mutual_info_score\n",
    "import seaborn as sns\n",
    "from scipy import sparse\n",
    "import scipy.stats as ss\n",
    "import csv\n",
    "import pandas as pd\n",
    "import networkx as nx\n",
    "import community\n",
    "import communities as com\n",
    "import pickle\n",
    "from collections import defaultdict\n",
    "import operator\n",
    "from scipy.sparse import csr_matrix\n",
    "import itertools\n",
    "import os.path\n",
    "import math\n",
    "from sklearn.cluster import AgglomerativeClustering\n",
    "from sklearn.decomposition import PCA\n",
    "from sklearn.manifold import TSNE\n",
    "from sklearn.metrics import adjusted_mutual_info_score\n",
    "from networkx.algorithms.community.kclique import k_clique_communities\n",
    "import pybedtools\n",
    "import time\n",
    "from tqdm import tqdm\n",
    "import random\n",
    "import OmicsIntegrator as oi\n",
    "import gseapy\n",
    "from gseapy.plot import barplot, dotplot\n",
    "from ortools.linear_solver import pywraplp\n",
    "from matplotlib_venn import venn2, venn3\n",
    "# Custom libraries\n",
    "import utils as lu\n",
    "import correlation_clustering as cc\n",
    "# Reload modules in case of modifications\n",
    "reload(lu)\n",
    "reload(cc)"
   ]
  },
  {
   "cell_type": "markdown",
   "metadata": {},
   "source": [
    "### Directories"
   ]
  },
  {
   "cell_type": "code",
   "execution_count": null,
   "metadata": {},
   "outputs": [],
   "source": [
    "# Directory of genome data\n",
    "dir_genome = '/home/louiscam/projects/gpcr/data/genome_data/'\n",
    "# Directory of processed HiC\n",
    "dir_processed_hic = '/home/louiscam/projects/gpcr/save/processed_hic_data_dir/'\n",
    "# Directory of epigenomic data\n",
    "epigenome_dir = '/home/louiscam/projects/gpcr/data/epigenome_data/'\n",
    "processed_epigenome_data_dir = '/home/louiscam/projects/gpcr/save/processed_epigenome_data_dir/'\n",
    "# Directory of adhesome data\n",
    "dir_adhesome = '/home/louiscam/projects/gpcr/data/adhesome_data/'\n",
    "# Directory of TF data\n",
    "dir_htftarget = '/home/louiscam/projects/gpcr/data/tf_data/hTFtarget/'\n",
    "# Directory of TCR data\n",
    "dir_tcr = '/home/louiscam/projects/gpcr/data/tcr_data/'\n",
    "# Directory of proteins of interest\n",
    "dir_proteins = '/home/louiscam/projects/gpcr/data/protein_families/'\n",
    "# Saving directory\n",
    "saving_dir = '/home/louiscam/projects/gpcr/save/figures/'\n",
    "saving_mtp2 = '/home/louiscam/projects/mtp2/data/adhesome_data/'"
   ]
  },
  {
   "cell_type": "code",
   "execution_count": null,
   "metadata": {},
   "outputs": [],
   "source": [
    "# HiC information\n",
    "cell_type = 'IMR90'\n",
    "resol_str = '250kb'\n",
    "resol = 250000\n",
    "quality = 'MAPQGE30'"
   ]
  },
  {
   "cell_type": "markdown",
   "metadata": {},
   "source": [
    "# Load data"
   ]
  },
  {
   "cell_type": "markdown",
   "metadata": {},
   "source": [
    "### Load  activity data"
   ]
  },
  {
   "cell_type": "code",
   "execution_count": null,
   "metadata": {},
   "outputs": [],
   "source": [
    "# Active/inactive loci\n",
    "all_active_loci = pickle.load(open(saving_dir+'all_active_loci.pkl', 'rb'))\n",
    "all_inactive_loci = pickle.load(open(saving_dir+'all_inactive_loci.pkl', 'rb'))\n",
    "active_adhesome_loci = pickle.load(open(saving_dir+'active_adhesome_loci.pkl', 'rb'))\n",
    "inactive_adhesome_loci = pickle.load(open(saving_dir+'inactive_adhesome_loci.pkl', 'rb'))"
   ]
  },
  {
   "cell_type": "code",
   "execution_count": null,
   "metadata": {},
   "outputs": [],
   "source": [
    "# Active/inactive genes\n",
    "active_genes = pickle.load(open(saving_dir+'active_genes.pkl','rb'))\n",
    "inactive_genes = pickle.load(open(saving_dir+'inactive_genes.pkl','rb'))\n",
    "active_adhesome_genes = pickle.load(open(saving_dir+'active_adhesome_genes.pkl','rb'))\n",
    "inactive_adhesome_genes = pickle.load(open(saving_dir+'inactive_adhesome_genes.pkl','rb'))"
   ]
  },
  {
   "cell_type": "markdown",
   "metadata": {},
   "source": [
    "### Load location data"
   ]
  },
  {
   "cell_type": "code",
   "execution_count": null,
   "metadata": {},
   "outputs": [],
   "source": [
    "# Gene location in hg19\n",
    "gene_locations_filename = dir_genome+'chrom_hg19.loc_canonical'\n",
    "gene_id_filename = dir_genome+'chrom_hg19.name'\n",
    "df_loc = lu.get_all_gene_locations(gene_locations_filename, gene_id_filename)"
   ]
  },
  {
   "cell_type": "markdown",
   "metadata": {},
   "source": [
    "### Load adhesome data"
   ]
  },
  {
   "cell_type": "code",
   "execution_count": null,
   "metadata": {},
   "outputs": [],
   "source": [
    "# Adhesome data\n",
    "adhesome_components_filename = dir_adhesome+'components.csv'\n",
    "df_components = lu.load_adhesome_data(adhesome_components_filename)\n",
    "adhesome_chr_loci, missing_adhesome = lu.annotate_genes(df_components[['geneSymbol']], df_loc, resol)\n",
    "adhesome_chr_loci['active'] = adhesome_chr_loci['gene'].isin(active_adhesome_genes)\n",
    "pickle.dump(adhesome_chr_loci, open(saving_dir+'adhesome_chr_loci.pkl','wb'))\n",
    "pickle.dump(adhesome_chr_loci, open(saving_mtp2+'adhesome_chr_loci.pkl','wb'))"
   ]
  },
  {
   "cell_type": "markdown",
   "metadata": {},
   "source": [
    "### Load TF data"
   ]
  },
  {
   "cell_type": "code",
   "execution_count": 31,
   "metadata": {},
   "outputs": [
    {
     "data": {
      "text/plain": [
       "58"
      ]
     },
     "execution_count": 31,
     "metadata": {},
     "output_type": "execute_result"
    }
   ],
   "source": [
    "# TF data\n",
    "htargettf_df = pd.read_csv(dir_htftarget+'hTFtarget.txt', sep='\\t', header=0)\n",
    "htargettf_df.columns = ['geneSymbol', 'target', 'tissue']\n",
    "htargettf_lung_df = htargettf_df[htargettf_df['tissue'].str.contains('lung')]\n",
    "lungTF_chr_loci, missing_TF = lu.annotate_genes(htargettf_lung_df[['geneSymbol']].drop_duplicates(), df_loc, resol)\n",
    "lungTF_chr_loci['active'] = lungTF_chr_loci['gene'].isin(active_genes)\n",
    "len(np.unique(htargettf_lung_df[htargettf_lung_df['target'].isin(active_adhesome_genes)]['geneSymbol'].values))"
   ]
  },
  {
   "cell_type": "markdown",
   "metadata": {},
   "source": [
    "### Load TCR data\n",
    "- https://www.wikipathways.org/index.php/Pathway:WP69\n",
    "- http://www.netpath.org/netslim/tcr_pathway.html"
   ]
  },
  {
   "cell_type": "code",
   "execution_count": 10,
   "metadata": {},
   "outputs": [
    {
     "name": "stdout",
     "output_type": "stream",
     "text": [
      "Total number of TCR intrinsic and associated components = 92\n"
     ]
    }
   ],
   "source": [
    "# TCR data\n",
    "tcr_df = pd.read_csv(dir_tcr+'TCR.csv', header=0, index_col=None)\n",
    "print('Total number of TCR intrinsic and associated components = '+str(len(tcr_df)))"
   ]
  },
  {
   "cell_type": "markdown",
   "metadata": {},
   "source": [
    "### Load genes related to mechanoregulation"
   ]
  },
  {
   "cell_type": "code",
   "execution_count": 11,
   "metadata": {},
   "outputs": [],
   "source": [
    "# Proteins of interest\n",
    "proteins_df = pickle.load(open(dir_proteins+'mechanoreg_proteins.pkl', 'rb'))\n",
    "proteins_chr_loci, missing_prot = lu.annotate_genes(proteins_df, df_loc, resol)\n",
    "proteins_chr_loci['active'] = proteins_chr_loci['gene'].isin(active_genes)"
   ]
  },
  {
   "cell_type": "code",
   "execution_count": 12,
   "metadata": {},
   "outputs": [],
   "source": [
    "# Mechanoreg protein to family\n",
    "prot2fam = {proteins_df.iloc[i,0]: proteins_df.iloc[i,1] for i in range(len(proteins_df))}"
   ]
  },
  {
   "cell_type": "markdown",
   "metadata": {},
   "source": [
    "# Define useful quantities"
   ]
  },
  {
   "cell_type": "markdown",
   "metadata": {},
   "source": [
    "### List of blacklisted loci"
   ]
  },
  {
   "cell_type": "code",
   "execution_count": 22,
   "metadata": {},
   "outputs": [
    {
     "name": "stderr",
     "output_type": "stream",
     "text": [
      "\n",
      "100%|██████████| 22/22 [00:00<00:00, 30224.27it/s]\n"
     ]
    }
   ],
   "source": [
    "# Create list of all blacklisted loci\n",
    "blacklist_dict = pickle.load(open(dir_processed_hic+'blacklist.pickle', 'rb'))\n",
    "blacklist_list = []\n",
    "for chrom, loci_set in tqdm(blacklist_dict.items()):\n",
    "    loci_list = list(loci_set)\n",
    "    for locus in loci_list:\n",
    "        blacklist_list.append(f'chr_{chrom}_loc_{locus}')\n",
    "with open(dir_processed_hic+'blacklist_list.pkl', 'wb') as f:\n",
    "    pickle.dump(blacklist_list, f)"
   ]
  },
  {
   "cell_type": "markdown",
   "metadata": {},
   "source": [
    "### Gene to chromosome dictionary"
   ]
  },
  {
   "cell_type": "code",
   "execution_count": null,
   "metadata": {},
   "outputs": [],
   "source": [
    "# Build dictionary matching each gene to its corresponding chromosome\n",
    "gene2chrom = {g: df_loc[df_loc['geneSymbol']==g]['#chrom'].values[0] \n",
    "              for g in df_loc['geneSymbol'].values}\n",
    "pickle.dump(gene2chrom, open(saving_dir+'gene2chrom.pkl','wb'))"
   ]
  },
  {
   "cell_type": "markdown",
   "metadata": {},
   "source": [
    "### Adhesome genes/loci"
   ]
  },
  {
   "cell_type": "code",
   "execution_count": 18,
   "metadata": {},
   "outputs": [],
   "source": [
    "# All adhesome genes\n",
    "all_adhesome_genes = np.unique(adhesome_chr_loci['gene'])\n",
    "all_adhesome_loci = np.unique(adhesome_chr_loci['locus_id'])\n",
    "pickle.dump(all_adhesome_genes, open(saving_dir+'all_adhesome_genes.pkl','wb'))\n",
    "pickle.dump(all_adhesome_loci, open(saving_dir+'all_adhesome_loci.pkl','wb'))"
   ]
  },
  {
   "cell_type": "code",
   "execution_count": 19,
   "metadata": {},
   "outputs": [],
   "source": [
    "# Adhesome gene2locus and locus2gene dictionaries\n",
    "adhesome_gene2locus = {gene: adhesome_chr_loci[adhesome_chr_loci['gene']==gene]['locus_id'].values.astype(str)  \n",
    "              for gene in np.unique(adhesome_chr_loci['gene'])}\n",
    "adhesome_locus2gene = {locus: adhesome_chr_loci[adhesome_chr_loci['locus_id']==locus]['gene'].values.astype(str) \n",
    "              for locus in np.unique(adhesome_chr_loci['locus_id'])}\n",
    "pickle.dump(adhesome_gene2locus, open(saving_dir+'adhesome_gene2locus.pkl','wb'))\n",
    "pickle.dump(adhesome_locus2gene, open(saving_dir+'adhesome_locus2gene.pkl','wb'))"
   ]
  },
  {
   "cell_type": "code",
   "execution_count": 20,
   "metadata": {},
   "outputs": [],
   "source": [
    "# Active adhesome gene2locus and locus2gene dictionaries\n",
    "active_adhesome_gene2locus = {gene: adhesome_chr_loci[(adhesome_chr_loci['gene']==gene) &\n",
    "                                                      (adhesome_chr_loci['active']==True)]['locus_id'].values.astype(str)  \n",
    "              for gene in np.unique(adhesome_chr_loci['gene'])}\n",
    "active_adhesome_locus2gene = {locus: adhesome_chr_loci[(adhesome_chr_loci['locus_id']==locus) &\n",
    "                                                      (adhesome_chr_loci['active']==True)]['gene'].values.astype(str) \n",
    "              for locus in np.unique(adhesome_chr_loci['locus_id'])}\n",
    "pickle.dump(active_adhesome_gene2locus, open(saving_dir+'active_adhesome_gene2locus.pkl','wb'))\n",
    "pickle.dump(active_adhesome_locus2gene, open(saving_dir+'active_adhesome_locus2gene.pkl','wb'))"
   ]
  },
  {
   "cell_type": "markdown",
   "metadata": {},
   "source": [
    "### All active lung TF genes/loci"
   ]
  },
  {
   "cell_type": "code",
   "execution_count": 21,
   "metadata": {},
   "outputs": [],
   "source": [
    "# Merge TF and target information\n",
    "lungTF_chr_loci1 = lungTF_chr_loci.copy()\n",
    "lungTF_chr_loci1.columns = ['chrom', 'chrom_int', 'loci', 'geneSymbol', 'locus_id', 'active']\n",
    "tf_target_df = htargettf_lung_df.merge(lungTF_chr_loci1, on='geneSymbol')\n",
    "tf_target_df = tf_target_df[['geneSymbol', 'chrom', 'chrom_int', 'loci', 'locus_id', 'active', 'target']]"
   ]
  },
  {
   "cell_type": "code",
   "execution_count": 22,
   "metadata": {},
   "outputs": [],
   "source": [
    "# Select active TFs targeting active genes\n",
    "active_tf_target_df = tf_target_df[(tf_target_df['active']) & (tf_target_df['target'].isin(active_genes))]\n",
    "active_lung_tf2target = {tf: set(np.unique(active_tf_target_df[active_tf_target_df['geneSymbol']==tf]['target'].values))\n",
    "                        for tf in np.unique(active_tf_target_df['geneSymbol'].values)}\n",
    "active_lung_target2tf = {target: set(np.unique(active_tf_target_df[active_tf_target_df['target']==target]['geneSymbol'].values))\n",
    "                        for target in np.unique(active_tf_target_df['target'].values)}\n",
    "pickle.dump(active_lung_tf2target, open(saving_dir+'active_lung_tf2target.pkl', 'wb'))\n",
    "pickle.dump(active_lung_target2tf, open(saving_dir+'active_lung_target2tf.pkl', 'wb'))\n",
    "pickle.dump(active_lung_tf2target, open(saving_mtp2+'active_lung_tf2target.pkl', 'wb'))\n",
    "pickle.dump(active_lung_target2tf, open(saving_mtp2+'active_lung_target2tf.pkl', 'wb'))"
   ]
  },
  {
   "cell_type": "code",
   "execution_count": 23,
   "metadata": {},
   "outputs": [],
   "source": [
    "# Store active TFs targeting active active genes\n",
    "active_lung_tf_genes = np.unique(tf_target_df[tf_target_df['target'].isin(active_genes) &\n",
    "                                         tf_target_df['active']]\n",
    "                            ['geneSymbol'])\n",
    "active_lung_tf_loci = np.unique(tf_target_df[tf_target_df['target'].isin(active_genes) &\n",
    "                                         tf_target_df['active']]\n",
    "                            ['locus_id'])\n",
    "pickle.dump(active_lung_tf_genes, open(saving_dir+'active_lung_tf_genes.pkl','wb'))\n",
    "pickle.dump(active_lung_tf_loci, open(saving_dir+'active_lung_tf_loci.pkl','wb'))"
   ]
  },
  {
   "cell_type": "markdown",
   "metadata": {},
   "source": [
    "### Lung TF genes/loci targeting adhesome"
   ]
  },
  {
   "cell_type": "code",
   "execution_count": 24,
   "metadata": {},
   "outputs": [],
   "source": [
    "# Active TF genes targeting active adhesome\n",
    "active_lung_adhesome_tf_genes = np.unique(tf_target_df[tf_target_df['target'].isin(active_adhesome_genes) &\n",
    "                                         tf_target_df['active']]['geneSymbol'])\n",
    "active_lung_adhesome_tf_loci = np.unique(tf_target_df[tf_target_df['target'].isin(active_adhesome_genes) &\n",
    "                                         tf_target_df['active']]['locus_id'])\n",
    "pickle.dump(active_lung_adhesome_tf_genes, open(saving_dir+'active_lung_adhesome_tf_genes.pkl','wb'))\n",
    "pickle.dump(active_lung_adhesome_tf_loci, open(saving_dir+'active_lung_adhesome_tf_loci.pkl','wb'))"
   ]
  },
  {
   "cell_type": "code",
   "execution_count": 25,
   "metadata": {},
   "outputs": [],
   "source": [
    "# Dictionary tf2target and target2tf\n",
    "active_adhesome_tf_target_df = tf_target_df[tf_target_df['geneSymbol'].isin(active_lung_adhesome_tf_genes) &\n",
    "                                   tf_target_df['target'].isin(active_adhesome_genes)]\n",
    "adhesome_active_lung_tf2target = {tf: active_adhesome_tf_target_df[active_adhesome_tf_target_df['geneSymbol']==tf]['target'].values \n",
    "             for tf in active_lung_adhesome_tf_genes}\n",
    "adhesome_active_lung_target2tf = {target: active_adhesome_tf_target_df[active_adhesome_tf_target_df['target']==target]['geneSymbol'].values \n",
    "             for target in np.unique(active_adhesome_tf_target_df['target'])}\n",
    "pickle.dump(adhesome_active_lung_tf2target, open(saving_dir+'adhesome_active_lung_tf2target.pkl','wb'))\n",
    "pickle.dump(adhesome_active_lung_target2tf, open(saving_dir+'adhesome_active_lung_target2tf.pkl','wb'))"
   ]
  },
  {
   "cell_type": "markdown",
   "metadata": {},
   "source": [
    "### TCR genes/loci"
   ]
  },
  {
   "cell_type": "code",
   "execution_count": 26,
   "metadata": {},
   "outputs": [
    {
     "name": "stdout",
     "output_type": "stream",
     "text": [
      "TCR genes missing from location data = ['WAS', 'IKBKG']\n",
      "Total number of TCR genes = 90\n",
      "Total number of TCR loci = 113\n",
      "Total number of active TCR genes = 62\n",
      "Total number of active TCR loci = 103\n"
     ]
    }
   ],
   "source": [
    "# Select active/inactive TCR genes and loci\n",
    "tcr_chr_loci, missing_tcr = lu.annotate_genes(tcr_df[['geneSymbol']], df_loc, resol)\n",
    "tcr_chr_loci['gene_active'] = tcr_chr_loci['gene'].isin(active_genes)\n",
    "tcr_chr_loci['locus_active'] = tcr_chr_loci['locus_id'].isin(all_active_loci)\n",
    "tcr_genes = tcr_chr_loci['gene'].unique()\n",
    "tcr_loci = tcr_chr_loci['locus_id'].unique()\n",
    "active_tcr_genes = tcr_chr_loci[tcr_chr_loci['gene_active']==True]['gene'].unique()\n",
    "active_tcr_loci = tcr_chr_loci[tcr_chr_loci['locus_active']==True]['locus_id'].unique()\n",
    "inactive_tcr_genes = tcr_chr_loci[tcr_chr_loci['gene_active']==False]['gene'].unique()\n",
    "inactive_tcr_loci = tcr_chr_loci[tcr_chr_loci['locus_active']==False]['locus_id'].unique()\n",
    "print('TCR genes missing from location data = '+str(missing_tcr))\n",
    "print('Total number of TCR genes = '+str(len(tcr_genes)))\n",
    "print('Total number of TCR loci = '+str(len(tcr_loci)))\n",
    "print('Total number of active TCR genes = '+str(len(active_tcr_genes)))\n",
    "print('Total number of active TCR loci = '+str(len(active_tcr_loci)))"
   ]
  },
  {
   "cell_type": "code",
   "execution_count": 51,
   "metadata": {},
   "outputs": [],
   "source": [
    "# Save to pickle\n",
    "pickle.dump(tcr_chr_loci, open(saving_dir+'tcr_chr_loci.pkl', 'wb'))\n",
    "pickle.dump(tcr_genes, open(saving_dir+'tcr_genes.pkl', 'wb'))\n",
    "pickle.dump(tcr_loci, open(saving_dir+'tcr_loci.pkl', 'wb'))\n",
    "pickle.dump(active_tcr_genes, open(saving_dir+'active_tcr_genes.pkl', 'wb'))\n",
    "pickle.dump(active_tcr_loci, open(saving_dir+'active_tcr_loci.pkl', 'wb'))\n",
    "pickle.dump(inactive_tcr_genes, open(saving_dir+'inactive_tcr_genes.pkl', 'wb'))\n",
    "pickle.dump(inactive_tcr_loci, open(saving_dir+'inactive_tcr_loci.pkl', 'wb'))"
   ]
  },
  {
   "cell_type": "markdown",
   "metadata": {},
   "source": [
    "# Jointly consider active adhesome genes, and active adhesome lung TFs"
   ]
  },
  {
   "cell_type": "code",
   "execution_count": 41,
   "metadata": {},
   "outputs": [],
   "source": [
    "# Gene and locus dataframe for acive adhesome genes and adhesome TFs\n",
    "adh_and_tf_chr_loci = pd.concat([adhesome_chr_loci[adhesome_chr_loci['active']],\n",
    "                                 lungTF_chr_loci[lungTF_chr_loci['gene'].isin(active_lung_adhesome_tf_genes)]], \n",
    "                                 axis=0)\n",
    "pickle.dump(adh_and_tf_chr_loci, open(saving_dir+'adh_and_tf_chr_loci.pkl','wb'))\n",
    "pickle.dump(adh_and_tf_chr_loci, open(saving_mtp2+'adh_and_tf_chr_loci.pkl','wb'))"
   ]
  },
  {
   "cell_type": "code",
   "execution_count": 42,
   "metadata": {},
   "outputs": [],
   "source": [
    "# gene2locus and locus2gene dictionaries for adhesome+adhesome TFs\n",
    "adh_and_tf_gene2locus = {gene: adh_and_tf_chr_loci[adh_and_tf_chr_loci['gene']==gene]['locus_id'].values.astype(str)  \n",
    "              for gene in np.unique(adh_and_tf_chr_loci['gene'])}\n",
    "adh_and_tf_locus2gene = {locus: adh_and_tf_chr_loci[adh_and_tf_chr_loci['locus_id']==locus]['gene'].values.astype(str) \n",
    "              for locus in np.unique(adh_and_tf_chr_loci['locus_id'])}\n",
    "pickle.dump(adh_and_tf_gene2locus, open(saving_dir+'adh_and_tf_gene2locus.pkl','wb'))\n",
    "pickle.dump(adh_and_tf_locus2gene, open(saving_dir+'adh_and_tf_locus2gene.pkl','wb'))"
   ]
  },
  {
   "cell_type": "markdown",
   "metadata": {},
   "source": [
    "# Jointly consider active adhesome genes, lung TFs and mechanoreg proteins"
   ]
  },
  {
   "cell_type": "code",
   "execution_count": 43,
   "metadata": {},
   "outputs": [],
   "source": [
    "# Active adhesome genes\n",
    "act_adhesome_chr_loci = adhesome_chr_loci[adhesome_chr_loci['active']==True]\n",
    "pickle.dump(act_adhesome_chr_loci, open(saving_dir+'act_adhesome_chr_loci.pkl','wb'))\n",
    "# Active lung TFs\n",
    "act_lung_TF_chr_loci = lungTF_chr_loci1[lungTF_chr_loci1['geneSymbol'].isin(active_lung_tf_genes)]\n",
    "act_lung_TF_chr_loci.columns = act_adhesome_chr_loci.columns\n",
    "pickle.dump(act_lung_TF_chr_loci, open(saving_dir+'act_lung_TF_chr_loci.pkl','wb'))\n",
    "# Active mechanoreg proteins\n",
    "act_proteins_chr_loci = proteins_chr_loci[proteins_chr_loci['active']==True]\n",
    "pickle.dump(act_proteins_chr_loci, open(saving_dir+'act_proteins_chr_loci.pkl','wb'))"
   ]
  },
  {
   "cell_type": "code",
   "execution_count": 44,
   "metadata": {},
   "outputs": [],
   "source": [
    "# Joint annotated dataframe\n",
    "joint_chr_loci = pd.concat([act_adhesome_chr_loci,act_lung_TF_chr_loci,act_proteins_chr_loci], axis=0)\n",
    "joint_loci = np.unique(joint_chr_loci['locus_id'])\n",
    "joint_genes = np.unique(joint_chr_loci['gene'])\n",
    "pickle.dump(joint_chr_loci, open(saving_dir+'joint_chr_loci.pkl','wb'))\n",
    "pickle.dump(joint_loci, open(saving_dir+'joint_loci.pkl','wb'))\n",
    "pickle.dump(joint_genes, open(saving_dir+'joint_genes.pkl','wb'))"
   ]
  },
  {
   "cell_type": "code",
   "execution_count": 45,
   "metadata": {},
   "outputs": [],
   "source": [
    "# gene2locus and locus2gene dictionaries\n",
    "gene2locus = {gene: joint_chr_loci[joint_chr_loci['gene']==gene]['locus_id'].values.astype(str)  \n",
    "              for gene in np.unique(joint_chr_loci['gene'])}\n",
    "locus2gene = {locus: joint_chr_loci[joint_chr_loci['locus_id']==locus]['gene'].values.astype(str) \n",
    "              for locus in np.unique(joint_chr_loci['locus_id'])}\n",
    "pickle.dump(gene2locus, open(saving_dir+'gene2locus.pkl','wb'))\n",
    "pickle.dump(locus2gene, open(saving_dir+'locus2gene.pkl','wb'))"
   ]
  },
  {
   "cell_type": "code",
   "execution_count": 46,
   "metadata": {},
   "outputs": [
    {
     "name": "stderr",
     "output_type": "stream",
     "text": [
      "100%|██████████| 231/231 [00:17<00:00, 13.07it/s]\n"
     ]
    }
   ],
   "source": [
    "# Get HiC contact map\n",
    "contacts_df = pd.DataFrame(0, index=joint_loci, columns=joint_loci)\n",
    "# Loop over all chromosome pairs and fill gene_contacts_df\n",
    "chr_list = np.arange(1,23,1)\n",
    "chr_pairs = list(itertools.combinations(chr_list, 2))\n",
    "for pair in tqdm(chr_pairs):\n",
    "    time.sleep(.01)\n",
    "    chr1, chr2 = pair\n",
    "\n",
    "    # Select loci on chr1 and chr2\n",
    "    loci_chr1 = [locus for locus in joint_loci if ('chr_'+str(chr1)+'_') in locus]\n",
    "    loci_chr2 = [locus for locus in joint_loci if ('chr_'+str(chr2)+'_') in locus]\n",
    "\n",
    "    # Load HiC data for this chromosome pair\n",
    "    processed_hic_filename = 'hic_'+'chr'+str(chr1)+'_'+'chr'+str(chr2)+'_norm1_filter3'+'.pkl'\n",
    "    hic_chpair_df = pickle.load(open(dir_processed_hic+processed_hic_filename, 'rb'))\n",
    "\n",
    "    # Fill in corresponding submatrix of gene_contacts_df by sum of Hi-C contacts across all gene loci\n",
    "    locus_id_pairs = itertools.product(loci_chr1,loci_chr2)\n",
    "    for locus1_id, locus2_id in locus_id_pairs:\n",
    "        locus1 = int(locus1_id.split('_')[3])\n",
    "        locus2 = int(locus2_id.split('_')[3])\n",
    "        contacts_df.loc[locus1_id, locus2_id] = hic_chpair_df.loc[locus1,locus2]\n",
    "# Symmetrize data frame\n",
    "contacts_df = contacts_df+contacts_df.T\n",
    "pickle.dump(contacts_df, open(saving_dir+'contacts_df.pkl','wb'))"
   ]
  },
  {
   "cell_type": "code",
   "execution_count": null,
   "metadata": {},
   "outputs": [],
   "source": []
  }
 ],
 "metadata": {
  "kernelspec": {
   "display_name": "Python 3",
   "language": "python",
   "name": "python3"
  },
  "language_info": {
   "codemirror_mode": {
    "name": "ipython",
    "version": 3
   },
   "file_extension": ".py",
   "mimetype": "text/x-python",
   "name": "python",
   "nbconvert_exporter": "python",
   "pygments_lexer": "ipython3",
   "version": "3.7.4"
  }
 },
 "nbformat": 4,
 "nbformat_minor": 2
}
