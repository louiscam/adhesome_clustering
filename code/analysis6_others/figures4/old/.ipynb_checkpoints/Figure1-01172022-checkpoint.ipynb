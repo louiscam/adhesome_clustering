{
 "cells": [
  {
   "cell_type": "markdown",
   "metadata": {},
   "source": [
    "# Figure 1: Adhesome genes/loci are close in HiC"
   ]
  },
  {
   "cell_type": "code",
   "execution_count": 21,
   "metadata": {
    "code_folding": [
     0
    ]
   },
   "outputs": [
    {
     "data": {
      "text/plain": [
       "<module 'correlation_clustering' from '/home/louiscam/projects/gpcr/code/figures4/correlation_clustering.py'>"
      ]
     },
     "execution_count": 21,
     "metadata": {},
     "output_type": "execute_result"
    }
   ],
   "source": [
    "# Import standard libraries\n",
    "import warnings\n",
    "warnings.simplefilter(action='ignore', category=FutureWarning)\n",
    "from importlib import reload\n",
    "import numpy as np\n",
    "import matplotlib as mpl\n",
    "import matplotlib.pyplot as plt\n",
    "from brokenaxes import brokenaxes\n",
    "from scipy.cluster.hierarchy import dendrogram, linkage, fcluster\n",
    "from sklearn.metrics import adjusted_mutual_info_score\n",
    "import seaborn as sns\n",
    "from scipy import sparse\n",
    "import scipy.stats as ss\n",
    "import csv\n",
    "import pandas as pd\n",
    "import networkx as nx\n",
    "import community\n",
    "import communities as com\n",
    "import pickle\n",
    "from collections import defaultdict\n",
    "import operator\n",
    "from scipy.sparse import csr_matrix\n",
    "import itertools\n",
    "import os.path\n",
    "import math\n",
    "from sklearn.cluster import AgglomerativeClustering\n",
    "from sklearn.decomposition import PCA\n",
    "from sklearn.manifold import TSNE\n",
    "from sklearn.metrics import adjusted_mutual_info_score\n",
    "from networkx.algorithms.community.kclique import k_clique_communities\n",
    "import pybedtools\n",
    "import time\n",
    "from tqdm import tqdm\n",
    "import random\n",
    "import OmicsIntegrator as oi\n",
    "import gseapy\n",
    "from gseapy.plot import barplot, dotplot\n",
    "from ortools.linear_solver import pywraplp\n",
    "# Custom libraries\n",
    "import utils as lu\n",
    "import correlation_clustering as cc\n",
    "# Reload modules in case of modifications\n",
    "reload(lu)\n",
    "reload(cc)"
   ]
  },
  {
   "cell_type": "code",
   "execution_count": 22,
   "metadata": {
    "code_folding": [
     0
    ]
   },
   "outputs": [],
   "source": [
    "# Specify all directories\n",
    "# Directory of adhesome data\n",
    "dir_adhesome = '/home/louiscam/projects/gpcr/data/adhesome_data/'\n",
    "# Directory of genome data\n",
    "dir_genome = '/home/louiscam/projects/gpcr/data/genome_data/'\n",
    "# Directory of processed HiC\n",
    "dir_processed_hic = '/home/louiscam/projects/gpcr/save/processed_hic_data_dir/'\n",
    "# Directory for storing preliminary results\n",
    "prelim_results_dir = '/home/louiscam/projects/gpcr/save/prelim_results_dir/'\n",
    "# Directory of epigenomic data\n",
    "epigenome_dir = '/home/louiscam/projects/gpcr/data/epigenome_data/'\n",
    "processed_epigenome_data_dir = '/home/louiscam/projects/gpcr/save/processed_epigenome_data_dir/'\n",
    "# Saving directory\n",
    "saving_dir = '/home/louiscam/projects/gpcr/save/figures/'"
   ]
  },
  {
   "cell_type": "code",
   "execution_count": 23,
   "metadata": {
    "code_folding": [
     0
    ]
   },
   "outputs": [],
   "source": [
    "# Relevant information\n",
    "cell_type = 'IMR90'\n",
    "resol_str = '250kb'\n",
    "resol = 250000\n",
    "quality = 'MAPQGE30'"
   ]
  },
  {
   "cell_type": "markdown",
   "metadata": {},
   "source": [
    "### Load gene data"
   ]
  },
  {
   "cell_type": "code",
   "execution_count": 24,
   "metadata": {},
   "outputs": [],
   "source": [
    "# Active/inactive loci\n",
    "all_active_loci = pickle.load(open(saving_dir+'all_active_loci.pkl', 'rb'))\n",
    "all_inactive_loci = pickle.load(open(saving_dir+'all_inactive_loci.pkl', 'rb'))\n",
    "# Active/inactive genes\n",
    "active_genes = pickle.load(open(saving_dir+'active_genes.pkl','rb'))\n",
    "inactive_genes = pickle.load(open(saving_dir+'inactive_genes.pkl','rb'))"
   ]
  },
  {
   "cell_type": "code",
   "execution_count": 25,
   "metadata": {},
   "outputs": [],
   "source": [
    "# Adhesome genes\n",
    "active_adhesome_loci = pickle.load(open(saving_dir+'active_adhesome_loci.pkl', 'rb'))\n",
    "inactive_adhesome_loci = pickle.load(open(saving_dir+'inactive_adhesome_loci.pkl', 'rb'))\n",
    "active_adhesome_genes = pickle.load(open(saving_dir+'active_adhesome_genes.pkl','rb'))\n",
    "inactive_adhesome_genes = pickle.load(open(saving_dir+'inactive_adhesome_genes.pkl','rb'))\n",
    "adhesome_chr_loci = pickle.load(open(saving_dir+'adhesome_chr_loci.pkl','rb'))"
   ]
  },
  {
   "cell_type": "markdown",
   "metadata": {},
   "source": [
    "### Active/inactive adhesome loci per chromosome"
   ]
  },
  {
   "cell_type": "code",
   "execution_count": 26,
   "metadata": {
    "code_folding": []
   },
   "outputs": [
    {
     "name": "stdout",
     "output_type": "stream",
     "text": [
      "Number of active adhesome loci = 281\n",
      "Number of inactive adhesome loci = 16\n"
     ]
    },
    {
     "data": {
      "text/plain": [
       "<Figure size 432x288 with 0 Axes>"
      ]
     },
     "metadata": {},
     "output_type": "display_data"
    },
    {
     "data": {
      "image/png": "[encoded data removed]",
      "text/plain": [
       "<Figure size 432x288 with 1 Axes>"
      ]
     },
     "metadata": {
      "needs_background": "light"
     },
     "output_type": "display_data"
    }
   ],
   "source": [
    "# Basic statistics\n",
    "print('Number of active adhesome loci = '+str(len(active_adhesome_loci)))\n",
    "print('Number of inactive adhesome loci = '+str(len(inactive_adhesome_loci)))\n",
    "# Plot number of active/inactive adhesome loci for all chromosomes\n",
    "df_bar = adhesome_chr_loci.groupby(['chrom_int'])\n",
    "df_bar1 = df_bar['active'].value_counts().unstack()\n",
    "plt.figure()\n",
    "df_bar1.plot(kind='bar', title='active/inactive adhesome loci per chromosome')\n",
    "plt.xticks(rotation='horizontal')\n",
    "plt.xlabel('chromosome')\n",
    "plt.ylabel('number of adhesome loci')\n",
    "plt.show()"
   ]
  },
  {
   "cell_type": "markdown",
   "metadata": {},
   "source": [
    "### Compare to random loci"
   ]
  },
  {
   "cell_type": "code",
   "execution_count": 27,
   "metadata": {},
   "outputs": [],
   "source": [
    "# Import list of all blacklisted loci\n",
    "blacklist_list = pickle.load(open(dir_processed_hic+'blacklist_list.pkl', 'rb'))"
   ]
  },
  {
   "cell_type": "code",
   "execution_count": 28,
   "metadata": {},
   "outputs": [],
   "source": [
    "# Create a dictionary of all non-blacklisted non-adhesome active for each chromosome\n",
    "all_active_loci_without_adhesome = list(set(all_active_loci)-set(active_adhesome_loci)-set(blacklist_list))\n",
    "active_loci_pool = {chrom: [locus for locus in all_active_loci_without_adhesome if (int(locus.split('_')[1])==chrom)] \n",
    "                    for chrom in np.arange(1,22+1,1)}\n",
    "# Create a dictionary of all non-blacklisted non-adhesome inactive for each chromosome\n",
    "all_inactive_loci_without_adhesome = list(set(all_inactive_loci)-set(inactive_adhesome_loci)-set(blacklist_list))\n",
    "inactive_loci_pool = {chrom: [locus for locus in all_inactive_loci_without_adhesome if (int(locus.split('_')[1])==chrom)] \n",
    "                    for chrom in np.arange(1,22+1,1)}"
   ]
  },
  {
   "cell_type": "code",
   "execution_count": 29,
   "metadata": {
    "code_folding": []
   },
   "outputs": [],
   "source": [
    "# Number of adhesome loci per chromosome\n",
    "number_active_adhesome_per_chrom = {chrom: len([locus for locus in active_adhesome_loci if (int(locus.split('_')[1])==chrom)])\n",
    "                                  for chrom in np.arange(1,22+1,1)}\n",
    "number_inactive_adhesome_per_chrom = {chrom: len([locus for locus in inactive_adhesome_loci if (int(locus.split('_')[1])==chrom)])\n",
    "                                  for chrom in np.arange(1,22+1,1)}"
   ]
  },
  {
   "cell_type": "code",
   "execution_count": 30,
   "metadata": {},
   "outputs": [],
   "source": [
    "# Random non-adhesome active loci\n",
    "random.seed(13)\n",
    "random_active_non_adhesome_loci = list(itertools.chain.from_iterable(\n",
    "    [random.sample(active_loci_pool[chrom],number_active_adhesome_per_chrom[chrom]) \n",
    "     for chrom in np.arange(1,22+1,1)]))\n",
    "pickle.dump(random_active_non_adhesome_loci ,open(saving_dir+'random_active_non_adhesome_loci.pkl', 'wb'), protocol=pickle.HIGHEST_PROTOCOL)\n",
    "# Random non-adhesome inactive loci\n",
    "random.seed(13)\n",
    "random_inactive_non_adhesome_loci = list(itertools.chain.from_iterable(\n",
    "    [random.sample(inactive_loci_pool[chrom],number_inactive_adhesome_per_chrom[chrom]) \n",
    "     for chrom in np.arange(1,22+1,1)]))\n",
    "pickle.dump(random_inactive_non_adhesome_loci ,open(saving_dir+'random_inactive_non_adhesome_loci.pkl', 'wb'), protocol=pickle.HIGHEST_PROTOCOL)"
   ]
  },
  {
   "cell_type": "code",
   "execution_count": 31,
   "metadata": {
    "code_folding": []
   },
   "outputs": [],
   "source": [
    "# Create list out of all adhesome and random groups of loci\n",
    "random_active_non_adhesome_loci = np.array(pickle.load(open(saving_dir+'random_active_non_adhesome_loci.pkl', 'rb')))\n",
    "random_inactive_non_adhesome_loci = np.array(pickle.load(open(saving_dir+'random_inactive_non_adhesome_loci.pkl', 'rb')))\n",
    "# Group all loci list by chromosome\n",
    "active_adhesome_loci = active_adhesome_loci[np.argsort([int(locus.split('_')[1]) for locus in active_adhesome_loci])]\n",
    "inactive_adhesome_loci = inactive_adhesome_loci[np.argsort([int(locus.split('_')[1]) for locus in inactive_adhesome_loci])]\n",
    "random_active_non_adhesome_loci = random_active_non_adhesome_loci[np.argsort([int(locus.split('_')[1]) for locus in random_active_non_adhesome_loci])]\n",
    "random_inactive_non_adhesome_loci = random_inactive_non_adhesome_loci[np.argsort([int(locus.split('_')[1]) for locus in random_inactive_non_adhesome_loci])]\n",
    "# Create combined list\n",
    "loci_list = list(itertools.chain.from_iterable([active_adhesome_loci,\n",
    "                                                inactive_adhesome_loci,\n",
    "                                                random_active_non_adhesome_loci,\n",
    "                                                random_inactive_non_adhesome_loci]))"
   ]
  },
  {
   "cell_type": "code",
   "execution_count": 32,
   "metadata": {},
   "outputs": [
    {
     "name": "stderr",
     "output_type": "stream",
     "text": [
      "100%|██████████| 231/231 [00:35<00:00,  6.44it/s]\n"
     ]
    }
   ],
   "source": [
    "# Compute corresponding Hi-C matrix\n",
    "contacts_df = pd.DataFrame(0, index=loci_list, columns=loci_list)\n",
    "# Loop over all chromosome pairs and fill gene_contacts_df\n",
    "chr_list = np.arange(1,23,1)\n",
    "chr_pairs = list(itertools.combinations(chr_list, 2))\n",
    "for pair in tqdm(chr_pairs):\n",
    "    time.sleep(.01)\n",
    "    chr1, chr2 = pair\n",
    "\n",
    "    # Select loci on chr1 and chr2\n",
    "    loci_chr1 = [locus for locus in loci_list if ('chr_'+str(chr1)+'_') in locus]\n",
    "    loci_chr2 = [locus for locus in loci_list if ('chr_'+str(chr2)+'_') in locus]\n",
    "\n",
    "    # Load HiC data for this chromosome pair\n",
    "    processed_hic_filename = 'hic_'+'chr'+str(chr1)+'_'+'chr'+str(chr2)+'_norm1_filter3'+'.pkl'\n",
    "    hic_chpair_df = pickle.load(open(dir_processed_hic+processed_hic_filename, 'rb'))\n",
    "\n",
    "    # Fill in corresponding submatrix of gene_contacts_df by sum of Hi-C contacts across all gene loci\n",
    "    locus_id_pairs = itertools.product(loci_chr1,loci_chr2)\n",
    "    for locus1_id, locus2_id in locus_id_pairs:\n",
    "        locus1 = int(locus1_id.split('_')[3])\n",
    "        locus2 = int(locus2_id.split('_')[3])\n",
    "        contacts_df.loc[locus1_id, locus2_id] = hic_chpair_df.loc[locus1,locus2]\n",
    "# Symmetrize data frame\n",
    "contacts_df1 = contacts_df+contacts_df.T\n",
    "pickle.dump(contacts_df1, open(saving_dir+'contacts_df1.pkl', 'wb'), protocol=pickle.HIGHEST_PROTOCOL)"
   ]
  },
  {
   "cell_type": "code",
   "execution_count": null,
   "metadata": {},
   "outputs": [
    {
     "name": "stderr",
     "output_type": "stream",
     "text": [
      " 14%|█▍        | 32/231 [00:37<03:31,  1.07s/it]"
     ]
    }
   ],
   "source": [
    "# Compute HiC matrix for all active non-blacklisted non-adhesome loci\n",
    "loci_list = all_active_loci_without_adhesome\n",
    "nonadh_contacts_ls = []\n",
    "# Loop over all chromosome pairs and fill gene_contacts_df\n",
    "chr_list = np.arange(1,23,1)\n",
    "chr_pairs = list(itertools.combinations(chr_list, 2))\n",
    "for pair in tqdm(chr_pairs):\n",
    "    time.sleep(.01)\n",
    "    chr1, chr2 = pair\n",
    "\n",
    "    # Select loci on chr1 and chr2\n",
    "    loci_chr1 = [locus for locus in loci_list if ('chr_'+str(chr1)+'_') in locus]\n",
    "    loci_chr2 = [locus for locus in loci_list if ('chr_'+str(chr2)+'_') in locus]\n",
    "\n",
    "    # Load HiC data for this chromosome pair\n",
    "    processed_hic_filename = 'hic_'+'chr'+str(chr1)+'_'+'chr'+str(chr2)+'_norm1_filter3'+'.pkl'\n",
    "    hic_chpair_df = pickle.load(open(dir_processed_hic+processed_hic_filename, 'rb'))\n",
    "\n",
    "    # Fill in corresponding submatrix of gene_contacts_df by sum of Hi-C contacts across all gene loci\n",
    "    locus_id_pairs = itertools.product(loci_chr1,loci_chr2)\n",
    "    for locus1_id, locus2_id in locus_id_pairs:\n",
    "        locus1 = int(locus1_id.split('_')[3])\n",
    "        locus2 = int(locus2_id.split('_')[3])\n",
    "        nonadh_contacts_ls.append(hic_chpair_df.loc[locus1,locus2])\n",
    "# Symmetrize data frame\n",
    "pickle.dump(nonadh_contacts_ls, open(saving_dir+'nonadh_contacts_ls.pkl', 'wb'), protocol=pickle.HIGHEST_PROTOCOL)"
   ]
  },
  {
   "cell_type": "code",
   "execution_count": null,
   "metadata": {
    "code_folding": []
   },
   "outputs": [],
   "source": [
    "# Load contacts_df1\n",
    "contacts_df1 = pickle.load(open(saving_dir+'contacts_df1.pkl', 'rb'))\n",
    "# Plot data frame as heatmap\n",
    "patches_list = [[0,1,len(active_adhesome_loci), len(active_adhesome_loci),'dodgerblue'],\n",
    "                #[0, len(active_adhesome_loci)+len(inactive_adhesome_loci),len(random_active_non_adhesome_loci),len(random_active_non_adhesome_loci),'green'],\n",
    "                [len(active_adhesome_loci),len(active_adhesome_loci),len(active_adhesome_loci),len(active_adhesome_loci),'orange']]\n",
    "loci_list_active = list(itertools.chain.from_iterable([active_adhesome_loci, random_active_non_adhesome_loci]))\n",
    "lu.plot_heatmap(contacts_df1.loc[loci_list_active,loci_list_active],\n",
    "                loci_list_active, loci_list_active, 'loci', 'loci', \n",
    "                5, contacts_df1.loc[loci_list_active,loci_list_active].max().max(), add_patches = patches_list)"
   ]
  },
  {
   "cell_type": "code",
   "execution_count": null,
   "metadata": {},
   "outputs": [],
   "source": [
    "# Load contacts_df1\n",
    "contacts_df1 = pickle.load(open(saving_dir+'contacts_df1.pkl', 'rb'))\n",
    "# Plot heatmaps\n",
    "lu.plot_heatmap(contacts_df1.loc[active_adhesome_loci,active_adhesome_loci],\n",
    "                ['' for _ in active_adhesome_loci], ['' for _ in active_adhesome_loci], \n",
    "                'active adhesome loci', 'active adhesome loci', \n",
    "                size=5, fontsize=5,\n",
    "                vmax=contacts_df1.loc[loci_list_active,loci_list_active].max().max(), add_patches = patches_list,\n",
    "                cmap='Reds')\n",
    "lu.plot_heatmap(contacts_df1.loc[random_active_non_adhesome_loci,random_active_non_adhesome_loci],\n",
    "                ['' for _ in random_active_non_adhesome_loci], ['' for _ in random_active_non_adhesome_loci], \n",
    "                'active random non-adhesome loci', 'active random non-adhesome loci', \n",
    "                size=5, fontsize=5,\n",
    "                vmax=contacts_df1.loc[loci_list_active,loci_list_active].max().max(), add_patches = patches_list,\n",
    "                cmap='Reds')"
   ]
  },
  {
   "cell_type": "code",
   "execution_count": null,
   "metadata": {},
   "outputs": [],
   "source": [
    "# Histogram of average Hi-C contacts in three active cases\n",
    "\n",
    "# Group of active adhesome loci with itself (remove 0 values)\n",
    "# active_adhesome_hic_with_itself = contacts_df1.loc[active_adhesome_loci,active_adhesome_loci].sum(axis=1).values\n",
    "# active_adhesome_hic_with_itself = active_adhesome_hic_with_itself/(len(active_adhesome_loci)-np.array([number_active_adhesome_per_chrom[int(l.split('_')[1])] \n",
    "#                                                                                                        for l in active_adhesome_loci]))\n",
    "indices = np.triu_indices(len(contacts_df1.loc[active_adhesome_loci,active_adhesome_loci]))\n",
    "num_zeros_intraX = sum([int(number_active_adhesome_per_chrom[chrom]*(number_active_adhesome_per_chrom[chrom]+1)/2)\n",
    "                        for chrom in np.arange(1,22+1,1)])\n",
    "active_adhesome_hic_with_itself = sorted(contacts_df1.loc[active_adhesome_loci,\n",
    "                                                   active_adhesome_loci].values[indices])[num_zeros_intraX:]\n",
    "# Group of all active non-adhesome loci with itself\n",
    "nonadh_contacts_ls = pickle.load(open(saving_dir+'nonadh_contacts_ls.pkl', 'rb'))\n",
    "all_active_nonadhesome_hic_with_itself = nonadh_contacts_ls\n",
    "\n",
    "# Histogram\n",
    "plt.figure()\n",
    "plt.hist(active_adhesome_hic_with_itself, \n",
    "         bins=np.arange(0,4,0.1), alpha=0.5, density=True, label='interaction between active adhesome loci')\n",
    "plt.hist(all_active_nonadhesome_hic_with_itself, \n",
    "         bins=np.arange(0,4,0.1), alpha=0.5, density=True, label='interaction between active non-adhesome loci')\n",
    "plt.xlabel('average Hi-C contact')\n",
    "plt.ylabel('loci density')\n",
    "plt.title('Interchromosomal Hi-C contact distribution')\n",
    "plt.ylim(0,2.5)\n",
    "plt.legend(loc='upper right') #, bbox_to_anchor=(1,0.5)\n",
    "plt.show()\n",
    "# Tests\n",
    "\n",
    "print('Wilcoxon Rank-Sums test (blue vs orange):')\n",
    "print(ss.ranksums(active_adhesome_hic_with_itself,\n",
    "                  all_active_nonadhesome_hic_with_itself))"
   ]
  },
  {
   "cell_type": "code",
   "execution_count": 41,
   "metadata": {
    "code_folding": []
   },
   "outputs": [
    {
     "data": {
      "image/png": "[encoded data removed]",
      "text/plain": [
       "<Figure size 432x288 with 1 Axes>"
      ]
     },
     "metadata": {
      "needs_background": "light"
     },
     "output_type": "display_data"
    },
    {
     "name": "stdout",
     "output_type": "stream",
     "text": [
      "Wilcoxon Rank-Sums test (blue vs orange):\n",
      "RanksumsResult(statistic=10.205325649588643, pvalue=1.8769046533937324e-24)\n",
      "Wilcoxon Rank-Sums test (green vs orange):\n",
      "RanksumsResult(statistic=1.5360593245772596, pvalue=0.12452383110604778)\n"
     ]
    }
   ],
   "source": [
    "# Histogram of average Hi-C contacts in three active cases\n",
    "# Group of active adhesome loci with itself (remove 0 values)\n",
    "#active_adhesome_hic_with_itself = contacts_df1.loc[active_adhesome_loci,active_adhesome_loci].mean(axis=1)\n",
    "active_adhesome_hic_with_itself = contacts_df1.loc[active_adhesome_loci,active_adhesome_loci].sum(axis=1).values\n",
    "active_adhesome_hic_with_itself = active_adhesome_hic_with_itself/(len(active_adhesome_loci)-np.array([number_active_adhesome_per_chrom[int(l.split('_')[1])] \n",
    "                                                                                                       for l in active_adhesome_loci]))\n",
    "# Group of random active non-adhesome loci with itself (remove 0 values)\n",
    "#random_active_adhesome_hic_with_itself = contacts_df1.loc[random_active_non_adhesome_loci,random_active_non_adhesome_loci].mean(axis=1)\n",
    "random_active_adhesome_hic_with_itself = contacts_df1.loc[random_active_non_adhesome_loci,random_active_non_adhesome_loci].sum(axis=1).values\n",
    "random_active_adhesome_hic_with_itself = random_active_adhesome_hic_with_itself/(len(random_active_non_adhesome_loci)-np.array([number_active_adhesome_per_chrom[int(l.split('_')[1])] \n",
    "                                                                                                       for l in random_active_non_adhesome_loci]))\n",
    "\n",
    "# Group of random active non-adhesome loci with active adhesome loci\n",
    "random_versus_adhesome_active = contacts_df1.loc[active_adhesome_loci,random_active_non_adhesome_loci].mean(axis=1)\n",
    "# Histogram\n",
    "plt.figure()\n",
    "plt.hist(active_adhesome_hic_with_itself, \n",
    "         bins=np.arange(0,2,0.05), alpha=0.5, density=False, label='interaction between active adhesome loci')\n",
    "plt.hist(random_active_adhesome_hic_with_itself, \n",
    "         bins=np.arange(0,2,0.05), alpha=0.5, density=False, label='interaction between random active non-adhesome loci')\n",
    "# plt.hist(random_versus_adhesome_active, \n",
    "#          bins=np.arange(0,2,0.05), alpha=0.5, density=False, label='random non-adhesome loci x adhesome loci')\n",
    "plt.xlabel('average Hi-C contact')\n",
    "plt.ylabel('number of loci')\n",
    "plt.title('Interchromosomal Hi-C contact distribution')\n",
    "plt.ylim(0,50)\n",
    "plt.legend(loc='upper left') #, bbox_to_anchor=(1,0.5)\n",
    "plt.show()\n",
    "# Tests\n",
    "\n",
    "print('Wilcoxon Rank-Sums test (blue vs orange):')\n",
    "print(ss.ranksums(active_adhesome_hic_with_itself,\n",
    "                  random_active_adhesome_hic_with_itself))\n",
    "print('Wilcoxon Rank-Sums test (green vs orange):')\n",
    "print(ss.ranksums(random_versus_adhesome_active,\n",
    "                  random_active_adhesome_hic_with_itself))"
   ]
  },
  {
   "cell_type": "code",
   "execution_count": 42,
   "metadata": {
    "code_folding": []
   },
   "outputs": [
    {
     "data": {
      "image/png": "[encoded data removed]",
      "text/plain": [
       "<Figure size 432x288 with 1 Axes>"
      ]
     },
     "metadata": {
      "needs_background": "light"
     },
     "output_type": "display_data"
    },
    {
     "name": "stdout",
     "output_type": "stream",
     "text": [
      "Wilcoxon Rank-Sums test (blue vs orange):\n",
      "RanksumsResult(statistic=47.92617541820646, pvalue=0.0)\n"
     ]
    }
   ],
   "source": [
    "# Histogram of average Hi-C contacts in three active cases\n",
    "indices = np.triu_indices(len(contacts_df1.loc[active_adhesome_loci,active_adhesome_loci]))\n",
    "num_zeros_intraX = sum([int(number_active_adhesome_per_chrom[chrom]*(number_active_adhesome_per_chrom[chrom]+1)/2)\n",
    "                        for chrom in np.arange(1,22+1,1)])\n",
    "# Group of active adhesome loci with itself\n",
    "active_adhesome_hic_with_itself = sorted(contacts_df1.loc[active_adhesome_loci,\n",
    "                                                   active_adhesome_loci].values[indices])[num_zeros_intraX:]\n",
    "# Group of random active non-adhesome loci with itself\n",
    "random_active_adhesome_hic_with_itself = sorted(contacts_df1.loc[random_active_non_adhesome_loci,\n",
    "                                                          random_active_non_adhesome_loci].values[indices])[num_zeros_intraX:]\n",
    "# Group of random active non-adhesome loci with active adhesome loci\n",
    "random_versus_adhesome_active = sorted(contacts_df1.loc[active_adhesome_loci,\n",
    "                                                 random_active_non_adhesome_loci].values[indices])[num_zeros_intraX:]\n",
    "# Histogram\n",
    "plt.figure()\n",
    "plt.hist(active_adhesome_hic_with_itself, \n",
    "         bins=np.arange(0,4,0.1), alpha=0.5, density=False, label='adhesome loci x adhesome loci')\n",
    "plt.hist(random_active_adhesome_hic_with_itself, \n",
    "         bins=np.arange(0,4,0.1), alpha=0.5, density=False, label='random non-adhesome loci x random non-adhesome loci')\n",
    "#plt.vlines(x=1.5, ymin=0, ymax=9000, color='red', linestyle='dashed')\n",
    "plt.xlabel('Hi-C contact')\n",
    "plt.ylabel('number of interactions')\n",
    "plt.title('Hi-C distribution for three groups of active loci')\n",
    "plt.ylim(0,14000)\n",
    "plt.legend(loc='upper left')\n",
    "plt.show()\n",
    "print('Wilcoxon Rank-Sums test (blue vs orange):')\n",
    "print(ss.ranksums(active_adhesome_hic_with_itself,\n",
    "                  random_active_adhesome_hic_with_itself))"
   ]
  },
  {
   "cell_type": "code",
   "execution_count": 58,
   "metadata": {
    "code_folding": []
   },
   "outputs": [
    {
     "data": {
      "image/png": "[encoded data removed]",
      "text/plain": [
       "<Figure size 360x360 with 2 Axes>"
      ]
     },
     "metadata": {
      "needs_background": "light"
     },
     "output_type": "display_data"
    }
   ],
   "source": [
    "# Load contacts_df1\n",
    "contacts_df1 = pickle.load(open(saving_dir+'contacts_df1.pkl', 'rb'))\n",
    "# Plot data frame as heatmap\n",
    "patches_list = [[-0.5,-0.5,len(inactive_adhesome_loci), len(inactive_adhesome_loci),'dodgerblue'],\n",
    "                [len(inactive_adhesome_loci),len(inactive_adhesome_loci),len(inactive_adhesome_loci),len(inactive_adhesome_loci),'orange']]\n",
    "loci_list_inactive = list(itertools.chain.from_iterable([inactive_adhesome_loci, random_inactive_non_adhesome_loci]))\n",
    "lu.plot_heatmap(contacts_df1.loc[loci_list_inactive,loci_list_inactive], \n",
    "                loci_list_inactive, loci_list_inactive, 'loci', 'loci', \n",
    "                5, contacts_df1.max().max(), add_patches = patches_list)"
   ]
  },
  {
   "cell_type": "code",
   "execution_count": 49,
   "metadata": {
    "code_folding": [
     0
    ]
   },
   "outputs": [
    {
     "data": {
      "image/png": "[encoded data removed]",
      "text/plain": [
       "<Figure size 432x288 with 1 Axes>"
      ]
     },
     "metadata": {
      "needs_background": "light"
     },
     "output_type": "display_data"
    },
    {
     "name": "stdout",
     "output_type": "stream",
     "text": [
      "Wilcoxon Rank-Sums test:\n",
      "RanksumsResult(statistic=0.6407116072277477, pvalue=0.5217100714438103)\n"
     ]
    }
   ],
   "source": [
    "# Histogram of average Hi-C contacts in three inactive cases\n",
    "# Group of inactive adhesome loci with itself\n",
    "inactive_adhesome_hic_with_itself = contacts_df1.loc[inactive_adhesome_loci,inactive_adhesome_loci].mean(axis=1)\n",
    "# Group of random inactive non-adhesome loci with itself\n",
    "random_inactive_adhesome_hic_with_itself = contacts_df1.loc[random_inactive_non_adhesome_loci,random_inactive_non_adhesome_loci].mean(axis=1)\n",
    "# Group of random inactive non-adhesome loci with inactive adhesome loci\n",
    "random_versus_adhesome_inactive = contacts_df1.loc[inactive_adhesome_loci,random_inactive_non_adhesome_loci].mean(axis=1)\n",
    "# Histogram\n",
    "plt.figure()\n",
    "plt.hist(inactive_adhesome_hic_with_itself, \n",
    "         bins=np.arange(0,2,0.05), alpha=0.5, density=False, label='adhesome loci x adhesome loci')\n",
    "plt.hist(random_inactive_adhesome_hic_with_itself, \n",
    "         bins=np.arange(0,2,0.05), alpha=0.5, density=False, label='random non-adhesome loci x random non-adhesome loci')\n",
    "plt.hist(random_versus_adhesome_inactive, \n",
    "         bins=np.arange(0,2,0.05), alpha=0.5, density=False, label='random non-adhesome loci x adhesome loci')\n",
    "plt.xlabel('average Hi-C contact')\n",
    "plt.ylabel('number of loci')\n",
    "plt.title('Hi-C distribution for three groups of inactive loci')\n",
    "plt.ylim(0,6)\n",
    "plt.legend(loc='upper left')\n",
    "plt.show()\n",
    "print('Wilcoxon Rank-Sums test:')\n",
    "print(ss.ranksums(inactive_adhesome_hic_with_itself.values,\n",
    "                  random_inactive_adhesome_hic_with_itself))"
   ]
  },
  {
   "cell_type": "code",
   "execution_count": 50,
   "metadata": {
    "code_folding": [
     0
    ]
   },
   "outputs": [
    {
     "data": {
      "image/png": "[encoded data removed]",
      "text/plain": [
       "<Figure size 432x288 with 1 Axes>"
      ]
     },
     "metadata": {
      "needs_background": "light"
     },
     "output_type": "display_data"
    }
   ],
   "source": [
    "# Histogram of average Hi-C contacts in three active cases\n",
    "indices = np.triu_indices(len(contacts_df1.loc[inactive_adhesome_loci,inactive_adhesome_loci]))\n",
    "num_zeros_intraX = sum([int(number_inactive_adhesome_per_chrom[chrom]*(number_inactive_adhesome_per_chrom[chrom]+1)/2)\n",
    "                        for chrom in np.arange(1,22+1,1)])\n",
    "# Group of active adhesome loci with itself\n",
    "inactive_adhesome_hic_with_itself = sorted(contacts_df1.loc[inactive_adhesome_loci,\n",
    "                                                   inactive_adhesome_loci].values[indices])[num_zeros_intraX:]\n",
    "# Group of random active non-adhesome loci with itself\n",
    "random_inactive_adhesome_hic_with_itself = sorted(contacts_df1.loc[random_inactive_non_adhesome_loci,\n",
    "                                                          random_inactive_non_adhesome_loci].values[indices])[num_zeros_intraX:]\n",
    "# Histogram\n",
    "plt.figure()\n",
    "plt.hist(inactive_adhesome_hic_with_itself, \n",
    "         bins=np.arange(0,2.2,0.1), alpha=0.5, density=False, label='adhesome loci x adhesome loci')\n",
    "plt.hist(random_inactive_adhesome_hic_with_itself, \n",
    "         bins=np.arange(0,2.2,0.1), alpha=0.5, density=False, label='random non-adhesome loci x random non-adhesome loci')\n",
    "plt.xlabel('Hi-C contact')\n",
    "plt.ylabel('number of interactions')\n",
    "plt.title('Hi-C distribution for three groups of inactive loci')\n",
    "plt.ylim(0,100)\n",
    "plt.legend(loc='upper left')\n",
    "plt.show()"
   ]
  },
  {
   "cell_type": "markdown",
   "metadata": {},
   "source": [
    "### Supplement: show HiC connections between chromosomes"
   ]
  },
  {
   "cell_type": "code",
   "execution_count": 51,
   "metadata": {
    "code_folding": []
   },
   "outputs": [],
   "source": [
    "# Initialize empty dataframe\n",
    "chr_list = np.arange(1,22+1)\n",
    "chr_hic_contact = pd.DataFrame(0,index=chr_list, columns=chr_list)"
   ]
  },
  {
   "cell_type": "code",
   "execution_count": 52,
   "metadata": {
    "code_folding": []
   },
   "outputs": [
    {
     "name": "stderr",
     "output_type": "stream",
     "text": [
      "100%|██████████| 231/231 [00:03<00:00, 61.43it/s]\n"
     ]
    }
   ],
   "source": [
    "# List all chromosome pairs\n",
    "chr_pairs = list(itertools.combinations(chr_list, 2))\n",
    "for pair in tqdm(chr_pairs):\n",
    "    time.sleep(.01)\n",
    "    chr1, chr2 = pair\n",
    "    # Load HiC data for this chromosome pair\n",
    "    processed_hic_filename = 'hic_'+'chr'+str(chr1)+'_'+'chr'+str(chr2)+'_norm1_filter3'+'.pkl'\n",
    "    hic_chpair_df = pickle.load(open(dir_processed_hic+processed_hic_filename, 'rb'))\n",
    "    # Fill chr_hic_contact with the average Hi-C contact between chr1 and chr2\n",
    "    chr_hic_contact.loc[chr1,chr2] = hic_chpair_df.mean().mean()\n",
    "    chr_hic_contact.loc[chr2,chr1] = hic_chpair_df.mean().mean()"
   ]
  },
  {
   "cell_type": "code",
   "execution_count": 53,
   "metadata": {
    "code_folding": []
   },
   "outputs": [
    {
     "data": {
      "image/png": "[encoded data removed]",
      "text/plain": [
       "<Figure size 360x360 with 2 Axes>"
      ]
     },
     "metadata": {
      "needs_background": "light"
     },
     "output_type": "display_data"
    }
   ],
   "source": [
    "# Plot average HiC contact between all pairs of chromosomes\n",
    "lu.plot_heatmap(chr_hic_contact, chr_list, chr_list, 'chromosomes', 'chromosomes', \n",
    "                5, chr_hic_contact.max().max())"
   ]
  },
  {
   "cell_type": "code",
   "execution_count": 103,
   "metadata": {},
   "outputs": [
    {
     "name": "stdout",
     "output_type": "stream",
     "text": [
      "Number of active adhesome genes = 196\n",
      "Number of inactive adhesome genes = 26\n"
     ]
    }
   ],
   "source": [
    "# Save active/inactive adhesome genes\n",
    "active_adhesome_genes_2 = df_clusters[(df_clusters['type']=='active') & (df_clusters['adhesome_gene']==1)].index.values\n",
    "inactive_adhesome_genes_2 = df_clusters[(df_clusters['type']=='inactive') & (df_clusters['adhesome_gene']==1)].index.values\n",
    "print('Number of active adhesome genes = '+str(len(active_adhesome_genes_2)))\n",
    "print('Number of inactive adhesome genes = '+str(len(inactive_adhesome_genes_2)))\n",
    "pickle.dump(active_adhesome_genes_2, open(saving_dir+'active_adhesome_genes_2.pkl','wb'))\n",
    "pickle.dump(inactive_adhesome_genes_2, open(saving_dir+'inactive_adhesome_genes_2.pkl','wb'))"
   ]
  },
  {
   "cell_type": "code",
   "execution_count": null,
   "metadata": {},
   "outputs": [],
   "source": []
  }
 ],
 "metadata": {
  "kernelspec": {
   "display_name": "Python 3",
   "language": "python",
   "name": "python3"
  },
  "language_info": {
   "codemirror_mode": {
    "name": "ipython",
    "version": 3
   },
   "file_extension": ".py",
   "mimetype": "text/x-python",
   "name": "python",
   "nbconvert_exporter": "python",
   "pygments_lexer": "ipython3",
   "version": "3.7.4"
  }
 },
 "nbformat": 4,
 "nbformat_minor": 2
}
