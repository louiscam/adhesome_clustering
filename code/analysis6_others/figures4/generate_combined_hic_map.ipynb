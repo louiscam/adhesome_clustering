{
 "cells": [
  {
   "cell_type": "markdown",
   "metadata": {},
   "source": [
    "# Figure 1: Adhesome in IMR90 HiC"
   ]
  },
  {
   "cell_type": "code",
   "execution_count": 1,
   "metadata": {
    "code_folding": [
     0
    ]
   },
   "outputs": [
    {
     "data": {
      "text/plain": [
       "<module 'correlation_clustering' from '/home/louiscam/projects/gpcr/code/figures4/correlation_clustering.py'>"
      ]
     },
     "execution_count": 1,
     "metadata": {},
     "output_type": "execute_result"
    }
   ],
   "source": [
    "# Import standard libraries\n",
    "import sys\n",
    "import warnings\n",
    "warnings.simplefilter(action='ignore', category=FutureWarning)\n",
    "from importlib import reload\n",
    "import numpy as np\n",
    "import matplotlib as mpl\n",
    "import matplotlib.pyplot as plt\n",
    "from matplotlib_venn import venn2, venn3\n",
    "from brokenaxes import brokenaxes\n",
    "from scipy.cluster.hierarchy import dendrogram, linkage, fcluster\n",
    "from sklearn.metrics import adjusted_mutual_info_score\n",
    "import seaborn as sns\n",
    "from scipy import sparse\n",
    "import scipy.stats as ss\n",
    "import csv\n",
    "import pandas as pd\n",
    "import networkx as nx\n",
    "import community\n",
    "import communities as com\n",
    "import pickle\n",
    "from collections import defaultdict\n",
    "import operator\n",
    "from scipy.sparse import csr_matrix\n",
    "import itertools\n",
    "import os.path\n",
    "import math\n",
    "from sklearn.cluster import AgglomerativeClustering\n",
    "from sklearn.decomposition import PCA\n",
    "from sklearn.manifold import TSNE\n",
    "from sklearn.metrics import adjusted_mutual_info_score\n",
    "from networkx.algorithms.community.kclique import k_clique_communities\n",
    "import pybedtools\n",
    "import time\n",
    "from tqdm import tqdm\n",
    "import random\n",
    "import OmicsIntegrator as oi\n",
    "import gseapy\n",
    "from gseapy.plot import barplot, dotplot\n",
    "from ortools.linear_solver import pywraplp\n",
    "# Custom libraries\n",
    "import utils as lu\n",
    "import correlation_clustering as cc\n",
    "# Reload modules in case of modifications\n",
    "reload(lu)\n",
    "reload(cc)"
   ]
  },
  {
   "cell_type": "code",
   "execution_count": 2,
   "metadata": {
    "code_folding": []
   },
   "outputs": [],
   "source": [
    "# Specify all directories\n",
    "# Directory of adhesome data\n",
    "dir_adhesome = '/home/louiscam/projects/gpcr/data/adhesome_data/'\n",
    "# Directory of genome data\n",
    "dir_genome = '/home/louiscam/projects/gpcr/data/genome_data/'\n",
    "# Directory of processed HiC\n",
    "dir_processed_hic = '/home/louiscam/projects/gpcr/save/processed_hic_data/processed_hic_data_IMR90/final_BP250000_intraKR_interGWKR/'\n",
    "# Directory of epigenomic data\n",
    "epigenome_dir = '/home/louiscam/projects/gpcr/data/regulatory_data/regulatory_data_IMR90/'\n",
    "processed_epigenome_data_dir = '/home/louiscam/projects/gpcr/save/processed_regulatory_marks/processed_epigenome_data_IMR90/'\n",
    "# Saving directory\n",
    "saving_dir = '/home/louiscam/projects/gpcr/save/figures/'"
   ]
  },
  {
   "cell_type": "code",
   "execution_count": 3,
   "metadata": {
    "code_folding": []
   },
   "outputs": [],
   "source": [
    "# Relevant information\n",
    "cell_type = 'IMR90'\n",
    "resol_str = '250kb'\n",
    "resol = 250000\n",
    "quality = 'MAPQGE30'"
   ]
  },
  {
   "cell_type": "markdown",
   "metadata": {},
   "source": [
    "### Load auxiliary data"
   ]
  },
  {
   "cell_type": "code",
   "execution_count": 4,
   "metadata": {},
   "outputs": [],
   "source": [
    "# Load dictionaries\n",
    "gene2locus = pickle.load(open(saving_dir+'gene2locus.pkl','rb'))\n",
    "locus2gene = pickle.load(open(saving_dir+'locus2gene.pkl','rb'))\n",
    "gene2chrom = pickle.load(open(saving_dir+'gene2chrom.pkl','rb'))"
   ]
  },
  {
   "cell_type": "code",
   "execution_count": 5,
   "metadata": {},
   "outputs": [],
   "source": [
    "# Load gene location in hg19\n",
    "gene_locations_filename = dir_genome+'chrom_hg19.loc_canonical'\n",
    "gene_id_filename = dir_genome+'chrom_hg19.name'\n",
    "df_loc = lu.get_all_gene_locations(gene_locations_filename, gene_id_filename)"
   ]
  },
  {
   "cell_type": "markdown",
   "metadata": {},
   "source": [
    "### Load gene data"
   ]
  },
  {
   "cell_type": "code",
   "execution_count": 30,
   "metadata": {},
   "outputs": [],
   "source": [
    "# Active genes in IMR90\n",
    "all_active_genes = pickle.load(open(saving_dir+'active_genes.pkl','rb'))"
   ]
  },
  {
   "cell_type": "code",
   "execution_count": 6,
   "metadata": {},
   "outputs": [],
   "source": [
    "# Adhesome genes\n",
    "adhesome_chr_loci = pickle.load(open(saving_dir+'adhesome_chr_loci.pkl','rb'))\n",
    "all_adhesome_genes = adhesome_chr_loci['gene'].unique()\n",
    "all_adhesome_loci = adhesome_chr_loci['locus_id'].unique()"
   ]
  },
  {
   "cell_type": "code",
   "execution_count": 7,
   "metadata": {},
   "outputs": [],
   "source": [
    "# TCR genes\n",
    "tcr_chr_loci = pickle.load(open(saving_dir+'tcr_chr_loci.pkl','rb'))\n",
    "all_tcr_genes = tcr_chr_loci['gene'].unique()\n",
    "all_tcr_loci = tcr_chr_loci['locus_id'].unique()"
   ]
  },
  {
   "cell_type": "code",
   "execution_count": 8,
   "metadata": {},
   "outputs": [],
   "source": [
    "# BCR\n",
    "bcr_chr_loci = pickle.load(open(saving_dir+'bcr_chr_loci.pkl','rb'))\n",
    "all_bcr_genes = bcr_chr_loci['gene'].unique()\n",
    "all_bcr_loci = bcr_chr_loci['locus_id'].unique()"
   ]
  },
  {
   "cell_type": "code",
   "execution_count": 9,
   "metadata": {},
   "outputs": [
    {
     "data": {
      "image/png": "[encoded data removed]",
      "text/plain": [
       "<Figure size 432x288 with 1 Axes>"
      ]
     },
     "metadata": {},
     "output_type": "display_data"
    }
   ],
   "source": [
    "# See overlp between gene lists\n",
    "plt.figure()\n",
    "venn3(subsets = (set(all_adhesome_genes), set(all_tcr_genes), set(all_bcr_genes)), \n",
    "      set_labels = ('Adhesome genes', 'TCR genes', 'BCR genes'))\n",
    "plt.show()"
   ]
  },
  {
   "cell_type": "code",
   "execution_count": 27,
   "metadata": {},
   "outputs": [],
   "source": [
    "# Identify genes in the intersection\n",
    "specific_adhesome_genes = np.array(list(set(all_adhesome_genes)-set(all_tcr_genes)-set(all_bcr_genes)))\n",
    "specific_tcr_genes = np.array(list(set(all_tcr_genes)-set(all_adhesome_genes)-set(all_bcr_genes)))\n",
    "specific_bcr_genes = np.array(list(set(all_bcr_genes)-set(all_adhesome_genes)-set(all_tcr_genes)))\n",
    "common_genes = np.array(list(set.intersection(*[set(all_adhesome_genes), set(all_tcr_genes), set(all_bcr_genes)])))\n",
    "# common_genes = np.array(list(set.union(*[set(all_adhesome_genes), set(all_tcr_genes), set(all_bcr_genes)])-\n",
    "#                              set(specific_adhesome_genes)-set(specific_tcr_genes)-set(specific_bcr_genes)))"
   ]
  },
  {
   "cell_type": "code",
   "execution_count": 10,
   "metadata": {},
   "outputs": [
    {
     "name": "stdout",
     "output_type": "stream",
     "text": [
      "Number of selected loci = 431\n"
     ]
    }
   ],
   "source": [
    "# Selected loci\n",
    "loci_list = np.unique(np.concatenate([all_adhesome_loci, all_tcr_loci, all_bcr_loci]))\n",
    "print(f'Number of selected loci = {len(loci_list)}')"
   ]
  },
  {
   "cell_type": "code",
   "execution_count": 11,
   "metadata": {},
   "outputs": [],
   "source": [
    "# Buld map from selected loci to corresponding genes\n",
    "selected_locus2gene = {}\n",
    "for loc in loci_list:\n",
    "    adhesome_g = adhesome_chr_loci[adhesome_chr_loci['locus_id']==loc]['gene'].unique()\n",
    "    tcr_g = tcr_chr_loci[tcr_chr_loci['locus_id']==loc]['gene'].unique()\n",
    "    bcr_g = bcr_chr_loci[bcr_chr_loci['locus_id']==loc]['gene'].unique()\n",
    "    selected_locus2gene[loc] = np.unique(np.concatenate([adhesome_g, tcr_g, bcr_g]))"
   ]
  },
  {
   "cell_type": "code",
   "execution_count": 12,
   "metadata": {},
   "outputs": [
    {
     "name": "stderr",
     "output_type": "stream",
     "text": [
      "100%|██████████| 231/231 [00:19<00:00, 11.72it/s]\n"
     ]
    }
   ],
   "source": [
    "# Compute corresponding Hi-C matrix\n",
    "contacts_df = pd.DataFrame(0, index=loci_list, columns=loci_list)\n",
    "# Loop over all chromosome pairs and fill gene_contacts_df\n",
    "chr_list = np.arange(1,23,1)\n",
    "chr_pairs = list(itertools.combinations(chr_list, 2))\n",
    "for pair in tqdm(chr_pairs):\n",
    "    time.sleep(.01)\n",
    "    chr1, chr2 = pair\n",
    "\n",
    "    # Select loci on chr1 and chr2\n",
    "    loci_chr1 = [locus for locus in loci_list if ('chr_'+str(chr1)+'_') in locus]\n",
    "    loci_chr2 = [locus for locus in loci_list if ('chr_'+str(chr2)+'_') in locus]\n",
    "\n",
    "    # Load HiC data for this chromosome pair\n",
    "    processed_hic_filename = 'hic_'+'chr'+str(chr1)+'_'+'chr'+str(chr2)+'_norm1_filter3'+'.pkl'\n",
    "    hic_chpair_df = pickle.load(open(dir_processed_hic+processed_hic_filename, 'rb'))\n",
    "\n",
    "    # Fill in corresponding submatrix of gene_contacts_df by sum of Hi-C contacts across all gene loci\n",
    "    locus_id_pairs = itertools.product(loci_chr1,loci_chr2)\n",
    "    for locus1_id, locus2_id in locus_id_pairs:\n",
    "        locus1 = int(locus1_id.split('_')[3])\n",
    "        locus2 = int(locus2_id.split('_')[3])\n",
    "        contacts_df.loc[locus1_id, locus2_id] = hic_chpair_df.loc[locus1,locus2]\n",
    "# Symmetrize data frame\n",
    "contacts_df = contacts_df+contacts_df.T"
   ]
  },
  {
   "cell_type": "code",
   "execution_count": 13,
   "metadata": {},
   "outputs": [
    {
     "name": "stderr",
     "output_type": "stream",
     "text": [
      "100%|██████████| 22/22 [00:18<00:00,  1.19it/s]\n"
     ]
    }
   ],
   "source": [
    "# Create interX edge list\n",
    "interX_edge_list = cc.create_interX_edgelist(contacts_df, loci_list, selected_locus2gene, gene2chrom)\n",
    "# Create intraX edge list\n",
    "intraX_edge_list = cc.create_intraX_edgelist(loci_list, selected_locus2gene, df_loc, resol, dir_processed_hic)"
   ]
  },
  {
   "cell_type": "code",
   "execution_count": 14,
   "metadata": {},
   "outputs": [],
   "source": [
    "# Combine edge lists\n",
    "inter_selected = interX_edge_list[interX_edge_list['scaled_hic']>0]\n",
    "intra_selected = intraX_edge_list[intraX_edge_list['scaled_hic']>0][['source','target',\n",
    "                                                                       'hic','scaled_hic']]\n",
    "all_selected = pd.concat([inter_selected, intra_selected], axis=0)"
   ]
  },
  {
   "cell_type": "code",
   "execution_count": 15,
   "metadata": {},
   "outputs": [],
   "source": [
    "# Create network and obtain adjacency matrix\n",
    "G = nx.from_pandas_edgelist(all_selected, edge_attr='scaled_hic')\n",
    "adj = np.array(nx.adjacency_matrix(G, nodelist=sorted(G.nodes), weight='scaled_hic').todense())\n",
    "adj = pd.DataFrame(adj, index=sorted(G.nodes), columns=sorted(G.nodes))\n",
    "pickle.dump(adj, open(saving_dir+'combined_adjmat_IMR90.pkl','wb'))"
   ]
  },
  {
   "cell_type": "code",
   "execution_count": 16,
   "metadata": {},
   "outputs": [
    {
     "data": {
      "text/html": [
       "<div>\n",
       "<style scoped>\n",
       "    .dataframe tbody tr th:only-of-type {\n",
       "        vertical-align: middle;\n",
       "    }\n",
       "\n",
       "    .dataframe tbody tr th {\n",
       "        vertical-align: top;\n",
       "    }\n",
       "\n",
       "    .dataframe thead th {\n",
       "        text-align: right;\n",
       "    }\n",
       "</style>\n",
       "<table border=\"1\" class=\"dataframe\">\n",
       "  <thead>\n",
       "    <tr style=\"text-align: right;\">\n",
       "      <th></th>\n",
       "      <th>ABI1</th>\n",
       "      <th>ABI2</th>\n",
       "      <th>ABI3</th>\n",
       "      <th>ABL1</th>\n",
       "      <th>ACTB</th>\n",
       "      <th>ACTN1</th>\n",
       "      <th>ADAM12</th>\n",
       "      <th>AGAP2</th>\n",
       "      <th>AKT1</th>\n",
       "      <th>ANKRD28</th>\n",
       "      <th>...</th>\n",
       "      <th>TSPAN1</th>\n",
       "      <th>TUBA1B</th>\n",
       "      <th>VASP</th>\n",
       "      <th>VAV2</th>\n",
       "      <th>VAV3</th>\n",
       "      <th>VCL</th>\n",
       "      <th>VIM</th>\n",
       "      <th>ZAP70</th>\n",
       "      <th>ZFYVE21</th>\n",
       "      <th>ZYX</th>\n",
       "    </tr>\n",
       "  </thead>\n",
       "  <tbody>\n",
       "    <tr>\n",
       "      <th>ABI1</th>\n",
       "      <td>0.944275</td>\n",
       "      <td>0.197030</td>\n",
       "      <td>0.000000</td>\n",
       "      <td>0.188078</td>\n",
       "      <td>0.234306</td>\n",
       "      <td>0.322304</td>\n",
       "      <td>0.212143</td>\n",
       "      <td>0.142197</td>\n",
       "      <td>0.127404</td>\n",
       "      <td>0.189944</td>\n",
       "      <td>...</td>\n",
       "      <td>0.227933</td>\n",
       "      <td>0.236116</td>\n",
       "      <td>0.145235</td>\n",
       "      <td>0.319032</td>\n",
       "      <td>0.315562</td>\n",
       "      <td>0.216318</td>\n",
       "      <td>0.460137</td>\n",
       "      <td>0.389006</td>\n",
       "      <td>0.358745</td>\n",
       "      <td>0.000000</td>\n",
       "    </tr>\n",
       "    <tr>\n",
       "      <th>ABI2</th>\n",
       "      <td>0.197030</td>\n",
       "      <td>0.914104</td>\n",
       "      <td>0.183950</td>\n",
       "      <td>0.386464</td>\n",
       "      <td>0.419845</td>\n",
       "      <td>0.295898</td>\n",
       "      <td>0.237643</td>\n",
       "      <td>0.351250</td>\n",
       "      <td>0.382797</td>\n",
       "      <td>0.362857</td>\n",
       "      <td>...</td>\n",
       "      <td>0.281394</td>\n",
       "      <td>0.433191</td>\n",
       "      <td>0.384490</td>\n",
       "      <td>0.308213</td>\n",
       "      <td>0.121433</td>\n",
       "      <td>0.330144</td>\n",
       "      <td>0.144036</td>\n",
       "      <td>0.188010</td>\n",
       "      <td>0.394009</td>\n",
       "      <td>0.347826</td>\n",
       "    </tr>\n",
       "    <tr>\n",
       "      <th>ABI3</th>\n",
       "      <td>0.000000</td>\n",
       "      <td>0.183950</td>\n",
       "      <td>0.962688</td>\n",
       "      <td>0.598149</td>\n",
       "      <td>0.482250</td>\n",
       "      <td>0.405193</td>\n",
       "      <td>0.170296</td>\n",
       "      <td>0.451788</td>\n",
       "      <td>0.332868</td>\n",
       "      <td>0.251906</td>\n",
       "      <td>...</td>\n",
       "      <td>0.273922</td>\n",
       "      <td>0.506022</td>\n",
       "      <td>0.556040</td>\n",
       "      <td>0.540341</td>\n",
       "      <td>0.082490</td>\n",
       "      <td>0.470379</td>\n",
       "      <td>0.273857</td>\n",
       "      <td>0.281681</td>\n",
       "      <td>0.340364</td>\n",
       "      <td>0.336328</td>\n",
       "    </tr>\n",
       "    <tr>\n",
       "      <th>ABL1</th>\n",
       "      <td>0.188078</td>\n",
       "      <td>0.386464</td>\n",
       "      <td>0.598149</td>\n",
       "      <td>0.930595</td>\n",
       "      <td>0.450068</td>\n",
       "      <td>0.552217</td>\n",
       "      <td>0.253139</td>\n",
       "      <td>0.400544</td>\n",
       "      <td>0.295516</td>\n",
       "      <td>0.359317</td>\n",
       "      <td>...</td>\n",
       "      <td>0.228290</td>\n",
       "      <td>0.547283</td>\n",
       "      <td>0.541235</td>\n",
       "      <td>0.445974</td>\n",
       "      <td>0.023865</td>\n",
       "      <td>0.395632</td>\n",
       "      <td>0.216406</td>\n",
       "      <td>0.309752</td>\n",
       "      <td>0.432177</td>\n",
       "      <td>0.184506</td>\n",
       "    </tr>\n",
       "    <tr>\n",
       "      <th>ACTB</th>\n",
       "      <td>0.234306</td>\n",
       "      <td>0.419845</td>\n",
       "      <td>0.482250</td>\n",
       "      <td>0.450068</td>\n",
       "      <td>0.979167</td>\n",
       "      <td>0.204502</td>\n",
       "      <td>0.338055</td>\n",
       "      <td>0.522715</td>\n",
       "      <td>0.422392</td>\n",
       "      <td>0.224148</td>\n",
       "      <td>...</td>\n",
       "      <td>0.430801</td>\n",
       "      <td>0.491633</td>\n",
       "      <td>0.563195</td>\n",
       "      <td>0.451364</td>\n",
       "      <td>0.104295</td>\n",
       "      <td>0.646033</td>\n",
       "      <td>0.218131</td>\n",
       "      <td>0.287259</td>\n",
       "      <td>0.478137</td>\n",
       "      <td>0.224322</td>\n",
       "    </tr>\n",
       "    <tr>\n",
       "      <th>...</th>\n",
       "      <td>...</td>\n",
       "      <td>...</td>\n",
       "      <td>...</td>\n",
       "      <td>...</td>\n",
       "      <td>...</td>\n",
       "      <td>...</td>\n",
       "      <td>...</td>\n",
       "      <td>...</td>\n",
       "      <td>...</td>\n",
       "      <td>...</td>\n",
       "      <td>...</td>\n",
       "      <td>...</td>\n",
       "      <td>...</td>\n",
       "      <td>...</td>\n",
       "      <td>...</td>\n",
       "      <td>...</td>\n",
       "      <td>...</td>\n",
       "      <td>...</td>\n",
       "      <td>...</td>\n",
       "      <td>...</td>\n",
       "      <td>...</td>\n",
       "    </tr>\n",
       "    <tr>\n",
       "      <th>VCL</th>\n",
       "      <td>0.216318</td>\n",
       "      <td>0.330144</td>\n",
       "      <td>0.470379</td>\n",
       "      <td>0.395632</td>\n",
       "      <td>0.646033</td>\n",
       "      <td>0.393608</td>\n",
       "      <td>0.207910</td>\n",
       "      <td>0.379700</td>\n",
       "      <td>0.159262</td>\n",
       "      <td>0.282627</td>\n",
       "      <td>...</td>\n",
       "      <td>0.412396</td>\n",
       "      <td>0.544622</td>\n",
       "      <td>0.575418</td>\n",
       "      <td>0.411116</td>\n",
       "      <td>0.106273</td>\n",
       "      <td>0.973179</td>\n",
       "      <td>0.246525</td>\n",
       "      <td>0.296877</td>\n",
       "      <td>0.398083</td>\n",
       "      <td>0.238720</td>\n",
       "    </tr>\n",
       "    <tr>\n",
       "      <th>VIM</th>\n",
       "      <td>0.460137</td>\n",
       "      <td>0.144036</td>\n",
       "      <td>0.273857</td>\n",
       "      <td>0.216406</td>\n",
       "      <td>0.218131</td>\n",
       "      <td>0.303117</td>\n",
       "      <td>0.169182</td>\n",
       "      <td>0.321426</td>\n",
       "      <td>0.268738</td>\n",
       "      <td>0.217882</td>\n",
       "      <td>...</td>\n",
       "      <td>0.212023</td>\n",
       "      <td>0.281347</td>\n",
       "      <td>0.366082</td>\n",
       "      <td>0.180208</td>\n",
       "      <td>0.103671</td>\n",
       "      <td>0.246525</td>\n",
       "      <td>0.931406</td>\n",
       "      <td>0.328353</td>\n",
       "      <td>0.378930</td>\n",
       "      <td>0.223801</td>\n",
       "    </tr>\n",
       "    <tr>\n",
       "      <th>ZAP70</th>\n",
       "      <td>0.389006</td>\n",
       "      <td>0.188010</td>\n",
       "      <td>0.281681</td>\n",
       "      <td>0.309752</td>\n",
       "      <td>0.287259</td>\n",
       "      <td>0.264349</td>\n",
       "      <td>0.197732</td>\n",
       "      <td>0.281481</td>\n",
       "      <td>0.334019</td>\n",
       "      <td>0.213025</td>\n",
       "      <td>...</td>\n",
       "      <td>0.000000</td>\n",
       "      <td>0.226805</td>\n",
       "      <td>0.334859</td>\n",
       "      <td>0.343291</td>\n",
       "      <td>0.235197</td>\n",
       "      <td>0.296877</td>\n",
       "      <td>0.328353</td>\n",
       "      <td>0.937021</td>\n",
       "      <td>0.234147</td>\n",
       "      <td>0.230811</td>\n",
       "    </tr>\n",
       "    <tr>\n",
       "      <th>ZFYVE21</th>\n",
       "      <td>0.358745</td>\n",
       "      <td>0.394009</td>\n",
       "      <td>0.340364</td>\n",
       "      <td>0.432177</td>\n",
       "      <td>0.478137</td>\n",
       "      <td>0.405736</td>\n",
       "      <td>0.346137</td>\n",
       "      <td>0.494674</td>\n",
       "      <td>0.658125</td>\n",
       "      <td>0.451295</td>\n",
       "      <td>...</td>\n",
       "      <td>0.443046</td>\n",
       "      <td>0.525899</td>\n",
       "      <td>0.645497</td>\n",
       "      <td>0.395809</td>\n",
       "      <td>0.140202</td>\n",
       "      <td>0.398083</td>\n",
       "      <td>0.378930</td>\n",
       "      <td>0.234147</td>\n",
       "      <td>0.975133</td>\n",
       "      <td>0.429392</td>\n",
       "    </tr>\n",
       "    <tr>\n",
       "      <th>ZYX</th>\n",
       "      <td>0.000000</td>\n",
       "      <td>0.347826</td>\n",
       "      <td>0.336328</td>\n",
       "      <td>0.184506</td>\n",
       "      <td>0.224322</td>\n",
       "      <td>0.317417</td>\n",
       "      <td>0.315334</td>\n",
       "      <td>0.376317</td>\n",
       "      <td>0.386438</td>\n",
       "      <td>0.379512</td>\n",
       "      <td>...</td>\n",
       "      <td>0.334650</td>\n",
       "      <td>0.231958</td>\n",
       "      <td>0.291945</td>\n",
       "      <td>0.192702</td>\n",
       "      <td>0.227886</td>\n",
       "      <td>0.238720</td>\n",
       "      <td>0.223801</td>\n",
       "      <td>0.230811</td>\n",
       "      <td>0.429392</td>\n",
       "      <td>0.946106</td>\n",
       "    </tr>\n",
       "  </tbody>\n",
       "</table>\n",
       "<p>324 rows × 324 columns</p>\n",
       "</div>"
      ],
      "text/plain": [
       "             ABI1      ABI2      ABI3      ABL1      ACTB     ACTN1    ADAM12  \\\n",
       "ABI1     0.944275  0.197030  0.000000  0.188078  0.234306  0.322304  0.212143   \n",
       "ABI2     0.197030  0.914104  0.183950  0.386464  0.419845  0.295898  0.237643   \n",
       "ABI3     0.000000  0.183950  0.962688  0.598149  0.482250  0.405193  0.170296   \n",
       "ABL1     0.188078  0.386464  0.598149  0.930595  0.450068  0.552217  0.253139   \n",
       "ACTB     0.234306  0.419845  0.482250  0.450068  0.979167  0.204502  0.338055   \n",
       "...           ...       ...       ...       ...       ...       ...       ...   \n",
       "VCL      0.216318  0.330144  0.470379  0.395632  0.646033  0.393608  0.207910   \n",
       "VIM      0.460137  0.144036  0.273857  0.216406  0.218131  0.303117  0.169182   \n",
       "ZAP70    0.389006  0.188010  0.281681  0.309752  0.287259  0.264349  0.197732   \n",
       "ZFYVE21  0.358745  0.394009  0.340364  0.432177  0.478137  0.405736  0.346137   \n",
       "ZYX      0.000000  0.347826  0.336328  0.184506  0.224322  0.317417  0.315334   \n",
       "\n",
       "            AGAP2      AKT1   ANKRD28  ...    TSPAN1    TUBA1B      VASP  \\\n",
       "ABI1     0.142197  0.127404  0.189944  ...  0.227933  0.236116  0.145235   \n",
       "ABI2     0.351250  0.382797  0.362857  ...  0.281394  0.433191  0.384490   \n",
       "ABI3     0.451788  0.332868  0.251906  ...  0.273922  0.506022  0.556040   \n",
       "ABL1     0.400544  0.295516  0.359317  ...  0.228290  0.547283  0.541235   \n",
       "ACTB     0.522715  0.422392  0.224148  ...  0.430801  0.491633  0.563195   \n",
       "...           ...       ...       ...  ...       ...       ...       ...   \n",
       "VCL      0.379700  0.159262  0.282627  ...  0.412396  0.544622  0.575418   \n",
       "VIM      0.321426  0.268738  0.217882  ...  0.212023  0.281347  0.366082   \n",
       "ZAP70    0.281481  0.334019  0.213025  ...  0.000000  0.226805  0.334859   \n",
       "ZFYVE21  0.494674  0.658125  0.451295  ...  0.443046  0.525899  0.645497   \n",
       "ZYX      0.376317  0.386438  0.379512  ...  0.334650  0.231958  0.291945   \n",
       "\n",
       "             VAV2      VAV3       VCL       VIM     ZAP70   ZFYVE21       ZYX  \n",
       "ABI1     0.319032  0.315562  0.216318  0.460137  0.389006  0.358745  0.000000  \n",
       "ABI2     0.308213  0.121433  0.330144  0.144036  0.188010  0.394009  0.347826  \n",
       "ABI3     0.540341  0.082490  0.470379  0.273857  0.281681  0.340364  0.336328  \n",
       "ABL1     0.445974  0.023865  0.395632  0.216406  0.309752  0.432177  0.184506  \n",
       "ACTB     0.451364  0.104295  0.646033  0.218131  0.287259  0.478137  0.224322  \n",
       "...           ...       ...       ...       ...       ...       ...       ...  \n",
       "VCL      0.411116  0.106273  0.973179  0.246525  0.296877  0.398083  0.238720  \n",
       "VIM      0.180208  0.103671  0.246525  0.931406  0.328353  0.378930  0.223801  \n",
       "ZAP70    0.343291  0.235197  0.296877  0.328353  0.937021  0.234147  0.230811  \n",
       "ZFYVE21  0.395809  0.140202  0.398083  0.378930  0.234147  0.975133  0.429392  \n",
       "ZYX      0.192702  0.227886  0.238720  0.223801  0.230811  0.429392  0.946106  \n",
       "\n",
       "[324 rows x 324 columns]"
      ]
     },
     "execution_count": 16,
     "metadata": {},
     "output_type": "execute_result"
    }
   ],
   "source": [
    "adj"
   ]
  },
  {
   "cell_type": "markdown",
   "metadata": {},
   "source": [
    "### Analyze map"
   ]
  },
  {
   "cell_type": "code",
   "execution_count": 12,
   "metadata": {},
   "outputs": [],
   "source": [
    "# Load adjacency matrices\n",
    "combined_adjmat_IMR90 = pickle.load(open(saving_dir+'combined_adjmat_IMR90.pkl','rb'))"
   ]
  },
  {
   "cell_type": "code",
   "execution_count": 32,
   "metadata": {},
   "outputs": [],
   "source": [
    "# Adhesome contacts\n",
    "adhesome_genes_in_index = np.array(list(set.intersection(*[set(all_adhesome_genes),\n",
    "                                                           set(combined_adjmat_IMR90.index.values),\n",
    "                                                           set(all_active_genes)])))\n",
    "adhesome_flat = combined_adjmat_IMR90.loc[adhesome_genes_in_index, adhesome_genes_in_index].values\n",
    "adhesome_flat = adhesome_flat[np.triu_indices(len(adhesome_genes_in_index), 1)]\n",
    "# TCR contacts\n",
    "tcr_genes_in_index = np.array(list(set.intersection(*[set(all_tcr_genes),\n",
    "                                                      set(combined_adjmat_IMR90.index.values),\n",
    "                                                      set(all_active_genes)])))\n",
    "tcr_flat = combined_adjmat_IMR90.loc[tcr_genes_in_index, tcr_genes_in_index].values\n",
    "tcr_flat = tcr_flat[np.triu_indices(len(tcr_genes_in_index), 1)]\n",
    "# BCR contacts\n",
    "bcr_genes_in_index = np.array(list(set.intersection(*[set(all_bcr_genes),\n",
    "                                                      set(combined_adjmat_IMR90.index.values),\n",
    "                                                      set(all_active_genes)])))\n",
    "bcr_flat = combined_adjmat_IMR90.loc[bcr_genes_in_index, bcr_genes_in_index].values\n",
    "bcr_flat = bcr_flat[np.triu_indices(len(bcr_genes_in_index), 1)]"
   ]
  },
  {
   "cell_type": "code",
   "execution_count": 33,
   "metadata": {},
   "outputs": [
    {
     "data": {
      "image/png": "[encoded data removed]",
      "text/plain": [
       "<Figure size 432x288 with 1 Axes>"
      ]
     },
     "metadata": {
      "needs_background": "light"
     },
     "output_type": "display_data"
    }
   ],
   "source": [
    "# Plot histograms\n",
    "plt.figure()\n",
    "plt.hist(adhesome_flat, bins=np.arange(0,1.05, .02), color='dodgerblue', alpha=0.5, density=True,\n",
    "         label='adhesome')\n",
    "plt.hist(tcr_flat, bins=np.arange(0,1.05, .02), color='orange', alpha=0.5, density=True,\n",
    "         label='TCR')\n",
    "plt.hist(bcr_flat, bins=np.arange(0,1.05, .02), color='green', alpha=0.5, density=True,\n",
    "         label='BCR')\n",
    "plt.legend(loc='upper right')\n",
    "plt.xlabel('scaled HiC')\n",
    "plt.ylabel('density')\n",
    "plt.show()"
   ]
  },
  {
   "cell_type": "markdown",
   "metadata": {},
   "source": [
    "### Analyze maps: specific genes"
   ]
  },
  {
   "cell_type": "code",
   "execution_count": 34,
   "metadata": {},
   "outputs": [],
   "source": [
    "# Adhesome contacts\n",
    "adhesome_genes_in_index = np.array(list(set.intersection(*[set(specific_adhesome_genes),\n",
    "                                                           set(combined_adjmat_IMR90.index.values),\n",
    "                                                           set(all_active_genes)])))\n",
    "adhesome_flat = combined_adjmat_IMR90.loc[adhesome_genes_in_index, adhesome_genes_in_index].values\n",
    "adhesome_flat = adhesome_flat[np.triu_indices(len(adhesome_genes_in_index), 1)]\n",
    "# TCR contacts\n",
    "tcr_genes_in_index = np.array(list(set.intersection(*[set(specific_tcr_genes),\n",
    "                                                      set(combined_adjmat_IMR90.index.values),\n",
    "                                                      set(all_active_genes)])))\n",
    "tcr_flat = combined_adjmat_IMR90.loc[tcr_genes_in_index, tcr_genes_in_index].values\n",
    "tcr_flat = tcr_flat[np.triu_indices(len(tcr_genes_in_index), 1)]\n",
    "# BCR contacts\n",
    "bcr_genes_in_index = np.array(list(set.intersection(*[set(specific_bcr_genes),\n",
    "                                                      set(combined_adjmat_IMR90.index.values),\n",
    "                                                      set(all_active_genes)])))\n",
    "bcr_flat = combined_adjmat_IMR90.loc[bcr_genes_in_index, bcr_genes_in_index].values\n",
    "bcr_flat = bcr_flat[np.triu_indices(len(bcr_genes_in_index), 1)]"
   ]
  },
  {
   "cell_type": "code",
   "execution_count": 35,
   "metadata": {},
   "outputs": [
    {
     "data": {
      "image/png": "[encoded data removed]",
      "text/plain": [
       "<Figure size 432x288 with 1 Axes>"
      ]
     },
     "metadata": {
      "needs_background": "light"
     },
     "output_type": "display_data"
    }
   ],
   "source": [
    "# Plot histograms\n",
    "plt.figure()\n",
    "plt.hist(adhesome_flat, bins=np.arange(0,1.05, .02), color='dodgerblue', alpha=0.5, density=True,\n",
    "         label='adhesome')\n",
    "plt.hist(tcr_flat, bins=np.arange(0,1.05, .02), color='orange', alpha=0.5, density=True,\n",
    "         label='TCR')\n",
    "plt.hist(bcr_flat, bins=np.arange(0,1.05, .02), color='green', alpha=0.5, density=True,\n",
    "         label='BCR')\n",
    "plt.legend(loc='upper right')\n",
    "plt.xlabel('scaled HiC')\n",
    "plt.ylabel('density')\n",
    "plt.show()"
   ]
  },
  {
   "cell_type": "markdown",
   "metadata": {},
   "source": [
    "### Analyze maps: common genes"
   ]
  },
  {
   "cell_type": "code",
   "execution_count": 36,
   "metadata": {},
   "outputs": [],
   "source": [
    "# In index\n",
    "common_genes_in_index = np.array(list(set.intersection(*[set(common_genes),\n",
    "                                                           set(combined_adjmat_IMR90.index.values),\n",
    "                                                           set(all_active_genes)])))\n",
    "# Adhesome contacts\n",
    "adhesome_genes_in_index = np.array(list(set.intersection(*[set(specific_adhesome_genes),\n",
    "                                                           set(combined_adjmat_IMR90.index.values),\n",
    "                                                           set(all_active_genes)])))\n",
    "adhesome_flat = combined_adjmat_IMR90.loc[common_genes_in_index, adhesome_genes_in_index].values\n",
    "adhesome_flat = adhesome_flat.flatten()\n",
    "# TCR contacts\n",
    "tcr_genes_in_index = np.array(list(set.intersection(*[set(specific_tcr_genes),\n",
    "                                                      set(combined_adjmat_IMR90.index.values),\n",
    "                                                      set(all_active_genes)])))\n",
    "tcr_flat = combined_adjmat_IMR90.loc[common_genes_in_index, tcr_genes_in_index].values\n",
    "tcr_flat = tcr_flat.flatten()\n",
    "# BCR contacts\n",
    "bcr_genes_in_index = np.array(list(set.intersection(*[set(specific_bcr_genes),\n",
    "                                                      set(combined_adjmat_IMR90.index.values),\n",
    "                                                      set(all_active_genes)])))\n",
    "bcr_flat = combined_adjmat_IMR90.loc[common_genes_in_index, bcr_genes_in_index].values\n",
    "bcr_flat = bcr_flat.flatten()"
   ]
  },
  {
   "cell_type": "code",
   "execution_count": 37,
   "metadata": {},
   "outputs": [
    {
     "data": {
      "image/png": "[encoded data removed]",
      "text/plain": [
       "<Figure size 432x288 with 1 Axes>"
      ]
     },
     "metadata": {
      "needs_background": "light"
     },
     "output_type": "display_data"
    }
   ],
   "source": [
    "# Plot histograms\n",
    "plt.figure()\n",
    "plt.hist(adhesome_flat, bins=np.arange(0,1.05, .02), color='dodgerblue', alpha=0.5, density=True,\n",
    "         label='adhesome')\n",
    "plt.hist(tcr_flat, bins=np.arange(0,1.05, .02), color='orange', alpha=0.5, density=True,\n",
    "         label='TCR')\n",
    "plt.hist(bcr_flat, bins=np.arange(0,1.05, .02), color='green', alpha=0.5, density=True,\n",
    "         label='BCR')\n",
    "plt.legend(loc='upper right')\n",
    "plt.xlabel('scaled HiC')\n",
    "plt.ylabel('density')\n",
    "plt.show()"
   ]
  },
  {
   "cell_type": "code",
   "execution_count": null,
   "metadata": {},
   "outputs": [],
   "source": []
  },
  {
   "cell_type": "code",
   "execution_count": null,
   "metadata": {},
   "outputs": [],
   "source": []
  },
  {
   "cell_type": "code",
   "execution_count": null,
   "metadata": {},
   "outputs": [],
   "source": []
  },
  {
   "cell_type": "code",
   "execution_count": null,
   "metadata": {},
   "outputs": [],
   "source": []
  },
  {
   "cell_type": "markdown",
   "metadata": {},
   "source": [
    "# Coembed with adjacency matrices of GM12878 and CD3T"
   ]
  },
  {
   "cell_type": "code",
   "execution_count": 31,
   "metadata": {},
   "outputs": [
    {
     "name": "stdout",
     "output_type": "stream",
     "text": [
      "Number of nodes = 324\n"
     ]
    }
   ],
   "source": [
    "# Load adjacency matrices\n",
    "combined_adjmat_IMR90 = pickle.load(open(saving_dir+'combined_adjmat_IMR90.pkl','rb'))\n",
    "combined_adjmat_GM12878 = pickle.load(open(saving_dir+'combined_adjmat_GM12878.pkl','rb'))\n",
    "combined_adjmat_CD3T = pickle.load(open(saving_dir+'combined_adjmat_CD3T.pkl','rb'))\n",
    "print(f'Number of nodes = {len(combined_adjmat_IMR90)}')"
   ]
  },
  {
   "cell_type": "code",
   "execution_count": 30,
   "metadata": {},
   "outputs": [
    {
     "data": {
      "image/png": "[encoded data removed]",
      "text/plain": [
       "<Figure size 432x288 with 1 Axes>"
      ]
     },
     "metadata": {
      "needs_background": "light"
     },
     "output_type": "display_data"
    },
    {
     "name": "stdout",
     "output_type": "stream",
     "text": [
      "Total number of edges in IMR90 = 50412\n",
      "Total number of edges in GM12878 = 52325\n",
      "Total number of edges in CD3T = 51856\n"
     ]
    }
   ],
   "source": [
    "# Visualzie histgrams of edge weights\n",
    "flat_IMR90 = combined_adjmat_IMR90.values[np.triu_indices(len(combined_adjmat_IMR90),1)]\n",
    "flat_GM12878 = combined_adjmat_GM12878.values[np.triu_indices(len(combined_adjmat_GM12878),1)]\n",
    "flat_CD3T = combined_adjmat_CD3T.values[np.triu_indices(len(combined_adjmat_CD3T),1)]\n",
    "\n",
    "plt.figure()\n",
    "plt.hist(flat_IMR90, alpha=0.5, bins=np.arange(0,1.05,0.05), label='IMR90')\n",
    "plt.hist(flat_GM12878, alpha=0.5, bins=np.arange(0,1.05,0.05), label='GM12878')\n",
    "plt.hist(flat_CD3T, alpha=0.5, bins=np.arange(0,1.05,0.05), label='CD3T')\n",
    "plt.xlabel('scaled hic')\n",
    "plt.ylabel('number of edges')\n",
    "plt.legend(loc='upper left')\n",
    "plt.show()\n",
    "print(f'Total number of edges in IMR90 = {np.sum(flat_IMR90>0)}')\n",
    "print(f'Total number of edges in GM12878 = {np.sum(flat_GM12878>0)}')\n",
    "print(f'Total number of edges in CD3T = {np.sum(flat_CD3T>0)}')"
   ]
  },
  {
   "cell_type": "code",
   "execution_count": 194,
   "metadata": {},
   "outputs": [],
   "source": [
    "# Binarize adjacency matrices by keeping top 20% edges \n",
    "t = 0.8\n",
    "cut_IMR90 = np.quantile(flat_IMR90, t)\n",
    "cut_GM12878 = np.quantile(flat_GM12878, t)\n",
    "cut_CD3T = np.quantile(flat_CD3T, t)\n",
    "bin_adjmat_IMR90 = (combined_adjmat_IMR90>cut_IMR90).astype(int)\n",
    "np.fill_diagonal(bin_adjmat_IMR90.values, 0)\n",
    "bin_adjmat_GM12878 = (combined_adjmat_GM12878>cut_GM12878).astype(int)\n",
    "np.fill_diagonal(bin_adjmat_GM12878.values, 0)\n",
    "bin_adjmat_CD3T = (combined_adjmat_CD3T>cut_CD3T).astype(int)\n",
    "np.fill_diagonal(bin_adjmat_CD3T.values, 0)"
   ]
  },
  {
   "cell_type": "code",
   "execution_count": 195,
   "metadata": {},
   "outputs": [],
   "source": [
    "# Genes to drop\n",
    "keep_IMR90 = bin_adjmat_IMR90.index.values[np.where(bin_adjmat_IMR90.sum(axis=1)>0)[0]]\n",
    "keep_GM12878 = bin_adjmat_GM12878.index.values[np.where(bin_adjmat_GM12878.sum(axis=1)>0)[0]]\n",
    "keep_CD3T = bin_adjmat_CD3T.index.values[np.where(bin_adjmat_CD3T.sum(axis=1)>0)[0]]\n",
    "keep = np.unique(list(set.intersection(*[set(keep_IMR90), set(keep_GM12878), set(keep_CD3T)])))"
   ]
  },
  {
   "cell_type": "code",
   "execution_count": 196,
   "metadata": {},
   "outputs": [],
   "source": [
    "# Drop genes\n",
    "bin_adjmat_IMR90 = bin_adjmat_IMR90.loc[keep_IMR90, keep_IMR90]\n",
    "bin_adjmat_GM12878 = bin_adjmat_GM12878.loc[keep_GM12878, keep_GM12878]\n",
    "bin_adjmat_CD3T = bin_adjmat_CD3T.loc[keep_CD3T, keep_CD3T]"
   ]
  },
  {
   "cell_type": "code",
   "execution_count": 197,
   "metadata": {},
   "outputs": [
    {
     "name": "stderr",
     "output_type": "stream",
     "text": [
      "/home/louiscam/anaconda3/lib/python3.7/site-packages/ipykernel_launcher.py:14: RuntimeWarning: divide by zero encountered in true_divide\n",
      "  \n",
      "/home/louiscam/anaconda3/lib/python3.7/site-packages/ipykernel_launcher.py:14: RuntimeWarning: invalid value encountered in true_divide\n",
      "  \n"
     ]
    }
   ],
   "source": [
    "# SCORE embedding\n",
    "K = 3\n",
    "A = bin_adjmat_GM12878.values\n",
    "# Dinv = np.linalg.inv(np.diag(np.sum(A, axis=0)**0.5))\n",
    "# A = np.linalg.multi_dot([Dinv,A,Dinv])\n",
    "w, v = np.linalg.eigh(A)\n",
    "ordering = np.argsort(-np.abs(w))\n",
    "w = w[ordering]\n",
    "v = v[ordering]\n",
    "Lambda = np.diag(w[:K])\n",
    "Xi = v[:,:K]\n",
    "H = np.linalg.multi_dot([Xi, np.linalg.inv(Lambda)])\n",
    "X = np.linalg.multi_dot([A,H])\n",
    "R = np.divide(X, X[:,[0]])[:,1:]"
   ]
  },
  {
   "cell_type": "code",
   "execution_count": 157,
   "metadata": {},
   "outputs": [
    {
     "data": {
      "text/plain": [
       "<matplotlib.collections.PathCollection at 0x7f9f5a9546d0>"
      ]
     },
     "execution_count": 157,
     "metadata": {},
     "output_type": "execute_result"
    },
    {
     "data": {
      "image/png": "[encoded data removed]",
      "text/plain": [
       "<Figure size 720x720 with 1 Axes>"
      ]
     },
     "metadata": {
      "needs_background": "light"
     },
     "output_type": "display_data"
    }
   ],
   "source": [
    "plt.figure(figsize=(10,10))\n",
    "plt.scatter(R[:,0], R[:,1], s=1)"
   ]
  },
  {
   "cell_type": "code",
   "execution_count": 198,
   "metadata": {},
   "outputs": [
    {
     "data": {
      "text/plain": [
       "(array([], dtype=int64),)"
      ]
     },
     "execution_count": 198,
     "metadata": {},
     "output_type": "execute_result"
    }
   ],
   "source": [
    "np.where(bin_adjmat_GM12878.loc[keep_GM12878, keep_GM12878].sum(axis=1)==0)"
   ]
  },
  {
   "cell_type": "code",
   "execution_count": null,
   "metadata": {},
   "outputs": [],
   "source": []
  }
 ],
 "metadata": {
  "kernelspec": {
   "display_name": "Python 3",
   "language": "python",
   "name": "python3"
  },
  "language_info": {
   "codemirror_mode": {
    "name": "ipython",
    "version": 3
   },
   "file_extension": ".py",
   "mimetype": "text/x-python",
   "name": "python",
   "nbconvert_exporter": "python",
   "pygments_lexer": "ipython3",
   "version": "3.7.4"
  }
 },
 "nbformat": 4,
 "nbformat_minor": 2
}
