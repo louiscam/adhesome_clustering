{
 "cells": [
  {
   "cell_type": "markdown",
   "metadata": {},
   "source": [
    "### Setup"
   ]
  },
  {
   "cell_type": "code",
   "execution_count": 1,
   "metadata": {
    "code_folding": [
     0
    ],
    "scrolled": true
   },
   "outputs": [
    {
     "data": {
      "text/plain": [
       "<module 'correlation_clustering' from '/home/louiscam/projects/gpcr/code/figures4/correlation_clustering.py'>"
      ]
     },
     "execution_count": 1,
     "metadata": {},
     "output_type": "execute_result"
    }
   ],
   "source": [
    "# Import libraries\n",
    "import warnings\n",
    "warnings.simplefilter(action='ignore', category=FutureWarning)\n",
    "from importlib import reload\n",
    "import numpy as np\n",
    "from numpy.linalg import multi_dot\n",
    "import matplotlib as mpl\n",
    "import matplotlib.pyplot as plt\n",
    "from scipy.cluster.hierarchy import dendrogram, linkage, fcluster, cophenet, inconsistent\n",
    "from sklearn.metrics import adjusted_mutual_info_score, silhouette_score, silhouette_samples\n",
    "import seaborn as sns\n",
    "from scipy import sparse\n",
    "import scipy.stats as ss\n",
    "import csv\n",
    "import pandas as pd\n",
    "import networkx as nx\n",
    "import community\n",
    "import communities as com\n",
    "import pickle\n",
    "from collections import defaultdict\n",
    "import operator\n",
    "from scipy.sparse import csr_matrix\n",
    "import itertools\n",
    "import os.path\n",
    "import math\n",
    "from sklearn.cluster import AgglomerativeClustering\n",
    "from sklearn.decomposition import PCA\n",
    "from sklearn.manifold import TSNE\n",
    "from sklearn.metrics import adjusted_mutual_info_score\n",
    "from networkx.algorithms.community.kclique import k_clique_communities\n",
    "import pybedtools\n",
    "import time\n",
    "from tqdm import tqdm\n",
    "import random\n",
    "import OmicsIntegrator as oi\n",
    "import gseapy\n",
    "from gseapy.plot import barplot, dotplot\n",
    "from ortools.linear_solver import pywraplp\n",
    "from pyvis.network import Network\n",
    "from scipy.spatial.distance import pdist, squareform\n",
    "from umap import UMAP\n",
    "# Custom libraries\n",
    "import utils as lu\n",
    "import correlation_clustering as cc\n",
    "# Reload modules in case of modifications\n",
    "reload(lu)\n",
    "reload(cc)"
   ]
  },
  {
   "cell_type": "code",
   "execution_count": 2,
   "metadata": {
    "code_folding": []
   },
   "outputs": [],
   "source": [
    "# Relevant information\n",
    "cell_type = 'IMR90'\n",
    "resol_str = '250kb'\n",
    "resol = 250000\n",
    "quality = 'MAPQGE30'\n",
    "norm = 'INTERKR'"
   ]
  },
  {
   "cell_type": "code",
   "execution_count": 3,
   "metadata": {
    "code_folding": []
   },
   "outputs": [],
   "source": [
    "# Directory of genome data\n",
    "dir_genome = '/home/louiscam/projects/gpcr/data/genome_data/'\n",
    "# Directory of adhesome data\n",
    "dir_adhesome = '/home/louiscam/projects/gpcr/data/adhesome_data/'\n",
    "# Directory of processed HiC\n",
    "dir_processed_hic = f'/home/louiscam/projects/gpcr/save/processed_hic_data/processed_hic_data_IMR90/final_BP250000_intraKR_inter{norm}/'\n",
    "epigenome_dir = '/home/louiscam/projects/gpcr/data/regulatory_data/regulatory_data_IMR90/'\n",
    "processed_epigenome_data_dir = '/home/louiscam/projects/gpcr/save/processed_regulatory_marks/processed_epigenome_data_IMR90/'\n",
    "# Directpry of TF target data\n",
    "dir_htftarget = '/home/louiscam/projects/gpcr/data/tf_data/hTFtarget/'\n",
    "# Saving directory\n",
    "saving_dir = '/home/louiscam/projects/gpcr/save/figures/'"
   ]
  },
  {
   "cell_type": "markdown",
   "metadata": {},
   "source": [
    "# Load data"
   ]
  },
  {
   "cell_type": "markdown",
   "metadata": {},
   "source": [
    "## General data"
   ]
  },
  {
   "cell_type": "code",
   "execution_count": 4,
   "metadata": {},
   "outputs": [],
   "source": [
    "# Load gene location in hg19\n",
    "gene_locations_filename = dir_genome+'chrom_hg19.loc_canonical'\n",
    "gene_id_filename = dir_genome+'chrom_hg19.name'\n",
    "df_loc = lu.get_all_gene_locations(gene_locations_filename, gene_id_filename)"
   ]
  },
  {
   "cell_type": "code",
   "execution_count": 5,
   "metadata": {},
   "outputs": [],
   "source": [
    "# Active/inactive genes\n",
    "with open(saving_dir+'active_genes.pkl', 'rb') as f:\n",
    "    all_active_genes = pickle.load(f)\n",
    "with open(saving_dir+'inactive_genes.pkl', 'rb') as f:\n",
    "    all_inactive_genes = pickle.load(f)"
   ]
  },
  {
   "cell_type": "code",
   "execution_count": 6,
   "metadata": {},
   "outputs": [],
   "source": [
    "# All TF data\n",
    "tftarget_df = pd.read_csv(dir_htftarget+'tftarget_full_processed.csv', \n",
    "                          sep='\\t', index_col=0, header=0, low_memory=False)\n",
    "lung_fibroblasts = ['IMR90', 'WI38', 'AG04450', 'HPF', 'NHLF', ]\n",
    "tftarget_df_lungfibro = tftarget_df[tftarget_df['cell_line'].isin(lung_fibroblasts)]"
   ]
  },
  {
   "cell_type": "code",
   "execution_count": 7,
   "metadata": {},
   "outputs": [],
   "source": [
    "# Mapping gene to chromosome\n",
    "with open(saving_dir+'gene2chrom.pkl', 'rb') as f:\n",
    "    gene2chrom = pickle.load(f)"
   ]
  },
  {
   "cell_type": "markdown",
   "metadata": {},
   "source": [
    "## Adhesome and adhesome TF data"
   ]
  },
  {
   "cell_type": "code",
   "execution_count": 8,
   "metadata": {},
   "outputs": [],
   "source": [
    "# Adhesome genes and loci\n",
    "with open(saving_dir+'active_adhesome_genes.pkl', 'rb') as f:\n",
    "    active_adhesome_genes = pickle.load(f)\n",
    "with open(saving_dir+'active_adhesome_genes_loci.pkl', 'rb') as f:\n",
    "    active_adhesome_loci = pickle.load(f)\n",
    "with open(saving_dir+'adhesome_chr_loci.pkl', 'rb') as f:\n",
    "    adhesome_chr_loci = pickle.load(f)"
   ]
  },
  {
   "cell_type": "code",
   "execution_count": 9,
   "metadata": {},
   "outputs": [],
   "source": [
    "# Adhesome TF genes and loci\n",
    "with open(saving_dir+'active_lung_adhesome_tf_genes.pkl', 'rb') as f:\n",
    "    active_lung_adhesome_tf_genes = pickle.load(f)\n",
    "with open(saving_dir+'active_lung_adhesome_tf_loci.pkl', 'rb') as f:\n",
    "    active_lung_adhesome_tf_loci = pickle.load(f)"
   ]
  },
  {
   "cell_type": "code",
   "execution_count": 10,
   "metadata": {},
   "outputs": [],
   "source": [
    "# Selected genes = Adhesome genes + adhesome TFs\n",
    "selected_genes = np.unique(np.concatenate([active_adhesome_genes,active_lung_adhesome_tf_genes], axis=0))\n",
    "selected_loci = np.unique(np.concatenate([active_adhesome_loci,active_lung_adhesome_tf_loci], axis=0))\n",
    "with open(saving_dir+'adh_and_tf_gene2locus.pkl', 'rb') as f:\n",
    "    selected_gene2locus = pickle.load(f)\n",
    "with open(saving_dir+'adh_and_tf_locus2gene.pkl', 'rb') as f:\n",
    "    selected_locus2gene = pickle.load(f)\n",
    "with open(saving_dir+'adh_and_tf_chr_loci.pkl', 'rb') as f:\n",
    "    adh_and_tf_chr_loci = pickle.load(f)\n",
    "with open(saving_dir+f'contacts_df_{norm}.pkl', 'rb') as f:\n",
    "    contacts_df = pickle.load(f)"
   ]
  },
  {
   "cell_type": "markdown",
   "metadata": {},
   "source": [
    "## Adhesome TFs map data"
   ]
  },
  {
   "cell_type": "code",
   "execution_count": 11,
   "metadata": {},
   "outputs": [],
   "source": [
    "# Load hTFtarget data set\n",
    "with open(saving_dir+'active_lung_tf2target.pkl', 'rb') as f:\n",
    "    active_lung_tf2target = pickle.load(f)\n",
    "with open(saving_dir+'active_lung_target2tf.pkl', 'rb') as f:\n",
    "    active_lung_target2tf = pickle.load(f)"
   ]
  },
  {
   "cell_type": "markdown",
   "metadata": {},
   "source": [
    "# Network of adhesome genes and adhesome TF genes"
   ]
  },
  {
   "cell_type": "markdown",
   "metadata": {},
   "source": [
    "## Initial edges lists"
   ]
  },
  {
   "cell_type": "markdown",
   "metadata": {},
   "source": [
    "### Network of adhesome genes: interX edges"
   ]
  },
  {
   "cell_type": "raw",
   "metadata": {},
   "source": [
    "# Build interX edge list\n",
    "adhesome_interX_edge_list = cc.create_interX_edgelist(contacts_df, selected_loci, selected_locus2gene, gene2chrom)\n",
    "with open(saving_dir+f'adhesome_interX_edge_list_{norm}.pkl', 'wb') as f:\n",
    "    pickle.dump(adhesome_interX_edge_list, f)\n",
    "print('Number of interX edges = '+str(len(adhesome_interX_edge_list)))\n",
    "\n",
    "# Histogram of interX contacts\n",
    "plt.figure()\n",
    "plt.hist(adhesome_interX_edge_list['scaled_hic'].values, bins=np.arange(0,1.05,0.05))\n",
    "plt.xlabel('scaled hic')\n",
    "plt.ylabel('number of interactions')\n",
    "plt.title('histogram of min-max scaled interX Hi-C')\n",
    "plt.show()"
   ]
  },
  {
   "cell_type": "markdown",
   "metadata": {},
   "source": [
    "### Network of adhesome genes: intraX edges"
   ]
  },
  {
   "cell_type": "raw",
   "metadata": {},
   "source": [
    "# Build intraX edge list\n",
    "adhesome_intraX_edge_list = cc.create_intraX_edgelist(selected_loci, selected_locus2gene, df_loc, resol, dir_processed_hic)\n",
    "with open(saving_dir+f'adhesome_intraX_edge_list_{norm}.pkl', 'wb') as f:\n",
    "    pickle.dump(adhesome_intraX_edge_list, f)\n",
    "print('Number of intraX edges = '+str(len(adhesome_intraX_edge_list)))\n",
    "\n",
    "# Histogram of intraX contacts\n",
    "plt.figure()\n",
    "plt.hist(adhesome_intraX_edge_list['scaled_hic'].values, bins=np.arange(0,1.05,0.05))\n",
    "plt.xlabel('scaled hic')\n",
    "plt.ylabel('number of interactions')\n",
    "plt.title('histogram of min-max scaled intraX Hi-C')\n",
    "plt.show()"
   ]
  },
  {
   "cell_type": "markdown",
   "metadata": {},
   "source": [
    "## HiC and correlation distances"
   ]
  },
  {
   "cell_type": "code",
   "execution_count": 12,
   "metadata": {
    "code_folding": []
   },
   "outputs": [],
   "source": [
    "# Load edge lists\n",
    "with open(saving_dir+f'adhesome_interX_edge_list_{norm}.pkl', 'rb') as f:\n",
    "    adhesome_interX_edge_list = pickle.load(f)\n",
    "with open(saving_dir+f'adhesome_intraX_edge_list_{norm}.pkl', 'rb') as f:\n",
    "    adhesome_intraX_edge_list = pickle.load(f)"
   ]
  },
  {
   "cell_type": "code",
   "execution_count": 13,
   "metadata": {
    "code_folding": []
   },
   "outputs": [
    {
     "data": {
      "image/png": "[encoded data removed]",
      "text/plain": [
       "<Figure size 720x144 with 2 Axes>"
      ]
     },
     "metadata": {
      "needs_background": "light"
     },
     "output_type": "display_data"
    }
   ],
   "source": [
    "# Plot thresholds\n",
    "plt.figure(figsize=(10,2))\n",
    "plt.subplot(1, 2, 1)\n",
    "plt.hist(adhesome_interX_edge_list['scaled_hic'], bins=np.arange(0,1.01,0.01))\n",
    "# plt.vlines(x=np.quantile(adhesome_interX_edge_list['scaled_hic'],0.75), ymin=0, ymax=2000, \n",
    "#            color='red', linestyle='dashed')\n",
    "plt.xlabel('scaled hic')\n",
    "plt.ylabel('number of edges')\n",
    "plt.title('interX edges scaled HiC')\n",
    "\n",
    "plt.subplot(1, 2, 2)\n",
    "plt.hist(adhesome_intraX_edge_list['scaled_hic'], bins=np.arange(0,1.01,0.01))\n",
    "# plt.vlines(x=np.quantile(adhesome_intraX_edge_list['scaled_hic'],0.75), ymin=0, ymax=70, \n",
    "#            color='red', linestyle='dashed')\n",
    "plt.xlabel('scaled hic')\n",
    "plt.ylabel('number of edges')\n",
    "plt.title('intraX edges scaled HiC')\n",
    "\n",
    "plt.show()"
   ]
  },
  {
   "cell_type": "markdown",
   "metadata": {},
   "source": [
    "### Genomic features for each adhesome gene"
   ]
  },
  {
   "cell_type": "code",
   "execution_count": 14,
   "metadata": {
    "code_folding": []
   },
   "outputs": [],
   "source": [
    "# Load epigenomic features\n",
    "df_all_norm = pd.read_csv(saving_dir+'features_matrix_all_genes_norm.csv', header=0, index_col=0)\n",
    "# Restrict to genes in cluster\n",
    "df_cluster_norm = df_all_norm.loc[:,selected_genes]"
   ]
  },
  {
   "cell_type": "code",
   "execution_count": 15,
   "metadata": {
    "code_folding": []
   },
   "outputs": [],
   "source": [
    "# Create Pearson distance matrix\n",
    "adhesome_pearson_distance_df = (1-df_cluster_norm.corr(method='pearson'))/2\n",
    "# Create Spearman distance matrix\n",
    "adhesome_spearman_distance_df = (1-df_cluster_norm.corr(method='spearman'))/2\n",
    "# Create cosine distance matrix\n",
    "adhesome_cosine_df = pd.DataFrame(\n",
    "    squareform(pdist(df_cluster_norm.T, metric='cosine')),\n",
    "    columns = df_cluster_norm.columns,\n",
    "    index = df_cluster_norm.columns\n",
    ")/2"
   ]
  },
  {
   "cell_type": "code",
   "execution_count": 16,
   "metadata": {
    "code_folding": []
   },
   "outputs": [
    {
     "name": "stdout",
     "output_type": "stream",
     "text": [
      "Total number of edges = 26106\n"
     ]
    }
   ],
   "source": [
    "# Add distance and Spearman correlation to interX edge list\n",
    "adhesome_interX_edge_list['pearson_dist'] = [adhesome_pearson_distance_df.loc[adhesome_interX_edge_list.iloc[i]['source'],\n",
    "                                                                              adhesome_interX_edge_list.iloc[i]['target']]\n",
    "                                              for i in range(len(adhesome_interX_edge_list))]\n",
    "adhesome_interX_edge_list['spearman_dist'] = [adhesome_spearman_distance_df.loc[adhesome_interX_edge_list.iloc[i]['source'],\n",
    "                                                                                adhesome_interX_edge_list.iloc[i]['target']]\n",
    "                                              for i in range(len(adhesome_interX_edge_list))]\n",
    "adhesome_interX_edge_list['cosine_dist'] = [adhesome_cosine_df.loc[adhesome_interX_edge_list.iloc[i]['source'],\n",
    "                                                                                adhesome_interX_edge_list.iloc[i]['target']]\n",
    "                                              for i in range(len(adhesome_interX_edge_list))]\n",
    "# Add distance and Spearman correlation to intraX edge list\n",
    "adhesome_intraX_edge_list['pearson_dist'] = [adhesome_pearson_distance_df.loc[adhesome_intraX_edge_list.iloc[i]['source'],\n",
    "                                                                              adhesome_intraX_edge_list.iloc[i]['target']]\n",
    "                                              for i in range(len(adhesome_intraX_edge_list))]\n",
    "adhesome_intraX_edge_list['spearman_dist'] = [adhesome_spearman_distance_df.loc[adhesome_intraX_edge_list.iloc[i]['source'],\n",
    "                                                                                adhesome_intraX_edge_list.iloc[i]['target']]\n",
    "                                              for i in range(len(adhesome_intraX_edge_list))]\n",
    "adhesome_intraX_edge_list['cosine_dist'] = [adhesome_cosine_df.loc[adhesome_intraX_edge_list.iloc[i]['source'],\n",
    "                                                                                adhesome_intraX_edge_list.iloc[i]['target']]\n",
    "                                              for i in range(len(adhesome_intraX_edge_list))]\n",
    "print('Total number of edges = '+str(len(adhesome_intraX_edge_list)+len(adhesome_interX_edge_list)))"
   ]
  },
  {
   "cell_type": "code",
   "execution_count": 17,
   "metadata": {
    "code_folding": [
     0
    ]
   },
   "outputs": [
    {
     "data": {
      "image/png": "[encoded data removed]",
      "text/plain": [
       "<Figure size 1440x144 with 3 Axes>"
      ]
     },
     "metadata": {
      "needs_background": "light"
     },
     "output_type": "display_data"
    }
   ],
   "source": [
    "# Plot distribution of distance in selected edges\n",
    "hic_threshold = 0.\n",
    "t = np.quantile(adhesome_interX_edge_list['scaled_hic'],hic_threshold)\n",
    "u = np.quantile(adhesome_intraX_edge_list['scaled_hic'],hic_threshold)\n",
    "inter_selected = adhesome_interX_edge_list[adhesome_interX_edge_list['scaled_hic']>t]\n",
    "intra_selected = adhesome_intraX_edge_list[adhesome_intraX_edge_list['scaled_hic']>u][['source','target',\n",
    "                                                                                       'hic','scaled_hic',\n",
    "                                                                                       'pearson_dist','spearman_dist',\n",
    "                                                                                       'cosine_dist']]\n",
    "all_selected = pd.concat([inter_selected, intra_selected], axis=0)\n",
    "plt.figure(figsize=(20,2))\n",
    "# Pearson\n",
    "plt.subplot(1, 3, 1)\n",
    "plt.hist(all_selected['pearson_dist'], \n",
    "         bins=np.arange(0,1.1,0.05),\n",
    "        color='orange')\n",
    "plt.vlines(x=np.mean(all_selected['pearson_dist']), ymin=0, ymax=4000, color='red', linestyle='dashed')\n",
    "plt.xlabel('Pearson distance')\n",
    "plt.ylabel('number of edges')\n",
    "plt.title('Pearson')\n",
    "\n",
    "# Spearman\n",
    "plt.subplot(1, 3, 2)\n",
    "plt.hist(all_selected['spearman_dist'], \n",
    "         bins=np.arange(0,1.1,0.05),\n",
    "        color='orange')\n",
    "plt.vlines(x=np.mean(all_selected['spearman_dist']), ymin=0, ymax=4000, color='red', linestyle='dashed')\n",
    "plt.xlabel('Spearman distance')\n",
    "plt.ylabel('number of edges')\n",
    "plt.title('Spearman')\n",
    "\n",
    "# Cosine\n",
    "plt.subplot(1, 3, 3)\n",
    "plt.hist(all_selected['cosine_dist'], \n",
    "         bins=np.arange(0,1.1,0.05),\n",
    "        color='orange')\n",
    "plt.vlines(x=np.mean(all_selected['cosine_dist']), ymin=0, ymax=4000, color='red', linestyle='dashed')\n",
    "plt.xlabel('Cosine distance')\n",
    "plt.ylabel('number of edges')\n",
    "plt.title('Cosine')\n",
    "\n",
    "plt.show()"
   ]
  },
  {
   "cell_type": "code",
   "execution_count": 18,
   "metadata": {
    "code_folding": [
     0
    ],
    "scrolled": true
   },
   "outputs": [
    {
     "data": {
      "image/png": "[encoded data removed]",
      "text/plain": [
       "<Figure size 1440x288 with 6 Axes>"
      ]
     },
     "metadata": {
      "needs_background": "light"
     },
     "output_type": "display_data"
    }
   ],
   "source": [
    "# Plot relationship between HiC and correlation distance\n",
    "hic_threshold = 0.\n",
    "t = np.quantile(adhesome_interX_edge_list['scaled_hic'],hic_threshold)\n",
    "u = np.quantile(adhesome_intraX_edge_list['scaled_hic'],hic_threshold)\n",
    "inter_selected = adhesome_interX_edge_list[adhesome_interX_edge_list['scaled_hic']>0]\n",
    "intra_selected = adhesome_intraX_edge_list[adhesome_intraX_edge_list['scaled_hic']>0][['source','target',\n",
    "                                                                                       'hic','scaled_hic',\n",
    "                                                                                       'pearson_dist','spearman_dist',\n",
    "                                                                                       'cosine_dist']]\n",
    "all_selected = pd.concat([inter_selected, intra_selected], axis=0)\n",
    "\n",
    "fig, (ax1, ax2, ax3) = plt.subplots(1, 3, figsize=(20,4))\n",
    "# Pearson\n",
    "x = all_selected['scaled_hic']\n",
    "y = all_selected['pearson_dist']\n",
    "h1 = ax1.hist2d(x, y, (100, 100), cmap=plt.cm.jet)\n",
    "m, b = np.polyfit(x, y, 1)\n",
    "ax1.plot(x, m*x+b, color='red')\n",
    "ax1.set_xlabel('scaled HiC')\n",
    "ax1.set_ylabel('Pearson distance')\n",
    "fig.colorbar(h1[3], ax=ax1)\n",
    "pearson = ss.pearsonr(x,y)\n",
    "ax1.set_title('Pearson vs HiC (corr='+str(np.round(pearson[0],3))+', pval='+str(np.round(pearson[1],3))+')')\n",
    "\n",
    "# Spearman\n",
    "x = all_selected['scaled_hic']\n",
    "y = all_selected['spearman_dist']\n",
    "h2 = ax2.hist2d(x, y, (100, 100), cmap=plt.cm.jet)\n",
    "m, b = np.polyfit(x, y, 1)\n",
    "ax2.plot(x, m*x+b, color='red')\n",
    "ax2.set_xlabel('scaled HiC')\n",
    "ax2.set_ylabel('Spearman distance')\n",
    "fig.colorbar(h2[3], ax=ax2)\n",
    "pearson = ss.pearsonr(x,y)\n",
    "ax2.set_title('Spearman (corr='+str(np.round(pearson[0],3))+', pval='+str(np.round(pearson[1],3))+')')\n",
    "\n",
    "# Cosine\n",
    "x = all_selected['scaled_hic']\n",
    "y = all_selected['cosine_dist']\n",
    "h3 = ax3.hist2d(x, y, (100, 100), cmap=plt.cm.jet)\n",
    "m, b = np.polyfit(x, y, 1)\n",
    "ax3.plot(x, m*x+b, color='red')\n",
    "ax3.set_xlabel('scaled HiC')\n",
    "ax3.set_ylabel('Cosine distance')\n",
    "fig.colorbar(h3[3], ax=ax3)\n",
    "pearson = ss.pearsonr(x,y)\n",
    "ax3.set_title('Cosine (corr='+str(np.round(pearson[0],3))+', pval='+str(np.round(pearson[1],3))+')')\n",
    "plt.show()"
   ]
  },
  {
   "cell_type": "markdown",
   "metadata": {},
   "source": [
    "## ROC-type curves for choice of distance"
   ]
  },
  {
   "cell_type": "code",
   "execution_count": 19,
   "metadata": {
    "code_folding": []
   },
   "outputs": [],
   "source": [
    "# Create list of selected edges\n",
    "hic_threshold = 0.\n",
    "t = np.quantile(adhesome_interX_edge_list['scaled_hic'],hic_threshold)\n",
    "u = np.quantile(adhesome_intraX_edge_list['scaled_hic'],hic_threshold)\n",
    "inter_selected = adhesome_interX_edge_list[adhesome_interX_edge_list['scaled_hic']>=t]\n",
    "intra_selected = adhesome_intraX_edge_list[adhesome_intraX_edge_list['scaled_hic']>=u][['source','target',\n",
    "                                                                                       'hic','scaled_hic',\n",
    "                                                                                       'pearson_dist','spearman_dist',\n",
    "                                                                                       'cosine_dist']]\n",
    "all_selected = pd.concat([inter_selected, intra_selected], axis=0)"
   ]
  },
  {
   "cell_type": "code",
   "execution_count": 19,
   "metadata": {
    "code_folding": [
     0
    ],
    "scrolled": true
   },
   "outputs": [
    {
     "name": "stderr",
     "output_type": "stream",
     "text": [
      "100%|██████████| 29646/29646 [01:23<00:00, 356.42it/s] \n"
     ]
    },
    {
     "data": {
      "image/png": "[encoded data removed]",
      "text/plain": [
       "<Figure size 360x288 with 1 Axes>"
      ]
     },
     "metadata": {
      "needs_background": "light"
     },
     "output_type": "display_data"
    },
    {
     "name": "stderr",
     "output_type": "stream",
     "text": [
      " 73%|███████▎  | 21765/29646 [00:44<00:32, 244.11it/s] "
     ]
    },
    {
     "ename": "KeyboardInterrupt",
     "evalue": "",
     "output_type": "error",
     "traceback": [
      "\u001b[0;31m---------------------------------------------------------------------------\u001b[0m",
      "\u001b[0;31mKeyboardInterrupt\u001b[0m                         Traceback (most recent call last)",
      "\u001b[0;32m<ipython-input-19-a70f5e3ca2fd>\u001b[0m in \u001b[0;36m<module>\u001b[0;34m\u001b[0m\n\u001b[1;32m     25\u001b[0m \u001b[0mls_pct\u001b[0m \u001b[0;34m=\u001b[0m \u001b[0;34m[\u001b[0m\u001b[0;34m]\u001b[0m\u001b[0;34m\u001b[0m\u001b[0;34m\u001b[0m\u001b[0m\n\u001b[1;32m     26\u001b[0m \u001b[0;32mfor\u001b[0m \u001b[0mt\u001b[0m \u001b[0;32min\u001b[0m \u001b[0mtqdm\u001b[0m\u001b[0;34m(\u001b[0m\u001b[0mrank_thresh_list\u001b[0m\u001b[0;34m)\u001b[0m\u001b[0;34m:\u001b[0m\u001b[0;34m\u001b[0m\u001b[0;34m\u001b[0m\u001b[0m\n\u001b[0;32m---> 27\u001b[0;31m     \u001b[0mlowest_dist_1\u001b[0m \u001b[0;34m=\u001b[0m \u001b[0mset\u001b[0m\u001b[0;34m(\u001b[0m\u001b[0mall_selected_pearson\u001b[0m\u001b[0;34m[\u001b[0m\u001b[0;34m:\u001b[0m\u001b[0mt\u001b[0m\u001b[0;34m]\u001b[0m\u001b[0;34m)\u001b[0m\u001b[0;34m\u001b[0m\u001b[0;34m\u001b[0m\u001b[0m\n\u001b[0m\u001b[1;32m     28\u001b[0m     \u001b[0mlowest_dist_2\u001b[0m \u001b[0;34m=\u001b[0m \u001b[0mset\u001b[0m\u001b[0;34m(\u001b[0m\u001b[0mall_selected_cosine\u001b[0m\u001b[0;34m[\u001b[0m\u001b[0;34m:\u001b[0m\u001b[0mt\u001b[0m\u001b[0;34m]\u001b[0m\u001b[0;34m)\u001b[0m\u001b[0;34m\u001b[0m\u001b[0;34m\u001b[0m\u001b[0m\n\u001b[1;32m     29\u001b[0m     \u001b[0mpct\u001b[0m \u001b[0;34m=\u001b[0m \u001b[0mlen\u001b[0m\u001b[0;34m(\u001b[0m\u001b[0mlowest_dist_1\u001b[0m\u001b[0;34m.\u001b[0m\u001b[0mintersection\u001b[0m\u001b[0;34m(\u001b[0m\u001b[0mlowest_dist_2\u001b[0m\u001b[0;34m)\u001b[0m\u001b[0;34m)\u001b[0m\u001b[0;34m/\u001b[0m\u001b[0mt\u001b[0m\u001b[0;34m\u001b[0m\u001b[0;34m\u001b[0m\u001b[0m\n",
      "\u001b[0;31mKeyboardInterrupt\u001b[0m: "
     ]
    }
   ],
   "source": [
    "# Plot ROC-type curves for all pairs of distances\n",
    "rank_thresh_list = np.arange(1,len(all_selected)+1)\n",
    "\n",
    "# Edge list sorted by Pearson, Spearman and cosine distance\n",
    "all_selected_pearson = all_selected.sort_values(by='pearson_dist', ascending=True).index.values\n",
    "all_selected_spearman = all_selected.sort_values(by='spearman_dist', ascending=True).index.values\n",
    "all_selected_cosine= all_selected.sort_values(by='cosine_dist', ascending=True).index.values\n",
    "\n",
    "# Spearman and Pearson\n",
    "ls_pct = []\n",
    "for t in tqdm(rank_thresh_list):\n",
    "    lowest_dist_1 = set(all_selected_pearson[:t])\n",
    "    lowest_dist_2 = set(all_selected_spearman[:t])\n",
    "    pct = len(lowest_dist_1.intersection(lowest_dist_2))/t\n",
    "    ls_pct.append(pct)\n",
    "plt.figure(figsize=(5,4))\n",
    "plt.scatter(rank_thresh_list, ls_pct)\n",
    "plt.ylim(0,1)\n",
    "plt.xlabel('Distance rank index')\n",
    "plt.ylabel('% common edges in top Pearson and Spearman')\n",
    "plt.title('Spearman - Pearson')\n",
    "plt.show()\n",
    "\n",
    "# Pearson and cosine\n",
    "ls_pct = []\n",
    "for t in tqdm(rank_thresh_list):\n",
    "    lowest_dist_1 = set(all_selected_pearson[:t])\n",
    "    lowest_dist_2 = set(all_selected_cosine[:t])\n",
    "    pct = len(lowest_dist_1.intersection(lowest_dist_2))/t\n",
    "    ls_pct.append(pct)\n",
    "plt.figure(figsize=(5,4))\n",
    "plt.scatter(rank_thresh_list, ls_pct)\n",
    "plt.ylim(0,1)\n",
    "plt.xlabel('Distance rank index')\n",
    "plt.ylabel('% common edges in top Pearson and cosine')\n",
    "plt.title('Pearson - cosine')\n",
    "plt.show()\n",
    "\n",
    "# Spearman and cosine\n",
    "ls_pct = []\n",
    "for t in tqdm(rank_thresh_list):\n",
    "    lowest_dist_1 = set(all_selected_cosine[:t])\n",
    "    lowest_dist_2 = set(all_selected_spearman[:t])\n",
    "    pct = len(lowest_dist_1.intersection(lowest_dist_2))/t\n",
    "    ls_pct.append(pct)\n",
    "plt.figure(figsize=(5,4))\n",
    "plt.scatter(rank_thresh_list, ls_pct)\n",
    "plt.ylim(0,1)\n",
    "plt.xlabel('Distance rank index')\n",
    "plt.ylabel('% common edges in top Spearman and cosine')\n",
    "plt.title('Spearman - cosine')\n",
    "plt.show()\n",
    "\n",
    "# Spearman, Pearson and cosine\n",
    "ls_pct = []\n",
    "for t in tqdm(rank_thresh_list):\n",
    "    lowest_dist_1 = set(all_selected_pearson[:t])\n",
    "    lowest_dist_2 = set(all_selected_spearman[:t])\n",
    "    lowest_dist_3 = set(all_selected_cosine[:t])\n",
    "    pct = len(lowest_dist_1.intersection(lowest_dist_2).intersection(lowest_dist_3))/t\n",
    "    ls_pct.append(pct)\n",
    "plt.figure(figsize=(5,4))\n",
    "plt.scatter(rank_thresh_list, ls_pct)\n",
    "plt.ylim(0,1)\n",
    "plt.xlabel('Distance rank index')\n",
    "plt.ylabel('% common edges in top Pearson, Spearman and cosine')\n",
    "plt.title('Pearson - Spearman - cosine')\n",
    "plt.show()\n"
   ]
  },
  {
   "cell_type": "markdown",
   "metadata": {},
   "source": [
    "# Find clusters of adhesome genes"
   ]
  },
  {
   "cell_type": "markdown",
   "metadata": {},
   "source": [
    "### Get HiC clusters"
   ]
  },
  {
   "cell_type": "code",
   "execution_count": 20,
   "metadata": {
    "code_folding": [
     0
    ]
   },
   "outputs": [],
   "source": [
    "# Construct network\n",
    "inter_selected = adhesome_interX_edge_list.copy()\n",
    "intra_selected = adhesome_intraX_edge_list.copy()\n",
    "intra_selected = intra_selected[['source','target','hic','scaled_hic',\n",
    "                                 'pearson_dist','spearman_dist',\n",
    "                                 'cosine_dist']]\n",
    "adhesome_edge_list = pd.concat([inter_selected,intra_selected], axis=0)\n",
    "G = nx.from_pandas_edgelist(adhesome_edge_list, edge_attr=['hic','scaled_hic',\n",
    "                                                           'pearson_dist','spearman_dist',\n",
    "                                                           'cosine_dist'])\n",
    "G.add_nodes_from(selected_genes)\n",
    "dist_hic = 1-np.array(nx.adjacency_matrix(G, nodelist=sorted(G.nodes), weight='scaled_hic').todense())\n",
    "np.fill_diagonal(dist_hic,0)\n",
    "y = dist_hic[np.triu_indices(n=len(dist_hic),k=1)]"
   ]
  },
  {
   "cell_type": "code",
   "execution_count": 31,
   "metadata": {
    "code_folding": []
   },
   "outputs": [
    {
     "data": {
      "image/png": "[encoded data removed]",
      "text/plain": [
       "<Figure size 360x360 with 1 Axes>"
      ]
     },
     "metadata": {
      "needs_background": "light"
     },
     "output_type": "display_data"
    }
   ],
   "source": [
    "# Check which is the best technique in terms of cophenetic correlation\n",
    "cophenet_single = cophenet(linkage(y, method='single'), y)[0]\n",
    "cophenet_complete = cophenet(linkage(y, method='complete'), y)[0]\n",
    "cophenet_average = cophenet(linkage(y, method='average'), y)[0]\n",
    "cophenet_ward = cophenet(linkage(y, method='ward'), y)[0]\n",
    "cophenet_centroid = cophenet(linkage(y, method='centroid'), y)[0]\n",
    "plt.figure(figsize=(5,5))\n",
    "plt.bar(x=['single', 'complete', 'average', 'ward', 'centroid'],\n",
    "        height = [cophenet_single, cophenet_complete, cophenet_average, cophenet_ward, cophenet_centroid],\n",
    "        color = ['red', 'blue', 'yellowgreen', 'yellow', 'orange'])\n",
    "plt.xlabel('linkage method')\n",
    "plt.ylabel('cophenetic correlation')\n",
    "plt.show()"
   ]
  },
  {
   "cell_type": "markdown",
   "metadata": {},
   "source": [
    "### Find threshold to obtain max 4 chromosomes per cluster"
   ]
  },
  {
   "cell_type": "code",
   "execution_count": 22,
   "metadata": {},
   "outputs": [],
   "source": [
    "# Clustering criterion\n",
    "criterion = 'distance'"
   ]
  },
  {
   "cell_type": "code",
   "execution_count": 24,
   "metadata": {
    "code_folding": [
     0
    ],
    "scrolled": true
   },
   "outputs": [
    {
     "name": "stderr",
     "output_type": "stream",
     "text": [
      "100%|██████████| 101/101 [00:07<00:00, 14.20it/s]"
     ]
    },
    {
     "name": "stdout",
     "output_type": "stream",
     "text": [
      "Threshold = 0.21\n"
     ]
    },
    {
     "name": "stderr",
     "output_type": "stream",
     "text": [
      "\n"
     ]
    },
    {
     "data": {
      "image/png": "[encoded data removed]",
      "text/plain": [
       "<Figure size 720x360 with 1 Axes>"
      ]
     },
     "metadata": {
      "needs_background": "light"
     },
     "output_type": "display_data"
    },
    {
     "data": {
      "image/png": "[encoded data removed]",
      "text/plain": [
       "<Figure size 720x360 with 1 Axes>"
      ]
     },
     "metadata": {
      "needs_background": "light"
     },
     "output_type": "display_data"
    }
   ],
   "source": [
    "# Pick clustering threshold\n",
    "linked1 = linkage(y, method='average')\n",
    "if criterion == 'distance':\n",
    "    \n",
    "    threshold_list = np.arange(0,1+0.01,0.01)\n",
    "    n_clusters = []\n",
    "    max_genes_per_cluster = []\n",
    "    max_chrom_per_cluster = []\n",
    "    for hc_threshold in tqdm(threshold_list):\n",
    "        # Cluster\n",
    "        clustering1 = fcluster(linked1, t=hc_threshold, criterion=criterion)\n",
    "        # Create graph with metadata\n",
    "        G_tmp = G.copy()\n",
    "        labels = np.array(sorted(G_tmp.nodes))\n",
    "        n = len(labels)\n",
    "        nx.set_node_attributes(G_tmp, {labels[i]: str(clustering1[i]) for i in range(n)}, \"cluster\")\n",
    "        nx.set_node_attributes(G_tmp, {labels[i]: gene2chrom[labels[i]] for i in range(n)}, \"chromosome\")\n",
    "        # Record results\n",
    "        n_clusters.append(len(np.unique(clustering1)))\n",
    "        max_genes_per_cluster.append(np.max(np.unique(clustering1, return_counts=True)[1]))\n",
    "        max_chrom_per_cluster.append(oi.get_networkx_graph_as_dataframe_of_nodes(G_tmp).groupby('cluster')['chromosome'].nunique().max())\n",
    "    n_clusters = np.array(n_clusters)\n",
    "    max_genes_per_cluster = np.array(max_genes_per_cluster)\n",
    "    max_chrom_per_cluster = np.array(max_chrom_per_cluster)\n",
    "    \n",
    "elif criterion == 'inconsistent':\n",
    "    \n",
    "    inconsist_coefs = inconsistent(linked1)[:,3]\n",
    "    threshold_list = np.arange(0-0.01,max(inconsist_coefs)+0.01,0.01)\n",
    "    n_clusters = []\n",
    "    max_genes_per_cluster = []\n",
    "    max_chrom_per_cluster = []\n",
    "    for hc_threshold in tqdm(threshold_list):\n",
    "        # Cluster\n",
    "        clustering1 = fcluster(linked1, t=hc_threshold, criterion=criterion)\n",
    "        # Create graph with metadata\n",
    "        G_tmp = G.copy()\n",
    "        labels = np.array(sorted(G_tmp.nodes))\n",
    "        n = len(labels)\n",
    "        nx.set_node_attributes(G_tmp, {labels[i]: str(clustering1[i]) for i in range(n)}, \"cluster\")\n",
    "        nx.set_node_attributes(G_tmp, {labels[i]: gene2chrom[labels[i]] for i in range(n)}, \"chromosome\")\n",
    "        # Record results\n",
    "        n_clusters.append(len(np.unique(clustering1)))\n",
    "        max_genes_per_cluster.append(np.max(np.unique(clustering1, return_counts=True)[1]))\n",
    "        max_chrom_per_cluster.append(oi.get_networkx_graph_as_dataframe_of_nodes(G_tmp).groupby('cluster')['chromosome'].nunique().max())\n",
    "    n_clusters = np.array(n_clusters)\n",
    "    max_genes_per_cluster = np.array(max_genes_per_cluster)\n",
    "    max_chrom_per_cluster = np.array(max_chrom_per_cluster)\n",
    "    \n",
    "# Performance of different HC thresholds\n",
    "t_critic = threshold_list[np.min(np.where(np.array(max_chrom_per_cluster)>4)[0])-1]\n",
    "print('Threshold = '+str(t_critic))\n",
    "\n",
    "plt.figure(figsize=(10,5))\n",
    "plt.plot(threshold_list, n_clusters, \n",
    "         marker='o', markersize=2, color='dodgerblue', label='number of clusters')\n",
    "plt.plot(threshold_list, max_genes_per_cluster, \n",
    "         marker='o', markersize=2, color='yellowgreen', label='maximum cluster size')\n",
    "plt.vlines(x=t_critic, ymin=0, ymax=max(n_clusters), color='red', linestyle='dashed')\n",
    "plt.xlabel('HC threshold')\n",
    "plt.ylabel('')\n",
    "plt.legend(loc='center right')\n",
    "plt.show()\n",
    "\n",
    "plt.figure(figsize=(10,5))\n",
    "plt.plot(threshold_list, max_chrom_per_cluster,\n",
    "         marker='o', markersize=2)\n",
    "plt.vlines(x=t_critic, ymin=0, ymax=max(max_chrom_per_cluster), color='red', linestyle='dashed')\n",
    "plt.xlabel('HC threshold')\n",
    "plt.ylabel('max number of chrom per cluster')\n",
    "plt.show()"
   ]
  },
  {
   "cell_type": "markdown",
   "metadata": {},
   "source": [
    "### HiC clustering with max 4 chromosomes per cluster"
   ]
  },
  {
   "cell_type": "code",
   "execution_count": 25,
   "metadata": {
    "code_folding": []
   },
   "outputs": [],
   "source": [
    "# Run hierarchical clustering\n",
    "linked = linkage(y, method='average')\n",
    "t = cc.get_4chrom_clustering(linked, sorted(G.nodes), gene2chrom, max_chrom=4, criterion=criterion)\n",
    "clust = fcluster(linked, t, criterion=criterion)"
   ]
  },
  {
   "cell_type": "code",
   "execution_count": 26,
   "metadata": {
    "scrolled": false
   },
   "outputs": [],
   "source": [
    "# Identify which nodes are in non-singleton clusters\n",
    "gene_clusters_df = pd.DataFrame({'gene': sorted(G.nodes), 'cluster': clust})\n",
    "nonsingleton_cluster_ids = set([c for c in list(clust) if list(clust).count(c)>1])\n",
    "nonsingleton_genes = gene_clusters_df[gene_clusters_df['cluster'].isin(nonsingleton_cluster_ids)]['gene'].values"
   ]
  },
  {
   "cell_type": "code",
   "execution_count": 27,
   "metadata": {
    "code_folding": [],
    "scrolled": false
   },
   "outputs": [
    {
     "data": {
      "image/png": "[encoded data removed]",
      "text/plain": [
       "<Figure size 720x2880 with 1 Axes>"
      ]
     },
     "metadata": {
      "needs_background": "light"
     },
     "output_type": "display_data"
    }
   ],
   "source": [
    "# Call dendrogram to get the returned dictionary and compute label function\n",
    "R1 = dendrogram(linked, labels=sorted(G.nodes), no_plot=True)\n",
    "R2 = []\n",
    "for i in range(len(R1['ivl'])):\n",
    "    if (R1['ivl'][i] in nonsingleton_genes):\n",
    "        R2.append(R1['ivl'][i])\n",
    "    else:\n",
    "        R2.append('')\n",
    "# Create a label dictionary\n",
    "temp = {\n",
    "    R1['leaves'][ii]: R2[ii] \n",
    "    for ii in range(len(R1['leaves']))\n",
    "}\n",
    "def llf(xx):\n",
    "    return temp[xx]\n",
    "\n",
    "plt.figure(figsize=(10, 40))\n",
    "dendrogram(linked,\n",
    "            orientation='left',\n",
    "            labels=sorted(G.nodes),\n",
    "            distance_sort='descending',\n",
    "            leaf_font_size=10,\n",
    "            leaf_label_func=llf,\n",
    "            color_threshold=t)\n",
    "plt.vlines(x=t, ymin=0, ymax=4000, color='red', linestyle='dashed')\n",
    "plt.show()"
   ]
  },
  {
   "cell_type": "code",
   "execution_count": 32,
   "metadata": {
    "code_folding": [],
    "scrolled": true
   },
   "outputs": [
    {
     "name": "stdout",
     "output_type": "stream",
     "text": [
      "Number of singletons = 186\n",
      "Number of non-singleton clusters = 17\n"
     ]
    },
    {
     "data": {
      "image/png": "[encoded data removed]",
      "text/plain": [
       "<Figure size 432x288 with 1 Axes>"
      ]
     },
     "metadata": {
      "needs_background": "light"
     },
     "output_type": "display_data"
    },
    {
     "data": {
      "text/html": [
       "<div>\n",
       "<style scoped>\n",
       "    .dataframe tbody tr th:only-of-type {\n",
       "        vertical-align: middle;\n",
       "    }\n",
       "\n",
       "    .dataframe tbody tr th {\n",
       "        vertical-align: top;\n",
       "    }\n",
       "\n",
       "    .dataframe thead th {\n",
       "        text-align: right;\n",
       "    }\n",
       "</style>\n",
       "<table border=\"1\" class=\"dataframe\">\n",
       "  <thead>\n",
       "    <tr style=\"text-align: right;\">\n",
       "      <th></th>\n",
       "      <th>gene</th>\n",
       "      <th>chrom</th>\n",
       "      <th>unique_chrom</th>\n",
       "      <th>size</th>\n",
       "      <th>adhesome</th>\n",
       "      <th>TFs</th>\n",
       "      <th>prop_adhesome_targets</th>\n",
       "      <th>prop_genome_targets</th>\n",
       "      <th>TF_adhesome_targets</th>\n",
       "    </tr>\n",
       "    <tr>\n",
       "      <th>cluster</th>\n",
       "      <th></th>\n",
       "      <th></th>\n",
       "      <th></th>\n",
       "      <th></th>\n",
       "      <th></th>\n",
       "      <th></th>\n",
       "      <th></th>\n",
       "      <th></th>\n",
       "      <th></th>\n",
       "    </tr>\n",
       "  </thead>\n",
       "  <tbody>\n",
       "    <tr>\n",
       "      <th>120</th>\n",
       "      <td>[CD151, HRAS, PLEC, SHARPIN, SLC16A3, UBE2I]</td>\n",
       "      <td>[chr11, chr11, chr8, chr8, chr17, chr16]</td>\n",
       "      <td>{chr16, chr8, chr17, chr11}</td>\n",
       "      <td>6</td>\n",
       "      <td>[CD151, HRAS, PLEC, SHARPIN, SLC16A3]</td>\n",
       "      <td>[UBE2I]</td>\n",
       "      <td>[0.01]</td>\n",
       "      <td>[0.002]</td>\n",
       "      <td>[[HRAS, TGFB1I1]]</td>\n",
       "    </tr>\n",
       "    <tr>\n",
       "      <th>121</th>\n",
       "      <td>[CFL1, MAPK8IP3, PIAS4, PIP5K1C, PKD1]</td>\n",
       "      <td>[chr11, chr16, chr19, chr19, chr16]</td>\n",
       "      <td>{chr19, chr16, chr11}</td>\n",
       "      <td>5</td>\n",
       "      <td>[CFL1, MAPK8IP3, PIP5K1C, PKD1]</td>\n",
       "      <td>[PIAS4]</td>\n",
       "      <td>[0.005]</td>\n",
       "      <td>[0.004]</td>\n",
       "      <td>[[PAK1]]</td>\n",
       "    </tr>\n",
       "    <tr>\n",
       "      <th>127</th>\n",
       "      <td>[SHC1, TESK1, TLN1]</td>\n",
       "      <td>[chr1, chr9, chr9]</td>\n",
       "      <td>{chr1, chr9}</td>\n",
       "      <td>3</td>\n",
       "      <td>[SHC1, TESK1, TLN1]</td>\n",
       "      <td>[]</td>\n",
       "      <td>[]</td>\n",
       "      <td>[]</td>\n",
       "      <td>[]</td>\n",
       "    </tr>\n",
       "    <tr>\n",
       "      <th>18</th>\n",
       "      <td>[CAV1, TES]</td>\n",
       "      <td>[chr7, chr7]</td>\n",
       "      <td>{chr7}</td>\n",
       "      <td>2</td>\n",
       "      <td>[CAV1, TES]</td>\n",
       "      <td>[]</td>\n",
       "      <td>[]</td>\n",
       "      <td>[]</td>\n",
       "      <td>[]</td>\n",
       "    </tr>\n",
       "    <tr>\n",
       "      <th>159</th>\n",
       "      <td>[MAPK1, PPM1F]</td>\n",
       "      <td>[chr22, chr22]</td>\n",
       "      <td>{chr22}</td>\n",
       "      <td>2</td>\n",
       "      <td>[MAPK1, PPM1F]</td>\n",
       "      <td>[]</td>\n",
       "      <td>[]</td>\n",
       "      <td>[]</td>\n",
       "      <td>[]</td>\n",
       "    </tr>\n",
       "    <tr>\n",
       "      <th>147</th>\n",
       "      <td>[NISCH, PPM1M]</td>\n",
       "      <td>[chr3, chr3]</td>\n",
       "      <td>{chr3}</td>\n",
       "      <td>2</td>\n",
       "      <td>[NISCH, PPM1M]</td>\n",
       "      <td>[]</td>\n",
       "      <td>[]</td>\n",
       "      <td>[]</td>\n",
       "      <td>[]</td>\n",
       "    </tr>\n",
       "    <tr>\n",
       "      <th>145</th>\n",
       "      <td>[CBL, THY1]</td>\n",
       "      <td>[chr11, chr11]</td>\n",
       "      <td>{chr11}</td>\n",
       "      <td>2</td>\n",
       "      <td>[CBL, THY1]</td>\n",
       "      <td>[]</td>\n",
       "      <td>[]</td>\n",
       "      <td>[]</td>\n",
       "      <td>[]</td>\n",
       "    </tr>\n",
       "    <tr>\n",
       "      <th>129</th>\n",
       "      <td>[CAPN1, ITGA3]</td>\n",
       "      <td>[chr11, chr17]</td>\n",
       "      <td>{chr17, chr11}</td>\n",
       "      <td>2</td>\n",
       "      <td>[CAPN1, ITGA3]</td>\n",
       "      <td>[]</td>\n",
       "      <td>[]</td>\n",
       "      <td>[]</td>\n",
       "      <td>[]</td>\n",
       "    </tr>\n",
       "    <tr>\n",
       "      <th>109</th>\n",
       "      <td>[CRKL, ITGB2]</td>\n",
       "      <td>[chr22, chr21]</td>\n",
       "      <td>{chr21, chr22}</td>\n",
       "      <td>2</td>\n",
       "      <td>[CRKL, ITGB2]</td>\n",
       "      <td>[]</td>\n",
       "      <td>[]</td>\n",
       "      <td>[]</td>\n",
       "      <td>[]</td>\n",
       "    </tr>\n",
       "    <tr>\n",
       "      <th>59</th>\n",
       "      <td>[CTTN, PPFIA1]</td>\n",
       "      <td>[chr11, chr11]</td>\n",
       "      <td>{chr11}</td>\n",
       "      <td>2</td>\n",
       "      <td>[CTTN, PPFIA1]</td>\n",
       "      <td>[]</td>\n",
       "      <td>[]</td>\n",
       "      <td>[]</td>\n",
       "      <td>[]</td>\n",
       "    </tr>\n",
       "    <tr>\n",
       "      <th>108</th>\n",
       "      <td>[ITGB7, TENC1]</td>\n",
       "      <td>[chr12, chr12]</td>\n",
       "      <td>{chr12}</td>\n",
       "      <td>2</td>\n",
       "      <td>[ITGB7, TENC1]</td>\n",
       "      <td>[]</td>\n",
       "      <td>[]</td>\n",
       "      <td>[]</td>\n",
       "      <td>[]</td>\n",
       "    </tr>\n",
       "    <tr>\n",
       "      <th>97</th>\n",
       "      <td>[POLR2A, TP53]</td>\n",
       "      <td>[chr17, chr17]</td>\n",
       "      <td>{chr17}</td>\n",
       "      <td>2</td>\n",
       "      <td>[]</td>\n",
       "      <td>[POLR2A, TP53]</td>\n",
       "      <td>[0.926, 0.02]</td>\n",
       "      <td>[0.72, 0.015]</td>\n",
       "      <td>[[ABI1, ABI2, ABL1, ACTB, ACTN1, ADAM12, AGAP2...</td>\n",
       "    </tr>\n",
       "    <tr>\n",
       "      <th>95</th>\n",
       "      <td>[DNM2, KEAP1]</td>\n",
       "      <td>[chr19, chr19]</td>\n",
       "      <td>{chr19}</td>\n",
       "      <td>2</td>\n",
       "      <td>[DNM2, KEAP1]</td>\n",
       "      <td>[]</td>\n",
       "      <td>[]</td>\n",
       "      <td>[]</td>\n",
       "      <td>[]</td>\n",
       "    </tr>\n",
       "    <tr>\n",
       "      <th>93</th>\n",
       "      <td>[CEBPB, PTPN1]</td>\n",
       "      <td>[chr20, chr20]</td>\n",
       "      <td>{chr20}</td>\n",
       "      <td>2</td>\n",
       "      <td>[PTPN1]</td>\n",
       "      <td>[CEBPB]</td>\n",
       "      <td>[0.886]</td>\n",
       "      <td>[0.665]</td>\n",
       "      <td>[[ABI1, ABI2, ABL1, ACTB, ACTN1, ADAM12, AGAP2...</td>\n",
       "    </tr>\n",
       "    <tr>\n",
       "      <th>69</th>\n",
       "      <td>[GRB2, SUMO2]</td>\n",
       "      <td>[chr17, chr17]</td>\n",
       "      <td>{chr17}</td>\n",
       "      <td>2</td>\n",
       "      <td>[GRB2]</td>\n",
       "      <td>[SUMO2]</td>\n",
       "      <td>[0.228]</td>\n",
       "      <td>[0.156]</td>\n",
       "      <td>[[ACTB, ARF1, ARHGEF12, ASAP2, BCAR1, BCAR3, C...</td>\n",
       "    </tr>\n",
       "    <tr>\n",
       "      <th>67</th>\n",
       "      <td>[ASAP2, ITGB1BP1]</td>\n",
       "      <td>[chr2, chr2]</td>\n",
       "      <td>{chr2}</td>\n",
       "      <td>2</td>\n",
       "      <td>[ASAP2, ITGB1BP1]</td>\n",
       "      <td>[]</td>\n",
       "      <td>[]</td>\n",
       "      <td>[]</td>\n",
       "      <td>[]</td>\n",
       "    </tr>\n",
       "    <tr>\n",
       "      <th>161</th>\n",
       "      <td>[ITGA1, ITGA2]</td>\n",
       "      <td>[chr5, chr5]</td>\n",
       "      <td>{chr5}</td>\n",
       "      <td>2</td>\n",
       "      <td>[ITGA1, ITGA2]</td>\n",
       "      <td>[]</td>\n",
       "      <td>[]</td>\n",
       "      <td>[]</td>\n",
       "      <td>[]</td>\n",
       "    </tr>\n",
       "  </tbody>\n",
       "</table>\n",
       "</div>"
      ],
      "text/plain": [
       "                                                 gene  \\\n",
       "cluster                                                 \n",
       "120      [CD151, HRAS, PLEC, SHARPIN, SLC16A3, UBE2I]   \n",
       "121            [CFL1, MAPK8IP3, PIAS4, PIP5K1C, PKD1]   \n",
       "127                               [SHC1, TESK1, TLN1]   \n",
       "18                                        [CAV1, TES]   \n",
       "159                                    [MAPK1, PPM1F]   \n",
       "147                                    [NISCH, PPM1M]   \n",
       "145                                       [CBL, THY1]   \n",
       "129                                    [CAPN1, ITGA3]   \n",
       "109                                     [CRKL, ITGB2]   \n",
       "59                                     [CTTN, PPFIA1]   \n",
       "108                                    [ITGB7, TENC1]   \n",
       "97                                     [POLR2A, TP53]   \n",
       "95                                      [DNM2, KEAP1]   \n",
       "93                                     [CEBPB, PTPN1]   \n",
       "69                                      [GRB2, SUMO2]   \n",
       "67                                  [ASAP2, ITGB1BP1]   \n",
       "161                                    [ITGA1, ITGA2]   \n",
       "\n",
       "                                            chrom  \\\n",
       "cluster                                             \n",
       "120      [chr11, chr11, chr8, chr8, chr17, chr16]   \n",
       "121           [chr11, chr16, chr19, chr19, chr16]   \n",
       "127                            [chr1, chr9, chr9]   \n",
       "18                                   [chr7, chr7]   \n",
       "159                                [chr22, chr22]   \n",
       "147                                  [chr3, chr3]   \n",
       "145                                [chr11, chr11]   \n",
       "129                                [chr11, chr17]   \n",
       "109                                [chr22, chr21]   \n",
       "59                                 [chr11, chr11]   \n",
       "108                                [chr12, chr12]   \n",
       "97                                 [chr17, chr17]   \n",
       "95                                 [chr19, chr19]   \n",
       "93                                 [chr20, chr20]   \n",
       "69                                 [chr17, chr17]   \n",
       "67                                   [chr2, chr2]   \n",
       "161                                  [chr5, chr5]   \n",
       "\n",
       "                        unique_chrom  size  \\\n",
       "cluster                                      \n",
       "120      {chr16, chr8, chr17, chr11}     6   \n",
       "121            {chr19, chr16, chr11}     5   \n",
       "127                     {chr1, chr9}     3   \n",
       "18                            {chr7}     2   \n",
       "159                          {chr22}     2   \n",
       "147                           {chr3}     2   \n",
       "145                          {chr11}     2   \n",
       "129                   {chr17, chr11}     2   \n",
       "109                   {chr21, chr22}     2   \n",
       "59                           {chr11}     2   \n",
       "108                          {chr12}     2   \n",
       "97                           {chr17}     2   \n",
       "95                           {chr19}     2   \n",
       "93                           {chr20}     2   \n",
       "69                           {chr17}     2   \n",
       "67                            {chr2}     2   \n",
       "161                           {chr5}     2   \n",
       "\n",
       "                                      adhesome             TFs  \\\n",
       "cluster                                                          \n",
       "120      [CD151, HRAS, PLEC, SHARPIN, SLC16A3]         [UBE2I]   \n",
       "121            [CFL1, MAPK8IP3, PIP5K1C, PKD1]         [PIAS4]   \n",
       "127                        [SHC1, TESK1, TLN1]              []   \n",
       "18                                 [CAV1, TES]              []   \n",
       "159                             [MAPK1, PPM1F]              []   \n",
       "147                             [NISCH, PPM1M]              []   \n",
       "145                                [CBL, THY1]              []   \n",
       "129                             [CAPN1, ITGA3]              []   \n",
       "109                              [CRKL, ITGB2]              []   \n",
       "59                              [CTTN, PPFIA1]              []   \n",
       "108                             [ITGB7, TENC1]              []   \n",
       "97                                          []  [POLR2A, TP53]   \n",
       "95                               [DNM2, KEAP1]              []   \n",
       "93                                     [PTPN1]         [CEBPB]   \n",
       "69                                      [GRB2]         [SUMO2]   \n",
       "67                           [ASAP2, ITGB1BP1]              []   \n",
       "161                             [ITGA1, ITGA2]              []   \n",
       "\n",
       "        prop_adhesome_targets prop_genome_targets  \\\n",
       "cluster                                             \n",
       "120                    [0.01]             [0.002]   \n",
       "121                   [0.005]             [0.004]   \n",
       "127                        []                  []   \n",
       "18                         []                  []   \n",
       "159                        []                  []   \n",
       "147                        []                  []   \n",
       "145                        []                  []   \n",
       "129                        []                  []   \n",
       "109                        []                  []   \n",
       "59                         []                  []   \n",
       "108                        []                  []   \n",
       "97              [0.926, 0.02]       [0.72, 0.015]   \n",
       "95                         []                  []   \n",
       "93                    [0.886]             [0.665]   \n",
       "69                    [0.228]             [0.156]   \n",
       "67                         []                  []   \n",
       "161                        []                  []   \n",
       "\n",
       "                                       TF_adhesome_targets  \n",
       "cluster                                                     \n",
       "120                                      [[HRAS, TGFB1I1]]  \n",
       "121                                               [[PAK1]]  \n",
       "127                                                     []  \n",
       "18                                                      []  \n",
       "159                                                     []  \n",
       "147                                                     []  \n",
       "145                                                     []  \n",
       "129                                                     []  \n",
       "109                                                     []  \n",
       "59                                                      []  \n",
       "108                                                     []  \n",
       "97       [[ABI1, ABI2, ABL1, ACTB, ACTN1, ADAM12, AGAP2...  \n",
       "95                                                      []  \n",
       "93       [[ABI1, ABI2, ABL1, ACTB, ACTN1, ADAM12, AGAP2...  \n",
       "69       [[ACTB, ARF1, ARHGEF12, ASAP2, BCAR1, BCAR3, C...  \n",
       "67                                                      []  \n",
       "161                                                     []  "
      ]
     },
     "execution_count": 32,
     "metadata": {},
     "output_type": "execute_result"
    }
   ],
   "source": [
    "# Get clustering dataframe\n",
    "clustering_hic_df = pd.DataFrame({'gene': sorted(G.nodes),\n",
    "                                  'chrom': [gene2chrom[g] for g in sorted(G.nodes)],\n",
    "                                  'cluster': clust})\n",
    "clustering_hic_df = clustering_hic_df.groupby('cluster').agg({'gene': lambda x: list(x),\n",
    "                                                              'chrom': lambda x: list(x)})\n",
    "clustering_hic_df['unique_chrom'] = [set(ls) for ls in clustering_hic_df['chrom']]\n",
    "clustering_hic_df['size'] = [len(ls) for ls in clustering_hic_df['gene']]\n",
    "\n",
    "# Add adhesome, TF annotations and specificity\n",
    "clustering_hic_df['adhesome'] = [[g for g in clustering_hic_df.iloc[i]['gene'] if g in active_adhesome_genes] \n",
    "                            for i in range(len(clustering_hic_df))]\n",
    "clustering_hic_df['TFs'] = [[g for g in clustering_hic_df.iloc[i]['gene'] if g in active_lung_adhesome_tf_genes] \n",
    "                            for i in range(len(clustering_hic_df))]\n",
    "clustering_hic_df['prop_adhesome_targets'] =[[np.round(len(active_lung_tf2target[tf].intersection(set(active_adhesome_genes)))/len(active_adhesome_genes),3) \n",
    "                                              for tf in tf_list]\n",
    "                                              for tf_list in clustering_hic_df['TFs']]\n",
    "clustering_hic_df['prop_genome_targets'] =[[np.round(len(active_lung_tf2target[tf].intersection(set(all_active_genes)))/len(all_active_genes),3) \n",
    "                                            for tf in tf_list]\n",
    "                                            for tf_list in clustering_hic_df['TFs']]\n",
    "\n",
    "# Show statistics\n",
    "print('Number of singletons = '+str(len(clustering_hic_df[clustering_hic_df['size']==1])))\n",
    "print('Number of non-singleton clusters = '+str(len(clustering_hic_df[clustering_hic_df['size']>1])))\n",
    "plt.figure()\n",
    "clustering_hic_df['size'].plot.hist(bins=np.arange(0.5,13.5,1))\n",
    "plt.xlabel('cluster size')\n",
    "plt.ylabel('number of clusters')\n",
    "plt.xticks(np.arange(1,13))\n",
    "plt.show()\n",
    "\n",
    "# Only select non singleton clusters\n",
    "clustering_hic_df = clustering_hic_df[clustering_hic_df['size']>1]\n",
    "clustering_hic_df = clustering_hic_df.sort_values(by='size', ascending=False)\n",
    "clustering_hic_df['TF_adhesome_targets'] = [\n",
    "    [sorted(active_lung_tf2target[tf].intersection(set(active_adhesome_genes))) \n",
    "#      if len(active_lung_tf2target[tf].intersection(set(active_adhesome_genes)))<10\n",
    "#      else {'lld'}\n",
    "     for tf in clustering_hic_df.loc[c,'TFs']\n",
    "    ] \n",
    "    for c in clustering_hic_df.index]\n",
    "clustering_hic_df"
   ]
  },
  {
   "cell_type": "markdown",
   "metadata": {},
   "source": [
    "## Check using regulatory features"
   ]
  },
  {
   "cell_type": "code",
   "execution_count": 39,
   "metadata": {},
   "outputs": [],
   "source": [
    "# Define graph from adhesome edge list with metadata\n",
    "G = nx.from_pandas_edgelist(adhesome_edge_list, edge_attr=['hic','scaled_hic',\n",
    "                                                           'pearson_dist','spearman_dist',\n",
    "                                                           'cosine_dist'])\n",
    "G.add_nodes_from(selected_genes)"
   ]
  },
  {
   "cell_type": "code",
   "execution_count": 40,
   "metadata": {
    "scrolled": true
   },
   "outputs": [],
   "source": [
    "# Obtain adjacency matrix based on scaled_hic\n",
    "A = np.array(nx.adjacency_matrix(G, nodelist=sorted(G.nodes), weight='scaled_hic').todense())\n",
    "np.fill_diagonal(A,1)\n",
    "A = pd.DataFrame(A, index=sorted(G.nodes), columns=sorted(G.nodes))\n",
    "# Compute HiC strength of each cluster\n",
    "hic_strength = []\n",
    "for c in clustering_hic_df.index:\n",
    "    genes = clustering_hic_df.loc[c,'gene']\n",
    "    hic_strength.append(np.mean(A.loc[genes,genes].values[np.triu_indices(n=len(genes), k=1)]))\n",
    "clustering_hic_df['hic_strength'] = hic_strength"
   ]
  },
  {
   "cell_type": "code",
   "execution_count": 41,
   "metadata": {
    "code_folding": []
   },
   "outputs": [],
   "source": [
    "# Obtain adjacency matrix based on regulatory features\n",
    "A = 1-np.array(nx.adjacency_matrix(G, nodelist=sorted(G.nodes), weight='pearson_dist').todense())\n",
    "np.fill_diagonal(A,1)\n",
    "A = pd.DataFrame(A, index=sorted(G.nodes), columns=sorted(G.nodes))\n",
    "# Compute regulatory strength of each cluster\n",
    "reg_strength = []\n",
    "for c in clustering_hic_df.index:\n",
    "    genes = clustering_hic_df.loc[c,'gene']\n",
    "    reg_strength.append(np.mean(A.loc[genes,genes].values[np.triu_indices(n=len(genes), k=1)]))\n",
    "clustering_hic_df['reg_strength'] = reg_strength"
   ]
  },
  {
   "cell_type": "code",
   "execution_count": 42,
   "metadata": {
    "scrolled": true
   },
   "outputs": [
    {
     "name": "stderr",
     "output_type": "stream",
     "text": [
      "100%|██████████| 1000/1000 [00:06<00:00, 145.90it/s]\n"
     ]
    }
   ],
   "source": [
    "# Derive a null distribution for regulatory strength of clusters\n",
    "null_dist_dict = {n: [] for n in np.arange(2,8)}\n",
    "\n",
    "np.random.seed(13)\n",
    "for _ in tqdm(range(1000)):\n",
    "    for n_genes in np.arange(2,8):\n",
    "        random_genes = np.random.choice(all_active_genes, size=n_genes, replace=False)\n",
    "        df_random = df_all_norm.loc[:,random_genes]\n",
    "        df_random_corr = (1+df_random.corr(method='pearson'))/2\n",
    "        null_dist_dict[n_genes].append(np.mean(df_random_corr.values[np.triu_indices(n=len(random_genes), k=1)]))\n",
    "null_dist_dict = {key: np.array(val) for key, val in null_dist_dict.items()}"
   ]
  },
  {
   "cell_type": "code",
   "execution_count": 43,
   "metadata": {},
   "outputs": [
    {
     "data": {
      "image/png": "[encoded data removed]",
      "text/plain": [
       "<Figure size 1080x360 with 6 Axes>"
      ]
     },
     "metadata": {
      "needs_background": "light"
     },
     "output_type": "display_data"
    }
   ],
   "source": [
    "# Plot null distributions\n",
    "i = 0\n",
    "plt.figure(figsize=(15,5))\n",
    "plt.subplots_adjust(top = 0.99, bottom=0.01, hspace=1, wspace=0.4)\n",
    "for key, _ in null_dist_dict.items():\n",
    "    i+=1\n",
    "    plt.subplot(2, 3, i)\n",
    "    plt.hist(null_dist_dict[key], bins=np.arange(0,1,0.04), density=True)\n",
    "    plt.xlabel('regulatory strength')\n",
    "    plt.ylabel('frequency')\n",
    "    plt.title('Null for '+str(key)+' nodes')\n",
    "plt.show()"
   ]
  },
  {
   "cell_type": "code",
   "execution_count": 44,
   "metadata": {
    "scrolled": true
   },
   "outputs": [
    {
     "data": {
      "text/html": [
       "<div>\n",
       "<style scoped>\n",
       "    .dataframe tbody tr th:only-of-type {\n",
       "        vertical-align: middle;\n",
       "    }\n",
       "\n",
       "    .dataframe tbody tr th {\n",
       "        vertical-align: top;\n",
       "    }\n",
       "\n",
       "    .dataframe thead th {\n",
       "        text-align: right;\n",
       "    }\n",
       "</style>\n",
       "<table border=\"1\" class=\"dataframe\">\n",
       "  <thead>\n",
       "    <tr style=\"text-align: right;\">\n",
       "      <th></th>\n",
       "      <th>index</th>\n",
       "      <th>cluster</th>\n",
       "      <th>gene</th>\n",
       "      <th>chrom</th>\n",
       "      <th>unique_chrom</th>\n",
       "      <th>size</th>\n",
       "      <th>adhesome</th>\n",
       "      <th>TFs</th>\n",
       "      <th>prop_adhesome_targets</th>\n",
       "      <th>prop_genome_targets</th>\n",
       "      <th>TF_adhesome_targets</th>\n",
       "      <th>hic_strength</th>\n",
       "      <th>reg_strength</th>\n",
       "      <th>pval</th>\n",
       "      <th>significant cluster</th>\n",
       "    </tr>\n",
       "  </thead>\n",
       "  <tbody>\n",
       "    <tr>\n",
       "      <th>0</th>\n",
       "      <td>6</td>\n",
       "      <td>59</td>\n",
       "      <td>[CTTN, PPFIA1]</td>\n",
       "      <td>[chr11, chr11]</td>\n",
       "      <td>{chr11}</td>\n",
       "      <td>2</td>\n",
       "      <td>[CTTN, PPFIA1]</td>\n",
       "      <td>[]</td>\n",
       "      <td>[]</td>\n",
       "      <td>[]</td>\n",
       "      <td>[]</td>\n",
       "      <td>0.965357</td>\n",
       "      <td>0.872754</td>\n",
       "      <td>0.002</td>\n",
       "      <td>True</td>\n",
       "    </tr>\n",
       "    <tr>\n",
       "      <th>1</th>\n",
       "      <td>12</td>\n",
       "      <td>18</td>\n",
       "      <td>[CAV1, TES]</td>\n",
       "      <td>[chr7, chr7]</td>\n",
       "      <td>{chr7}</td>\n",
       "      <td>2</td>\n",
       "      <td>[CAV1, TES]</td>\n",
       "      <td>[]</td>\n",
       "      <td>[]</td>\n",
       "      <td>[]</td>\n",
       "      <td>[]</td>\n",
       "      <td>0.875783</td>\n",
       "      <td>0.857120</td>\n",
       "      <td>0.006</td>\n",
       "      <td>True</td>\n",
       "    </tr>\n",
       "    <tr>\n",
       "      <th>2</th>\n",
       "      <td>0</td>\n",
       "      <td>120</td>\n",
       "      <td>[CD151, HRAS, PLEC, SHARPIN, SLC16A3, UBE2I]</td>\n",
       "      <td>[chr11, chr11, chr8, chr8, chr17, chr16]</td>\n",
       "      <td>{chr16, chr8, chr17, chr11}</td>\n",
       "      <td>6</td>\n",
       "      <td>[CD151, HRAS, PLEC, SHARPIN, SLC16A3]</td>\n",
       "      <td>[UBE2I]</td>\n",
       "      <td>[0.01]</td>\n",
       "      <td>[0.002]</td>\n",
       "      <td>[[HRAS, TGFB1I1]]</td>\n",
       "      <td>0.893638</td>\n",
       "      <td>0.647585</td>\n",
       "      <td>0.027</td>\n",
       "      <td>True</td>\n",
       "    </tr>\n",
       "    <tr>\n",
       "      <th>3</th>\n",
       "      <td>11</td>\n",
       "      <td>159</td>\n",
       "      <td>[MAPK1, PPM1F]</td>\n",
       "      <td>[chr22, chr22]</td>\n",
       "      <td>{chr22}</td>\n",
       "      <td>2</td>\n",
       "      <td>[MAPK1, PPM1F]</td>\n",
       "      <td>[]</td>\n",
       "      <td>[]</td>\n",
       "      <td>[]</td>\n",
       "      <td>[]</td>\n",
       "      <td>0.837828</td>\n",
       "      <td>0.788769</td>\n",
       "      <td>0.039</td>\n",
       "      <td>True</td>\n",
       "    </tr>\n",
       "    <tr>\n",
       "      <th>4</th>\n",
       "      <td>9</td>\n",
       "      <td>145</td>\n",
       "      <td>[CBL, THY1]</td>\n",
       "      <td>[chr11, chr11]</td>\n",
       "      <td>{chr11}</td>\n",
       "      <td>2</td>\n",
       "      <td>[CBL, THY1]</td>\n",
       "      <td>[]</td>\n",
       "      <td>[]</td>\n",
       "      <td>[]</td>\n",
       "      <td>[]</td>\n",
       "      <td>0.821954</td>\n",
       "      <td>0.775334</td>\n",
       "      <td>0.050</td>\n",
       "      <td>True</td>\n",
       "    </tr>\n",
       "    <tr>\n",
       "      <th>5</th>\n",
       "      <td>14</td>\n",
       "      <td>121</td>\n",
       "      <td>[CFL1, MAPK8IP3, PIAS4, PIP5K1C, PKD1]</td>\n",
       "      <td>[chr11, chr16, chr19, chr19, chr16]</td>\n",
       "      <td>{chr19, chr16, chr11}</td>\n",
       "      <td>5</td>\n",
       "      <td>[CFL1, MAPK8IP3, PIP5K1C, PKD1]</td>\n",
       "      <td>[PIAS4]</td>\n",
       "      <td>[0.005]</td>\n",
       "      <td>[0.004]</td>\n",
       "      <td>[[PAK1]]</td>\n",
       "      <td>0.863036</td>\n",
       "      <td>0.642726</td>\n",
       "      <td>0.063</td>\n",
       "      <td>True</td>\n",
       "    </tr>\n",
       "    <tr>\n",
       "      <th>6</th>\n",
       "      <td>1</td>\n",
       "      <td>69</td>\n",
       "      <td>[GRB2, SUMO2]</td>\n",
       "      <td>[chr17, chr17]</td>\n",
       "      <td>{chr17}</td>\n",
       "      <td>2</td>\n",
       "      <td>[GRB2]</td>\n",
       "      <td>[SUMO2]</td>\n",
       "      <td>[0.228]</td>\n",
       "      <td>[0.156]</td>\n",
       "      <td>[[ACTB, ARF1, ARHGEF12, ASAP2, BCAR1, BCAR3, C...</td>\n",
       "      <td>0.815202</td>\n",
       "      <td>0.742839</td>\n",
       "      <td>0.078</td>\n",
       "      <td>True</td>\n",
       "    </tr>\n",
       "    <tr>\n",
       "      <th>7</th>\n",
       "      <td>7</td>\n",
       "      <td>67</td>\n",
       "      <td>[ASAP2, ITGB1BP1]</td>\n",
       "      <td>[chr2, chr2]</td>\n",
       "      <td>{chr2}</td>\n",
       "      <td>2</td>\n",
       "      <td>[ASAP2, ITGB1BP1]</td>\n",
       "      <td>[]</td>\n",
       "      <td>[]</td>\n",
       "      <td>[]</td>\n",
       "      <td>[]</td>\n",
       "      <td>0.903006</td>\n",
       "      <td>0.709222</td>\n",
       "      <td>0.116</td>\n",
       "      <td>False</td>\n",
       "    </tr>\n",
       "    <tr>\n",
       "      <th>8</th>\n",
       "      <td>10</td>\n",
       "      <td>147</td>\n",
       "      <td>[NISCH, PPM1M]</td>\n",
       "      <td>[chr3, chr3]</td>\n",
       "      <td>{chr3}</td>\n",
       "      <td>2</td>\n",
       "      <td>[NISCH, PPM1M]</td>\n",
       "      <td>[]</td>\n",
       "      <td>[]</td>\n",
       "      <td>[]</td>\n",
       "      <td>[]</td>\n",
       "      <td>0.980953</td>\n",
       "      <td>0.701313</td>\n",
       "      <td>0.133</td>\n",
       "      <td>False</td>\n",
       "    </tr>\n",
       "    <tr>\n",
       "      <th>9</th>\n",
       "      <td>15</td>\n",
       "      <td>129</td>\n",
       "      <td>[CAPN1, ITGA3]</td>\n",
       "      <td>[chr11, chr17]</td>\n",
       "      <td>{chr17, chr11}</td>\n",
       "      <td>2</td>\n",
       "      <td>[CAPN1, ITGA3]</td>\n",
       "      <td>[]</td>\n",
       "      <td>[]</td>\n",
       "      <td>[]</td>\n",
       "      <td>[]</td>\n",
       "      <td>0.850165</td>\n",
       "      <td>0.655335</td>\n",
       "      <td>0.210</td>\n",
       "      <td>False</td>\n",
       "    </tr>\n",
       "    <tr>\n",
       "      <th>10</th>\n",
       "      <td>13</td>\n",
       "      <td>127</td>\n",
       "      <td>[SHC1, TESK1, TLN1]</td>\n",
       "      <td>[chr1, chr9, chr9]</td>\n",
       "      <td>{chr1, chr9}</td>\n",
       "      <td>3</td>\n",
       "      <td>[SHC1, TESK1, TLN1]</td>\n",
       "      <td>[]</td>\n",
       "      <td>[]</td>\n",
       "      <td>[]</td>\n",
       "      <td>[]</td>\n",
       "      <td>0.848432</td>\n",
       "      <td>0.587000</td>\n",
       "      <td>0.305</td>\n",
       "      <td>False</td>\n",
       "    </tr>\n",
       "    <tr>\n",
       "      <th>11</th>\n",
       "      <td>16</td>\n",
       "      <td>161</td>\n",
       "      <td>[ITGA1, ITGA2]</td>\n",
       "      <td>[chr5, chr5]</td>\n",
       "      <td>{chr5}</td>\n",
       "      <td>2</td>\n",
       "      <td>[ITGA1, ITGA2]</td>\n",
       "      <td>[]</td>\n",
       "      <td>[]</td>\n",
       "      <td>[]</td>\n",
       "      <td>[]</td>\n",
       "      <td>0.813994</td>\n",
       "      <td>0.609961</td>\n",
       "      <td>0.318</td>\n",
       "      <td>False</td>\n",
       "    </tr>\n",
       "    <tr>\n",
       "      <th>12</th>\n",
       "      <td>5</td>\n",
       "      <td>108</td>\n",
       "      <td>[ITGB7, TENC1]</td>\n",
       "      <td>[chr12, chr12]</td>\n",
       "      <td>{chr12}</td>\n",
       "      <td>2</td>\n",
       "      <td>[ITGB7, TENC1]</td>\n",
       "      <td>[]</td>\n",
       "      <td>[]</td>\n",
       "      <td>[]</td>\n",
       "      <td>[]</td>\n",
       "      <td>0.837000</td>\n",
       "      <td>0.601948</td>\n",
       "      <td>0.338</td>\n",
       "      <td>False</td>\n",
       "    </tr>\n",
       "    <tr>\n",
       "      <th>13</th>\n",
       "      <td>3</td>\n",
       "      <td>95</td>\n",
       "      <td>[DNM2, KEAP1]</td>\n",
       "      <td>[chr19, chr19]</td>\n",
       "      <td>{chr19}</td>\n",
       "      <td>2</td>\n",
       "      <td>[DNM2, KEAP1]</td>\n",
       "      <td>[]</td>\n",
       "      <td>[]</td>\n",
       "      <td>[]</td>\n",
       "      <td>[]</td>\n",
       "      <td>0.842709</td>\n",
       "      <td>0.595977</td>\n",
       "      <td>0.356</td>\n",
       "      <td>False</td>\n",
       "    </tr>\n",
       "    <tr>\n",
       "      <th>14</th>\n",
       "      <td>4</td>\n",
       "      <td>97</td>\n",
       "      <td>[POLR2A, TP53]</td>\n",
       "      <td>[chr17, chr17]</td>\n",
       "      <td>{chr17}</td>\n",
       "      <td>2</td>\n",
       "      <td>[]</td>\n",
       "      <td>[POLR2A, TP53]</td>\n",
       "      <td>[0.926, 0.02]</td>\n",
       "      <td>[0.72, 0.015]</td>\n",
       "      <td>[[ABI1, ABI2, ABL1, ACTB, ACTN1, ADAM12, AGAP2...</td>\n",
       "      <td>0.817568</td>\n",
       "      <td>0.542624</td>\n",
       "      <td>0.496</td>\n",
       "      <td>False</td>\n",
       "    </tr>\n",
       "    <tr>\n",
       "      <th>15</th>\n",
       "      <td>2</td>\n",
       "      <td>93</td>\n",
       "      <td>[CEBPB, PTPN1]</td>\n",
       "      <td>[chr20, chr20]</td>\n",
       "      <td>{chr20}</td>\n",
       "      <td>2</td>\n",
       "      <td>[PTPN1]</td>\n",
       "      <td>[CEBPB]</td>\n",
       "      <td>[0.886]</td>\n",
       "      <td>[0.665]</td>\n",
       "      <td>[[ABI1, ABI2, ABL1, ACTB, ACTN1, ADAM12, AGAP2...</td>\n",
       "      <td>0.897099</td>\n",
       "      <td>0.459347</td>\n",
       "      <td>0.729</td>\n",
       "      <td>False</td>\n",
       "    </tr>\n",
       "    <tr>\n",
       "      <th>16</th>\n",
       "      <td>8</td>\n",
       "      <td>109</td>\n",
       "      <td>[CRKL, ITGB2]</td>\n",
       "      <td>[chr22, chr21]</td>\n",
       "      <td>{chr21, chr22}</td>\n",
       "      <td>2</td>\n",
       "      <td>[CRKL, ITGB2]</td>\n",
       "      <td>[]</td>\n",
       "      <td>[]</td>\n",
       "      <td>[]</td>\n",
       "      <td>[]</td>\n",
       "      <td>0.845182</td>\n",
       "      <td>0.348244</td>\n",
       "      <td>0.921</td>\n",
       "      <td>False</td>\n",
       "    </tr>\n",
       "  </tbody>\n",
       "</table>\n",
       "</div>"
      ],
      "text/plain": [
       "    index  cluster                                          gene  \\\n",
       "0       6       59                                [CTTN, PPFIA1]   \n",
       "1      12       18                                   [CAV1, TES]   \n",
       "2       0      120  [CD151, HRAS, PLEC, SHARPIN, SLC16A3, UBE2I]   \n",
       "3      11      159                                [MAPK1, PPM1F]   \n",
       "4       9      145                                   [CBL, THY1]   \n",
       "5      14      121        [CFL1, MAPK8IP3, PIAS4, PIP5K1C, PKD1]   \n",
       "6       1       69                                 [GRB2, SUMO2]   \n",
       "7       7       67                             [ASAP2, ITGB1BP1]   \n",
       "8      10      147                                [NISCH, PPM1M]   \n",
       "9      15      129                                [CAPN1, ITGA3]   \n",
       "10     13      127                           [SHC1, TESK1, TLN1]   \n",
       "11     16      161                                [ITGA1, ITGA2]   \n",
       "12      5      108                                [ITGB7, TENC1]   \n",
       "13      3       95                                 [DNM2, KEAP1]   \n",
       "14      4       97                                [POLR2A, TP53]   \n",
       "15      2       93                                [CEBPB, PTPN1]   \n",
       "16      8      109                                 [CRKL, ITGB2]   \n",
       "\n",
       "                                       chrom                 unique_chrom  \\\n",
       "0                             [chr11, chr11]                      {chr11}   \n",
       "1                               [chr7, chr7]                       {chr7}   \n",
       "2   [chr11, chr11, chr8, chr8, chr17, chr16]  {chr16, chr8, chr17, chr11}   \n",
       "3                             [chr22, chr22]                      {chr22}   \n",
       "4                             [chr11, chr11]                      {chr11}   \n",
       "5        [chr11, chr16, chr19, chr19, chr16]        {chr19, chr16, chr11}   \n",
       "6                             [chr17, chr17]                      {chr17}   \n",
       "7                               [chr2, chr2]                       {chr2}   \n",
       "8                               [chr3, chr3]                       {chr3}   \n",
       "9                             [chr11, chr17]               {chr17, chr11}   \n",
       "10                        [chr1, chr9, chr9]                 {chr1, chr9}   \n",
       "11                              [chr5, chr5]                       {chr5}   \n",
       "12                            [chr12, chr12]                      {chr12}   \n",
       "13                            [chr19, chr19]                      {chr19}   \n",
       "14                            [chr17, chr17]                      {chr17}   \n",
       "15                            [chr20, chr20]                      {chr20}   \n",
       "16                            [chr22, chr21]               {chr21, chr22}   \n",
       "\n",
       "    size                               adhesome             TFs  \\\n",
       "0      2                         [CTTN, PPFIA1]              []   \n",
       "1      2                            [CAV1, TES]              []   \n",
       "2      6  [CD151, HRAS, PLEC, SHARPIN, SLC16A3]         [UBE2I]   \n",
       "3      2                         [MAPK1, PPM1F]              []   \n",
       "4      2                            [CBL, THY1]              []   \n",
       "5      5        [CFL1, MAPK8IP3, PIP5K1C, PKD1]         [PIAS4]   \n",
       "6      2                                 [GRB2]         [SUMO2]   \n",
       "7      2                      [ASAP2, ITGB1BP1]              []   \n",
       "8      2                         [NISCH, PPM1M]              []   \n",
       "9      2                         [CAPN1, ITGA3]              []   \n",
       "10     3                    [SHC1, TESK1, TLN1]              []   \n",
       "11     2                         [ITGA1, ITGA2]              []   \n",
       "12     2                         [ITGB7, TENC1]              []   \n",
       "13     2                          [DNM2, KEAP1]              []   \n",
       "14     2                                     []  [POLR2A, TP53]   \n",
       "15     2                                [PTPN1]         [CEBPB]   \n",
       "16     2                          [CRKL, ITGB2]              []   \n",
       "\n",
       "   prop_adhesome_targets prop_genome_targets  \\\n",
       "0                     []                  []   \n",
       "1                     []                  []   \n",
       "2                 [0.01]             [0.002]   \n",
       "3                     []                  []   \n",
       "4                     []                  []   \n",
       "5                [0.005]             [0.004]   \n",
       "6                [0.228]             [0.156]   \n",
       "7                     []                  []   \n",
       "8                     []                  []   \n",
       "9                     []                  []   \n",
       "10                    []                  []   \n",
       "11                    []                  []   \n",
       "12                    []                  []   \n",
       "13                    []                  []   \n",
       "14         [0.926, 0.02]       [0.72, 0.015]   \n",
       "15               [0.886]             [0.665]   \n",
       "16                    []                  []   \n",
       "\n",
       "                                  TF_adhesome_targets  hic_strength  \\\n",
       "0                                                  []      0.965357   \n",
       "1                                                  []      0.875783   \n",
       "2                                   [[HRAS, TGFB1I1]]      0.893638   \n",
       "3                                                  []      0.837828   \n",
       "4                                                  []      0.821954   \n",
       "5                                            [[PAK1]]      0.863036   \n",
       "6   [[ACTB, ARF1, ARHGEF12, ASAP2, BCAR1, BCAR3, C...      0.815202   \n",
       "7                                                  []      0.903006   \n",
       "8                                                  []      0.980953   \n",
       "9                                                  []      0.850165   \n",
       "10                                                 []      0.848432   \n",
       "11                                                 []      0.813994   \n",
       "12                                                 []      0.837000   \n",
       "13                                                 []      0.842709   \n",
       "14  [[ABI1, ABI2, ABL1, ACTB, ACTN1, ADAM12, AGAP2...      0.817568   \n",
       "15  [[ABI1, ABI2, ABL1, ACTB, ACTN1, ADAM12, AGAP2...      0.897099   \n",
       "16                                                 []      0.845182   \n",
       "\n",
       "    reg_strength   pval  significant cluster  \n",
       "0       0.872754  0.002                 True  \n",
       "1       0.857120  0.006                 True  \n",
       "2       0.647585  0.027                 True  \n",
       "3       0.788769  0.039                 True  \n",
       "4       0.775334  0.050                 True  \n",
       "5       0.642726  0.063                 True  \n",
       "6       0.742839  0.078                 True  \n",
       "7       0.709222  0.116                False  \n",
       "8       0.701313  0.133                False  \n",
       "9       0.655335  0.210                False  \n",
       "10      0.587000  0.305                False  \n",
       "11      0.609961  0.318                False  \n",
       "12      0.601948  0.338                False  \n",
       "13      0.595977  0.356                False  \n",
       "14      0.542624  0.496                False  \n",
       "15      0.459347  0.729                False  \n",
       "16      0.348244  0.921                False  "
      ]
     },
     "execution_count": 44,
     "metadata": {},
     "output_type": "execute_result"
    }
   ],
   "source": [
    "# Compute regulatory p-value for each cluster\n",
    "clustering_hic_df['pval'] = [\n",
    "    np.mean(null_dist_dict[clustering_hic_df.iloc[i]['size']]>clustering_hic_df.iloc[i]['reg_strength']) \n",
    "                             for i in range(len(clustering_hic_df))\n",
    "]\n",
    "clustering_hic_df['significant cluster'] = clustering_hic_df['pval']<0.1\n",
    "clustering_hic_df = clustering_hic_df.sort_values(by='pval', ascending=True)\n",
    "clustering_hic_df = clustering_hic_df.reset_index()\n",
    "clustering_hic_df = clustering_hic_df.sort_values(['pval'])\n",
    "clustering_hic_df.to_csv(saving_dir+'clustering_hic_df_INTERKR.csv', sep=';', header=True)\n",
    "clustering_hic_df"
   ]
  },
  {
   "cell_type": "code",
   "execution_count": 35,
   "metadata": {},
   "outputs": [
    {
     "data": {
      "text/html": [
       "<div>\n",
       "<style scoped>\n",
       "    .dataframe tbody tr th:only-of-type {\n",
       "        vertical-align: middle;\n",
       "    }\n",
       "\n",
       "    .dataframe tbody tr th {\n",
       "        vertical-align: top;\n",
       "    }\n",
       "\n",
       "    .dataframe thead th {\n",
       "        text-align: right;\n",
       "    }\n",
       "</style>\n",
       "<table border=\"1\" class=\"dataframe\">\n",
       "  <thead>\n",
       "    <tr style=\"text-align: right;\">\n",
       "      <th></th>\n",
       "      <th>gene</th>\n",
       "      <th>chrom</th>\n",
       "      <th>adhesome</th>\n",
       "      <th>TFs</th>\n",
       "      <th>hic_strength</th>\n",
       "      <th>reg_strength</th>\n",
       "    </tr>\n",
       "  </thead>\n",
       "  <tbody>\n",
       "    <tr>\n",
       "      <th>1</th>\n",
       "      <td>[CD151, HRAS, PLEC, SHARPIN, SLC16A3, UBE2I]</td>\n",
       "      <td>[chr11, chr11, chr8, chr8, chr17, chr16]</td>\n",
       "      <td>[CD151, HRAS, PLEC, SHARPIN, SLC16A3]</td>\n",
       "      <td>[UBE2I]</td>\n",
       "      <td>0.893638</td>\n",
       "      <td>0.690943</td>\n",
       "    </tr>\n",
       "    <tr>\n",
       "      <th>5</th>\n",
       "      <td>[CFL1, MAPK8IP3, PIAS4, PIP5K1C, PKD1]</td>\n",
       "      <td>[chr11, chr16, chr19, chr19, chr16]</td>\n",
       "      <td>[CFL1, MAPK8IP3, PIP5K1C, PKD1]</td>\n",
       "      <td>[PIAS4]</td>\n",
       "      <td>0.863036</td>\n",
       "      <td>0.609748</td>\n",
       "    </tr>\n",
       "    <tr>\n",
       "      <th>14</th>\n",
       "      <td>[CAPN1, ITGA3]</td>\n",
       "      <td>[chr11, chr17]</td>\n",
       "      <td>[CAPN1, ITGA3]</td>\n",
       "      <td>[]</td>\n",
       "      <td>0.850165</td>\n",
       "      <td>0.593899</td>\n",
       "    </tr>\n",
       "    <tr>\n",
       "      <th>11</th>\n",
       "      <td>[SHC1, TESK1, TLN1]</td>\n",
       "      <td>[chr1, chr9, chr9]</td>\n",
       "      <td>[SHC1, TESK1, TLN1]</td>\n",
       "      <td>[]</td>\n",
       "      <td>0.848432</td>\n",
       "      <td>0.583261</td>\n",
       "    </tr>\n",
       "    <tr>\n",
       "      <th>16</th>\n",
       "      <td>[CRKL, ITGB2]</td>\n",
       "      <td>[chr22, chr21]</td>\n",
       "      <td>[CRKL, ITGB2]</td>\n",
       "      <td>[]</td>\n",
       "      <td>0.845182</td>\n",
       "      <td>0.356980</td>\n",
       "    </tr>\n",
       "  </tbody>\n",
       "</table>\n",
       "</div>"
      ],
      "text/plain": [
       "                                            gene  \\\n",
       "1   [CD151, HRAS, PLEC, SHARPIN, SLC16A3, UBE2I]   \n",
       "5         [CFL1, MAPK8IP3, PIAS4, PIP5K1C, PKD1]   \n",
       "14                                [CAPN1, ITGA3]   \n",
       "11                           [SHC1, TESK1, TLN1]   \n",
       "16                                 [CRKL, ITGB2]   \n",
       "\n",
       "                                       chrom  \\\n",
       "1   [chr11, chr11, chr8, chr8, chr17, chr16]   \n",
       "5        [chr11, chr16, chr19, chr19, chr16]   \n",
       "14                            [chr11, chr17]   \n",
       "11                        [chr1, chr9, chr9]   \n",
       "16                            [chr22, chr21]   \n",
       "\n",
       "                                 adhesome      TFs  hic_strength  reg_strength  \n",
       "1   [CD151, HRAS, PLEC, SHARPIN, SLC16A3]  [UBE2I]      0.893638      0.690943  \n",
       "5         [CFL1, MAPK8IP3, PIP5K1C, PKD1]  [PIAS4]      0.863036      0.609748  \n",
       "14                         [CAPN1, ITGA3]       []      0.850165      0.593899  \n",
       "11                    [SHC1, TESK1, TLN1]       []      0.848432      0.583261  \n",
       "16                          [CRKL, ITGB2]       []      0.845182      0.356980  "
      ]
     },
     "execution_count": 35,
     "metadata": {},
     "output_type": "execute_result"
    }
   ],
   "source": [
    "clustering_hic_df_viz = clustering_hic_df.sort_values(['reg_strength', 'hic_strength'], ascending=[False, False])\n",
    "clustering_hic_df_viz = clustering_hic_df_viz[[len(chrom_set)>1 \n",
    "                                               for chrom_set in clustering_hic_df_viz['unique_chrom']]]\n",
    "clustering_hic_df_viz = clustering_hic_df_viz[['gene', 'chrom', 'adhesome', 'TFs', 'hic_strength', 'reg_strength']]\n",
    "clustering_hic_df_viz"
   ]
  },
  {
   "cell_type": "code",
   "execution_count": 60,
   "metadata": {},
   "outputs": [
    {
     "data": {
      "image/png": "[encoded data removed]",
      "text/plain": [
       "<Figure size 432x288 with 1 Axes>"
      ]
     },
     "metadata": {
      "needs_background": "light"
     },
     "output_type": "display_data"
    }
   ],
   "source": [
    "# Plot clusters in hic_strength/reg_strength space\n",
    "plt.figure()\n",
    "sns.scatterplot(x='reg_strength', y='hic_strength', hue='significant cluster', data=clustering_hic_df)\n",
    "for c in clustering_hic_df.index:\n",
    "    plt.text(clustering_hic_df.loc[c,'reg_strength']+0.005,\n",
    "             clustering_hic_df.loc[c,'hic_strength']+0, \n",
    "             c)\n",
    "# plt.xlim([0.42,1])\n",
    "# plt.ylim([0.80,1])\n",
    "plt.xlabel('regulatory strength')\n",
    "plt.ylabel('HiC strength')\n",
    "plt.legend(loc='upper left')\n",
    "plt.show()"
   ]
  },
  {
   "cell_type": "code",
   "execution_count": 61,
   "metadata": {
    "scrolled": false
   },
   "outputs": [
    {
     "data": {
      "text/html": [
       "<div>\n",
       "<style scoped>\n",
       "    .dataframe tbody tr th:only-of-type {\n",
       "        vertical-align: middle;\n",
       "    }\n",
       "\n",
       "    .dataframe tbody tr th {\n",
       "        vertical-align: top;\n",
       "    }\n",
       "\n",
       "    .dataframe thead th {\n",
       "        text-align: right;\n",
       "    }\n",
       "</style>\n",
       "<table border=\"1\" class=\"dataframe\">\n",
       "  <thead>\n",
       "    <tr style=\"text-align: right;\">\n",
       "      <th></th>\n",
       "      <th>cluster</th>\n",
       "      <th>gene</th>\n",
       "      <th>chrom</th>\n",
       "      <th>unique_chrom</th>\n",
       "      <th>size</th>\n",
       "      <th>adhesome</th>\n",
       "      <th>TFs</th>\n",
       "      <th>prop_adhesome_targets</th>\n",
       "      <th>prop_genome_targets</th>\n",
       "      <th>TF_adhesome_targets</th>\n",
       "      <th>hic_strength</th>\n",
       "      <th>reg_strength</th>\n",
       "      <th>pval</th>\n",
       "      <th>significant cluster</th>\n",
       "    </tr>\n",
       "  </thead>\n",
       "  <tbody>\n",
       "    <tr>\n",
       "      <th>0</th>\n",
       "      <td>18</td>\n",
       "      <td>[CAV1, TES]</td>\n",
       "      <td>[chr7, chr7]</td>\n",
       "      <td>{chr7}</td>\n",
       "      <td>2</td>\n",
       "      <td>[CAV1, TES]</td>\n",
       "      <td>[]</td>\n",
       "      <td>[]</td>\n",
       "      <td>[]</td>\n",
       "      <td>[]</td>\n",
       "      <td>0.875783</td>\n",
       "      <td>0.891392</td>\n",
       "      <td>0.003</td>\n",
       "      <td>True</td>\n",
       "    </tr>\n",
       "    <tr>\n",
       "      <th>1</th>\n",
       "      <td>120</td>\n",
       "      <td>[CD151, HRAS, PLEC, SHARPIN, SLC16A3, UBE2I]</td>\n",
       "      <td>[chr11, chr11, chr8, chr8, chr17, chr16]</td>\n",
       "      <td>{chr8, chr17, chr16, chr11}</td>\n",
       "      <td>6</td>\n",
       "      <td>[CD151, HRAS, PLEC, SHARPIN, SLC16A3]</td>\n",
       "      <td>[UBE2I]</td>\n",
       "      <td>[0.01]</td>\n",
       "      <td>[0.002]</td>\n",
       "      <td>[[HRAS, TGFB1I1]]</td>\n",
       "      <td>0.893638</td>\n",
       "      <td>0.690943</td>\n",
       "      <td>0.006</td>\n",
       "      <td>True</td>\n",
       "    </tr>\n",
       "  </tbody>\n",
       "</table>\n",
       "</div>"
      ],
      "text/plain": [
       "   cluster                                          gene  \\\n",
       "0       18                                   [CAV1, TES]   \n",
       "1      120  [CD151, HRAS, PLEC, SHARPIN, SLC16A3, UBE2I]   \n",
       "\n",
       "                                      chrom                 unique_chrom  \\\n",
       "0                              [chr7, chr7]                       {chr7}   \n",
       "1  [chr11, chr11, chr8, chr8, chr17, chr16]  {chr8, chr17, chr16, chr11}   \n",
       "\n",
       "   size                               adhesome      TFs prop_adhesome_targets  \\\n",
       "0     2                            [CAV1, TES]       []                    []   \n",
       "1     6  [CD151, HRAS, PLEC, SHARPIN, SLC16A3]  [UBE2I]                [0.01]   \n",
       "\n",
       "  prop_genome_targets TF_adhesome_targets  hic_strength  reg_strength   pval  \\\n",
       "0                  []                  []      0.875783      0.891392  0.003   \n",
       "1             [0.002]   [[HRAS, TGFB1I1]]      0.893638      0.690943  0.006   \n",
       "\n",
       "   significant cluster  \n",
       "0                 True  \n",
       "1                 True  "
      ]
     },
     "execution_count": 61,
     "metadata": {},
     "output_type": "execute_result"
    }
   ],
   "source": [
    "# Select clusters that show strong coregulation\n",
    "clustering_hic_df.to_csv(saving_dir+'clustering_hic_df.csv')\n",
    "pval_threshold = 0.01\n",
    "clustering_hic_df = clustering_hic_df[clustering_hic_df['pval']<pval_threshold]\n",
    "clustering_hic_df"
   ]
  },
  {
   "cell_type": "code",
   "execution_count": 62,
   "metadata": {},
   "outputs": [],
   "source": [
    "# Create dictionary mapping cluster ID (index of clustering_hic_df) to cluster\n",
    "id2cluster = {i: ','.join(clustering_hic_df.loc[i,'gene']) for i in clustering_hic_df.index}\n",
    "cluster2id = {','.join(clustering_hic_df.loc[i,'gene']): i for i in clustering_hic_df.index}"
   ]
  },
  {
   "cell_type": "markdown",
   "metadata": {},
   "source": [
    "#  Build network of clusters"
   ]
  },
  {
   "cell_type": "code",
   "execution_count": 63,
   "metadata": {
    "code_folding": []
   },
   "outputs": [],
   "source": [
    "# Build network of clusters\n",
    "edge_list = pd.DataFrame(columns=['source','target','source_id','target_id','weight','TFs'])\n",
    "for i in range(len(clustering_hic_df)):\n",
    "    for j in range(len(clustering_hic_df)):\n",
    "        # Cluster nodes\n",
    "        cluster1 = cc.format_node_label(clustering_hic_df.iloc[i]['gene'])\n",
    "        cluster2 = cc.format_node_label(clustering_hic_df.iloc[j]['gene'])\n",
    "        # Clusters ID\n",
    "        cluster1_id = clustering_hic_df.index.values[i]\n",
    "        cluster2_id = clustering_hic_df.index.values[i]\n",
    "        # Nodes in clusters\n",
    "        cluster1_tfs = clustering_hic_df.iloc[i]['TFs']\n",
    "        cluster2_nodes = clustering_hic_df.iloc[j]['gene']\n",
    "        # Normalized edge weight\n",
    "        n_target_genes = len(cluster2_nodes)\n",
    "        n_tf_genes = len(cluster1_tfs)\n",
    "        if n_tf_genes>0: \n",
    "            tfs_involved_in_edge = [tf for tf in cluster1_tfs\n",
    "                                    if len(active_lung_tf2target[tf].intersection(set(cluster2_nodes)))>0]\n",
    "            tfs_targets = [sorted(active_lung_tf2target[tf].intersection(set(cluster2_nodes))) \n",
    "                           for tf in tfs_involved_in_edge]\n",
    "            weight = np.sum(np.array([len(active_lung_tf2target[cluster1_tfs[i]].intersection(set(cluster2_nodes)))\n",
    "                                     for i in range(len(cluster1_tfs))]))/(n_target_genes*n_tf_genes)\n",
    "            # Create edge\n",
    "            new_edge = pd.DataFrame({'source': [cluster1],\n",
    "                                     'target': [cluster2],                \n",
    "                                     'source_id': [cluster1_id],\n",
    "                                     'target_id': [cluster2_id],\n",
    "                                     'weight':[weight],\n",
    "                                     'TFs': [','.join(tfs_involved_in_edge)],\n",
    "                                     'TF_targets': [tfs_targets]})\n",
    "            edge_list = edge_list.append(new_edge)\n",
    "edge_list = edge_list[edge_list['weight']>0]"
   ]
  },
  {
   "cell_type": "code",
   "execution_count": 64,
   "metadata": {},
   "outputs": [
    {
     "name": "stdout",
     "output_type": "stream",
     "text": [
      "Name: \n",
      "Type: DiGraph\n",
      "Number of nodes: 2\n",
      "Number of edges: 1\n",
      "Average in degree:   0.5000\n",
      "Average out degree:   0.5000\n"
     ]
    }
   ],
   "source": [
    "# Create graph\n",
    "G = nx.from_pandas_edgelist(edge_list, edge_attr=['weight','TFs'], create_using=nx.DiGraph)\n",
    "G.add_nodes_from([cc.format_node_label(clustering_hic_df.iloc[i]['gene']) for i in range(len(clustering_hic_df))])\n",
    "# Add node metadata\n",
    "n = len(clustering_hic_df)\n",
    "nx.set_node_attributes(G, \n",
    "        {cc.format_node_label(clustering_hic_df.iloc[i]['gene']): len(clustering_hic_df.iloc[i]['adhesome']) for i in range(n)}, \n",
    "                       \"n_adhesome\")\n",
    "nx.set_node_attributes(G, \n",
    "        {cc.format_node_label(clustering_hic_df.iloc[i]['gene']): len(clustering_hic_df.iloc[i]['TFs']) for i in range(n)}, \n",
    "                       \"n_TFs\")\n",
    "nx.set_node_attributes(G, \n",
    "        {cc.format_node_label(clustering_hic_df.iloc[i]['gene']): clustering_hic_df.iloc[i]['adhesome'] for i in range(n)}, \n",
    "                       \"all_adhesomes\")\n",
    "nx.set_node_attributes(G, \n",
    "        {cc.format_node_label(clustering_hic_df.iloc[i]['gene']): clustering_hic_df.iloc[i]['TFs'] for i in range(n)}, \n",
    "                       \"all_TFs\")\n",
    "print(nx.info(G))"
   ]
  },
  {
   "cell_type": "code",
   "execution_count": 65,
   "metadata": {
    "scrolled": false
   },
   "outputs": [
    {
     "data": {
      "text/html": [
       "\n",
       "        <iframe\n",
       "            width=\"500px\"\n",
       "            height=\"500px\"\n",
       "            src=\"adhesome_network.html\"\n",
       "            frameborder=\"0\"\n",
       "            allowfullscreen\n",
       "        ></iframe>\n",
       "        "
      ],
      "text/plain": [
       "<IPython.lib.display.IFrame at 0x7f19ce9c8190>"
      ]
     },
     "execution_count": 65,
     "metadata": {},
     "output_type": "execute_result"
    }
   ],
   "source": [
    "reload(cc)\n",
    "# Define network object\n",
    "net  = Network(height=\"500px\",\n",
    "               width=\"500px\",\n",
    "               directed=True,\n",
    "               font_color='black',\n",
    "               notebook=True,\n",
    "               layout=None,\n",
    "               heading='Adhesome network')\n",
    "\n",
    "# Set layout\n",
    "net.hrepulsion(node_distance=300,\n",
    "               central_gravity=0.0,\n",
    "               spring_length=100,\n",
    "               spring_strength=0.01,\n",
    "               damping=0.09)\n",
    "\n",
    "net.toggle_physics(False)\n",
    "\n",
    "# Import NetworkX graph\n",
    "cc.from_nx(G, net, default_node_size=20, \n",
    "        default_edge_weight=1,edge_weight_scale=0.1, edge_color_scale=1, edge_threshold=0, \n",
    "        hidden_edges=[],\n",
    "        shape='box')\n",
    "#net.show_buttons()\n",
    "net.show(\"adhesome_network.html\")"
   ]
  },
  {
   "cell_type": "code",
   "execution_count": 41,
   "metadata": {
    "scrolled": false
   },
   "outputs": [
    {
     "data": {
      "text/html": [
       "<div>\n",
       "<style scoped>\n",
       "    .dataframe tbody tr th:only-of-type {\n",
       "        vertical-align: middle;\n",
       "    }\n",
       "\n",
       "    .dataframe tbody tr th {\n",
       "        vertical-align: top;\n",
       "    }\n",
       "\n",
       "    .dataframe thead th {\n",
       "        text-align: right;\n",
       "    }\n",
       "</style>\n",
       "<table border=\"1\" class=\"dataframe\">\n",
       "  <thead>\n",
       "    <tr style=\"text-align: right;\">\n",
       "      <th></th>\n",
       "      <th>source_id</th>\n",
       "      <th>target_id</th>\n",
       "      <th>weight</th>\n",
       "      <th>TFs</th>\n",
       "      <th>TF_targets</th>\n",
       "    </tr>\n",
       "  </thead>\n",
       "  <tbody>\n",
       "    <tr>\n",
       "      <th>0</th>\n",
       "      <td>1</td>\n",
       "      <td>1</td>\n",
       "      <td>0.166667</td>\n",
       "      <td>UBE2I</td>\n",
       "      <td>[[HRAS]]</td>\n",
       "    </tr>\n",
       "  </tbody>\n",
       "</table>\n",
       "</div>"
      ],
      "text/plain": [
       "   source_id  target_id    weight    TFs TF_targets\n",
       "0          1          1  0.166667  UBE2I   [[HRAS]]"
      ]
     },
     "execution_count": 41,
     "metadata": {},
     "output_type": "execute_result"
    }
   ],
   "source": [
    "# Nicer version of edge list for display\n",
    "edge_list_todisplay = edge_list.copy()\n",
    "edge_list_todisplay['source'] = edge_list_todisplay['source'].str.replace(' \\n ', '').str.replace(' ', ',')\n",
    "edge_list_todisplay['target'] = edge_list_todisplay['target'].str.replace(' \\n ', '').str.replace(' ', ',')\n",
    "edge_list_todisplay['source_id'] = [cluster2id[c] for c in edge_list_todisplay['source']]\n",
    "edge_list_todisplay['target_id'] = [cluster2id[c] for c in edge_list_todisplay['target']]\n",
    "edge_list_todisplay = edge_list_todisplay[['source_id', 'target_id', 'weight', 'TFs', 'TF_targets']]\n",
    "edge_list_todisplay.to_csv(saving_dir+'edge_list_todisplay.csv')\n",
    "edge_list_todisplay.head()"
   ]
  },
  {
   "cell_type": "code",
   "execution_count": 42,
   "metadata": {},
   "outputs": [
    {
     "data": {
      "text/html": [
       "<div>\n",
       "<style scoped>\n",
       "    .dataframe tbody tr th:only-of-type {\n",
       "        vertical-align: middle;\n",
       "    }\n",
       "\n",
       "    .dataframe tbody tr th {\n",
       "        vertical-align: top;\n",
       "    }\n",
       "\n",
       "    .dataframe thead th {\n",
       "        text-align: right;\n",
       "    }\n",
       "</style>\n",
       "<table border=\"1\" class=\"dataframe\">\n",
       "  <thead>\n",
       "    <tr style=\"text-align: right;\">\n",
       "      <th></th>\n",
       "      <th>cluster_id</th>\n",
       "      <th>genes</th>\n",
       "    </tr>\n",
       "  </thead>\n",
       "  <tbody>\n",
       "    <tr>\n",
       "      <th>0</th>\n",
       "      <td>0</td>\n",
       "      <td>CAV1,TES</td>\n",
       "    </tr>\n",
       "    <tr>\n",
       "      <th>1</th>\n",
       "      <td>1</td>\n",
       "      <td>CD151,HRAS,PLEC,SHARPIN,SLC16A3,UBE2I</td>\n",
       "    </tr>\n",
       "  </tbody>\n",
       "</table>\n",
       "</div>"
      ],
      "text/plain": [
       "   cluster_id                                  genes\n",
       "0           0                               CAV1,TES\n",
       "1           1  CD151,HRAS,PLEC,SHARPIN,SLC16A3,UBE2I"
      ]
     },
     "execution_count": 42,
     "metadata": {},
     "output_type": "execute_result"
    }
   ],
   "source": [
    "# Correspondance between cluster and cluster ID\n",
    "clusters_map = pd.DataFrame({'cluster_id': list(id2cluster.keys()),\n",
    "                             'genes': list(id2cluster.values())})\n",
    "clusters_map.to_csv(saving_dir+'clusters_map.csv')\n",
    "clusters_map"
   ]
  },
  {
   "cell_type": "markdown",
   "metadata": {},
   "source": [
    "## TFs in selected clusters"
   ]
  },
  {
   "cell_type": "code",
   "execution_count": 43,
   "metadata": {},
   "outputs": [],
   "source": [
    "# Spot TFs in our clusters\n",
    "all_genes_in_clusters = np.array(list(itertools.chain.from_iterable([genes.split(',') \n",
    "                                                                     for genes in clusters_map['genes'].values])))\n",
    "all_lungfibroTFs = tftarget_df_lungfibro['tf'].unique()\n",
    "all_tfs_in_clusters = np.array(list(set(all_genes_in_clusters).intersection(set(all_lungfibroTFs))))"
   ]
  },
  {
   "cell_type": "code",
   "execution_count": 44,
   "metadata": {},
   "outputs": [
    {
     "data": {
      "image/png": "[encoded data removed]",
      "text/plain": [
       "<Figure size 432x288 with 1 Axes>"
      ]
     },
     "metadata": {
      "needs_background": "light"
     },
     "output_type": "display_data"
    }
   ],
   "source": [
    "# Plot \n",
    "barplot_data = tftarget_df_lungfibro[tftarget_df_lungfibro['tf'].isin(all_tfs_in_clusters)]\n",
    "barplot_data = barplot_data.drop_duplicates(subset=['tf', 'target_gene'])\n",
    "barplot_data = barplot_data.groupby(['tf'])\n",
    "barplot_data = barplot_data['target_gene'].count().sort_values()\n",
    "plt.figure()\n",
    "barplot_data = barplot_data.plot.barh()\n",
    "plt.xscale('log')\n",
    "plt.xlabel('number of targets')\n",
    "plt.ylabel('transcription factor')\n",
    "plt.show()"
   ]
  },
  {
   "cell_type": "code",
   "execution_count": null,
   "metadata": {},
   "outputs": [],
   "source": []
  }
 ],
 "metadata": {
  "kernelspec": {
   "display_name": "Python 3",
   "language": "python",
   "name": "python3"
  },
  "language_info": {
   "codemirror_mode": {
    "name": "ipython",
    "version": 3
   },
   "file_extension": ".py",
   "mimetype": "text/x-python",
   "name": "python",
   "nbconvert_exporter": "python",
   "pygments_lexer": "ipython3",
   "version": "3.7.4"
  }
 },
 "nbformat": 4,
 "nbformat_minor": 2
}
