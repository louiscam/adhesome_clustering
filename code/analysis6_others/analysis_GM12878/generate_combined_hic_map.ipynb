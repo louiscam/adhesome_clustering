{
 "cells": [
  {
   "cell_type": "markdown",
   "metadata": {},
   "source": [
    "# Figure 1: Adhesome in GM12878 HiC"
   ]
  },
  {
   "cell_type": "code",
   "execution_count": 1,
   "metadata": {
    "code_folding": [
     0
    ]
   },
   "outputs": [
    {
     "data": {
      "text/plain": [
       "<module 'correlation_clustering' from '../correlation_clustering.py'>"
      ]
     },
     "execution_count": 1,
     "metadata": {},
     "output_type": "execute_result"
    }
   ],
   "source": [
    "# Import standard libraries\n",
    "import sys\n",
    "import warnings\n",
    "warnings.simplefilter(action='ignore', category=FutureWarning)\n",
    "from importlib import reload\n",
    "import numpy as np\n",
    "import matplotlib as mpl\n",
    "import matplotlib.pyplot as plt\n",
    "from matplotlib_venn import venn2, venn3\n",
    "from brokenaxes import brokenaxes\n",
    "from scipy.cluster.hierarchy import dendrogram, linkage, fcluster\n",
    "from sklearn.metrics import adjusted_mutual_info_score\n",
    "import seaborn as sns\n",
    "from scipy import sparse\n",
    "import scipy.stats as ss\n",
    "import csv\n",
    "import pandas as pd\n",
    "import networkx as nx\n",
    "import community\n",
    "import communities as com\n",
    "import pickle\n",
    "from collections import defaultdict\n",
    "import operator\n",
    "from scipy.sparse import csr_matrix\n",
    "import itertools\n",
    "import os.path\n",
    "import math\n",
    "from sklearn.cluster import AgglomerativeClustering\n",
    "from sklearn.decomposition import PCA\n",
    "from sklearn.manifold import TSNE\n",
    "from sklearn.metrics import adjusted_mutual_info_score\n",
    "from networkx.algorithms.community.kclique import k_clique_communities\n",
    "import pybedtools\n",
    "import time\n",
    "from tqdm import tqdm\n",
    "import random\n",
    "import OmicsIntegrator as oi\n",
    "import gseapy\n",
    "from gseapy.plot import barplot, dotplot\n",
    "from ortools.linear_solver import pywraplp\n",
    "# Custom libraries\n",
    "import utils as lu\n",
    "sys.path.insert(0,'..')\n",
    "import correlation_clustering as cc\n",
    "# Reload modules in case of modifications\n",
    "reload(lu)\n",
    "reload(cc)"
   ]
  },
  {
   "cell_type": "code",
   "execution_count": 2,
   "metadata": {
    "code_folding": []
   },
   "outputs": [],
   "source": [
    "# Specify all directories\n",
    "# Directory of adhesome data\n",
    "dir_adhesome = '/home/louiscam/projects/gpcr/data/adhesome_data/'\n",
    "# Directory of genome data\n",
    "dir_genome = '/home/louiscam/projects/gpcr/data/genome_data/'\n",
    "# Directory of processed HiC\n",
    "dir_processed_hic = '/home/louiscam/projects/gpcr/save/processed_hic_data/processed_hic_data_GM12878/final_BP250000_intraKR_interGWKR/'\n",
    "# Directory of epigenomic data\n",
    "epigenome_dir = '/home/louiscam/projects/gpcr/data/regulatory_data/regulatory_data_GM12878/'\n",
    "processed_epigenome_data_dir = '/home/louiscam/projects/gpcr/save/processed_regulatory_marks/processed_epigenome_data_GM12878/'\n",
    "# Saving directory\n",
    "saving_dir = '/home/louiscam/projects/gpcr/save/figures/'"
   ]
  },
  {
   "cell_type": "code",
   "execution_count": 3,
   "metadata": {
    "code_folding": []
   },
   "outputs": [],
   "source": [
    "# Relevant information\n",
    "cell_type = 'GM12878'\n",
    "resol_str = '250kb'\n",
    "resol = 250000\n",
    "quality = 'MAPQGE30'"
   ]
  },
  {
   "cell_type": "markdown",
   "metadata": {},
   "source": [
    "### Load auxiliary data"
   ]
  },
  {
   "cell_type": "code",
   "execution_count": 4,
   "metadata": {},
   "outputs": [],
   "source": [
    "# Load dictionaries\n",
    "gene2locus = pickle.load(open(saving_dir+'gene2locus.pkl','rb'))\n",
    "locus2gene = pickle.load(open(saving_dir+'locus2gene.pkl','rb'))\n",
    "gene2chrom = pickle.load(open(saving_dir+'gene2chrom.pkl','rb'))"
   ]
  },
  {
   "cell_type": "code",
   "execution_count": 5,
   "metadata": {},
   "outputs": [],
   "source": [
    "# Load gene location in hg19\n",
    "gene_locations_filename = dir_genome+'chrom_hg19.loc_canonical'\n",
    "gene_id_filename = dir_genome+'chrom_hg19.name'\n",
    "df_loc = lu.get_all_gene_locations(gene_locations_filename, gene_id_filename)"
   ]
  },
  {
   "cell_type": "markdown",
   "metadata": {},
   "source": [
    "### Load gene data"
   ]
  },
  {
   "cell_type": "code",
   "execution_count": 34,
   "metadata": {},
   "outputs": [],
   "source": [
    "# Active genes in GM12878\n",
    "all_active_genes = pickle.load(open(saving_dir+'active_genes_GM12878.pkl','rb'))"
   ]
  },
  {
   "cell_type": "code",
   "execution_count": 6,
   "metadata": {},
   "outputs": [],
   "source": [
    "# Adhesome genes\n",
    "adhesome_chr_loci = pickle.load(open(saving_dir+'adhesome_chr_loci.pkl','rb'))\n",
    "all_adhesome_genes = adhesome_chr_loci['gene'].unique()\n",
    "all_adhesome_loci = adhesome_chr_loci['locus_id'].unique()"
   ]
  },
  {
   "cell_type": "code",
   "execution_count": 7,
   "metadata": {},
   "outputs": [],
   "source": [
    "# TCR genes\n",
    "tcr_chr_loci = pickle.load(open(saving_dir+'tcr_chr_loci.pkl','rb'))\n",
    "all_tcr_genes = tcr_chr_loci['gene'].unique()\n",
    "all_tcr_loci = tcr_chr_loci['locus_id'].unique()"
   ]
  },
  {
   "cell_type": "code",
   "execution_count": 8,
   "metadata": {},
   "outputs": [],
   "source": [
    "# BCR\n",
    "bcr_chr_loci = pickle.load(open(saving_dir+'bcr_chr_loci.pkl','rb'))\n",
    "all_bcr_genes = bcr_chr_loci['gene'].unique()\n",
    "all_bcr_loci = bcr_chr_loci['locus_id'].unique()"
   ]
  },
  {
   "cell_type": "code",
   "execution_count": 9,
   "metadata": {},
   "outputs": [
    {
     "data": {
      "image/png": "[encoded data removed]",
      "text/plain": [
       "<Figure size 432x288 with 1 Axes>"
      ]
     },
     "metadata": {},
     "output_type": "display_data"
    }
   ],
   "source": [
    "# See overlp between gene lists\n",
    "plt.figure()\n",
    "venn3(subsets = (set(all_adhesome_genes), set(all_tcr_genes), set(all_bcr_genes)), \n",
    "      set_labels = ('Adhesome genes', 'TCR genes', 'BCR genes'))\n",
    "plt.show()"
   ]
  },
  {
   "cell_type": "code",
   "execution_count": 31,
   "metadata": {},
   "outputs": [],
   "source": [
    "# Identify genes in the intersection\n",
    "specific_adhesome_genes = np.array(list(set(all_adhesome_genes)-set(all_tcr_genes)-set(all_bcr_genes)))\n",
    "specific_tcr_genes = np.array(list(set(all_tcr_genes)-set(all_adhesome_genes)-set(all_bcr_genes)))\n",
    "specific_bcr_genes = np.array(list(set(all_bcr_genes)-set(all_adhesome_genes)-set(all_tcr_genes)))\n",
    "common_genes = np.array(list(set.intersection(*[set(all_adhesome_genes), set(all_tcr_genes), set(all_bcr_genes)])))\n",
    "common_genes = np.array(list(set.union(*[set(all_adhesome_genes), set(all_tcr_genes), set(all_bcr_genes)])-\n",
    "                             set(specific_adhesome_genes)-set(specific_tcr_genes)-set(specific_bcr_genes)))"
   ]
  },
  {
   "cell_type": "code",
   "execution_count": 10,
   "metadata": {},
   "outputs": [
    {
     "name": "stdout",
     "output_type": "stream",
     "text": [
      "Number of selected loci = 431\n"
     ]
    }
   ],
   "source": [
    "# Selected loci\n",
    "loci_list = np.unique(np.concatenate([all_adhesome_loci, all_tcr_loci, all_bcr_loci]))\n",
    "print(f'Number of selected loci = {len(loci_list)}')"
   ]
  },
  {
   "cell_type": "code",
   "execution_count": 11,
   "metadata": {},
   "outputs": [],
   "source": [
    "# Buld map from selected loci to corresponding genes\n",
    "selected_locus2gene = {}\n",
    "for loc in loci_list:\n",
    "    adhesome_g = adhesome_chr_loci[adhesome_chr_loci['locus_id']==loc]['gene'].unique()\n",
    "    tcr_g = tcr_chr_loci[tcr_chr_loci['locus_id']==loc]['gene'].unique()\n",
    "    bcr_g = bcr_chr_loci[bcr_chr_loci['locus_id']==loc]['gene'].unique()\n",
    "    selected_locus2gene[loc] = np.unique(np.concatenate([adhesome_g, tcr_g, bcr_g]))"
   ]
  },
  {
   "cell_type": "code",
   "execution_count": 76,
   "metadata": {},
   "outputs": [
    {
     "name": "stderr",
     "output_type": "stream",
     "text": [
      "100%|██████████| 231/231 [00:19<00:00, 11.72it/s]\n"
     ]
    }
   ],
   "source": [
    "# Compute corresponding Hi-C matrix\n",
    "contacts_df = pd.DataFrame(0, index=loci_list, columns=loci_list)\n",
    "# Loop over all chromosome pairs and fill gene_contacts_df\n",
    "chr_list = np.arange(1,23,1)\n",
    "chr_pairs = list(itertools.combinations(chr_list, 2))\n",
    "for pair in tqdm(chr_pairs):\n",
    "    time.sleep(.01)\n",
    "    chr1, chr2 = pair\n",
    "\n",
    "    # Select loci on chr1 and chr2\n",
    "    loci_chr1 = [locus for locus in loci_list if ('chr_'+str(chr1)+'_') in locus]\n",
    "    loci_chr2 = [locus for locus in loci_list if ('chr_'+str(chr2)+'_') in locus]\n",
    "\n",
    "    # Load HiC data for this chromosome pair\n",
    "    processed_hic_filename = 'hic_'+'chr'+str(chr1)+'_'+'chr'+str(chr2)+'_norm1_filter3'+'.pkl'\n",
    "    hic_chpair_df = pickle.load(open(dir_processed_hic+processed_hic_filename, 'rb'))\n",
    "\n",
    "    # Fill in corresponding submatrix of gene_contacts_df by sum of Hi-C contacts across all gene loci\n",
    "    locus_id_pairs = itertools.product(loci_chr1,loci_chr2)\n",
    "    for locus1_id, locus2_id in locus_id_pairs:\n",
    "        locus1 = int(locus1_id.split('_')[3])\n",
    "        locus2 = int(locus2_id.split('_')[3])\n",
    "        contacts_df.loc[locus1_id, locus2_id] = hic_chpair_df.loc[locus1,locus2]\n",
    "# Symmetrize data frame\n",
    "contacts_df = contacts_df+contacts_df.T"
   ]
  },
  {
   "cell_type": "code",
   "execution_count": 77,
   "metadata": {},
   "outputs": [
    {
     "name": "stderr",
     "output_type": "stream",
     "text": [
      "100%|██████████| 22/22 [00:18<00:00,  1.20it/s]\n"
     ]
    }
   ],
   "source": [
    "# Create interX edge list\n",
    "interX_edge_list = cc.create_interX_edgelist(contacts_df, loci_list, selected_locus2gene, gene2chrom)\n",
    "# Create intraX edge list\n",
    "intraX_edge_list = cc.create_intraX_edgelist(loci_list, selected_locus2gene, df_loc, resol, dir_processed_hic)"
   ]
  },
  {
   "cell_type": "code",
   "execution_count": 78,
   "metadata": {},
   "outputs": [],
   "source": [
    "# Combine edge lists\n",
    "inter_selected = interX_edge_list[interX_edge_list['scaled_hic']>0]\n",
    "intra_selected = intraX_edge_list[intraX_edge_list['scaled_hic']>0][['source','target',\n",
    "                                                                       'hic','scaled_hic']]\n",
    "all_selected = pd.concat([inter_selected, intra_selected], axis=0)"
   ]
  },
  {
   "cell_type": "code",
   "execution_count": 81,
   "metadata": {},
   "outputs": [],
   "source": [
    "# Create network and obtain adjacency matrix\n",
    "G = nx.from_pandas_edgelist(all_selected, edge_attr='scaled_hic')\n",
    "adj = np.array(nx.adjacency_matrix(G, nodelist=sorted(G.nodes), weight='scaled_hic').todense())\n",
    "adj = pd.DataFrame(adj, index=sorted(G.nodes), columns=sorted(G.nodes))\n",
    "pickle.dump(adj, open(saving_dir+'combined_adjmat_GM12878.pkl','wb'))"
   ]
  },
  {
   "cell_type": "code",
   "execution_count": 82,
   "metadata": {},
   "outputs": [
    {
     "data": {
      "text/html": [
       "<div>\n",
       "<style scoped>\n",
       "    .dataframe tbody tr th:only-of-type {\n",
       "        vertical-align: middle;\n",
       "    }\n",
       "\n",
       "    .dataframe tbody tr th {\n",
       "        vertical-align: top;\n",
       "    }\n",
       "\n",
       "    .dataframe thead th {\n",
       "        text-align: right;\n",
       "    }\n",
       "</style>\n",
       "<table border=\"1\" class=\"dataframe\">\n",
       "  <thead>\n",
       "    <tr style=\"text-align: right;\">\n",
       "      <th></th>\n",
       "      <th>ABI1</th>\n",
       "      <th>ABI2</th>\n",
       "      <th>ABI3</th>\n",
       "      <th>ABL1</th>\n",
       "      <th>ACTB</th>\n",
       "      <th>ACTN1</th>\n",
       "      <th>ADAM12</th>\n",
       "      <th>AGAP2</th>\n",
       "      <th>AKT1</th>\n",
       "      <th>ANKRD28</th>\n",
       "      <th>...</th>\n",
       "      <th>TSPAN1</th>\n",
       "      <th>TUBA1B</th>\n",
       "      <th>VASP</th>\n",
       "      <th>VAV2</th>\n",
       "      <th>VAV3</th>\n",
       "      <th>VCL</th>\n",
       "      <th>VIM</th>\n",
       "      <th>ZAP70</th>\n",
       "      <th>ZFYVE21</th>\n",
       "      <th>ZYX</th>\n",
       "    </tr>\n",
       "  </thead>\n",
       "  <tbody>\n",
       "    <tr>\n",
       "      <th>ABI1</th>\n",
       "      <td>0.969583</td>\n",
       "      <td>0.402001</td>\n",
       "      <td>0.514918</td>\n",
       "      <td>0.450993</td>\n",
       "      <td>0.454534</td>\n",
       "      <td>0.439475</td>\n",
       "      <td>0.292948</td>\n",
       "      <td>0.471980</td>\n",
       "      <td>0.454097</td>\n",
       "      <td>0.413139</td>\n",
       "      <td>...</td>\n",
       "      <td>0.467401</td>\n",
       "      <td>0.531701</td>\n",
       "      <td>0.518766</td>\n",
       "      <td>0.384216</td>\n",
       "      <td>0.460267</td>\n",
       "      <td>0.434494</td>\n",
       "      <td>0.502225</td>\n",
       "      <td>0.469354</td>\n",
       "      <td>0.490680</td>\n",
       "      <td>0.408610</td>\n",
       "    </tr>\n",
       "    <tr>\n",
       "      <th>ABI2</th>\n",
       "      <td>0.402001</td>\n",
       "      <td>0.914373</td>\n",
       "      <td>0.455518</td>\n",
       "      <td>0.444483</td>\n",
       "      <td>0.462178</td>\n",
       "      <td>0.456527</td>\n",
       "      <td>0.371088</td>\n",
       "      <td>0.420218</td>\n",
       "      <td>0.398494</td>\n",
       "      <td>0.447499</td>\n",
       "      <td>...</td>\n",
       "      <td>0.468967</td>\n",
       "      <td>0.438963</td>\n",
       "      <td>0.446183</td>\n",
       "      <td>0.368782</td>\n",
       "      <td>0.358754</td>\n",
       "      <td>0.450510</td>\n",
       "      <td>0.345468</td>\n",
       "      <td>0.365079</td>\n",
       "      <td>0.473073</td>\n",
       "      <td>0.448579</td>\n",
       "    </tr>\n",
       "    <tr>\n",
       "      <th>ABI3</th>\n",
       "      <td>0.514918</td>\n",
       "      <td>0.455518</td>\n",
       "      <td>0.982344</td>\n",
       "      <td>0.596927</td>\n",
       "      <td>0.557425</td>\n",
       "      <td>0.520271</td>\n",
       "      <td>0.353455</td>\n",
       "      <td>0.527971</td>\n",
       "      <td>0.607519</td>\n",
       "      <td>0.509819</td>\n",
       "      <td>...</td>\n",
       "      <td>0.602216</td>\n",
       "      <td>0.613961</td>\n",
       "      <td>0.638136</td>\n",
       "      <td>0.581132</td>\n",
       "      <td>0.353308</td>\n",
       "      <td>0.557492</td>\n",
       "      <td>0.417935</td>\n",
       "      <td>0.550260</td>\n",
       "      <td>0.618571</td>\n",
       "      <td>0.289252</td>\n",
       "    </tr>\n",
       "    <tr>\n",
       "      <th>ABL1</th>\n",
       "      <td>0.450993</td>\n",
       "      <td>0.444483</td>\n",
       "      <td>0.596927</td>\n",
       "      <td>0.932137</td>\n",
       "      <td>0.507824</td>\n",
       "      <td>0.540177</td>\n",
       "      <td>0.323759</td>\n",
       "      <td>0.431735</td>\n",
       "      <td>0.629646</td>\n",
       "      <td>0.467983</td>\n",
       "      <td>...</td>\n",
       "      <td>0.540870</td>\n",
       "      <td>0.572527</td>\n",
       "      <td>0.553989</td>\n",
       "      <td>0.592565</td>\n",
       "      <td>0.378417</td>\n",
       "      <td>0.527370</td>\n",
       "      <td>0.351420</td>\n",
       "      <td>0.512491</td>\n",
       "      <td>0.624276</td>\n",
       "      <td>0.378806</td>\n",
       "    </tr>\n",
       "    <tr>\n",
       "      <th>ACTB</th>\n",
       "      <td>0.454534</td>\n",
       "      <td>0.462178</td>\n",
       "      <td>0.557425</td>\n",
       "      <td>0.507824</td>\n",
       "      <td>0.971908</td>\n",
       "      <td>0.495200</td>\n",
       "      <td>0.350694</td>\n",
       "      <td>0.552426</td>\n",
       "      <td>0.547202</td>\n",
       "      <td>0.494686</td>\n",
       "      <td>...</td>\n",
       "      <td>0.576474</td>\n",
       "      <td>0.567787</td>\n",
       "      <td>0.600980</td>\n",
       "      <td>0.525471</td>\n",
       "      <td>0.370600</td>\n",
       "      <td>0.528792</td>\n",
       "      <td>0.411004</td>\n",
       "      <td>0.460836</td>\n",
       "      <td>0.555573</td>\n",
       "      <td>0.324467</td>\n",
       "    </tr>\n",
       "    <tr>\n",
       "      <th>...</th>\n",
       "      <td>...</td>\n",
       "      <td>...</td>\n",
       "      <td>...</td>\n",
       "      <td>...</td>\n",
       "      <td>...</td>\n",
       "      <td>...</td>\n",
       "      <td>...</td>\n",
       "      <td>...</td>\n",
       "      <td>...</td>\n",
       "      <td>...</td>\n",
       "      <td>...</td>\n",
       "      <td>...</td>\n",
       "      <td>...</td>\n",
       "      <td>...</td>\n",
       "      <td>...</td>\n",
       "      <td>...</td>\n",
       "      <td>...</td>\n",
       "      <td>...</td>\n",
       "      <td>...</td>\n",
       "      <td>...</td>\n",
       "      <td>...</td>\n",
       "    </tr>\n",
       "    <tr>\n",
       "      <th>VCL</th>\n",
       "      <td>0.434494</td>\n",
       "      <td>0.450510</td>\n",
       "      <td>0.557492</td>\n",
       "      <td>0.527370</td>\n",
       "      <td>0.528792</td>\n",
       "      <td>0.505589</td>\n",
       "      <td>0.322296</td>\n",
       "      <td>0.493861</td>\n",
       "      <td>0.502836</td>\n",
       "      <td>0.488517</td>\n",
       "      <td>...</td>\n",
       "      <td>0.537768</td>\n",
       "      <td>0.591964</td>\n",
       "      <td>0.558065</td>\n",
       "      <td>0.502053</td>\n",
       "      <td>0.321530</td>\n",
       "      <td>0.968280</td>\n",
       "      <td>0.326644</td>\n",
       "      <td>0.461812</td>\n",
       "      <td>0.566091</td>\n",
       "      <td>0.322444</td>\n",
       "    </tr>\n",
       "    <tr>\n",
       "      <th>VIM</th>\n",
       "      <td>0.502225</td>\n",
       "      <td>0.345468</td>\n",
       "      <td>0.417935</td>\n",
       "      <td>0.351420</td>\n",
       "      <td>0.411004</td>\n",
       "      <td>0.443448</td>\n",
       "      <td>0.343200</td>\n",
       "      <td>0.347793</td>\n",
       "      <td>0.332985</td>\n",
       "      <td>0.356693</td>\n",
       "      <td>...</td>\n",
       "      <td>0.427719</td>\n",
       "      <td>0.446942</td>\n",
       "      <td>0.388807</td>\n",
       "      <td>0.308043</td>\n",
       "      <td>0.405060</td>\n",
       "      <td>0.326644</td>\n",
       "      <td>0.944163</td>\n",
       "      <td>0.329741</td>\n",
       "      <td>0.373976</td>\n",
       "      <td>0.388705</td>\n",
       "    </tr>\n",
       "    <tr>\n",
       "      <th>ZAP70</th>\n",
       "      <td>0.469354</td>\n",
       "      <td>0.365079</td>\n",
       "      <td>0.550260</td>\n",
       "      <td>0.512491</td>\n",
       "      <td>0.460836</td>\n",
       "      <td>0.497532</td>\n",
       "      <td>0.311254</td>\n",
       "      <td>0.434534</td>\n",
       "      <td>0.503410</td>\n",
       "      <td>0.383667</td>\n",
       "      <td>...</td>\n",
       "      <td>0.480624</td>\n",
       "      <td>0.512739</td>\n",
       "      <td>0.492795</td>\n",
       "      <td>0.459275</td>\n",
       "      <td>0.374581</td>\n",
       "      <td>0.461812</td>\n",
       "      <td>0.329741</td>\n",
       "      <td>0.950359</td>\n",
       "      <td>0.543010</td>\n",
       "      <td>0.344974</td>\n",
       "    </tr>\n",
       "    <tr>\n",
       "      <th>ZFYVE21</th>\n",
       "      <td>0.490680</td>\n",
       "      <td>0.473073</td>\n",
       "      <td>0.618571</td>\n",
       "      <td>0.624276</td>\n",
       "      <td>0.555573</td>\n",
       "      <td>0.445624</td>\n",
       "      <td>0.358426</td>\n",
       "      <td>0.491173</td>\n",
       "      <td>0.726768</td>\n",
       "      <td>0.460730</td>\n",
       "      <td>...</td>\n",
       "      <td>0.546973</td>\n",
       "      <td>0.595181</td>\n",
       "      <td>0.652918</td>\n",
       "      <td>0.672695</td>\n",
       "      <td>0.366166</td>\n",
       "      <td>0.566091</td>\n",
       "      <td>0.373976</td>\n",
       "      <td>0.543010</td>\n",
       "      <td>0.979309</td>\n",
       "      <td>0.446373</td>\n",
       "    </tr>\n",
       "    <tr>\n",
       "      <th>ZYX</th>\n",
       "      <td>0.408610</td>\n",
       "      <td>0.448579</td>\n",
       "      <td>0.289252</td>\n",
       "      <td>0.378806</td>\n",
       "      <td>0.324467</td>\n",
       "      <td>0.359181</td>\n",
       "      <td>0.426240</td>\n",
       "      <td>0.361138</td>\n",
       "      <td>0.398979</td>\n",
       "      <td>0.412744</td>\n",
       "      <td>...</td>\n",
       "      <td>0.275088</td>\n",
       "      <td>0.392103</td>\n",
       "      <td>0.373899</td>\n",
       "      <td>0.328043</td>\n",
       "      <td>0.445784</td>\n",
       "      <td>0.322444</td>\n",
       "      <td>0.388705</td>\n",
       "      <td>0.344974</td>\n",
       "      <td>0.446373</td>\n",
       "      <td>0.947959</td>\n",
       "    </tr>\n",
       "  </tbody>\n",
       "</table>\n",
       "<p>324 rows × 324 columns</p>\n",
       "</div>"
      ],
      "text/plain": [
       "             ABI1      ABI2      ABI3      ABL1      ACTB     ACTN1    ADAM12  \\\n",
       "ABI1     0.969583  0.402001  0.514918  0.450993  0.454534  0.439475  0.292948   \n",
       "ABI2     0.402001  0.914373  0.455518  0.444483  0.462178  0.456527  0.371088   \n",
       "ABI3     0.514918  0.455518  0.982344  0.596927  0.557425  0.520271  0.353455   \n",
       "ABL1     0.450993  0.444483  0.596927  0.932137  0.507824  0.540177  0.323759   \n",
       "ACTB     0.454534  0.462178  0.557425  0.507824  0.971908  0.495200  0.350694   \n",
       "...           ...       ...       ...       ...       ...       ...       ...   \n",
       "VCL      0.434494  0.450510  0.557492  0.527370  0.528792  0.505589  0.322296   \n",
       "VIM      0.502225  0.345468  0.417935  0.351420  0.411004  0.443448  0.343200   \n",
       "ZAP70    0.469354  0.365079  0.550260  0.512491  0.460836  0.497532  0.311254   \n",
       "ZFYVE21  0.490680  0.473073  0.618571  0.624276  0.555573  0.445624  0.358426   \n",
       "ZYX      0.408610  0.448579  0.289252  0.378806  0.324467  0.359181  0.426240   \n",
       "\n",
       "            AGAP2      AKT1   ANKRD28  ...    TSPAN1    TUBA1B      VASP  \\\n",
       "ABI1     0.471980  0.454097  0.413139  ...  0.467401  0.531701  0.518766   \n",
       "ABI2     0.420218  0.398494  0.447499  ...  0.468967  0.438963  0.446183   \n",
       "ABI3     0.527971  0.607519  0.509819  ...  0.602216  0.613961  0.638136   \n",
       "ABL1     0.431735  0.629646  0.467983  ...  0.540870  0.572527  0.553989   \n",
       "ACTB     0.552426  0.547202  0.494686  ...  0.576474  0.567787  0.600980   \n",
       "...           ...       ...       ...  ...       ...       ...       ...   \n",
       "VCL      0.493861  0.502836  0.488517  ...  0.537768  0.591964  0.558065   \n",
       "VIM      0.347793  0.332985  0.356693  ...  0.427719  0.446942  0.388807   \n",
       "ZAP70    0.434534  0.503410  0.383667  ...  0.480624  0.512739  0.492795   \n",
       "ZFYVE21  0.491173  0.726768  0.460730  ...  0.546973  0.595181  0.652918   \n",
       "ZYX      0.361138  0.398979  0.412744  ...  0.275088  0.392103  0.373899   \n",
       "\n",
       "             VAV2      VAV3       VCL       VIM     ZAP70   ZFYVE21       ZYX  \n",
       "ABI1     0.384216  0.460267  0.434494  0.502225  0.469354  0.490680  0.408610  \n",
       "ABI2     0.368782  0.358754  0.450510  0.345468  0.365079  0.473073  0.448579  \n",
       "ABI3     0.581132  0.353308  0.557492  0.417935  0.550260  0.618571  0.289252  \n",
       "ABL1     0.592565  0.378417  0.527370  0.351420  0.512491  0.624276  0.378806  \n",
       "ACTB     0.525471  0.370600  0.528792  0.411004  0.460836  0.555573  0.324467  \n",
       "...           ...       ...       ...       ...       ...       ...       ...  \n",
       "VCL      0.502053  0.321530  0.968280  0.326644  0.461812  0.566091  0.322444  \n",
       "VIM      0.308043  0.405060  0.326644  0.944163  0.329741  0.373976  0.388705  \n",
       "ZAP70    0.459275  0.374581  0.461812  0.329741  0.950359  0.543010  0.344974  \n",
       "ZFYVE21  0.672695  0.366166  0.566091  0.373976  0.543010  0.979309  0.446373  \n",
       "ZYX      0.328043  0.445784  0.322444  0.388705  0.344974  0.446373  0.947959  \n",
       "\n",
       "[324 rows x 324 columns]"
      ]
     },
     "execution_count": 82,
     "metadata": {},
     "output_type": "execute_result"
    }
   ],
   "source": [
    "adj"
   ]
  },
  {
   "cell_type": "markdown",
   "metadata": {},
   "source": [
    "### Analyze maps: all genes"
   ]
  },
  {
   "cell_type": "code",
   "execution_count": 12,
   "metadata": {},
   "outputs": [],
   "source": [
    "# Load adjacency matrices\n",
    "combined_adjmat_GM12878 = pickle.load(open(saving_dir+'combined_adjmat_GM12878.pkl','rb'))"
   ]
  },
  {
   "cell_type": "code",
   "execution_count": 35,
   "metadata": {},
   "outputs": [],
   "source": [
    "# Adhesome contacts\n",
    "adhesome_genes_in_index = np.array(list(set.intersection(*[set(all_adhesome_genes),\n",
    "                                                           set(combined_adjmat_GM12878.index.values),\n",
    "                                                           set(all_active_genes)] )))\n",
    "adhesome_flat = combined_adjmat_GM12878.loc[adhesome_genes_in_index, adhesome_genes_in_index].values\n",
    "adhesome_flat = adhesome_flat[np.triu_indices(len(adhesome_genes_in_index), 1)]\n",
    "# TCR contacts\n",
    "tcr_genes_in_index = np.array(list(set.intersection(*[set(all_tcr_genes),\n",
    "                                                      set(combined_adjmat_GM12878.index.values),\n",
    "                                                           set(all_active_genes)])))\n",
    "tcr_flat = combined_adjmat_GM12878.loc[tcr_genes_in_index, tcr_genes_in_index].values\n",
    "tcr_flat = tcr_flat[np.triu_indices(len(tcr_genes_in_index), 1)]\n",
    "# BCR contacts\n",
    "bcr_genes_in_index = np.array(list(set.intersection(*[set(all_bcr_genes),\n",
    "                                                      set(combined_adjmat_GM12878.index.values),\n",
    "                                                           set(all_active_genes)])))\n",
    "bcr_flat = combined_adjmat_GM12878.loc[bcr_genes_in_index, bcr_genes_in_index].values\n",
    "bcr_flat = bcr_flat[np.triu_indices(len(bcr_genes_in_index), 1)]"
   ]
  },
  {
   "cell_type": "code",
   "execution_count": 36,
   "metadata": {},
   "outputs": [
    {
     "data": {
      "image/png": "[encoded data removed]",
      "text/plain": [
       "<Figure size 432x288 with 1 Axes>"
      ]
     },
     "metadata": {
      "needs_background": "light"
     },
     "output_type": "display_data"
    }
   ],
   "source": [
    "# Plot histograms\n",
    "plt.figure()\n",
    "plt.hist(adhesome_flat, bins=np.arange(0,1.05, .02), color='dodgerblue', alpha=0.5, density=True,\n",
    "         label='adhesome')\n",
    "plt.hist(tcr_flat, bins=np.arange(0,1.05, .02), color='orange', alpha=0.5, density=True,\n",
    "         label='TCR')\n",
    "plt.hist(bcr_flat, bins=np.arange(0,1.05, .02), color='green', alpha=0.5, density=True,\n",
    "         label='BCR')\n",
    "plt.legend(loc='upper right')\n",
    "plt.xlabel('scaled HiC')\n",
    "plt.ylabel('density')\n",
    "plt.show()"
   ]
  },
  {
   "cell_type": "markdown",
   "metadata": {},
   "source": [
    "### Analyze maps: specific genes"
   ]
  },
  {
   "cell_type": "code",
   "execution_count": 37,
   "metadata": {},
   "outputs": [],
   "source": [
    "# Adhesome contacts\n",
    "adhesome_genes_in_index = np.array(list(set.intersection(*[set(specific_adhesome_genes),\n",
    "                                                           set(combined_adjmat_GM12878.index.values),\n",
    "                                                           set(all_active_genes)] )))\n",
    "adhesome_flat = combined_adjmat_GM12878.loc[adhesome_genes_in_index, adhesome_genes_in_index].values\n",
    "adhesome_flat = adhesome_flat[np.triu_indices(len(adhesome_genes_in_index), 1)]\n",
    "# TCR contacts\n",
    "tcr_genes_in_index = np.array(list(set.intersection(*[set(specific_tcr_genes),\n",
    "                                                      set(combined_adjmat_GM12878.index.values),\n",
    "                                                           set(all_active_genes)])))\n",
    "tcr_flat = combined_adjmat_GM12878.loc[tcr_genes_in_index, tcr_genes_in_index].values\n",
    "tcr_flat = tcr_flat[np.triu_indices(len(tcr_genes_in_index), 1)]\n",
    "# BCR contacts\n",
    "bcr_genes_in_index = np.array(list(set.intersection(*[set(specific_bcr_genes),\n",
    "                                                      set(combined_adjmat_GM12878.index.values),\n",
    "                                                           set(all_active_genes)])))\n",
    "bcr_flat = combined_adjmat_GM12878.loc[bcr_genes_in_index, bcr_genes_in_index].values\n",
    "bcr_flat = bcr_flat[np.triu_indices(len(bcr_genes_in_index), 1)]"
   ]
  },
  {
   "cell_type": "code",
   "execution_count": 38,
   "metadata": {},
   "outputs": [
    {
     "data": {
      "image/png": "[encoded data removed]",
      "text/plain": [
       "<Figure size 432x288 with 1 Axes>"
      ]
     },
     "metadata": {
      "needs_background": "light"
     },
     "output_type": "display_data"
    }
   ],
   "source": [
    "# Plot histograms\n",
    "plt.figure()\n",
    "plt.hist(adhesome_flat, bins=np.arange(0,1.05, .02), color='dodgerblue', alpha=0.5, density=True,\n",
    "         label='adhesome')\n",
    "plt.hist(tcr_flat, bins=np.arange(0,1.05, .02), color='orange', alpha=0.5, density=True,\n",
    "         label='TCR')\n",
    "plt.hist(bcr_flat, bins=np.arange(0,1.05, .02), color='green', alpha=0.5, density=True,\n",
    "         label='BCR')\n",
    "plt.legend(loc='upper right')\n",
    "plt.xlabel('scaled HiC')\n",
    "plt.ylabel('density')\n",
    "plt.show()"
   ]
  },
  {
   "cell_type": "markdown",
   "metadata": {},
   "source": [
    "### Analyze maps: common genes"
   ]
  },
  {
   "cell_type": "code",
   "execution_count": 39,
   "metadata": {},
   "outputs": [],
   "source": [
    "# In index\n",
    "common_genes_in_index = np.array(list(set.intersection(*[set(common_genes),\n",
    "                                                           set(combined_adjmat_GM12878.index.values),\n",
    "                                                           set(all_active_genes)] )))\n",
    "# Adhesome contacts\n",
    "adhesome_genes_in_index = np.array(list(set.intersection(*[set(specific_adhesome_genes),\n",
    "                                                           set(combined_adjmat_GM12878.index.values),\n",
    "                                                           set(all_active_genes)] )))\n",
    "adhesome_flat = combined_adjmat_GM12878.loc[common_genes_in_index, adhesome_genes_in_index].values\n",
    "adhesome_flat = adhesome_flat.flatten()\n",
    "# TCR contacts\n",
    "tcr_genes_in_index = np.array(list(set.intersection(*[set(specific_tcr_genes),\n",
    "                                                      set(combined_adjmat_GM12878.index.values),\n",
    "                                                           set(all_active_genes)])))\n",
    "tcr_flat = combined_adjmat_GM12878.loc[common_genes_in_index, tcr_genes_in_index].values\n",
    "tcr_flat = tcr_flat.flatten()\n",
    "# BCR contacts\n",
    "bcr_genes_in_index = np.array(list(set.intersection(*[set(specific_bcr_genes),\n",
    "                                                      set(combined_adjmat_GM12878.index.values),\n",
    "                                                           set(all_active_genes)])))\n",
    "bcr_flat = combined_adjmat_GM12878.loc[common_genes_in_index, bcr_genes_in_index].values\n",
    "bcr_flat = bcr_flat.flatten()"
   ]
  },
  {
   "cell_type": "code",
   "execution_count": 40,
   "metadata": {},
   "outputs": [
    {
     "data": {
      "image/png": "[encoded data removed]",
      "text/plain": [
       "<Figure size 432x288 with 1 Axes>"
      ]
     },
     "metadata": {
      "needs_background": "light"
     },
     "output_type": "display_data"
    }
   ],
   "source": [
    "# Plot histograms\n",
    "plt.figure()\n",
    "plt.hist(adhesome_flat, bins=np.arange(0,1.05, .02), color='dodgerblue', alpha=0.5, density=True,\n",
    "         label='adhesome')\n",
    "plt.hist(tcr_flat, bins=np.arange(0,1.05, .02), color='orange', alpha=0.5, density=True,\n",
    "         label='TCR')\n",
    "plt.hist(bcr_flat, bins=np.arange(0,1.05, .02), color='green', alpha=0.5, density=True,\n",
    "         label='BCR')\n",
    "plt.legend(loc='upper right')\n",
    "plt.xlabel('scaled HiC')\n",
    "plt.ylabel('density')\n",
    "plt.show()"
   ]
  },
  {
   "cell_type": "code",
   "execution_count": 30,
   "metadata": {},
   "outputs": [
    {
     "data": {
      "text/plain": [
       "array([], dtype=float64)"
      ]
     },
     "execution_count": 30,
     "metadata": {},
     "output_type": "execute_result"
    }
   ],
   "source": [
    "common_genes"
   ]
  },
  {
   "cell_type": "code",
   "execution_count": null,
   "metadata": {},
   "outputs": [],
   "source": []
  }
 ],
 "metadata": {
  "kernelspec": {
   "display_name": "Python 3",
   "language": "python",
   "name": "python3"
  },
  "language_info": {
   "codemirror_mode": {
    "name": "ipython",
    "version": 3
   },
   "file_extension": ".py",
   "mimetype": "text/x-python",
   "name": "python",
   "nbconvert_exporter": "python",
   "pygments_lexer": "ipython3",
   "version": "3.7.4"
  }
 },
 "nbformat": 4,
 "nbformat_minor": 2
}
