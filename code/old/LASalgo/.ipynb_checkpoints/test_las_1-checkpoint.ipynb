{
 "cells": [
  {
   "cell_type": "code",
   "execution_count": 1,
   "metadata": {},
   "outputs": [],
   "source": [
    "# Import standard libraries\n",
    "from importlib import reload\n",
    "import numpy as np\n",
    "import matplotlib.pyplot as plt\n",
    "import seaborn as sns\n",
    "from scipy import sparse\n",
    "import scipy.stats as ss\n",
    "import csv\n",
    "import pandas as pd\n",
    "import networkx as nx\n",
    "import community\n",
    "import pickle\n",
    "from collections import defaultdict\n",
    "import operator\n",
    "from scipy.sparse import csr_matrix\n",
    "import itertools\n",
    "import os.path\n",
    "import math\n",
    "import pybedtools\n",
    "import time\n",
    "from tqdm import tqdm\n",
    "import random\n",
    "\n",
    "# Custom libraries\n",
    "import large_average_submatrix_hic_avgcutoff_iter as las"
   ]
  },
  {
   "cell_type": "code",
   "execution_count": 2,
   "metadata": {},
   "outputs": [
    {
     "data": {
      "text/plain": [
       "<module 'large_average_submatrix_hic_avgcutoff_iter' from '/home/louiscam/projects/gpcr/code/LASalgo/large_average_submatrix_hic_avgcutoff_iter.py'>"
      ]
     },
     "execution_count": 2,
     "metadata": {},
     "output_type": "execute_result"
    }
   ],
   "source": [
    "# Reload modules in case of modifications\n",
    "reload(las)"
   ]
  },
  {
   "cell_type": "markdown",
   "metadata": {},
   "source": [
    "# Directories"
   ]
  },
  {
   "cell_type": "code",
   "execution_count": 13,
   "metadata": {},
   "outputs": [],
   "source": [
    "genome_dir = '/home/louiscam/projects/gpcr/data/genome_data/'\n",
    "processed_hic_data_dir = \"/home/louiscam/projects/gpcr/save/processed_hic_data_dir/\"\n",
    "epigenome_dir = '/home/louiscam/projects/gpcr/data/epigenome_data/'\n",
    "processed_epigenome_data_dir = '/home/louiscam/projects/gpcr/save/processed_epigenome_data_dir/'\n",
    "dir_adhesome = '/home/louiscam/projects/gpcr/data/adhesome_data/'\n",
    "dir_las = '/home/louiscam/projects/gpcr/save/las_regions/avg_7.941_iters_100/'"
   ]
  },
  {
   "cell_type": "code",
   "execution_count": 4,
   "metadata": {},
   "outputs": [],
   "source": [
    "cell_type = 'IMR90'\n",
    "resol_str = '250kb'\n",
    "resol = 250000\n",
    "quality = 'MAPQGE30'"
   ]
  },
  {
   "cell_type": "markdown",
   "metadata": {},
   "source": [
    "# Test get_chromsize"
   ]
  },
  {
   "cell_type": "code",
   "execution_count": 11,
   "metadata": {},
   "outputs": [
    {
     "data": {
      "text/plain": [
       "973.797492"
      ]
     },
     "execution_count": 11,
     "metadata": {},
     "output_type": "execute_result"
    }
   ],
   "source": [
    "las.get_chrom_size(2,genome_dir)/resol + 1"
   ]
  },
  {
   "cell_type": "markdown",
   "metadata": {},
   "source": [
    "# Test seeding LAS at adhesome loci"
   ]
  },
  {
   "cell_type": "code",
   "execution_count": 5,
   "metadata": {},
   "outputs": [],
   "source": [
    "# Load Hi-C data\n",
    "chr1 = 1\n",
    "chr2 = 2\n",
    "hic_filename =  processed_hic_data_dir + 'hic_' + 'chr' + str(chr1) + '_chr' + str(chr2) + '_zscore.txt'\n",
    "df = pd.read_csv(hic_filename, index_col = 0)\n",
    "data = df.values"
   ]
  },
  {
   "cell_type": "code",
   "execution_count": 7,
   "metadata": {},
   "outputs": [
    {
     "name": "stdout",
     "output_type": "stream",
     "text": [
      "[40, 40, 37, 31]\n"
     ]
    }
   ],
   "source": [
    "# run search procedure with fixed k, l first\n",
    "max_num_rows = int(10000000.0/resol)\n",
    "max_num_cols = int(10000000.0/resol)\n",
    "k = random.randint(1, max_num_rows)\n",
    "l = random.randint(1, max_num_cols)\n",
    "print([max_num_rows, max_num_cols, k, l])"
   ]
  },
  {
   "cell_type": "code",
   "execution_count": 45,
   "metadata": {},
   "outputs": [
    {
     "name": "stdout",
     "output_type": "stream",
     "text": [
      "    chrom  chrom_int  loci    gene\n",
      "34   chr1          1    65  FBLIM1\n",
      "97   chr1          1    96   ASAP3\n",
      "173  chr1          1   110  SLC9A1\n",
      "158  chr1          1   128   FABP3\n",
      "139  chr1          1   159   MACF1\n"
     ]
    },
    {
     "data": {
      "text/plain": [
       "array([ 38,  39,  39, 157, 158, 424, 425, 426, 427, 438, 514, 644, 645,\n",
       "       694, 730, 750, 751, 809, 817, 818, 827, 875, 876, 877, 911, 936,\n",
       "       937, 957])"
      ]
     },
     "execution_count": 45,
     "metadata": {},
     "output_type": "execute_result"
    }
   ],
   "source": [
    "# Load adhesome loci for chromosome 2 (correspondig to columns)\n",
    "adhesome_loci = pd.read_csv(dir_adhesome+'adhesome_loci.csv', header=0, index_col=0)\n",
    "print(adhesome_loci.head())\n",
    "adhesome_loci_chr2 = adhesome_loci[adhesome_loci['chrom_int']==chr2]['loci'].values\n",
    "adhesome_loci_chr2"
   ]
  },
  {
   "cell_type": "code",
   "execution_count": 11,
   "metadata": {},
   "outputs": [
    {
     "data": {
      "text/plain": [
       "array([[-2.66146727, -2.66146727, -2.66146727, ..., -2.66146727,\n",
       "        -2.66146727, -2.66146727],\n",
       "       [-2.66146727, -2.66146727, -2.66146727, ..., -2.66146727,\n",
       "        -2.66146727, -2.66146727],\n",
       "       [-2.66146727, -2.66146727, -2.66146727, ..., -2.66146727,\n",
       "        -2.66146727, -2.66146727],\n",
       "       ...,\n",
       "       [-2.66146727, -2.66146727, -2.66146727, ...,  0.96043475,\n",
       "        -2.66146727, -0.02185534],\n",
       "       [-0.74450753,  0.11488692,  0.1616671 , ..., -0.15651452,\n",
       "         0.28453129, -2.66146727],\n",
       "       [-2.66146727, -2.66146727, -2.66146727, ..., -2.66146727,\n",
       "        -2.66146727, -2.66146727]])"
      ]
     },
     "execution_count": 11,
     "metadata": {},
     "output_type": "execute_result"
    }
   ],
   "source": [
    "# initialize (select l adjacent columns at random)\n",
    "num_rows = data.shape[0]\n",
    "num_cols = data.shape[1]\n",
    "# choose a random starting position for column\n",
    "start_locus = random.choice(adhesome_loci_chr2)\n",
    "if start_locus < l//2:\n",
    "    col_set = data[:,0:l]\n",
    "if start_locus > num_cols-1-l//2:\n",
    "    col_set = data[:,(num_cols-l):num_cols]\n",
    "else:\n",
    "     col_set = data[:,(start_locus-l//2):(start_locus-l//2+l)]\n",
    "col_set"
   ]
  },
  {
   "cell_type": "markdown",
   "metadata": {},
   "source": [
    "# Process LAS regions"
   ]
  },
  {
   "cell_type": "code",
   "execution_count": 266,
   "metadata": {},
   "outputs": [
    {
     "name": "stdout",
     "output_type": "stream",
     "text": [
      "[ 65  96 110 128 159 160 176 177 187 256 314 377 433 434 435 583 617 620\n",
      " 624 806 896 903 904 914 916]\n",
      "[ 38  39  39 157 158 424 425 426 427 438 514 644 645 694 730 750 751 809\n",
      " 817 818 827 875 876 877 911 936 937 957]\n"
     ]
    }
   ],
   "source": [
    "# Load adhesome loci for chromosomes 1 and 2\n",
    "adhesome_loci = pd.read_csv(dir_adhesome+'adhesome_loci.csv', header=0, index_col=0)\n",
    "adhesome_loci_chr1 = adhesome_loci[adhesome_loci['chrom_int']==chr1]['loci'].values\n",
    "adhesome_loci_chr2 = adhesome_loci[adhesome_loci['chrom_int']==chr2]['loci'].values\n",
    "print(adhesome_loci_chr1)\n",
    "print(adhesome_loci_chr2)"
   ]
  },
  {
   "cell_type": "code",
   "execution_count": 267,
   "metadata": {},
   "outputs": [
    {
     "data": {
      "text/html": [
       "<div>\n",
       "<style scoped>\n",
       "    .dataframe tbody tr th:only-of-type {\n",
       "        vertical-align: middle;\n",
       "    }\n",
       "\n",
       "    .dataframe tbody tr th {\n",
       "        vertical-align: top;\n",
       "    }\n",
       "\n",
       "    .dataframe thead th {\n",
       "        text-align: right;\n",
       "    }\n",
       "</style>\n",
       "<table border=\"1\" class=\"dataframe\">\n",
       "  <thead>\n",
       "    <tr style=\"text-align: right;\">\n",
       "      <th></th>\n",
       "      <th>start row</th>\n",
       "      <th>stop row</th>\n",
       "      <th>start col</th>\n",
       "      <th>stop col</th>\n",
       "      <th>score</th>\n",
       "      <th>avg</th>\n",
       "    </tr>\n",
       "  </thead>\n",
       "  <tbody>\n",
       "    <tr>\n",
       "      <th>0</th>\n",
       "      <td>20750000</td>\n",
       "      <td>28250000</td>\n",
       "      <td>25250000.0</td>\n",
       "      <td>28750000.0</td>\n",
       "      <td>931.205523</td>\n",
       "      <td>2.211539</td>\n",
       "    </tr>\n",
       "    <tr>\n",
       "      <th>1</th>\n",
       "      <td>20750000</td>\n",
       "      <td>28250000</td>\n",
       "      <td>217000000.0</td>\n",
       "      <td>220250000.0</td>\n",
       "      <td>666.421558</td>\n",
       "      <td>2.000378</td>\n",
       "    </tr>\n",
       "    <tr>\n",
       "      <th>2</th>\n",
       "      <td>750000</td>\n",
       "      <td>10500000</td>\n",
       "      <td>238000000.0</td>\n",
       "      <td>242750000.0</td>\n",
       "      <td>524.810851</td>\n",
       "      <td>1.396789</td>\n",
       "    </tr>\n",
       "    <tr>\n",
       "      <th>3</th>\n",
       "      <td>6250000</td>\n",
       "      <td>11250000</td>\n",
       "      <td>217000000.0</td>\n",
       "      <td>220250000.0</td>\n",
       "      <td>446.335366</td>\n",
       "      <td>2.040957</td>\n",
       "    </tr>\n",
       "    <tr>\n",
       "      <th>4</th>\n",
       "      <td>6250000</td>\n",
       "      <td>11000000</td>\n",
       "      <td>24750000.0</td>\n",
       "      <td>28750000.0</td>\n",
       "      <td>354.767744</td>\n",
       "      <td>1.764477</td>\n",
       "    </tr>\n",
       "  </tbody>\n",
       "</table>\n",
       "</div>"
      ],
      "text/plain": [
       "   start row  stop row    start col     stop col       score       avg\n",
       "0   20750000  28250000   25250000.0   28750000.0  931.205523  2.211539\n",
       "1   20750000  28250000  217000000.0  220250000.0  666.421558  2.000378\n",
       "2     750000  10500000  238000000.0  242750000.0  524.810851  1.396789\n",
       "3    6250000  11250000  217000000.0  220250000.0  446.335366  2.040957\n",
       "4    6250000  11000000   24750000.0   28750000.0  354.767744  1.764477"
      ]
     },
     "execution_count": 267,
     "metadata": {},
     "output_type": "execute_result"
    }
   ],
   "source": [
    "# Load LAS summary for chr1 and chr2\n",
    "chr1 = 1\n",
    "chr2 = 2\n",
    "fn_chr1_chr2 = dir_las+'intermingling_regions.'+'chr'+str(chr1)+'_'+'chr'+str(chr2)+'.avg_filt.csv'\n",
    "las_regions = pd.read_csv(fn_chr1_chr2, header=0, index_col=0)\n",
    "las_regions.head()"
   ]
  },
  {
   "cell_type": "code",
   "execution_count": 268,
   "metadata": {},
   "outputs": [],
   "source": [
    "# For each LAS region, determine interacting loci of chr1 and chr2\n",
    "chr1_loci_ls, chr2_loci_ls = [], []\n",
    "chr1_loci_str_ls, chr2_loci_str_ls = [], []\n",
    "n_chr1_loci_ls, n_chr2_loci_ls = [], []\n",
    "chr1_adhesome_loci_ls, chr2_adhesome_loci_ls = [], []\n",
    "chr1_adhesome_genes_ls, chr2_adhesome_genes_ls = [], []\n",
    "n_chr1_adhesome_loci_ls, n_chr2_adhesome_loci_ls = [], []\n",
    "for i in las_regions.index:\n",
    "    # Select region\n",
    "    region = las_regions.loc[i,:]\n",
    "    # Determine chr1 and chr2 loci\n",
    "    chr1_loci = np.arange(region['start row']//resol, region['stop row']//resol+1).astype(int)\n",
    "    chr2_loci = np.arange(region['start col']//resol, region['stop col']//resol+1).astype(int)\n",
    "    chr1_loci_ls.append(chr1_loci)\n",
    "    chr2_loci_ls.append(chr2_loci)\n",
    "    # Add loci string \n",
    "    chr1_loci_str = ['chr_'+str(chr1)+'_'+'loc_'+str(loc*resol) for loc in chr1_loci] \n",
    "    chr2_loci_str = ['chr_'+str(chr2)+'_'+'loc_'+str(loc*resol) for loc in chr2_loci]\n",
    "    chr1_loci_str_ls.append(chr1_loci_str)\n",
    "    chr2_loci_str_ls.append(chr2_loci_str)\n",
    "    # Determine number of chr1 and chr2 loci\n",
    "    n_chr1_loci = len(chr1_loci)\n",
    "    n_chr2_loci = len(chr2_loci)\n",
    "    n_chr1_loci_ls.append(n_chr1_loci)\n",
    "    n_chr2_loci_ls.append(n_chr2_loci)\n",
    "    # Determine adhesome loci\n",
    "    chr1_adhesome_loci = [locus for locus in chr1_loci if locus in adhesome_loci_chr1]\n",
    "    chr2_adhesome_loci = [locus for locus in chr2_loci if locus in adhesome_loci_chr2]\n",
    "    chr1_adhesome_loci_ls.append(chr1_adhesome_loci)\n",
    "    chr2_adhesome_loci_ls.append(chr2_adhesome_loci)\n",
    "    # Determine corresponding adhesome genes\n",
    "    chr1_adhesome_genes = set(adhesome_loci[(adhesome_loci['chrom_int']==chr1) & (adhesome_loci['loci']==locus)].iloc[0]['gene'] for locus in chr1_adhesome_loci)\n",
    "    chr2_adhesome_genes = set(adhesome_loci[(adhesome_loci['chrom_int']==chr2) & (adhesome_loci['loci']==locus)].iloc[0]['gene'] for locus in chr2_adhesome_loci)\n",
    "    chr1_adhesome_genes_ls.append(chr1_adhesome_genes)\n",
    "    chr2_adhesome_genes_ls.append(chr2_adhesome_genes)\n",
    "    # Determine number of chr1 and chr2 adhesome loci\n",
    "    n_chr1_adhesome_loci = len(chr1_adhesome_loci)\n",
    "    n_chr2_adhesome_loci = len(chr2_adhesome_loci)\n",
    "    n_chr1_adhesome_loci_ls.append(n_chr1_adhesome_loci)\n",
    "    n_chr2_adhesome_loci_ls.append(n_chr2_adhesome_loci)\n",
    "# Add column to las_regions\n",
    "las_regions['n_chr1_loci'], las_regions['n_chr2_loci'] = n_chr1_loci_ls, n_chr2_loci_ls\n",
    "las_regions['chr1_loci'], las_regions['chr2_loci'] = chr1_loci_ls, chr2_loci_ls\n",
    "las_regions['chr1_loci_str'], las_regions['chr2_loci_str'] = chr1_loci_str_ls, chr2_loci_str_ls\n",
    "las_regions['n_chr1_adhesome_loci'], las_regions['n_chr2_adhesome_loci'] = n_chr1_adhesome_loci_ls, n_chr2_adhesome_loci_ls\n",
    "las_regions['chr1_adhesome_loci'], las_regions['chr2_adhesome_loci'] = chr1_adhesome_loci_ls, chr2_adhesome_loci_ls\n",
    "las_regions['chr1_adhesome_genes'], las_regions['chr2_adhesome_genes'] = chr1_adhesome_genes_ls, chr2_adhesome_genes_ls"
   ]
  },
  {
   "cell_type": "code",
   "execution_count": 269,
   "metadata": {},
   "outputs": [
    {
     "name": "stdout",
     "output_type": "stream",
     "text": [
      "8\n"
     ]
    },
    {
     "data": {
      "text/html": [
       "<div>\n",
       "<style scoped>\n",
       "    .dataframe tbody tr th:only-of-type {\n",
       "        vertical-align: middle;\n",
       "    }\n",
       "\n",
       "    .dataframe tbody tr th {\n",
       "        vertical-align: top;\n",
       "    }\n",
       "\n",
       "    .dataframe thead th {\n",
       "        text-align: right;\n",
       "    }\n",
       "</style>\n",
       "<table border=\"1\" class=\"dataframe\">\n",
       "  <thead>\n",
       "    <tr style=\"text-align: right;\">\n",
       "      <th></th>\n",
       "      <th>start row</th>\n",
       "      <th>stop row</th>\n",
       "      <th>start col</th>\n",
       "      <th>stop col</th>\n",
       "      <th>score</th>\n",
       "      <th>avg</th>\n",
       "      <th>n_chr1_loci</th>\n",
       "      <th>n_chr2_loci</th>\n",
       "      <th>chr1_loci</th>\n",
       "      <th>chr2_loci</th>\n",
       "      <th>chr1_loci_str</th>\n",
       "      <th>chr2_loci_str</th>\n",
       "      <th>n_chr1_adhesome_loci</th>\n",
       "      <th>n_chr2_adhesome_loci</th>\n",
       "      <th>chr1_adhesome_loci</th>\n",
       "      <th>chr2_adhesome_loci</th>\n",
       "      <th>chr1_adhesome_genes</th>\n",
       "      <th>chr2_adhesome_genes</th>\n",
       "    </tr>\n",
       "  </thead>\n",
       "  <tbody>\n",
       "    <tr>\n",
       "      <th>1</th>\n",
       "      <td>20750000</td>\n",
       "      <td>28250000</td>\n",
       "      <td>217000000.0</td>\n",
       "      <td>220250000.0</td>\n",
       "      <td>666.421558</td>\n",
       "      <td>2.000378</td>\n",
       "      <td>31</td>\n",
       "      <td>14</td>\n",
       "      <td>[83, 84, 85, 86, 87, 88, 89, 90, 91, 92, 93, 9...</td>\n",
       "      <td>[868, 869, 870, 871, 872, 873, 874, 875, 876, ...</td>\n",
       "      <td>[chr_1_loc_20750000, chr_1_loc_21000000, chr_1...</td>\n",
       "      <td>[chr_2_loc_217000000, chr_2_loc_217250000, chr...</td>\n",
       "      <td>2</td>\n",
       "      <td>3</td>\n",
       "      <td>[96, 110]</td>\n",
       "      <td>[875, 876, 877]</td>\n",
       "      <td>{ASAP3, SLC9A1}</td>\n",
       "      <td>{ARPC2, TNS1}</td>\n",
       "    </tr>\n",
       "    <tr>\n",
       "      <th>6</th>\n",
       "      <td>14500000</td>\n",
       "      <td>20000000</td>\n",
       "      <td>232500000.0</td>\n",
       "      <td>242250000.0</td>\n",
       "      <td>257.431307</td>\n",
       "      <td>1.067388</td>\n",
       "      <td>23</td>\n",
       "      <td>40</td>\n",
       "      <td>[58, 59, 60, 61, 62, 63, 64, 65, 66, 67, 68, 6...</td>\n",
       "      <td>[930, 931, 932, 933, 934, 935, 936, 937, 938, ...</td>\n",
       "      <td>[chr_1_loc_14500000, chr_1_loc_14750000, chr_1...</td>\n",
       "      <td>[chr_2_loc_232500000, chr_2_loc_232750000, chr...</td>\n",
       "      <td>1</td>\n",
       "      <td>3</td>\n",
       "      <td>[65]</td>\n",
       "      <td>[936, 937, 957]</td>\n",
       "      <td>{FBLIM1}</td>\n",
       "      <td>{ILKAP, INPP5D}</td>\n",
       "    </tr>\n",
       "  </tbody>\n",
       "</table>\n",
       "</div>"
      ],
      "text/plain": [
       "   start row  stop row    start col     stop col       score       avg  \\\n",
       "1   20750000  28250000  217000000.0  220250000.0  666.421558  2.000378   \n",
       "6   14500000  20000000  232500000.0  242250000.0  257.431307  1.067388   \n",
       "\n",
       "   n_chr1_loci  n_chr2_loci  \\\n",
       "1           31           14   \n",
       "6           23           40   \n",
       "\n",
       "                                           chr1_loci  \\\n",
       "1  [83, 84, 85, 86, 87, 88, 89, 90, 91, 92, 93, 9...   \n",
       "6  [58, 59, 60, 61, 62, 63, 64, 65, 66, 67, 68, 6...   \n",
       "\n",
       "                                           chr2_loci  \\\n",
       "1  [868, 869, 870, 871, 872, 873, 874, 875, 876, ...   \n",
       "6  [930, 931, 932, 933, 934, 935, 936, 937, 938, ...   \n",
       "\n",
       "                                       chr1_loci_str  \\\n",
       "1  [chr_1_loc_20750000, chr_1_loc_21000000, chr_1...   \n",
       "6  [chr_1_loc_14500000, chr_1_loc_14750000, chr_1...   \n",
       "\n",
       "                                       chr2_loci_str  n_chr1_adhesome_loci  \\\n",
       "1  [chr_2_loc_217000000, chr_2_loc_217250000, chr...                     2   \n",
       "6  [chr_2_loc_232500000, chr_2_loc_232750000, chr...                     1   \n",
       "\n",
       "   n_chr2_adhesome_loci chr1_adhesome_loci chr2_adhesome_loci  \\\n",
       "1                     3          [96, 110]    [875, 876, 877]   \n",
       "6                     3               [65]    [936, 937, 957]   \n",
       "\n",
       "  chr1_adhesome_genes chr2_adhesome_genes  \n",
       "1     {ASAP3, SLC9A1}       {ARPC2, TNS1}  \n",
       "6            {FBLIM1}     {ILKAP, INPP5D}  "
      ]
     },
     "execution_count": 269,
     "metadata": {},
     "output_type": "execute_result"
    }
   ],
   "source": [
    "# Only keep regions where adhesome genes are present on both chromosomes\n",
    "las_regions = las_regions[(las_regions['n_chr1_adhesome_loci']!=0) & (las_regions['n_chr2_adhesome_loci']!=0)]\n",
    "print(len(las_regions))\n",
    "las_regions.head(2)"
   ]
  },
  {
   "cell_type": "code",
   "execution_count": 270,
   "metadata": {
    "scrolled": true
   },
   "outputs": [
    {
     "data": {
      "text/plain": [
       "['chr_1_loc_750000', 'chr_1_loc_1000000', 'chr_1_loc_1250000']"
      ]
     },
     "execution_count": 270,
     "metadata": {},
     "output_type": "execute_result"
    }
   ],
   "source": [
    "# Load annotated loci across all genome\n",
    "df_clusters = pickle.load(open(processed_epigenome_data_dir+'active_inactive_loci.pkl', 'rb'))\n",
    "active_loci = list(df_clusters[df_clusters['cluster']==1].index)\n",
    "active_loci[0:3]"
   ]
  },
  {
   "cell_type": "code",
   "execution_count": 271,
   "metadata": {},
   "outputs": [],
   "source": [
    "# Active loci in chr1 and chr2\n",
    "active_loci_chr1 = [loc for loc in active_loci if ('chr_'+str(chr1)+'_' in loc)]\n",
    "active_loci_chr2 = [loc for loc in active_loci if ('chr_'+str(chr2)+'_' in loc)]"
   ]
  },
  {
   "cell_type": "code",
   "execution_count": 272,
   "metadata": {},
   "outputs": [],
   "source": [
    "# Only keep active loci in our LAS regions\n",
    "las_chr1_active_loci_ls, las_chr2_active_loci_ls = [], []\n",
    "n_las_chr1_active_loci_ls, n_las_chr2_active_loci_ls = [], []\n",
    "for i in las_regions.index:\n",
    "    # Select region\n",
    "    region = las_regions.loc[i,:]\n",
    "    # Select active loci\n",
    "    las_chr1_active_loci = [loc for loc in region['chr1_loci_str'] if (loc in active_loci_chr1)]\n",
    "    las_chr2_active_loci = [loc for loc in region['chr2_loci_str'] if (loc in active_loci_chr2)]\n",
    "    las_chr1_active_loci_ls.append(las_chr1_active_loci)\n",
    "    las_chr2_active_loci_ls.append(las_chr2_active_loci)\n",
    "    # Number of active loci\n",
    "    n_las_chr1_active_loci_ls.append(len(las_chr1_active_loci))\n",
    "    n_las_chr2_active_loci_ls.append(len(las_chr2_active_loci))\n",
    "las_regions['active_loci_chr1'], las_regions['active_loci_chr2'] = las_chr1_active_loci_ls, las_chr2_active_loci_ls\n",
    "las_regions['n_active_loci_chr1'], las_regions['n_active_loci_chr2'] = n_las_chr1_active_loci_ls, n_las_chr2_active_loci_ls"
   ]
  },
  {
   "cell_type": "code",
   "execution_count": 273,
   "metadata": {},
   "outputs": [
    {
     "data": {
      "text/html": [
       "<div>\n",
       "<style scoped>\n",
       "    .dataframe tbody tr th:only-of-type {\n",
       "        vertical-align: middle;\n",
       "    }\n",
       "\n",
       "    .dataframe tbody tr th {\n",
       "        vertical-align: top;\n",
       "    }\n",
       "\n",
       "    .dataframe thead th {\n",
       "        text-align: right;\n",
       "    }\n",
       "</style>\n",
       "<table border=\"1\" class=\"dataframe\">\n",
       "  <thead>\n",
       "    <tr style=\"text-align: right;\">\n",
       "      <th></th>\n",
       "      <th>start row</th>\n",
       "      <th>stop row</th>\n",
       "      <th>start col</th>\n",
       "      <th>stop col</th>\n",
       "      <th>score</th>\n",
       "      <th>avg</th>\n",
       "      <th>n_chr1_loci</th>\n",
       "      <th>n_chr2_loci</th>\n",
       "      <th>chr1_loci</th>\n",
       "      <th>chr2_loci</th>\n",
       "      <th>...</th>\n",
       "      <th>n_chr1_adhesome_loci</th>\n",
       "      <th>n_chr2_adhesome_loci</th>\n",
       "      <th>chr1_adhesome_loci</th>\n",
       "      <th>chr2_adhesome_loci</th>\n",
       "      <th>chr1_adhesome_genes</th>\n",
       "      <th>chr2_adhesome_genes</th>\n",
       "      <th>active_loci_chr1</th>\n",
       "      <th>active_loci_chr2</th>\n",
       "      <th>n_active_loci_chr1</th>\n",
       "      <th>n_active_loci_chr2</th>\n",
       "    </tr>\n",
       "  </thead>\n",
       "  <tbody>\n",
       "    <tr>\n",
       "      <th>1</th>\n",
       "      <td>20750000</td>\n",
       "      <td>28250000</td>\n",
       "      <td>217000000.0</td>\n",
       "      <td>220250000.0</td>\n",
       "      <td>666.421558</td>\n",
       "      <td>2.000378</td>\n",
       "      <td>31</td>\n",
       "      <td>14</td>\n",
       "      <td>[83, 84, 85, 86, 87, 88, 89, 90, 91, 92, 93, 9...</td>\n",
       "      <td>[868, 869, 870, 871, 872, 873, 874, 875, 876, ...</td>\n",
       "      <td>...</td>\n",
       "      <td>2</td>\n",
       "      <td>3</td>\n",
       "      <td>[96, 110]</td>\n",
       "      <td>[875, 876, 877]</td>\n",
       "      <td>{ASAP3, SLC9A1}</td>\n",
       "      <td>{ARPC2, TNS1}</td>\n",
       "      <td>[chr_1_loc_20750000, chr_1_loc_21000000, chr_1...</td>\n",
       "      <td>[chr_2_loc_217000000, chr_2_loc_217250000, chr...</td>\n",
       "      <td>31</td>\n",
       "      <td>14</td>\n",
       "    </tr>\n",
       "    <tr>\n",
       "      <th>6</th>\n",
       "      <td>14500000</td>\n",
       "      <td>20000000</td>\n",
       "      <td>232500000.0</td>\n",
       "      <td>242250000.0</td>\n",
       "      <td>257.431307</td>\n",
       "      <td>1.067388</td>\n",
       "      <td>23</td>\n",
       "      <td>40</td>\n",
       "      <td>[58, 59, 60, 61, 62, 63, 64, 65, 66, 67, 68, 6...</td>\n",
       "      <td>[930, 931, 932, 933, 934, 935, 936, 937, 938, ...</td>\n",
       "      <td>...</td>\n",
       "      <td>1</td>\n",
       "      <td>3</td>\n",
       "      <td>[65]</td>\n",
       "      <td>[936, 937, 957]</td>\n",
       "      <td>{FBLIM1}</td>\n",
       "      <td>{ILKAP, INPP5D}</td>\n",
       "      <td>[chr_1_loc_14750000, chr_1_loc_15000000, chr_1...</td>\n",
       "      <td>[chr_2_loc_232500000, chr_2_loc_232750000, chr...</td>\n",
       "      <td>19</td>\n",
       "      <td>37</td>\n",
       "    </tr>\n",
       "  </tbody>\n",
       "</table>\n",
       "<p>2 rows × 22 columns</p>\n",
       "</div>"
      ],
      "text/plain": [
       "   start row  stop row    start col     stop col       score       avg  \\\n",
       "1   20750000  28250000  217000000.0  220250000.0  666.421558  2.000378   \n",
       "6   14500000  20000000  232500000.0  242250000.0  257.431307  1.067388   \n",
       "\n",
       "   n_chr1_loci  n_chr2_loci  \\\n",
       "1           31           14   \n",
       "6           23           40   \n",
       "\n",
       "                                           chr1_loci  \\\n",
       "1  [83, 84, 85, 86, 87, 88, 89, 90, 91, 92, 93, 9...   \n",
       "6  [58, 59, 60, 61, 62, 63, 64, 65, 66, 67, 68, 6...   \n",
       "\n",
       "                                           chr2_loci        ...          \\\n",
       "1  [868, 869, 870, 871, 872, 873, 874, 875, 876, ...        ...           \n",
       "6  [930, 931, 932, 933, 934, 935, 936, 937, 938, ...        ...           \n",
       "\n",
       "  n_chr1_adhesome_loci n_chr2_adhesome_loci  chr1_adhesome_loci  \\\n",
       "1                    2                    3           [96, 110]   \n",
       "6                    1                    3                [65]   \n",
       "\n",
       "   chr2_adhesome_loci chr1_adhesome_genes chr2_adhesome_genes  \\\n",
       "1     [875, 876, 877]     {ASAP3, SLC9A1}       {ARPC2, TNS1}   \n",
       "6     [936, 937, 957]            {FBLIM1}     {ILKAP, INPP5D}   \n",
       "\n",
       "                                    active_loci_chr1  \\\n",
       "1  [chr_1_loc_20750000, chr_1_loc_21000000, chr_1...   \n",
       "6  [chr_1_loc_14750000, chr_1_loc_15000000, chr_1...   \n",
       "\n",
       "                                    active_loci_chr2 n_active_loci_chr1  \\\n",
       "1  [chr_2_loc_217000000, chr_2_loc_217250000, chr...                 31   \n",
       "6  [chr_2_loc_232500000, chr_2_loc_232750000, chr...                 19   \n",
       "\n",
       "  n_active_loci_chr2  \n",
       "1                 14  \n",
       "6                 37  \n",
       "\n",
       "[2 rows x 22 columns]"
      ]
     },
     "execution_count": 273,
     "metadata": {},
     "output_type": "execute_result"
    }
   ],
   "source": [
    "las_regions.head(2)"
   ]
  },
  {
   "cell_type": "code",
   "execution_count": 279,
   "metadata": {
    "scrolled": true
   },
   "outputs": [
    {
     "data": {
      "text/html": [
       "<div>\n",
       "<style scoped>\n",
       "    .dataframe tbody tr th:only-of-type {\n",
       "        vertical-align: middle;\n",
       "    }\n",
       "\n",
       "    .dataframe tbody tr th {\n",
       "        vertical-align: top;\n",
       "    }\n",
       "\n",
       "    .dataframe thead th {\n",
       "        text-align: right;\n",
       "    }\n",
       "</style>\n",
       "<table border=\"1\" class=\"dataframe\">\n",
       "  <thead>\n",
       "    <tr style=\"text-align: right;\">\n",
       "      <th></th>\n",
       "      <th>active_loci_chr1</th>\n",
       "      <th>active_loci_chr2</th>\n",
       "      <th>n_active_loci_chr1</th>\n",
       "      <th>n_active_loci_chr2</th>\n",
       "      <th>chr1_adhesome_genes</th>\n",
       "      <th>chr2_adhesome_genes</th>\n",
       "    </tr>\n",
       "  </thead>\n",
       "  <tbody>\n",
       "    <tr>\n",
       "      <th>0</th>\n",
       "      <td>[chr_1_loc_20750000, chr_1_loc_21000000, chr_1...</td>\n",
       "      <td>[chr_2_loc_217000000, chr_2_loc_217250000, chr...</td>\n",
       "      <td>31</td>\n",
       "      <td>14</td>\n",
       "      <td>{ASAP3, SLC9A1}</td>\n",
       "      <td>{ARPC2, TNS1}</td>\n",
       "    </tr>\n",
       "    <tr>\n",
       "      <th>1</th>\n",
       "      <td>[chr_1_loc_14750000, chr_1_loc_15000000, chr_1...</td>\n",
       "      <td>[chr_2_loc_232500000, chr_2_loc_232750000, chr...</td>\n",
       "      <td>19</td>\n",
       "      <td>37</td>\n",
       "      <td>{FBLIM1}</td>\n",
       "      <td>{ILKAP, INPP5D}</td>\n",
       "    </tr>\n",
       "    <tr>\n",
       "      <th>2</th>\n",
       "      <td>[chr_1_loc_200500000, chr_1_loc_200750000, chr...</td>\n",
       "      <td>[chr_2_loc_217000000, chr_2_loc_217250000, chr...</td>\n",
       "      <td>13</td>\n",
       "      <td>14</td>\n",
       "      <td>{CSRP1}</td>\n",
       "      <td>{ARPC2, TNS1}</td>\n",
       "    </tr>\n",
       "    <tr>\n",
       "      <th>3</th>\n",
       "      <td>[chr_1_loc_20750000, chr_1_loc_21000000, chr_1...</td>\n",
       "      <td>[chr_2_loc_201750000, chr_2_loc_202000000, chr...</td>\n",
       "      <td>31</td>\n",
       "      <td>6</td>\n",
       "      <td>{ASAP3, SLC9A1}</td>\n",
       "      <td>{CASP8}</td>\n",
       "    </tr>\n",
       "    <tr>\n",
       "      <th>4</th>\n",
       "      <td>[chr_1_loc_15750000, chr_1_loc_16000000, chr_1...</td>\n",
       "      <td>[chr_2_loc_217000000, chr_2_loc_217250000, chr...</td>\n",
       "      <td>6</td>\n",
       "      <td>14</td>\n",
       "      <td>{FBLIM1}</td>\n",
       "      <td>{ARPC2, TNS1}</td>\n",
       "    </tr>\n",
       "    <tr>\n",
       "      <th>5</th>\n",
       "      <td>[chr_1_loc_23250000, chr_1_loc_23500000, chr_1...</td>\n",
       "      <td>[chr_2_loc_37250000, chr_2_loc_37500000, chr_2...</td>\n",
       "      <td>21</td>\n",
       "      <td>10</td>\n",
       "      <td>{ASAP3, SLC9A1}</td>\n",
       "      <td>{SOS1}</td>\n",
       "    </tr>\n",
       "    <tr>\n",
       "      <th>6</th>\n",
       "      <td>[chr_1_loc_20750000, chr_1_loc_21000000, chr_1...</td>\n",
       "      <td>[chr_2_loc_9500000, chr_2_loc_9750000, chr_2_l...</td>\n",
       "      <td>31</td>\n",
       "      <td>6</td>\n",
       "      <td>{ASAP3, SLC9A1}</td>\n",
       "      <td>{ITGB1BP1, ASAP2}</td>\n",
       "    </tr>\n",
       "    <tr>\n",
       "      <th>7</th>\n",
       "      <td>[chr_1_loc_201250000, chr_1_loc_201500000, chr...</td>\n",
       "      <td>[chr_2_loc_201250000, chr_2_loc_201500000, chr...</td>\n",
       "      <td>10</td>\n",
       "      <td>8</td>\n",
       "      <td>{CSRP1}</td>\n",
       "      <td>{CASP8}</td>\n",
       "    </tr>\n",
       "  </tbody>\n",
       "</table>\n",
       "</div>"
      ],
      "text/plain": [
       "                                    active_loci_chr1  \\\n",
       "0  [chr_1_loc_20750000, chr_1_loc_21000000, chr_1...   \n",
       "1  [chr_1_loc_14750000, chr_1_loc_15000000, chr_1...   \n",
       "2  [chr_1_loc_200500000, chr_1_loc_200750000, chr...   \n",
       "3  [chr_1_loc_20750000, chr_1_loc_21000000, chr_1...   \n",
       "4  [chr_1_loc_15750000, chr_1_loc_16000000, chr_1...   \n",
       "5  [chr_1_loc_23250000, chr_1_loc_23500000, chr_1...   \n",
       "6  [chr_1_loc_20750000, chr_1_loc_21000000, chr_1...   \n",
       "7  [chr_1_loc_201250000, chr_1_loc_201500000, chr...   \n",
       "\n",
       "                                    active_loci_chr2  n_active_loci_chr1  \\\n",
       "0  [chr_2_loc_217000000, chr_2_loc_217250000, chr...                  31   \n",
       "1  [chr_2_loc_232500000, chr_2_loc_232750000, chr...                  19   \n",
       "2  [chr_2_loc_217000000, chr_2_loc_217250000, chr...                  13   \n",
       "3  [chr_2_loc_201750000, chr_2_loc_202000000, chr...                  31   \n",
       "4  [chr_2_loc_217000000, chr_2_loc_217250000, chr...                   6   \n",
       "5  [chr_2_loc_37250000, chr_2_loc_37500000, chr_2...                  21   \n",
       "6  [chr_2_loc_9500000, chr_2_loc_9750000, chr_2_l...                  31   \n",
       "7  [chr_2_loc_201250000, chr_2_loc_201500000, chr...                  10   \n",
       "\n",
       "   n_active_loci_chr2 chr1_adhesome_genes chr2_adhesome_genes  \n",
       "0                  14     {ASAP3, SLC9A1}       {ARPC2, TNS1}  \n",
       "1                  37            {FBLIM1}     {ILKAP, INPP5D}  \n",
       "2                  14             {CSRP1}       {ARPC2, TNS1}  \n",
       "3                   6     {ASAP3, SLC9A1}             {CASP8}  \n",
       "4                  14            {FBLIM1}       {ARPC2, TNS1}  \n",
       "5                  10     {ASAP3, SLC9A1}              {SOS1}  \n",
       "6                   6     {ASAP3, SLC9A1}   {ITGB1BP1, ASAP2}  \n",
       "7                   8             {CSRP1}             {CASP8}  "
      ]
     },
     "execution_count": 279,
     "metadata": {},
     "output_type": "execute_result"
    }
   ],
   "source": [
    "# Only keep relevant columns\n",
    "las_regions_summary = las_regions[['active_loci_chr1', 'active_loci_chr2',\n",
    "                                       'n_active_loci_chr1', 'n_active_loci_chr2',\n",
    "                                       'chr1_adhesome_genes', 'chr2_adhesome_genes']]\n",
    "las_regions_summary = las_regions_summary.reset_index(drop=True)\n",
    "las_regions_summary"
   ]
  },
  {
   "cell_type": "code",
   "execution_count": 114,
   "metadata": {},
   "outputs": [],
   "source": [
    "# Compute edge list\n",
    "edge_list = pd.DataFrame(columns=['locus1','locus2'])\n",
    "for i in las_regions.index:\n",
    "    # Construct all edges in region i\n",
    "    chr1_loci = ['chr'+str(chr1)+'_'+'loc'+str(loc) for loc in las_regions.loc[i,'chr1_loci']] \n",
    "    chr2_loci = ['chr'+str(chr2)+'_'+'loc'+str(loc) for loc in las_regions.loc[i,'chr2_loci']]\n",
    "    edges = list(itertools.product(chr1_loci, chr2_loci))\n",
    "    # Append to edge list"
   ]
  },
  {
   "cell_type": "code",
   "execution_count": 117,
   "metadata": {},
   "outputs": [
    {
     "data": {
      "text/plain": [
       "160000"
      ]
     },
     "execution_count": 117,
     "metadata": {},
     "output_type": "execute_result"
    }
   ],
   "source": [
    "len(edges)*10*200"
   ]
  },
  {
   "cell_type": "code",
   "execution_count": null,
   "metadata": {},
   "outputs": [],
   "source": []
  },
  {
   "cell_type": "code",
   "execution_count": null,
   "metadata": {},
   "outputs": [],
   "source": []
  },
  {
   "cell_type": "code",
   "execution_count": null,
   "metadata": {},
   "outputs": [],
   "source": []
  },
  {
   "cell_type": "code",
   "execution_count": null,
   "metadata": {},
   "outputs": [],
   "source": [
    "# Loop over all chromosome pairs and fill combined_hic\n",
    "chr_list = np.arange(1,22+1,1)\n",
    "chr_pairs = list(itertools.combinations(chr_list, 2))\n",
    "#chr_pairs = [(1,2)]\n",
    "edge_list = pd.DataFrame(columns=['locus1','locus2','hic_contact'])\n",
    "for pair in tqdm(chr_pairs):\n",
    "    time.sleep(.01)\n",
    "    chr1, chr2 = pair\n",
    "    subindex1 = ['chr'+str(chr1)+'_'+'loc'+str(loc) for loc in active_loci_dict[chr1]]\n",
    "    subindex2 = ['chr'+str(chr2)+'_'+'loc'+str(loc) for loc in active_loci_dict[chr2]]\n",
    "    # Load HiC data for this chromosome pair\n",
    "    processed_hic_filename = 'hic_'+'chr'+str(chr1)+'_'+'chr'+str(chr2)+'_norm1_filter3'+'.pkl'\n",
    "    hic_chpair_df = pickle.load(open(dir_processed_hic+processed_hic_filename, 'rb'))\n",
    "    hic_chpair_active_df = hic_chpair_df.loc[active_loci_dict[chr1],active_loci_dict[chr2]]\n",
    "    hic_chpair_active_df.index = subindex1\n",
    "    hic_chpair_active_df.columns = subindex2\n",
    "    # Hi-C data in key-value format\n",
    "    new_index = pd.MultiIndex.from_tuples(itertools.product(subindex1,subindex2), names=[\"locus1\",\"locus2\"])\n",
    "    hic_chpair_df1 = hic_chpair_active_df.stack().reindex(new_index).reset_index(name='hic_contact')\n",
    "    hic_chpair_df1 = hic_chpair_df1[hic_chpair_df1['hic_contact']>0]\n",
    "    # Create network from edge list\n",
    "    edge_list = pd.concat([edge_list,hic_chpair_df1])\n"
   ]
  },
  {
   "cell_type": "code",
   "execution_count": null,
   "metadata": {},
   "outputs": [],
   "source": []
  }
 ],
 "metadata": {
  "kernelspec": {
   "display_name": "Python 3",
   "language": "python",
   "name": "python3"
  },
  "language_info": {
   "codemirror_mode": {
    "name": "ipython",
    "version": 3
   },
   "file_extension": ".py",
   "mimetype": "text/x-python",
   "name": "python",
   "nbconvert_exporter": "python",
   "pygments_lexer": "ipython3",
   "version": "3.7.4"
  }
 },
 "nbformat": 4,
 "nbformat_minor": 2
}
