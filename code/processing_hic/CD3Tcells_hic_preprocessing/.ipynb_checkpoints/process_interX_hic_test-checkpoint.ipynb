{
 "cells": [
  {
   "cell_type": "code",
   "execution_count": 90,
   "metadata": {},
   "outputs": [
    {
     "data": {
      "text/plain": [
       "<module 'process_hic_interX' from '/home/louiscam/projects/gpcr/code/tcell_processing/process_hic_interX.py'>"
      ]
     },
     "execution_count": 90,
     "metadata": {},
     "output_type": "execute_result"
    }
   ],
   "source": [
    "# Load libraries\n",
    "from importlib import reload \n",
    "import numpy as np\n",
    "import pandas as pd\n",
    "import itertools\n",
    "import matplotlib.pyplot as plt\n",
    "import scipy.io as si\n",
    "import scipy.sparse as ss\n",
    "from gcMapExplorer import lib as gmlib\n",
    "from tqdm import tqdm\n",
    "import pickle\n",
    "import process_hic_interX as ph\n",
    "reload(ph)"
   ]
  },
  {
   "cell_type": "code",
   "execution_count": 83,
   "metadata": {},
   "outputs": [],
   "source": [
    "# Directories\n",
    "unprocessed_hic_dir = '/home/louiscam/projects/gpcr/data/hic/CD3_Tcells/MAPQ30_KRnormalized/'\n",
    "processed_hic_dir = '/home/louiscam/projects/gpcr/data/hic/CD3_Tcells/MAPQ30_fullprocessed/'\n",
    "genome_dir = '/home/louiscam/projects/gpcr/data/genome_data/'\n",
    "hic_plots_dir = '/home/louiscam/projects/gpcr/data/hic/CD3_Tcells/MAPQ30_hicplots/'"
   ]
  },
  {
   "cell_type": "code",
   "execution_count": 68,
   "metadata": {},
   "outputs": [],
   "source": [
    "# Characteristics\n",
    "resol = 250000\n",
    "chr_list = [1, 2, 3, 4, 5, 6, 7, 8, 9, 10 ,11, 12, 13, 14, 15, 16, 17, 18, 19, 20, 21, 22]\n",
    "filter_size = 2000000"
   ]
  },
  {
   "cell_type": "markdown",
   "metadata": {},
   "source": [
    "### Load complementary data"
   ]
  },
  {
   "cell_type": "code",
   "execution_count": 69,
   "metadata": {},
   "outputs": [],
   "source": [
    "# Get chromosome size\n",
    "df_sizes = ph.get_chrom_sizes(genome_dir,resol)\n",
    "# Get repeats data\n",
    "df_repeats = ph.load_repeats_data(genome_dir)\n",
    "# Identify repeat locations to filter out\n",
    "dic_repeats_tofilter = ph.find_repeat_locations(df_repeats, chr_list, df_sizes, resol)\n",
    "# Load centromere information\n",
    "df_centrom = ph.get_centromere_locations(genome_dir)"
   ]
  },
  {
   "cell_type": "markdown",
   "metadata": {},
   "source": [
    "### Load data"
   ]
  },
  {
   "cell_type": "code",
   "execution_count": 93,
   "metadata": {},
   "outputs": [],
   "source": [
    "# Construct data directory\n",
    "chr1 = 1\n",
    "chr2 = 2\n",
    "\n",
    "# Load raw data\n",
    "KRnorm_hic_data = ph.get_norm_hic_sparse(unprocessed_hic_dir, resol, chr1, chr2)\n",
    "\n",
    "# Get chromosome sizes (in number of loci)\n",
    "chr1_size = int(df_sizes[df_sizes['chr']==str(chr1)]['size_loci'])\n",
    "chr2_size = int(df_sizes[df_sizes['chr']==str(chr2)]['size_loci'])\n",
    "\n",
    "# Construct normalized dense HiC dataframe\n",
    "df = ph.get_dense_hic_dataframe(KRnorm_hic_data, chr1_size, chr2_size, resol)\n",
    "\n",
    "# Filter out centromeric and pericentromeric regions\n",
    "df = ph.filter_centromeres(df, chr1, 'row', df_centrom, filter_size, resol)\n",
    "df = ph.filter_centromeres(df, chr2, 'col', df_centrom, filter_size, resol)\n",
    "\n",
    "# Filter repeats for chr1 and chr2\n",
    "df = ph.filter_repeats(df, chr1, dic_repeats_tofilter, 'row')\n",
    "df = ph.filter_repeats(df, chr2, dic_repeats_tofilter, 'col')\n",
    "\n",
    "# Log-transform dataframe\n",
    "df_transformed = ph.log_transform(df)\n",
    "\n",
    "# Filter out outliers\n",
    "df_transformed = ph.filter_outliers(df_transformed)\n",
    "\n",
    "# Plot and save to pickle HiC data after filtering out centromeres, repeats and outliers\n",
    "plotname = 'hic_'+'chr'+str(chr1)+'_'+'chr'+str(chr2)+'_norm1_filter3'+'.eps'\n",
    "ph.plot_dense_hic_dataframe(df_transformed, chr1, chr2, plotname, hic_plots_dir)\n",
    "picklename = processed_hic_dir+'hic_'+'chr'+str(chr1)+'_'+'chr'+str(chr2)+'_norm1_filter3'+'.pkl'\n",
    "pickle.dump(df_transformed, open(picklename, 'wb'))"
   ]
  },
  {
   "cell_type": "code",
   "execution_count": null,
   "metadata": {},
   "outputs": [],
   "source": []
  }
 ],
 "metadata": {
  "kernelspec": {
   "display_name": "Python 3",
   "language": "python",
   "name": "python3"
  },
  "language_info": {
   "codemirror_mode": {
    "name": "ipython",
    "version": 3
   },
   "file_extension": ".py",
   "mimetype": "text/x-python",
   "name": "python",
   "nbconvert_exporter": "python",
   "pygments_lexer": "ipython3",
   "version": "3.7.4"
  }
 },
 "nbformat": 4,
 "nbformat_minor": 2
}
