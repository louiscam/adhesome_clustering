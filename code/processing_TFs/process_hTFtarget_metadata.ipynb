{
 "cells": [
  {
   "cell_type": "code",
   "execution_count": 30,
   "metadata": {
    "code_folding": []
   },
   "outputs": [],
   "source": [
    "# Import standard libraries\n",
    "import warnings\n",
    "warnings.simplefilter(action='ignore', category=FutureWarning)\n",
    "from importlib import reload\n",
    "import numpy as np\n",
    "import matplotlib as mpl\n",
    "import matplotlib.pyplot as plt\n",
    "from scipy.cluster.hierarchy import dendrogram, linkage, fcluster\n",
    "from sklearn.metrics import adjusted_mutual_info_score\n",
    "import seaborn as sns\n",
    "from scipy import sparse\n",
    "import scipy.stats as ss\n",
    "import csv\n",
    "import pandas as pd\n",
    "import networkx as nx\n",
    "from selenium import webdriver\n",
    "from webdriver_manager.chrome import ChromeDriverManager\n",
    "from bs4 import BeautifulSoup\n",
    "import requests"
   ]
  },
  {
   "cell_type": "code",
   "execution_count": 2,
   "metadata": {},
   "outputs": [],
   "source": [
    "# Specify all directories\n",
    "# Directory of adhesome data\n",
    "dir_adhesome = '/home/louiscam/projects/gpcr/data/adhesome_data/'\n",
    "# Directory of genome data\n",
    "dir_genome = '/home/louiscam/projects/gpcr/data/genome_data/'\n",
    "# Directory of TF target data\n",
    "dir_htftarget = '/home/louiscam/projects/gpcr/data/tf_data/hTFtarget/'\n",
    "# Saving directory\n",
    "saving_dir = '/home/louiscam/projects/gpcr/save/figures/'"
   ]
  },
  {
   "cell_type": "markdown",
   "metadata": {},
   "source": [
    "# Load hTFtarget metadata"
   ]
  },
  {
   "cell_type": "code",
   "execution_count": 14,
   "metadata": {},
   "outputs": [],
   "source": [
    "# Load and clean metadata\n",
    "tf_metadata_df = pd.read_csv(dir_htftarget+'hTFtarget_datadescription.csv', header=0)\n",
    "tf_metadata_df['Dataset'] = tf_metadata_df['Dataset'].str.replace('Dataset-','').astype(int)\n",
    "tf_metadata_df['Tissue'] = tf_metadata_df['Tissue'].str.lower()"
   ]
  },
  {
   "cell_type": "code",
   "execution_count": 17,
   "metadata": {},
   "outputs": [],
   "source": [
    "# Restrict to tissues of interest\n",
    "tissues_of_interest = ['breast','lung','blood','bone marrow','liver', 'kidney', 'colon', 'brain', 'skin']\n",
    "tf_metadata_df = tf_metadata_df[tf_metadata_df['Tissue'].isin(tissues_of_interest)]"
   ]
  },
  {
   "cell_type": "code",
   "execution_count": 19,
   "metadata": {},
   "outputs": [
    {
     "data": {
      "text/html": [
       "<div>\n",
       "<style scoped>\n",
       "    .dataframe tbody tr th:only-of-type {\n",
       "        vertical-align: middle;\n",
       "    }\n",
       "\n",
       "    .dataframe tbody tr th {\n",
       "        vertical-align: top;\n",
       "    }\n",
       "\n",
       "    .dataframe thead th {\n",
       "        text-align: right;\n",
       "    }\n",
       "</style>\n",
       "<table border=\"1\" class=\"dataframe\">\n",
       "  <thead>\n",
       "    <tr style=\"text-align: right;\">\n",
       "      <th></th>\n",
       "      <th>Dataset</th>\n",
       "      <th>TF</th>\n",
       "      <th>Cell line</th>\n",
       "      <th>Tissue</th>\n",
       "      <th>Disease</th>\n",
       "    </tr>\n",
       "  </thead>\n",
       "  <tbody>\n",
       "    <tr>\n",
       "      <th>131</th>\n",
       "      <td>306</td>\n",
       "      <td>BRD7</td>\n",
       "      <td>BJ</td>\n",
       "      <td>skin</td>\n",
       "      <td>Normal</td>\n",
       "    </tr>\n",
       "    <tr>\n",
       "      <th>132</th>\n",
       "      <td>307</td>\n",
       "      <td>BRD7</td>\n",
       "      <td>BJ</td>\n",
       "      <td>skin</td>\n",
       "      <td>Normal</td>\n",
       "    </tr>\n",
       "    <tr>\n",
       "      <th>133</th>\n",
       "      <td>520</td>\n",
       "      <td>CTCF</td>\n",
       "      <td>WERI-Rb-1</td>\n",
       "      <td>skin</td>\n",
       "      <td>Retinoblastoma</td>\n",
       "    </tr>\n",
       "    <tr>\n",
       "      <th>134</th>\n",
       "      <td>521</td>\n",
       "      <td>CTCF</td>\n",
       "      <td>BJ</td>\n",
       "      <td>skin</td>\n",
       "      <td>Normal</td>\n",
       "    </tr>\n",
       "    <tr>\n",
       "      <th>135</th>\n",
       "      <td>549</td>\n",
       "      <td>CTCF</td>\n",
       "      <td>AG04449</td>\n",
       "      <td>skin</td>\n",
       "      <td>Normal</td>\n",
       "    </tr>\n",
       "  </tbody>\n",
       "</table>\n",
       "</div>"
      ],
      "text/plain": [
       "     Dataset    TF  Cell line Tissue         Disease\n",
       "131      306  BRD7         BJ   skin          Normal\n",
       "132      307  BRD7         BJ   skin          Normal\n",
       "133      520  CTCF  WERI-Rb-1   skin  Retinoblastoma\n",
       "134      521  CTCF         BJ   skin          Normal\n",
       "135      549  CTCF    AG04449   skin          Normal"
      ]
     },
     "execution_count": 19,
     "metadata": {},
     "output_type": "execute_result"
    }
   ],
   "source": [
    "tf_metadata_df.head()"
   ]
  },
  {
   "cell_type": "markdown",
   "metadata": {},
   "source": [
    "# Scrape more metadata from hTFtarget\n",
    "\n",
    "Goal: for each data set ID in tf_metadata_df, fetch from the hTFtarget website (http://bioinfo.life.hust.edu.cn/hTFtarget/#!/tf) the following information\n",
    "- ID\n",
    "- TF\n",
    "- Project\n",
    "- Cell Line\n",
    "- Cell Type\n",
    "- Tissue"
   ]
  },
  {
   "cell_type": "code",
   "execution_count": 29,
   "metadata": {},
   "outputs": [],
   "source": [
    "# configure webdriver to use Chrome browser\n",
    "# see https://stackoverflow.com/questions/29858752/\n",
    "# error-message-chromedriver-executable-needs-to-be-available-in-the-path\n",
    "driver = webdriver.Chrome('/path/to/chromedriver')"
   ]
  },
  {
   "cell_type": "code",
   "execution_count": 31,
   "metadata": {},
   "outputs": [],
   "source": [
    "URL = \"http://bioinfo.life.hust.edu.cn/hTFtarget/#!/tf\"\n",
    "page = requests.get(URL)"
   ]
  },
  {
   "cell_type": "code",
   "execution_count": 32,
   "metadata": {},
   "outputs": [
    {
     "name": "stdout",
     "output_type": "stream",
     "text": [
      "<!doctype html>\n",
      "<html lang=\"en\" ng-app=\"hTFtarget\">\n",
      "<head>\n",
      "\n",
      "    <title>hTFtarget</title>\n",
      "\n",
      "    <link rel=\"icon\" href=\"/static/hTFtarget/img/hTFtarget-icon.ico\">\n",
      "\n",
      "\n",
      "    <link rel=\"stylesheet\" href=\"/static/hTFtarget/css/bootstrap.css\">\n",
      "    <link rel=\"stylesheet\" href=\"/static/hTFtarget/lib/bootstrap-slider/css/bootstrap-slider.css\">\n",
      "    <link rel=\"stylesheet\" href=\"/static/hTFtarget/lib/angular-intro/introjs.min.css\">\n",
      "    <link rel=\"stylesheet\" href=\"/static/hTFtarget/lib/angular-tablesort/tablesort.css\">\n",
      "    <link rel=\"stylesheet\" href=\"/static/hTFtarget/lib/angular-treeview/css/angular.treeview.css\">\n",
      "    <link rel=\"stylesheet\" href=\"/static/hTFtarget/lib/bootstrap-grid-flexbox/css/bootstrap-grid-flexbox.css\">\n",
      "    <link rel=\"stylesheet\" href=\"/static/hTFtarget/css/main.css\">\n",
      "    <link rel=\"stylesheet\" href=\"/static/hTFtarget/css/navbar-customize.css\">\n",
      "\n",
      "\n",
      "    <script src=\"/static/hTFtarget/lib/angular/angular.js\"></script>\n",
      "    <script src=\"/static/hTFtarget/lib/angular/angular-route.js\"></script>\n",
      "    <script src=\"/static/hTFtarget/lib/angular-animate/angular-animate.js\"></script>\n",
      "    <script src=\"/static/hTFtarget/lib/angular/angular-resource.js\"></script>\n",
      "    <script src=\"/static/hTFtarget/lib/angular-pageslide-directive/angular-pageslide-directive.js\"></script>\n",
      "    <script src=\"/static/hTFtarget/lib/angular-intro/intro.min.js\"></script>\n",
      "    <script src=\"/static/hTFtarget/lib/angular-intro/angular-intro.min.js\"></script>\n",
      "    <script src=\"/static/hTFtarget/lib/angular-tablesort/angular-tablesort.js\"></script>\n",
      "    <script src=\"/static/hTFtarget/lib/angular-treeview/angular.treeview.js\"></script>\n",
      "    <script src=\"/static/hTFtarget/lib/angular-fusioncharts/fusioncharts.js\"></script>\n",
      "    <script src=\"/static/hTFtarget/lib/angular-fusioncharts/angular-fusioncharts.min.js\"></script>\n",
      "    <script src=\"/static/hTFtarget/lib/angular-chart/Chart.js\"></script>\n",
      "    <script src=\"/static/hTFtarget/lib/angular-chart/angular-chart.js\"></script>\n",
      "    <script src=\"/static/hTFtarget/lib/zingchart/zingchart.js\"></script>\n",
      "    <script src=\"/static/hTFtarget/lib/zingchart/zingchart-angularjs.js\"></script>\n",
      "\n",
      "    <script src=\"/static/hTFtarget/js/hTFtarget.app.js?seed=506\"></script>\n",
      "    <script src=\"/static/hTFtarget/js/hTFtarget.controller.js?seed=393\"></script>\n",
      "    <script src=\"/static/hTFtarget/js/hTFtarget.home.controller.js?seed=147\"></script>\n",
      "    <script src=\"/static/hTFtarget/js/hTFtarget.tf.controller.js?seed=334\"></script>\n",
      "    <script src=\"/static/hTFtarget/js/targets/chipseq_dataset_targets.controller.js?seed=608\"></script>\n",
      "    <script src=\"/static/hTFtarget/js/targets/chipseq_tf_targets.controller.js?seed=322\"></script>\n",
      "    <script src=\"/static/hTFtarget/js/targets/conservation_tf_targets.controller.js?seed=958\"></script>\n",
      "    <script src=\"/static/hTFtarget/js/targets/integrate_targets.controller.js?seed=452\"></script>\n",
      "    <script src=\"/static/hTFtarget/js/hTFtarget.snp.controller.js?seed=570\"></script>\n",
      "    <script src=\"/static/hTFtarget/js/hTFtarget.browser.controller.js?seed=402\"></script>\n",
      "    <script src=\"/static/hTFtarget/js/hTFtarget.search.controller.js?seed=250\"></script>\n",
      "    <script src=\"/static/hTFtarget/js/hTFtarget.document.controller.js?seed=779\"></script>\n",
      "    <script src=\"/static/hTFtarget/js/hTFtarget.contact.controller.js?seed=60\"></script>\n",
      "    <script src=\"/static/hTFtarget/js/hTFtarget.quicksearch.controller.js?seed=737\"></script>\n",
      "    <script src=\"/static/hTFtarget/js/hTFtarget.batchsearch.controller.js?seed=614\"></script>\n",
      "    <script src=\"/static/hTFtarget/js/hTFtarget.gene.controller.js?seed=493\"></script>\n",
      "    <script src=\"/static/hTFtarget/js/hTFtarget.ri.controller.js?seed=398\"></script>\n",
      "    <script src=\"/static/hTFtarget/js/hTFtarget.prediction.controller.js?seed=163\"></script>\n",
      "    <script src=\"/static/hTFtarget/js/hTFtarget.epigenomic_states.controller.js?seed=440\"></script>\n",
      "    <script src=\"/static/hTFtarget/js/hTFtarget.co_association.controller.js?seed=239\"></script>\n",
      "\n",
      "\n",
      "    <script src=\"/static/hTFtarget/js/hTFtarget.test.controller.js?seed=957\"></script>\n",
      "\n",
      "\n",
      "    <script src=\"/static/hTFtarget/lib/jquery/jquery-3.1.1.min.js\"></script>\n",
      "    <script src=\"/static/hTFtarget/lib/bootstrap/bootstrap.js\"></script>\n",
      "    <script src=\"/static/hTFtarget/lib/ui-bootstrap/ui-bootstrap-tpls-2.4.0.js\"></script>\n",
      "    <script src=\"/static/hTFtarget/lib/bootstrap-slider/bootstrap-slider.js\"></script>\n",
      "    <script src=\"/static/hTFtarget/lib/bootstrap-slider/angular-bootstrap-slider.js\"></script>\n",
      "\n",
      "</head>\n",
      "<body>\n",
      "\n",
      "<div ng-include=\"'/static/hTFtarget/partials/navigation.html'\" ng-controller=\"NavigationController\"></div>\n",
      "\n",
      "<div ng-view></div>\n",
      "\n",
      "<div ng-include=\"'/static/hTFtarget/partials/footer.html'\"></div>\n",
      "\n",
      "</body>\n",
      "</html>\n"
     ]
    }
   ],
   "source": [
    "print(page.text)"
   ]
  },
  {
   "cell_type": "code",
   "execution_count": null,
   "metadata": {},
   "outputs": [],
   "source": []
  },
  {
   "cell_type": "code",
   "execution_count": null,
   "metadata": {},
   "outputs": [],
   "source": []
  },
  {
   "cell_type": "code",
   "execution_count": null,
   "metadata": {},
   "outputs": [],
   "source": []
  },
  {
   "cell_type": "code",
   "execution_count": null,
   "metadata": {},
   "outputs": [],
   "source": []
  }
 ],
 "metadata": {
  "kernelspec": {
   "display_name": "Python 3",
   "language": "python",
   "name": "python3"
  },
  "language_info": {
   "codemirror_mode": {
    "name": "ipython",
    "version": 3
   },
   "file_extension": ".py",
   "mimetype": "text/x-python",
   "name": "python",
   "nbconvert_exporter": "python",
   "pygments_lexer": "ipython3",
   "version": "3.7.4"
  }
 },
 "nbformat": 4,
 "nbformat_minor": 2
}
