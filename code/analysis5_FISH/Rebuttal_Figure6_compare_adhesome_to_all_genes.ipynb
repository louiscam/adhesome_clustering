{
 "cells": [
  {
   "cell_type": "markdown",
   "metadata": {},
   "source": [
    "# Figure FISH"
   ]
  },
  {
   "cell_type": "code",
   "execution_count": 1,
   "metadata": {
    "code_folding": []
   },
   "outputs": [
    {
     "data": {
      "text/plain": [
       "<module 'utils' from '/home/louiscam/projects/gpcr/code/analysis5_FISH/utils.py'>"
      ]
     },
     "execution_count": 1,
     "metadata": {},
     "output_type": "execute_result"
    }
   ],
   "source": [
    "# Import standard libraries\n",
    "import warnings\n",
    "warnings.simplefilter(action='ignore', category=FutureWarning)\n",
    "from importlib import reload\n",
    "import numpy as np\n",
    "import matplotlib as mpl\n",
    "import matplotlib.pyplot as plt\n",
    "from scipy.cluster.hierarchy import dendrogram, linkage, fcluster, cut_tree\n",
    "from scipy.spatial.distance import pdist, squareform\n",
    "from sklearn.metrics import adjusted_mutual_info_score\n",
    "import seaborn as sns\n",
    "from scipy import sparse\n",
    "import scipy.stats as ss\n",
    "import csv\n",
    "import pandas as pd\n",
    "import networkx as nx\n",
    "import community\n",
    "import communities as com\n",
    "import pickle\n",
    "from collections import defaultdict\n",
    "import operator\n",
    "from scipy.sparse import csr_matrix\n",
    "import itertools\n",
    "import os.path\n",
    "import math\n",
    "from sklearn.cluster import AgglomerativeClustering\n",
    "from sklearn.decomposition import PCA\n",
    "from sklearn.manifold import TSNE\n",
    "from sklearn.metrics import adjusted_mutual_info_score\n",
    "from networkx.algorithms.community.kclique import k_clique_communities\n",
    "import pybedtools\n",
    "import time\n",
    "from tqdm import tqdm\n",
    "import random\n",
    "import OmicsIntegrator as oi\n",
    "import gseapy\n",
    "from gseapy.plot import barplot, dotplot\n",
    "from ortools.linear_solver import pywraplp\n",
    "import pyvis as pv\n",
    "from pyvis.network import Network\n",
    "from joblib import Parallel, delayed\n",
    "\n",
    "import utils as lu\n",
    "reload(lu)"
   ]
  },
  {
   "cell_type": "code",
   "execution_count": 2,
   "metadata": {},
   "outputs": [],
   "source": [
    "# Directory of genome data\n",
    "dir_genome = '/home/louiscam/projects/gpcr/data/genome_data/'\n",
    "# Directory of adhesome data\n",
    "dir_adhesome = '/home/louiscam/projects/gpcr/data/adhesome_data/'\n",
    "# Directory of processed HiC\n",
    "dir_processed_hic = '/home/louiscam/projects/gpcr/save/processed_hic_data/processed_hic_data_IMR90/final_BP250000_intraKR_interINTERKR/'\n",
    "# Directory of epigenomic data\n",
    "epigenome_dir = '/home/louiscam/projects/gpcr/data/regulatory_data/regulatory_data_IMR90/'\n",
    "processed_epigenome_data_dir = '/home/louiscam/projects/gpcr/save/processed_regulatory_marks/processed_epigenome_data_IMR90/'\n",
    "# Directory of FISH data\n",
    "dir_fish = '/home/louiscam/projects/gpcr/data/fish_data/'\n",
    "# Saving directory\n",
    "saving_dir = '/home/louiscam/projects/gpcr/save/figures/'\n",
    "saving_main_dir = '/home/louiscam/projects/gpcr/save/figures_main/'\n",
    "saving_supp_dir = '/home/louiscam/projects/gpcr/save/figures_supplement/'"
   ]
  },
  {
   "cell_type": "code",
   "execution_count": 3,
   "metadata": {},
   "outputs": [],
   "source": [
    "# Load gene to chromosome directory\n",
    "with open(saving_dir+'gene2chrom.pkl', 'rb') as f:\n",
    "    gene2chrom = pickle.load(f)\n",
    "# Load gene to locus directory\n",
    "with open(saving_dir+'gene2locus.pkl', 'rb') as f:\n",
    "    gene2locus = pickle.load(f)"
   ]
  },
  {
   "cell_type": "markdown",
   "metadata": {},
   "source": [
    "# Load FISH data"
   ]
  },
  {
   "cell_type": "markdown",
   "metadata": {},
   "source": [
    "### Load genomic scale FISH data\n",
    "Including for each locus whether the genes measured within it are actively transcribing and the distances from the locus to the nuclear lamina, the nearest nuclear speckle and the nearest nucleolus."
   ]
  },
  {
   "cell_type": "code",
   "execution_count": 4,
   "metadata": {},
   "outputs": [],
   "source": [
    "# Load data\n",
    "merfish_data = pd.read_csv(dir_fish+'dna_merfish_data.tsv', sep='\\t', header=0)"
   ]
  },
  {
   "cell_type": "code",
   "execution_count": 5,
   "metadata": {},
   "outputs": [
    {
     "name": "stderr",
     "output_type": "stream",
     "text": [
      "100%|██████████| 3668/3668 [00:43<00:00, 84.62it/s]\n"
     ]
    }
   ],
   "source": [
    "# For each cell, determine its nucleus size (maximum probe-probe distance)\n",
    "merfish_data_reduced = merfish_data[['cell number', 'genomic coordinate', 'x(nm)', 'y(nm)', 'z(nm)']]\n",
    "merfish_data_reduced = merfish_data_reduced.dropna(how='any', axis=0)\n",
    "cell_ids = merfish_data_reduced['cell number'].unique()\n",
    "max_dist_dict = {}\n",
    "for cell_id in tqdm(cell_ids):\n",
    "    coords = merfish_data_reduced[merfish_data_reduced['cell number']==cell_id][['x(nm)', 'y(nm)', 'z(nm)']]\n",
    "    dist = pdist(coords, metric='euclidean')\n",
    "    max_dist = dist.max()\n",
    "    max_dist_dict[cell_id] = max_dist"
   ]
  },
  {
   "cell_type": "code",
   "execution_count": 6,
   "metadata": {},
   "outputs": [],
   "source": [
    "# Build dictionary from Ensembl gene name to HGNC\n",
    "enst2hgnc_df = pd.read_csv(dir_genome+'ensemblGene2Name', sep='\\t', header=0)\n",
    "enst2hgnc_df.columns = ['ENST', 'HGNC']\n",
    "enst2hgnc_df = enst2hgnc_df.set_index('ENST')\n",
    "ensg2enst_df = pd.read_csv(dir_genome+'ensemblGene2Transcript2Protein', sep='\\t', header=0)\n",
    "ensg2enst_df.columns = ['ENSG', 'ENST', 'ENSP']\n",
    "ensg2enst_df = ensg2enst_df[['ENSG', 'ENST']]\n",
    "ensg2enst_df = ensg2enst_df.set_index('ENST')\n",
    "ensg2hgnc_df = ensg2enst_df.join(enst2hgnc_df, how='outer').reset_index()\n",
    "ensg2hgnc_df = ensg2hgnc_df[['ENSG', 'HGNC']].drop_duplicates(['ENSG', 'HGNC'])\n",
    "ensg2hgnc_df['HGNC'] = ensg2hgnc_df['HGNC'].str.upper()\n",
    "ensg2hgnc_df = ensg2hgnc_df.reset_index()[['ENSG', 'HGNC']]\n",
    "ensg2hgnc = {ensg2hgnc_df.loc[i,'ENSG']: ensg2hgnc_df.loc[i,'HGNC'] for i in range(len(ensg2hgnc_df))}"
   ]
  },
  {
   "cell_type": "code",
   "execution_count": 7,
   "metadata": {},
   "outputs": [],
   "source": [
    "# Add gene information to MERFISH data\n",
    "merfish_data['gene names'] = merfish_data['gene names'].astype(str)\n",
    "merfish_data['gene names'] = merfish_data['gene names'].apply(lambda x: x.split(',') if x!='nan' else [])\n",
    "merfish_data['gene_hgnc'] = merfish_data['gene names'].apply(lambda x: [ensg2hgnc[g] if (g in ensg2hgnc.keys()) \n",
    "                                                                    else 'unknown' for g in x] if len(x)>0 else [])\n",
    "merfish_data['n_genes'] = merfish_data['gene_hgnc'].apply(lambda x: len(x))\n",
    "merfish_data['transciption'] = merfish_data['transciption'].astype(str)\n",
    "merfish_data['transciption'] = merfish_data['transciption'].apply(lambda x: x.split(',') if x!='nan' else [])\n",
    "merfish_data['chrom'] = merfish_data['genomic coordinate'].str.split(':', expand=True)[0]"
   ]
  },
  {
   "cell_type": "code",
   "execution_count": 8,
   "metadata": {},
   "outputs": [],
   "source": [
    "# Reduce data (drop NAs, chrX and gene-less loci)\n",
    "merfish_data = merfish_data.dropna(how='any')\n",
    "merfish_data = merfish_data[merfish_data['chrom']!='chrX']\n",
    "merfish_data = merfish_data[['cell number',\n",
    "                             'chrom',\n",
    "                             'homolog number',\n",
    "                             'genomic coordinate',\n",
    "                             'gene_hgnc',\n",
    "                             'transciption',\n",
    "                             'x(nm)', 'y(nm)', 'z(nm)']]\n",
    "merfish_data.columns = [ 'cell_ID',\n",
    "                         'chrom',\n",
    "                         'homolog',\n",
    "                         'probe_locus',\n",
    "                         'gene_ID',\n",
    "                         'transcription',\n",
    "                         'x(nm)', 'y(nm)', 'z(nm)']"
   ]
  },
  {
   "cell_type": "code",
   "execution_count": 9,
   "metadata": {},
   "outputs": [
    {
     "name": "stdout",
     "output_type": "stream",
     "text": [
      "Total number of cells = 3533\n",
      "Total number of loci = 990\n"
     ]
    }
   ],
   "source": [
    "# Print basic statistics\n",
    "print(f'Total number of cells = {len(np.unique(merfish_data[\"cell_ID\"].values))}')\n",
    "print(f'Total number of loci = {len(np.unique(merfish_data[\"probe_locus\"].values))}')"
   ]
  },
  {
   "cell_type": "markdown",
   "metadata": {},
   "source": [
    "# Load genes of interest"
   ]
  },
  {
   "cell_type": "code",
   "execution_count": 10,
   "metadata": {},
   "outputs": [],
   "source": [
    "# Load all adhesome genes\n",
    "with open(saving_dir+'all_adhesome_genes.pkl', 'rb') as f:\n",
    "    all_adhesome_genes = pickle.load(f)\n",
    "# Load active adhesome genes\n",
    "with open(saving_dir+'active_adhesome_genes.pkl', 'rb') as f:\n",
    "    active_adhesome_genes = pickle.load(f)\n",
    "# Load adhesome TF genes and loci\n",
    "with open(saving_dir+'active_lung_adhesome_tf_genes.pkl', 'rb') as f:\n",
    "    active_lung_adhesome_tf_genes = pickle.load(f)\n",
    "active_adhesome_genes = np.concatenate([active_adhesome_genes, active_lung_adhesome_tf_genes])"
   ]
  },
  {
   "cell_type": "code",
   "execution_count": 11,
   "metadata": {},
   "outputs": [],
   "source": [
    "# Sample random non-adhesome active genes\n",
    "with open(saving_dir+'all_active_genes.pkl', 'rb') as f:\n",
    "    all_active_genes = pickle.load(f)\n",
    "with open(saving_dir+'all_inactive_genes.pkl', 'rb') as f:\n",
    "    all_inactive_genes = pickle.load(f)\n",
    "active_gene_pool = list(set(all_active_genes)-set(active_adhesome_genes))\n",
    "active_gene_pool = np.array(active_gene_pool)\n",
    "random_active_genes = active_gene_pool"
   ]
  },
  {
   "cell_type": "code",
   "execution_count": 12,
   "metadata": {},
   "outputs": [
    {
     "name": "stdout",
     "output_type": "stream",
     "text": [
      "Number of selected genes = 22595\n"
     ]
    }
   ],
   "source": [
    "# Genes for downstream analysis\n",
    "selected_genes = np.concatenate([active_adhesome_genes, random_active_genes])\n",
    "print(f'Number of selected genes = {len(selected_genes)}')"
   ]
  },
  {
   "cell_type": "code",
   "execution_count": 13,
   "metadata": {},
   "outputs": [],
   "source": [
    "# Location of genes in hg38\n",
    "\n",
    "df_loc = pd.read_csv(dir_genome+'chrom_hg38.loc', sep='\\t', header=0)\n",
    "df_loc = df_loc[df_loc['#chrom'].isin(['chr'+str(i) for i in range(1,23)])]\n",
    "df_loc = df_loc[['#chrom', 'chromStart', 'chromEnd', 'geneName']]\n",
    "df_loc.columns = ['chrom', 'start', 'end', 'geneName']\n",
    "df_loc = df_loc.sort_values(['chrom','start','end'])\n",
    "df_loc = df_loc.groupby(['chrom','geneName']).agg({'start':'min', 'end':'max'})\n",
    "df_loc = df_loc.reset_index().sort_values(['chrom','start','end'])\n",
    "\n",
    "# Detect genes that are present on multiple chromosomes and drop them\n",
    "n_chroms_per_gene = df_loc.groupby('geneName')['chrom'].size()\n",
    "n_chroms_per_gene = n_chroms_per_gene[n_chroms_per_gene>1]\n",
    "genes2drop = n_chroms_per_gene.index.values\n",
    "df_loc = df_loc[~df_loc['geneName'].isin(genes2drop)]\n",
    "\n",
    "# Restrict location dataframe to adhesome specifically\n",
    "df_loc_adhesome = df_loc[df_loc['geneName'].isin(selected_genes)]"
   ]
  },
  {
   "cell_type": "code",
   "execution_count": 14,
   "metadata": {},
   "outputs": [],
   "source": [
    "# Identify adhesome genes present within 1kb of available MERFISH probes\n",
    "resol = 0"
   ]
  },
  {
   "cell_type": "code",
   "execution_count": 15,
   "metadata": {},
   "outputs": [],
   "source": [
    "# Construct a bed object for adhesome genes\n",
    "df_adhesome_pos = df_loc_adhesome[['chrom','start','end', 'geneName']]\n",
    "bed_adhesome = pybedtools.BedTool.from_dataframe(df_adhesome_pos).sort()\n",
    "bed_adhesome_df = bed_adhesome.to_dataframe()"
   ]
  },
  {
   "cell_type": "code",
   "execution_count": 16,
   "metadata": {},
   "outputs": [],
   "source": [
    "# Construct a bed object for MERFISH probes\n",
    "df_merfish_pos = merfish_data.loc[:,'probe_locus'].to_frame().drop_duplicates()\n",
    "df_merfish_pos['chrom'] = df_merfish_pos['probe_locus'].str.split(':', expand=True)[0]\n",
    "df_merfish_pos['extent'] = df_merfish_pos['probe_locus'].str.split(':', expand=True)[1]\n",
    "df_merfish_pos['start'] = df_merfish_pos['extent'].str.split('-', expand=True)[0].astype(int)\n",
    "df_merfish_pos['end'] = df_merfish_pos['extent'].str.split('-', expand=True)[1].astype(int)\n",
    "df_merfish_pos = df_merfish_pos[['chrom', 'start', 'end', 'probe_locus']]\n",
    "df_merfish_pos['start'] = (df_merfish_pos['start']-resol).clip(lower=0)\n",
    "df_merfish_pos['end'] = (df_merfish_pos['end']+resol)\n",
    "bed_merfish = pybedtools.BedTool.from_dataframe(df_merfish_pos).sort()\n",
    "bed_merfish_df = bed_merfish.to_dataframe()"
   ]
  },
  {
   "cell_type": "code",
   "execution_count": 17,
   "metadata": {},
   "outputs": [],
   "source": [
    "# Get counts for this feature in the segmented genome\n",
    "out = pybedtools.bedtool.BedTool.map(bed_merfish, bed_adhesome, c=[4], o='distinct')\n",
    "counts = out.to_dataframe()\n",
    "counts['score'] = counts['score'].str.split(',')\n",
    "counts['score'] = counts['score'].apply(lambda x: x if x[0]!='.' else [])\n",
    "counts['adhesome'] = [[g for g in gene_list if g in active_adhesome_genes] for gene_list in counts['score']]\n",
    "counts['n_adhesome'] = [len(ls) for ls in counts['adhesome']]\n",
    "counts['non_adhesome'] = [[g for g in gene_list if g in random_active_genes] for gene_list in counts['score']]\n",
    "counts['n_non_adhesome'] = [len(ls) for ls in counts['non_adhesome']]\n",
    "merfishloc2gene = {counts.loc[i,'name']: counts.loc[i,'score'] for i in range(len(counts))}"
   ]
  },
  {
   "cell_type": "code",
   "execution_count": 18,
   "metadata": {},
   "outputs": [],
   "source": [
    "# Create gene2merfishloc mapping\n",
    "gene2merfishloc = defaultdict(list)\n",
    "for k, v in merfishloc2gene.items():\n",
    "    if len(v)>0:\n",
    "        for g in v:\n",
    "            gene2merfishloc[g].append(k)\n",
    "gene2merfishloc = dict(gene2merfishloc)"
   ]
  },
  {
   "cell_type": "code",
   "execution_count": 19,
   "metadata": {},
   "outputs": [
    {
     "name": "stdout",
     "output_type": "stream",
     "text": [
      "Coverage of active adhesome genes by MERFISH probes = 19\n",
      "Coverage of active non-adhesome genes by MERFISH probes = 1005\n",
      "Number of MERFISH probes covering active adhesome loci = 19\n",
      "Number of MERFISH probes covering active non-adhesome loci = 538\n"
     ]
    }
   ],
   "source": [
    "# Basic stats\n",
    "print(f'Coverage of active adhesome genes by MERFISH probes = {len(list(itertools.chain.from_iterable(counts[\"adhesome\"].values)))}')\n",
    "print(f'Coverage of active non-adhesome genes by MERFISH probes = {len(list(itertools.chain.from_iterable(counts[\"non_adhesome\"].values)))}')\n",
    "print(f'Number of MERFISH probes covering active adhesome loci = {counts[counts[\"n_adhesome\"]>0].shape[0]}')\n",
    "print(f'Number of MERFISH probes covering active non-adhesome loci = {counts[counts[\"n_non_adhesome\"]>0].shape[0]}')"
   ]
  },
  {
   "cell_type": "code",
   "execution_count": 20,
   "metadata": {},
   "outputs": [],
   "source": [
    "# Identify MERFISH loci of adhesome genes\n",
    "adh_merfish_loc = counts[counts[\"n_adhesome\"]>0]['name'].values\n",
    "\n",
    "# Identify MERFISH loci of random genes\n",
    "rand_merfish_loc = counts[counts[\"n_non_adhesome\"]>0]['name'].values\n",
    "rand_merfish_loc = np.array(list(set(rand_merfish_loc)-set(adh_merfish_loc)))\n",
    "\n",
    "# Combine adh_merfish_loc and rand_merfish_loc\n",
    "selected_merfish_loc = np.concatenate([adh_merfish_loc, rand_merfish_loc])"
   ]
  },
  {
   "cell_type": "markdown",
   "metadata": {},
   "source": [
    "# Compare MERFISH distances between adhesome loci and random loci all non-adhesome active loci"
   ]
  },
  {
   "cell_type": "code",
   "execution_count": 21,
   "metadata": {},
   "outputs": [],
   "source": [
    "# Select MERFISH data corresponding to active adhesome genes and active random genes\n",
    "selected_merfish_data = merfish_data.copy()\n",
    "selected_merfish_data = selected_merfish_data.loc[selected_merfish_data['probe_locus'].isin(selected_merfish_loc),:]"
   ]
  },
  {
   "cell_type": "code",
   "execution_count": 22,
   "metadata": {},
   "outputs": [
    {
     "name": "stdout",
     "output_type": "stream",
     "text": [
      "Number of unique loci = 547\n",
      "Number of unique cells = 3533\n"
     ]
    }
   ],
   "source": [
    "# A few statistics\n",
    "all_merfish_loci = np.unique(selected_merfish_data[\"probe_locus\"])\n",
    "all_merfish_cells = np.unique(selected_merfish_data[\"cell_ID\"])\n",
    "print(f'Number of unique loci = {len(all_merfish_loci)}')\n",
    "print(f'Number of unique cells = {len(all_merfish_cells)}')"
   ]
  },
  {
   "cell_type": "code",
   "execution_count": 23,
   "metadata": {},
   "outputs": [
    {
     "name": "stderr",
     "output_type": "stream",
     "text": [
      "100%|██████████| 3533/3533 [00:24<00:00, 142.51it/s]\n"
     ]
    }
   ],
   "source": [
    "# Build a dictionary where for each cell, we report a gene by gene distance matrix between adhesome genes\n",
    "cell2distmat = {}\n",
    "for cell in tqdm(all_merfish_cells):\n",
    "    cell_data = selected_merfish_data.loc[selected_merfish_data['cell_ID']==cell,\n",
    "                                          ['x(nm)','y(nm)','z(nm)','probe_locus']]\n",
    "    cell_data = cell_data.groupby('probe_locus').agg({'x(nm)': 'mean', 'y(nm)': 'mean', 'z(nm)': 'mean'})\n",
    "    dist_mat = squareform(pdist(cell_data, metric='euclidean'))/max_dist_dict[cell]\n",
    "    cell2distmat[cell] = pd.DataFrame(dist_mat,columns = cell_data.index.values, index = cell_data.index.values)"
   ]
  },
  {
   "cell_type": "code",
   "execution_count": 24,
   "metadata": {
    "scrolled": true
   },
   "outputs": [
    {
     "name": "stderr",
     "output_type": "stream",
     "text": [
      "100%|██████████| 3533/3533 [00:44<00:00, 78.84it/s]\n"
     ]
    }
   ],
   "source": [
    "# Combine information across all cells into one dataframe\n",
    "distances_df = pd.DataFrame(0, columns=all_merfish_loci, index=all_merfish_loci)\n",
    "n_samples_df = pd.DataFrame(0, columns=all_merfish_loci, index=all_merfish_loci)\n",
    "for cell in tqdm(all_merfish_cells):\n",
    "    cell_dist_mat = cell2distmat[cell]\n",
    "    cell_idx = cell_dist_mat.index.values\n",
    "    distances_df.loc[cell_idx, cell_idx] += cell_dist_mat\n",
    "    n_samples_df.loc[cell_idx, cell_idx] += 1 \n",
    "n_samples_df = n_samples_df.replace(0, np.nan)"
   ]
  },
  {
   "cell_type": "code",
   "execution_count": 25,
   "metadata": {},
   "outputs": [
    {
     "name": "stdout",
     "output_type": "stream",
     "text": [
      "Maximum average distance = 0.3805029723765134\n"
     ]
    }
   ],
   "source": [
    "# Average distance dataframe\n",
    "avg_dist_df = distances_df/n_samples_df\n",
    "print(f'Maximum average distance = {avg_dist_df.max().max()}')\n",
    "avg_prox_df = 1-avg_dist_df"
   ]
  },
  {
   "cell_type": "code",
   "execution_count": 26,
   "metadata": {},
   "outputs": [],
   "source": [
    "# Procedure to sort final_adh_loc and final_rand_loc in genomic order\n",
    "sort_adh = pd.DataFrame({'locus': adh_merfish_loc})\n",
    "sort_adh['chrom'] = sort_adh['locus'].str.split(':', expand=True)[0]\n",
    "sort_adh['chrom'] = sort_adh['chrom'].str.split('chr', expand=True)[1].astype(int)\n",
    "sort_adh['ext'] = sort_adh['locus'].str.split(':', expand=True)[1]\n",
    "sort_adh['start'] = sort_adh['ext'].str.split('-', expand=True)[0].astype(int)\n",
    "sort_adh['end'] = sort_adh['ext'].str.split('-', expand=True)[1].astype(int)\n",
    "sort_adh = sort_adh[['locus','chrom','start','end']]\n",
    "sort_adh = sort_adh.sort_values(['chrom','start','end'])\n",
    "final_adh_loc =  sort_adh['locus'].values\n",
    "sort_rand = pd.DataFrame({'locus': rand_merfish_loc})\n",
    "sort_rand['chrom'] = sort_rand['locus'].str.split(':', expand=True)[0]\n",
    "sort_rand['chrom'] = sort_rand['chrom'].str.split('chr', expand=True)[1].astype(int)\n",
    "sort_rand['ext'] = sort_rand['locus'].str.split(':', expand=True)[1]\n",
    "sort_rand['start'] = sort_rand['ext'].str.split('-', expand=True)[0].astype(int)\n",
    "sort_rand['end'] = sort_rand['ext'].str.split('-', expand=True)[1].astype(int)\n",
    "sort_rand = sort_rand[['locus','chrom','start','end']]\n",
    "sort_rand = sort_rand.sort_values(['chrom','start','end'])\n",
    "final_rand_loc =  sort_rand['locus'].values"
   ]
  },
  {
   "cell_type": "code",
   "execution_count": 27,
   "metadata": {},
   "outputs": [],
   "source": [
    "# Create stacked version of avg_dist_df with metadata on each edge\n",
    "\n",
    "avg_dist_df_stacked = avg_dist_df.stack().to_frame('distance').reset_index()\n",
    "avg_dist_df_stacked.columns = ['probe1', 'probe2', 'distance']\n",
    "# Edge type\n",
    "avg_dist_df_stacked['Type'] = avg_dist_df_stacked.apply(\n",
    "    lambda row: 'intrachromosomal' if (row['probe1'].split(':')[0]==row['probe2'].split(':')[0]) \n",
    "    else'interchromosomal',\n",
    "    axis=1\n",
    ")\n",
    "# Edge group\n",
    "avg_dist_df_stacked['Group'] = avg_dist_df_stacked.apply(\n",
    "    lambda row: 'Active adhesome loci' if ((row['probe1'] in final_adh_loc) & (row['probe2'] in final_adh_loc)) \n",
    "    else ('All active non-adhesome loci' if ((row['probe1'] in final_rand_loc) & (row['probe2'] in final_rand_loc)) \n",
    "         else ''),\n",
    "    axis=1\n",
    ")\n",
    "avg_dist_df_stacked = avg_dist_df_stacked[avg_dist_df_stacked['Group']!='']\n",
    "# Drop self edges\n",
    "avg_dist_df_stacked = avg_dist_df_stacked[avg_dist_df_stacked['probe1']!=avg_dist_df_stacked['probe2']]"
   ]
  },
  {
   "cell_type": "code",
   "execution_count": 28,
   "metadata": {},
   "outputs": [],
   "source": [
    "# Create stacked version of avg_prox_df with metadata on each edge\n",
    "\n",
    "avg_prox_df_stacked = avg_prox_df.stack().to_frame('proximity').reset_index()\n",
    "avg_prox_df_stacked.columns = ['probe1', 'probe2', 'proximity']\n",
    "# Edge type\n",
    "avg_prox_df_stacked['Type'] = avg_prox_df_stacked.apply(\n",
    "    lambda row: 'intrachromosomal' if (row['probe1'].split(':')[0]==row['probe2'].split(':')[0]) \n",
    "    else'interchromosomal',\n",
    "    axis=1\n",
    ")\n",
    "# Edge group\n",
    "avg_prox_df_stacked['Group'] = avg_prox_df_stacked.apply(\n",
    "    lambda row: 'Active adhesome loci' if ((row['probe1'] in final_adh_loc) & (row['probe2'] in final_adh_loc)) \n",
    "    else ('All active non-adhesome loci' if ((row['probe1'] in final_rand_loc) & (row['probe2'] in final_rand_loc)) \n",
    "         else ''),\n",
    "    axis=1\n",
    ")\n",
    "avg_prox_df_stacked = avg_prox_df_stacked[avg_prox_df_stacked['Group']!='']\n",
    "# Drop self edges\n",
    "avg_prox_df_stacked = avg_prox_df_stacked[avg_prox_df_stacked['probe1']!=avg_prox_df_stacked['probe2']]"
   ]
  },
  {
   "cell_type": "code",
   "execution_count": 31,
   "metadata": {},
   "outputs": [
    {
     "data": {
      "image/png": "[encoded data removed]",
      "text/plain": [
       "<Figure size 432x288 with 1 Axes>"
      ]
     },
     "metadata": {
      "needs_background": "light"
     },
     "output_type": "display_data"
    },
    {
     "name": "stdout",
     "output_type": "stream",
     "text": [
      "Wilcoxon Rank-Sums test (blue vs orange):\n",
      "RanksumsResult(statistic=-8.840373664624433, pvalue=9.539900512232384e-19)\n"
     ]
    }
   ],
   "source": [
    "# Plot histogram of MERFISH distances\n",
    "f, ax = plt.subplots()\n",
    "palette ={\"interchromosomal\": \"dodgerblue\", \"intrachromosomal\": \"blue\"}\n",
    "sns.histplot(data=avg_dist_df_stacked[avg_dist_df_stacked['Group']=='Active adhesome loci'], \n",
    "             x='distance', \n",
    "             hue='Type',\n",
    "             palette=palette,\n",
    "             alpha=0.7, \n",
    "             stat='density',\n",
    "             common_norm=True,\n",
    "             bins=np.arange(0.05, 0.4, 0.006),\n",
    "             legend=False,\n",
    "             ax=ax)\n",
    "# sns.move_legend(ax, \"lower right\")\n",
    "palette ={\"interchromosomal\": \"orange\", \"intrachromosomal\": \"red\"}\n",
    "ax = sns.histplot(data=avg_dist_df_stacked[avg_dist_df_stacked['Group']=='All active non-adhesome loci'], \n",
    "             x='distance', \n",
    "             hue='Type',\n",
    "             palette=palette,\n",
    "             alpha=0.7, \n",
    "             stat='density',\n",
    "             common_norm=True,\n",
    "             bins=np.arange(0.05, 0.4, 0.006),\n",
    "             label='All active non-adhesome loci',\n",
    "             ax=ax)\n",
    "ax.legend([\n",
    "    'InterX edges among active adhesome loci', \n",
    "    'IntraX edges among active adhesome loci', \n",
    "    'InterX edges among active non-adhesome loci',\n",
    "    'IntraX edges among active non-adhesome loci'])\n",
    "plt.ylim([0, 22])\n",
    "plt.xlabel('Average Euclidean distance in MERFISH', fontsize=14)\n",
    "plt.ylabel('Density', fontsize=14)\n",
    "# plt.legend(loc='upper right')\n",
    "# plt.savefig(saving_main_dir+f'supp_fig_18.pdf', format='pdf', bbox_inches = 'tight')\n",
    "plt.show()\n",
    "# Wilcoxon Rank-Sums test\n",
    "print('Wilcoxon Rank-Sums test (blue vs orange):')\n",
    "print(ss.ranksums(\n",
    "    avg_dist_df.loc[adh_merfish_loc, adh_merfish_loc].values[np.triu_indices(len(adh_merfish_loc),1)],\n",
    "    avg_dist_df.loc[rand_merfish_loc, rand_merfish_loc].values[np.triu_indices(len(rand_merfish_loc),1)]\n",
    "))"
   ]
  },
  {
   "cell_type": "code",
   "execution_count": 53,
   "metadata": {},
   "outputs": [
    {
     "data": {
      "image/png": "[encoded data removed]",
      "text/plain": [
       "<Figure size 432x288 with 1 Axes>"
      ]
     },
     "metadata": {
      "needs_background": "light"
     },
     "output_type": "display_data"
    },
    {
     "name": "stdout",
     "output_type": "stream",
     "text": [
      "Wilcoxon Rank-Sums test (blue vs orange):\n",
      "RanksumsResult(statistic=8.840373664624433, pvalue=9.539900512232384e-19)\n"
     ]
    }
   ],
   "source": [
    "# Plot histogram of MERFISH proximity\n",
    "f, ax = plt.subplots()\n",
    "palette ={\"interchromosomal\": \"dodgerblue\", \"intrachromosomal\": \"blue\"}\n",
    "sns.histplot(data=avg_prox_df_stacked[avg_prox_df_stacked['Group']=='Active adhesome loci'], \n",
    "             x='proximity', \n",
    "             hue='Type',\n",
    "             palette=palette,\n",
    "             alpha=0.7, \n",
    "             stat='density',\n",
    "             common_norm=True,\n",
    "             bins=np.arange(0.6, 1.01, 0.008),\n",
    "             legend=False,\n",
    "             ax=ax)\n",
    "# sns.move_legend(ax, \"lower right\")\n",
    "palette ={\"interchromosomal\": \"orange\", \"intrachromosomal\": \"red\"}\n",
    "ax = sns.histplot(data=avg_prox_df_stacked[avg_prox_df_stacked['Group']=='All active non-adhesome loci'], \n",
    "             x='proximity', \n",
    "             hue='Type',\n",
    "             palette=palette,\n",
    "             alpha=0.7, \n",
    "             stat='density',\n",
    "             common_norm=True,\n",
    "             bins=np.arange(0.6, 1.01, 0.008),\n",
    "             label='All active non-adhesome loci',\n",
    "             ax=ax)\n",
    "ax.legend([\n",
    "    'InterX edges among active adhesome loci', \n",
    "    'IntraX edges among active adhesome loci', \n",
    "    'InterX edges among active non-adhesome loci',\n",
    "    'IntraX edges among active non-adhesome loci'])\n",
    "plt.ylim([0, 22])\n",
    "plt.xlabel('Average Euclidean proximity in MERFISH', fontsize=14)\n",
    "plt.ylabel('Density', fontsize=14)\n",
    "# plt.legend(loc='upper right')\n",
    "plt.show()\n",
    "# Wilcoxon Rank-Sums test\n",
    "print('Wilcoxon Rank-Sums test (blue vs orange):')\n",
    "print(ss.ranksums(\n",
    "    avg_prox_df.loc[adh_merfish_loc, adh_merfish_loc].values[np.triu_indices(len(adh_merfish_loc),1)],\n",
    "    avg_prox_df.loc[rand_merfish_loc, rand_merfish_loc].values[np.triu_indices(len(rand_merfish_loc),1)]\n",
    "))"
   ]
  },
  {
   "cell_type": "code",
   "execution_count": null,
   "metadata": {},
   "outputs": [],
   "source": []
  }
 ],
 "metadata": {
  "kernelspec": {
   "display_name": "Python 3",
   "language": "python",
   "name": "python3"
  },
  "language_info": {
   "codemirror_mode": {
    "name": "ipython",
    "version": 3
   },
   "file_extension": ".py",
   "mimetype": "text/x-python",
   "name": "python",
   "nbconvert_exporter": "python",
   "pygments_lexer": "ipython3",
   "version": "3.7.4"
  },
  "toc": {
   "base_numbering": 1,
   "nav_menu": {},
   "number_sections": true,
   "sideBar": true,
   "skip_h1_title": false,
   "title_cell": "Table of Contents",
   "title_sidebar": "Contents",
   "toc_cell": false,
   "toc_position": {},
   "toc_section_display": true,
   "toc_window_display": true
  }
 },
 "nbformat": 4,
 "nbformat_minor": 2
}
