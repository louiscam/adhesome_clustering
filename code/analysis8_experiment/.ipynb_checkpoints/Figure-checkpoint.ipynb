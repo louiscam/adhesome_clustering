{
 "cells": [
  {
   "cell_type": "markdown",
   "metadata": {},
   "source": [
    "# Figure 2: Adhesome genes/loci are close in HiC"
   ]
  },
  {
   "cell_type": "code",
   "execution_count": 1,
   "metadata": {
    "code_folding": [
     0
    ]
   },
   "outputs": [
    {
     "data": {
      "text/plain": [
       "<module 'correlation_clustering' from '/home/louiscam/projects/gpcr/code/analysis8_experiment/correlation_clustering.py'>"
      ]
     },
     "execution_count": 1,
     "metadata": {},
     "output_type": "execute_result"
    }
   ],
   "source": [
    "# Import standard libraries\n",
    "import warnings\n",
    "warnings.simplefilter(action='ignore', category=FutureWarning)\n",
    "from importlib import reload\n",
    "import numpy as np\n",
    "import matplotlib as mpl\n",
    "import matplotlib.pyplot as plt\n",
    "from matplotlib_venn import venn2\n",
    "from brokenaxes import brokenaxes\n",
    "from scipy.cluster.hierarchy import dendrogram, linkage, fcluster\n",
    "from sklearn.metrics import adjusted_mutual_info_score\n",
    "import seaborn as sns\n",
    "from scipy import sparse\n",
    "import scipy.stats as ss\n",
    "import csv\n",
    "import pandas as pd\n",
    "import networkx as nx\n",
    "import community\n",
    "import communities as com\n",
    "import pickle\n",
    "from collections import defaultdict\n",
    "import operator\n",
    "from scipy.sparse import csr_matrix\n",
    "import itertools\n",
    "import os.path\n",
    "import math\n",
    "from sklearn.cluster import AgglomerativeClustering\n",
    "from sklearn.decomposition import PCA\n",
    "from sklearn.manifold import TSNE\n",
    "from sklearn.metrics import adjusted_mutual_info_score\n",
    "from networkx.algorithms.community.kclique import k_clique_communities\n",
    "import pybedtools\n",
    "import time\n",
    "from tqdm import tqdm\n",
    "import random\n",
    "import OmicsIntegrator as oi\n",
    "import gseapy\n",
    "from gseapy.plot import barplot, dotplot\n",
    "from ortools.linear_solver import pywraplp\n",
    "# Custom libraries\n",
    "import utils as lu\n",
    "import correlation_clustering as cc\n",
    "# Reload modules in case of modifications\n",
    "reload(lu)\n",
    "reload(cc)"
   ]
  },
  {
   "cell_type": "code",
   "execution_count": 2,
   "metadata": {
    "code_folding": []
   },
   "outputs": [],
   "source": [
    "# Relevant information\n",
    "cell_type = 'IMR90'\n",
    "resol_str = '250kb'\n",
    "resol = 250000\n",
    "quality = 'MAPQGE30'\n",
    "norm = 'GWKR'"
   ]
  },
  {
   "cell_type": "code",
   "execution_count": 3,
   "metadata": {},
   "outputs": [],
   "source": [
    "# Directory of genome data\n",
    "dir_genome = '/home/louiscam/projects/gpcr/data/genome_data/'\n",
    "# Directory of adhesome data\n",
    "dir_adhesome = '/home/louiscam/projects/gpcr/data/adhesome_data/'\n",
    "# Directory of processed HiC\n",
    "dir_processed_hic = f'/home/louiscam/projects/gpcr/save/processed_hic_data/processed_hic_data_IMR90/final_BP250000_intraKR_inter{norm}/'\n",
    "# Directory of epigenomic data\n",
    "epigenome_dir = '/home/louiscam/projects/gpcr/data/regulatory_data/regulatory_data_IMR90/'\n",
    "processed_epigenome_data_dir = '/home/louiscam/projects/gpcr/save/processed_regulatory_marks/processed_epigenome_data_IMR90/'\n",
    "# Saving directory\n",
    "saving_dir = '/home/louiscam/projects/gpcr/save/figures/'\n",
    "saving_main_dir = '/home/louiscam/projects/gpcr/save/figures_main/'\n",
    "saving_supp_dir = '/home/louiscam/projects/gpcr/save/figures_supplement/'"
   ]
  },
  {
   "cell_type": "markdown",
   "metadata": {},
   "source": [
    "## Load gene data"
   ]
  },
  {
   "cell_type": "code",
   "execution_count": 4,
   "metadata": {},
   "outputs": [],
   "source": [
    "# Load mapping between loci and adhesome genes\n",
    "with open(saving_dir+'locus2gene.pkl', 'rb') as f:\n",
    "    locus2gene = pickle.load(f)\n",
    "with open(saving_dir+'gene2locus.pkl', 'rb') as f:\n",
    "    gene2locus = pickle.load(f)"
   ]
  },
  {
   "cell_type": "code",
   "execution_count": 5,
   "metadata": {},
   "outputs": [],
   "source": [
    "# Load mapping between HGNC and Ensembl ID\n",
    "df = pd.read_csv(dir_genome+'hgnc2ensembl.csv', sep='\\t', header=0)\n",
    "df = df[['Approved symbol', 'Ensembl ID(supplied by Ensembl)']]\n",
    "df.columns = ['hgnc', 'ensembl']\n",
    "df.loc[:, 'hgnc'] = df['hgnc'].str.upper()\n",
    "hgnc2ensembl = {df.loc[i, 'hgnc']: df.loc[i, 'ensembl'] for i in df.index}"
   ]
  },
  {
   "cell_type": "code",
   "execution_count": 6,
   "metadata": {},
   "outputs": [],
   "source": [
    "# Active/inactive genes (from clustering)\n",
    "with open(saving_dir+'active_genes.pkl', 'rb') as f:\n",
    "    active_genes = pickle.load(f)\n",
    "with open(saving_dir+'inactive_genes.pkl', 'rb') as f:\n",
    "    inactive_genes = pickle.load(f)\n",
    "\n",
    "# Define active/inactive loci as the loci of active/inactive genes\n",
    "with open(saving_dir+'gene2locus.pkl', 'rb') as f:\n",
    "    gene2locus = pickle.load(f)\n",
    "all_active_loci = np.unique(list(itertools.chain.from_iterable([gene2locus[g] for g in active_genes])))"
   ]
  },
  {
   "cell_type": "code",
   "execution_count": 7,
   "metadata": {},
   "outputs": [],
   "source": [
    "# Location of adhesome genes\n",
    "gene_locations_filename = dir_genome+'chrom_hg19.loc_canonical'\n",
    "gene_id_filename = dir_genome+'chrom_hg19.name'\n",
    "df_loc0 = pd.read_csv(gene_locations_filename, sep = '\\t', header = 0)\n",
    "\n",
    "# Load correspondance between UCSC gene name and HGNC gene name\n",
    "df_name0 = pd.read_csv(gene_id_filename, sep = '\\t', header = 0,dtype={\"rfamAcc\": str, \"tRnaName\": str})\n",
    "# Only keep UCSC name and geneSymbol\n",
    "df_name0 = df_name0[['#kgID','geneSymbol']]\n",
    "df_name0.columns = ['transcript','geneSymbol']\n",
    "df_name0['geneSymbol'] = df_name0['geneSymbol'].str.upper()\n",
    "\n",
    "# Merge df_loc0 and df_name0\n",
    "df_loc1 = pd.merge(df_name0, df_loc0, on=['transcript'])\n",
    "\n",
    "# Filter out irregular chromosomes\n",
    "keep_chrom = ['chr'+str(i) for i in np.arange(1,23)]+['chrX', 'chrY']\n",
    "df_loc2 = df_loc1[df_loc1['#chrom'].isin(keep_chrom)]\n",
    "df_loc2 = df_loc2.sort_values(by=['geneSymbol'])\n",
    "\n",
    "# Remove ribosomal RNA (may be able to remove more irrelevant things, how?)\n",
    "df_loc3 = df_loc2[~df_loc2['geneSymbol'].str.contains('RRNA')]\n",
    "\n",
    "# Drop duplicates\n",
    "df_loc = df_loc3.drop_duplicates(subset=['geneSymbol'], keep='first')\n",
    "df_loc['ensembl_id'] = df_loc['geneSymbol'].apply(\n",
    "    lambda g: hgnc2ensembl[g] if (g in hgnc2ensembl.keys()) else np.nan\n",
    ")\n",
    "df_loc = df_loc.dropna()"
   ]
  },
  {
   "cell_type": "markdown",
   "metadata": {},
   "source": [
    "## Active adhesome genes"
   ]
  },
  {
   "cell_type": "code",
   "execution_count": 8,
   "metadata": {},
   "outputs": [],
   "source": [
    "# Adhesome genes\n",
    "with open(saving_dir+'active_adhesome_genes.pkl', 'rb') as f:\n",
    "    active_adhesome_genes = pickle.load(f)\n",
    "    n_active_adhesome_genes = len(active_adhesome_genes)\n",
    "with open(saving_dir+'inactive_adhesome_genes.pkl', 'rb') as f:\n",
    "    inactive_adhesome_genes = pickle.load(f)\n",
    "with open(saving_dir+'adhesome_chr_loci.pkl', 'rb') as f:\n",
    "    adhesome_chr_loci = pickle.load(f)\n",
    "\n",
    "# Define active adhesome loci as the loci of active adhesome genes (remove from the active set any gene in the\n",
    "# intersection)\n",
    "all_adhesome_loci = adhesome_chr_loci['locus_id'].unique()\n",
    "active_adhesome_loci = adhesome_chr_loci[\n",
    "    adhesome_chr_loci['gene'].isin(active_adhesome_genes)]['locus_id'].unique()\n",
    "inactive_adhesome_loci = adhesome_chr_loci[\n",
    "    adhesome_chr_loci['gene'].isin(inactive_adhesome_genes)]['locus_id'].unique()\n",
    "intersection = set(active_adhesome_loci).intersection(set(inactive_adhesome_loci))\n",
    "active_adhesome_loci = np.array(list(set(active_adhesome_loci)-set(inactive_adhesome_loci)))\n",
    "# Redefine activity column of locus\n",
    "adhesome_chr_loci['active'] = adhesome_chr_loci['locus_id'].isin(active_adhesome_loci)"
   ]
  },
  {
   "cell_type": "code",
   "execution_count": 13,
   "metadata": {},
   "outputs": [],
   "source": [
    "# Genes in the core adhesome network (LAS+MERFISH+Reg)\n",
    "with open(saving_dir+'selected_genes_merfish_las.pkl', 'rb') as f:\n",
    "     selected_genes_core = pickle.load(f)"
   ]
  },
  {
   "cell_type": "code",
   "execution_count": 14,
   "metadata": {},
   "outputs": [
    {
     "data": {
      "text/html": [
       "<div>\n",
       "<style scoped>\n",
       "    .dataframe tbody tr th:only-of-type {\n",
       "        vertical-align: middle;\n",
       "    }\n",
       "\n",
       "    .dataframe tbody tr th {\n",
       "        vertical-align: top;\n",
       "    }\n",
       "\n",
       "    .dataframe thead th {\n",
       "        text-align: right;\n",
       "    }\n",
       "</style>\n",
       "<table border=\"1\" class=\"dataframe\">\n",
       "  <thead>\n",
       "    <tr style=\"text-align: right;\">\n",
       "      <th></th>\n",
       "      <th>ensembl_id</th>\n",
       "      <th>geneSymbol</th>\n",
       "      <th>#chrom</th>\n",
       "      <th>chromStart</th>\n",
       "      <th>chromEnd</th>\n",
       "      <th>core_subnetwork</th>\n",
       "    </tr>\n",
       "  </thead>\n",
       "  <tbody>\n",
       "    <tr>\n",
       "      <th>0</th>\n",
       "      <td>ENSG00000136754</td>\n",
       "      <td>ABI1</td>\n",
       "      <td>chr10</td>\n",
       "      <td>27035524</td>\n",
       "      <td>27150016</td>\n",
       "      <td>False</td>\n",
       "    </tr>\n",
       "    <tr>\n",
       "      <th>1</th>\n",
       "      <td>ENSG00000138443</td>\n",
       "      <td>ABI2</td>\n",
       "      <td>chr2</td>\n",
       "      <td>204193002</td>\n",
       "      <td>204296892</td>\n",
       "      <td>False</td>\n",
       "    </tr>\n",
       "    <tr>\n",
       "      <th>2</th>\n",
       "      <td>ENSG00000097007</td>\n",
       "      <td>ABL1</td>\n",
       "      <td>chr9</td>\n",
       "      <td>133589267</td>\n",
       "      <td>133763062</td>\n",
       "      <td>False</td>\n",
       "    </tr>\n",
       "    <tr>\n",
       "      <th>3</th>\n",
       "      <td>ENSG00000075624</td>\n",
       "      <td>ACTB</td>\n",
       "      <td>chr7</td>\n",
       "      <td>5566778</td>\n",
       "      <td>5570232</td>\n",
       "      <td>False</td>\n",
       "    </tr>\n",
       "    <tr>\n",
       "      <th>4</th>\n",
       "      <td>ENSG00000072110</td>\n",
       "      <td>ACTN1</td>\n",
       "      <td>chr14</td>\n",
       "      <td>69340839</td>\n",
       "      <td>69446083</td>\n",
       "      <td>False</td>\n",
       "    </tr>\n",
       "  </tbody>\n",
       "</table>\n",
       "</div>"
      ],
      "text/plain": [
       "        ensembl_id geneSymbol #chrom  chromStart   chromEnd  core_subnetwork\n",
       "0  ENSG00000136754       ABI1  chr10    27035524   27150016            False\n",
       "1  ENSG00000138443       ABI2   chr2   204193002  204296892            False\n",
       "2  ENSG00000097007       ABL1   chr9   133589267  133763062            False\n",
       "3  ENSG00000075624       ACTB   chr7     5566778    5570232            False\n",
       "4  ENSG00000072110      ACTN1  chr14    69340839   69446083            False"
      ]
     },
     "execution_count": 14,
     "metadata": {},
     "output_type": "execute_result"
    }
   ],
   "source": [
    "# Adhesome table\n",
    "df_loc_adhesome = df_loc[df_loc['geneSymbol'].isin(active_adhesome_genes)]\n",
    "df_loc_adhesome = df_loc_adhesome.reset_index(drop=True)\n",
    "df_loc_adhesome.loc[:, 'core_subnetwork'] = df_loc_adhesome['geneSymbol'].isin(selected_genes_core)\n",
    "df_loc_adhesome = df_loc_adhesome[\n",
    "    ['ensembl_id', 'geneSymbol', '#chrom', 'chromStart', 'chromEnd', 'core_subnetwork']\n",
    "]\n",
    "df_loc_adhesome.to_csv(saving_dir+'experiment/'+'location_adhesome_genes.csv')\n",
    "df_loc_adhesome.head()"
   ]
  },
  {
   "cell_type": "code",
   "execution_count": null,
   "metadata": {},
   "outputs": [],
   "source": []
  },
  {
   "cell_type": "markdown",
   "metadata": {},
   "source": [
    "## Genes from other pathways"
   ]
  },
  {
   "cell_type": "code",
   "execution_count": 11,
   "metadata": {},
   "outputs": [],
   "source": [
    "# Load pathway genes\n",
    "file = open(dir_genome+'KEGG_2021_Human.txt', 'r')\n",
    "Lines = file.readlines()\n",
    "\n",
    "pathway_dict = {}\n",
    "for line in Lines:\n",
    "    k, v = line.split('\\t\\t')\n",
    "    v = v.split('\\t')[:-1]\n",
    "    pathway_dict[k] = v"
   ]
  },
  {
   "cell_type": "markdown",
   "metadata": {},
   "source": [
    "## Random genes (active, same chromosome)"
   ]
  },
  {
   "cell_type": "code",
   "execution_count": 12,
   "metadata": {},
   "outputs": [
    {
     "data": {
      "text/plain": [
       "268"
      ]
     },
     "execution_count": 12,
     "metadata": {},
     "output_type": "execute_result"
    }
   ],
   "source": [
    "# Import list of all blacklisted loci\n",
    "with open(dir_processed_hic+f'blacklist_IMR90_{norm}.pickle', 'rb') as f:\n",
    "    blacklist_list = pickle.load(f)\n",
    "# Select non-blacklisted adhesome loci\n",
    "selected_active_adhesome_loci = np.array(list(set(active_adhesome_loci)-set(blacklist_list)))\n",
    "len(selected_active_adhesome_loci)"
   ]
  },
  {
   "cell_type": "code",
   "execution_count": 13,
   "metadata": {},
   "outputs": [],
   "source": [
    "# Create a dictionary of all non-blacklisted non-adhesome active for each chromosome\n",
    "all_active_loci_without_adhesome = list(set(all_active_loci)\n",
    "                                        -set(active_adhesome_loci)\n",
    "                                        -set(blacklist_list))\n",
    "active_loci_pool = {chrom: [locus for locus in all_active_loci_without_adhesome \n",
    "                            if (int(locus.split('_')[1])==chrom)] \n",
    "                    for chrom in np.arange(1,22+1,1)}"
   ]
  },
  {
   "cell_type": "code",
   "execution_count": 14,
   "metadata": {},
   "outputs": [],
   "source": [
    "# Number of adhesome loci per chromosome\n",
    "number_active_adhesome_per_chrom = {\n",
    "    chrom: len([locus for locus in selected_active_adhesome_loci if (int(locus.split('_')[1])==chrom)])\n",
    "    for chrom in np.arange(1,22+1,1)\n",
    "}"
   ]
  },
  {
   "cell_type": "code",
   "execution_count": 15,
   "metadata": {},
   "outputs": [],
   "source": [
    "# Random non-adhesome active loci\n",
    "random.seed(13)\n",
    "n_reps = 320\n",
    "random_dict = {}\n",
    "for i in range(n_reps):\n",
    "    random_active_non_adhesome_loci = list(\n",
    "        itertools.chain.from_iterable(\n",
    "            [random.sample(active_loci_pool[chrom],number_active_adhesome_per_chrom[chrom]) \n",
    "             for chrom in np.arange(1,22+1,1)]\n",
    "        )\n",
    "    )\n",
    "    random_dict[f'random_{i}'] = [locus2gene[loc][0] for loc in random_active_non_adhesome_loci]\n",
    "\n",
    "with open(saving_dir+'experiment/'+'random_active_non_adhesome_loci.pkl', 'wb') as f:\n",
    "    pickle.dump(random_active_non_adhesome_loci, f)"
   ]
  },
  {
   "cell_type": "markdown",
   "metadata": {},
   "source": [
    "## Function to retrieve Hi-C proximity"
   ]
  },
  {
   "cell_type": "code",
   "execution_count": 16,
   "metadata": {},
   "outputs": [],
   "source": [
    "def retrieve_average_HiC_contact(dir_processed_hic, gene_list, gene2locus):\n",
    "\n",
    "    loci_list = sorted(\n",
    "        itertools.chain.from_iterable(\n",
    "            [gene2locus[g] for g in gene_list if (g in gene2locus.keys())]\n",
    "        )\n",
    "    )\n",
    "    out = []\n",
    "    # Loop over all chromosome pairs and fill gene_contacts_df\n",
    "    chr_list = np.arange(1,23,1)\n",
    "    chr_pairs = list(itertools.combinations(chr_list, 2))\n",
    "    for chr1, chr2 in chr_pairs:\n",
    "        # Select loci on chr1 and chr2\n",
    "        loci_chr1 = [locus for locus in loci_list if ('chr_'+str(chr1)+'_') in locus]\n",
    "        loci_chr2 = [locus for locus in loci_list if ('chr_'+str(chr2)+'_') in locus]\n",
    "        # Load HiC data for this chromosome pair\n",
    "        processed_hic_filename = 'hic_'+'chr'+str(chr1)+'_'+'chr'+str(chr2)+'_norm1_filter3'+'.pkl'\n",
    "        with open(dir_processed_hic+processed_hic_filename, 'rb') as f:\n",
    "            hic_chpair_df = pickle.load(f)\n",
    "        # Fill in corresponding submatrix of gene_contacts_df by sum of Hi-C contacts across all gene loci\n",
    "        locus_id_pairs = itertools.product(loci_chr1,loci_chr2)\n",
    "        for locus1_id, locus2_id in locus_id_pairs:\n",
    "            locus1 = int(locus1_id.split('_')[3])\n",
    "            locus2 = int(locus2_id.split('_')[3])\n",
    "            out.append(hic_chpair_df.loc[locus1,locus2])\n",
    "    \n",
    "    out = np.mean(out)\n",
    "    return out"
   ]
  },
  {
   "cell_type": "markdown",
   "metadata": {},
   "source": [
    "## Choose negative control pathway"
   ]
  },
  {
   "cell_type": "code",
   "execution_count": 17,
   "metadata": {},
   "outputs": [],
   "source": [
    "# Compute average Hi-C of adhesome\n",
    "adhesome_avg_hic = retrieve_average_HiC_contact(dir_processed_hic, active_adhesome_genes, gene2locus)"
   ]
  },
  {
   "cell_type": "code",
   "execution_count": 18,
   "metadata": {
    "scrolled": true
   },
   "outputs": [
    {
     "name": "stderr",
     "output_type": "stream",
     "text": [
      "100%|██████████| 320/320 [01:31<00:00,  3.51it/s]\n"
     ]
    }
   ],
   "source": [
    "# Compute average Hi-C for all pathways\n",
    "pathway_hic_dict = {}\n",
    "for k, v in tqdm(pathway_dict.items()):\n",
    "    pathway_hic_dict[k] = retrieve_average_HiC_contact(dir_processed_hic, v, gene2locus)"
   ]
  },
  {
   "cell_type": "code",
   "execution_count": 19,
   "metadata": {},
   "outputs": [
    {
     "data": {
      "image/png": "[encoded data removed]",
      "text/plain": [
       "<Figure size 432x288 with 1 Axes>"
      ]
     },
     "metadata": {
      "needs_background": "light"
     },
     "output_type": "display_data"
    }
   ],
   "source": [
    "# Show distribution\n",
    "values = list(pathway_hic_dict.values())\n",
    "plt.figure()\n",
    "plt.hist(values, bins=50)\n",
    "plt.vlines(x=adhesome_avg_hic, ymin=0, ymax=35, color='red', linestyle='dashed', label='Adhesome')\n",
    "plt.legend(loc='upper right')\n",
    "plt.xlabel('Hi-C')\n",
    "plt.ylabel('Count')\n",
    "plt.show()"
   ]
  },
  {
   "cell_type": "code",
   "execution_count": 20,
   "metadata": {},
   "outputs": [
    {
     "data": {
      "text/html": [
       "<div>\n",
       "<style scoped>\n",
       "    .dataframe tbody tr th:only-of-type {\n",
       "        vertical-align: middle;\n",
       "    }\n",
       "\n",
       "    .dataframe tbody tr th {\n",
       "        vertical-align: top;\n",
       "    }\n",
       "\n",
       "    .dataframe thead th {\n",
       "        text-align: right;\n",
       "    }\n",
       "</style>\n",
       "<table border=\"1\" class=\"dataframe\">\n",
       "  <thead>\n",
       "    <tr style=\"text-align: right;\">\n",
       "      <th></th>\n",
       "      <th>hic</th>\n",
       "      <th>genes</th>\n",
       "      <th>n_genes</th>\n",
       "    </tr>\n",
       "    <tr>\n",
       "      <th>pathway</th>\n",
       "      <th></th>\n",
       "      <th></th>\n",
       "      <th></th>\n",
       "    </tr>\n",
       "  </thead>\n",
       "  <tbody>\n",
       "    <tr>\n",
       "      <th>Sulfur relay system</th>\n",
       "      <td>1.886701</td>\n",
       "      <td>[NFS1, CTU2, MOCS3, CTU1, TST, MPST, URM1, MOCS2]</td>\n",
       "      <td>8</td>\n",
       "    </tr>\n",
       "    <tr>\n",
       "      <th>Neomycin, kanamycin and gentamicin biosynthesis</th>\n",
       "      <td>1.569319</td>\n",
       "      <td>[HKDC1, HK1, HK3, GCK, HK2]</td>\n",
       "      <td>5</td>\n",
       "    </tr>\n",
       "    <tr>\n",
       "      <th>Other glycan degradation</th>\n",
       "      <td>1.459461</td>\n",
       "      <td>[FUCA1, MANBA, GBA, HEXA, FUCA2, HEXB, HEXD, G...</td>\n",
       "      <td>18</td>\n",
       "    </tr>\n",
       "    <tr>\n",
       "      <th>Bladder cancer</th>\n",
       "      <td>1.381914</td>\n",
       "      <td>[EGF, MAP2K2, CDKN2A, DAPK2, MMP1, DAPK1, MAP2...</td>\n",
       "      <td>41</td>\n",
       "    </tr>\n",
       "    <tr>\n",
       "      <th>RNA polymerase</th>\n",
       "      <td>1.362318</td>\n",
       "      <td>[POLR2J2, POLR2J3, POLR3GL, POLR3A, POLR3B, PO...</td>\n",
       "      <td>31</td>\n",
       "    </tr>\n",
       "  </tbody>\n",
       "</table>\n",
       "</div>"
      ],
      "text/plain": [
       "                                                      hic  \\\n",
       "pathway                                                     \n",
       "Sulfur relay system                              1.886701   \n",
       "Neomycin, kanamycin and gentamicin biosynthesis  1.569319   \n",
       "Other glycan degradation                         1.459461   \n",
       "Bladder cancer                                   1.381914   \n",
       "RNA polymerase                                   1.362318   \n",
       "\n",
       "                                                                                             genes  \\\n",
       "pathway                                                                                              \n",
       "Sulfur relay system                              [NFS1, CTU2, MOCS3, CTU1, TST, MPST, URM1, MOCS2]   \n",
       "Neomycin, kanamycin and gentamicin biosynthesis                        [HKDC1, HK1, HK3, GCK, HK2]   \n",
       "Other glycan degradation                         [FUCA1, MANBA, GBA, HEXA, FUCA2, HEXB, HEXD, G...   \n",
       "Bladder cancer                                   [EGF, MAP2K2, CDKN2A, DAPK2, MMP1, DAPK1, MAP2...   \n",
       "RNA polymerase                                   [POLR2J2, POLR2J3, POLR3GL, POLR3A, POLR3B, PO...   \n",
       "\n",
       "                                                 n_genes  \n",
       "pathway                                                   \n",
       "Sulfur relay system                                    8  \n",
       "Neomycin, kanamycin and gentamicin biosynthesis        5  \n",
       "Other glycan degradation                              18  \n",
       "Bladder cancer                                        41  \n",
       "RNA polymerase                                        31  "
      ]
     },
     "execution_count": 20,
     "metadata": {},
     "output_type": "execute_result"
    }
   ],
   "source": [
    "# Characterize pathways\n",
    "pathway_hic_df = pd.DataFrame({'pathway': pathway_hic_dict.keys(), 'hic': pathway_hic_dict.values()})\n",
    "pathway_hic_df = pathway_hic_df.reset_index(drop=True)\n",
    "pathway_hic_df = pathway_hic_df.set_index('pathway')\n",
    "\n",
    "pathway_genes_df = pd.DataFrame({'pathway': pathway_dict.keys(), 'genes': pathway_dict.values()})\n",
    "pathway_genes_df = pathway_genes_df.reset_index(drop=True)\n",
    "pathway_genes_df = pathway_genes_df.set_index('pathway')\n",
    "\n",
    "pathway_df = pd.concat([pathway_hic_df, pathway_genes_df], axis=1)\n",
    "pathway_df['n_genes'] = pathway_df['genes'].apply(lambda ls: len(ls))\n",
    "\n",
    "pathway_df = pathway_df.sort_values('hic', ascending=False)\n",
    "pathway_df.head()"
   ]
  },
  {
   "cell_type": "code",
   "execution_count": 23,
   "metadata": {},
   "outputs": [
    {
     "data": {
      "image/png": "[encoded data removed]",
      "text/plain": [
       "<Figure size 432x288 with 1 Axes>"
      ]
     },
     "metadata": {
      "needs_background": "light"
     },
     "output_type": "display_data"
    }
   ],
   "source": [
    "# Visualize pathways\n",
    "plt.figure()\n",
    "sns.scatterplot(\n",
    "    data=pathway_df,\n",
    "    x='hic',\n",
    "    y='n_genes'\n",
    ")\n",
    "plt.scatter(x=adhesome_avg_hic, y=n_active_adhesome_genes, color='r', label='Adhesome')\n",
    "plt.legend(loc='upper right')\n",
    "plt.xlabel('Hi-C')\n",
    "plt.ylabel('Number of genes')\n",
    "plt.show()"
   ]
  },
  {
   "cell_type": "code",
   "execution_count": 24,
   "metadata": {},
   "outputs": [],
   "source": [
    "# Select pathway\n",
    "pathway_df[(pathway_df['hic']<1) & (pathway_df['n_genes']>200)]\n",
    "selected_pathway = 'cAMP signaling pathway'"
   ]
  },
  {
   "cell_type": "code",
   "execution_count": 27,
   "metadata": {},
   "outputs": [
    {
     "data": {
      "text/html": [
       "<div>\n",
       "<style scoped>\n",
       "    .dataframe tbody tr th:only-of-type {\n",
       "        vertical-align: middle;\n",
       "    }\n",
       "\n",
       "    .dataframe tbody tr th {\n",
       "        vertical-align: top;\n",
       "    }\n",
       "\n",
       "    .dataframe thead th {\n",
       "        text-align: right;\n",
       "    }\n",
       "</style>\n",
       "<table border=\"1\" class=\"dataframe\">\n",
       "  <thead>\n",
       "    <tr style=\"text-align: right;\">\n",
       "      <th></th>\n",
       "      <th>ensembl_id</th>\n",
       "      <th>geneSymbol</th>\n",
       "      <th>#chrom</th>\n",
       "      <th>chromStart</th>\n",
       "      <th>chromEnd</th>\n",
       "    </tr>\n",
       "  </thead>\n",
       "  <tbody>\n",
       "    <tr>\n",
       "      <th>0</th>\n",
       "      <td>ENSG00000125257</td>\n",
       "      <td>ABCC4</td>\n",
       "      <td>chr13</td>\n",
       "      <td>95672082</td>\n",
       "      <td>95953687</td>\n",
       "    </tr>\n",
       "    <tr>\n",
       "      <th>1</th>\n",
       "      <td>ENSG00000161533</td>\n",
       "      <td>ACOX1</td>\n",
       "      <td>chr17</td>\n",
       "      <td>73937588</td>\n",
       "      <td>73975515</td>\n",
       "    </tr>\n",
       "    <tr>\n",
       "      <th>2</th>\n",
       "      <td>ENSG00000087008</td>\n",
       "      <td>ACOX3</td>\n",
       "      <td>chr4</td>\n",
       "      <td>8368008</td>\n",
       "      <td>8442452</td>\n",
       "    </tr>\n",
       "    <tr>\n",
       "      <th>3</th>\n",
       "      <td>ENSG00000164742</td>\n",
       "      <td>ADCY1</td>\n",
       "      <td>chr7</td>\n",
       "      <td>45614124</td>\n",
       "      <td>45762714</td>\n",
       "    </tr>\n",
       "    <tr>\n",
       "      <th>4</th>\n",
       "      <td>ENSG00000143199</td>\n",
       "      <td>ADCY10</td>\n",
       "      <td>chr1</td>\n",
       "      <td>167778624</td>\n",
       "      <td>167883453</td>\n",
       "    </tr>\n",
       "  </tbody>\n",
       "</table>\n",
       "</div>"
      ],
      "text/plain": [
       "        ensembl_id geneSymbol #chrom  chromStart   chromEnd\n",
       "0  ENSG00000125257      ABCC4  chr13    95672082   95953687\n",
       "1  ENSG00000161533      ACOX1  chr17    73937588   73975515\n",
       "2  ENSG00000087008      ACOX3   chr4     8368008    8442452\n",
       "3  ENSG00000164742      ADCY1   chr7    45614124   45762714\n",
       "4  ENSG00000143199     ADCY10   chr1   167778624  167883453"
      ]
     },
     "execution_count": 27,
     "metadata": {},
     "output_type": "execute_result"
    }
   ],
   "source": [
    "# Characterize genes in the selected pathway\n",
    "df_loc_pathway = df_loc[df_loc['geneSymbol'].isin(pathway_dict[selected_pathway])]\n",
    "df_loc_pathway = df_loc_pathway.reset_index(drop=True)\n",
    "df_loc_pathway = df_loc_pathway[['ensembl_id', 'geneSymbol', '#chrom', 'chromStart', 'chromEnd']]\n",
    "df_loc_pathway.to_csv(saving_dir+'experiment/'+'location_pathway_genes.csv')\n",
    "df_loc_pathway.head()"
   ]
  },
  {
   "cell_type": "code",
   "execution_count": 30,
   "metadata": {},
   "outputs": [],
   "source": [
    "df_loc_pathway.to_csv(saving_dir+'experiment/'+'location_pathway_genes.csv')\n",
    "df_loc_adhesome.to_csv(saving_dir+'experiment/'+'location_adhesome_genes.csv')"
   ]
  },
  {
   "cell_type": "markdown",
   "metadata": {},
   "source": [
    "## Choose negative control random"
   ]
  },
  {
   "cell_type": "code",
   "execution_count": 28,
   "metadata": {},
   "outputs": [],
   "source": [
    "# Compute average Hi-C of adhesome\n",
    "adhesome_avg_hic = retrieve_average_HiC_contact(dir_processed_hic, active_adhesome_genes, gene2locus)"
   ]
  },
  {
   "cell_type": "code",
   "execution_count": 29,
   "metadata": {
    "scrolled": true
   },
   "outputs": [
    {
     "name": "stderr",
     "output_type": "stream",
     "text": [
      "100%|██████████| 320/320 [05:42<00:00,  1.07s/it]\n"
     ]
    }
   ],
   "source": [
    "# Compute average Hi-C for all random sets\n",
    "random_hic_dict = {}\n",
    "for k, v in tqdm(random_dict.items()):\n",
    "    random_hic_dict[k] = retrieve_average_HiC_contact(dir_processed_hic, v, gene2locus)"
   ]
  },
  {
   "cell_type": "code",
   "execution_count": 31,
   "metadata": {},
   "outputs": [
    {
     "data": {
      "image/png": "[encoded data removed]",
      "text/plain": [
       "<Figure size 432x288 with 1 Axes>"
      ]
     },
     "metadata": {
      "needs_background": "light"
     },
     "output_type": "display_data"
    }
   ],
   "source": [
    "# Show distribution\n",
    "values = list(random_hic_dict.values())\n",
    "plt.figure()\n",
    "plt.hist(values, bins=50)\n",
    "plt.vlines(x=adhesome_avg_hic, ymin=0, ymax=35, color='red', linestyle='dashed', label='Adhesome')\n",
    "plt.legend(loc='upper right')\n",
    "plt.xlabel('Hi-C')\n",
    "plt.ylabel('Count')\n",
    "plt.show()"
   ]
  },
  {
   "cell_type": "code",
   "execution_count": 32,
   "metadata": {},
   "outputs": [
    {
     "data": {
      "text/html": [
       "<div>\n",
       "<style scoped>\n",
       "    .dataframe tbody tr th:only-of-type {\n",
       "        vertical-align: middle;\n",
       "    }\n",
       "\n",
       "    .dataframe tbody tr th {\n",
       "        vertical-align: top;\n",
       "    }\n",
       "\n",
       "    .dataframe thead th {\n",
       "        text-align: right;\n",
       "    }\n",
       "</style>\n",
       "<table border=\"1\" class=\"dataframe\">\n",
       "  <thead>\n",
       "    <tr style=\"text-align: right;\">\n",
       "      <th></th>\n",
       "      <th>hic</th>\n",
       "      <th>genes</th>\n",
       "      <th>n_genes</th>\n",
       "    </tr>\n",
       "    <tr>\n",
       "      <th>pathway</th>\n",
       "      <th></th>\n",
       "      <th></th>\n",
       "      <th></th>\n",
       "    </tr>\n",
       "  </thead>\n",
       "  <tbody>\n",
       "    <tr>\n",
       "      <th>random_226</th>\n",
       "      <td>0.862930</td>\n",
       "      <td>[C1ORF180, NEGR1, KHDRBS1, COL24A1, KAZN, AHDC...</td>\n",
       "      <td>268</td>\n",
       "    </tr>\n",
       "    <tr>\n",
       "      <th>random_247</th>\n",
       "      <td>0.867673</td>\n",
       "      <td>[CACHD1, BC042048, C1ORF111, HSD52, C1ORF220, ...</td>\n",
       "      <td>268</td>\n",
       "    </tr>\n",
       "    <tr>\n",
       "      <th>random_86</th>\n",
       "      <td>0.869196</td>\n",
       "      <td>[BTG2, FMO1, CREG1, C1QA, LEPR, C1ORF115, AK12...</td>\n",
       "      <td>268</td>\n",
       "    </tr>\n",
       "    <tr>\n",
       "      <th>random_14</th>\n",
       "      <td>0.871073</td>\n",
       "      <td>[C1ORF122, DQ571491, AIDA, IL12RB2, GORAB, DUS...</td>\n",
       "      <td>268</td>\n",
       "    </tr>\n",
       "    <tr>\n",
       "      <th>random_71</th>\n",
       "      <td>0.873347</td>\n",
       "      <td>[COLGALT2, LAPTM5, LOC100129620, GNG4, LOC6437...</td>\n",
       "      <td>268</td>\n",
       "    </tr>\n",
       "  </tbody>\n",
       "</table>\n",
       "</div>"
      ],
      "text/plain": [
       "                 hic                                              genes  \\\n",
       "pathway                                                                   \n",
       "random_226  0.862930  [C1ORF180, NEGR1, KHDRBS1, COL24A1, KAZN, AHDC...   \n",
       "random_247  0.867673  [CACHD1, BC042048, C1ORF111, HSD52, C1ORF220, ...   \n",
       "random_86   0.869196  [BTG2, FMO1, CREG1, C1QA, LEPR, C1ORF115, AK12...   \n",
       "random_14   0.871073  [C1ORF122, DQ571491, AIDA, IL12RB2, GORAB, DUS...   \n",
       "random_71   0.873347  [COLGALT2, LAPTM5, LOC100129620, GNG4, LOC6437...   \n",
       "\n",
       "            n_genes  \n",
       "pathway              \n",
       "random_226      268  \n",
       "random_247      268  \n",
       "random_86       268  \n",
       "random_14       268  \n",
       "random_71       268  "
      ]
     },
     "execution_count": 32,
     "metadata": {},
     "output_type": "execute_result"
    }
   ],
   "source": [
    "# Characterize random sets\n",
    "random_hic_df = pd.DataFrame({'pathway': random_hic_dict.keys(), 'hic': random_hic_dict.values()})\n",
    "random_hic_df = random_hic_df.sort_values('hic', ascending=False)\n",
    "random_hic_df = random_hic_df.reset_index(drop=True)\n",
    "random_hic_df = random_hic_df.set_index('pathway')\n",
    "\n",
    "random_genes_df = pd.DataFrame({'pathway': random_dict.keys(), 'genes': random_dict.values()})\n",
    "random_genes_df = random_genes_df.reset_index(drop=True)\n",
    "random_genes_df = random_genes_df.set_index('pathway')\n",
    "\n",
    "random_df = pd.concat([random_hic_df, random_genes_df], axis=1)\n",
    "random_df['n_genes'] = random_df['genes'].apply(lambda ls: len(ls))\n",
    "\n",
    "random_df = random_df.sort_values('hic', ascending=True)\n",
    "random_df.head()"
   ]
  },
  {
   "cell_type": "code",
   "execution_count": 33,
   "metadata": {},
   "outputs": [],
   "source": [
    "# Select random gene set\n",
    "selected_random = random_df.index[0]"
   ]
  },
  {
   "cell_type": "code",
   "execution_count": 34,
   "metadata": {},
   "outputs": [
    {
     "data": {
      "text/html": [
       "<div>\n",
       "<style scoped>\n",
       "    .dataframe tbody tr th:only-of-type {\n",
       "        vertical-align: middle;\n",
       "    }\n",
       "\n",
       "    .dataframe tbody tr th {\n",
       "        vertical-align: top;\n",
       "    }\n",
       "\n",
       "    .dataframe thead th {\n",
       "        text-align: right;\n",
       "    }\n",
       "</style>\n",
       "<table border=\"1\" class=\"dataframe\">\n",
       "  <thead>\n",
       "    <tr style=\"text-align: right;\">\n",
       "      <th></th>\n",
       "      <th>ensembl_id</th>\n",
       "      <th>geneSymbol</th>\n",
       "      <th>#chrom</th>\n",
       "      <th>chromStart</th>\n",
       "      <th>chromEnd</th>\n",
       "    </tr>\n",
       "  </thead>\n",
       "  <tbody>\n",
       "    <tr>\n",
       "      <th>0</th>\n",
       "      <td>ENSG00000148584</td>\n",
       "      <td>A1CF</td>\n",
       "      <td>chr10</td>\n",
       "      <td>52559168</td>\n",
       "      <td>52645435</td>\n",
       "    </tr>\n",
       "    <tr>\n",
       "      <th>1</th>\n",
       "      <td>ENSG00000179869</td>\n",
       "      <td>ABCA13</td>\n",
       "      <td>chr7</td>\n",
       "      <td>48211056</td>\n",
       "      <td>48687091</td>\n",
       "    </tr>\n",
       "    <tr>\n",
       "      <th>2</th>\n",
       "      <td>ENSG00000108846</td>\n",
       "      <td>ABCC3</td>\n",
       "      <td>chr17</td>\n",
       "      <td>48712217</td>\n",
       "      <td>48769063</td>\n",
       "    </tr>\n",
       "    <tr>\n",
       "      <th>3</th>\n",
       "      <td>ENSG00000069431</td>\n",
       "      <td>ABCC9</td>\n",
       "      <td>chr12</td>\n",
       "      <td>21950323</td>\n",
       "      <td>22089628</td>\n",
       "    </tr>\n",
       "    <tr>\n",
       "      <th>4</th>\n",
       "      <td>ENSG00000160179</td>\n",
       "      <td>ABCG1</td>\n",
       "      <td>chr21</td>\n",
       "      <td>43705989</td>\n",
       "      <td>43715445</td>\n",
       "    </tr>\n",
       "  </tbody>\n",
       "</table>\n",
       "</div>"
      ],
      "text/plain": [
       "        ensembl_id geneSymbol #chrom  chromStart  chromEnd\n",
       "0  ENSG00000148584       A1CF  chr10    52559168  52645435\n",
       "1  ENSG00000179869     ABCA13   chr7    48211056  48687091\n",
       "2  ENSG00000108846      ABCC3  chr17    48712217  48769063\n",
       "3  ENSG00000069431      ABCC9  chr12    21950323  22089628\n",
       "4  ENSG00000160179      ABCG1  chr21    43705989  43715445"
      ]
     },
     "execution_count": 34,
     "metadata": {},
     "output_type": "execute_result"
    }
   ],
   "source": [
    "# Characterize genes in the selected gene set\n",
    "df_loc_random = df_loc[df_loc['geneSymbol'].isin(random_dict[selected_random])]\n",
    "df_loc_random = df_loc_random.reset_index(drop=True)\n",
    "df_loc_random = df_loc_random[['ensembl_id', 'geneSymbol', '#chrom', 'chromStart', 'chromEnd']]\n",
    "df_loc_random.to_csv(saving_dir+'experiment/'+'location_random_gene_set.csv')\n",
    "df_loc_random.head()"
   ]
  },
  {
   "cell_type": "code",
   "execution_count": null,
   "metadata": {},
   "outputs": [],
   "source": []
  }
 ],
 "metadata": {
  "kernelspec": {
   "display_name": "Python 3",
   "language": "python",
   "name": "python3"
  },
  "language_info": {
   "codemirror_mode": {
    "name": "ipython",
    "version": 3
   },
   "file_extension": ".py",
   "mimetype": "text/x-python",
   "name": "python",
   "nbconvert_exporter": "python",
   "pygments_lexer": "ipython3",
   "version": "3.7.4"
  },
  "toc": {
   "base_numbering": 1,
   "nav_menu": {},
   "number_sections": true,
   "sideBar": true,
   "skip_h1_title": false,
   "title_cell": "Table of Contents",
   "title_sidebar": "Contents",
   "toc_cell": false,
   "toc_position": {
    "height": "calc(100% - 180px)",
    "left": "10px",
    "top": "150px",
    "width": "199.983px"
   },
   "toc_section_display": true,
   "toc_window_display": true
  }
 },
 "nbformat": 4,
 "nbformat_minor": 2
}
