{
 "cells": [
  {
   "cell_type": "markdown",
   "metadata": {},
   "source": [
    "### Setup"
   ]
  },
  {
   "cell_type": "code",
   "execution_count": 1,
   "metadata": {
    "code_folding": [],
    "scrolled": true
   },
   "outputs": [
    {
     "data": {
      "text/plain": [
       "<module 'correlation_clustering' from '/home/louiscam/projects/gpcr/code/figures4/correlation_clustering.py'>"
      ]
     },
     "execution_count": 1,
     "metadata": {},
     "output_type": "execute_result"
    }
   ],
   "source": [
    "# Import libraries\n",
    "import warnings\n",
    "warnings.simplefilter(action='ignore', category=FutureWarning)\n",
    "from importlib import reload\n",
    "import numpy as np\n",
    "from numpy.linalg import multi_dot\n",
    "import matplotlib as mpl\n",
    "import matplotlib.pyplot as plt\n",
    "from scipy.cluster.hierarchy import dendrogram, linkage, fcluster, cophenet, inconsistent\n",
    "from sklearn.metrics import adjusted_mutual_info_score, silhouette_score, silhouette_samples\n",
    "import seaborn as sns\n",
    "from scipy import sparse\n",
    "import scipy.stats as ss\n",
    "import csv\n",
    "import pandas as pd\n",
    "import networkx as nx\n",
    "import community\n",
    "import communities as com\n",
    "import pickle\n",
    "from collections import defaultdict\n",
    "import operator\n",
    "from scipy.sparse import csr_matrix\n",
    "import itertools\n",
    "import os.path\n",
    "import math\n",
    "from sklearn.cluster import AgglomerativeClustering\n",
    "from sklearn.decomposition import PCA\n",
    "from sklearn.manifold import TSNE\n",
    "from sklearn.metrics import adjusted_mutual_info_score\n",
    "from networkx.algorithms.community.kclique import k_clique_communities\n",
    "import pybedtools\n",
    "import time\n",
    "from tqdm import tqdm\n",
    "import random\n",
    "import OmicsIntegrator as oi\n",
    "import gseapy\n",
    "from gseapy.plot import barplot, dotplot\n",
    "from ortools.linear_solver import pywraplp\n",
    "from pyvis.network import Network\n",
    "from scipy.spatial.distance import pdist, squareform\n",
    "from umap import UMAP\n",
    "# Custom libraries\n",
    "import utils as lu\n",
    "import correlation_clustering as cc\n",
    "# Reload modules in case of modifications\n",
    "reload(lu)\n",
    "reload(cc)"
   ]
  },
  {
   "cell_type": "code",
   "execution_count": 2,
   "metadata": {
    "code_folding": []
   },
   "outputs": [],
   "source": [
    "# Directory of genome data\n",
    "dir_genome = '/home/louiscam/projects/gpcr/data/genome_data/'\n",
    "# Directory of adhesome data\n",
    "dir_adhesome = '/home/louiscam/projects/gpcr/data/adhesome_data/'\n",
    "# Directory of processed HiC\n",
    "dir_processed_hic = '/home/louiscam/projects/gpcr/save/processed_hic_data/processed_hic_data_IMR90/final_BP250000_intraKR_interGWKR/'\n",
    "# Directory of epigenomic data\n",
    "epigenome_dir = '/home/louiscam/projects/gpcr/data/regulatory_data/regulatory_data_IMR90/'\n",
    "processed_epigenome_data_dir = '/home/louiscam/projects/gpcr/save/processed_regulatory_marks/processed_epigenome_data_IMR90/'\n",
    "# Directpry of TF target data\n",
    "dir_htftarget = '/home/louiscam/projects/gpcr/data/tf_data/hTFtarget/'\n",
    "# Saving directory\n",
    "saving_dir = '/home/louiscam/projects/gpcr/save/figures/'"
   ]
  },
  {
   "cell_type": "code",
   "execution_count": 3,
   "metadata": {
    "code_folding": []
   },
   "outputs": [],
   "source": [
    "# Relevant information\n",
    "cell_type = 'IMR90'\n",
    "resol_str = '250kb'\n",
    "resol = 250000\n",
    "quality = 'MAPQGE30'"
   ]
  },
  {
   "cell_type": "markdown",
   "metadata": {},
   "source": [
    "# Load data"
   ]
  },
  {
   "cell_type": "markdown",
   "metadata": {},
   "source": [
    "## General data"
   ]
  },
  {
   "cell_type": "code",
   "execution_count": 4,
   "metadata": {},
   "outputs": [],
   "source": [
    "# Load gene location in hg19\n",
    "gene_locations_filename = dir_genome+'chrom_hg19.loc_canonical'\n",
    "gene_id_filename = dir_genome+'chrom_hg19.name'\n",
    "df_loc = lu.get_all_gene_locations(gene_locations_filename, gene_id_filename)"
   ]
  },
  {
   "cell_type": "code",
   "execution_count": 5,
   "metadata": {},
   "outputs": [],
   "source": [
    "# Active/inactive genes\n",
    "with open(saving_dir+'active_genes.pkl', 'rb') as f:\n",
    "    all_active_genes = pickle.load(f)\n",
    "with open(saving_dir+'inactive_genes.pkl', 'rb') as f:\n",
    "    all_inactive_genes = pickle.load(f)"
   ]
  },
  {
   "cell_type": "code",
   "execution_count": 6,
   "metadata": {},
   "outputs": [],
   "source": [
    "# All TF data\n",
    "tftarget_df = pd.read_csv(dir_htftarget+'tftarget_full_processed.csv', \n",
    "                          sep='\\t', index_col=0, header=0, low_memory=False)\n",
    "lung_fibroblasts = ['IMR90', 'WI38', 'AG04450', 'HPF', 'NHLF', ]\n",
    "tftarget_df_lungfibro = tftarget_df[tftarget_df['cell_line'].isin(lung_fibroblasts)]"
   ]
  },
  {
   "cell_type": "code",
   "execution_count": 7,
   "metadata": {},
   "outputs": [],
   "source": [
    "# Mapping gene to chromosome\n",
    "with open(saving_dir+'gene2chrom.pkl', 'rb') as f:\n",
    "    gene2chrom = pickle.load(f)"
   ]
  },
  {
   "cell_type": "markdown",
   "metadata": {},
   "source": [
    "## Adhesome and adhesome TF data"
   ]
  },
  {
   "cell_type": "code",
   "execution_count": 8,
   "metadata": {},
   "outputs": [],
   "source": [
    "# Adhesome genes and loci\n",
    "with open(saving_dir+'active_adhesome_genes.pkl', 'rb') as f:\n",
    "    active_adhesome_genes = pickle.load(f)\n",
    "with open(saving_dir+'active_adhesome_genes_loci.pkl', 'rb') as f:\n",
    "    active_adhesome_loci = pickle.load(f)\n",
    "with open(saving_dir+'adhesome_chr_loci.pkl', 'rb') as f:\n",
    "    adhesome_chr_loci = pickle.load(f)"
   ]
  },
  {
   "cell_type": "code",
   "execution_count": 9,
   "metadata": {},
   "outputs": [],
   "source": [
    "# Adhesome TF genes and loci\n",
    "with open(saving_dir+'active_lung_adhesome_tf_genes.pkl', 'rb') as f:\n",
    "    active_lung_adhesome_tf_genes = pickle.load(f)\n",
    "with open(saving_dir+'active_lung_adhesome_tf_loci.pkl', 'rb') as f:\n",
    "    active_lung_adhesome_tf_loci = pickle.load(f)"
   ]
  },
  {
   "cell_type": "code",
   "execution_count": 10,
   "metadata": {},
   "outputs": [],
   "source": [
    "# Selected genes = Adhesome genes + adhesome TFs\n",
    "selected_genes = np.unique(np.concatenate([active_adhesome_genes,active_lung_adhesome_tf_genes], axis=0))\n",
    "selected_loci = np.unique(np.concatenate([active_adhesome_loci,active_lung_adhesome_tf_loci], axis=0))\n",
    "with open(saving_dir+'adh_and_tf_gene2locus.pkl', 'rb') as f:\n",
    "    selected_gene2locus = pickle.load(f)\n",
    "with open(saving_dir+'adh_and_tf_locus2gene.pkl', 'rb') as f:\n",
    "    selected_locus2gene = pickle.load(f)\n",
    "with open(saving_dir+'adh_and_tf_chr_loci.pkl', 'rb') as f:\n",
    "    adh_and_tf_chr_loci = pickle.load(f)\n",
    "with open(saving_dir+'contacts_df.pkl', 'rb') as f:\n",
    "    contacts_df = pickle.load(f)"
   ]
  },
  {
   "cell_type": "markdown",
   "metadata": {},
   "source": [
    "## Adhesome TFs map data"
   ]
  },
  {
   "cell_type": "code",
   "execution_count": 11,
   "metadata": {},
   "outputs": [],
   "source": [
    "# Load hTFtarget data set\n",
    "with open(saving_dir+'active_lung_tf2target.pkl', 'rb') as f:\n",
    "    active_lung_tf2target = pickle.load(f)\n",
    "with open(saving_dir+'active_lung_target2tf.pkl', 'rb') as f:\n",
    "    active_lung_target2tf = pickle.load(f)"
   ]
  },
  {
   "cell_type": "markdown",
   "metadata": {},
   "source": [
    "# Network of adhesome genes and adhesome TF genes"
   ]
  },
  {
   "cell_type": "markdown",
   "metadata": {},
   "source": [
    "## Initial edges lists"
   ]
  },
  {
   "cell_type": "markdown",
   "metadata": {},
   "source": [
    "### Network of adhesome genes: interX edges"
   ]
  },
  {
   "cell_type": "code",
   "execution_count": 12,
   "metadata": {},
   "outputs": [
    {
     "name": "stdout",
     "output_type": "stream",
     "text": [
      "Number of interX edges = 24489\n"
     ]
    },
    {
     "data": {
      "image/png": "[encoded data removed]",
      "text/plain": [
       "<Figure size 432x288 with 1 Axes>"
      ]
     },
     "metadata": {
      "needs_background": "light"
     },
     "output_type": "display_data"
    }
   ],
   "source": [
    "# Build interX edge list\n",
    "adhesome_interX_edge_list = cc.create_interX_edgelist(contacts_df, selected_loci, selected_locus2gene, gene2chrom)\n",
    "with open(saving_dir+'adhesome_interX_edge_list.pkl', 'wb') as f:\n",
    "    pickle.dump(adhesome_interX_edge_list, f)\n",
    "print('Number of interX edges = '+str(len(adhesome_interX_edge_list)))\n",
    "\n",
    "# Histogram of interX contacts\n",
    "plt.figure()\n",
    "plt.hist(adhesome_interX_edge_list['scaled_hic'].values, bins=np.arange(0,1.05,0.05))\n",
    "plt.xlabel('scaled hic')\n",
    "plt.ylabel('number of interactions')\n",
    "plt.title('histogram of min-max scaled interX Hi-C')\n",
    "plt.show()"
   ]
  },
  {
   "cell_type": "markdown",
   "metadata": {},
   "source": [
    "### Network of adhesome genes: intraX edges"
   ]
  },
  {
   "cell_type": "code",
   "execution_count": 13,
   "metadata": {},
   "outputs": [
    {
     "name": "stderr",
     "output_type": "stream",
     "text": [
      "100%|██████████| 22/22 [00:17<00:00,  1.22it/s]"
     ]
    },
    {
     "name": "stdout",
     "output_type": "stream",
     "text": [
      "Number of intraX edges = 1617\n"
     ]
    },
    {
     "name": "stderr",
     "output_type": "stream",
     "text": [
      "\n"
     ]
    },
    {
     "data": {
      "image/png": "[encoded data removed]",
      "text/plain": [
       "<Figure size 432x288 with 1 Axes>"
      ]
     },
     "metadata": {
      "needs_background": "light"
     },
     "output_type": "display_data"
    }
   ],
   "source": [
    "# Build intraX edge list\n",
    "adhesome_intraX_edge_list = cc.create_intraX_edgelist(selected_loci, selected_locus2gene, df_loc, resol, dir_processed_hic)\n",
    "with open(saving_dir+'adhesome_intraX_edge_list.pkl', 'wb') as f:\n",
    "    pickle.dump(adhesome_intraX_edge_list, f)\n",
    "print('Number of intraX edges = '+str(len(adhesome_intraX_edge_list)))\n",
    "\n",
    "# Histogram of intraX contacts\n",
    "plt.figure()\n",
    "plt.hist(adhesome_intraX_edge_list['scaled_hic'].values, bins=np.arange(0,1.05,0.05))\n",
    "plt.xlabel('scaled hic')\n",
    "plt.ylabel('number of interactions')\n",
    "plt.title('histogram of min-max scaled intraX Hi-C')\n",
    "plt.show()"
   ]
  },
  {
   "cell_type": "markdown",
   "metadata": {},
   "source": [
    "## HiC and correlation distances"
   ]
  },
  {
   "cell_type": "code",
   "execution_count": 12,
   "metadata": {
    "code_folding": []
   },
   "outputs": [],
   "source": [
    "# Load edge lists\n",
    "with open(saving_dir+'adhesome_interX_edge_list.pkl', 'rb') as f:\n",
    "    adhesome_interX_edge_list = pickle.load(f)\n",
    "with open(saving_dir+'adhesome_intraX_edge_list.pkl', 'rb') as f:\n",
    "    adhesome_intraX_edge_list = pickle.load(f)"
   ]
  },
  {
   "cell_type": "code",
   "execution_count": 13,
   "metadata": {
    "code_folding": []
   },
   "outputs": [
    {
     "data": {
      "image/png": "[encoded data removed]",
      "text/plain": [
       "<Figure size 720x144 with 2 Axes>"
      ]
     },
     "metadata": {
      "needs_background": "light"
     },
     "output_type": "display_data"
    }
   ],
   "source": [
    "# Plot thresholds\n",
    "plt.figure(figsize=(10,2))\n",
    "plt.subplot(1, 2, 1)\n",
    "plt.hist(adhesome_interX_edge_list['scaled_hic'], bins=np.arange(0,1.01,0.01))\n",
    "# plt.vlines(x=np.quantile(adhesome_interX_edge_list['scaled_hic'],0.75), ymin=0, ymax=2000, \n",
    "#            color='red', linestyle='dashed')\n",
    "plt.xlabel('scaled hic')\n",
    "plt.ylabel('number of edges')\n",
    "plt.title('interX edges scaled HiC')\n",
    "\n",
    "plt.subplot(1, 2, 2)\n",
    "plt.hist(adhesome_intraX_edge_list['scaled_hic'], bins=np.arange(0,1.01,0.01))\n",
    "# plt.vlines(x=np.quantile(adhesome_intraX_edge_list['scaled_hic'],0.75), ymin=0, ymax=70, \n",
    "#            color='red', linestyle='dashed')\n",
    "plt.xlabel('scaled hic')\n",
    "plt.ylabel('number of edges')\n",
    "plt.title('intraX edges scaled HiC')\n",
    "\n",
    "plt.show()"
   ]
  },
  {
   "cell_type": "markdown",
   "metadata": {},
   "source": [
    "### Genomic features for each adhesome gene"
   ]
  },
  {
   "cell_type": "code",
   "execution_count": 14,
   "metadata": {
    "code_folding": []
   },
   "outputs": [],
   "source": [
    "# Load epigenomic features\n",
    "df_all_norm = pd.read_csv(saving_dir+'features_matrix_all_genes_norm.csv', header=0, index_col=0)\n",
    "# Restrict to genes in cluster\n",
    "df_cluster_norm = df_all_norm.loc[:,selected_genes]\n",
    "# df_cluster_norm.values[:,:] = (df_cluster_norm.values-np.mean(df_cluster_norm.values, axis=1).reshape(-1,1))/np.std(df_cluster_norm.values, axis=1).reshape(-1,1)"
   ]
  },
  {
   "cell_type": "code",
   "execution_count": 15,
   "metadata": {
    "code_folding": []
   },
   "outputs": [],
   "source": [
    "# Create Pearson distance matrix\n",
    "adhesome_pearson_distance_df = (1-df_cluster_norm.corr(method='pearson'))/2\n",
    "# Create Spearman distance matrix\n",
    "adhesome_spearman_distance_df = (1-df_cluster_norm.corr(method='spearman'))/2\n",
    "# Create cosine distance matrix\n",
    "adhesome_cosine_df = pd.DataFrame(\n",
    "    squareform(pdist(df_cluster_norm.T, metric='cosine')),\n",
    "    columns = df_cluster_norm.columns,\n",
    "    index = df_cluster_norm.columns\n",
    ")/2"
   ]
  },
  {
   "cell_type": "code",
   "execution_count": 16,
   "metadata": {
    "code_folding": []
   },
   "outputs": [
    {
     "name": "stdout",
     "output_type": "stream",
     "text": [
      "Total number of edges = 26106\n"
     ]
    }
   ],
   "source": [
    "# Add distance and Spearman correlation to interX edge list\n",
    "adhesome_interX_edge_list['pearson_dist'] = [adhesome_pearson_distance_df.loc[adhesome_interX_edge_list.iloc[i]['source'],\n",
    "                                                                              adhesome_interX_edge_list.iloc[i]['target']]\n",
    "                                              for i in range(len(adhesome_interX_edge_list))]\n",
    "adhesome_interX_edge_list['spearman_dist'] = [adhesome_spearman_distance_df.loc[adhesome_interX_edge_list.iloc[i]['source'],\n",
    "                                                                                adhesome_interX_edge_list.iloc[i]['target']]\n",
    "                                              for i in range(len(adhesome_interX_edge_list))]\n",
    "adhesome_interX_edge_list['cosine_dist'] = [adhesome_cosine_df.loc[adhesome_interX_edge_list.iloc[i]['source'],\n",
    "                                                                                adhesome_interX_edge_list.iloc[i]['target']]\n",
    "                                              for i in range(len(adhesome_interX_edge_list))]\n",
    "# Add distance and Spearman correlation to intraX edge list\n",
    "adhesome_intraX_edge_list['pearson_dist'] = [adhesome_pearson_distance_df.loc[adhesome_intraX_edge_list.iloc[i]['source'],\n",
    "                                                                              adhesome_intraX_edge_list.iloc[i]['target']]\n",
    "                                              for i in range(len(adhesome_intraX_edge_list))]\n",
    "adhesome_intraX_edge_list['spearman_dist'] = [adhesome_spearman_distance_df.loc[adhesome_intraX_edge_list.iloc[i]['source'],\n",
    "                                                                                adhesome_intraX_edge_list.iloc[i]['target']]\n",
    "                                              for i in range(len(adhesome_intraX_edge_list))]\n",
    "adhesome_intraX_edge_list['cosine_dist'] = [adhesome_cosine_df.loc[adhesome_intraX_edge_list.iloc[i]['source'],\n",
    "                                                                                adhesome_intraX_edge_list.iloc[i]['target']]\n",
    "                                              for i in range(len(adhesome_intraX_edge_list))]\n",
    "print('Total number of edges = '+str(len(adhesome_intraX_edge_list)+len(adhesome_interX_edge_list)))"
   ]
  },
  {
   "cell_type": "code",
   "execution_count": 17,
   "metadata": {
    "code_folding": [
     0
    ]
   },
   "outputs": [
    {
     "data": {
      "image/png": "[encoded data removed]",
      "text/plain": [
       "<Figure size 1440x144 with 3 Axes>"
      ]
     },
     "metadata": {
      "needs_background": "light"
     },
     "output_type": "display_data"
    }
   ],
   "source": [
    "# Plot distribution of distance in selected edges\n",
    "hic_threshold = 0.\n",
    "t = np.quantile(adhesome_interX_edge_list['scaled_hic'],hic_threshold)\n",
    "u = np.quantile(adhesome_intraX_edge_list['scaled_hic'],hic_threshold)\n",
    "inter_selected = adhesome_interX_edge_list[adhesome_interX_edge_list['scaled_hic']>t]\n",
    "intra_selected = adhesome_intraX_edge_list[adhesome_intraX_edge_list['scaled_hic']>u][['source','target',\n",
    "                                                                                       'hic','scaled_hic',\n",
    "                                                                                       'pearson_dist','spearman_dist',\n",
    "                                                                                       'cosine_dist']]\n",
    "all_selected = pd.concat([inter_selected, intra_selected], axis=0)\n",
    "plt.figure(figsize=(20,2))\n",
    "# Pearson\n",
    "plt.subplot(1, 3, 1)\n",
    "plt.hist(all_selected['pearson_dist'], \n",
    "         bins=np.arange(0,1.1,0.05),\n",
    "        color='orange')\n",
    "plt.vlines(x=np.mean(all_selected['pearson_dist']), ymin=0, ymax=4000, color='red', linestyle='dashed')\n",
    "plt.xlabel('Pearson distance')\n",
    "plt.ylabel('number of edges')\n",
    "plt.title('Pearson')\n",
    "\n",
    "# Spearman\n",
    "plt.subplot(1, 3, 2)\n",
    "plt.hist(all_selected['spearman_dist'], \n",
    "         bins=np.arange(0,1.1,0.05),\n",
    "        color='orange')\n",
    "plt.vlines(x=np.mean(all_selected['spearman_dist']), ymin=0, ymax=4000, color='red', linestyle='dashed')\n",
    "plt.xlabel('Spearman distance')\n",
    "plt.ylabel('number of edges')\n",
    "plt.title('Spearman')\n",
    "\n",
    "# Cosine\n",
    "plt.subplot(1, 3, 3)\n",
    "plt.hist(all_selected['cosine_dist'], \n",
    "         bins=np.arange(0,1.1,0.05),\n",
    "        color='orange')\n",
    "plt.vlines(x=np.mean(all_selected['cosine_dist']), ymin=0, ymax=4000, color='red', linestyle='dashed')\n",
    "plt.xlabel('Cosine distance')\n",
    "plt.ylabel('number of edges')\n",
    "plt.title('Cosine')\n",
    "\n",
    "plt.show()"
   ]
  },
  {
   "cell_type": "code",
   "execution_count": 18,
   "metadata": {
    "code_folding": [
     0
    ],
    "scrolled": false
   },
   "outputs": [
    {
     "data": {
      "image/png": "[encoded data removed]",
      "text/plain": [
       "<Figure size 1440x288 with 6 Axes>"
      ]
     },
     "metadata": {
      "needs_background": "light"
     },
     "output_type": "display_data"
    }
   ],
   "source": [
    "# Plot relationship between HiC and correlation distance\n",
    "hic_threshold = 0.\n",
    "t = np.quantile(adhesome_interX_edge_list['scaled_hic'],hic_threshold)\n",
    "u = np.quantile(adhesome_intraX_edge_list['scaled_hic'],hic_threshold)\n",
    "inter_selected = adhesome_interX_edge_list[adhesome_interX_edge_list['scaled_hic']>0]\n",
    "intra_selected = adhesome_intraX_edge_list[adhesome_intraX_edge_list['scaled_hic']>0][['source','target',\n",
    "                                                                                       'hic','scaled_hic',\n",
    "                                                                                       'pearson_dist','spearman_dist',\n",
    "                                                                                       'cosine_dist']]\n",
    "all_selected = pd.concat([inter_selected, intra_selected], axis=0)\n",
    "\n",
    "fig, (ax1, ax2, ax3) = plt.subplots(1, 3, figsize=(20,4))\n",
    "# Pearson\n",
    "x = all_selected['scaled_hic']\n",
    "y = all_selected['pearson_dist']\n",
    "h1 = ax1.hist2d(x, y, (100, 100), cmap=plt.cm.jet)\n",
    "m, b = np.polyfit(x, y, 1)\n",
    "ax1.plot(x, m*x+b, color='red')\n",
    "ax1.set_xlabel('scaled HiC')\n",
    "ax1.set_ylabel('Pearson distance')\n",
    "fig.colorbar(h1[3], ax=ax1)\n",
    "pearson = ss.pearsonr(x,y)\n",
    "ax1.set_title('Pearson vs HiC (corr='+str(np.round(pearson[0],3))+', pval='+str(np.round(pearson[1],3))+')')\n",
    "\n",
    "# Spearman\n",
    "x = all_selected['scaled_hic']\n",
    "y = all_selected['spearman_dist']\n",
    "h2 = ax2.hist2d(x, y, (100, 100), cmap=plt.cm.jet)\n",
    "m, b = np.polyfit(x, y, 1)\n",
    "ax2.plot(x, m*x+b, color='red')\n",
    "ax2.set_xlabel('scaled HiC')\n",
    "ax2.set_ylabel('Spearman distance')\n",
    "fig.colorbar(h2[3], ax=ax2)\n",
    "pearson = ss.pearsonr(x,y)\n",
    "ax2.set_title('Spearman (corr='+str(np.round(pearson[0],3))+', pval='+str(np.round(pearson[1],3))+')')\n",
    "\n",
    "# Cosine\n",
    "x = all_selected['scaled_hic']\n",
    "y = all_selected['cosine_dist']\n",
    "h3 = ax3.hist2d(x, y, (100, 100), cmap=plt.cm.jet)\n",
    "m, b = np.polyfit(x, y, 1)\n",
    "ax3.plot(x, m*x+b, color='red')\n",
    "ax3.set_xlabel('scaled HiC')\n",
    "ax3.set_ylabel('Cosine distance')\n",
    "fig.colorbar(h3[3], ax=ax3)\n",
    "pearson = ss.pearsonr(x,y)\n",
    "ax3.set_title('Cosine (corr='+str(np.round(pearson[0],3))+', pval='+str(np.round(pearson[1],3))+')')\n",
    "plt.show()"
   ]
  },
  {
   "cell_type": "markdown",
   "metadata": {},
   "source": [
    "# Explore different clustering approaches"
   ]
  },
  {
   "cell_type": "code",
   "execution_count": 292,
   "metadata": {},
   "outputs": [],
   "source": [
    "# Parameters\n",
    "edge_weights = 'hic' # one of 'hic', 'regulatory_marks'\n",
    "distance = 'reciprocal' # one of'reciprocal', 'dijsktra', 'custom' (for HiC), 'Pearson', 'Spearman', 'cosine' (for regulatory)\n",
    "linkage_fn = 'average' # one of 'average', 'single', 'max', 'centroid', 'ward'\n",
    "criterion = 'distance' # one of 'distance', 'inconsistent'"
   ]
  },
  {
   "cell_type": "markdown",
   "metadata": {},
   "source": [
    "### 1- Construct network"
   ]
  },
  {
   "cell_type": "code",
   "execution_count": 293,
   "metadata": {
    "code_folding": [
     0
    ]
   },
   "outputs": [],
   "source": [
    "# Combine interX and intraX edge lists\n",
    "inter_selected = adhesome_interX_edge_list.copy()\n",
    "inter_selected = inter_selected[inter_selected['scaled_hic']>0]\n",
    "intra_selected = adhesome_intraX_edge_list.copy()\n",
    "intra_selected = intra_selected[['source','target','hic','scaled_hic',\n",
    "                                 'pearson_dist','spearman_dist',\n",
    "                                 'cosine_dist']]\n",
    "intra_selected = intra_selected[intra_selected['scaled_hic']>0]\n",
    "adhesome_edge_list = pd.concat([inter_selected,intra_selected], axis=0)\n",
    "adhesome_edge_list = adhesome_edge_list[adhesome_edge_list['source'] != adhesome_edge_list['target']]"
   ]
  },
  {
   "cell_type": "code",
   "execution_count": 294,
   "metadata": {
    "code_folding": [
     0
    ]
   },
   "outputs": [],
   "source": [
    "# Create additional similarity measures/distances\n",
    "adhesome_edge_list['hic_dist'] = 1-adhesome_edge_list['scaled_hic']\n",
    "adhesome_edge_list['log_hic'] = -np.log(adhesome_edge_list['scaled_hic'])"
   ]
  },
  {
   "cell_type": "code",
   "execution_count": 295,
   "metadata": {
    "code_folding": [
     0
    ]
   },
   "outputs": [],
   "source": [
    "# Create network\n",
    "G = nx.from_pandas_edgelist(adhesome_edge_list, edge_attr=['hic','scaled_hic', 'log_hic', 'hic_dist',\n",
    "                                                           'pearson_dist','spearman_dist','cosine_dist'])"
   ]
  },
  {
   "cell_type": "code",
   "execution_count": 296,
   "metadata": {
    "code_folding": [
     0
    ]
   },
   "outputs": [
    {
     "name": "stdout",
     "output_type": "stream",
     "text": [
      "Hi-C threshold (only used for edge_weights = regulatory_marks) = 0.47472912685142804\n"
     ]
    },
    {
     "data": {
      "image/png": "[encoded data removed]",
      "text/plain": [
       "<Figure size 432x288 with 1 Axes>"
      ]
     },
     "metadata": {
      "needs_background": "light"
     },
     "output_type": "display_data"
    }
   ],
   "source": [
    "# Compute hic_threshold (only used for edge_weights = 'regulatory_marks')\n",
    "hic_threshold = np.quantile(adhesome_edge_list['scaled_hic'].values, 0.75)\n",
    "print(f'Hi-C threshold (only used for edge_weights = regulatory_marks) = {hic_threshold}')\n",
    "plt.figure()\n",
    "plt.hist(adhesome_edge_list['scaled_hic'].values, bins=np.arange(0,1.05,0.05))\n",
    "plt.vlines(x=hic_threshold, ymin=0, ymax=1000, color='red', linestyle='dashed', alpha=0.5)\n",
    "plt.xlabel('scaled HiC')\n",
    "plt.ylabel('number of edges')\n",
    "plt.show()"
   ]
  },
  {
   "cell_type": "markdown",
   "metadata": {},
   "source": [
    "### 2- Create distance matrix"
   ]
  },
  {
   "cell_type": "code",
   "execution_count": 297,
   "metadata": {
    "code_folding": [
     0
    ]
   },
   "outputs": [],
   "source": [
    "# Select distance\n",
    "if edge_weights == 'hic':\n",
    "    \n",
    "    if distance == 'reciprocal':\n",
    "        dist_hic = 1-np.array(nx.adjacency_matrix(G, nodelist=sorted(G.nodes), weight='scaled_hic').todense())\n",
    "        np.fill_diagonal(dist_hic,0)\n",
    "        \n",
    "    elif distance == 'dijsktra':\n",
    "        len_path = dict(nx.all_pairs_dijkstra(G, weight='log_hic'))\n",
    "        df_list = [pd.DataFrame(\n",
    "            {'genes': sorted(G.nodes),\n",
    "             g: [np.exp(-len_path[g][0][g1]) for g1 in sorted(G.nodes)]}\n",
    "                               ).set_index('genes')\n",
    "                   for g in sorted(G.nodes)]\n",
    "        dist_hic = 1-pd.concat(df_list, axis=1)\n",
    "        dist_hic = dist_hic.values\n",
    "        np.fill_diagonal(dist_hic,0)\n",
    "        \n",
    "    elif distance == 'custom':\n",
    "        all_hic_values = np.array(nx.adjacency_matrix(G, nodelist=sorted(G.nodes), weight='scaled_hic').todense())\n",
    "        all_hic_values = all_hic_values[np.tril_indices(len(all_hic_values),1)]\n",
    "        all_nonzero_hic_values = all_hic_values[np.nonzero(all_hic_values)]\n",
    "        min_nonzero_hic = np.min(all_nonzero_hic_values)\n",
    "        c = min_nonzero_hic/10\n",
    "        sim_hic = np.array(nx.adjacency_matrix(G, nodelist=sorted(G.nodes), weight='scaled_hic').todense())\n",
    "        dist_hic = np.log10((1+c)/(sim_hic+c))\n",
    "        np.fill_diagonal(dist_hic,0)\n",
    "    \n",
    "elif edge_weights == 'regulatory_marks':\n",
    "    \n",
    "    if distance == 'Pearson':\n",
    "        adj_mat_hic = np.array(nx.adjacency_matrix(G, nodelist=sorted(G.nodes), weight='scaled_hic').todense())\n",
    "        hic_mask = adj_mat_hic>hic_threshold\n",
    "        dist_mat_reg = np.array(nx.adjacency_matrix(G, nodelist=sorted(G.nodes), weight='pearson_dist').todense())\n",
    "        dist_hic = dist_mat_reg*hic_mask+(1-hic_mask)\n",
    "        np.fill_diagonal(dist_hic,0)\n",
    "        \n",
    "    elif distance == 'Spearman':\n",
    "        adj_mat_hic = np.array(nx.adjacency_matrix(G, nodelist=sorted(G.nodes), weight='scaled_hic').todense())\n",
    "        hic_mask = adj_mat_hic>hic_threshold\n",
    "        dist_mat_reg = np.array(nx.adjacency_matrix(G, nodelist=sorted(G.nodes), weight='spearman_dist').todense())\n",
    "        dist_hic = dist_mat_reg*hic_mask+(1-hic_mask)\n",
    "        np.fill_diagonal(dist_hic,0)\n",
    "        \n",
    "    elif distance == 'cosine':\n",
    "        adj_mat_hic = np.array(nx.adjacency_matrix(G, nodelist=sorted(G.nodes), weight='scaled_hic').todense())\n",
    "        hic_mask = adj_mat_hic>hic_threshold\n",
    "        dist_mat_reg = np.array(nx.adjacency_matrix(G, nodelist=sorted(G.nodes), weight='cosine_dist').todense())\n",
    "        dist_hic = dist_mat_reg*hic_mask+(1-hic_mask)\n",
    "        np.fill_diagonal(dist_hic,0)"
   ]
  },
  {
   "cell_type": "code",
   "execution_count": 298,
   "metadata": {
    "code_folding": [
     0
    ]
   },
   "outputs": [
    {
     "data": {
      "image/png": "[encoded data removed]",
      "text/plain": [
       "<Figure size 432x288 with 1 Axes>"
      ]
     },
     "metadata": {
      "needs_background": "light"
     },
     "output_type": "display_data"
    }
   ],
   "source": [
    "# Create flattened distance matrix\n",
    "y = dist_hic[np.triu_indices(n=len(dist_hic),k=1)]\n",
    "plt.figure()\n",
    "plt.hist(y, bins=np.arange(0,3,0.05))\n",
    "plt.xlabel('distances')\n",
    "plt.ylabel('number of contacts')\n",
    "plt.show()"
   ]
  },
  {
   "cell_type": "markdown",
   "metadata": {},
   "source": [
    "### 3- Select linkage"
   ]
  },
  {
   "cell_type": "code",
   "execution_count": 299,
   "metadata": {
    "code_folding": [
     0
    ]
   },
   "outputs": [
    {
     "data": {
      "image/png": "[encoded data removed]",
      "text/plain": [
       "<Figure size 432x288 with 1 Axes>"
      ]
     },
     "metadata": {
      "needs_background": "light"
     },
     "output_type": "display_data"
    }
   ],
   "source": [
    "# Test linkages\n",
    "cophenet_single = cophenet(linkage(y, method='single'), y)[0]\n",
    "cophenet_complete = cophenet(linkage(y, method='complete'), y)[0]\n",
    "cophenet_average = cophenet(linkage(y, method='average'), y)[0]\n",
    "cophenet_ward = cophenet(linkage(y, method='ward'), y)[0]\n",
    "cophenet_centroid = cophenet(linkage(y, method='centroid'), y)[0]\n",
    "plt.figure()\n",
    "plt.bar(x=['single', 'complete', 'average', 'ward', 'centroid'],\n",
    "        height = [cophenet_single, cophenet_complete, cophenet_average, cophenet_ward, cophenet_centroid],\n",
    "        color = ['red', 'blue', 'yellowgreen', 'yellow', 'orange'])\n",
    "plt.xlabel('linkage method')\n",
    "plt.ylabel('cophenetic correlation')\n",
    "plt.show()"
   ]
  },
  {
   "cell_type": "code",
   "execution_count": 300,
   "metadata": {
    "code_folding": [
     0
    ]
   },
   "outputs": [],
   "source": [
    "# Construct dendrogram with selected linkage\n",
    "linked = linkage(y, method=linkage_fn)"
   ]
  },
  {
   "cell_type": "code",
   "execution_count": 301,
   "metadata": {
    "code_folding": [
     0
    ]
   },
   "outputs": [
    {
     "data": {
      "image/png": "[encoded data removed]",
      "text/plain": [
       "<Figure size 432x288 with 1 Axes>"
      ]
     },
     "metadata": {
      "needs_background": "light"
     },
     "output_type": "display_data"
    }
   ],
   "source": [
    "# Visualize distribution of inconsistent coefficients\n",
    "inconsist_coefs = inconsistent(linked)[:,3]\n",
    "plt.figure()\n",
    "plt.hist(inconsist_coefs, bins=np.arange(0,1.5,0.05))\n",
    "plt.xlabel('inconsistency coefficients')\n",
    "plt.ylabel('number of links')\n",
    "plt.show()"
   ]
  },
  {
   "cell_type": "markdown",
   "metadata": {},
   "source": [
    "### 4- Perform clustering"
   ]
  },
  {
   "cell_type": "code",
   "execution_count": 302,
   "metadata": {
    "code_folding": [
     0
    ]
   },
   "outputs": [
    {
     "name": "stderr",
     "output_type": "stream",
     "text": [
      "100%|██████████| 101/101 [00:09<00:00, 11.01it/s]\n"
     ]
    },
    {
     "name": "stdout",
     "output_type": "stream",
     "text": [
      "Threshold = 0.21\n"
     ]
    },
    {
     "data": {
      "image/png": "[encoded data removed]",
      "text/plain": [
       "<Figure size 576x720 with 2 Axes>"
      ]
     },
     "metadata": {
      "needs_background": "light"
     },
     "output_type": "display_data"
    }
   ],
   "source": [
    "# Pick clustering threshold\n",
    "if criterion == 'distance':\n",
    "    \n",
    "    threshold_list = np.arange(0,1+0.01,0.01)\n",
    "    n_clusters = []\n",
    "    max_genes_per_cluster = []\n",
    "    max_chrom_per_cluster = []\n",
    "    for hc_threshold in tqdm(threshold_list):\n",
    "        # Cluster\n",
    "        linked1 = linkage(y, method=linkage_fn)\n",
    "        clustering1 = fcluster(linked1, t=hc_threshold, criterion=criterion)\n",
    "        # Create graph with metadata\n",
    "        G_tmp = G.copy()\n",
    "        labels = np.array(sorted(G_tmp.nodes))\n",
    "        n = len(labels)\n",
    "        nx.set_node_attributes(G_tmp, {labels[i]: str(clustering1[i]) for i in range(n)}, \"cluster\")\n",
    "        nx.set_node_attributes(G_tmp, {labels[i]: gene2chrom[labels[i]] for i in range(n)}, \"chromosome\")\n",
    "        # Record results\n",
    "        n_clusters.append(len(np.unique(clustering1)))\n",
    "        max_genes_per_cluster.append(np.max(np.unique(clustering1, return_counts=True)[1]))\n",
    "        max_chrom_per_cluster.append(oi.get_networkx_graph_as_dataframe_of_nodes(G_tmp).groupby('cluster')['chromosome'].nunique().max())\n",
    "    n_clusters = np.array(n_clusters)\n",
    "    max_genes_per_cluster = np.array(max_genes_per_cluster)\n",
    "    max_chrom_per_cluster = np.array(max_chrom_per_cluster)\n",
    "    \n",
    "elif criterion == 'inconsistent':\n",
    "    \n",
    "    threshold_list = np.arange(0-0.01,max(inconsist_coefs)+0.01,0.01)\n",
    "    n_clusters = []\n",
    "    max_genes_per_cluster = []\n",
    "    max_chrom_per_cluster = []\n",
    "    for hc_threshold in tqdm(threshold_list):\n",
    "        # Cluster\n",
    "        linked1 = linkage(y, method=linkage_fn)\n",
    "        clustering1 = fcluster(linked1, t=hc_threshold, criterion=criterion)\n",
    "        # Create graph with metadata\n",
    "        G_tmp = G.copy()\n",
    "        labels = np.array(sorted(G_tmp.nodes))\n",
    "        n = len(labels)\n",
    "        nx.set_node_attributes(G_tmp, {labels[i]: str(clustering1[i]) for i in range(n)}, \"cluster\")\n",
    "        nx.set_node_attributes(G_tmp, {labels[i]: gene2chrom[labels[i]] for i in range(n)}, \"chromosome\")\n",
    "        # Record results\n",
    "        n_clusters.append(len(np.unique(clustering1)))\n",
    "        max_genes_per_cluster.append(np.max(np.unique(clustering1, return_counts=True)[1]))\n",
    "        max_chrom_per_cluster.append(oi.get_networkx_graph_as_dataframe_of_nodes(G_tmp).groupby('cluster')['chromosome'].nunique().max())\n",
    "    n_clusters = np.array(n_clusters)\n",
    "    max_genes_per_cluster = np.array(max_genes_per_cluster)\n",
    "    max_chrom_per_cluster = np.array(max_chrom_per_cluster)\n",
    "    \n",
    "# Performance of different HC thresholds\n",
    "t_critic = threshold_list[np.min(np.where(np.array(max_chrom_per_cluster)>4)[0])-1]\n",
    "print('Threshold = '+str(t_critic))\n",
    "plt.figure(figsize=(8,10))\n",
    "plt.subplots_adjust(hspace=.4)\n",
    "\n",
    "plt.subplot(2, 1, 1)\n",
    "plt.plot(threshold_list, n_clusters, \n",
    "         marker='o', markersize=2, color='dodgerblue', label='number of clusters')\n",
    "plt.plot(threshold_list, max_genes_per_cluster, \n",
    "         marker='o', markersize=2, color='yellowgreen', label='maximum cluster size')\n",
    "plt.vlines(x=t_critic, ymin=0, ymax=max(n_clusters), color='red', linestyle='dashed')\n",
    "plt.xlabel('HC threshold')\n",
    "plt.ylabel('')\n",
    "plt.legend(loc='center', bbox_to_anchor=(0.5,-0.2), ncol=2)\n",
    "plt.title('Cluster characteristics')\n",
    "\n",
    "plt.subplot(2, 1, 2)\n",
    "plt.plot(threshold_list, max_chrom_per_cluster,\n",
    "         marker='o', markersize=2)\n",
    "plt.vlines(x=t_critic, ymin=0, ymax=max(max_chrom_per_cluster), color='red', linestyle='dashed')\n",
    "plt.xlabel('HC threshold')\n",
    "plt.ylabel('max number of chrom per cluster')\n",
    "plt.title('Max number of chromosomes per cluster')\n",
    "plt.show()"
   ]
  },
  {
   "cell_type": "code",
   "execution_count": 303,
   "metadata": {
    "code_folding": [
     0
    ]
   },
   "outputs": [
    {
     "name": "stdout",
     "output_type": "stream",
     "text": [
      "Chosen cophenetic distance threshold = 0.21\n"
     ]
    }
   ],
   "source": [
    "# Perform clustering\n",
    "if criterion == 'distance':\n",
    "    t = cc.get_4chrom_clustering(linked, sorted(G.nodes), gene2chrom, \n",
    "                              inc=0.01, max_chrom=4, criterion=criterion)\n",
    "    print(f'Chosen cophenetic distance threshold = {t}')\n",
    "    clust = fcluster(linked, t, criterion=criterion)\n",
    "\n",
    "elif criterion == 'inconsistent':\n",
    "    t = cc.get_4chrom_clustering(linked, sorted(G.nodes), gene2chrom, \n",
    "                              inc=0.01, max_chrom=4, criterion=criterion)\n",
    "    print(f'Chosen inconsistency coefficient threshold = {t}')\n",
    "    clust = fcluster(linked, t, criterion=criterion)"
   ]
  },
  {
   "cell_type": "code",
   "execution_count": 304,
   "metadata": {
    "code_folding": [
     0
    ]
   },
   "outputs": [
    {
     "data": {
      "image/png": "[encoded data removed]",
      "text/plain": [
       "<Figure size 432x288 with 1 Axes>"
      ]
     },
     "metadata": {
      "needs_background": "light"
     },
     "output_type": "display_data"
    }
   ],
   "source": [
    "# Visualize number of genes in clusters\n",
    "df = pd.DataFrame({'gene': sorted(G.nodes), 'cluster': clust})\n",
    "df = df.set_index('gene')\n",
    "plt.figure()\n",
    "df.groupby('cluster')['cluster'].count().to_frame('n_genes').groupby('n_genes')['n_genes'].count().plot.bar()\n",
    "plt.xlabel('number of genes in cluster')\n",
    "plt.ylabel('number of clusters')\n",
    "plt.show()"
   ]
  },
  {
   "cell_type": "markdown",
   "metadata": {},
   "source": [
    "### 5- Display annotated dendrogram"
   ]
  },
  {
   "cell_type": "code",
   "execution_count": 305,
   "metadata": {
    "code_folding": [
     0
    ]
   },
   "outputs": [],
   "source": [
    "# Identify which nodes are in non-singleton clusters\n",
    "gene_clusters_df = pd.DataFrame({'gene': sorted(G.nodes), 'cluster': clust})\n",
    "nonsingleton_cluster_ids = set([c for c in list(clust) if list(clust).count(c)>1])\n",
    "nonsingleton_genes = gene_clusters_df[gene_clusters_df['cluster'].isin(nonsingleton_cluster_ids)]['gene'].values"
   ]
  },
  {
   "cell_type": "code",
   "execution_count": 306,
   "metadata": {
    "code_folding": [
     0
    ]
   },
   "outputs": [
    {
     "data": {
      "image/png": "[encoded data removed]",
      "text/plain": [
       "<Figure size 720x2880 with 1 Axes>"
      ]
     },
     "metadata": {},
     "output_type": "display_data"
    }
   ],
   "source": [
    "# Call dendrogram to get the returned dictionary and compute label function\n",
    "\n",
    "# Build leaf label function\n",
    "R1 = dendrogram(linked, labels=sorted(G.nodes), no_plot=True)\n",
    "R2 = []\n",
    "for i in range(len(R1['ivl'])):\n",
    "    if (R1['ivl'][i] in nonsingleton_genes):\n",
    "        R2.append(R1['ivl'][i])\n",
    "    else:\n",
    "        R2.append('')\n",
    "# Create a label dictionary\n",
    "temp = {\n",
    "    R1['leaves'][ii]: R2[ii] \n",
    "    for ii in range(len(R1['leaves']))\n",
    "}\n",
    "def llf(xx):\n",
    "    return temp[xx]\n",
    "\n",
    "# Build leaf color function\n",
    "permutation = np.random.permutation(len(np.unique(clust)))\n",
    "df['cluster'] = permutation[df['cluster'].values-1]\n",
    "my_color = {g: df.loc[g, 'cluster'] for g in df.index}\n",
    "my_color[''] = 0\n",
    "my_palette = plt.cm.get_cmap(\"hsv\", len(np.unique(clust)))\n",
    "\n",
    "# Plot dendrogram\n",
    "plt.figure(figsize=(10, 40))\n",
    "dendrogram(linked,\n",
    "            orientation='left',\n",
    "            labels=sorted(G.nodes),\n",
    "            distance_sort='descending',\n",
    "            leaf_font_size=10,\n",
    "            leaf_label_func=llf,\n",
    "            color_threshold=0)\n",
    "ax = plt.gca()\n",
    "xlbls = ax.get_ymajorticklabels()\n",
    "for lbl in xlbls:\n",
    "    lbl.set_color(my_palette(my_color[lbl.get_text()]))\n",
    "plt.show()"
   ]
  },
  {
   "cell_type": "code",
   "execution_count": 307,
   "metadata": {
    "code_folding": [],
    "scrolled": false
   },
   "outputs": [
    {
     "name": "stdout",
     "output_type": "stream",
     "text": [
      "['CD151', 'HRAS', 'PLEC', 'SHARPIN', 'SLC16A3', 'UBE2I']\n",
      "['CFL1', 'MAPK8IP3', 'PIAS4', 'PIP5K1C', 'PKD1']\n",
      "['SHC1', 'TESK1', 'TLN1']\n",
      "['ITGA1', 'ITGA2']\n",
      "['CAV1', 'TES']\n",
      "['MAPK1', 'PPM1F']\n",
      "['ASAP2', 'ITGB1BP1']\n",
      "['GRB2', 'SUMO2']\n",
      "['NISCH', 'PPM1M']\n",
      "['CEBPB', 'PTPN1']\n",
      "['CTTN', 'PPFIA1']\n",
      "['DNM2', 'KEAP1']\n",
      "['POLR2A', 'TP53']\n",
      "['CRKL', 'ITGB2']\n",
      "['ITGB7', 'TENC1']\n",
      "['CAPN1', 'ITGA3']\n",
      "['CBL', 'THY1']\n",
      "['ABL1']\n",
      "['ASAP3']\n",
      "['SUMO1']\n",
      "['ILK']\n",
      "['ABI2']\n",
      "['PEAK1']\n",
      "['CASP8']\n",
      "['CSRP1']\n",
      "['GIT2']\n",
      "['CAPN2']\n",
      "['ITGA6']\n",
      "['PLD1']\n",
      "['PRKCA']\n",
      "['SLC9A1']\n",
      "['TRIP6']\n",
      "['LIMK1']\n",
      "['MAZ']\n",
      "['ITGB3']\n",
      "['PTPN12']\n",
      "['CALR']\n",
      "['PRKACA']\n",
      "['CRK']\n",
      "['DEF6']\n",
      "['VASP']\n",
      "['ITGA11']\n",
      "['ARHGEF2']\n",
      "['RAPGEF1']\n",
      "['RHOA']\n",
      "['STAT3']\n",
      "['MAFK']\n",
      "['CORO1B']\n",
      "['VAV2']\n",
      "['CSK']\n",
      "['LRP1']\n",
      "['ARHGEF12']\n",
      "['FYN']\n",
      "['NEXN']\n",
      "['CASS4']\n",
      "['ABI1']\n",
      "['PTK2B']\n",
      "['FHL2']\n",
      "['NCK2']\n",
      "['ITGA8']\n",
      "['VIM']\n",
      "['LPXN']\n",
      "['RBL2']\n",
      "['ELMO1']\n",
      "['ARHGAP5']\n",
      "['ITGB3BP']\n",
      "['ARHGAP24']\n",
      "['PDE4D']\n",
      "['GTF2B']\n",
      "['SDCBP']\n",
      "['IRS1']\n",
      "['ITGB8']\n",
      "['SYNM']\n",
      "['PTPRO']\n",
      "['EP300']\n",
      "['BRCA1']\n",
      "['TIAM1']\n",
      "['ITGA9']\n",
      "['SRC']\n",
      "['SORBS2']\n",
      "['ITGB6']\n",
      "['LIMS1']\n",
      "['TRPM7']\n",
      "['BDP1']\n",
      "['ITGAE']\n",
      "['BRF2']\n",
      "['NRP1']\n",
      "['BCAR1']\n",
      "['PTPN2']\n",
      "['PTPRA']\n",
      "['HAX1']\n",
      "['RB1']\n",
      "['PARVA']\n",
      "['SVIL']\n",
      "['ADAM12']\n",
      "['DOCK1']\n",
      "['MAPK8']\n",
      "['RHOU']\n",
      "['ARHGAP32']\n",
      "['PIK3CA']\n",
      "['GNB2L1']\n",
      "['HSPB1']\n",
      "['VCL']\n",
      "['SH2B1']\n",
      "['ITGA10']\n",
      "['RNF5']\n",
      "['NDEL1']\n",
      "['AKT1']\n",
      "['BRF1']\n",
      "['ZFYVE21']\n",
      "['ARHGEF7']\n",
      "['PTPRH']\n",
      "['SDC4']\n",
      "['PARVB']\n",
      "['PABPC1']\n",
      "['TGFB1I1']\n",
      "['PAK1']\n",
      "['RAD21']\n",
      "['SOS1']\n",
      "['EZR']\n",
      "['FBLIM1']\n",
      "['NRP2']\n",
      "['ACTN1']\n",
      "['ARHGAP26']\n",
      "['ITGB5']\n",
      "['PLCG1']\n",
      "['SLC3A2']\n",
      "['PTK2']\n",
      "['ENAH']\n",
      "['LIMS2']\n",
      "['RFX5']\n",
      "['CD47']\n",
      "['LMNB1']\n",
      "['LYN']\n",
      "['ITGA5']\n",
      "['SORBS1']\n",
      "['ANKRD28']\n",
      "['E2F7']\n",
      "['KTN1']\n",
      "['SNAPC2']\n",
      "['STARD13']\n",
      "['LAYN']\n",
      "['RDX']\n",
      "['NEDD9']\n",
      "['MARCKS']\n",
      "['GAB1']\n",
      "['ZYX']\n",
      "['ITGAV']\n",
      "['INSR']\n",
      "['ARF1']\n",
      "['LDB3']\n",
      "['PLAUR']\n",
      "['LASP1']\n",
      "['GIT1']\n",
      "['NF2']\n",
      "['RCOR1']\n",
      "['CTCF']\n",
      "['FERMT3']\n",
      "['SORBS3']\n",
      "['TUBA1B']\n",
      "['MMP14']\n",
      "['GRB7']\n",
      "['FERMT2']\n",
      "['CORO2A']\n",
      "['NUDT16L1']\n",
      "['RNF185']\n",
      "['CYTH2']\n",
      "['MYH9']\n",
      "['RAVER1']\n",
      "['PTPN6']\n",
      "['ACTB']\n",
      "['RASA1']\n",
      "['PFN1']\n",
      "['CIB1']\n",
      "['TNS1']\n",
      "['ILKAP']\n",
      "['SPTLC1']\n",
      "['LPP']\n",
      "['SSH1']\n",
      "['FABP3']\n",
      "['ITGA4']\n",
      "['PALLD']\n",
      "['MXI1']\n",
      "['PTPN11']\n",
      "['SIRPA']\n",
      "['DLC1']\n",
      "['TSPAN1']\n",
      "['ARPC2']\n",
      "['AGAP2']\n",
      "['HSPA2']\n",
      "['PTPRF']\n",
      "['MACF1']\n",
      "['RAC1']\n",
      "['INPPL1']\n",
      "['TRIO']\n",
      "['BCAR3']\n",
      "['PTEN']\n",
      "['OSTF1']\n"
     ]
    }
   ],
   "source": [
    "# Print out clusters ordered by size\n",
    "clusters_df = gene_clusters_df.groupby('cluster')['gene'].agg(list).to_frame()\n",
    "clusters_df.columns = ['genes']\n",
    "clusters_df['size'] = [len(c) for c in clusters_df['genes']]\n",
    "clusters_df = clusters_df.sort_values('size', ascending=False)\n",
    "for c in clusters_df['genes']:\n",
    "    if len(c)>1:\n",
    "        print(c)"
   ]
  },
  {
   "cell_type": "markdown",
   "metadata": {},
   "source": [
    "### 6- Save coclustering matrix"
   ]
  },
  {
   "cell_type": "code",
   "execution_count": 308,
   "metadata": {},
   "outputs": [],
   "source": [
    "# Save coclustering matrix\n",
    "coclust_df = pd.DataFrame(0, index=sorted(G.nodes), columns=sorted(G.nodes))\n",
    "for c in clusters_df['genes']:\n",
    "    coclust_df.loc[c,c] = 1\n",
    "np.fill_diagonal(coclust_df.values, 0)\n",
    "with open(saving_dir+f'coclust_df_{edge_weights}_{distance}_{linkage_fn}_{criterion}.pkl', 'wb') as f:\n",
    "    pickle.dump(coclust_df, f)"
   ]
  },
  {
   "cell_type": "code",
   "execution_count": 310,
   "metadata": {},
   "outputs": [
    {
     "data": {
      "text/plain": [
       "1"
      ]
     },
     "execution_count": 310,
     "metadata": {},
     "output_type": "execute_result"
    }
   ],
   "source": [
    "coclust_df.loc['HRAS','SLC16A3']"
   ]
  },
  {
   "cell_type": "markdown",
   "metadata": {},
   "source": [
    "# Analyze outputs of Figure4-tests.py"
   ]
  },
  {
   "cell_type": "code",
   "execution_count": 28,
   "metadata": {},
   "outputs": [],
   "source": [
    "# Params\n",
    "params_hic_ls = [['hic', 'reciprocal', 'average', 'distance'],\n",
    "             ['hic', 'reciprocal', 'average', 'inconsistent'],\n",
    "             ['hic', 'dijkstra', 'average', 'distance'],\n",
    "             ['hic', 'dijkstra', 'average', 'inconsistent']]\n",
    "params_reg_ls = [['regulatory_marks', 'cosine', 'average', 'distance'],\n",
    "             ['regulatory_marks', 'cosine', 'average', 'inconsistent'],\n",
    "             ['regulatory_marks', 'Pearson', 'average', 'distance'],\n",
    "             ['regulatory_marks', 'Pearson', 'average', 'inconsistent']]"
   ]
  },
  {
   "cell_type": "code",
   "execution_count": 32,
   "metadata": {},
   "outputs": [
    {
     "data": {
      "text/html": [
       "<div>\n",
       "<style scoped>\n",
       "    .dataframe tbody tr th:only-of-type {\n",
       "        vertical-align: middle;\n",
       "    }\n",
       "\n",
       "    .dataframe tbody tr th {\n",
       "        vertical-align: top;\n",
       "    }\n",
       "\n",
       "    .dataframe thead th {\n",
       "        text-align: right;\n",
       "    }\n",
       "</style>\n",
       "<table border=\"1\" class=\"dataframe\">\n",
       "  <thead>\n",
       "    <tr style=\"text-align: right;\">\n",
       "      <th></th>\n",
       "      <th>clusters</th>\n",
       "      <th>chroms</th>\n",
       "    </tr>\n",
       "  </thead>\n",
       "  <tbody>\n",
       "    <tr>\n",
       "      <th>0</th>\n",
       "      <td>[CD151, PLEC, UBE2I]</td>\n",
       "      <td>[chr11, chr8, chr16]</td>\n",
       "    </tr>\n",
       "    <tr>\n",
       "      <th>1</th>\n",
       "      <td>[CAV1, TES]</td>\n",
       "      <td>[chr7, chr7]</td>\n",
       "    </tr>\n",
       "    <tr>\n",
       "      <th>2</th>\n",
       "      <td>[CBL, THY1]</td>\n",
       "      <td>[chr11, chr11]</td>\n",
       "    </tr>\n",
       "    <tr>\n",
       "      <th>3</th>\n",
       "      <td>[CTTN, PPFIA1]</td>\n",
       "      <td>[chr11, chr11]</td>\n",
       "    </tr>\n",
       "    <tr>\n",
       "      <th>4</th>\n",
       "      <td>[GRB2, SUMO2]</td>\n",
       "      <td>[chr17, chr17]</td>\n",
       "    </tr>\n",
       "    <tr>\n",
       "      <th>5</th>\n",
       "      <td>[MAPK1, PPM1F]</td>\n",
       "      <td>[chr22, chr22]</td>\n",
       "    </tr>\n",
       "  </tbody>\n",
       "</table>\n",
       "</div>"
      ],
      "text/plain": [
       "               clusters                chroms\n",
       "0  [CD151, PLEC, UBE2I]  [chr11, chr8, chr16]\n",
       "1           [CAV1, TES]          [chr7, chr7]\n",
       "2           [CBL, THY1]        [chr11, chr11]\n",
       "3        [CTTN, PPFIA1]        [chr11, chr11]\n",
       "4         [GRB2, SUMO2]        [chr17, chr17]\n",
       "5        [MAPK1, PPM1F]        [chr22, chr22]"
      ]
     },
     "execution_count": 32,
     "metadata": {},
     "output_type": "execute_result"
    }
   ],
   "source": [
    "# Combined coclustering matrices for HiC based clustering\n",
    "df_ls = []\n",
    "for params in params_hic_ls:\n",
    "    edge_weights, distance, linkage_fn, criterion = params\n",
    "    with open(saving_dir+f'coclust_df_{edge_weights}_{distance}_{linkage_fn}_{criterion}.pkl', 'rb') as f:\n",
    "        coclust_df = pickle.load(f)\n",
    "    df_ls.append(coclust_df)\n",
    "combined_coclust_df = sum(df_ls)\n",
    "\n",
    "# Identify connected components\n",
    "thresh = 4\n",
    "combined_G = nx.from_pandas_adjacency(combined_coclust_df>=thresh)\n",
    "clusters = [sorted(c) for c in sorted(nx.connected_components(combined_G), key=len, reverse=True) if len(c)>1]\n",
    "chroms = [[gene2chrom[g] for g in c] for c in clusters]\n",
    "redundant_clusters_df = pd.DataFrame({'clusters': clusters, 'chroms': chroms})\n",
    "redundant_clusters_df"
   ]
  },
  {
   "cell_type": "code",
   "execution_count": 30,
   "metadata": {},
   "outputs": [
    {
     "data": {
      "text/html": [
       "<div>\n",
       "<style scoped>\n",
       "    .dataframe tbody tr th:only-of-type {\n",
       "        vertical-align: middle;\n",
       "    }\n",
       "\n",
       "    .dataframe tbody tr th {\n",
       "        vertical-align: top;\n",
       "    }\n",
       "\n",
       "    .dataframe thead th {\n",
       "        text-align: right;\n",
       "    }\n",
       "</style>\n",
       "<table border=\"1\" class=\"dataframe\">\n",
       "  <thead>\n",
       "    <tr style=\"text-align: right;\">\n",
       "      <th></th>\n",
       "      <th>clusters</th>\n",
       "      <th>chroms</th>\n",
       "    </tr>\n",
       "  </thead>\n",
       "  <tbody>\n",
       "    <tr>\n",
       "      <th>0</th>\n",
       "      <td>[ABL1, TNS1]</td>\n",
       "      <td>[chr9, chr2]</td>\n",
       "    </tr>\n",
       "    <tr>\n",
       "      <th>1</th>\n",
       "      <td>[ACTN1, STAT3]</td>\n",
       "      <td>[chr14, chr17]</td>\n",
       "    </tr>\n",
       "    <tr>\n",
       "      <th>2</th>\n",
       "      <td>[ANKRD28, TES]</td>\n",
       "      <td>[chr3, chr7]</td>\n",
       "    </tr>\n",
       "    <tr>\n",
       "      <th>3</th>\n",
       "      <td>[ARHGEF12, THY1]</td>\n",
       "      <td>[chr11, chr11]</td>\n",
       "    </tr>\n",
       "    <tr>\n",
       "      <th>4</th>\n",
       "      <td>[ARHGEF2, VASP]</td>\n",
       "      <td>[chr1, chr19]</td>\n",
       "    </tr>\n",
       "    <tr>\n",
       "      <th>5</th>\n",
       "      <td>[ARHGEF7, ITGAE]</td>\n",
       "      <td>[chr13, chr17]</td>\n",
       "    </tr>\n",
       "    <tr>\n",
       "      <th>6</th>\n",
       "      <td>[ARPC2, RHOA]</td>\n",
       "      <td>[chr2, chr3]</td>\n",
       "    </tr>\n",
       "    <tr>\n",
       "      <th>7</th>\n",
       "      <td>[BCAR1, MYH9]</td>\n",
       "      <td>[chr16, chr22]</td>\n",
       "    </tr>\n",
       "    <tr>\n",
       "      <th>8</th>\n",
       "      <td>[BCAR3, PARVA]</td>\n",
       "      <td>[chr1, chr11]</td>\n",
       "    </tr>\n",
       "    <tr>\n",
       "      <th>9</th>\n",
       "      <td>[CALR, CRKL]</td>\n",
       "      <td>[chr19, chr22]</td>\n",
       "    </tr>\n",
       "    <tr>\n",
       "      <th>10</th>\n",
       "      <td>[CAPN2, NCK2]</td>\n",
       "      <td>[chr1, chr2]</td>\n",
       "    </tr>\n",
       "    <tr>\n",
       "      <th>11</th>\n",
       "      <td>[CASP8, E2F7]</td>\n",
       "      <td>[chr2, chr12]</td>\n",
       "    </tr>\n",
       "    <tr>\n",
       "      <th>12</th>\n",
       "      <td>[CASS4, SDC4]</td>\n",
       "      <td>[chr20, chr20]</td>\n",
       "    </tr>\n",
       "    <tr>\n",
       "      <th>13</th>\n",
       "      <td>[CAV1, CTCF]</td>\n",
       "      <td>[chr7, chr16]</td>\n",
       "    </tr>\n",
       "    <tr>\n",
       "      <th>14</th>\n",
       "      <td>[CBL, PTK2]</td>\n",
       "      <td>[chr11, chr8]</td>\n",
       "    </tr>\n",
       "    <tr>\n",
       "      <th>15</th>\n",
       "      <td>[CIB1, INPPL1]</td>\n",
       "      <td>[chr15, chr11]</td>\n",
       "    </tr>\n",
       "    <tr>\n",
       "      <th>16</th>\n",
       "      <td>[CRK, GIT2]</td>\n",
       "      <td>[chr17, chr12]</td>\n",
       "    </tr>\n",
       "    <tr>\n",
       "      <th>17</th>\n",
       "      <td>[CSK, GIT1]</td>\n",
       "      <td>[chr15, chr17]</td>\n",
       "    </tr>\n",
       "    <tr>\n",
       "      <th>18</th>\n",
       "      <td>[FBLIM1, ITGB1BP1]</td>\n",
       "      <td>[chr1, chr2]</td>\n",
       "    </tr>\n",
       "    <tr>\n",
       "      <th>19</th>\n",
       "      <td>[FERMT2, RNF185]</td>\n",
       "      <td>[chr14, chr22]</td>\n",
       "    </tr>\n",
       "    <tr>\n",
       "      <th>20</th>\n",
       "      <td>[FHL2, NEDD9]</td>\n",
       "      <td>[chr2, chr6]</td>\n",
       "    </tr>\n",
       "    <tr>\n",
       "      <th>21</th>\n",
       "      <td>[ILK, TENC1]</td>\n",
       "      <td>[chr11, chr12]</td>\n",
       "    </tr>\n",
       "    <tr>\n",
       "      <th>22</th>\n",
       "      <td>[ILKAP, MAPK1]</td>\n",
       "      <td>[chr2, chr22]</td>\n",
       "    </tr>\n",
       "    <tr>\n",
       "      <th>23</th>\n",
       "      <td>[ITGA1, NRP2]</td>\n",
       "      <td>[chr5, chr2]</td>\n",
       "    </tr>\n",
       "    <tr>\n",
       "      <th>24</th>\n",
       "      <td>[ITGA11, ITGB5]</td>\n",
       "      <td>[chr15, chr3]</td>\n",
       "    </tr>\n",
       "    <tr>\n",
       "      <th>25</th>\n",
       "      <td>[ITGA5, SHC1]</td>\n",
       "      <td>[chr12, chr1]</td>\n",
       "    </tr>\n",
       "    <tr>\n",
       "      <th>26</th>\n",
       "      <td>[ITGA6, NRP1]</td>\n",
       "      <td>[chr2, chr10]</td>\n",
       "    </tr>\n",
       "    <tr>\n",
       "      <th>27</th>\n",
       "      <td>[LASP1, PTPN1]</td>\n",
       "      <td>[chr17, chr20]</td>\n",
       "    </tr>\n",
       "    <tr>\n",
       "      <th>28</th>\n",
       "      <td>[MAFK, PLEC]</td>\n",
       "      <td>[chr7, chr8]</td>\n",
       "    </tr>\n",
       "    <tr>\n",
       "      <th>29</th>\n",
       "      <td>[PARVB, SRC]</td>\n",
       "      <td>[chr22, chr20]</td>\n",
       "    </tr>\n",
       "    <tr>\n",
       "      <th>30</th>\n",
       "      <td>[PIP5K1C, SLC16A3]</td>\n",
       "      <td>[chr19, chr17]</td>\n",
       "    </tr>\n",
       "    <tr>\n",
       "      <th>31</th>\n",
       "      <td>[PLD1, SSH1]</td>\n",
       "      <td>[chr3, chr12]</td>\n",
       "    </tr>\n",
       "    <tr>\n",
       "      <th>32</th>\n",
       "      <td>[PPFIA1, VAV2]</td>\n",
       "      <td>[chr11, chr9]</td>\n",
       "    </tr>\n",
       "    <tr>\n",
       "      <th>33</th>\n",
       "      <td>[PTPN2, SPTLC1]</td>\n",
       "      <td>[chr18, chr9]</td>\n",
       "    </tr>\n",
       "  </tbody>\n",
       "</table>\n",
       "</div>"
      ],
      "text/plain": [
       "              clusters          chroms\n",
       "0         [ABL1, TNS1]    [chr9, chr2]\n",
       "1       [ACTN1, STAT3]  [chr14, chr17]\n",
       "2       [ANKRD28, TES]    [chr3, chr7]\n",
       "3     [ARHGEF12, THY1]  [chr11, chr11]\n",
       "4      [ARHGEF2, VASP]   [chr1, chr19]\n",
       "5     [ARHGEF7, ITGAE]  [chr13, chr17]\n",
       "6        [ARPC2, RHOA]    [chr2, chr3]\n",
       "7        [BCAR1, MYH9]  [chr16, chr22]\n",
       "8       [BCAR3, PARVA]   [chr1, chr11]\n",
       "9         [CALR, CRKL]  [chr19, chr22]\n",
       "10       [CAPN2, NCK2]    [chr1, chr2]\n",
       "11       [CASP8, E2F7]   [chr2, chr12]\n",
       "12       [CASS4, SDC4]  [chr20, chr20]\n",
       "13        [CAV1, CTCF]   [chr7, chr16]\n",
       "14         [CBL, PTK2]   [chr11, chr8]\n",
       "15      [CIB1, INPPL1]  [chr15, chr11]\n",
       "16         [CRK, GIT2]  [chr17, chr12]\n",
       "17         [CSK, GIT1]  [chr15, chr17]\n",
       "18  [FBLIM1, ITGB1BP1]    [chr1, chr2]\n",
       "19    [FERMT2, RNF185]  [chr14, chr22]\n",
       "20       [FHL2, NEDD9]    [chr2, chr6]\n",
       "21        [ILK, TENC1]  [chr11, chr12]\n",
       "22      [ILKAP, MAPK1]   [chr2, chr22]\n",
       "23       [ITGA1, NRP2]    [chr5, chr2]\n",
       "24     [ITGA11, ITGB5]   [chr15, chr3]\n",
       "25       [ITGA5, SHC1]   [chr12, chr1]\n",
       "26       [ITGA6, NRP1]   [chr2, chr10]\n",
       "27      [LASP1, PTPN1]  [chr17, chr20]\n",
       "28        [MAFK, PLEC]    [chr7, chr8]\n",
       "29        [PARVB, SRC]  [chr22, chr20]\n",
       "30  [PIP5K1C, SLC16A3]  [chr19, chr17]\n",
       "31        [PLD1, SSH1]   [chr3, chr12]\n",
       "32      [PPFIA1, VAV2]   [chr11, chr9]\n",
       "33     [PTPN2, SPTLC1]   [chr18, chr9]"
      ]
     },
     "execution_count": 30,
     "metadata": {},
     "output_type": "execute_result"
    }
   ],
   "source": [
    "# Combined coclustering matrices for regulatory based clustering\n",
    "df_ls = []\n",
    "for params in params_reg_ls:\n",
    "    edge_weights, distance, linkage_fn, criterion = params\n",
    "    with open(saving_dir+f'coclust_df_{edge_weights}_{distance}_{linkage_fn}_{criterion}.pkl', 'rb') as f:\n",
    "        coclust_df = pickle.load(f)\n",
    "    df_ls.append(coclust_df)\n",
    "combined_coclust_df = sum(df_ls)\n",
    "\n",
    "# Identify connected components\n",
    "thresh = 4\n",
    "combined_G = nx.from_pandas_adjacency(combined_coclust_df>=thresh)\n",
    "clusters = [sorted(c) for c in sorted(nx.connected_components(combined_G), key=len, reverse=True) if len(c)>1]\n",
    "chroms = [[gene2chrom[g] for g in c] for c in clusters]\n",
    "redundant_clusters_df = pd.DataFrame({'clusters': clusters, 'chroms': chroms})\n",
    "redundant_clusters_df"
   ]
  },
  {
   "cell_type": "code",
   "execution_count": 31,
   "metadata": {},
   "outputs": [
    {
     "data": {
      "text/html": [
       "<div>\n",
       "<style scoped>\n",
       "    .dataframe tbody tr th:only-of-type {\n",
       "        vertical-align: middle;\n",
       "    }\n",
       "\n",
       "    .dataframe tbody tr th {\n",
       "        vertical-align: top;\n",
       "    }\n",
       "\n",
       "    .dataframe thead th {\n",
       "        text-align: right;\n",
       "    }\n",
       "</style>\n",
       "<table border=\"1\" class=\"dataframe\">\n",
       "  <thead>\n",
       "    <tr style=\"text-align: right;\">\n",
       "      <th></th>\n",
       "      <th>clusters</th>\n",
       "      <th>chroms</th>\n",
       "    </tr>\n",
       "  </thead>\n",
       "  <tbody>\n",
       "    <tr>\n",
       "      <th>0</th>\n",
       "      <td>[ARHGEF12, THY1]</td>\n",
       "      <td>[chr11, chr11]</td>\n",
       "    </tr>\n",
       "    <tr>\n",
       "      <th>1</th>\n",
       "      <td>[CD151, PLEC]</td>\n",
       "      <td>[chr11, chr8]</td>\n",
       "    </tr>\n",
       "    <tr>\n",
       "      <th>2</th>\n",
       "      <td>[CTTN, PPFIA1]</td>\n",
       "      <td>[chr11, chr11]</td>\n",
       "    </tr>\n",
       "    <tr>\n",
       "      <th>3</th>\n",
       "      <td>[GAB1, ITGAV]</td>\n",
       "      <td>[chr4, chr2]</td>\n",
       "    </tr>\n",
       "    <tr>\n",
       "      <th>4</th>\n",
       "      <td>[GTF2B, SDCBP]</td>\n",
       "      <td>[chr1, chr8]</td>\n",
       "    </tr>\n",
       "    <tr>\n",
       "      <th>5</th>\n",
       "      <td>[KTN1, STARD13]</td>\n",
       "      <td>[chr14, chr13]</td>\n",
       "    </tr>\n",
       "  </tbody>\n",
       "</table>\n",
       "</div>"
      ],
      "text/plain": [
       "           clusters          chroms\n",
       "0  [ARHGEF12, THY1]  [chr11, chr11]\n",
       "1     [CD151, PLEC]   [chr11, chr8]\n",
       "2    [CTTN, PPFIA1]  [chr11, chr11]\n",
       "3     [GAB1, ITGAV]    [chr4, chr2]\n",
       "4    [GTF2B, SDCBP]    [chr1, chr8]\n",
       "5   [KTN1, STARD13]  [chr14, chr13]"
      ]
     },
     "execution_count": 31,
     "metadata": {},
     "output_type": "execute_result"
    }
   ],
   "source": [
    "# Combined coclustering matrices for regulatory based clustering\n",
    "df_ls = []\n",
    "for params in params_hic_ls+params_reg_ls:\n",
    "    edge_weights, distance, linkage_fn, criterion = params\n",
    "    with open(saving_dir+f'coclust_df_{edge_weights}_{distance}_{linkage_fn}_{criterion}.pkl', 'rb') as f:\n",
    "        coclust_df = pickle.load(f)\n",
    "    df_ls.append(coclust_df)\n",
    "combined_coclust_df = sum(df_ls)\n",
    "\n",
    "# Identify connected components\n",
    "thresh = 5\n",
    "combined_G = nx.from_pandas_adjacency(combined_coclust_df>=thresh)\n",
    "clusters = [sorted(c) for c in sorted(nx.connected_components(combined_G), key=len, reverse=True) if len(c)>1]\n",
    "chroms = [[gene2chrom[g] for g in c] for c in clusters]\n",
    "redundant_clusters_df = pd.DataFrame({'clusters': clusters, 'chroms': chroms})\n",
    "redundant_clusters_df"
   ]
  },
  {
   "cell_type": "code",
   "execution_count": 23,
   "metadata": {},
   "outputs": [
    {
     "data": {
      "text/plain": [
       "'chr13'"
      ]
     },
     "execution_count": 23,
     "metadata": {},
     "output_type": "execute_result"
    }
   ],
   "source": [
    "gene2chrom['STARD13']"
   ]
  },
  {
   "cell_type": "code",
   "execution_count": null,
   "metadata": {},
   "outputs": [],
   "source": []
  }
 ],
 "metadata": {
  "kernelspec": {
   "display_name": "Python 3",
   "language": "python",
   "name": "python3"
  },
  "language_info": {
   "codemirror_mode": {
    "name": "ipython",
    "version": 3
   },
   "file_extension": ".py",
   "mimetype": "text/x-python",
   "name": "python",
   "nbconvert_exporter": "python",
   "pygments_lexer": "ipython3",
   "version": "3.7.4"
  }
 },
 "nbformat": 4,
 "nbformat_minor": 2
}
