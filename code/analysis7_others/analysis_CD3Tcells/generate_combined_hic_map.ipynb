{
 "cells": [
  {
   "cell_type": "markdown",
   "metadata": {},
   "source": [
    "# Figure 1: Adhesome in CD3T HiC"
   ]
  },
  {
   "cell_type": "code",
   "execution_count": 1,
   "metadata": {
    "code_folding": [
     0
    ]
   },
   "outputs": [
    {
     "data": {
      "text/plain": [
       "<module 'correlation_clustering' from '../correlation_clustering.py'>"
      ]
     },
     "execution_count": 1,
     "metadata": {},
     "output_type": "execute_result"
    }
   ],
   "source": [
    "# Import standard libraries\n",
    "import sys\n",
    "import warnings\n",
    "warnings.simplefilter(action='ignore', category=FutureWarning)\n",
    "from importlib import reload\n",
    "import numpy as np\n",
    "import matplotlib as mpl\n",
    "import matplotlib.pyplot as plt\n",
    "from matplotlib_venn import venn2, venn3\n",
    "from brokenaxes import brokenaxes\n",
    "from scipy.cluster.hierarchy import dendrogram, linkage, fcluster\n",
    "from sklearn.metrics import adjusted_mutual_info_score\n",
    "import seaborn as sns\n",
    "from scipy import sparse\n",
    "import scipy.stats as ss\n",
    "import csv\n",
    "import pandas as pd\n",
    "import networkx as nx\n",
    "import community\n",
    "import communities as com\n",
    "import pickle\n",
    "from collections import defaultdict\n",
    "import operator\n",
    "from scipy.sparse import csr_matrix\n",
    "import itertools\n",
    "import os.path\n",
    "import math\n",
    "from sklearn.cluster import AgglomerativeClustering\n",
    "from sklearn.decomposition import PCA\n",
    "from sklearn.manifold import TSNE\n",
    "from sklearn.metrics import adjusted_mutual_info_score\n",
    "from networkx.algorithms.community.kclique import k_clique_communities\n",
    "import pybedtools\n",
    "import time\n",
    "from tqdm import tqdm\n",
    "import random\n",
    "import OmicsIntegrator as oi\n",
    "import gseapy\n",
    "from gseapy.plot import barplot, dotplot\n",
    "from ortools.linear_solver import pywraplp\n",
    "# Custom libraries\n",
    "import utils as lu\n",
    "sys.path.insert(0,'..')\n",
    "import correlation_clustering as cc\n",
    "# Reload modules in case of modifications\n",
    "reload(lu)\n",
    "reload(cc)"
   ]
  },
  {
   "cell_type": "code",
   "execution_count": 2,
   "metadata": {
    "code_folding": []
   },
   "outputs": [],
   "source": [
    "# Specify all directories\n",
    "# Directory of adhesome data\n",
    "dir_adhesome = '/home/louiscam/projects/gpcr/data/adhesome_data/'\n",
    "# Directory of genome data\n",
    "dir_genome = '/home/louiscam/projects/gpcr/data/genome_data/'\n",
    "# Directory of processed HiC\n",
    "dir_processed_hic = '/home/louiscam/projects/gpcr/save/processed_hic_data/processed_hic_data_CD3T/final_BP250000_intraKR_interGWKR/'\n",
    "# Directory of epigenomic data\n",
    "epigenome_dir = '/home/louiscam/projects/gpcr/data/regulatory_data/regulatory_data_CD3T/'\n",
    "processed_epigenome_data_dir = '/home/louiscam/projects/gpcr/save/processed_regulatory_marks/processed_epigenome_data_CD3T/'\n",
    "# Saving directory\n",
    "saving_dir = '/home/louiscam/projects/gpcr/save/figures/'"
   ]
  },
  {
   "cell_type": "code",
   "execution_count": 3,
   "metadata": {
    "code_folding": []
   },
   "outputs": [],
   "source": [
    "# Relevant information\n",
    "cell_type = 'CD3T'\n",
    "resol_str = '250kb'\n",
    "resol = 250000\n",
    "quality = 'MAPQGE30'"
   ]
  },
  {
   "cell_type": "markdown",
   "metadata": {},
   "source": [
    "### Load auxiliary data"
   ]
  },
  {
   "cell_type": "code",
   "execution_count": 4,
   "metadata": {},
   "outputs": [],
   "source": [
    "# Load dictionaries\n",
    "gene2locus = pickle.load(open(saving_dir+'gene2locus.pkl','rb'))\n",
    "locus2gene = pickle.load(open(saving_dir+'locus2gene.pkl','rb'))\n",
    "gene2chrom = pickle.load(open(saving_dir+'gene2chrom.pkl','rb'))"
   ]
  },
  {
   "cell_type": "code",
   "execution_count": 5,
   "metadata": {},
   "outputs": [],
   "source": [
    "# Load gene location in hg19\n",
    "gene_locations_filename = dir_genome+'chrom_hg19.loc_canonical'\n",
    "gene_id_filename = dir_genome+'chrom_hg19.name'\n",
    "df_loc = lu.get_all_gene_locations(gene_locations_filename, gene_id_filename)"
   ]
  },
  {
   "cell_type": "markdown",
   "metadata": {},
   "source": [
    "### Load gene data"
   ]
  },
  {
   "cell_type": "code",
   "execution_count": 33,
   "metadata": {},
   "outputs": [],
   "source": [
    "# Active genes in CD3T\n",
    "all_active_genes = pickle.load(open(saving_dir+'all_active_genes_cd3t.pkl','rb'))"
   ]
  },
  {
   "cell_type": "code",
   "execution_count": 6,
   "metadata": {},
   "outputs": [],
   "source": [
    "# Adhesome genes\n",
    "adhesome_chr_loci = pickle.load(open(saving_dir+'adhesome_chr_loci.pkl','rb'))\n",
    "all_adhesome_genes = adhesome_chr_loci['gene'].unique()\n",
    "all_adhesome_loci = adhesome_chr_loci['locus_id'].unique()"
   ]
  },
  {
   "cell_type": "code",
   "execution_count": 7,
   "metadata": {},
   "outputs": [],
   "source": [
    "# TCR genes\n",
    "tcr_chr_loci = pickle.load(open(saving_dir+'tcr_chr_loci.pkl','rb'))\n",
    "all_tcr_genes = tcr_chr_loci['gene'].unique()\n",
    "all_tcr_loci = tcr_chr_loci['locus_id'].unique()"
   ]
  },
  {
   "cell_type": "code",
   "execution_count": 8,
   "metadata": {},
   "outputs": [],
   "source": [
    "# BCR\n",
    "bcr_chr_loci = pickle.load(open(saving_dir+'bcr_chr_loci.pkl','rb'))\n",
    "all_bcr_genes = bcr_chr_loci['gene'].unique()\n",
    "all_bcr_loci = bcr_chr_loci['locus_id'].unique()"
   ]
  },
  {
   "cell_type": "code",
   "execution_count": 9,
   "metadata": {},
   "outputs": [
    {
     "data": {
      "image/png": "[encoded data removed]",
      "text/plain": [
       "<Figure size 432x288 with 1 Axes>"
      ]
     },
     "metadata": {},
     "output_type": "display_data"
    }
   ],
   "source": [
    "# See overlp between gene lists\n",
    "plt.figure()\n",
    "venn3(subsets = (set(all_adhesome_genes), set(all_tcr_genes), set(all_bcr_genes)), \n",
    "      set_labels = ('Adhesome genes', 'TCR genes', 'BCR genes'))\n",
    "plt.show()"
   ]
  },
  {
   "cell_type": "code",
   "execution_count": 29,
   "metadata": {},
   "outputs": [],
   "source": [
    "# Identify genes in the intersection\n",
    "specific_adhesome_genes = np.array(list(set(all_adhesome_genes)-set(all_tcr_genes)-set(all_bcr_genes)))\n",
    "specific_tcr_genes = np.array(list(set(all_tcr_genes)-set(all_adhesome_genes)-set(all_bcr_genes)))\n",
    "specific_bcr_genes = np.array(list(set(all_bcr_genes)-set(all_adhesome_genes)-set(all_tcr_genes)))\n",
    "common_genes = np.array(list(set.intersection(*[set(all_adhesome_genes), set(all_tcr_genes), set(all_bcr_genes)])))\n",
    "common_genes = np.array(list(set.union(*[set(all_adhesome_genes), set(all_tcr_genes), set(all_bcr_genes)])-\n",
    "                             set(specific_adhesome_genes)-set(specific_tcr_genes)-set(specific_bcr_genes)))"
   ]
  },
  {
   "cell_type": "code",
   "execution_count": 10,
   "metadata": {},
   "outputs": [
    {
     "name": "stdout",
     "output_type": "stream",
     "text": [
      "Number of selected loci = 431\n"
     ]
    }
   ],
   "source": [
    "# Selected loci\n",
    "loci_list = np.unique(np.concatenate([all_adhesome_loci, all_tcr_loci, all_bcr_loci]))\n",
    "print(f'Number of selected loci = {len(loci_list)}')"
   ]
  },
  {
   "cell_type": "code",
   "execution_count": 11,
   "metadata": {},
   "outputs": [],
   "source": [
    "# Buld map from selected loci to corresponding genes\n",
    "selected_locus2gene = {}\n",
    "for loc in loci_list:\n",
    "    adhesome_g = adhesome_chr_loci[adhesome_chr_loci['locus_id']==loc]['gene'].unique()\n",
    "    tcr_g = tcr_chr_loci[tcr_chr_loci['locus_id']==loc]['gene'].unique()\n",
    "    bcr_g = bcr_chr_loci[bcr_chr_loci['locus_id']==loc]['gene'].unique()\n",
    "    selected_locus2gene[loc] = np.unique(np.concatenate([adhesome_g, tcr_g, bcr_g]))"
   ]
  },
  {
   "cell_type": "code",
   "execution_count": 17,
   "metadata": {},
   "outputs": [
    {
     "name": "stderr",
     "output_type": "stream",
     "text": [
      "100%|██████████| 231/231 [00:19<00:00, 12.03it/s]\n"
     ]
    }
   ],
   "source": [
    "# Compute corresponding Hi-C matrix\n",
    "contacts_df = pd.DataFrame(0, index=loci_list, columns=loci_list)\n",
    "# Loop over all chromosome pairs and fill gene_contacts_df\n",
    "chr_list = np.arange(1,23,1)\n",
    "chr_pairs = list(itertools.combinations(chr_list, 2))\n",
    "for pair in tqdm(chr_pairs):\n",
    "    time.sleep(.01)\n",
    "    chr1, chr2 = pair\n",
    "\n",
    "    # Select loci on chr1 and chr2\n",
    "    loci_chr1 = [locus for locus in loci_list if ('chr_'+str(chr1)+'_') in locus]\n",
    "    loci_chr2 = [locus for locus in loci_list if ('chr_'+str(chr2)+'_') in locus]\n",
    "\n",
    "    # Load HiC data for this chromosome pair\n",
    "    processed_hic_filename = 'hic_'+'chr'+str(chr1)+'_'+'chr'+str(chr2)+'_norm1_filter3'+'.pkl'\n",
    "    hic_chpair_df = pickle.load(open(dir_processed_hic+processed_hic_filename, 'rb'))\n",
    "\n",
    "    # Fill in corresponding submatrix of gene_contacts_df by sum of Hi-C contacts across all gene loci\n",
    "    locus_id_pairs = itertools.product(loci_chr1,loci_chr2)\n",
    "    for locus1_id, locus2_id in locus_id_pairs:\n",
    "        locus1 = int(locus1_id.split('_')[3])\n",
    "        locus2 = int(locus2_id.split('_')[3])\n",
    "        contacts_df.loc[locus1_id, locus2_id] = hic_chpair_df.loc[locus1,locus2]\n",
    "# Symmetrize data frame\n",
    "contacts_df = contacts_df+contacts_df.T"
   ]
  },
  {
   "cell_type": "code",
   "execution_count": 18,
   "metadata": {},
   "outputs": [
    {
     "name": "stderr",
     "output_type": "stream",
     "text": [
      "100%|██████████| 22/22 [00:18<00:00,  1.22it/s]\n"
     ]
    }
   ],
   "source": [
    "# Create interX edge list\n",
    "interX_edge_list = cc.create_interX_edgelist(contacts_df, loci_list, selected_locus2gene, gene2chrom)\n",
    "# Create intraX edge list\n",
    "intraX_edge_list = cc.create_intraX_edgelist(loci_list, selected_locus2gene, df_loc, resol, dir_processed_hic)"
   ]
  },
  {
   "cell_type": "code",
   "execution_count": 19,
   "metadata": {},
   "outputs": [],
   "source": [
    "# Combine edge lists\n",
    "inter_selected = interX_edge_list[interX_edge_list['scaled_hic']>0]\n",
    "intra_selected = intraX_edge_list[intraX_edge_list['scaled_hic']>0][['source','target',\n",
    "                                                                       'hic','scaled_hic']]\n",
    "all_selected = pd.concat([inter_selected, intra_selected], axis=0)"
   ]
  },
  {
   "cell_type": "code",
   "execution_count": 20,
   "metadata": {},
   "outputs": [],
   "source": [
    "# Create network and obtain adjacency matrix\n",
    "G = nx.from_pandas_edgelist(all_selected, edge_attr='scaled_hic')\n",
    "adj = np.array(nx.adjacency_matrix(G, nodelist=sorted(G.nodes), weight='scaled_hic').todense())\n",
    "adj = pd.DataFrame(adj, index=sorted(G.nodes), columns=sorted(G.nodes))\n",
    "pickle.dump(adj, open(saving_dir+'combined_adjmat_CD3T.pkl','wb'))"
   ]
  },
  {
   "cell_type": "markdown",
   "metadata": {},
   "source": [
    "### Analyze map"
   ]
  },
  {
   "cell_type": "code",
   "execution_count": 12,
   "metadata": {},
   "outputs": [],
   "source": [
    "# Load adjacency matrices\n",
    "combined_adjmat_CD3T = pickle.load(open(saving_dir+'combined_adjmat_CD3T.pkl','rb'))"
   ]
  },
  {
   "cell_type": "code",
   "execution_count": 34,
   "metadata": {},
   "outputs": [],
   "source": [
    "# Adhesome contacts\n",
    "adhesome_genes_in_index = np.array(list(set.intersection(*[set(all_adhesome_genes),\n",
    "                                                           set(combined_adjmat_CD3T.index.values),\n",
    "                                                           set(all_active_genes)])))\n",
    "adhesome_flat = combined_adjmat_CD3T.loc[adhesome_genes_in_index, adhesome_genes_in_index].values\n",
    "adhesome_flat = adhesome_flat[np.triu_indices(len(adhesome_genes_in_index), 1)]\n",
    "# TCR contacts\n",
    "tcr_genes_in_index = np.array(list(set.intersection(*[set(all_tcr_genes),\n",
    "                                                      set(combined_adjmat_CD3T.index.values),\n",
    "                                                           set(all_active_genes)])))\n",
    "tcr_flat = combined_adjmat_CD3T.loc[tcr_genes_in_index, tcr_genes_in_index].values\n",
    "tcr_flat = tcr_flat[np.triu_indices(len(tcr_genes_in_index), 1)]\n",
    "# BCR contacts\n",
    "bcr_genes_in_index = np.array(list(set.intersection(*[set(all_bcr_genes),\n",
    "                                                      set(combined_adjmat_CD3T.index.values),\n",
    "                                                           set(all_active_genes)])))\n",
    "bcr_flat = combined_adjmat_CD3T.loc[bcr_genes_in_index, bcr_genes_in_index].values\n",
    "bcr_flat = bcr_flat[np.triu_indices(len(bcr_genes_in_index), 1)]"
   ]
  },
  {
   "cell_type": "code",
   "execution_count": 35,
   "metadata": {},
   "outputs": [
    {
     "data": {
      "image/png": "[encoded data removed]",
      "text/plain": [
       "<Figure size 432x288 with 1 Axes>"
      ]
     },
     "metadata": {
      "needs_background": "light"
     },
     "output_type": "display_data"
    }
   ],
   "source": [
    "# Plot histograms\n",
    "plt.figure()\n",
    "plt.hist(adhesome_flat, bins=np.arange(0,1.05, .02), color='dodgerblue', alpha=0.5, density=True,\n",
    "         label='adhesome')\n",
    "plt.hist(tcr_flat, bins=np.arange(0,1.05, .02), color='orange', alpha=0.5, density=True,\n",
    "         label='TCR')\n",
    "plt.hist(bcr_flat, bins=np.arange(0,1.05, .02), color='green', alpha=0.5, density=True,\n",
    "         label='BCR')\n",
    "plt.legend(loc='upper right')\n",
    "plt.xlabel('scaled HiC')\n",
    "plt.ylabel('density')\n",
    "plt.show()"
   ]
  },
  {
   "cell_type": "markdown",
   "metadata": {},
   "source": [
    "### Analyze map: specific genes"
   ]
  },
  {
   "cell_type": "code",
   "execution_count": 36,
   "metadata": {},
   "outputs": [],
   "source": [
    "# Adhesome contacts\n",
    "adhesome_genes_in_index = np.array(list(set.intersection(*[set(specific_adhesome_genes),\n",
    "                                                           set(combined_adjmat_CD3T.index.values),\n",
    "                                                           set(all_active_genes)] )))\n",
    "adhesome_flat = combined_adjmat_CD3T.loc[adhesome_genes_in_index, adhesome_genes_in_index].values\n",
    "adhesome_flat = adhesome_flat[np.triu_indices(len(adhesome_genes_in_index), 1)]\n",
    "# TCR contacts\n",
    "tcr_genes_in_index = np.array(list(set.intersection(*[set(specific_tcr_genes),\n",
    "                                                      set(combined_adjmat_CD3T.index.values),\n",
    "                                                           set(all_active_genes)])))\n",
    "tcr_flat = combined_adjmat_CD3T.loc[tcr_genes_in_index, tcr_genes_in_index].values\n",
    "tcr_flat = tcr_flat[np.triu_indices(len(tcr_genes_in_index), 1)]\n",
    "# BCR contacts\n",
    "bcr_genes_in_index = np.array(list(set.intersection(*[set(specific_bcr_genes),\n",
    "                                                      set(combined_adjmat_CD3T.index.values),\n",
    "                                                           set(all_active_genes)])))\n",
    "bcr_flat = combined_adjmat_CD3T.loc[bcr_genes_in_index, bcr_genes_in_index].values\n",
    "bcr_flat = bcr_flat[np.triu_indices(len(bcr_genes_in_index), 1)]"
   ]
  },
  {
   "cell_type": "code",
   "execution_count": 37,
   "metadata": {},
   "outputs": [
    {
     "data": {
      "image/png": "[encoded data removed]",
      "text/plain": [
       "<Figure size 432x288 with 1 Axes>"
      ]
     },
     "metadata": {
      "needs_background": "light"
     },
     "output_type": "display_data"
    }
   ],
   "source": [
    "# Plot histograms\n",
    "plt.figure()\n",
    "plt.hist(adhesome_flat, bins=np.arange(0,1.05, .02), color='dodgerblue', alpha=0.5, density=True,\n",
    "         label='adhesome')\n",
    "plt.hist(tcr_flat, bins=np.arange(0,1.05, .02), color='orange', alpha=0.5, density=True,\n",
    "         label='TCR')\n",
    "plt.hist(bcr_flat, bins=np.arange(0,1.05, .02), color='green', alpha=0.5, density=True,\n",
    "         label='BCR')\n",
    "plt.legend(loc='upper right')\n",
    "plt.xlabel('scaled HiC')\n",
    "plt.ylabel('density')\n",
    "plt.show()"
   ]
  },
  {
   "cell_type": "markdown",
   "metadata": {},
   "source": [
    "### Analyze maps: common genes"
   ]
  },
  {
   "cell_type": "code",
   "execution_count": 38,
   "metadata": {},
   "outputs": [],
   "source": [
    "# In index\n",
    "common_genes_in_index = np.array(list(set.intersection(*[set(common_genes),\n",
    "                                                           set(combined_adjmat_CD3T.index.values),\n",
    "                                                           set(all_active_genes)] )))\n",
    "# Adhesome contacts\n",
    "adhesome_genes_in_index = np.array(list(set.intersection(*[set(specific_adhesome_genes),\n",
    "                                                           set(combined_adjmat_CD3T.index.values),\n",
    "                                                           set(all_active_genes)] )))\n",
    "adhesome_flat = combined_adjmat_CD3T.loc[common_genes_in_index, adhesome_genes_in_index].values\n",
    "adhesome_flat = adhesome_flat.flatten()\n",
    "# TCR contacts\n",
    "tcr_genes_in_index = np.array(list(set.intersection(*[set(specific_tcr_genes),\n",
    "                                                      set(combined_adjmat_CD3T.index.values),\n",
    "                                                           set(all_active_genes)])))\n",
    "tcr_flat = combined_adjmat_CD3T.loc[common_genes_in_index, tcr_genes_in_index].values\n",
    "tcr_flat = tcr_flat.flatten()\n",
    "# BCR contacts\n",
    "bcr_genes_in_index = np.array(list(set.intersection(*[set(specific_bcr_genes),\n",
    "                                                      set(combined_adjmat_CD3T.index.values),\n",
    "                                                           set(all_active_genes)])))\n",
    "bcr_flat = combined_adjmat_CD3T.loc[common_genes_in_index, bcr_genes_in_index].values\n",
    "bcr_flat = bcr_flat.flatten()"
   ]
  },
  {
   "cell_type": "code",
   "execution_count": 39,
   "metadata": {},
   "outputs": [
    {
     "data": {
      "image/png": "[encoded data removed]",
      "text/plain": [
       "<Figure size 432x288 with 1 Axes>"
      ]
     },
     "metadata": {
      "needs_background": "light"
     },
     "output_type": "display_data"
    }
   ],
   "source": [
    "# Plot histograms\n",
    "plt.figure()\n",
    "plt.hist(adhesome_flat, bins=np.arange(0,1.05, .02), color='dodgerblue', alpha=0.5, density=True,\n",
    "         label='adhesome')\n",
    "plt.hist(tcr_flat, bins=np.arange(0,1.05, .02), color='orange', alpha=0.5, density=True,\n",
    "         label='TCR')\n",
    "plt.hist(bcr_flat, bins=np.arange(0,1.05, .02), color='green', alpha=0.5, density=True,\n",
    "         label='BCR')\n",
    "plt.legend(loc='upper right')\n",
    "plt.xlabel('scaled HiC')\n",
    "plt.ylabel('density')\n",
    "plt.show()"
   ]
  },
  {
   "cell_type": "code",
   "execution_count": null,
   "metadata": {},
   "outputs": [],
   "source": []
  }
 ],
 "metadata": {
  "kernelspec": {
   "display_name": "Python 3",
   "language": "python",
   "name": "python3"
  },
  "language_info": {
   "codemirror_mode": {
    "name": "ipython",
    "version": 3
   },
   "file_extension": ".py",
   "mimetype": "text/x-python",
   "name": "python",
   "nbconvert_exporter": "python",
   "pygments_lexer": "ipython3",
   "version": "3.7.4"
  }
 },
 "nbformat": 4,
 "nbformat_minor": 2
}
