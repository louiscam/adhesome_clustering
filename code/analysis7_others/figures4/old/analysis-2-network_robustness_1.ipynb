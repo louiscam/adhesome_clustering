{
 "cells": [
  {
   "cell_type": "markdown",
   "metadata": {},
   "source": [
    "Objective:\n",
    "- Build adhesome network (threshold, inter/inter+intra) and perform WCC, HC, sanity checks and robustness analysis\n",
    "- Similar for adhesome and adhesome+adhesome TFs network"
   ]
  },
  {
   "cell_type": "markdown",
   "metadata": {},
   "source": [
    "### Setup"
   ]
  },
  {
   "cell_type": "code",
   "execution_count": 1,
   "metadata": {
    "code_folding": []
   },
   "outputs": [
    {
     "data": {
      "text/plain": [
       "<module 'correlation_clustering' from '/home/louiscam/projects/gpcr/code/figures2/correlation_clustering.py'>"
      ]
     },
     "execution_count": 1,
     "metadata": {},
     "output_type": "execute_result"
    }
   ],
   "source": [
    "# Import standard libraries\n",
    "import warnings\n",
    "warnings.simplefilter(action='ignore', category=FutureWarning)\n",
    "from importlib import reload\n",
    "import numpy as np\n",
    "import matplotlib as mpl\n",
    "import matplotlib.pyplot as plt\n",
    "from scipy.cluster.hierarchy import dendrogram, linkage, fcluster\n",
    "from sklearn.metrics import adjusted_mutual_info_score\n",
    "import seaborn as sns\n",
    "from scipy import sparse\n",
    "import scipy.stats as ss\n",
    "import csv\n",
    "import pandas as pd\n",
    "import networkx as nx\n",
    "import community\n",
    "import communities as com\n",
    "import pickle\n",
    "from collections import defaultdict\n",
    "import operator\n",
    "from scipy.sparse import csr_matrix\n",
    "import itertools\n",
    "import os.path\n",
    "import math\n",
    "from sklearn.cluster import AgglomerativeClustering\n",
    "from sklearn.decomposition import PCA\n",
    "from sklearn.manifold import TSNE\n",
    "from sklearn.metrics import adjusted_mutual_info_score\n",
    "from networkx.algorithms.community.kclique import k_clique_communities\n",
    "import pybedtools\n",
    "import time\n",
    "from tqdm import tqdm\n",
    "import random\n",
    "import OmicsIntegrator as oi\n",
    "import gseapy\n",
    "from gseapy.plot import barplot, dotplot\n",
    "from ortools.linear_solver import pywraplp\n",
    "from pyvis.network import Network\n",
    "# Custom libraries\n",
    "import utils as lu\n",
    "import correlation_clustering as cc\n",
    "# Reload modules in case of modifications\n",
    "reload(lu)\n",
    "reload(cc)"
   ]
  },
  {
   "cell_type": "code",
   "execution_count": 2,
   "metadata": {
    "code_folding": [
     0
    ]
   },
   "outputs": [],
   "source": [
    "# Specify all directories\n",
    "\n",
    "# Directory of adhesome data\n",
    "dir_adhesome = '/home/louiscam/projects/gpcr/data/adhesome_data/'\n",
    "# Directory of genome data\n",
    "dir_genome = '/home/louiscam/projects/gpcr/data/genome_data/'\n",
    "# Directory of processed HiC\n",
    "dir_processed_hic = '/home/louiscam/projects/gpcr/save/processed_hic_data_dir/'\n",
    "# Directory for storing preliminary results\n",
    "prelim_results_dir = '/home/louiscam/projects/gpcr/save/prelim_results_dir/'\n",
    "# Directory of epigenomic data\n",
    "epigenome_dir = '/home/louiscam/projects/gpcr/data/epigenome_data/'\n",
    "processed_epigenome_data_dir = '/home/louiscam/projects/gpcr/save/processed_epigenome_data_dir/'\n",
    "# Directory of proteins of interest\n",
    "dir_proteins = '/home/louiscam/projects/gpcr/data/protein_families/'\n",
    "# Saving directory\n",
    "saving_dir = '/home/louiscam/projects/gpcr/save/figures/'"
   ]
  },
  {
   "cell_type": "code",
   "execution_count": 3,
   "metadata": {
    "code_folding": [
     0
    ]
   },
   "outputs": [],
   "source": [
    "# Relevant information\n",
    "cell_type = 'IMR90'\n",
    "resol_str = '250kb'\n",
    "resol = 250000\n",
    "quality = 'MAPQGE30'"
   ]
  },
  {
   "cell_type": "markdown",
   "metadata": {},
   "source": [
    "# Load data"
   ]
  },
  {
   "cell_type": "code",
   "execution_count": 4,
   "metadata": {},
   "outputs": [],
   "source": [
    "# Load gene location in hg19\n",
    "gene_locations_filename = dir_genome+'chrom_hg19.loc_canonical'\n",
    "gene_id_filename = dir_genome+'chrom_hg19.name'\n",
    "df_loc = lu.get_all_gene_locations(gene_locations_filename, gene_id_filename)"
   ]
  },
  {
   "cell_type": "code",
   "execution_count": 5,
   "metadata": {},
   "outputs": [],
   "source": [
    "# Adhesome genes and loci\n",
    "active_adhesome_genes = pickle.load(open(saving_dir+'active_adhesome_genes.pkl', 'rb'))\n",
    "active_adhesome_loci = pickle.load(open(saving_dir+'active_adhesome_genes_loci.pkl', 'rb'))\n",
    "adhesome_chr_loci = pickle.load(open(saving_dir+'adhesome_chr_loci.pkl', 'rb'))"
   ]
  },
  {
   "cell_type": "code",
   "execution_count": 6,
   "metadata": {},
   "outputs": [],
   "source": [
    "# Adhesome TF genes and loci\n",
    "active_lung_adhesome_tf_genes = pickle.load(open(saving_dir+'active_lung_adhesome_tf_genes.pkl','rb'))\n",
    "active_lung_adhesome_tf_loci = pickle.load(open(saving_dir+'active_lung_adhesome_tf_loci.pkl','rb'))"
   ]
  },
  {
   "cell_type": "code",
   "execution_count": 7,
   "metadata": {},
   "outputs": [],
   "source": [
    "# Selected genes = Adhesome genes + adhesome TFs\n",
    "selected_genes = np.unique(np.concatenate([active_adhesome_genes,active_lung_adhesome_tf_genes], axis=0))\n",
    "selected_loci = np.unique(np.concatenate([active_adhesome_loci,active_lung_adhesome_tf_loci], axis=0))\n",
    "selected_gene2locus = pickle.load(open(saving_dir+'adh_and_tf_gene2locus.pkl','rb'))\n",
    "selected_locus2gene = pickle.load(open(saving_dir+'adh_and_tf_locus2gene.pkl','rb'))\n",
    "adh_and_tf_chr_loci = pickle.load(open(saving_dir+'adh_and_tf_chr_loci.pkl','rb'))\n",
    "contacts_df = pickle.load(open(saving_dir+'contacts_df.pkl','rb')).loc[selected_loci,selected_loci]"
   ]
  },
  {
   "cell_type": "markdown",
   "metadata": {},
   "source": [
    "# Network of adhesome genes and adhesome TF genes"
   ]
  },
  {
   "cell_type": "markdown",
   "metadata": {},
   "source": [
    "### Network of adhesome genes: interX edges"
   ]
  },
  {
   "cell_type": "raw",
   "metadata": {},
   "source": [
    "# Build interX edge list\n",
    "adhesome_interX_edge_list = cc.create_interX_edgelist(contacts_df, selected_loci, selected_locus2gene)\n",
    "pickle.dump(adhesome_interX_edge_list, open(saving_dir+'adhesome_interX_edge_list.pkl', 'wb'))\n",
    "print('Number of interX edges = '+str(len(adhesome_interX_edge_list)))\n",
    "\n",
    "# Histogram of interX contacts\n",
    "plt.figure()\n",
    "plt.hist(adhesome_interX_edge_list['scaled_hic'].values, bins=np.arange(0,1.05,0.05))\n",
    "plt.xlabel('scaled hic')\n",
    "plt.ylabel('number of interactions')\n",
    "plt.title('histogram of min-max scaled interX Hi-C')\n",
    "plt.show()"
   ]
  },
  {
   "cell_type": "markdown",
   "metadata": {},
   "source": [
    "### Network of adhesome genes: intraX edges"
   ]
  },
  {
   "cell_type": "raw",
   "metadata": {},
   "source": [
    "# Build intraX edge list\n",
    "adhesome_intraX_edge_list = cc.create_intraX_edgelist(selected_loci, selected_locus2gene, df_loc, resol, dir_processed_hic)\n",
    "pickle.dump(adhesome_intraX_edge_list, open(saving_dir+'adhesome_intraX_edge_list.pkl', 'wb'))\n",
    "print(len(adhesome_intraX_edge_list))\n",
    "\n",
    "# Histogram of intraX contacts\n",
    "plt.figure()\n",
    "plt.hist(adhesome_intraX_edge_list['scaled_hic'].values, bins=np.arange(0,1.05,0.05))\n",
    "plt.xlabel('scaled hic')\n",
    "plt.ylabel('number of interactions')\n",
    "plt.title('histogram of min-max scaled intraX Hi-C')\n",
    "plt.show()"
   ]
  },
  {
   "cell_type": "markdown",
   "metadata": {},
   "source": [
    "### Network of adhesome genes: interX and intraX"
   ]
  },
  {
   "cell_type": "code",
   "execution_count": 8,
   "metadata": {
    "code_folding": []
   },
   "outputs": [],
   "source": [
    "# Load edge lists\n",
    "adhesome_interX_edge_list = pickle.load(open(saving_dir+'adhesome_interX_edge_list.pkl', 'rb'))\n",
    "adhesome_intraX_edge_list = pickle.load(open(saving_dir+'adhesome_intraX_edge_list.pkl', 'rb'))"
   ]
  },
  {
   "cell_type": "code",
   "execution_count": 9,
   "metadata": {
    "code_folding": []
   },
   "outputs": [
    {
     "data": {
      "image/png": "[encoded data removed]",
      "text/plain": [
       "<Figure size 720x144 with 2 Axes>"
      ]
     },
     "metadata": {
      "needs_background": "light"
     },
     "output_type": "display_data"
    }
   ],
   "source": [
    "# Plot thresholds\n",
    "plt.figure(figsize=(10,2))\n",
    "plt.subplot(1, 2, 1)\n",
    "plt.hist(adhesome_interX_edge_list['scaled_hic'], bins=np.arange(0,1.01,0.01))\n",
    "plt.vlines(x=np.quantile(adhesome_interX_edge_list['scaled_hic'],0.72), ymin=0, ymax=800, \n",
    "           color='red', linestyle='dashed')\n",
    "plt.xlabel('scaled hic')\n",
    "plt.ylabel('number of edges')\n",
    "plt.title('interX edges scaled HiC')\n",
    "\n",
    "plt.subplot(1, 2, 2)\n",
    "plt.hist(adhesome_intraX_edge_list['scaled_hic'], bins=np.arange(0,1.01,0.01))\n",
    "plt.vlines(x=np.quantile(adhesome_intraX_edge_list['scaled_hic'],0.72), ymin=0, ymax=60, \n",
    "           color='red', linestyle='dashed')\n",
    "plt.xlabel('scaled hic')\n",
    "plt.ylabel('number of edges')\n",
    "plt.title('intraX edges scaled HiC')\n",
    "\n",
    "plt.show()"
   ]
  },
  {
   "cell_type": "markdown",
   "metadata": {},
   "source": [
    "### Genomic features for each adhesome gene"
   ]
  },
  {
   "cell_type": "code",
   "execution_count": 10,
   "metadata": {},
   "outputs": [],
   "source": [
    "# Load epigenomic features\n",
    "df_all_norm = pd.read_csv(saving_dir+'features_matrix_all_genes_norm.csv', header=0, index_col=0)\n",
    "# Restrict to genes in cluster\n",
    "df_cluster_norm = df_all_norm[selected_genes]\n",
    "# Compute gene Spearman correlation matrix\n",
    "adhesome_loc_corr = df_cluster_norm.corr(method='spearman')"
   ]
  },
  {
   "cell_type": "code",
   "execution_count": 11,
   "metadata": {},
   "outputs": [],
   "source": [
    "# Add Spearman correlation to interX edge list\n",
    "adhesome_interX_edge_list['spearman_corr'] = [adhesome_loc_corr.loc[adhesome_interX_edge_list.iloc[i]['source'],\n",
    "                                                                    adhesome_interX_edge_list.iloc[i]['target']]\n",
    "                                              for i in range(len(adhesome_interX_edge_list))]\n",
    "# Add Spearman correlation to intraX edge list\n",
    "adhesome_intraX_edge_list['spearman_corr'] = [adhesome_loc_corr.loc[adhesome_intraX_edge_list.iloc[i]['source'],\n",
    "                                                                    adhesome_intraX_edge_list.iloc[i]['target']]\n",
    "                                              for i in range(len(adhesome_intraX_edge_list))]"
   ]
  },
  {
   "cell_type": "code",
   "execution_count": 12,
   "metadata": {
    "code_folding": [
     0
    ]
   },
   "outputs": [
    {
     "data": {
      "image/png": "[encoded data removed]",
      "text/plain": [
       "<Figure size 720x144 with 2 Axes>"
      ]
     },
     "metadata": {
      "needs_background": "light"
     },
     "output_type": "display_data"
    },
    {
     "name": "stdout",
     "output_type": "stream",
     "text": [
      "interX test:\n",
      "Ttest_1sampResult(statistic=61.991558272440265, pvalue=0.0)\n",
      "KstestResult(statistic=0.27274116380250935, pvalue=0.0)\n",
      "intraX test:\n",
      "Ttest_1sampResult(statistic=18.259730402891176, pvalue=1.3090754318868136e-56)\n",
      "KstestResult(statistic=0.35614236586916637, pvalue=1.2576719813518743e-53)\n"
     ]
    }
   ],
   "source": [
    "# Plot distribution of Spearman correlation in selected edges\n",
    "hic_threshold = 0.72\n",
    "t = np.quantile(adhesome_interX_edge_list['scaled_hic'],hic_threshold)\n",
    "u = np.quantile(adhesome_intraX_edge_list['scaled_hic'],hic_threshold)\n",
    "inter_selected = adhesome_interX_edge_list[adhesome_interX_edge_list['scaled_hic']>t]\n",
    "intra_selected = adhesome_intraX_edge_list[adhesome_intraX_edge_list['scaled_hic']>u]\n",
    "[['source','target','hic','scaled_hic','spearman_corr']]\n",
    "plt.figure(figsize=(10,2))\n",
    "# interX\n",
    "plt.subplot(1, 2, 1)\n",
    "plt.hist(inter_selected['spearman_corr'], \n",
    "         bins=np.arange(-1,1.01,0.01),\n",
    "        color='orange')\n",
    "plt.vlines(x=np.mean(inter_selected['spearman_corr']), ymin=0, ymax=100, color='red', linestyle='dashed')\n",
    "plt.xlabel('interX spearman correlation')\n",
    "plt.ylabel('number of edges')\n",
    "plt.title('interX edges Spearman correlation')\n",
    "\n",
    "# intraX\n",
    "plt.subplot(1, 2, 2)\n",
    "plt.hist(intra_selected['spearman_corr'], \n",
    "         bins=np.arange(-1,1.01,0.01),\n",
    "        color='orange')\n",
    "plt.vlines(x=np.mean(intra_selected['spearman_corr']), ymin=0, ymax=10, color='red', linestyle='dashed')\n",
    "plt.xlabel('intraX spearman correlation')\n",
    "plt.ylabel('number of edges')\n",
    "plt.title('intraX edges Spearman correlation')\n",
    "\n",
    "plt.show()\n",
    "# Run statistical tests\n",
    "print('interX test:')\n",
    "print(ss.ttest_1samp(inter_selected['spearman_corr'], popmean=0))\n",
    "print(ss.kstest(inter_selected['spearman_corr']/np.std(inter_selected['spearman_corr']), cdf=ss.norm.cdf, alternative='two-sided'))\n",
    "print('intraX test:')\n",
    "print(ss.ttest_1samp(intra_selected['spearman_corr'], popmean=0))\n",
    "print(ss.kstest(intra_selected['spearman_corr']/np.std(intra_selected['spearman_corr']), cdf=ss.norm.cdf, alternative='two-sided'))"
   ]
  },
  {
   "cell_type": "code",
   "execution_count": 13,
   "metadata": {
    "code_folding": []
   },
   "outputs": [
    {
     "data": {
      "image/png": "[encoded data removed]",
      "text/plain": [
       "<Figure size 720x288 with 4 Axes>"
      ]
     },
     "metadata": {
      "needs_background": "light"
     },
     "output_type": "display_data"
    }
   ],
   "source": [
    "# Plot relationship between HiC and Spearman correlation\n",
    "hic_threshold = 0.72\n",
    "t = np.quantile(adhesome_interX_edge_list['scaled_hic'],hic_threshold)\n",
    "u = np.quantile(adhesome_intraX_edge_list['scaled_hic'],hic_threshold)\n",
    "inter_selected = adhesome_interX_edge_list[adhesome_interX_edge_list['scaled_hic']>t]\n",
    "intra_selected = adhesome_intraX_edge_list[adhesome_intraX_edge_list['scaled_hic']>u][['source','target','hic','scaled_hic','spearman_corr']]\n",
    "fig, (ax1, ax2) = plt.subplots(1, 2, figsize=(10,4))\n",
    "# InterX edges\n",
    "x = inter_selected['scaled_hic']\n",
    "y = inter_selected['spearman_corr']\n",
    "h1 = ax1.hist2d(x, y, (100, 100), cmap=plt.cm.jet)\n",
    "m, b = np.polyfit(x, y, 1)\n",
    "ax1.plot(x, m*x+b, color='red')\n",
    "ax1.set_xlabel('scaled HiC')\n",
    "ax1.set_ylabel('Spearman correlation')\n",
    "fig.colorbar(h1[3], ax=ax1)\n",
    "pearson = ss.pearsonr(x,y)\n",
    "ax1.set_title('interX (corr='+str(np.round(pearson[0],3))+', pval='+str(np.round(pearson[1],3))+')')\n",
    "# IntraX edges\n",
    "x = intra_selected['scaled_hic']\n",
    "y = intra_selected['spearman_corr']\n",
    "h2 = ax2.hist2d(x, y, (100, 100), cmap=plt.cm.jet)\n",
    "m, b = np.polyfit(x, y, 1)\n",
    "ax2.plot(x, m*x+b, color='red')\n",
    "ax2.set_xlabel('scaled HiC')\n",
    "ax2.set_ylabel('Spearman correlation')\n",
    "fig.colorbar(h2[3], ax=ax2)\n",
    "pearson = ss.pearsonr(x,y)\n",
    "ax2.set_title('intraX (corr='+str(np.round(pearson[0],3))+', pval='+str(np.round(pearson[1],3))+')')\n",
    "plt.show()"
   ]
  },
  {
   "cell_type": "markdown",
   "metadata": {},
   "source": [
    "# Clustering analysis"
   ]
  },
  {
   "cell_type": "code",
   "execution_count": 14,
   "metadata": {},
   "outputs": [],
   "source": [
    "# Parameters\n",
    "hic_threshold = 0.72\n",
    "with_intra = True\n",
    "weights = 'spearman_corr'"
   ]
  },
  {
   "cell_type": "code",
   "execution_count": 15,
   "metadata": {},
   "outputs": [],
   "source": [
    "# Selected edge list\n",
    "t = np.quantile(adhesome_interX_edge_list['scaled_hic'],hic_threshold)\n",
    "u = np.quantile(adhesome_intraX_edge_list['scaled_hic'],hic_threshold)\n",
    "inter_selected = adhesome_interX_edge_list[adhesome_interX_edge_list['scaled_hic']>t]\n",
    "intra_selected = adhesome_intraX_edge_list[adhesome_intraX_edge_list['scaled_hic']>u][['source','target','hic','scaled_hic','spearman_corr']]\n",
    "adhesome_edge_list = inter_selected\n",
    "if with_intra == True:\n",
    "    adhesome_edge_list = pd.concat([adhesome_edge_list,intra_selected])\n",
    "G = nx.from_pandas_edgelist(adhesome_edge_list, edge_attr=['hic','scaled_hic','spearman_corr'])\n",
    "G.add_nodes_from(active_adhesome_genes)"
   ]
  },
  {
   "cell_type": "markdown",
   "metadata": {},
   "source": [
    "### Clustering with VOTE+BOEM"
   ]
  },
  {
   "cell_type": "code",
   "execution_count": 16,
   "metadata": {},
   "outputs": [
    {
     "name": "stdout",
     "output_type": "stream",
     "text": [
      "Objective value after vote =  1508.52\n",
      "Objective value after boem =  1485.91\n",
      "Number of clusters =  143\n",
      "Number of singletons = 87\n",
      "Number of nodes in non trivial clusters = 164\n",
      "Size of clusters\n"
     ]
    },
    {
     "data": {
      "image/png": "[encoded data removed]",
      "text/plain": [
       "<Figure size 432x288 with 1 Axes>"
      ]
     },
     "metadata": {
      "needs_background": "light"
     },
     "output_type": "display_data"
    }
   ],
   "source": [
    "# Run WCC\n",
    "wcc = cc.weighted_correlation_clustering_micha(adhesome_interX_edge_list, \n",
    "                                               adhesome_intraX_edge_list,\n",
    "                                               selected_genes,\n",
    "                                               hic_threshold,\n",
    "                                               with_intra,\n",
    "                                               weights,\n",
    "                                               num_calls=100,\n",
    "                                               seed=13)\n",
    "clustering_graph2_wcc, vote_objective, boem_objective, num_clusters = wcc\n",
    "print('Objective value after vote = ', vote_objective)\n",
    "print('Objective value after boem = ', boem_objective)\n",
    "print('Number of clusters = ', num_clusters)\n",
    "# Clustering characteristics\n",
    "comps = np.unique(np.unique(clustering_graph2_wcc, return_counts=True)[1],return_counts=True)\n",
    "print('Number of singletons = '+str(comps[1][0]))\n",
    "print('Number of nodes in non trivial clusters = '+str(len(clustering_graph2_wcc)-comps[1][0]))\n",
    "print('Size of clusters')\n",
    "plt.figure()\n",
    "plt.bar(x=comps[0], height=comps[1])\n",
    "plt.xlabel('number of nodes')\n",
    "plt.ylabel('number of cliques')\n",
    "plt.show()"
   ]
  },
  {
   "cell_type": "code",
   "execution_count": 17,
   "metadata": {},
   "outputs": [],
   "source": [
    "# Clustered graph\n",
    "cG = G.copy()\n",
    "labels = np.array(sorted(cG.nodes))\n",
    "n = len(labels)\n",
    "# Add cluster information for each node\n",
    "nx.set_node_attributes(cG, {labels[i]: str(clustering_graph2_wcc[i]) for i in range(n)}, \"wcc_cluster\")\n",
    "# Add chromosome information for each node\n",
    "nx.set_node_attributes(cG, {labels[i]: adh_and_tf_chr_loci[adh_and_tf_chr_loci['gene']==labels[i]]['chrom'].values[0] for i in range(n)}, \"chromosome\")\n",
    "# Drop singletons\n",
    "singleton_clusters = np.where(np.unique(clustering_graph2_wcc, return_counts=True)[1]==1)[0]+1\n",
    "singletons = labels[np.where([node_cluster in singleton_clusters for node_cluster in clustering_graph2_wcc])]\n",
    "cG.remove_nodes_from(singletons)\n",
    "# Save network to html\n",
    "#oi.output_networkx_graph_as_interactive_html(cG, filename=saving_dir+\"clusteredG_wcc_intra.html\")\n",
    "#oi.output_networkx_graph_as_interactive_html(cG, filename=saving_dir+\"clusteredG_wcc_nointra.html\")"
   ]
  },
  {
   "cell_type": "code",
   "execution_count": 18,
   "metadata": {},
   "outputs": [
    {
     "data": {
      "image/png": "[encoded data removed]",
      "text/plain": [
       "<Figure size 432x288 with 1 Axes>"
      ]
     },
     "metadata": {
      "needs_background": "light"
     },
     "output_type": "display_data"
    }
   ],
   "source": [
    "# Plot number of chromosomes per cluster\n",
    "plt.figure()\n",
    "oi.get_networkx_graph_as_dataframe_of_nodes(cG).groupby('wcc_cluster')['chromosome'].nunique().plot.hist()\n",
    "plt.xlabel('number of chromosomes')\n",
    "plt.ylabel('number of clusters')\n",
    "plt.show()"
   ]
  },
  {
   "cell_type": "markdown",
   "metadata": {},
   "source": [
    "### Clustering with hierarchical clustering"
   ]
  },
  {
   "cell_type": "code",
   "execution_count": 19,
   "metadata": {},
   "outputs": [
    {
     "name": "stderr",
     "output_type": "stream",
     "text": [
      "100%|██████████| 200/200 [00:08<00:00, 23.38it/s]\n"
     ]
    }
   ],
   "source": [
    "# Perform HC with various thresholds\n",
    "threshold_list = np.arange(0,2,0.01)\n",
    "n_clusters = []\n",
    "for hc_threshold in tqdm(threshold_list):\n",
    "    clustering_graph2_hc = cc.hierarchical_clustering(adhesome_interX_edge_list, \n",
    "                                                      adhesome_intraX_edge_list,\n",
    "                                                      selected_genes,\n",
    "                                                      hic_threshold,\n",
    "                                                      with_intra,\n",
    "                                                      weights,\n",
    "                                                      hc_threshold,\n",
    "                                                      plot=False)\n",
    "    n_clusters.append(len(np.unique(clustering_graph2_hc)))\n",
    "n_clusters = np.array(n_clusters)"
   ]
  },
  {
   "cell_type": "code",
   "execution_count": 20,
   "metadata": {},
   "outputs": [
    {
     "name": "stdout",
     "output_type": "stream",
     "text": [
      "Threshold of largest drop = 0.995\n"
     ]
    },
    {
     "data": {
      "image/png": "[encoded data removed]",
      "text/plain": [
       "<Figure size 432x288 with 1 Axes>"
      ]
     },
     "metadata": {
      "needs_background": "light"
     },
     "output_type": "display_data"
    }
   ],
   "source": [
    "# Plot number of clusters as a function of HC threshold\n",
    "t_critic = (threshold_list[np.where(n_clusters>50)[0][-1]]+threshold_list[np.where(n_clusters<50)[0][0]])/2\n",
    "print('Threshold of largest drop = '+str(t_critic))\n",
    "plt.figure()\n",
    "plt.scatter(threshold_list, n_clusters)\n",
    "plt.vlines(x=t_critic, ymin=0, ymax=250, color='red', linestyle='dashed')\n",
    "plt.xlabel('HC threshold')\n",
    "plt.ylabel('number of clusters')\n",
    "plt.show()"
   ]
  },
  {
   "cell_type": "code",
   "execution_count": 21,
   "metadata": {
    "scrolled": false
   },
   "outputs": [
    {
     "data": {
      "image/png": "[encoded data removed]",
      "text/plain": [
       "<Figure size 720x2880 with 1 Axes>"
      ]
     },
     "metadata": {
      "needs_background": "light"
     },
     "output_type": "display_data"
    },
    {
     "name": "stdout",
     "output_type": "stream",
     "text": [
      "Number of clusters = 105\n",
      "Number of singletons = 26\n",
      "Number of nodes in non trivial clusters = 225\n",
      "Size of clusters\n"
     ]
    },
    {
     "data": {
      "image/png": "[encoded data removed]",
      "text/plain": [
       "<Figure size 432x288 with 1 Axes>"
      ]
     },
     "metadata": {
      "needs_background": "light"
     },
     "output_type": "display_data"
    }
   ],
   "source": [
    "#Run HC\n",
    "hc_threshold = t_critic\n",
    "clustering_graph2_hc = cc.hierarchical_clustering(adhesome_interX_edge_list, \n",
    "                                                  adhesome_intraX_edge_list,\n",
    "                                                  selected_genes,\n",
    "                                                  hic_threshold,\n",
    "                                                  with_intra,\n",
    "                                                  weights,\n",
    "                                                  hc_threshold,\n",
    "                                                  plot=True)\n",
    "# Clustering characteristics\n",
    "comps = np.unique(np.unique(clustering_graph2_hc, return_counts=True)[1],return_counts=True)\n",
    "print('Number of clusters = '+str(len(np.unique(clustering_graph2_hc))))\n",
    "print('Number of singletons = '+str(comps[1][0]))\n",
    "print('Number of nodes in non trivial clusters = '+str(len(clustering_graph2_hc)-comps[1][0]))\n",
    "print('Size of clusters')\n",
    "plt.figure()\n",
    "plt.bar(x=comps[0], height=comps[1])\n",
    "plt.xlabel('number of nodes')\n",
    "plt.ylabel('number of cliques')\n",
    "plt.show()"
   ]
  },
  {
   "cell_type": "code",
   "execution_count": 22,
   "metadata": {},
   "outputs": [],
   "source": [
    "# Clustered graph\n",
    "cG = G.copy()\n",
    "labels = np.array(sorted(cG.nodes))\n",
    "n = len(labels)\n",
    "# Add cluster information for each node\n",
    "nx.set_node_attributes(cG, {labels[i]: str(clustering_graph2_hc[i]) for i in range(n)}, \"hc_cluster\")\n",
    "# Add chromosome information for each node\n",
    "nx.set_node_attributes(cG, {labels[i]: adh_and_tf_chr_loci[adh_and_tf_chr_loci['gene']==labels[i]]['chrom'].values[0] for i in range(n)}, \"chromosome\")\n",
    "# Drop singletons\n",
    "singleton_clusters = np.where(np.unique(clustering_graph2_hc, return_counts=True)[1]==1)[0]+1\n",
    "singletons = labels[np.where([node_cluster in singleton_clusters for node_cluster in clustering_graph2_hc])]\n",
    "cG.remove_nodes_from(singletons)\n",
    "# Save network to html\n",
    "#oi.output_networkx_graph_as_interactive_html(cG, filename=saving_dir+\"clusteredG_hc_intra.html\")\n",
    "#oi.output_networkx_graph_as_interactive_html(cG, filename=saving_dir+\"clusteredG_hc_nointra.html\")"
   ]
  },
  {
   "cell_type": "code",
   "execution_count": 23,
   "metadata": {},
   "outputs": [
    {
     "data": {
      "image/png": "[encoded data removed]",
      "text/plain": [
       "<Figure size 432x288 with 1 Axes>"
      ]
     },
     "metadata": {
      "needs_background": "light"
     },
     "output_type": "display_data"
    }
   ],
   "source": [
    "# Plot number of chromosomes per cluster\n",
    "plt.figure()\n",
    "oi.get_networkx_graph_as_dataframe_of_nodes(cG).groupby('hc_cluster')['chromosome'].nunique().plot.hist()\n",
    "plt.xlabel('number of chromosomes')\n",
    "plt.ylabel('number of clusters')\n",
    "plt.show()"
   ]
  },
  {
   "cell_type": "markdown",
   "metadata": {},
   "source": [
    "### Sanity checks"
   ]
  },
  {
   "cell_type": "code",
   "execution_count": 24,
   "metadata": {},
   "outputs": [],
   "source": [
    "# Produce a random clustering for comparison with same number of clusters as WCC\n",
    "np.random.seed(14)\n",
    "clustering_graph2_random = np.random.permutation(clustering_graph2_wcc)"
   ]
  },
  {
   "cell_type": "code",
   "execution_count": 25,
   "metadata": {},
   "outputs": [
    {
     "data": {
      "text/html": [
       "<div>\n",
       "<style scoped>\n",
       "    .dataframe tbody tr th:only-of-type {\n",
       "        vertical-align: middle;\n",
       "    }\n",
       "\n",
       "    .dataframe tbody tr th {\n",
       "        vertical-align: top;\n",
       "    }\n",
       "\n",
       "    .dataframe thead th {\n",
       "        text-align: right;\n",
       "    }\n",
       "</style>\n",
       "<table border=\"1\" class=\"dataframe\">\n",
       "  <thead>\n",
       "    <tr style=\"text-align: right;\">\n",
       "      <th></th>\n",
       "      <th>source</th>\n",
       "      <th>target</th>\n",
       "      <th>hic</th>\n",
       "      <th>scaled_hic</th>\n",
       "      <th>spearman_corr</th>\n",
       "    </tr>\n",
       "  </thead>\n",
       "  <tbody>\n",
       "    <tr>\n",
       "      <th>17210</th>\n",
       "      <td>PARVA</td>\n",
       "      <td>PTPN1</td>\n",
       "      <td>1.956734</td>\n",
       "      <td>0.399427</td>\n",
       "      <td>0.952019</td>\n",
       "    </tr>\n",
       "    <tr>\n",
       "      <th>23986</th>\n",
       "      <td>STARD13</td>\n",
       "      <td>RNF185</td>\n",
       "      <td>1.845927</td>\n",
       "      <td>0.368980</td>\n",
       "      <td>0.920213</td>\n",
       "    </tr>\n",
       "    <tr>\n",
       "      <th>5099</th>\n",
       "      <td>CRK</td>\n",
       "      <td>PTPN1</td>\n",
       "      <td>2.833272</td>\n",
       "      <td>0.640278</td>\n",
       "      <td>0.911420</td>\n",
       "    </tr>\n",
       "    <tr>\n",
       "      <th>3909</th>\n",
       "      <td>CBL</td>\n",
       "      <td>PTK2</td>\n",
       "      <td>1.990875</td>\n",
       "      <td>0.408808</td>\n",
       "      <td>0.906318</td>\n",
       "    </tr>\n",
       "    <tr>\n",
       "      <th>17519</th>\n",
       "      <td>PEAK1</td>\n",
       "      <td>PTPN2</td>\n",
       "      <td>1.908741</td>\n",
       "      <td>0.386240</td>\n",
       "      <td>0.884933</td>\n",
       "    </tr>\n",
       "  </tbody>\n",
       "</table>\n",
       "</div>"
      ],
      "text/plain": [
       "        source  target       hic  scaled_hic  spearman_corr\n",
       "17210    PARVA   PTPN1  1.956734    0.399427       0.952019\n",
       "23986  STARD13  RNF185  1.845927    0.368980       0.920213\n",
       "5099       CRK   PTPN1  2.833272    0.640278       0.911420\n",
       "3909       CBL    PTK2  1.990875    0.408808       0.906318\n",
       "17519    PEAK1   PTPN2  1.908741    0.386240       0.884933"
      ]
     },
     "execution_count": 25,
     "metadata": {},
     "output_type": "execute_result"
    }
   ],
   "source": [
    "# Strongest edges (Spearman correlation)\n",
    "adhesome_edge_list_sorted = adhesome_edge_list.sort_values(by='spearman_corr', ascending=False)\n",
    "adhesome_edge_list_sorted.head()"
   ]
  },
  {
   "cell_type": "code",
   "execution_count": 26,
   "metadata": {},
   "outputs": [
    {
     "data": {
      "text/html": [
       "<div>\n",
       "<style scoped>\n",
       "    .dataframe tbody tr th:only-of-type {\n",
       "        vertical-align: middle;\n",
       "    }\n",
       "\n",
       "    .dataframe tbody tr th {\n",
       "        vertical-align: top;\n",
       "    }\n",
       "\n",
       "    .dataframe thead th {\n",
       "        text-align: right;\n",
       "    }\n",
       "</style>\n",
       "<table border=\"1\" class=\"dataframe\">\n",
       "  <thead>\n",
       "    <tr style=\"text-align: right;\">\n",
       "      <th></th>\n",
       "      <th>source</th>\n",
       "      <th>target</th>\n",
       "      <th>hic</th>\n",
       "      <th>scaled_hic</th>\n",
       "      <th>spearman_corr</th>\n",
       "      <th>coclustered_wcc</th>\n",
       "    </tr>\n",
       "  </thead>\n",
       "  <tbody>\n",
       "    <tr>\n",
       "      <th>17210</th>\n",
       "      <td>PARVA</td>\n",
       "      <td>PTPN1</td>\n",
       "      <td>1.956734</td>\n",
       "      <td>0.399427</td>\n",
       "      <td>0.952019</td>\n",
       "      <td>False</td>\n",
       "    </tr>\n",
       "    <tr>\n",
       "      <th>23986</th>\n",
       "      <td>STARD13</td>\n",
       "      <td>RNF185</td>\n",
       "      <td>1.845927</td>\n",
       "      <td>0.368980</td>\n",
       "      <td>0.920213</td>\n",
       "      <td>False</td>\n",
       "    </tr>\n",
       "    <tr>\n",
       "      <th>5099</th>\n",
       "      <td>CRK</td>\n",
       "      <td>PTPN1</td>\n",
       "      <td>2.833272</td>\n",
       "      <td>0.640278</td>\n",
       "      <td>0.911420</td>\n",
       "      <td>True</td>\n",
       "    </tr>\n",
       "    <tr>\n",
       "      <th>3909</th>\n",
       "      <td>CBL</td>\n",
       "      <td>PTK2</td>\n",
       "      <td>1.990875</td>\n",
       "      <td>0.408808</td>\n",
       "      <td>0.906318</td>\n",
       "      <td>True</td>\n",
       "    </tr>\n",
       "    <tr>\n",
       "      <th>17519</th>\n",
       "      <td>PEAK1</td>\n",
       "      <td>PTPN2</td>\n",
       "      <td>1.908741</td>\n",
       "      <td>0.386240</td>\n",
       "      <td>0.884933</td>\n",
       "      <td>True</td>\n",
       "    </tr>\n",
       "  </tbody>\n",
       "</table>\n",
       "</div>"
      ],
      "text/plain": [
       "        source  target       hic  scaled_hic  spearman_corr coclustered_wcc\n",
       "17210    PARVA   PTPN1  1.956734    0.399427       0.952019           False\n",
       "23986  STARD13  RNF185  1.845927    0.368980       0.920213           False\n",
       "5099       CRK   PTPN1  2.833272    0.640278       0.911420            True\n",
       "3909       CBL    PTK2  1.990875    0.408808       0.906318            True\n",
       "17519    PEAK1   PTPN2  1.908741    0.386240       0.884933            True"
      ]
     },
     "execution_count": 26,
     "metadata": {},
     "output_type": "execute_result"
    }
   ],
   "source": [
    "# Check whether these edges are clustered together in WCC\n",
    "adhesome_edge_list_sorted['coclustered_wcc'] = 0\n",
    "for i in range(len(adhesome_edge_list_sorted)):\n",
    "    index_gene1 = int(np.where(np.array(sorted(G.nodes))==adhesome_edge_list_sorted.iloc[i,0])[0])\n",
    "    index_gene2 = int(np.where(np.array(sorted(G.nodes))==adhesome_edge_list_sorted.iloc[i,1])[0])\n",
    "    adhesome_edge_list_sorted.iloc[i,5] = (clustering_graph2_wcc[index_gene1]==clustering_graph2_wcc[index_gene2])\n",
    "adhesome_edge_list_sorted.head()"
   ]
  },
  {
   "cell_type": "code",
   "execution_count": 27,
   "metadata": {
    "scrolled": true
   },
   "outputs": [
    {
     "data": {
      "text/html": [
       "<div>\n",
       "<style scoped>\n",
       "    .dataframe tbody tr th:only-of-type {\n",
       "        vertical-align: middle;\n",
       "    }\n",
       "\n",
       "    .dataframe tbody tr th {\n",
       "        vertical-align: top;\n",
       "    }\n",
       "\n",
       "    .dataframe thead th {\n",
       "        text-align: right;\n",
       "    }\n",
       "</style>\n",
       "<table border=\"1\" class=\"dataframe\">\n",
       "  <thead>\n",
       "    <tr style=\"text-align: right;\">\n",
       "      <th></th>\n",
       "      <th>source</th>\n",
       "      <th>target</th>\n",
       "      <th>hic</th>\n",
       "      <th>scaled_hic</th>\n",
       "      <th>spearman_corr</th>\n",
       "      <th>coclustered_wcc</th>\n",
       "      <th>coclustered_hc</th>\n",
       "    </tr>\n",
       "  </thead>\n",
       "  <tbody>\n",
       "    <tr>\n",
       "      <th>17210</th>\n",
       "      <td>PARVA</td>\n",
       "      <td>PTPN1</td>\n",
       "      <td>1.956734</td>\n",
       "      <td>0.399427</td>\n",
       "      <td>0.952019</td>\n",
       "      <td>False</td>\n",
       "      <td>True</td>\n",
       "    </tr>\n",
       "    <tr>\n",
       "      <th>23986</th>\n",
       "      <td>STARD13</td>\n",
       "      <td>RNF185</td>\n",
       "      <td>1.845927</td>\n",
       "      <td>0.368980</td>\n",
       "      <td>0.920213</td>\n",
       "      <td>False</td>\n",
       "      <td>False</td>\n",
       "    </tr>\n",
       "    <tr>\n",
       "      <th>5099</th>\n",
       "      <td>CRK</td>\n",
       "      <td>PTPN1</td>\n",
       "      <td>2.833272</td>\n",
       "      <td>0.640278</td>\n",
       "      <td>0.911420</td>\n",
       "      <td>True</td>\n",
       "      <td>False</td>\n",
       "    </tr>\n",
       "    <tr>\n",
       "      <th>3909</th>\n",
       "      <td>CBL</td>\n",
       "      <td>PTK2</td>\n",
       "      <td>1.990875</td>\n",
       "      <td>0.408808</td>\n",
       "      <td>0.906318</td>\n",
       "      <td>True</td>\n",
       "      <td>True</td>\n",
       "    </tr>\n",
       "    <tr>\n",
       "      <th>17519</th>\n",
       "      <td>PEAK1</td>\n",
       "      <td>PTPN2</td>\n",
       "      <td>1.908741</td>\n",
       "      <td>0.386240</td>\n",
       "      <td>0.884933</td>\n",
       "      <td>True</td>\n",
       "      <td>True</td>\n",
       "    </tr>\n",
       "  </tbody>\n",
       "</table>\n",
       "</div>"
      ],
      "text/plain": [
       "        source  target       hic  scaled_hic  spearman_corr coclustered_wcc  \\\n",
       "17210    PARVA   PTPN1  1.956734    0.399427       0.952019           False   \n",
       "23986  STARD13  RNF185  1.845927    0.368980       0.920213           False   \n",
       "5099       CRK   PTPN1  2.833272    0.640278       0.911420            True   \n",
       "3909       CBL    PTK2  1.990875    0.408808       0.906318            True   \n",
       "17519    PEAK1   PTPN2  1.908741    0.386240       0.884933            True   \n",
       "\n",
       "      coclustered_hc  \n",
       "17210           True  \n",
       "23986          False  \n",
       "5099           False  \n",
       "3909            True  \n",
       "17519           True  "
      ]
     },
     "execution_count": 27,
     "metadata": {},
     "output_type": "execute_result"
    }
   ],
   "source": [
    "# Check whether these edges are clustered together in HC\n",
    "adhesome_edge_list_sorted['coclustered_hc'] = 0\n",
    "for i in range(len(adhesome_edge_list_sorted)):\n",
    "    index_gene1 = int(np.where(np.array(sorted(G.nodes))==adhesome_edge_list_sorted.iloc[i,0])[0])\n",
    "    index_gene2 = int(np.where(np.array(sorted(G.nodes))==adhesome_edge_list_sorted.iloc[i,1])[0])\n",
    "    adhesome_edge_list_sorted.iloc[i,6] = (clustering_graph2_hc[index_gene1]==clustering_graph2_hc[index_gene2])\n",
    "adhesome_edge_list_sorted.head()"
   ]
  },
  {
   "cell_type": "code",
   "execution_count": 28,
   "metadata": {},
   "outputs": [
    {
     "data": {
      "text/html": [
       "<div>\n",
       "<style scoped>\n",
       "    .dataframe tbody tr th:only-of-type {\n",
       "        vertical-align: middle;\n",
       "    }\n",
       "\n",
       "    .dataframe tbody tr th {\n",
       "        vertical-align: top;\n",
       "    }\n",
       "\n",
       "    .dataframe thead th {\n",
       "        text-align: right;\n",
       "    }\n",
       "</style>\n",
       "<table border=\"1\" class=\"dataframe\">\n",
       "  <thead>\n",
       "    <tr style=\"text-align: right;\">\n",
       "      <th></th>\n",
       "      <th>source</th>\n",
       "      <th>target</th>\n",
       "      <th>hic</th>\n",
       "      <th>scaled_hic</th>\n",
       "      <th>spearman_corr</th>\n",
       "      <th>coclustered_wcc</th>\n",
       "      <th>coclustered_hc</th>\n",
       "      <th>coclustered_random</th>\n",
       "    </tr>\n",
       "  </thead>\n",
       "  <tbody>\n",
       "    <tr>\n",
       "      <th>17210</th>\n",
       "      <td>PARVA</td>\n",
       "      <td>PTPN1</td>\n",
       "      <td>1.956734</td>\n",
       "      <td>0.399427</td>\n",
       "      <td>0.952019</td>\n",
       "      <td>False</td>\n",
       "      <td>True</td>\n",
       "      <td>False</td>\n",
       "    </tr>\n",
       "    <tr>\n",
       "      <th>23986</th>\n",
       "      <td>STARD13</td>\n",
       "      <td>RNF185</td>\n",
       "      <td>1.845927</td>\n",
       "      <td>0.368980</td>\n",
       "      <td>0.920213</td>\n",
       "      <td>False</td>\n",
       "      <td>False</td>\n",
       "      <td>False</td>\n",
       "    </tr>\n",
       "    <tr>\n",
       "      <th>5099</th>\n",
       "      <td>CRK</td>\n",
       "      <td>PTPN1</td>\n",
       "      <td>2.833272</td>\n",
       "      <td>0.640278</td>\n",
       "      <td>0.911420</td>\n",
       "      <td>True</td>\n",
       "      <td>False</td>\n",
       "      <td>False</td>\n",
       "    </tr>\n",
       "    <tr>\n",
       "      <th>3909</th>\n",
       "      <td>CBL</td>\n",
       "      <td>PTK2</td>\n",
       "      <td>1.990875</td>\n",
       "      <td>0.408808</td>\n",
       "      <td>0.906318</td>\n",
       "      <td>True</td>\n",
       "      <td>True</td>\n",
       "      <td>False</td>\n",
       "    </tr>\n",
       "    <tr>\n",
       "      <th>17519</th>\n",
       "      <td>PEAK1</td>\n",
       "      <td>PTPN2</td>\n",
       "      <td>1.908741</td>\n",
       "      <td>0.386240</td>\n",
       "      <td>0.884933</td>\n",
       "      <td>True</td>\n",
       "      <td>True</td>\n",
       "      <td>False</td>\n",
       "    </tr>\n",
       "  </tbody>\n",
       "</table>\n",
       "</div>"
      ],
      "text/plain": [
       "        source  target       hic  scaled_hic  spearman_corr coclustered_wcc  \\\n",
       "17210    PARVA   PTPN1  1.956734    0.399427       0.952019           False   \n",
       "23986  STARD13  RNF185  1.845927    0.368980       0.920213           False   \n",
       "5099       CRK   PTPN1  2.833272    0.640278       0.911420            True   \n",
       "3909       CBL    PTK2  1.990875    0.408808       0.906318            True   \n",
       "17519    PEAK1   PTPN2  1.908741    0.386240       0.884933            True   \n",
       "\n",
       "      coclustered_hc coclustered_random  \n",
       "17210           True              False  \n",
       "23986          False              False  \n",
       "5099           False              False  \n",
       "3909            True              False  \n",
       "17519           True              False  "
      ]
     },
     "execution_count": 28,
     "metadata": {},
     "output_type": "execute_result"
    }
   ],
   "source": [
    "# Check whether these edges are clustered together in the random clustering\n",
    "adhesome_edge_list_sorted['coclustered_random'] = 0\n",
    "for i in range(len(adhesome_edge_list_sorted)):\n",
    "    index_gene1 = int(np.where(np.array(sorted(G.nodes))==adhesome_edge_list_sorted.iloc[i,0])[0])\n",
    "    index_gene2 = int(np.where(np.array(sorted(G.nodes))==adhesome_edge_list_sorted.iloc[i,1])[0])\n",
    "    adhesome_edge_list_sorted.iloc[i,7] = (clustering_graph2_random[index_gene1]==clustering_graph2_random[index_gene2])\n",
    "adhesome_edge_list_sorted.head()"
   ]
  },
  {
   "cell_type": "code",
   "execution_count": 29,
   "metadata": {},
   "outputs": [
    {
     "data": {
      "text/html": [
       "<div>\n",
       "<style scoped>\n",
       "    .dataframe tbody tr th:only-of-type {\n",
       "        vertical-align: middle;\n",
       "    }\n",
       "\n",
       "    .dataframe tbody tr th {\n",
       "        vertical-align: top;\n",
       "    }\n",
       "\n",
       "    .dataframe thead th {\n",
       "        text-align: right;\n",
       "    }\n",
       "</style>\n",
       "<table border=\"1\" class=\"dataframe\">\n",
       "  <thead>\n",
       "    <tr style=\"text-align: right;\">\n",
       "      <th></th>\n",
       "      <th>source</th>\n",
       "      <th>target</th>\n",
       "      <th>hic</th>\n",
       "      <th>scaled_hic</th>\n",
       "      <th>spearman_corr</th>\n",
       "      <th>coclustered_wcc</th>\n",
       "      <th>coclustered_hc</th>\n",
       "      <th>coclustered_random</th>\n",
       "      <th>coclustered_wcc_hc</th>\n",
       "    </tr>\n",
       "  </thead>\n",
       "  <tbody>\n",
       "    <tr>\n",
       "      <th>17210</th>\n",
       "      <td>PARVA</td>\n",
       "      <td>PTPN1</td>\n",
       "      <td>1.956734</td>\n",
       "      <td>0.399427</td>\n",
       "      <td>0.952019</td>\n",
       "      <td>False</td>\n",
       "      <td>True</td>\n",
       "      <td>False</td>\n",
       "      <td>False</td>\n",
       "    </tr>\n",
       "    <tr>\n",
       "      <th>23986</th>\n",
       "      <td>STARD13</td>\n",
       "      <td>RNF185</td>\n",
       "      <td>1.845927</td>\n",
       "      <td>0.368980</td>\n",
       "      <td>0.920213</td>\n",
       "      <td>False</td>\n",
       "      <td>False</td>\n",
       "      <td>False</td>\n",
       "      <td>False</td>\n",
       "    </tr>\n",
       "    <tr>\n",
       "      <th>5099</th>\n",
       "      <td>CRK</td>\n",
       "      <td>PTPN1</td>\n",
       "      <td>2.833272</td>\n",
       "      <td>0.640278</td>\n",
       "      <td>0.911420</td>\n",
       "      <td>True</td>\n",
       "      <td>False</td>\n",
       "      <td>False</td>\n",
       "      <td>False</td>\n",
       "    </tr>\n",
       "    <tr>\n",
       "      <th>3909</th>\n",
       "      <td>CBL</td>\n",
       "      <td>PTK2</td>\n",
       "      <td>1.990875</td>\n",
       "      <td>0.408808</td>\n",
       "      <td>0.906318</td>\n",
       "      <td>True</td>\n",
       "      <td>True</td>\n",
       "      <td>False</td>\n",
       "      <td>True</td>\n",
       "    </tr>\n",
       "    <tr>\n",
       "      <th>17519</th>\n",
       "      <td>PEAK1</td>\n",
       "      <td>PTPN2</td>\n",
       "      <td>1.908741</td>\n",
       "      <td>0.386240</td>\n",
       "      <td>0.884933</td>\n",
       "      <td>True</td>\n",
       "      <td>True</td>\n",
       "      <td>False</td>\n",
       "      <td>True</td>\n",
       "    </tr>\n",
       "  </tbody>\n",
       "</table>\n",
       "</div>"
      ],
      "text/plain": [
       "        source  target       hic  scaled_hic  spearman_corr coclustered_wcc  \\\n",
       "17210    PARVA   PTPN1  1.956734    0.399427       0.952019           False   \n",
       "23986  STARD13  RNF185  1.845927    0.368980       0.920213           False   \n",
       "5099       CRK   PTPN1  2.833272    0.640278       0.911420            True   \n",
       "3909       CBL    PTK2  1.990875    0.408808       0.906318            True   \n",
       "17519    PEAK1   PTPN2  1.908741    0.386240       0.884933            True   \n",
       "\n",
       "      coclustered_hc coclustered_random coclustered_wcc_hc  \n",
       "17210           True              False              False  \n",
       "23986          False              False              False  \n",
       "5099           False              False              False  \n",
       "3909            True              False               True  \n",
       "17519           True              False               True  "
      ]
     },
     "execution_count": 29,
     "metadata": {},
     "output_type": "execute_result"
    }
   ],
   "source": [
    "# Check whether these edges are clustered together in both WCC and HC\n",
    "adhesome_edge_list_sorted['coclustered_wcc_hc'] = 0\n",
    "for i in range(len(adhesome_edge_list_sorted)):\n",
    "    index_gene1 = int(np.where(np.array(sorted(G.nodes))==adhesome_edge_list_sorted.iloc[i,0])[0])\n",
    "    index_gene2 = int(np.where(np.array(sorted(G.nodes))==adhesome_edge_list_sorted.iloc[i,1])[0])\n",
    "    adhesome_edge_list_sorted.iloc[i,8] = (adhesome_edge_list_sorted.iloc[i,5]==True) and (adhesome_edge_list_sorted.iloc[i,6]==True)\n",
    "adhesome_edge_list_sorted.head()"
   ]
  },
  {
   "cell_type": "code",
   "execution_count": 30,
   "metadata": {
    "scrolled": true
   },
   "outputs": [
    {
     "data": {
      "text/html": [
       "<div>\n",
       "<style scoped>\n",
       "    .dataframe tbody tr th:only-of-type {\n",
       "        vertical-align: middle;\n",
       "    }\n",
       "\n",
       "    .dataframe tbody tr th {\n",
       "        vertical-align: top;\n",
       "    }\n",
       "\n",
       "    .dataframe thead th {\n",
       "        text-align: right;\n",
       "    }\n",
       "</style>\n",
       "<table border=\"1\" class=\"dataframe\">\n",
       "  <thead>\n",
       "    <tr style=\"text-align: right;\">\n",
       "      <th></th>\n",
       "      <th>source</th>\n",
       "      <th>target</th>\n",
       "      <th>hic</th>\n",
       "      <th>scaled_hic</th>\n",
       "      <th>spearman_corr</th>\n",
       "      <th>coclustered_wcc</th>\n",
       "      <th>coclustered_hc</th>\n",
       "      <th>coclustered_random</th>\n",
       "      <th>coclustered_wcc_hc</th>\n",
       "      <th>hc_wcc_match</th>\n",
       "    </tr>\n",
       "  </thead>\n",
       "  <tbody>\n",
       "    <tr>\n",
       "      <th>17210</th>\n",
       "      <td>PARVA</td>\n",
       "      <td>PTPN1</td>\n",
       "      <td>1.956734</td>\n",
       "      <td>0.399427</td>\n",
       "      <td>0.952019</td>\n",
       "      <td>False</td>\n",
       "      <td>True</td>\n",
       "      <td>False</td>\n",
       "      <td>False</td>\n",
       "      <td>False</td>\n",
       "    </tr>\n",
       "    <tr>\n",
       "      <th>23986</th>\n",
       "      <td>STARD13</td>\n",
       "      <td>RNF185</td>\n",
       "      <td>1.845927</td>\n",
       "      <td>0.368980</td>\n",
       "      <td>0.920213</td>\n",
       "      <td>False</td>\n",
       "      <td>False</td>\n",
       "      <td>False</td>\n",
       "      <td>False</td>\n",
       "      <td>True</td>\n",
       "    </tr>\n",
       "    <tr>\n",
       "      <th>5099</th>\n",
       "      <td>CRK</td>\n",
       "      <td>PTPN1</td>\n",
       "      <td>2.833272</td>\n",
       "      <td>0.640278</td>\n",
       "      <td>0.911420</td>\n",
       "      <td>True</td>\n",
       "      <td>False</td>\n",
       "      <td>False</td>\n",
       "      <td>False</td>\n",
       "      <td>False</td>\n",
       "    </tr>\n",
       "    <tr>\n",
       "      <th>3909</th>\n",
       "      <td>CBL</td>\n",
       "      <td>PTK2</td>\n",
       "      <td>1.990875</td>\n",
       "      <td>0.408808</td>\n",
       "      <td>0.906318</td>\n",
       "      <td>True</td>\n",
       "      <td>True</td>\n",
       "      <td>False</td>\n",
       "      <td>True</td>\n",
       "      <td>True</td>\n",
       "    </tr>\n",
       "    <tr>\n",
       "      <th>17519</th>\n",
       "      <td>PEAK1</td>\n",
       "      <td>PTPN2</td>\n",
       "      <td>1.908741</td>\n",
       "      <td>0.386240</td>\n",
       "      <td>0.884933</td>\n",
       "      <td>True</td>\n",
       "      <td>True</td>\n",
       "      <td>False</td>\n",
       "      <td>True</td>\n",
       "      <td>True</td>\n",
       "    </tr>\n",
       "  </tbody>\n",
       "</table>\n",
       "</div>"
      ],
      "text/plain": [
       "        source  target       hic  scaled_hic  spearman_corr coclustered_wcc  \\\n",
       "17210    PARVA   PTPN1  1.956734    0.399427       0.952019           False   \n",
       "23986  STARD13  RNF185  1.845927    0.368980       0.920213           False   \n",
       "5099       CRK   PTPN1  2.833272    0.640278       0.911420            True   \n",
       "3909       CBL    PTK2  1.990875    0.408808       0.906318            True   \n",
       "17519    PEAK1   PTPN2  1.908741    0.386240       0.884933            True   \n",
       "\n",
       "      coclustered_hc coclustered_random coclustered_wcc_hc hc_wcc_match  \n",
       "17210           True              False              False        False  \n",
       "23986          False              False              False         True  \n",
       "5099           False              False              False        False  \n",
       "3909            True              False               True         True  \n",
       "17519           True              False               True         True  "
      ]
     },
     "execution_count": 30,
     "metadata": {},
     "output_type": "execute_result"
    }
   ],
   "source": [
    "# Check whether WCC and HCC produce similar clusters\n",
    "adhesome_edge_list_sorted['hc_wcc_match'] = 0\n",
    "for i in range(len(adhesome_edge_list_sorted)):\n",
    "    adhesome_edge_list_sorted.iloc[i,9] = (adhesome_edge_list_sorted.iloc[i,5]==adhesome_edge_list_sorted.iloc[i,6])\n",
    "adhesome_edge_list_sorted.head()"
   ]
  },
  {
   "cell_type": "code",
   "execution_count": 31,
   "metadata": {},
   "outputs": [
    {
     "data": {
      "text/html": [
       "<div>\n",
       "<style scoped>\n",
       "    .dataframe tbody tr th:only-of-type {\n",
       "        vertical-align: middle;\n",
       "    }\n",
       "\n",
       "    .dataframe tbody tr th {\n",
       "        vertical-align: top;\n",
       "    }\n",
       "\n",
       "    .dataframe thead th {\n",
       "        text-align: right;\n",
       "    }\n",
       "</style>\n",
       "<table border=\"1\" class=\"dataframe\">\n",
       "  <thead>\n",
       "    <tr style=\"text-align: right;\">\n",
       "      <th></th>\n",
       "      <th>source</th>\n",
       "      <th>target</th>\n",
       "      <th>hic</th>\n",
       "      <th>scaled_hic</th>\n",
       "      <th>spearman_corr</th>\n",
       "      <th>coclustered_wcc</th>\n",
       "      <th>coclustered_hc</th>\n",
       "      <th>coclustered_random</th>\n",
       "      <th>coclustered_wcc_hc</th>\n",
       "      <th>hc_wcc_match</th>\n",
       "      <th>coclustered_wcc_cumsum</th>\n",
       "      <th>coclustered_hc_cumsum</th>\n",
       "      <th>coclustered_random_cumsum</th>\n",
       "      <th>coclustered_wcc_hc_cumsum</th>\n",
       "      <th>hc_wcc_match_cumsum</th>\n",
       "    </tr>\n",
       "  </thead>\n",
       "  <tbody>\n",
       "    <tr>\n",
       "      <th>17210</th>\n",
       "      <td>PARVA</td>\n",
       "      <td>PTPN1</td>\n",
       "      <td>1.956734</td>\n",
       "      <td>0.399427</td>\n",
       "      <td>0.952019</td>\n",
       "      <td>False</td>\n",
       "      <td>True</td>\n",
       "      <td>False</td>\n",
       "      <td>False</td>\n",
       "      <td>False</td>\n",
       "      <td>0</td>\n",
       "      <td>1</td>\n",
       "      <td>0</td>\n",
       "      <td>0</td>\n",
       "      <td>0</td>\n",
       "    </tr>\n",
       "    <tr>\n",
       "      <th>23986</th>\n",
       "      <td>STARD13</td>\n",
       "      <td>RNF185</td>\n",
       "      <td>1.845927</td>\n",
       "      <td>0.368980</td>\n",
       "      <td>0.920213</td>\n",
       "      <td>False</td>\n",
       "      <td>False</td>\n",
       "      <td>False</td>\n",
       "      <td>False</td>\n",
       "      <td>True</td>\n",
       "      <td>0</td>\n",
       "      <td>1</td>\n",
       "      <td>0</td>\n",
       "      <td>0</td>\n",
       "      <td>1</td>\n",
       "    </tr>\n",
       "    <tr>\n",
       "      <th>5099</th>\n",
       "      <td>CRK</td>\n",
       "      <td>PTPN1</td>\n",
       "      <td>2.833272</td>\n",
       "      <td>0.640278</td>\n",
       "      <td>0.911420</td>\n",
       "      <td>True</td>\n",
       "      <td>False</td>\n",
       "      <td>False</td>\n",
       "      <td>False</td>\n",
       "      <td>False</td>\n",
       "      <td>1</td>\n",
       "      <td>1</td>\n",
       "      <td>0</td>\n",
       "      <td>0</td>\n",
       "      <td>1</td>\n",
       "    </tr>\n",
       "    <tr>\n",
       "      <th>3909</th>\n",
       "      <td>CBL</td>\n",
       "      <td>PTK2</td>\n",
       "      <td>1.990875</td>\n",
       "      <td>0.408808</td>\n",
       "      <td>0.906318</td>\n",
       "      <td>True</td>\n",
       "      <td>True</td>\n",
       "      <td>False</td>\n",
       "      <td>True</td>\n",
       "      <td>True</td>\n",
       "      <td>2</td>\n",
       "      <td>2</td>\n",
       "      <td>0</td>\n",
       "      <td>1</td>\n",
       "      <td>2</td>\n",
       "    </tr>\n",
       "    <tr>\n",
       "      <th>17519</th>\n",
       "      <td>PEAK1</td>\n",
       "      <td>PTPN2</td>\n",
       "      <td>1.908741</td>\n",
       "      <td>0.386240</td>\n",
       "      <td>0.884933</td>\n",
       "      <td>True</td>\n",
       "      <td>True</td>\n",
       "      <td>False</td>\n",
       "      <td>True</td>\n",
       "      <td>True</td>\n",
       "      <td>3</td>\n",
       "      <td>3</td>\n",
       "      <td>0</td>\n",
       "      <td>2</td>\n",
       "      <td>3</td>\n",
       "    </tr>\n",
       "  </tbody>\n",
       "</table>\n",
       "</div>"
      ],
      "text/plain": [
       "        source  target       hic  scaled_hic  spearman_corr coclustered_wcc  \\\n",
       "17210    PARVA   PTPN1  1.956734    0.399427       0.952019           False   \n",
       "23986  STARD13  RNF185  1.845927    0.368980       0.920213           False   \n",
       "5099       CRK   PTPN1  2.833272    0.640278       0.911420            True   \n",
       "3909       CBL    PTK2  1.990875    0.408808       0.906318            True   \n",
       "17519    PEAK1   PTPN2  1.908741    0.386240       0.884933            True   \n",
       "\n",
       "      coclustered_hc coclustered_random coclustered_wcc_hc hc_wcc_match  \\\n",
       "17210           True              False              False        False   \n",
       "23986          False              False              False         True   \n",
       "5099           False              False              False        False   \n",
       "3909            True              False               True         True   \n",
       "17519           True              False               True         True   \n",
       "\n",
       "       coclustered_wcc_cumsum  coclustered_hc_cumsum  \\\n",
       "17210                       0                      1   \n",
       "23986                       0                      1   \n",
       "5099                        1                      1   \n",
       "3909                        2                      2   \n",
       "17519                       3                      3   \n",
       "\n",
       "       coclustered_random_cumsum  coclustered_wcc_hc_cumsum  \\\n",
       "17210                          0                          0   \n",
       "23986                          0                          0   \n",
       "5099                           0                          0   \n",
       "3909                           0                          1   \n",
       "17519                          0                          2   \n",
       "\n",
       "       hc_wcc_match_cumsum  \n",
       "17210                    0  \n",
       "23986                    1  \n",
       "5099                     1  \n",
       "3909                     2  \n",
       "17519                    3  "
      ]
     },
     "execution_count": 31,
     "metadata": {},
     "output_type": "execute_result"
    }
   ],
   "source": [
    "# Compute cumsums\n",
    "adhesome_edge_list_sorted['coclustered_wcc_cumsum'] = adhesome_edge_list_sorted['coclustered_wcc'].astype(int).cumsum()\n",
    "adhesome_edge_list_sorted['coclustered_hc_cumsum'] = adhesome_edge_list_sorted['coclustered_hc'].astype(int).cumsum()\n",
    "adhesome_edge_list_sorted['coclustered_random_cumsum'] = adhesome_edge_list_sorted['coclustered_random'].astype(int).cumsum()\n",
    "adhesome_edge_list_sorted['coclustered_wcc_hc_cumsum'] = adhesome_edge_list_sorted['coclustered_wcc_hc'].astype(int).cumsum()\n",
    "adhesome_edge_list_sorted['hc_wcc_match_cumsum'] = adhesome_edge_list_sorted['hc_wcc_match'].astype(int).cumsum()\n",
    "adhesome_edge_list_sorted.head()"
   ]
  },
  {
   "cell_type": "code",
   "execution_count": 32,
   "metadata": {},
   "outputs": [
    {
     "data": {
      "image/png": "[encoded data removed]",
      "text/plain": [
       "<Figure size 432x288 with 1 Axes>"
      ]
     },
     "metadata": {
      "needs_background": "light"
     },
     "output_type": "display_data"
    }
   ],
   "source": [
    "# Plot number of co-clustered pairs versus Spearman correlation\n",
    "plt.figure()\n",
    "plt.plot(adhesome_edge_list_sorted['spearman_corr'],\n",
    "         adhesome_edge_list_sorted['coclustered_wcc_cumsum'],\n",
    "         color='dodgerblue', label='WCC')\n",
    "plt.plot(adhesome_edge_list_sorted['spearman_corr'],\n",
    "         adhesome_edge_list_sorted['coclustered_hc_cumsum'],\n",
    "         color='orange', label='HC')\n",
    "plt.plot(adhesome_edge_list_sorted['spearman_corr'],\n",
    "         adhesome_edge_list_sorted['coclustered_wcc_hc_cumsum'],\n",
    "         color='black', label='WCC and HC')\n",
    "plt.plot(adhesome_edge_list_sorted['spearman_corr'],\n",
    "         adhesome_edge_list_sorted['coclustered_random_cumsum'],\n",
    "         color='green', label='random')\n",
    "plt.plot(adhesome_edge_list_sorted['spearman_corr'],\n",
    "         np.cumsum(np.repeat(1,len(adhesome_edge_list_sorted))),\n",
    "         color='red', label='ideal')\n",
    "plt.gca().invert_xaxis()\n",
    "plt.legend(loc='upper right', bbox_to_anchor=[1.4,0.7])\n",
    "plt.xlabel('Spearman correlation')\n",
    "plt.ylabel('number of co-clustered pairs')\n",
    "plt.ylim([0,300])\n",
    "plt.title('number of co-clustered pairs')\n",
    "plt.show()"
   ]
  },
  {
   "cell_type": "code",
   "execution_count": 33,
   "metadata": {},
   "outputs": [
    {
     "data": {
      "image/png": "[encoded data removed]",
      "text/plain": [
       "<Figure size 432x288 with 1 Axes>"
      ]
     },
     "metadata": {
      "needs_background": "light"
     },
     "output_type": "display_data"
    }
   ],
   "source": [
    "# Plot number of clustered pairs on which HC and WCC agree versus Spearman correlation\n",
    "plt.figure()\n",
    "plt.plot(adhesome_edge_list_sorted['spearman_corr'],\n",
    "         adhesome_edge_list_sorted['hc_wcc_match_cumsum'],\n",
    "         color='green', label='HC_WCC')\n",
    "plt.plot(adhesome_edge_list_sorted['spearman_corr'],\n",
    "         np.cumsum(np.repeat(1,len(adhesome_edge_list_sorted))),\n",
    "         color='red', label='ideal')\n",
    "plt.gca().invert_xaxis()\n",
    "plt.legend()\n",
    "plt.xlabel('Spearman correlation')\n",
    "plt.ylabel('number of pairs on which HC and WCC agree')\n",
    "plt.title('HC and WCC agree')\n",
    "plt.show()"
   ]
  },
  {
   "cell_type": "code",
   "execution_count": 34,
   "metadata": {},
   "outputs": [
    {
     "data": {
      "text/plain": [
       "0.4902289785106596"
      ]
     },
     "execution_count": 34,
     "metadata": {},
     "output_type": "execute_result"
    }
   ],
   "source": [
    "# Adjusted mutual information\n",
    "adjusted_mutual_info_score(labels_true=clustering_graph2_wcc,\n",
    "                           labels_pred=clustering_graph2_hc, \n",
    "                           average_method='min')"
   ]
  },
  {
   "cell_type": "markdown",
   "metadata": {},
   "source": [
    "### Robustness of WCC"
   ]
  },
  {
   "cell_type": "code",
   "execution_count": 35,
   "metadata": {},
   "outputs": [
    {
     "data": {
      "image/png": "[encoded data removed]",
      "text/plain": [
       "<Figure size 360x360 with 2 Axes>"
      ]
     },
     "metadata": {
      "needs_background": "light"
     },
     "output_type": "display_data"
    }
   ],
   "source": [
    "# Load AMI heatmap\n",
    "ami_table = pickle.load(open(saving_dir+'ami_intra_wcc.pickle','rb'))\n",
    "#ami_table = pickle.load(open(saving_dir+'ami_nointra_wcc.pickle','rb'))\n",
    "# Plot heatmap\n",
    "lu.plot_heatmap(ami_table.astype('float'), list(ami_table.index), list(ami_table.index), 'hic threshold', 'hic threshold', 5, 0, 1)"
   ]
  },
  {
   "cell_type": "markdown",
   "metadata": {},
   "source": [
    "### Robustness of HC"
   ]
  },
  {
   "cell_type": "code",
   "execution_count": 36,
   "metadata": {
    "scrolled": true
   },
   "outputs": [
    {
     "data": {
      "image/png": "[encoded data removed]",
      "text/plain": [
       "<Figure size 360x360 with 2 Axes>"
      ]
     },
     "metadata": {
      "needs_background": "light"
     },
     "output_type": "display_data"
    }
   ],
   "source": [
    "# Load AMI heatmap\n",
    "ami_table = pickle.load(open(saving_dir+'ami_intra_hc.pickle','rb'))\n",
    "#ami_table = pickle.load(open(saving_dir+'ami_nointra_hc.pickle','rb'))\n",
    "# Plot heatmap\n",
    "lu.plot_heatmap(ami_table.astype('float'), list(ami_table.index), list(ami_table.index), 'hic threshold', 'hic threshold', 5, 0, 1)"
   ]
  },
  {
   "cell_type": "markdown",
   "metadata": {},
   "source": [
    "### AMI between HC and WCC"
   ]
  },
  {
   "cell_type": "code",
   "execution_count": 37,
   "metadata": {
    "scrolled": false
   },
   "outputs": [
    {
     "data": {
      "image/png": "[encoded data removed]",
      "text/plain": [
       "<Figure size 360x360 with 2 Axes>"
      ]
     },
     "metadata": {
      "needs_background": "light"
     },
     "output_type": "display_data"
    }
   ],
   "source": [
    "# Load HC and WCC clusterings\n",
    "hc_dict = pickle.load(open(saving_dir+'dict_intra_hc.pickle','rb'))\n",
    "wcc_dict = pickle.load(open(saving_dir+'dict_intra_wcc.pickle','rb'))\n",
    "# hc_dict = pickle.load(open(saving_dir+'dict_nointra_hc.pickle','rb'))\n",
    "# wcc_dict = pickle.load(open(saving_dir+'dict_nointra_wcc.pickle','rb'))\n",
    "hic_threshold_list = hc_dict.keys()\n",
    "\n",
    "# Fill in Adjusted Mutual Information between clusterings\n",
    "ami_table = pd.DataFrame(1,index=hic_threshold_list, columns=hic_threshold_list)\n",
    "for t,u in itertools.product(hic_threshold_list,hic_threshold_list):\n",
    "    ami_table.loc[t,u] = adjusted_mutual_info_score(labels_true=hc_dict[t],labels_pred=wcc_dict[u],\n",
    "                                                    average_method='min')\n",
    "# Plot heatmap\n",
    "lu.plot_heatmap(ami_table.astype('float'), list(ami_table.index), list(ami_table.index), 'hic threshold (WCC)', 'hic threshold (HC)', 5, 0, 1)"
   ]
  },
  {
   "cell_type": "markdown",
   "metadata": {},
   "source": [
    "-----------------------------------------------------------------------------------------------------------------"
   ]
  },
  {
   "cell_type": "markdown",
   "metadata": {},
   "source": [
    "# Final network and clustering"
   ]
  },
  {
   "cell_type": "code",
   "execution_count": 61,
   "metadata": {},
   "outputs": [],
   "source": [
    "# Load gene to chromosome dict\n",
    "gene2chrom = pickle.load(open(saving_dir+'gene2chrom.pkl','rb'))\n",
    "# Load hTFtarget data set\n",
    "active_lung_tf2target = pickle.load(open(saving_dir+'active_lung_tf2target.pkl', 'rb'))\n",
    "active_lung_target2tf = pickle.load(open(saving_dir+'active_lung_target2tf.pkl', 'rb'))\n",
    "# All genes\n",
    "all_active_genes = pickle.load(open(saving_dir+'all_active_genes.pkl', 'rb'))\n",
    "# Metadata\n",
    "active_lung_tf_genes = pickle.load(open(saving_dir+'active_lung_tf_genes.pkl','rb'))\n",
    "proteins_df = pickle.load(open(dir_proteins+'mechanoreg_proteins.pkl', 'rb'))\n",
    "collagens = proteins_df[proteins_df['family']=='collagen']['geneSymbol'].values\n",
    "lamins = proteins_df[proteins_df['family']=='lamin']['geneSymbol'].values\n",
    "lims = proteins_df[proteins_df['family']=='LIM']['geneSymbol'].values\n",
    "mmps = proteins_df[proteins_df['family']=='MMP']['geneSymbol'].values\n",
    "elastin = proteins_df[proteins_df['family']=='elastin']['geneSymbol'].values\n",
    "fibronectin = proteins_df[proteins_df['family']=='fibronectin']['geneSymbol'].values\n",
    "tenascins = proteins_df[proteins_df['family']=='tenascin']['geneSymbol'].values"
   ]
  },
  {
   "cell_type": "code",
   "execution_count": null,
   "metadata": {},
   "outputs": [],
   "source": []
  },
  {
   "cell_type": "code",
   "execution_count": null,
   "metadata": {},
   "outputs": [],
   "source": []
  },
  {
   "cell_type": "code",
   "execution_count": 236,
   "metadata": {},
   "outputs": [],
   "source": [
    "# Construct network\n",
    "t = np.quantile(adhesome_interX_edge_list['scaled_hic'],hic_threshold)\n",
    "u = np.quantile(adhesome_intraX_edge_list['scaled_hic'],hic_threshold)\n",
    "inter_selected = adhesome_interX_edge_list[adhesome_interX_edge_list['scaled_hic']>t]\n",
    "intra_selected = adhesome_intraX_edge_list[adhesome_intraX_edge_list['scaled_hic']>u][['source','target','hic','scaled_hic','spearman_corr']]\n",
    "adhesome_edge_list = inter_selected\n",
    "if with_intra == True:\n",
    "    adhesome_edge_list = pd.concat([adhesome_edge_list,intra_selected])        \n",
    "G = nx.from_pandas_edgelist(adhesome_edge_list, edge_attr=['hic','scaled_hic','spearman_corr'])\n",
    "G.add_nodes_from(selected_genes)\n",
    "\n",
    "# Get adjacency matrix of G\n",
    "A = nx.adjacency_matrix(G, nodelist=sorted(G.nodes), weight='spearman_corr')\n",
    "A = np.array(A.todense())\n",
    "A = np.exp(-A)\n",
    "# Select upper triangular entries and flatten\n",
    "y = A[np.triu_indices(n=len(A),k=1)]"
   ]
  },
  {
   "cell_type": "code",
   "execution_count": 239,
   "metadata": {},
   "outputs": [
    {
     "data": {
      "text/plain": [
       "31375.0"
      ]
     },
     "execution_count": 239,
     "metadata": {},
     "output_type": "execute_result"
    }
   ],
   "source": [
    "n = len(A)\n",
    "n*(n-1)/2"
   ]
  },
  {
   "cell_type": "code",
   "execution_count": 240,
   "metadata": {},
   "outputs": [
    {
     "data": {
      "text/plain": [
       "31375"
      ]
     },
     "execution_count": 240,
     "metadata": {},
     "output_type": "execute_result"
    }
   ],
   "source": [
    "len(y)"
   ]
  },
  {
   "cell_type": "code",
   "execution_count": 237,
   "metadata": {},
   "outputs": [
    {
     "data": {
      "text/plain": [
       "array([1.        , 1.        , 1.        , ..., 0.63042899, 1.        ,\n",
       "       0.57755137])"
      ]
     },
     "execution_count": 237,
     "metadata": {},
     "output_type": "execute_result"
    }
   ],
   "source": [
    "y"
   ]
  },
  {
   "cell_type": "code",
   "execution_count": null,
   "metadata": {},
   "outputs": [],
   "source": [
    "# Hierarchical clustering\n",
    "linked = linkage(y, method='complete')\n",
    "\n",
    "# Record flat clustering\n",
    "clustering = fcluster(linked, t=hc_threshold, criterion='distance')"
   ]
  },
  {
   "cell_type": "code",
   "execution_count": null,
   "metadata": {},
   "outputs": [],
   "source": []
  },
  {
   "cell_type": "code",
   "execution_count": null,
   "metadata": {},
   "outputs": [],
   "source": []
  },
  {
   "cell_type": "code",
   "execution_count": null,
   "metadata": {},
   "outputs": [],
   "source": []
  },
  {
   "cell_type": "code",
   "execution_count": null,
   "metadata": {},
   "outputs": [],
   "source": []
  },
  {
   "cell_type": "code",
   "execution_count": null,
   "metadata": {},
   "outputs": [],
   "source": []
  },
  {
   "cell_type": "code",
   "execution_count": null,
   "metadata": {},
   "outputs": [],
   "source": []
  },
  {
   "cell_type": "code",
   "execution_count": null,
   "metadata": {},
   "outputs": [],
   "source": []
  },
  {
   "cell_type": "code",
   "execution_count": 62,
   "metadata": {
    "scrolled": false
   },
   "outputs": [
    {
     "data": {
      "image/png": "[encoded data removed]",
      "text/plain": [
       "<Figure size 720x2880 with 1 Axes>"
      ]
     },
     "metadata": {
      "needs_background": "light"
     },
     "output_type": "display_data"
    },
    {
     "name": "stdout",
     "output_type": "stream",
     "text": [
      "Number of clusters = 105\n",
      "Number of singletons = 26\n",
      "Number of nodes in non trivial clusters = 225\n",
      "Size of clusters\n"
     ]
    },
    {
     "data": {
      "image/png": "[encoded data removed]",
      "text/plain": [
       "<Figure size 432x288 with 1 Axes>"
      ]
     },
     "metadata": {
      "needs_background": "light"
     },
     "output_type": "display_data"
    }
   ],
   "source": [
    "#Run HC\n",
    "hc_threshold = 0.995\n",
    "clustering_graph2_hc = cc.hierarchical_clustering(adhesome_interX_edge_list, \n",
    "                                                  adhesome_intraX_edge_list,\n",
    "                                                  selected_genes,\n",
    "                                                  hic_threshold,\n",
    "                                                  with_intra,\n",
    "                                                  weights,\n",
    "                                                  hc_threshold,\n",
    "                                                  plot=True)\n",
    "# Clustering characteristics\n",
    "comps = np.unique(np.unique(clustering_graph2_hc, return_counts=True)[1],return_counts=True)\n",
    "print('Number of clusters = '+str(len(np.unique(clustering_graph2_hc))))\n",
    "print('Number of singletons = '+str(comps[1][0]))\n",
    "print('Number of nodes in non trivial clusters = '+str(len(clustering_graph2_hc)-comps[1][0]))\n",
    "print('Size of clusters')\n",
    "plt.figure()\n",
    "plt.bar(x=comps[0], height=comps[1])\n",
    "plt.xlabel('number of nodes')\n",
    "plt.ylabel('number of cliques')\n",
    "plt.show()"
   ]
  },
  {
   "cell_type": "code",
   "execution_count": 63,
   "metadata": {},
   "outputs": [],
   "source": [
    "# Create dataframe with cluster\n",
    "clusters_df = pd.DataFrame({'genes': selected_genes, 'cluster': clustering_graph2_hc})\n",
    "clusters_df = clusters_df.groupby(['cluster']).agg({'genes':lambda x : list(x)}). reset_index()\n",
    "clusters_df['chromosomes'] = [[gene2chrom[g] for g in clusters_df.iloc[i]['genes']]\n",
    "                                    for i in range(clusters_df.shape[0])]\n",
    "clusters_df['n_chromosomes'] = [len(np.unique(clusters_df.iloc[i]['chromosomes'])) for i in range(clusters_df.shape[0])]"
   ]
  },
  {
   "cell_type": "code",
   "execution_count": 64,
   "metadata": {},
   "outputs": [],
   "source": [
    "# Annotate adheosme genes and TF genes\n",
    "clusters_df['adhesome_genes'] = [[gene for gene in clusters_df.iloc[i]['genes'] \n",
    "                                        if gene in active_adhesome_genes]\n",
    "                                      for i in range(clusters_df.shape[0])]\n",
    "clusters_df['tf_genes'] = [[gene for gene in clusters_df.iloc[i]['genes'] \n",
    "                                        if gene in active_lung_adhesome_tf_genes]\n",
    "                                      for i in range(clusters_df.shape[0])]"
   ]
  },
  {
   "cell_type": "code",
   "execution_count": 65,
   "metadata": {},
   "outputs": [],
   "source": [
    "# Cluster size\n",
    "clusters_df['size_genes'] = [len(clusters_df.iloc[i]['genes']) for i in range(clusters_df.shape[0])]\n",
    "clusters_df['size_tf_genes'] = [len(clusters_df.iloc[i]['tf_genes']) for i in range(clusters_df.shape[0])]\n",
    "clusters_df = clusters_df.sort_values(by=['size_genes', 'size_tf_genes'], ascending=False)\n",
    "# Only keep clusters with more than 2 genes\n",
    "clusters_df = clusters_df[clusters_df['size_genes']>2]"
   ]
  },
  {
   "cell_type": "code",
   "execution_count": 66,
   "metadata": {},
   "outputs": [],
   "source": [
    "# Specificity of TFs\n",
    "clusters_df['prop_adhesome_targets'] =[[np.round(len(active_lung_tf2target[tf].intersection(set(active_adhesome_genes)))/len(active_adhesome_genes),3) for tf in clusters_df.iloc[i]['tf_genes']]\n",
    "                                              for i in range(clusters_df.shape[0])]\n",
    "clusters_df['prop_genome_targets'] =[[np.round(len(active_lung_tf2target[tf].intersection(set(all_active_genes)))/len(all_active_genes),3) for tf in clusters_df.iloc[i]['tf_genes']]\n",
    "                                              for i in range(clusters_df.shape[0])]"
   ]
  },
  {
   "cell_type": "code",
   "execution_count": 223,
   "metadata": {
    "scrolled": false
   },
   "outputs": [
    {
     "name": "stdout",
     "output_type": "stream",
     "text": [
      "Number of clusters = 34\n",
      "Number of genes in clusters = 135\n"
     ]
    },
    {
     "data": {
      "text/html": [
       "<div>\n",
       "<style scoped>\n",
       "    .dataframe tbody tr th:only-of-type {\n",
       "        vertical-align: middle;\n",
       "    }\n",
       "\n",
       "    .dataframe tbody tr th {\n",
       "        vertical-align: top;\n",
       "    }\n",
       "\n",
       "    .dataframe thead th {\n",
       "        text-align: right;\n",
       "    }\n",
       "</style>\n",
       "<table border=\"1\" class=\"dataframe\">\n",
       "  <thead>\n",
       "    <tr style=\"text-align: right;\">\n",
       "      <th></th>\n",
       "      <th>cluster</th>\n",
       "      <th>genes</th>\n",
       "      <th>chromosomes</th>\n",
       "      <th>n_chromosomes</th>\n",
       "      <th>adhesome_genes</th>\n",
       "      <th>tf_genes</th>\n",
       "      <th>size_genes</th>\n",
       "      <th>size_tf_genes</th>\n",
       "      <th>prop_adhesome_targets</th>\n",
       "      <th>prop_genome_targets</th>\n",
       "    </tr>\n",
       "  </thead>\n",
       "  <tbody>\n",
       "    <tr>\n",
       "      <th>13</th>\n",
       "      <td>14</td>\n",
       "      <td>[CALR, CEBPB, CFL1, CRKL, EP300, JUND, RAVER1,...</td>\n",
       "      <td>[chr19, chr20, chr11, chr22, chr22, chr19, chr...</td>\n",
       "      <td>5</td>\n",
       "      <td>[CALR, CFL1, CRKL, RAVER1]</td>\n",
       "      <td>[CEBPB, EP300, JUND, YY1]</td>\n",
       "      <td>8</td>\n",
       "      <td>4</td>\n",
       "      <td>[0.806, 0.628, 0.316, 0.133]</td>\n",
       "      <td>[0.319, 0.231, 0.069, 0.071]</td>\n",
       "    </tr>\n",
       "    <tr>\n",
       "      <th>90</th>\n",
       "      <td>91</td>\n",
       "      <td>[AGAP2, INPPL1, ITGB4, MAZ, NISCH, PRKACA, SLC...</td>\n",
       "      <td>[chr12, chr11, chr17, chr16, chr3, chr19, chr17]</td>\n",
       "      <td>6</td>\n",
       "      <td>[AGAP2, INPPL1, ITGB4, NISCH, PRKACA, SLC16A3]</td>\n",
       "      <td>[MAZ]</td>\n",
       "      <td>7</td>\n",
       "      <td>1</td>\n",
       "      <td>[0.964]</td>\n",
       "      <td>[0.454]</td>\n",
       "    </tr>\n",
       "    <tr>\n",
       "      <th>34</th>\n",
       "      <td>35</td>\n",
       "      <td>[ELF1, NF2, PEAK1, PTPN2, RCOR1, TRIO]</td>\n",
       "      <td>[chr13, chr22, chr15, chr18, chr14, chr5]</td>\n",
       "      <td>6</td>\n",
       "      <td>[NF2, PEAK1, PTPN2, TRIO]</td>\n",
       "      <td>[ELF1, RCOR1]</td>\n",
       "      <td>6</td>\n",
       "      <td>2</td>\n",
       "      <td>[0.194, 0.036]</td>\n",
       "      <td>[0.069, 0.008]</td>\n",
       "    </tr>\n",
       "    <tr>\n",
       "      <th>45</th>\n",
       "      <td>46</td>\n",
       "      <td>[ACTN1, MAPK1, MYH9, PPFIA1, RAPGEF1, SMAD3]</td>\n",
       "      <td>[chr14, chr22, chr22, chr11, chr9, chr15]</td>\n",
       "      <td>5</td>\n",
       "      <td>[ACTN1, MAPK1, MYH9, PPFIA1, RAPGEF1]</td>\n",
       "      <td>[SMAD3]</td>\n",
       "      <td>6</td>\n",
       "      <td>1</td>\n",
       "      <td>[0.066]</td>\n",
       "      <td>[0.013]</td>\n",
       "    </tr>\n",
       "    <tr>\n",
       "      <th>72</th>\n",
       "      <td>73</td>\n",
       "      <td>[ARHGEF2, FERMT3, LIMK1, LRP1, SRC, TRPM7]</td>\n",
       "      <td>[chr1, chr11, chr7, chr12, chr20, chr15]</td>\n",
       "      <td>6</td>\n",
       "      <td>[ARHGEF2, FERMT3, LIMK1, LRP1, SRC, TRPM7]</td>\n",
       "      <td>[]</td>\n",
       "      <td>6</td>\n",
       "      <td>0</td>\n",
       "      <td>[]</td>\n",
       "      <td>[]</td>\n",
       "    </tr>\n",
       "    <tr>\n",
       "      <th>71</th>\n",
       "      <td>72</td>\n",
       "      <td>[ABL1, CD151, MAFK, PLEC, TNS1]</td>\n",
       "      <td>[chr9, chr11, chr7, chr8, chr2]</td>\n",
       "      <td>5</td>\n",
       "      <td>[ABL1, CD151, PLEC, TNS1]</td>\n",
       "      <td>[MAFK]</td>\n",
       "      <td>5</td>\n",
       "      <td>1</td>\n",
       "      <td>[0.077]</td>\n",
       "      <td>[0.021]</td>\n",
       "    </tr>\n",
       "    <tr>\n",
       "      <th>14</th>\n",
       "      <td>15</td>\n",
       "      <td>[ARPC2, HSPB1, ILKAP, RHOA, TRIP6]</td>\n",
       "      <td>[chr2, chr7, chr2, chr3, chr7]</td>\n",
       "      <td>3</td>\n",
       "      <td>[ARPC2, HSPB1, ILKAP, RHOA, TRIP6]</td>\n",
       "      <td>[]</td>\n",
       "      <td>5</td>\n",
       "      <td>0</td>\n",
       "      <td>[]</td>\n",
       "      <td>[]</td>\n",
       "    </tr>\n",
       "    <tr>\n",
       "      <th>73</th>\n",
       "      <td>74</td>\n",
       "      <td>[CBL, CRK, ITGB7, PTK2, TSPAN1]</td>\n",
       "      <td>[chr11, chr17, chr12, chr8, chr1]</td>\n",
       "      <td>5</td>\n",
       "      <td>[CBL, CRK, ITGB7, PTK2, TSPAN1]</td>\n",
       "      <td>[]</td>\n",
       "      <td>5</td>\n",
       "      <td>0</td>\n",
       "      <td>[]</td>\n",
       "      <td>[]</td>\n",
       "    </tr>\n",
       "    <tr>\n",
       "      <th>70</th>\n",
       "      <td>71</td>\n",
       "      <td>[BCAR1, BCL3, EHF, SPI1]</td>\n",
       "      <td>[chr16, chr19, chr11, chr11]</td>\n",
       "      <td>3</td>\n",
       "      <td>[BCAR1]</td>\n",
       "      <td>[BCL3, EHF, SPI1]</td>\n",
       "      <td>4</td>\n",
       "      <td>3</td>\n",
       "      <td>[0.265, 0.046, 0.76]</td>\n",
       "      <td>[0.071, 0.009, 0.313]</td>\n",
       "    </tr>\n",
       "    <tr>\n",
       "      <th>10</th>\n",
       "      <td>11</td>\n",
       "      <td>[CIB1, HRAS, SH2B1, USF1]</td>\n",
       "      <td>[chr15, chr11, chr16, chr1]</td>\n",
       "      <td>4</td>\n",
       "      <td>[CIB1, HRAS, SH2B1]</td>\n",
       "      <td>[USF1]</td>\n",
       "      <td>4</td>\n",
       "      <td>1</td>\n",
       "      <td>[0.173]</td>\n",
       "      <td>[0.085]</td>\n",
       "    </tr>\n",
       "    <tr>\n",
       "      <th>11</th>\n",
       "      <td>12</td>\n",
       "      <td>[CYTH2, PLAUR, POLR2A, TESK1]</td>\n",
       "      <td>[chr19, chr19, chr17, chr9]</td>\n",
       "      <td>3</td>\n",
       "      <td>[CYTH2, PLAUR, TESK1]</td>\n",
       "      <td>[POLR2A]</td>\n",
       "      <td>4</td>\n",
       "      <td>1</td>\n",
       "      <td>[0.357]</td>\n",
       "      <td>[0.157]</td>\n",
       "    </tr>\n",
       "    <tr>\n",
       "      <th>12</th>\n",
       "      <td>13</td>\n",
       "      <td>[HSF1, NDEL1, PPM1M, ZFYVE21]</td>\n",
       "      <td>[chr8, chr17, chr3, chr14]</td>\n",
       "      <td>4</td>\n",
       "      <td>[NDEL1, PPM1M, ZFYVE21]</td>\n",
       "      <td>[HSF1]</td>\n",
       "      <td>4</td>\n",
       "      <td>1</td>\n",
       "      <td>[0.005]</td>\n",
       "      <td>[0.004]</td>\n",
       "    </tr>\n",
       "    <tr>\n",
       "      <th>35</th>\n",
       "      <td>36</td>\n",
       "      <td>[CTCF, PARVB, SVIL, VAV2]</td>\n",
       "      <td>[chr16, chr22, chr10, chr9]</td>\n",
       "      <td>4</td>\n",
       "      <td>[PARVB, SVIL, VAV2]</td>\n",
       "      <td>[CTCF]</td>\n",
       "      <td>4</td>\n",
       "      <td>1</td>\n",
       "      <td>[0.847]</td>\n",
       "      <td>[0.337]</td>\n",
       "    </tr>\n",
       "    <tr>\n",
       "      <th>40</th>\n",
       "      <td>41</td>\n",
       "      <td>[FBLIM1, ITGB1BP1, MED1, PTPN11]</td>\n",
       "      <td>[chr1, chr2, chr17, chr12]</td>\n",
       "      <td>4</td>\n",
       "      <td>[FBLIM1, ITGB1BP1, PTPN11]</td>\n",
       "      <td>[MED1]</td>\n",
       "      <td>4</td>\n",
       "      <td>1</td>\n",
       "      <td>[0.005]</td>\n",
       "      <td>[0.003]</td>\n",
       "    </tr>\n",
       "    <tr>\n",
       "      <th>91</th>\n",
       "      <td>92</td>\n",
       "      <td>[PKD1, PPM1F, RFX5, VASP]</td>\n",
       "      <td>[chr16, chr22, chr1, chr19]</td>\n",
       "      <td>4</td>\n",
       "      <td>[PKD1, PPM1F, VASP]</td>\n",
       "      <td>[RFX5]</td>\n",
       "      <td>4</td>\n",
       "      <td>1</td>\n",
       "      <td>[0.01]</td>\n",
       "      <td>[0.008]</td>\n",
       "    </tr>\n",
       "    <tr>\n",
       "      <th>100</th>\n",
       "      <td>101</td>\n",
       "      <td>[HSPA2, PFN1, SIX5, TUBA1B]</td>\n",
       "      <td>[chr14, chr17, chr19, chr12]</td>\n",
       "      <td>4</td>\n",
       "      <td>[HSPA2, PFN1, TUBA1B]</td>\n",
       "      <td>[SIX5]</td>\n",
       "      <td>4</td>\n",
       "      <td>1</td>\n",
       "      <td>[0.097]</td>\n",
       "      <td>[0.049]</td>\n",
       "    </tr>\n",
       "    <tr>\n",
       "      <th>92</th>\n",
       "      <td>93</td>\n",
       "      <td>[HAX1, ITGA5, RNF5, SHC1]</td>\n",
       "      <td>[chr1, chr12, chr6, chr1]</td>\n",
       "      <td>3</td>\n",
       "      <td>[HAX1, ITGA5, RNF5, SHC1]</td>\n",
       "      <td>[]</td>\n",
       "      <td>4</td>\n",
       "      <td>0</td>\n",
       "      <td>[]</td>\n",
       "      <td>[]</td>\n",
       "    </tr>\n",
       "    <tr>\n",
       "      <th>16</th>\n",
       "      <td>17</td>\n",
       "      <td>[MYC, SUMO1, SUMO2]</td>\n",
       "      <td>[chr8, chr2, chr17]</td>\n",
       "      <td>3</td>\n",
       "      <td>[]</td>\n",
       "      <td>[MYC, SUMO1, SUMO2]</td>\n",
       "      <td>3</td>\n",
       "      <td>3</td>\n",
       "      <td>[0.066, 0.01, 0.168]</td>\n",
       "      <td>[0.031, 0.004, 0.045]</td>\n",
       "    </tr>\n",
       "    <tr>\n",
       "      <th>3</th>\n",
       "      <td>4</td>\n",
       "      <td>[FOSL2, ITGA3, SLC9A1]</td>\n",
       "      <td>[chr2, chr17, chr1]</td>\n",
       "      <td>3</td>\n",
       "      <td>[ITGA3, SLC9A1]</td>\n",
       "      <td>[FOSL2]</td>\n",
       "      <td>3</td>\n",
       "      <td>1</td>\n",
       "      <td>[0.27]</td>\n",
       "      <td>[0.07]</td>\n",
       "    </tr>\n",
       "    <tr>\n",
       "      <th>4</th>\n",
       "      <td>5</td>\n",
       "      <td>[PTEN, RAC1, SIN3A]</td>\n",
       "      <td>[chr10, chr7, chr15]</td>\n",
       "      <td>3</td>\n",
       "      <td>[PTEN, RAC1]</td>\n",
       "      <td>[SIN3A]</td>\n",
       "      <td>3</td>\n",
       "      <td>1</td>\n",
       "      <td>[0.224]</td>\n",
       "      <td>[0.08]</td>\n",
       "    </tr>\n",
       "    <tr>\n",
       "      <th>15</th>\n",
       "      <td>16</td>\n",
       "      <td>[NUDT16L1, RELA, SHARPIN]</td>\n",
       "      <td>[chr16, chr11, chr8]</td>\n",
       "      <td>3</td>\n",
       "      <td>[NUDT16L1, SHARPIN]</td>\n",
       "      <td>[RELA]</td>\n",
       "      <td>3</td>\n",
       "      <td>1</td>\n",
       "      <td>[0.015]</td>\n",
       "      <td>[0.009]</td>\n",
       "    </tr>\n",
       "    <tr>\n",
       "      <th>27</th>\n",
       "      <td>28</td>\n",
       "      <td>[BRCA1, CSK, GIT1]</td>\n",
       "      <td>[chr17, chr15, chr17]</td>\n",
       "      <td>2</td>\n",
       "      <td>[CSK, GIT1]</td>\n",
       "      <td>[BRCA1]</td>\n",
       "      <td>3</td>\n",
       "      <td>1</td>\n",
       "      <td>[0.143]</td>\n",
       "      <td>[0.052]</td>\n",
       "    </tr>\n",
       "    <tr>\n",
       "      <th>28</th>\n",
       "      <td>29</td>\n",
       "      <td>[ARF1, ATF3, ENAH]</td>\n",
       "      <td>[chr1, chr1, chr1]</td>\n",
       "      <td>1</td>\n",
       "      <td>[ARF1, ENAH]</td>\n",
       "      <td>[ATF3]</td>\n",
       "      <td>3</td>\n",
       "      <td>1</td>\n",
       "      <td>[0.046]</td>\n",
       "      <td>[0.022]</td>\n",
       "    </tr>\n",
       "    <tr>\n",
       "      <th>36</th>\n",
       "      <td>37</td>\n",
       "      <td>[BRD4, DNM2, TLN1]</td>\n",
       "      <td>[chr19, chr19, chr9]</td>\n",
       "      <td>2</td>\n",
       "      <td>[DNM2, TLN1]</td>\n",
       "      <td>[BRD4]</td>\n",
       "      <td>3</td>\n",
       "      <td>1</td>\n",
       "      <td>[0.597]</td>\n",
       "      <td>[0.235]</td>\n",
       "    </tr>\n",
       "    <tr>\n",
       "      <th>37</th>\n",
       "      <td>38</td>\n",
       "      <td>[CTTN, KEAP1, TEAD4]</td>\n",
       "      <td>[chr11, chr19, chr12]</td>\n",
       "      <td>3</td>\n",
       "      <td>[CTTN, KEAP1]</td>\n",
       "      <td>[TEAD4]</td>\n",
       "      <td>3</td>\n",
       "      <td>1</td>\n",
       "      <td>[0.015]</td>\n",
       "      <td>[0.009]</td>\n",
       "    </tr>\n",
       "    <tr>\n",
       "      <th>53</th>\n",
       "      <td>54</td>\n",
       "      <td>[ANKRD28, BHLHE40, ITGA9]</td>\n",
       "      <td>[chr3, chr3, chr3]</td>\n",
       "      <td>1</td>\n",
       "      <td>[ANKRD28, ITGA9]</td>\n",
       "      <td>[BHLHE40]</td>\n",
       "      <td>3</td>\n",
       "      <td>1</td>\n",
       "      <td>[0.077]</td>\n",
       "      <td>[0.032]</td>\n",
       "    </tr>\n",
       "    <tr>\n",
       "      <th>96</th>\n",
       "      <td>97</td>\n",
       "      <td>[AKT1, CORO1B, MAX]</td>\n",
       "      <td>[chr14, chr11, chr14]</td>\n",
       "      <td>2</td>\n",
       "      <td>[AKT1, CORO1B]</td>\n",
       "      <td>[MAX]</td>\n",
       "      <td>3</td>\n",
       "      <td>1</td>\n",
       "      <td>[0.52]</td>\n",
       "      <td>[0.242]</td>\n",
       "    </tr>\n",
       "    <tr>\n",
       "      <th>2</th>\n",
       "      <td>3</td>\n",
       "      <td>[ARHGEF7, ITGAE, SPTLC1]</td>\n",
       "      <td>[chr13, chr17, chr9]</td>\n",
       "      <td>3</td>\n",
       "      <td>[ARHGEF7, ITGAE, SPTLC1]</td>\n",
       "      <td>[]</td>\n",
       "      <td>3</td>\n",
       "      <td>0</td>\n",
       "      <td>[]</td>\n",
       "      <td>[]</td>\n",
       "    </tr>\n",
       "    <tr>\n",
       "      <th>18</th>\n",
       "      <td>19</td>\n",
       "      <td>[ASAP3, GRB2, SOS1]</td>\n",
       "      <td>[chr1, chr17, chr2]</td>\n",
       "      <td>3</td>\n",
       "      <td>[ASAP3, GRB2, SOS1]</td>\n",
       "      <td>[]</td>\n",
       "      <td>3</td>\n",
       "      <td>0</td>\n",
       "      <td>[]</td>\n",
       "      <td>[]</td>\n",
       "    </tr>\n",
       "    <tr>\n",
       "      <th>68</th>\n",
       "      <td>69</td>\n",
       "      <td>[ABI1, SIRPA, VIM]</td>\n",
       "      <td>[chr10, chr20, chr10]</td>\n",
       "      <td>2</td>\n",
       "      <td>[ABI1, SIRPA, VIM]</td>\n",
       "      <td>[]</td>\n",
       "      <td>3</td>\n",
       "      <td>0</td>\n",
       "      <td>[]</td>\n",
       "      <td>[]</td>\n",
       "    </tr>\n",
       "    <tr>\n",
       "      <th>78</th>\n",
       "      <td>79</td>\n",
       "      <td>[ITGA2, PARVA, PTPN1]</td>\n",
       "      <td>[chr5, chr11, chr20]</td>\n",
       "      <td>3</td>\n",
       "      <td>[ITGA2, PARVA, PTPN1]</td>\n",
       "      <td>[]</td>\n",
       "      <td>3</td>\n",
       "      <td>0</td>\n",
       "      <td>[]</td>\n",
       "      <td>[]</td>\n",
       "    </tr>\n",
       "    <tr>\n",
       "      <th>79</th>\n",
       "      <td>80</td>\n",
       "      <td>[CSRP1, PAK1, PLD1]</td>\n",
       "      <td>[chr1, chr11, chr3]</td>\n",
       "      <td>3</td>\n",
       "      <td>[CSRP1, PAK1, PLD1]</td>\n",
       "      <td>[]</td>\n",
       "      <td>3</td>\n",
       "      <td>0</td>\n",
       "      <td>[]</td>\n",
       "      <td>[]</td>\n",
       "    </tr>\n",
       "    <tr>\n",
       "      <th>81</th>\n",
       "      <td>82</td>\n",
       "      <td>[BCAR3, NEXN, NRP1]</td>\n",
       "      <td>[chr1, chr1, chr10]</td>\n",
       "      <td>2</td>\n",
       "      <td>[BCAR3, NEXN, NRP1]</td>\n",
       "      <td>[]</td>\n",
       "      <td>3</td>\n",
       "      <td>0</td>\n",
       "      <td>[]</td>\n",
       "      <td>[]</td>\n",
       "    </tr>\n",
       "    <tr>\n",
       "      <th>85</th>\n",
       "      <td>86</td>\n",
       "      <td>[ITGA11, ITGB3, ITGB5]</td>\n",
       "      <td>[chr15, chr17, chr3]</td>\n",
       "      <td>3</td>\n",
       "      <td>[ITGA11, ITGB3, ITGB5]</td>\n",
       "      <td>[]</td>\n",
       "      <td>3</td>\n",
       "      <td>0</td>\n",
       "      <td>[]</td>\n",
       "      <td>[]</td>\n",
       "    </tr>\n",
       "  </tbody>\n",
       "</table>\n",
       "</div>"
      ],
      "text/plain": [
       "     cluster                                              genes  \\\n",
       "13        14  [CALR, CEBPB, CFL1, CRKL, EP300, JUND, RAVER1,...   \n",
       "90        91  [AGAP2, INPPL1, ITGB4, MAZ, NISCH, PRKACA, SLC...   \n",
       "34        35             [ELF1, NF2, PEAK1, PTPN2, RCOR1, TRIO]   \n",
       "45        46       [ACTN1, MAPK1, MYH9, PPFIA1, RAPGEF1, SMAD3]   \n",
       "72        73         [ARHGEF2, FERMT3, LIMK1, LRP1, SRC, TRPM7]   \n",
       "71        72                    [ABL1, CD151, MAFK, PLEC, TNS1]   \n",
       "14        15                 [ARPC2, HSPB1, ILKAP, RHOA, TRIP6]   \n",
       "73        74                    [CBL, CRK, ITGB7, PTK2, TSPAN1]   \n",
       "70        71                           [BCAR1, BCL3, EHF, SPI1]   \n",
       "10        11                          [CIB1, HRAS, SH2B1, USF1]   \n",
       "11        12                      [CYTH2, PLAUR, POLR2A, TESK1]   \n",
       "12        13                      [HSF1, NDEL1, PPM1M, ZFYVE21]   \n",
       "35        36                          [CTCF, PARVB, SVIL, VAV2]   \n",
       "40        41                   [FBLIM1, ITGB1BP1, MED1, PTPN11]   \n",
       "91        92                          [PKD1, PPM1F, RFX5, VASP]   \n",
       "100      101                        [HSPA2, PFN1, SIX5, TUBA1B]   \n",
       "92        93                          [HAX1, ITGA5, RNF5, SHC1]   \n",
       "16        17                                [MYC, SUMO1, SUMO2]   \n",
       "3          4                             [FOSL2, ITGA3, SLC9A1]   \n",
       "4          5                                [PTEN, RAC1, SIN3A]   \n",
       "15        16                          [NUDT16L1, RELA, SHARPIN]   \n",
       "27        28                                 [BRCA1, CSK, GIT1]   \n",
       "28        29                                 [ARF1, ATF3, ENAH]   \n",
       "36        37                                 [BRD4, DNM2, TLN1]   \n",
       "37        38                               [CTTN, KEAP1, TEAD4]   \n",
       "53        54                          [ANKRD28, BHLHE40, ITGA9]   \n",
       "96        97                                [AKT1, CORO1B, MAX]   \n",
       "2          3                           [ARHGEF7, ITGAE, SPTLC1]   \n",
       "18        19                                [ASAP3, GRB2, SOS1]   \n",
       "68        69                                 [ABI1, SIRPA, VIM]   \n",
       "78        79                              [ITGA2, PARVA, PTPN1]   \n",
       "79        80                                [CSRP1, PAK1, PLD1]   \n",
       "81        82                                [BCAR3, NEXN, NRP1]   \n",
       "85        86                             [ITGA11, ITGB3, ITGB5]   \n",
       "\n",
       "                                           chromosomes  n_chromosomes  \\\n",
       "13   [chr19, chr20, chr11, chr22, chr22, chr19, chr...              5   \n",
       "90    [chr12, chr11, chr17, chr16, chr3, chr19, chr17]              6   \n",
       "34           [chr13, chr22, chr15, chr18, chr14, chr5]              6   \n",
       "45           [chr14, chr22, chr22, chr11, chr9, chr15]              5   \n",
       "72            [chr1, chr11, chr7, chr12, chr20, chr15]              6   \n",
       "71                     [chr9, chr11, chr7, chr8, chr2]              5   \n",
       "14                      [chr2, chr7, chr2, chr3, chr7]              3   \n",
       "73                   [chr11, chr17, chr12, chr8, chr1]              5   \n",
       "70                        [chr16, chr19, chr11, chr11]              3   \n",
       "10                         [chr15, chr11, chr16, chr1]              4   \n",
       "11                         [chr19, chr19, chr17, chr9]              3   \n",
       "12                          [chr8, chr17, chr3, chr14]              4   \n",
       "35                         [chr16, chr22, chr10, chr9]              4   \n",
       "40                          [chr1, chr2, chr17, chr12]              4   \n",
       "91                         [chr16, chr22, chr1, chr19]              4   \n",
       "100                       [chr14, chr17, chr19, chr12]              4   \n",
       "92                           [chr1, chr12, chr6, chr1]              3   \n",
       "16                                 [chr8, chr2, chr17]              3   \n",
       "3                                  [chr2, chr17, chr1]              3   \n",
       "4                                 [chr10, chr7, chr15]              3   \n",
       "15                                [chr16, chr11, chr8]              3   \n",
       "27                               [chr17, chr15, chr17]              2   \n",
       "28                                  [chr1, chr1, chr1]              1   \n",
       "36                                [chr19, chr19, chr9]              2   \n",
       "37                               [chr11, chr19, chr12]              3   \n",
       "53                                  [chr3, chr3, chr3]              1   \n",
       "96                               [chr14, chr11, chr14]              2   \n",
       "2                                 [chr13, chr17, chr9]              3   \n",
       "18                                 [chr1, chr17, chr2]              3   \n",
       "68                               [chr10, chr20, chr10]              2   \n",
       "78                                [chr5, chr11, chr20]              3   \n",
       "79                                 [chr1, chr11, chr3]              3   \n",
       "81                                 [chr1, chr1, chr10]              2   \n",
       "85                                [chr15, chr17, chr3]              3   \n",
       "\n",
       "                                     adhesome_genes  \\\n",
       "13                       [CALR, CFL1, CRKL, RAVER1]   \n",
       "90   [AGAP2, INPPL1, ITGB4, NISCH, PRKACA, SLC16A3]   \n",
       "34                        [NF2, PEAK1, PTPN2, TRIO]   \n",
       "45            [ACTN1, MAPK1, MYH9, PPFIA1, RAPGEF1]   \n",
       "72       [ARHGEF2, FERMT3, LIMK1, LRP1, SRC, TRPM7]   \n",
       "71                        [ABL1, CD151, PLEC, TNS1]   \n",
       "14               [ARPC2, HSPB1, ILKAP, RHOA, TRIP6]   \n",
       "73                  [CBL, CRK, ITGB7, PTK2, TSPAN1]   \n",
       "70                                          [BCAR1]   \n",
       "10                              [CIB1, HRAS, SH2B1]   \n",
       "11                            [CYTH2, PLAUR, TESK1]   \n",
       "12                          [NDEL1, PPM1M, ZFYVE21]   \n",
       "35                              [PARVB, SVIL, VAV2]   \n",
       "40                       [FBLIM1, ITGB1BP1, PTPN11]   \n",
       "91                              [PKD1, PPM1F, VASP]   \n",
       "100                           [HSPA2, PFN1, TUBA1B]   \n",
       "92                        [HAX1, ITGA5, RNF5, SHC1]   \n",
       "16                                               []   \n",
       "3                                   [ITGA3, SLC9A1]   \n",
       "4                                      [PTEN, RAC1]   \n",
       "15                              [NUDT16L1, SHARPIN]   \n",
       "27                                      [CSK, GIT1]   \n",
       "28                                     [ARF1, ENAH]   \n",
       "36                                     [DNM2, TLN1]   \n",
       "37                                    [CTTN, KEAP1]   \n",
       "53                                 [ANKRD28, ITGA9]   \n",
       "96                                   [AKT1, CORO1B]   \n",
       "2                          [ARHGEF7, ITGAE, SPTLC1]   \n",
       "18                              [ASAP3, GRB2, SOS1]   \n",
       "68                               [ABI1, SIRPA, VIM]   \n",
       "78                            [ITGA2, PARVA, PTPN1]   \n",
       "79                              [CSRP1, PAK1, PLD1]   \n",
       "81                              [BCAR3, NEXN, NRP1]   \n",
       "85                           [ITGA11, ITGB3, ITGB5]   \n",
       "\n",
       "                      tf_genes  size_genes  size_tf_genes  \\\n",
       "13   [CEBPB, EP300, JUND, YY1]           8              4   \n",
       "90                       [MAZ]           7              1   \n",
       "34               [ELF1, RCOR1]           6              2   \n",
       "45                     [SMAD3]           6              1   \n",
       "72                          []           6              0   \n",
       "71                      [MAFK]           5              1   \n",
       "14                          []           5              0   \n",
       "73                          []           5              0   \n",
       "70           [BCL3, EHF, SPI1]           4              3   \n",
       "10                      [USF1]           4              1   \n",
       "11                    [POLR2A]           4              1   \n",
       "12                      [HSF1]           4              1   \n",
       "35                      [CTCF]           4              1   \n",
       "40                      [MED1]           4              1   \n",
       "91                      [RFX5]           4              1   \n",
       "100                     [SIX5]           4              1   \n",
       "92                          []           4              0   \n",
       "16         [MYC, SUMO1, SUMO2]           3              3   \n",
       "3                      [FOSL2]           3              1   \n",
       "4                      [SIN3A]           3              1   \n",
       "15                      [RELA]           3              1   \n",
       "27                     [BRCA1]           3              1   \n",
       "28                      [ATF3]           3              1   \n",
       "36                      [BRD4]           3              1   \n",
       "37                     [TEAD4]           3              1   \n",
       "53                   [BHLHE40]           3              1   \n",
       "96                       [MAX]           3              1   \n",
       "2                           []           3              0   \n",
       "18                          []           3              0   \n",
       "68                          []           3              0   \n",
       "78                          []           3              0   \n",
       "79                          []           3              0   \n",
       "81                          []           3              0   \n",
       "85                          []           3              0   \n",
       "\n",
       "            prop_adhesome_targets           prop_genome_targets  \n",
       "13   [0.806, 0.628, 0.316, 0.133]  [0.319, 0.231, 0.069, 0.071]  \n",
       "90                        [0.964]                       [0.454]  \n",
       "34                 [0.194, 0.036]                [0.069, 0.008]  \n",
       "45                        [0.066]                       [0.013]  \n",
       "72                             []                            []  \n",
       "71                        [0.077]                       [0.021]  \n",
       "14                             []                            []  \n",
       "73                             []                            []  \n",
       "70           [0.265, 0.046, 0.76]         [0.071, 0.009, 0.313]  \n",
       "10                        [0.173]                       [0.085]  \n",
       "11                        [0.357]                       [0.157]  \n",
       "12                        [0.005]                       [0.004]  \n",
       "35                        [0.847]                       [0.337]  \n",
       "40                        [0.005]                       [0.003]  \n",
       "91                         [0.01]                       [0.008]  \n",
       "100                       [0.097]                       [0.049]  \n",
       "92                             []                            []  \n",
       "16           [0.066, 0.01, 0.168]         [0.031, 0.004, 0.045]  \n",
       "3                          [0.27]                        [0.07]  \n",
       "4                         [0.224]                        [0.08]  \n",
       "15                        [0.015]                       [0.009]  \n",
       "27                        [0.143]                       [0.052]  \n",
       "28                        [0.046]                       [0.022]  \n",
       "36                        [0.597]                       [0.235]  \n",
       "37                        [0.015]                       [0.009]  \n",
       "53                        [0.077]                       [0.032]  \n",
       "96                         [0.52]                       [0.242]  \n",
       "2                              []                            []  \n",
       "18                             []                            []  \n",
       "68                             []                            []  \n",
       "78                             []                            []  \n",
       "79                             []                            []  \n",
       "81                             []                            []  \n",
       "85                             []                            []  "
      ]
     },
     "execution_count": 223,
     "metadata": {},
     "output_type": "execute_result"
    }
   ],
   "source": [
    "# Print stats\n",
    "print('Number of clusters = '+str(clusters_df.shape[0]))\n",
    "print('Number of genes in clusters = '+str(len(np.unique(sorted(itertools.chain.from_iterable(clusters_df['genes']))))))\n",
    "pickle.dump(clusters_df, open(saving_dir+'adhesome_clusters_df.pkl', 'wb'))\n",
    "clusters_df"
   ]
  },
  {
   "cell_type": "markdown",
   "metadata": {},
   "source": [
    "---------"
   ]
  },
  {
   "cell_type": "markdown",
   "metadata": {},
   "source": [
    "# Build network of clusters"
   ]
  },
  {
   "cell_type": "code",
   "execution_count": 224,
   "metadata": {},
   "outputs": [],
   "source": [
    "# Build network of clusters\n",
    "edge_list = pd.DataFrame(columns=['source','target','source_id','target_id','weight','TFs'])\n",
    "for i in range(len(clusters_df)):\n",
    "    for j in range(len(clusters_df)):\n",
    "        # Cluster nodes\n",
    "        cluster1 = format_node_label(clusters_df.iloc[i]['genes'])\n",
    "        cluster2 = format_node_label(clusters_df.iloc[j]['genes'])\n",
    "        # Clusters ID\n",
    "        cluster1_id = clusters_df.iloc[i]['cluster']\n",
    "        cluster2_id = clusters_df.iloc[j]['cluster']\n",
    "        # Nodes in clusters\n",
    "        cluster1_tfs = clusters_df.iloc[i]['tf_genes']\n",
    "        cluster1_tfs_spec = clusters_df.iloc[i]['prop_genome_targets']\n",
    "        cluster2_nodes = clusters_df.iloc[j]['genes']\n",
    "        # Normalized edge weight\n",
    "        n_target_genes = len(cluster2_nodes)\n",
    "        n_tf_genes = len(cluster1_tfs)\n",
    "        if n_tf_genes>0: \n",
    "            tfs_involved_in_edge = [tf for tf in cluster1_tfs\n",
    "                                    if len(active_lung_tf2target[tf].intersection(set(cluster2_nodes)))>0]\n",
    "#             weight = np.sum(np.array([len(active_lung_tf2target[cluster1_tfs[i]].intersection(set(cluster2_nodes)))*(1-cluster1_tfs_spec[i])\n",
    "#                                       for i in range(len(cluster1_tfs))]))/(n_target_genes*n_tf_genes)\n",
    "            weight = np.sum(np.array([len(active_lung_tf2target[cluster1_tfs[i]].intersection(set(cluster2_nodes)))\n",
    "                                     for i in range(len(cluster1_tfs))]))/(n_target_genes*n_tf_genes)\n",
    "            # Create edge\n",
    "            new_edge = pd.DataFrame({'source': [cluster1],\n",
    "                                     'target': [cluster2],                \n",
    "                                     'source_id': [cluster1_id],\n",
    "                                     'target_id': [cluster2_id],\n",
    "                                     'weight':[weight],\n",
    "                                     'TFs': [','.join(tfs_involved_in_edge)]})\n",
    "            edge_list = edge_list.append(new_edge)\n",
    "edge_list = edge_list[edge_list['weight']>0]"
   ]
  },
  {
   "cell_type": "code",
   "execution_count": 225,
   "metadata": {},
   "outputs": [
    {
     "name": "stdout",
     "output_type": "stream",
     "text": [
      "Name: \n",
      "Type: DiGraph\n",
      "Number of nodes: 34\n",
      "Number of edges: 427\n",
      "Average in degree:  12.5588\n",
      "Average out degree:  12.5588\n"
     ]
    }
   ],
   "source": [
    "# Create graph\n",
    "G = nx.from_pandas_edgelist(edge_list, edge_attr=['weight','TFs'], create_using=nx.DiGraph)\n",
    "# Add node metadata\n",
    "n = len(G.nodes)\n",
    "nx.set_node_attributes(G, \n",
    "        {format_node_label(clusters_df.iloc[i]['genes']): len(clusters_df.iloc[i]['adhesome_genes']) for i in range(n)}, \n",
    "                       \"n_adhesome\")\n",
    "nx.set_node_attributes(G, \n",
    "        {format_node_label(clusters_df.iloc[i]['genes']): len(clusters_df.iloc[i]['tf_genes']) for i in range(n)}, \n",
    "                       \"n_TFs\")\n",
    "nx.set_node_attributes(G, \n",
    "        {format_node_label(clusters_df.iloc[i]['genes']): clusters_df.iloc[i]['adhesome_genes'] for i in range(n)}, \n",
    "                       \"all_adhesomes\")\n",
    "nx.set_node_attributes(G, \n",
    "        {format_node_label(clusters_df.iloc[i]['genes']): clusters_df.iloc[i]['tf_genes'] for i in range(n)}, \n",
    "                       \"all_TFs\")\n",
    "print(nx.info(G))"
   ]
  },
  {
   "cell_type": "code",
   "execution_count": 226,
   "metadata": {},
   "outputs": [
    {
     "data": {
      "image/png": "[encoded data removed]",
      "text/plain": [
       "<Figure size 432x288 with 1 Axes>"
      ]
     },
     "metadata": {
      "needs_background": "light"
     },
     "output_type": "display_data"
    }
   ],
   "source": [
    "# Distribution of edge weights\n",
    "plt.figure()\n",
    "plt.hist(edge_list['weight'], bins=np.arange(0,1.01,0.01))\n",
    "plt.xlabel('weights')\n",
    "plt.ylabel('number of edges')\n",
    "plt.show()"
   ]
  },
  {
   "cell_type": "code",
   "execution_count": 235,
   "metadata": {},
   "outputs": [
    {
     "data": {
      "text/html": [
       "\n",
       "        <iframe\n",
       "            width=\"1000px\"\n",
       "            height=\"1000px\"\n",
       "            src=\"adhesome_network.html\"\n",
       "            frameborder=\"0\"\n",
       "            allowfullscreen\n",
       "        ></iframe>\n",
       "        "
      ],
      "text/plain": [
       "<IPython.lib.display.IFrame at 0x7fb37e40d1d0>"
      ]
     },
     "execution_count": 235,
     "metadata": {},
     "output_type": "execute_result"
    }
   ],
   "source": [
    "# Define network object\n",
    "net  = Network(height=\"1000px\",\n",
    "               width=\"1000px\",\n",
    "               directed=True,\n",
    "               font_color='black',\n",
    "               notebook=True,\n",
    "               layout=None,\n",
    "               heading='Adhesome network')\n",
    "\n",
    "# Set layout\n",
    "net.hrepulsion(node_distance=200,\n",
    "               central_gravity=0.0,\n",
    "               spring_length=100,\n",
    "               spring_strength=0.01,\n",
    "               damping=0.09)\n",
    "\n",
    "# Import NetworkX graph\n",
    "from_nx(G, net, default_node_size=20, \n",
    "        default_edge_weight=1,edge_weight_scale=0.1, edge_color_scale=1, edge_threshold=0.5, \n",
    "        hidden_edges=['MAZ','CTCF','BRD4','POLR2A','MAX'],\n",
    "        shape='box')\n",
    "#net.show_buttons()\n",
    "net.show(\"adhesome_network.html\")"
   ]
  },
  {
   "cell_type": "markdown",
   "metadata": {},
   "source": [
    "# Helper functions"
   ]
  },
  {
   "cell_type": "code",
   "execution_count": 212,
   "metadata": {},
   "outputs": [],
   "source": [
    "def format_node_label(raw_label):\n",
    "    '''\n",
    "    Function to put node label in a square format\n",
    "    Args:\n",
    "        raw_label: (Numpy array) array of gene names\n",
    "    Returns:\n",
    "        The formatted label (a string)\n",
    "    '''\n",
    "    label = raw_label.copy()   \n",
    "    # Line breaks\n",
    "    for i in range(1, len(labels)//2+1):\n",
    "        if 2*i<len(label):\n",
    "            label[2*i-1] = label[2*i-1]+' \\n '\n",
    "    label = ' '.join(label)\n",
    "    return label"
   ]
  },
  {
   "cell_type": "code",
   "execution_count": 230,
   "metadata": {},
   "outputs": [],
   "source": [
    "def from_nx(graph, pyvisnet, default_node_size=1, \n",
    "            default_edge_weight=1, edge_weight_scale=1, edge_color_scale=1, edge_threshold=0, hidden_edges=[], \n",
    "            shape='circle'):\n",
    "    \"\"\"\n",
    "    This method takes an exisitng Networkx graph and translates\n",
    "    it to a PyVis graph format that can be accepted by the VisJs\n",
    "    API in the Jinja2 template. This operation is done in place.\n",
    "    \"\"\"\n",
    "    nx_graph = graph.copy()\n",
    "    assert(isinstance(nx_graph, nx.Graph))\n",
    "    edges = nx_graph.edges(data=True)\n",
    "    nodes = nx_graph.nodes(data=True)\n",
    "\n",
    "    if len(edges) > 0:\n",
    "        for e in edges:\n",
    "            # Specify node size\n",
    "            if 'size' not in nodes[e[0]].keys():\n",
    "                nodes[e[0]]['size'] = default_node_size\n",
    "            nodes[e[0]]['size'] = int(nodes[e[0]]['size'])\n",
    "            if 'size' not in nodes[e[1]].keys():\n",
    "                nodes[e[1]]['size'] = default_node_size\n",
    "            nodes[e[1]]['size'] = int(nodes[e[1]]['size'])\n",
    "            # Specify node color\n",
    "            if nodes[e[0]]['n_TFs']>0:\n",
    "                nodes[e[0]]['color'] = 'lightcoral'\n",
    "            else:\n",
    "                nodes[e[0]]['color'] = 'dodgerblue'\n",
    "            if nodes[e[1]]['n_TFs']>0:\n",
    "                nodes[e[1]]['color'] = 'lightcoral'\n",
    "            else:\n",
    "                nodes[e[1]]['color'] = 'dodgerblue'\n",
    "            # Specify node title\n",
    "            if len(nodes[e[0]]['all_TFs'])>0:\n",
    "                nodes[e[0]]['title'] = 'adhesome: '+','.join(nodes[e[0]]['all_adhesomes'])+' / '+'TFs: '+','.join(nodes[e[0]]['all_TFs'])\n",
    "            else:\n",
    "                nodes[e[0]]['title'] = 'adhesome: '+','.join(nodes[e[0]]['all_adhesomes'])+' / '+'no TF'\n",
    "            if nodes[e[1]]['n_TFs']>0:\n",
    "                nodes[e[1]]['title'] = 'adhesome: '+','.join(nodes[e[1]]['all_adhesomes'])+' / '+'TFs: '+','.join(nodes[e[1]]['all_TFs'])\n",
    "            else:\n",
    "                nodes[e[1]]['title'] = 'adhesome: '+','.join(nodes[e[1]]['all_adhesomes'])+' / '+'no TF'\n",
    "            pyvisnet.add_node(e[0], **nodes[e[0]], shape=shape)\n",
    "            pyvisnet.add_node(e[1], **nodes[e[1]], shape=shape)\n",
    "\n",
    "            if 'weight' not in e[2].keys():\n",
    "                e[2]['weight'] = default_edge_weight\n",
    "            edge_dict = e[2].copy()\n",
    "            edge_dict[\"value\"] = e[2]['weight']*edge_weight_scale\n",
    "            edge_dict[\"title\"] = 'TF: '+e[2]['TFs']+'\\n'+'val: '+str(e[2]['weight'])\n",
    "            edge_dict[\"color\"] = colfunc(e[2]['weight']*edge_color_scale)\n",
    "            edge_dict[\"arrowStrikethrough\"] = False\n",
    "            if (e[2]['weight']>edge_threshold) and (e[2]['TFs'] not in hidden_edges):\n",
    "                pyvisnet.add_edge(e[0], e[1], **edge_dict)\n",
    "\n",
    "    for node in nx.isolates(nx_graph):\n",
    "        if 'size' not in nodes[node].keys():\n",
    "            nodes[node]['size']=default_node_size\n",
    "        pyvisnet.add_node(node, **nodes[node], shape=shape)"
   ]
  },
  {
   "cell_type": "code",
   "execution_count": 128,
   "metadata": {},
   "outputs": [],
   "source": [
    "def colfunc(val, minval=0, maxval=1):\n",
    "    \"\"\" Convert value in the range minval...maxval to a color in the range\n",
    "        startcolor to stopcolor. The colors passed and the one returned are\n",
    "        composed of a sequence of N component values (e.g. RGB).\n",
    "    \"\"\"\n",
    "    RED, YELLOW, GREEN  = (1, 0, 0), (1, 1, 0), (0, 1, 0)\n",
    "    CYAN, BLUE, MAGENTA = (0, 1, 1), (0, 0, 1), (1, 0, 1)\n",
    "    WHITE = (1, 1, 1)\n",
    "    f = float(val-minval) / (maxval-minval)\n",
    "    return mpl.colors.rgb2hex(tuple(f*(b-a)+a for (a, b) in zip(WHITE, RED)))"
   ]
  }
 ],
 "metadata": {
  "kernelspec": {
   "display_name": "Python 3",
   "language": "python",
   "name": "python3"
  },
  "language_info": {
   "codemirror_mode": {
    "name": "ipython",
    "version": 3
   },
   "file_extension": ".py",
   "mimetype": "text/x-python",
   "name": "python",
   "nbconvert_exporter": "python",
   "pygments_lexer": "ipython3",
   "version": "3.7.4"
  }
 },
 "nbformat": 4,
 "nbformat_minor": 2
}
