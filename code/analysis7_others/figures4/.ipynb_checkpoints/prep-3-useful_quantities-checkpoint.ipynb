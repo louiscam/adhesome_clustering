{
 "cells": [
  {
   "cell_type": "markdown",
   "metadata": {},
   "source": [
    "Goal: Save any interesting quantity to pickle"
   ]
  },
  {
   "cell_type": "code",
   "execution_count": 1,
   "metadata": {},
   "outputs": [],
   "source": [
    "import warnings\n",
    "warnings.simplefilter(action='ignore', category=FutureWarning)"
   ]
  },
  {
   "cell_type": "code",
   "execution_count": 2,
   "metadata": {
    "code_folding": [
     0
    ]
   },
   "outputs": [
    {
     "data": {
      "text/plain": [
       "<module 'correlation_clustering' from '/home/louiscam/projects/gpcr/code/figures4/correlation_clustering.py'>"
      ]
     },
     "execution_count": 2,
     "metadata": {},
     "output_type": "execute_result"
    }
   ],
   "source": [
    "# Import standard libraries\n",
    "from importlib import reload\n",
    "import numpy as np\n",
    "import matplotlib as mpl\n",
    "import matplotlib.pyplot as plt\n",
    "from scipy.cluster.hierarchy import dendrogram, linkage, fcluster\n",
    "from sklearn.metrics import adjusted_mutual_info_score\n",
    "import seaborn as sns\n",
    "from scipy import sparse\n",
    "import scipy.stats as ss\n",
    "import csv\n",
    "import pandas as pd\n",
    "import networkx as nx\n",
    "import community\n",
    "import communities as com\n",
    "import pickle\n",
    "from collections import defaultdict\n",
    "import operator\n",
    "from scipy.sparse import csr_matrix\n",
    "import itertools\n",
    "import os.path\n",
    "import math\n",
    "from sklearn.cluster import AgglomerativeClustering\n",
    "from sklearn.decomposition import PCA\n",
    "from sklearn.manifold import TSNE\n",
    "from sklearn.metrics import adjusted_mutual_info_score\n",
    "from networkx.algorithms.community.kclique import k_clique_communities\n",
    "import pybedtools\n",
    "import time\n",
    "from tqdm import tqdm\n",
    "import random\n",
    "import OmicsIntegrator as oi\n",
    "import gseapy\n",
    "from gseapy.plot import barplot, dotplot\n",
    "from ortools.linear_solver import pywraplp\n",
    "from matplotlib_venn import venn2, venn3\n",
    "# Custom libraries\n",
    "import utils as lu\n",
    "import correlation_clustering as cc\n",
    "# Reload modules in case of modifications\n",
    "reload(lu)\n",
    "reload(cc)"
   ]
  },
  {
   "cell_type": "markdown",
   "metadata": {},
   "source": [
    "### Directories"
   ]
  },
  {
   "cell_type": "code",
   "execution_count": 3,
   "metadata": {},
   "outputs": [],
   "source": [
    "# HiC information\n",
    "cell_type = 'IMR90'\n",
    "resol_str = '250kb'\n",
    "resol = 250000\n",
    "quality = 'MAPQGE30'\n",
    "norm = 'GWKR'"
   ]
  },
  {
   "cell_type": "code",
   "execution_count": 39,
   "metadata": {},
   "outputs": [],
   "source": [
    "# Directory of genome data\n",
    "dir_genome = '/home/louiscam/projects/gpcr/data/genome_data/'\n",
    "# Directory of adhesome data\n",
    "dir_adhesome = '/home/louiscam/projects/gpcr/data/adhesome_data/'\n",
    "# Directory of processed HiC\n",
    "dir_processed_hic = f'/home/louiscam/projects/gpcr/save/processed_hic_data/processed_hic_data_IMR90/final_BP250000_intraKR_inter{norm}/'\n",
    "# Directory of epigenomic data\n",
    "epigenome_dir = '/home/louiscam/projects/gpcr/data/regulatory_data/regulatory_data_IMR90/'\n",
    "processed_epigenome_data_dir = '/home/louiscam/projects/gpcr/save/processed_regulatory_marks/processed_epigenome_data_IMR90/'\n",
    "# Directory of TF data\n",
    "dir_htftarget = '/home/louiscam/projects/gpcr/data/tf_data/hTFtarget/'\n",
    "# Directory of TCR data\n",
    "dir_tcr = '/home/louiscam/projects/gpcr/data/tcr_data/'\n",
    "# Directory of proteins of interest\n",
    "dir_proteins = '/home/louiscam/projects/gpcr/data/protein_families/'\n",
    "# Saving directory\n",
    "saving_dir = '/home/louiscam/projects/gpcr/save/figures/'"
   ]
  },
  {
   "cell_type": "markdown",
   "metadata": {},
   "source": [
    "# Load data"
   ]
  },
  {
   "cell_type": "markdown",
   "metadata": {},
   "source": [
    "### Load  activity data"
   ]
  },
  {
   "cell_type": "code",
   "execution_count": 5,
   "metadata": {},
   "outputs": [],
   "source": [
    "# Active/inactive loci\n",
    "with open(saving_dir+'all_active_loci.pkl', 'rb') as f:\n",
    "    all_active_loci = pickle.load(f)\n",
    "with open(saving_dir+'all_inactive_loci.pkl', 'rb') as f:\n",
    "    all_inactive_loci = pickle.load(f)\n",
    "with open(saving_dir+'active_adhesome_loci.pkl', 'rb') as f:\n",
    "    active_adhesome_loci = pickle.load(f)\n",
    "with open(saving_dir+'inactive_adhesome_loci.pkl', 'rb') as f:\n",
    "    inactive_adhesome_loci = pickle.load(f)"
   ]
  },
  {
   "cell_type": "code",
   "execution_count": 6,
   "metadata": {},
   "outputs": [],
   "source": [
    "# Active/inactive genes\n",
    "with open(saving_dir+'active_genes.pkl', 'rb') as f:\n",
    "    active_genes = pickle.load(f)\n",
    "with open(saving_dir+'inactive_genes.pkl', 'rb') as f:\n",
    "    inactive_genes = pickle.load(f)\n",
    "with open(saving_dir+'active_adhesome_genes.pkl', 'rb') as f:\n",
    "    active_adhesome_genes = pickle.load(f)\n",
    "with open(saving_dir+'inactive_adhesome_genes.pkl', 'rb') as f:\n",
    "    inactive_adhesome_genes = pickle.load(f)"
   ]
  },
  {
   "cell_type": "markdown",
   "metadata": {},
   "source": [
    "### Load location data"
   ]
  },
  {
   "cell_type": "code",
   "execution_count": 7,
   "metadata": {},
   "outputs": [],
   "source": [
    "# Gene location in hg19\n",
    "gene_locations_filename = dir_genome+'chrom_hg19.loc_canonical'\n",
    "gene_id_filename = dir_genome+'chrom_hg19.name'\n",
    "df_loc = lu.get_all_gene_locations(gene_locations_filename, gene_id_filename)"
   ]
  },
  {
   "cell_type": "markdown",
   "metadata": {},
   "source": [
    "### Load adhesome data"
   ]
  },
  {
   "cell_type": "code",
   "execution_count": 8,
   "metadata": {},
   "outputs": [],
   "source": [
    "# Adhesome data\n",
    "adhesome_components_filename = dir_adhesome+'components.csv'\n",
    "df_components = lu.load_adhesome_data(adhesome_components_filename)\n",
    "adhesome_chr_loci, missing_adhesome = lu.annotate_genes(df_components[['geneSymbol']], df_loc, resol)\n",
    "adhesome_chr_loci['active'] = adhesome_chr_loci['gene'].isin(active_adhesome_genes)\n",
    "all_adhesome_genes = df_components['geneSymbol'].unique()\n",
    "with open(saving_dir+'adhesome_chr_loci.pkl', 'wb') as f:\n",
    "    pickle.dump(adhesome_chr_loci, f)"
   ]
  },
  {
   "cell_type": "markdown",
   "metadata": {},
   "source": [
    "### Load TF data"
   ]
  },
  {
   "cell_type": "code",
   "execution_count": 9,
   "metadata": {},
   "outputs": [],
   "source": [
    "# All TF data\n",
    "tftarget_df = pd.read_csv(dir_htftarget+'tftarget_full_processed.csv', \n",
    "                          sep='\\t', index_col=0, header=0, low_memory=False)"
   ]
  },
  {
   "cell_type": "code",
   "execution_count": 10,
   "metadata": {},
   "outputs": [],
   "source": [
    "# Select only TF-target pairs in lung fibroblasts\n",
    "all_lung_cell_lines = tftarget_df[tftarget_df['tissue']=='lung']['cell_line'].unique()\n",
    "lung_fibroblasts = ['IMR90', 'WI38', 'AG04450', 'HPF', 'NHLF', ]\n",
    "tftarget_df_lungfibro = tftarget_df[tftarget_df['cell_line'].isin(lung_fibroblasts)]"
   ]
  },
  {
   "cell_type": "code",
   "execution_count": 11,
   "metadata": {},
   "outputs": [],
   "source": [
    "# Include loci information\n",
    "htargettf_df = tftarget_df_lungfibro[['tf','target_gene']]\n",
    "htargettf_df.columns = ['geneSymbol', 'target']\n",
    "lungTF_chr_loci, missing_TF = lu.annotate_genes(htargettf_df[['geneSymbol']].drop_duplicates(), df_loc, resol)\n",
    "lungTF_chr_loci['active'] = lungTF_chr_loci['gene'].isin(active_genes)"
   ]
  },
  {
   "cell_type": "markdown",
   "metadata": {},
   "source": [
    "### Load TCR data\n",
    "- https://www.wikipathways.org/index.php/Pathway:WP69\n",
    "- http://www.netpath.org/netslim/tcr_pathway.html"
   ]
  },
  {
   "cell_type": "code",
   "execution_count": 12,
   "metadata": {},
   "outputs": [
    {
     "name": "stdout",
     "output_type": "stream",
     "text": [
      "Total number of TCR intrinsic and associated components = 92\n"
     ]
    }
   ],
   "source": [
    "# TCR data\n",
    "tcr_df = pd.read_csv(dir_tcr+'TCR.csv', header=0, index_col=None)\n",
    "print('Total number of TCR intrinsic and associated components = '+str(len(tcr_df)))"
   ]
  },
  {
   "cell_type": "markdown",
   "metadata": {},
   "source": [
    "### Load genes related to mechanoregulation"
   ]
  },
  {
   "cell_type": "code",
   "execution_count": 13,
   "metadata": {},
   "outputs": [],
   "source": [
    "# Proteins of interest\n",
    "with open(dir_proteins+'mechanoreg_proteins.pkl', 'rb') as f:\n",
    "    proteins_df = pickle.load(f)\n",
    "proteins_chr_loci, missing_prot = lu.annotate_genes(proteins_df, df_loc, resol)\n",
    "proteins_chr_loci['active'] = proteins_chr_loci['gene'].isin(active_genes)"
   ]
  },
  {
   "cell_type": "code",
   "execution_count": 14,
   "metadata": {},
   "outputs": [],
   "source": [
    "# Mechanoreg protein to family\n",
    "prot2fam = {proteins_df.iloc[i,0]: proteins_df.iloc[i,1] for i in range(len(proteins_df))}"
   ]
  },
  {
   "cell_type": "markdown",
   "metadata": {},
   "source": [
    "# Define useful quantities"
   ]
  },
  {
   "cell_type": "markdown",
   "metadata": {},
   "source": [
    "### Gene to chromosome dictionary"
   ]
  },
  {
   "cell_type": "code",
   "execution_count": 15,
   "metadata": {},
   "outputs": [],
   "source": [
    "# Build dictionary matching each gene to its corresponding chromosome\n",
    "gene2chrom = {g: df_loc[df_loc['geneSymbol']==g]['#chrom'].values[0] \n",
    "              for g in tqdm(df_loc['geneSymbol'].values)}\n",
    "with open(saving_dir+'gene2chrom.pkl', 'wb') as f:\n",
    "    pickle.dump(gene2chrom, f)"
   ]
  },
  {
   "cell_type": "markdown",
   "metadata": {},
   "source": [
    "### Map from genes to locus"
   ]
  },
  {
   "cell_type": "code",
   "execution_count": 16,
   "metadata": {
    "scrolled": true
   },
   "outputs": [
    {
     "name": "stderr",
     "output_type": "stream",
     "text": [
      "100%|██████████| 25959/25959 [00:17<00:00, 1494.59it/s]\n"
     ]
    }
   ],
   "source": [
    "# Build dictionary matching each gene to its corresponding locus\n",
    "gene2locus = {df_loc.iloc[i]['geneSymbol']: \n",
    "              ['chr_'+df_loc.iloc[i]['#chrom'].strip('chr')+'_loc_'+str(resol*x)\n",
    "               for x in range(df_loc.iloc[i]['chromStart']//resol, df_loc.iloc[i]['chromEnd']//resol+1, 1)]\n",
    "              for i in tqdm(range(df_loc.shape[0]))}\n",
    "with open(saving_dir+'gene2locus.pkl', 'wb') as f:\n",
    "    pickle.dump(gene2locus, f)"
   ]
  },
  {
   "cell_type": "code",
   "execution_count": 17,
   "metadata": {},
   "outputs": [
    {
     "name": "stderr",
     "output_type": "stream",
     "text": [
      "100%|██████████| 25959/25959 [00:00<00:00, 672222.87it/s]\n"
     ]
    }
   ],
   "source": [
    "# Build dictionary matching each locus to its corresponding genes\n",
    "locus2gene = {}\n",
    "for k, v in tqdm(gene2locus.items()):\n",
    "    for vals in v:\n",
    "        locus2gene[vals] = locus2gene.get(vals, []) + [k]\n",
    "with open(saving_dir+'locus2gene.pkl', 'wb') as f:\n",
    "    pickle.dump(locus2gene, f)"
   ]
  },
  {
   "cell_type": "markdown",
   "metadata": {},
   "source": [
    "### Adhesome genes/loci"
   ]
  },
  {
   "cell_type": "code",
   "execution_count": 18,
   "metadata": {},
   "outputs": [],
   "source": [
    "# All adhesome genes\n",
    "all_adhesome_genes = np.unique(adhesome_chr_loci['gene'])\n",
    "with open(saving_dir+'all_adhesome_genes.pkl', 'wb') as f:\n",
    "    pickle.dump(all_adhesome_genes, f)\n",
    "\n",
    "all_adhesome_loci = np.unique(adhesome_chr_loci['locus_id'])\n",
    "with open(saving_dir+'all_adhesome_loci.pkl', 'wb') as f:\n",
    "    pickle.dump(all_adhesome_loci, f)"
   ]
  },
  {
   "cell_type": "code",
   "execution_count": 19,
   "metadata": {},
   "outputs": [],
   "source": [
    "# Adhesome gene2locus and locus2gene dictionaries\n",
    "adhesome_gene2locus = {gene: adhesome_chr_loci[adhesome_chr_loci['gene']==gene]['locus_id'].values.astype(str)  \n",
    "              for gene in np.unique(adhesome_chr_loci['gene'])}\n",
    "with open(saving_dir+'adhesome_gene2locus.pkl', 'wb') as f:\n",
    "    pickle.dump(adhesome_gene2locus, f)\n",
    "\n",
    "adhesome_locus2gene = {locus: adhesome_chr_loci[adhesome_chr_loci['locus_id']==locus]['gene'].values.astype(str) \n",
    "              for locus in np.unique(adhesome_chr_loci['locus_id'])}\n",
    "with open(saving_dir+'adhesome_locus2gene.pkl', 'wb') as f:\n",
    "    pickle.dump(adhesome_locus2gene, f)"
   ]
  },
  {
   "cell_type": "code",
   "execution_count": 20,
   "metadata": {},
   "outputs": [],
   "source": [
    "# Active adhesome gene2locus and locus2gene dictionaries\n",
    "active_adhesome_gene2locus = {gene: adhesome_chr_loci[(adhesome_chr_loci['gene']==gene) &\n",
    "                                                      (adhesome_chr_loci['active']==True)]['locus_id'].values.astype(str)  \n",
    "              for gene in np.unique(adhesome_chr_loci['gene'])}\n",
    "with open(saving_dir+'active_adhesome_gene2locus.pkl', 'wb') as f:\n",
    "    pickle.dump(active_adhesome_gene2locus, f)\n",
    "\n",
    "active_adhesome_locus2gene = {locus: adhesome_chr_loci[(adhesome_chr_loci['locus_id']==locus) &\n",
    "                                                      (adhesome_chr_loci['active']==True)]['gene'].values.astype(str) \n",
    "              for locus in np.unique(adhesome_chr_loci['locus_id'])}\n",
    "with open(saving_dir+'active_adhesome_locus2gene.pkl', 'wb') as f:\n",
    "    pickle.dump(active_adhesome_locus2gene, f)"
   ]
  },
  {
   "cell_type": "markdown",
   "metadata": {},
   "source": [
    "### All active lung TF genes/loci"
   ]
  },
  {
   "cell_type": "code",
   "execution_count": 21,
   "metadata": {},
   "outputs": [
    {
     "data": {
      "text/html": [
       "<div>\n",
       "<style scoped>\n",
       "    .dataframe tbody tr th:only-of-type {\n",
       "        vertical-align: middle;\n",
       "    }\n",
       "\n",
       "    .dataframe tbody tr th {\n",
       "        vertical-align: top;\n",
       "    }\n",
       "\n",
       "    .dataframe thead th {\n",
       "        text-align: right;\n",
       "    }\n",
       "</style>\n",
       "<table border=\"1\" class=\"dataframe\">\n",
       "  <thead>\n",
       "    <tr style=\"text-align: right;\">\n",
       "      <th></th>\n",
       "      <th>geneSymbol</th>\n",
       "      <th>chrom</th>\n",
       "      <th>chrom_int</th>\n",
       "      <th>loci</th>\n",
       "      <th>locus_id</th>\n",
       "      <th>active</th>\n",
       "      <th>target</th>\n",
       "    </tr>\n",
       "  </thead>\n",
       "  <tbody>\n",
       "    <tr>\n",
       "      <th>0</th>\n",
       "      <td>LMNB1</td>\n",
       "      <td>chr5</td>\n",
       "      <td>5</td>\n",
       "      <td>504</td>\n",
       "      <td>chr_5_loc_126000000</td>\n",
       "      <td>True</td>\n",
       "      <td>AGBL5-AS1</td>\n",
       "    </tr>\n",
       "    <tr>\n",
       "      <th>1</th>\n",
       "      <td>LMNB1</td>\n",
       "      <td>chr5</td>\n",
       "      <td>5</td>\n",
       "      <td>504</td>\n",
       "      <td>chr_5_loc_126000000</td>\n",
       "      <td>True</td>\n",
       "      <td>AGBL5</td>\n",
       "    </tr>\n",
       "    <tr>\n",
       "      <th>2</th>\n",
       "      <td>LMNB1</td>\n",
       "      <td>chr5</td>\n",
       "      <td>5</td>\n",
       "      <td>504</td>\n",
       "      <td>chr_5_loc_126000000</td>\n",
       "      <td>True</td>\n",
       "      <td>RP11-204L24.2</td>\n",
       "    </tr>\n",
       "    <tr>\n",
       "      <th>3</th>\n",
       "      <td>LMNB1</td>\n",
       "      <td>chr5</td>\n",
       "      <td>5</td>\n",
       "      <td>504</td>\n",
       "      <td>chr_5_loc_126000000</td>\n",
       "      <td>True</td>\n",
       "      <td>CLASP1</td>\n",
       "    </tr>\n",
       "    <tr>\n",
       "      <th>4</th>\n",
       "      <td>LMNB1</td>\n",
       "      <td>chr5</td>\n",
       "      <td>5</td>\n",
       "      <td>504</td>\n",
       "      <td>chr_5_loc_126000000</td>\n",
       "      <td>True</td>\n",
       "      <td>RNU4ATAC</td>\n",
       "    </tr>\n",
       "  </tbody>\n",
       "</table>\n",
       "</div>"
      ],
      "text/plain": [
       "  geneSymbol chrom  chrom_int  loci             locus_id  active  \\\n",
       "0      LMNB1  chr5          5   504  chr_5_loc_126000000    True   \n",
       "1      LMNB1  chr5          5   504  chr_5_loc_126000000    True   \n",
       "2      LMNB1  chr5          5   504  chr_5_loc_126000000    True   \n",
       "3      LMNB1  chr5          5   504  chr_5_loc_126000000    True   \n",
       "4      LMNB1  chr5          5   504  chr_5_loc_126000000    True   \n",
       "\n",
       "          target  \n",
       "0      AGBL5-AS1  \n",
       "1          AGBL5  \n",
       "2  RP11-204L24.2  \n",
       "3         CLASP1  \n",
       "4       RNU4ATAC  "
      ]
     },
     "execution_count": 21,
     "metadata": {},
     "output_type": "execute_result"
    }
   ],
   "source": [
    "# Merge TF and target information\n",
    "lungTF_chr_loci1 = lungTF_chr_loci.copy()\n",
    "lungTF_chr_loci1.columns = ['chrom', 'chrom_int', 'loci', 'tf', 'locus_id', 'active']\n",
    "tf_target_df = tftarget_df_lungfibro.merge(lungTF_chr_loci1, on='tf')\n",
    "tf_target_df = tf_target_df[['tf', 'chrom', 'chrom_int', 'loci', 'locus_id', 'active', 'target_gene']]\n",
    "tf_target_df.columns = ['geneSymbol', 'chrom', 'chrom_int', 'loci', 'locus_id', 'active', 'target']\n",
    "tf_target_df.head()"
   ]
  },
  {
   "cell_type": "code",
   "execution_count": 22,
   "metadata": {},
   "outputs": [],
   "source": [
    "# Select active TFs targeting active genes\n",
    "active_tf_target_df = tf_target_df[(tf_target_df['geneSymbol'].isin(active_genes)) & \n",
    "                                   (tf_target_df['target'].isin(active_genes))]\n",
    "\n",
    "active_lung_tf2target = {tf: set(active_tf_target_df[active_tf_target_df['geneSymbol']==tf]['target'].unique())\n",
    "                        for tf in tqdm(active_tf_target_df['geneSymbol'].unique())}\n",
    "with open(saving_dir+'active_lung_tf2target.pkl', 'wb') as f:\n",
    "    pickle.dump(active_lung_tf2target, f)\n",
    "\n",
    "active_lung_target2tf = {target: set(active_tf_target_df[active_tf_target_df['target']==target]['geneSymbol'].unique())\n",
    "                        for target in active_tf_target_df['target'].unique()}\n",
    "with open(saving_dir+'active_lung_target2tf.pkl', 'wb') as f:\n",
    "    pickle.dump(active_lung_target2tf, f)"
   ]
  },
  {
   "cell_type": "code",
   "execution_count": 23,
   "metadata": {},
   "outputs": [],
   "source": [
    "# Store active TFs targeting active genes\n",
    "active_lung_tf_genes = tf_target_df[(tf_target_df['geneSymbol'].isin(active_genes)) & \n",
    "                                    (tf_target_df['target'].isin(active_genes))]['geneSymbol'].unique()\n",
    "with open(saving_dir+'active_lung_tf_genes.pkl', 'wb') as f:\n",
    "    pickle.dump(active_lung_tf_genes, f)\n",
    "\n",
    "active_lung_tf_loci = tf_target_df[(tf_target_df['geneSymbol'].isin(active_genes)) & \n",
    "                                   (tf_target_df['target'].isin(active_genes))]['locus_id'].unique()\n",
    "with open(saving_dir+'active_lung_tf_loci.pkl', 'wb') as f:\n",
    "    pickle.dump(active_lung_tf_loci, f)"
   ]
  },
  {
   "cell_type": "code",
   "execution_count": 24,
   "metadata": {},
   "outputs": [
    {
     "name": "stdout",
     "output_type": "stream",
     "text": [
      "Number of TFs in normal lung fibroblasts cell lines = 31\n",
      "['LMNB1' 'RBL2' 'MAFK' 'BRF2' 'CTCF' 'RB1' 'E2F7' 'CHD1' 'EP300' 'SUMO2'\n",
      " 'UBE2I' 'PIAS4' 'SNAPC2' 'SUMO1' 'GTF2B' 'BRCA1' 'RFX5' 'BDP1' 'RCOR1'\n",
      " 'SNAPC1' 'TP53' 'CEBPB' 'RAD21' 'POLR2A' 'RBL1' 'SNAPC5' 'SNAPC4' 'BRF1'\n",
      " 'MXI1' 'MAZ' 'SPI1']\n",
      "TFs in the different cell lines\n",
      "  cell_line                                                 tf  n_tfs  \\\n",
      "0   AG04450                                             [CTCF]      1   \n",
      "1       HPF                                             [CTCF]      1   \n",
      "2     IMR90  [LMNB1, RBL2, MAFK, BRF2, RB1, E2F7, CHD1, EP3...     27   \n",
      "3      NHLF                                             [CTCF]      1   \n",
      "4      WI38                 [SUMO2, UBE2I, PIAS4, SUMO1, CTCF]      5   \n",
      "\n",
      "   n_active_tfs  \n",
      "0             1  \n",
      "1             1  \n",
      "2            24  \n",
      "3             1  \n",
      "4             5  \n",
      "TFs in WI38 that are not in IMR90\n",
      "{'SUMO2', 'SUMO1', 'UBE2I', 'PIAS4'}\n"
     ]
    }
   ],
   "source": [
    "# Breakdown of TFs in normal lung fibroblasts\n",
    "print('Number of TFs in normal lung fibroblasts cell lines = '+str(tftarget_df_lungfibro['tf'].nunique()))\n",
    "print(tftarget_df_lungfibro['tf'].unique())\n",
    "print('TFs in the different cell lines')\n",
    "lungfibro_breadkdown_df = tftarget_df_lungfibro.drop_duplicates(['tf', 'cell_line'])\n",
    "lungfibro_breadkdown_df = lungfibro_breadkdown_df.groupby(['cell_line'])['tf'].agg(list).reset_index()\n",
    "lungfibro_breadkdown_df['n_tfs'] = [len(ls) \n",
    "                                    for ls in lungfibro_breadkdown_df['tf']]\n",
    "lungfibro_breadkdown_df['n_active_tfs'] = [len(set(ls).intersection(set(active_genes))) \n",
    "                                           for ls in lungfibro_breadkdown_df['tf']]\n",
    "print(lungfibro_breadkdown_df)\n",
    "print('TFs in WI38 that are not in IMR90')\n",
    "print(set(lungfibro_breadkdown_df[lungfibro_breadkdown_df['cell_line']=='WI38']['tf'].values[0])-\n",
    "      set(lungfibro_breadkdown_df[lungfibro_breadkdown_df['cell_line']=='IMR90']['tf'].values[0]))\n"
   ]
  },
  {
   "cell_type": "code",
   "execution_count": 25,
   "metadata": {},
   "outputs": [
    {
     "data": {
      "image/png": "[encoded data removed]",
      "text/plain": [
       "<Figure size 1080x360 with 1 Axes>"
      ]
     },
     "metadata": {
      "needs_background": "light"
     },
     "output_type": "display_data"
    }
   ],
   "source": [
    "# Check whether 'SUMO2', 'UBE2I', 'SUMO1', 'PIAS4' are expressed in IMR90\n",
    "df_all_norm = pd.read_csv(saving_dir+'features_matrix_all_genes_norm.csv', header=0, index_col=0)\n",
    "df_select = df_all_norm.loc[['RNAseq'], :]\n",
    "# Plot expression of genes compared to histogram of RNAseq of all genes\n",
    "col_dict = {'SUMO2':'green', 'UBE2I':'orange', 'SUMO1':'red', 'PIAS4':'dodgerblue'}\n",
    "plt.figure(figsize=(15,5))\n",
    "plt.hist(df_all_norm.loc['RNAseq', :].values, bins=np.arange(-1.5, 2.5, 0.1),\n",
    "         label='all genes')\n",
    "for g in ['SUMO2', 'UBE2I', 'SUMO1', 'PIAS4']:\n",
    "    plt.vlines(x=df_all_norm.loc['RNAseq', g], ymin=0, ymax=8000, \n",
    "               color=col_dict[g], linestyle='dashed', label=g)\n",
    "plt.xlabel('z-scored RNA-seq value')\n",
    "plt.ylabel('number of genes')\n",
    "plt.legend(loc='upper right')\n",
    "plt.show()"
   ]
  },
  {
   "cell_type": "markdown",
   "metadata": {},
   "source": [
    "### Lung TF genes/loci targeting adhesome"
   ]
  },
  {
   "cell_type": "code",
   "execution_count": 26,
   "metadata": {},
   "outputs": [],
   "source": [
    "# Select all lung fibroblast TFs targeting active genes\n",
    "all_lung_adhesome_tf_genes = tftarget_df_lungfibro[tftarget_df_lungfibro['target_gene'].isin(active_adhesome_genes)]\n",
    "all_lung_adhesome_tf_genes = all_lung_adhesome_tf_genes['tf'].unique()\n",
    "with open(saving_dir+'all_lung_adhesome_tf_genes.pkl', 'wb') as f:\n",
    "    pickle.dump(all_lung_adhesome_tf_genes, f)"
   ]
  },
  {
   "cell_type": "code",
   "execution_count": 27,
   "metadata": {},
   "outputs": [],
   "source": [
    "# Active TF genes targeting active adhesome\n",
    "active_lung_adhesome_tf_genes = tf_target_df[(tf_target_df['target'].isin(active_adhesome_genes)) &\n",
    "                                             (tf_target_df['geneSymbol'].isin(active_genes))]['geneSymbol'].unique()\n",
    "with open(saving_dir+'active_lung_adhesome_tf_genes.pkl', 'wb') as f:\n",
    "    pickle.dump(active_lung_adhesome_tf_genes, f)\n",
    "\n",
    "active_lung_adhesome_tf_loci = tf_target_df[(tf_target_df['target'].isin(active_adhesome_genes)) &\n",
    "                                            (tf_target_df['geneSymbol'].isin(active_genes))]['locus_id'].unique()\n",
    "with open(saving_dir+'active_lung_adhesome_tf_loci.pkl', 'wb') as f:\n",
    "    pickle.dump(active_lung_adhesome_tf_loci, f)"
   ]
  },
  {
   "cell_type": "code",
   "execution_count": 28,
   "metadata": {},
   "outputs": [
    {
     "data": {
      "text/plain": [
       "{'CHD1', 'SNAPC1', 'SNAPC4', 'SNAPC5', 'SPI1'}"
      ]
     },
     "execution_count": 28,
     "metadata": {},
     "output_type": "execute_result"
    }
   ],
   "source": [
    "# Lung fibroblast TFs that are not active or do not target active adhesome genes\n",
    "set(np.sort(tf_target_df['geneSymbol'].unique()))-set(np.sort(active_lung_adhesome_tf_genes))"
   ]
  },
  {
   "cell_type": "code",
   "execution_count": 29,
   "metadata": {},
   "outputs": [],
   "source": [
    "# Dictionary tf2target and target2tf\n",
    "active_adhesome_tf_target_df = tf_target_df[(tf_target_df['geneSymbol'].isin(active_lung_adhesome_tf_genes)) &\n",
    "                                            (tf_target_df['target'].isin(active_adhesome_genes))]\n",
    "\n",
    "adhesome_active_lung_tf2target = {tf: active_adhesome_tf_target_df[active_adhesome_tf_target_df['geneSymbol']==tf]['target'].unique() \n",
    "                                  for tf in active_lung_adhesome_tf_genes}\n",
    "with open(saving_dir+'adhesome_active_lung_tf2target.pkl', 'wb') as f:\n",
    "    pickle.dump(adhesome_active_lung_tf2target, f)\n",
    "\n",
    "adhesome_active_lung_target2tf = {target: active_adhesome_tf_target_df[active_adhesome_tf_target_df['target']==target]['geneSymbol'].unique() \n",
    "                                  for target in active_adhesome_tf_target_df['target'].unique()}\n",
    "with open(saving_dir+'adhesome_active_lung_target2tf.pkl', 'wb') as f:\n",
    "    pickle.dump(adhesome_active_lung_target2tf, f)"
   ]
  },
  {
   "cell_type": "markdown",
   "metadata": {},
   "source": [
    "### TCR genes/loci"
   ]
  },
  {
   "cell_type": "code",
   "execution_count": 30,
   "metadata": {},
   "outputs": [
    {
     "name": "stdout",
     "output_type": "stream",
     "text": [
      "TCR genes missing from location data = ['IKBKG', 'WAS']\n",
      "Total number of TCR genes = 90\n",
      "Total number of TCR loci = 113\n",
      "Total number of active TCR genes = 63\n",
      "Total number of active TCR loci = 103\n"
     ]
    }
   ],
   "source": [
    "# Select active/inactive TCR genes and loci\n",
    "tcr_chr_loci, missing_tcr = lu.annotate_genes(tcr_df[['geneSymbol']], df_loc, resol)\n",
    "tcr_chr_loci['gene_active'] = tcr_chr_loci['gene'].isin(active_genes)\n",
    "tcr_chr_loci['locus_active'] = tcr_chr_loci['locus_id'].isin(all_active_loci)\n",
    "tcr_genes = tcr_chr_loci['gene'].unique()\n",
    "tcr_loci = tcr_chr_loci['locus_id'].unique()\n",
    "active_tcr_genes = tcr_chr_loci[tcr_chr_loci['gene_active']==True]['gene'].unique()\n",
    "active_tcr_loci = tcr_chr_loci[tcr_chr_loci['locus_active']==True]['locus_id'].unique()\n",
    "inactive_tcr_genes = tcr_chr_loci[tcr_chr_loci['gene_active']==False]['gene'].unique()\n",
    "inactive_tcr_loci = tcr_chr_loci[tcr_chr_loci['locus_active']==False]['locus_id'].unique()\n",
    "print('TCR genes missing from location data = '+str(missing_tcr))\n",
    "print('Total number of TCR genes = '+str(len(tcr_genes)))\n",
    "print('Total number of TCR loci = '+str(len(tcr_loci)))\n",
    "print('Total number of active TCR genes = '+str(len(active_tcr_genes)))\n",
    "print('Total number of active TCR loci = '+str(len(active_tcr_loci)))"
   ]
  },
  {
   "cell_type": "code",
   "execution_count": 31,
   "metadata": {},
   "outputs": [],
   "source": [
    "# Save to pickle\n",
    "with open(saving_dir+'tcr_chr_loci.pkl', 'wb') as f:\n",
    "    pickle.dump(tcr_chr_loci, f)\n",
    "with open(saving_dir+'tcr_genes.pkl', 'wb') as f:\n",
    "    pickle.dump(tcr_genes, f)\n",
    "with open(saving_dir+'tcr_loci.pkl', 'wb') as f:\n",
    "    pickle.dump(tcr_loci, f)\n",
    "with open(saving_dir+'active_tcr_genes.pkl', 'wb') as f:\n",
    "    pickle.dump(active_tcr_genes, f)\n",
    "with open(saving_dir+'inactive_tcr_genes.pkl', 'wb') as f:\n",
    "    pickle.dump(inactive_tcr_genes, f)\n",
    "with open(saving_dir+'active_tcr_loci.pkl', 'wb') as f:\n",
    "    pickle.dump(active_tcr_loci, f)\n",
    "with open(saving_dir+'inactive_tcr_loci.pkl', 'wb') as f:\n",
    "    pickle.dump(inactive_tcr_loci, f)"
   ]
  },
  {
   "cell_type": "markdown",
   "metadata": {},
   "source": [
    "# Jointly consider active adhesome genes, and active adhesome lung TFs"
   ]
  },
  {
   "cell_type": "code",
   "execution_count": 32,
   "metadata": {},
   "outputs": [],
   "source": [
    "# Gene and locus dataframe for acive adhesome genes and adhesome TFs\n",
    "adh_and_tf_chr_loci = pd.concat([adhesome_chr_loci[adhesome_chr_loci['active']],\n",
    "                                 lungTF_chr_loci[lungTF_chr_loci['gene'].isin(active_lung_adhesome_tf_genes)]], \n",
    "                                 axis=0)\n",
    "with open(saving_dir+'adh_and_tf_chr_loci.pkl', 'wb') as f:\n",
    "    pickle.dump(adh_and_tf_chr_loci, f)"
   ]
  },
  {
   "cell_type": "code",
   "execution_count": 33,
   "metadata": {},
   "outputs": [],
   "source": [
    "# gene2locus and locus2gene dictionaries for adhesome+adhesome TFs\n",
    "adh_and_tf_gene2locus = {gene: adh_and_tf_chr_loci[adh_and_tf_chr_loci['gene']==gene]['locus_id'].values.astype(str)  \n",
    "              for gene in np.unique(adh_and_tf_chr_loci['gene'])}\n",
    "with open(saving_dir+'adh_and_tf_gene2locus.pkl', 'wb') as f:\n",
    "    pickle.dump(adh_and_tf_gene2locus, f)\n",
    "\n",
    "adh_and_tf_locus2gene = {locus: adh_and_tf_chr_loci[adh_and_tf_chr_loci['locus_id']==locus]['gene'].values.astype(str) \n",
    "              for locus in np.unique(adh_and_tf_chr_loci['locus_id'])}\n",
    "with open(saving_dir+'adh_and_tf_locus2gene.pkl', 'wb') as f:\n",
    "    pickle.dump(adh_and_tf_locus2gene, f)"
   ]
  },
  {
   "cell_type": "markdown",
   "metadata": {},
   "source": [
    "# Jointly consider active adhesome genes, lung TFs and mechanoreg proteins"
   ]
  },
  {
   "cell_type": "code",
   "execution_count": 34,
   "metadata": {},
   "outputs": [],
   "source": [
    "# Active adhesome genes\n",
    "act_adhesome_chr_loci = adhesome_chr_loci[adhesome_chr_loci['active']==True]\n",
    "with open(saving_dir+'act_adhesome_chr_loci.pkl', 'wb') as f:\n",
    "    pickle.dump(act_adhesome_chr_loci, f)\n",
    "\n",
    "# Active lung TFs\n",
    "act_lung_TF_chr_loci = lungTF_chr_loci1[lungTF_chr_loci1['tf'].isin(active_lung_tf_genes)]\n",
    "act_lung_TF_chr_loci.columns = ['chrom', 'chrom_int', 'loci', 'gene', 'locus_id', 'active']\n",
    "with open(saving_dir+'act_lung_TF_chr_loci.pkl', 'wb') as f:\n",
    "    pickle.dump(act_lung_TF_chr_loci, f)\n",
    "\n",
    "# Active mechanoreg proteins\n",
    "act_proteins_chr_loci = proteins_chr_loci[proteins_chr_loci['active']==True]\n",
    "with open(saving_dir+'act_proteins_chr_loci.pkl', 'wb') as f:\n",
    "    pickle.dump(act_proteins_chr_loci, f)"
   ]
  },
  {
   "cell_type": "code",
   "execution_count": 35,
   "metadata": {},
   "outputs": [],
   "source": [
    "# Joint annotated dataframe\n",
    "joint_chr_loci = pd.concat([act_adhesome_chr_loci,act_lung_TF_chr_loci,act_proteins_chr_loci], axis=0)\n",
    "with open(saving_dir+'joint_chr_loci.pkl', 'wb') as f:\n",
    "    pickle.dump(joint_chr_loci, f)\n",
    "\n",
    "joint_loci = np.unique(joint_chr_loci['locus_id'])\n",
    "with open(saving_dir+'joint_loci.pkl', 'wb') as f:\n",
    "    pickle.dump(joint_loci, f)\n",
    "\n",
    "joint_genes = np.unique(joint_chr_loci['gene'])\n",
    "with open(saving_dir+'joint_genes.pkl', 'wb') as f:\n",
    "    pickle.dump(joint_genes, f)"
   ]
  },
  {
   "cell_type": "code",
   "execution_count": 36,
   "metadata": {},
   "outputs": [],
   "source": [
    "# gene2locus and locus2gene dictionaries\n",
    "selected_gene2locus = {gene: joint_chr_loci[joint_chr_loci['gene']==gene]['locus_id'].values.astype(str)  \n",
    "                       for gene in np.unique(joint_chr_loci['gene'])}\n",
    "with open(saving_dir+'selected_gene2locus.pkl', 'wb') as f:\n",
    "    pickle.dump(selected_gene2locus, f)\n",
    "\n",
    "selected_locus2gene = {locus: joint_chr_loci[joint_chr_loci['locus_id']==locus]['gene'].values.astype(str) \n",
    "                       for locus in np.unique(joint_chr_loci['locus_id'])}\n",
    "with open(saving_dir+'selected_locus2gene.pkl', 'wb') as f:\n",
    "    pickle.dump(selected_locus2gene, f)"
   ]
  },
  {
   "cell_type": "code",
   "execution_count": 41,
   "metadata": {},
   "outputs": [
    {
     "name": "stderr",
     "output_type": "stream",
     "text": [
      "100%|██████████| 231/231 [00:18<00:00, 12.79it/s]\n"
     ]
    }
   ],
   "source": [
    "# Get HiC contact map\n",
    "contacts_df = pd.DataFrame(0, index=joint_loci, columns=joint_loci)\n",
    "# Loop over all chromosome pairs and fill gene_contacts_df\n",
    "chr_list = np.arange(1,23,1)\n",
    "chr_pairs = list(itertools.combinations(chr_list, 2))\n",
    "for pair in tqdm(chr_pairs):\n",
    "    time.sleep(.01)\n",
    "    chr1, chr2 = pair\n",
    "\n",
    "    # Select loci on chr1 and chr2\n",
    "    loci_chr1 = [locus for locus in joint_loci if ('chr_'+str(chr1)+'_') in locus]\n",
    "    loci_chr2 = [locus for locus in joint_loci if ('chr_'+str(chr2)+'_') in locus]\n",
    "\n",
    "    # Load HiC data for this chromosome pair\n",
    "    processed_hic_filename = 'hic_'+'chr'+str(chr1)+'_'+'chr'+str(chr2)+'_norm1_filter3'+'.pkl'\n",
    "    with open(dir_processed_hic+processed_hic_filename, 'rb') as f:\n",
    "        hic_chpair_df = pickle.load(f)\n",
    "\n",
    "    # Fill in corresponding submatrix of gene_contacts_df by sum of Hi-C contacts across all gene loci\n",
    "    locus_id_pairs = itertools.product(loci_chr1,loci_chr2)\n",
    "    for locus1_id, locus2_id in locus_id_pairs:\n",
    "        locus1 = int(locus1_id.split('_')[3])\n",
    "        locus2 = int(locus2_id.split('_')[3])\n",
    "        contacts_df.loc[locus1_id, locus2_id] = hic_chpair_df.loc[locus1,locus2]\n",
    "# Symmetrize data frame\n",
    "contacts_df = contacts_df+contacts_df.T\n",
    "# Save to pickle\n",
    "with open(saving_dir+f'contacts_df_{norm}.pkl', 'wb') as f:\n",
    "    pickle.dump(contacts_df, f)"
   ]
  },
  {
   "cell_type": "code",
   "execution_count": null,
   "metadata": {},
   "outputs": [],
   "source": []
  }
 ],
 "metadata": {
  "kernelspec": {
   "display_name": "Python 3",
   "language": "python",
   "name": "python3"
  },
  "language_info": {
   "codemirror_mode": {
    "name": "ipython",
    "version": 3
   },
   "file_extension": ".py",
   "mimetype": "text/x-python",
   "name": "python",
   "nbconvert_exporter": "python",
   "pygments_lexer": "ipython3",
   "version": "3.7.4"
  }
 },
 "nbformat": 4,
 "nbformat_minor": 2
}
