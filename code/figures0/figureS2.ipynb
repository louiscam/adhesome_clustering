{
 "cells": [
  {
   "cell_type": "markdown",
   "metadata": {},
   "source": [
    "# Figure S2\n",
    "- Information on Transcription factor genes\n",
    "- TF-target network"
   ]
  },
  {
   "cell_type": "code",
   "execution_count": 5,
   "metadata": {},
   "outputs": [],
   "source": [
    "# Import standard libraries\n",
    "from importlib import reload\n",
    "import numpy as np\n",
    "import matplotlib as mpl\n",
    "import matplotlib.pyplot as plt\n",
    "import seaborn as sns\n",
    "from scipy import sparse\n",
    "import scipy.stats as ss\n",
    "import csv\n",
    "import pandas as pd\n",
    "import networkx as nx\n",
    "import community\n",
    "import pickle\n",
    "from collections import defaultdict\n",
    "import operator\n",
    "from scipy.sparse import csr_matrix\n",
    "import itertools\n",
    "import os.path\n",
    "import math\n",
    "import pybedtools\n",
    "import time\n",
    "from tqdm import tqdm\n",
    "import random\n",
    "import OmicsIntegrator as oi\n",
    "import gseapy\n",
    "from gseapy.plot import barplot, dotplot"
   ]
  },
  {
   "cell_type": "markdown",
   "metadata": {},
   "source": [
    "### Data directories"
   ]
  },
  {
   "cell_type": "code",
   "execution_count": 6,
   "metadata": {},
   "outputs": [],
   "source": [
    "# Directory of genome data\n",
    "dir_genome = '/home/louiscam/projects/gpcr/data/genome_data/'\n",
    "# Saving directory\n",
    "saving_dir = '/home/louiscam/projects/gpcr/save/figures/'"
   ]
  },
  {
   "cell_type": "markdown",
   "metadata": {},
   "source": [
    "### Load and process TF data (Q: do we still need this data source or is TRRUST enough?)"
   ]
  },
  {
   "cell_type": "code",
   "execution_count": 7,
   "metadata": {},
   "outputs": [],
   "source": [
    "# Load data\n",
    "tf_filename = dir_genome+'human_tf.database'\n",
    "tf_df0 = pd.read_csv(tf_filename, sep='\\t', header=0, index_col=0)"
   ]
  },
  {
   "cell_type": "code",
   "execution_count": 8,
   "metadata": {},
   "outputs": [
    {
     "name": "stdout",
     "output_type": "stream",
     "text": [
      "Total number of TFs = 1639\n"
     ]
    },
    {
     "data": {
      "text/html": [
       "<div>\n",
       "<style scoped>\n",
       "    .dataframe tbody tr th:only-of-type {\n",
       "        vertical-align: middle;\n",
       "    }\n",
       "\n",
       "    .dataframe tbody tr th {\n",
       "        vertical-align: top;\n",
       "    }\n",
       "\n",
       "    .dataframe thead th {\n",
       "        text-align: right;\n",
       "    }\n",
       "</style>\n",
       "<table border=\"1\" class=\"dataframe\">\n",
       "  <thead>\n",
       "    <tr style=\"text-align: right;\">\n",
       "      <th></th>\n",
       "      <th>Ensembl ID</th>\n",
       "      <th>HGNC symbol</th>\n",
       "      <th>DBD</th>\n",
       "      <th>Is TF?</th>\n",
       "      <th>TF assessment</th>\n",
       "      <th>Binding mode</th>\n",
       "      <th>Motif status</th>\n",
       "      <th>Final Notes</th>\n",
       "      <th>Final Comments</th>\n",
       "      <th>Interpro ID(s)</th>\n",
       "      <th>...</th>\n",
       "      <th>CisBP considers it a TF?</th>\n",
       "      <th>TFCat classification</th>\n",
       "      <th>Is a GO TF?</th>\n",
       "      <th>Initial assessment</th>\n",
       "      <th>Curator 1</th>\n",
       "      <th>Curator 2</th>\n",
       "      <th>TFclass considers it a TF?</th>\n",
       "      <th>Go Evidence</th>\n",
       "      <th>Pfam Domains (By ENSP ID)</th>\n",
       "      <th>Is C2H2 ZF(KRAB)?</th>\n",
       "    </tr>\n",
       "  </thead>\n",
       "  <tbody>\n",
       "    <tr>\n",
       "      <th>0</th>\n",
       "      <td>ENSG00000137203</td>\n",
       "      <td>TFAP2A</td>\n",
       "      <td>AP-2</td>\n",
       "      <td>Yes</td>\n",
       "      <td>Known motif</td>\n",
       "      <td>Monomer or homomultimer</td>\n",
       "      <td>High-throughput in vitro</td>\n",
       "      <td>None</td>\n",
       "      <td>None</td>\n",
       "      <td>IPR008121;IPR013854</td>\n",
       "      <td>...</td>\n",
       "      <td>Yes</td>\n",
       "      <td>TF Gene_DNA-Binding: sequence-specific_DNA Bin...</td>\n",
       "      <td>Yes</td>\n",
       "      <td>1a1, Direct HQ evidence</td>\n",
       "      <td>Sam Lambert</td>\n",
       "      <td>Yimeng Yin</td>\n",
       "      <td>Yes</td>\n",
       "      <td>$#ENSG00000137203#GO:0000981#sequence-specific...</td>\n",
       "      <td>$#ENSP00000368928#ENSG00000137203#ENST00000379...</td>\n",
       "      <td>False</td>\n",
       "    </tr>\n",
       "    <tr>\n",
       "      <th>1</th>\n",
       "      <td>ENSG00000008196</td>\n",
       "      <td>TFAP2B</td>\n",
       "      <td>AP-2</td>\n",
       "      <td>Yes</td>\n",
       "      <td>Known motif</td>\n",
       "      <td>Monomer or homomultimer</td>\n",
       "      <td>High-throughput in vitro</td>\n",
       "      <td>None</td>\n",
       "      <td>None</td>\n",
       "      <td>IPR008122;IPR013854</td>\n",
       "      <td>...</td>\n",
       "      <td>Yes</td>\n",
       "      <td>TF Gene_DNA-Binding: sequence-specific_DNA Bin...</td>\n",
       "      <td>Yes</td>\n",
       "      <td>1a1, Direct HQ evidence</td>\n",
       "      <td>Matt Weirauch</td>\n",
       "      <td>Yimeng Yin</td>\n",
       "      <td>Yes</td>\n",
       "      <td>$#ENSG00000008196#GO:0000981#sequence-specific...</td>\n",
       "      <td>$#ENSP00000377265#ENSG00000008196#ENST00000393...</td>\n",
       "      <td>False</td>\n",
       "    </tr>\n",
       "    <tr>\n",
       "      <th>2</th>\n",
       "      <td>ENSG00000087510</td>\n",
       "      <td>TFAP2C</td>\n",
       "      <td>AP-2</td>\n",
       "      <td>Yes</td>\n",
       "      <td>Known motif</td>\n",
       "      <td>Monomer or homomultimer</td>\n",
       "      <td>High-throughput in vitro</td>\n",
       "      <td>None</td>\n",
       "      <td>None</td>\n",
       "      <td>IPR008123;IPR013854</td>\n",
       "      <td>...</td>\n",
       "      <td>Yes</td>\n",
       "      <td>No</td>\n",
       "      <td>Yes</td>\n",
       "      <td>1a1, Direct HQ evidence</td>\n",
       "      <td>Matt Weirauch</td>\n",
       "      <td>Yimeng Yin</td>\n",
       "      <td>Yes</td>\n",
       "      <td>$#ENSG00000087510#GO:0001077#RNA polymerase II...</td>\n",
       "      <td>$#ENSP00000201031#ENSG00000087510#ENST00000201...</td>\n",
       "      <td>False</td>\n",
       "    </tr>\n",
       "    <tr>\n",
       "      <th>3</th>\n",
       "      <td>ENSG00000008197</td>\n",
       "      <td>TFAP2D</td>\n",
       "      <td>AP-2</td>\n",
       "      <td>Yes</td>\n",
       "      <td>Known motif</td>\n",
       "      <td>Monomer or homomultimer</td>\n",
       "      <td>In vivo/Misc source</td>\n",
       "      <td>Only known motifs are from Transfac or HocoMoc...</td>\n",
       "      <td>Binds the same GCCTGAGGC sequence as the other...</td>\n",
       "      <td>IPR013854;</td>\n",
       "      <td>...</td>\n",
       "      <td>Yes</td>\n",
       "      <td>No</td>\n",
       "      <td>Yes</td>\n",
       "      <td>2a1, Lower confidence direct evidence</td>\n",
       "      <td>Arttu Jolma</td>\n",
       "      <td>Sam Lambert</td>\n",
       "      <td>Yes</td>\n",
       "      <td>$#ENSG00000008197#GO:0000981#sequence-specific...</td>\n",
       "      <td>$#ENSP00000008391#ENSG00000008197#ENST00000008...</td>\n",
       "      <td>False</td>\n",
       "    </tr>\n",
       "    <tr>\n",
       "      <th>4</th>\n",
       "      <td>ENSG00000116819</td>\n",
       "      <td>TFAP2E</td>\n",
       "      <td>AP-2</td>\n",
       "      <td>Yes</td>\n",
       "      <td>Known motif</td>\n",
       "      <td>Monomer or homomultimer</td>\n",
       "      <td>High-throughput in vitro</td>\n",
       "      <td>None</td>\n",
       "      <td>None</td>\n",
       "      <td>IPR013854;</td>\n",
       "      <td>...</td>\n",
       "      <td>Yes</td>\n",
       "      <td>TF Gene_DNA-Binding: sequence-specific_DNA Bin...</td>\n",
       "      <td>Yes</td>\n",
       "      <td>1a1, Direct HQ evidence</td>\n",
       "      <td>Sam Lambert</td>\n",
       "      <td>Laura Campitelli</td>\n",
       "      <td>Yes</td>\n",
       "      <td>$#ENSG00000116819#GO:0000981#sequence-specific...</td>\n",
       "      <td>$#ENSP00000362332#ENSG00000116819#ENST00000373...</td>\n",
       "      <td>False</td>\n",
       "    </tr>\n",
       "  </tbody>\n",
       "</table>\n",
       "<p>5 rows × 28 columns</p>\n",
       "</div>"
      ],
      "text/plain": [
       "        Ensembl ID HGNC symbol   DBD Is TF? TF assessment  \\\n",
       "0  ENSG00000137203      TFAP2A  AP-2    Yes   Known motif   \n",
       "1  ENSG00000008196      TFAP2B  AP-2    Yes   Known motif   \n",
       "2  ENSG00000087510      TFAP2C  AP-2    Yes   Known motif   \n",
       "3  ENSG00000008197      TFAP2D  AP-2    Yes   Known motif   \n",
       "4  ENSG00000116819      TFAP2E  AP-2    Yes   Known motif   \n",
       "\n",
       "              Binding mode              Motif status  \\\n",
       "0  Monomer or homomultimer  High-throughput in vitro   \n",
       "1  Monomer or homomultimer  High-throughput in vitro   \n",
       "2  Monomer or homomultimer  High-throughput in vitro   \n",
       "3  Monomer or homomultimer       In vivo/Misc source   \n",
       "4  Monomer or homomultimer  High-throughput in vitro   \n",
       "\n",
       "                                         Final Notes  \\\n",
       "0                                               None   \n",
       "1                                               None   \n",
       "2                                               None   \n",
       "3  Only known motifs are from Transfac or HocoMoc...   \n",
       "4                                               None   \n",
       "\n",
       "                                      Final Comments       Interpro ID(s)  \\\n",
       "0                                               None  IPR008121;IPR013854   \n",
       "1                                               None  IPR008122;IPR013854   \n",
       "2                                               None  IPR008123;IPR013854   \n",
       "3  Binds the same GCCTGAGGC sequence as the other...           IPR013854;   \n",
       "4                                               None           IPR013854;   \n",
       "\n",
       "         ...        CisBP considers it a TF?  \\\n",
       "0        ...                             Yes   \n",
       "1        ...                             Yes   \n",
       "2        ...                             Yes   \n",
       "3        ...                             Yes   \n",
       "4        ...                             Yes   \n",
       "\n",
       "                                TFCat classification Is a GO TF?  \\\n",
       "0  TF Gene_DNA-Binding: sequence-specific_DNA Bin...         Yes   \n",
       "1  TF Gene_DNA-Binding: sequence-specific_DNA Bin...         Yes   \n",
       "2                                                 No         Yes   \n",
       "3                                                 No         Yes   \n",
       "4  TF Gene_DNA-Binding: sequence-specific_DNA Bin...         Yes   \n",
       "\n",
       "                     Initial assessment       Curator 1         Curator 2  \\\n",
       "0                1a1, Direct HQ evidence    Sam Lambert        Yimeng Yin   \n",
       "1                1a1, Direct HQ evidence  Matt Weirauch        Yimeng Yin   \n",
       "2                1a1, Direct HQ evidence  Matt Weirauch        Yimeng Yin   \n",
       "3  2a1, Lower confidence direct evidence    Arttu Jolma       Sam Lambert   \n",
       "4                1a1, Direct HQ evidence    Sam Lambert  Laura Campitelli   \n",
       "\n",
       "  TFclass considers it a TF?   \\\n",
       "0                         Yes   \n",
       "1                         Yes   \n",
       "2                         Yes   \n",
       "3                         Yes   \n",
       "4                         Yes   \n",
       "\n",
       "                                         Go Evidence  \\\n",
       "0  $#ENSG00000137203#GO:0000981#sequence-specific...   \n",
       "1  $#ENSG00000008196#GO:0000981#sequence-specific...   \n",
       "2  $#ENSG00000087510#GO:0001077#RNA polymerase II...   \n",
       "3  $#ENSG00000008197#GO:0000981#sequence-specific...   \n",
       "4  $#ENSG00000116819#GO:0000981#sequence-specific...   \n",
       "\n",
       "                           Pfam Domains (By ENSP ID) Is C2H2 ZF(KRAB)?  \n",
       "0  $#ENSP00000368928#ENSG00000137203#ENST00000379...             False  \n",
       "1  $#ENSP00000377265#ENSG00000008196#ENST00000393...             False  \n",
       "2  $#ENSP00000201031#ENSG00000087510#ENST00000201...             False  \n",
       "3  $#ENSP00000008391#ENSG00000008197#ENST00000008...             False  \n",
       "4  $#ENSP00000362332#ENSG00000116819#ENST00000373...             False  \n",
       "\n",
       "[5 rows x 28 columns]"
      ]
     },
     "execution_count": 8,
     "metadata": {},
     "output_type": "execute_result"
    }
   ],
   "source": [
    "# Only keep TFs\n",
    "tf_df = tf_df0[tf_df0['Is TF?']=='Yes']\n",
    "print('Total number of TFs = '+str(len(tf_df)))\n",
    "tf_df.head()"
   ]
  },
  {
   "cell_type": "markdown",
   "metadata": {},
   "source": [
    "### Load TRRUST TF-target network"
   ]
  },
  {
   "cell_type": "code",
   "execution_count": 9,
   "metadata": {},
   "outputs": [
    {
     "name": "stdout",
     "output_type": "stream",
     "text": [
      "Total number of links in raw data = 9396\n",
      "Total number of unique TFs = 795\n",
      "Total number of unique targets = 2492\n"
     ]
    }
   ],
   "source": [
    "# Load TRRUST\n",
    "trrust_filename = dir_genome+'trrust_rawdata.human.tsv'\n",
    "trrust_df = pd.read_csv(trrust_filename, sep='\\t', header=None)\n",
    "trrust_df.columns = ['TF','Target','Regulation','PMID']\n",
    "print('Total number of links in raw data = '+str(len(trrust_df)))\n",
    "print('Total number of unique TFs = '+str(len(np.unique(trrust_df['TF'].values))))\n",
    "print('Total number of unique targets = '+str(len(np.unique(trrust_df['Target'].values))))"
   ]
  },
  {
   "cell_type": "code",
   "execution_count": 10,
   "metadata": {},
   "outputs": [
    {
     "name": "stdout",
     "output_type": "stream",
     "text": [
      "Total number of links in raw data = 9384\n",
      "Total number of unique TFs = 795\n",
      "Total number of unique targets = 2492\n"
     ]
    }
   ],
   "source": [
    "# Drop duplicates\n",
    "trrust_df = trrust_df.drop_duplicates(subset=['TF','Target','Regulation'])\n",
    "print('Total number of links in raw data = '+str(len(trrust_df)))\n",
    "print('Total number of unique TFs = '+str(len(np.unique(trrust_df['TF'].values))))\n",
    "print('Total number of unique targets = '+str(len(np.unique(trrust_df['Target'].values))))"
   ]
  },
  {
   "cell_type": "code",
   "execution_count": 11,
   "metadata": {},
   "outputs": [
    {
     "name": "stdout",
     "output_type": "stream",
     "text": [
      "Total number of links in raw data = 8427\n",
      "Total number of unique TFs = 795\n",
      "Total number of unique targets = 2492\n"
     ]
    }
   ],
   "source": [
    "# If contradictory regulation mode, label regulation mode as “Both”, and drop duplicates\n",
    "trrust_df = trrust_df.sort_values(by=['TF','Regulation'])\n",
    "trrust_df = trrust_df.groupby(['TF','Target'])\n",
    "trrust_df = trrust_df.agg({'Regulation': lambda x: '_'.join(x), 'PMID': lambda x: ';'.join(x)})\n",
    "trrust_df = trrust_df.reset_index()\n",
    "print('Total number of links in raw data = '+str(len(trrust_df)))\n",
    "print('Total number of unique TFs = '+str(len(np.unique(trrust_df['TF'].values))))\n",
    "print('Total number of unique targets = '+str(len(np.unique(trrust_df['Target'].values))))"
   ]
  },
  {
   "cell_type": "code",
   "execution_count": 15,
   "metadata": {},
   "outputs": [
    {
     "data": {
      "text/html": [
       "<div>\n",
       "<style scoped>\n",
       "    .dataframe tbody tr th:only-of-type {\n",
       "        vertical-align: middle;\n",
       "    }\n",
       "\n",
       "    .dataframe tbody tr th {\n",
       "        vertical-align: top;\n",
       "    }\n",
       "\n",
       "    .dataframe thead th {\n",
       "        text-align: right;\n",
       "    }\n",
       "</style>\n",
       "<table border=\"1\" class=\"dataframe\">\n",
       "  <thead>\n",
       "    <tr style=\"text-align: right;\">\n",
       "      <th></th>\n",
       "      <th>TF</th>\n",
       "      <th>Target</th>\n",
       "      <th>Regulation</th>\n",
       "      <th>PMID</th>\n",
       "    </tr>\n",
       "  </thead>\n",
       "  <tbody>\n",
       "    <tr>\n",
       "      <th>0</th>\n",
       "      <td>AATF</td>\n",
       "      <td>BAX</td>\n",
       "      <td>Repression</td>\n",
       "      <td>22909821</td>\n",
       "    </tr>\n",
       "    <tr>\n",
       "      <th>1</th>\n",
       "      <td>AATF</td>\n",
       "      <td>CDKN1A</td>\n",
       "      <td>Unknown</td>\n",
       "      <td>17157788</td>\n",
       "    </tr>\n",
       "    <tr>\n",
       "      <th>2</th>\n",
       "      <td>AATF</td>\n",
       "      <td>KLK3</td>\n",
       "      <td>Unknown</td>\n",
       "      <td>23146908</td>\n",
       "    </tr>\n",
       "    <tr>\n",
       "      <th>3</th>\n",
       "      <td>AATF</td>\n",
       "      <td>MYC</td>\n",
       "      <td>Activation</td>\n",
       "      <td>20549547</td>\n",
       "    </tr>\n",
       "    <tr>\n",
       "      <th>4</th>\n",
       "      <td>AATF</td>\n",
       "      <td>TP53</td>\n",
       "      <td>Unknown</td>\n",
       "      <td>17157788</td>\n",
       "    </tr>\n",
       "  </tbody>\n",
       "</table>\n",
       "</div>"
      ],
      "text/plain": [
       "     TF  Target  Regulation      PMID\n",
       "0  AATF     BAX  Repression  22909821\n",
       "1  AATF  CDKN1A     Unknown  17157788\n",
       "2  AATF    KLK3     Unknown  23146908\n",
       "3  AATF     MYC  Activation  20549547\n",
       "4  AATF    TP53     Unknown  17157788"
      ]
     },
     "execution_count": 15,
     "metadata": {},
     "output_type": "execute_result"
    }
   ],
   "source": [
    "# Save processed dataframe to pickle\n",
    "pickle.dump(trrust_df, open(dir_genome+'trrust_df.pkl', 'wb'), protocol=pickle.HIGHEST_PROTOCOL)\n",
    "trrust_df.head()"
   ]
  },
  {
   "cell_type": "code",
   "execution_count": 14,
   "metadata": {},
   "outputs": [
    {
     "name": "stdout",
     "output_type": "stream",
     "text": [
      "(array(['Activation', 'Activation_Repression',\n",
      "       'Activation_Repression_Unknown', 'Activation_Unknown',\n",
      "       'Repression', 'Repression_Unknown', 'Unknown'], dtype=object), array([2433,   95,  112,  504, 1581,  134, 3568]))\n"
     ]
    },
    {
     "data": {
      "text/plain": [
       "<Figure size 432x288 with 0 Axes>"
      ]
     },
     "metadata": {},
     "output_type": "display_data"
    },
    {
     "data": {
      "image/png": "[encoded data removed]",
      "text/plain": [
       "<Figure size 432x288 with 1 Axes>"
      ]
     },
     "metadata": {
      "needs_background": "light"
     },
     "output_type": "display_data"
    }
   ],
   "source": [
    "# Types of regulations\n",
    "print(np.unique(trrust_df['Regulation'].values, return_counts=True))\n",
    "plt.figure()\n",
    "trrust_df.groupby('Regulation').count().reset_index().sort_values(by='PMID', ascending=False).plot.bar(x='Regulation', y='PMID', legend=None)\n",
    "plt.xlabel('type of regulation')\n",
    "plt.ylabel('number of TF-target links')\n",
    "plt.show()"
   ]
  },
  {
   "cell_type": "code",
   "execution_count": 18,
   "metadata": {},
   "outputs": [
    {
     "data": {
      "text/plain": [
       "PosixPath('/home/louiscam/projects/gpcr/save/figures/tf_target_net.html')"
      ]
     },
     "execution_count": 18,
     "metadata": {},
     "output_type": "execute_result"
    }
   ],
   "source": [
    "# Create TF-target network from edge list\n",
    "tf_target_net = nx.from_pandas_edgelist(trrust_df, 'TF', 'Target', ['Regulation','PMID'], create_using=nx.DiGraph)\n",
    "# Save network to html\n",
    "oi.output_networkx_graph_as_interactive_html(tf_target_net, filename=saving_dir+\"tf_target_net.html\")"
   ]
  },
  {
   "cell_type": "code",
   "execution_count": null,
   "metadata": {},
   "outputs": [],
   "source": []
  }
 ],
 "metadata": {
  "kernelspec": {
   "display_name": "Python 3",
   "language": "python",
   "name": "python3"
  },
  "language_info": {
   "codemirror_mode": {
    "name": "ipython",
    "version": 3
   },
   "file_extension": ".py",
   "mimetype": "text/x-python",
   "name": "python",
   "nbconvert_exporter": "python",
   "pygments_lexer": "ipython3",
   "version": "3.7.4"
  }
 },
 "nbformat": 4,
 "nbformat_minor": 2
}
