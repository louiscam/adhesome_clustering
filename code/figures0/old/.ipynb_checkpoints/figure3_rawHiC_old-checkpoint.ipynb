{
 "cells": [
  {
   "cell_type": "markdown",
   "metadata": {},
   "source": [
    "# Figure 3\n",
    "- Construct adhesome loci neighborhood\n",
    "- Identify genes in this neighborhood\n",
    "- Demonstrate reinforcement by looking at the targets of TFs in this neighborhood"
   ]
  },
  {
   "cell_type": "markdown",
   "metadata": {},
   "source": [
    "### Setup"
   ]
  },
  {
   "cell_type": "code",
   "execution_count": 1,
   "metadata": {},
   "outputs": [
    {
     "data": {
      "text/plain": [
       "<module 'utils' from '/home/louiscam/projects/gpcr/code/figures0/utils.py'>"
      ]
     },
     "execution_count": 1,
     "metadata": {},
     "output_type": "execute_result"
    }
   ],
   "source": [
    "# Import standard libraries\n",
    "from importlib import reload\n",
    "import numpy as np\n",
    "import matplotlib as mpl\n",
    "import matplotlib.pyplot as plt\n",
    "import seaborn as sns\n",
    "from scipy import sparse\n",
    "import scipy.stats as ss\n",
    "import statsmodels.stats.multitest\n",
    "import csv\n",
    "import pandas as pd\n",
    "import networkx as nx\n",
    "import community\n",
    "import pickle\n",
    "from collections import defaultdict\n",
    "import operator\n",
    "from scipy.sparse import csr_matrix\n",
    "import itertools\n",
    "import os.path\n",
    "import math\n",
    "import pybedtools\n",
    "import time\n",
    "from tqdm import tqdm\n",
    "import random\n",
    "import OmicsIntegrator as oi\n",
    "import gseapy\n",
    "from gseapy.plot import barplot, dotplot\n",
    "# Custom libraries\n",
    "import utils as lu\n",
    "# Reload modules in case of modifications\n",
    "reload(lu)"
   ]
  },
  {
   "cell_type": "code",
   "execution_count": 2,
   "metadata": {},
   "outputs": [],
   "source": [
    "# Directory of adhesome data\n",
    "dir_adhesome = '/home/louiscam/projects/gpcr/data/adhesome_data/'\n",
    "# Directory of genome data\n",
    "dir_genome = '/home/louiscam/projects/gpcr/data/genome_data/'\n",
    "# Directory of processed HiC\n",
    "dir_processed_hic = '/home/louiscam/projects/gpcr/save/processed_hic_data_dir/'\n",
    "# Directory for storing preliminary results\n",
    "prelim_results_dir = '/home/louiscam/projects/gpcr/save/prelim_results_dir/'\n",
    "# Directory of epigenomic data\n",
    "epigenome_dir = '/home/louiscam/projects/gpcr/data/epigenome_data/'\n",
    "processed_epigenome_data_dir = '/home/louiscam/projects/gpcr/save/processed_epigenome_data_dir/'\n",
    "# Saving directory\n",
    "saving_dir = '/home/louiscam/projects/gpcr/save/figures/'"
   ]
  },
  {
   "cell_type": "code",
   "execution_count": 3,
   "metadata": {},
   "outputs": [],
   "source": [
    "# Specify directories and relevant information\n",
    "cell_type = 'IMR90'\n",
    "resol_str = '250kb'\n",
    "resol = 250000\n",
    "quality = 'MAPQGE30'"
   ]
  },
  {
   "cell_type": "markdown",
   "metadata": {},
   "source": [
    "### Construct interX edge list"
   ]
  },
  {
   "cell_type": "code",
   "execution_count": 4,
   "metadata": {},
   "outputs": [],
   "source": [
    "# Load dictionary of active loci per chromosome\n",
    "active_loci_dict = pickle.load(open(saving_dir+'active_loci_dict.pkl', 'rb'))"
   ]
  },
  {
   "cell_type": "raw",
   "metadata": {},
   "source": [
    "# Create edge list containing edges between active loci\n",
    "chr_list = np.arange(1,22+1,1)\n",
    "chr_pairs = list(itertools.combinations(chr_list, 2))\n",
    "edge_list_inter = pd.DataFrame(columns=['locus1','locus2','hic_contact'])\n",
    "for pair in tqdm(chr_pairs):\n",
    "    time.sleep(.01)\n",
    "    chr1, chr2 = pair\n",
    "    subindex1 = ['chr_'+str(chr1)+'_'+'loc_'+str(loc) for loc in active_loci_dict[chr1]]\n",
    "    subindex2 = ['chr_'+str(chr2)+'_'+'loc_'+str(loc) for loc in active_loci_dict[chr2]]\n",
    "    # Load HiC data for this chromosome pair\n",
    "    processed_hic_filename = 'hic_'+'chr'+str(chr1)+'_'+'chr'+str(chr2)+'_raw_filter3'+'.pkl'\n",
    "    hic_chpair_df = pickle.load(open(dir_processed_hic+processed_hic_filename, 'rb'))\n",
    "    hic_chpair_active_df = hic_chpair_df.loc[active_loci_dict[chr1],active_loci_dict[chr2]]\n",
    "    hic_chpair_active_df.index = subindex1\n",
    "    hic_chpair_active_df.columns = subindex2\n",
    "    # Hi-C data in key-value format\n",
    "    new_index = pd.MultiIndex.from_tuples(itertools.product(subindex1,subindex2), names=[\"locus1\",\"locus2\"])\n",
    "    hic_chpair_df1 = hic_chpair_active_df.stack().reindex(new_index).reset_index(name='hic_contact')\n",
    "    hic_chpair_df1 = hic_chpair_df1[hic_chpair_df1['hic_contact']>0]\n",
    "    # Create network from edge list\n",
    "    edge_list_inter = pd.concat([edge_list_inter,hic_chpair_df1])"
   ]
  },
  {
   "cell_type": "raw",
   "metadata": {},
   "source": [
    "# Compute edge significance\n",
    "\n",
    "# Null probability of observing an interX interaction between any two loci\n",
    "alpha = 1/len(edge_list_inter)\n",
    "# Total number of interactions observed\n",
    "N = edge_list_inter['hic_contact'].sum()\n",
    "# Binomial p-value\n",
    "logpvals = [ss.binom.logsf(k=edge_list_inter.iloc[i]['hic_contact'],n=N,p=alpha, loc=0) for i in tqdm(range(len(edge_list_inter)))]\n",
    "edge_list_inter['logpvals'] = logpvals\n",
    "# Label significant edges (using Bonferroni correction and BH correction)\n",
    "edge_list_inter['significant_bonf'] = edge_list_inter['logpvals']<np.log(0.05/len(edge_list_inter))\n",
    "bh = statsmodels.stats.multitest.fdrcorrection(np.exp(edge_list_inter['logpvals']), alpha=0.05, method='indep', is_sorted=False)\n",
    "edge_list_inter['corrected_pval'] = bh[1]\n",
    "edge_list_inter['significant_bh'] = bh[0]\n",
    "# Save to pickle\n",
    "pickle.dump(edge_list_inter, open(saving_dir+'edge_list_raw_inter.pkl', 'wb'), protocol=pickle.HIGHEST_PROTOCOL)"
   ]
  },
  {
   "cell_type": "code",
   "execution_count": 5,
   "metadata": {
    "scrolled": true
   },
   "outputs": [
    {
     "name": "stdout",
     "output_type": "stream",
     "text": [
      "Total number of interX edges = 14812458\n",
      "Total number of significant interX edges (Bonferroni) = 14447 (0.1%)\n",
      "Total number of significant interX edges (BH) = 274404 (1.9%)\n"
     ]
    },
    {
     "data": {
      "image/png": "[encoded data removed]",
      "text/plain": [
       "<Figure size 432x288 with 1 Axes>"
      ]
     },
     "metadata": {
      "needs_background": "light"
     },
     "output_type": "display_data"
    }
   ],
   "source": [
    "# Plot histogram of edge weights (Hi-C contact values) between active loci\n",
    "edge_list_raw_inter = pickle.load(open(saving_dir+'edge_list_raw_inter.pkl', 'rb'))\n",
    "bonf_significant_edge_list_raw_inter = edge_list_raw_inter[edge_list_raw_inter['significant_bonf']==True]\n",
    "bh_significant_edge_list_raw_inter = edge_list_raw_inter[edge_list_raw_inter['significant_bh']==True]\n",
    "print('Total number of interX edges = '+str(len(edge_list_raw_inter)))\n",
    "print('Total number of significant interX edges (Bonferroni) = '+str(len(bonf_significant_edge_list_raw_inter))+' ('+str(100*np.round(len(bonf_significant_edge_list_raw_inter)/len(edge_list_raw_inter),3))+'%)')\n",
    "print('Total number of significant interX edges (BH) = '+str(len(bh_significant_edge_list_raw_inter))+' ('+str(100*np.round(len(bh_significant_edge_list_raw_inter)/len(edge_list_raw_inter),3))+'%)')\n",
    "plt.figure()\n",
    "plt.hist(edge_list_raw_inter['hic_contact'], bins=np.arange(0,150,1),\n",
    "        color='blue', alpha=0.5, label='interX edges')\n",
    "plt.hist(bonf_significant_edge_list_raw_inter['hic_contact'], bins=np.arange(0,150,1),\n",
    "        color='green', alpha=0.5, label='significant interX edges')\n",
    "plt.xlabel('hic contact (edge weight)')\n",
    "plt.ylabel('interX edge count')\n",
    "plt.yscale('log')\n",
    "plt.legend()\n",
    "plt.title('Histogram of interX edge weights')\n",
    "plt.show()"
   ]
  },
  {
   "cell_type": "markdown",
   "metadata": {},
   "source": [
    "### Construct intraX edge list"
   ]
  },
  {
   "cell_type": "raw",
   "metadata": {},
   "source": [
    "# Create edge list containing intraX edges between active loci\n",
    "chr_list = np.arange(1,22+1,1)\n",
    "edge_list_intra = pd.DataFrame(columns=['locus1','locus2','hic_contact','gen_dist','chr'])\n",
    "for chrom in tqdm(chr_list):\n",
    "    time.sleep(.01)\n",
    "    subindex = ['chr_'+str(chrom)+'_'+'loc_'+str(loc) for loc in active_loci_dict[chrom]]\n",
    "    # Load HiC data for this chromosome pair\n",
    "    processed_hic_filename = 'hic_'+'chr'+str(chrom)+'_'+'chr'+str(chrom)+'_raw_filter3'+'.pkl'\n",
    "    hic_chpair_df = pickle.load(open(dir_processed_hic+processed_hic_filename, 'rb'))\n",
    "    hic_chpair_active_df = hic_chpair_df.loc[active_loci_dict[chrom],active_loci_dict[chrom]]\n",
    "    hic_chpair_active_df.index = subindex\n",
    "    hic_chpair_active_df.columns = subindex\n",
    "    # Hi-C data in key-value format\n",
    "    new_index = pd.MultiIndex.from_tuples(itertools.combinations(subindex,2), names=[\"locus1\",\"locus2\"])\n",
    "    hic_chpair_df1 = hic_chpair_active_df.stack().reindex(new_index).reset_index(name='hic_contact')\n",
    "    pos_pairs = pd.DataFrame(list(itertools.combinations(active_loci_dict[1],2)))\n",
    "    hic_chpair_df1['gen_dist'] = pos_pairs[1]-pos_pairs[0]\n",
    "    hic_chpair_df1['chr'] = chrom\n",
    "    hic_chpair_df1 = hic_chpair_df1[hic_chpair_df1['hic_contact']>0]\n",
    "    # Create network from edge list\n",
    "    edge_list_intra = pd.concat([edge_list_intra,hic_chpair_df1])"
   ]
  },
  {
   "cell_type": "raw",
   "metadata": {},
   "source": [
    "# Compute intraX edge significance\n",
    "edge_list_raw_intra = pd.DataFrame(columns=['locus1','locus2','hic_contact','gen_dist','chr','logpvals',\n",
    "                                            'significant_bonf','corrected_pval','significant_bh','significant_interx'])\n",
    "for chrom in tqdm(np.arange(1,22+1,1)):\n",
    "    time.sleep(.01)\n",
    "    edge_list_chrom = edge_list_intra[edge_list_intra['chr']==chrom]\n",
    "    # Null probability of observing an intraX interaction between any two loci of chrom\n",
    "    alpha = 1/len(edge_list_chrom)\n",
    "    # Total number of interactions observed\n",
    "    N = edge_list_chrom['hic_contact'].sum()\n",
    "    # Binomial p-value\n",
    "    logpvals = [ss.binom.logsf(k=edge_list_chrom.iloc[i]['hic_contact'],n=N,p=alpha, loc=0) for i in range(len(edge_list_chrom))]\n",
    "    edge_list_chrom['logpvals'] = logpvals\n",
    "    # Label significant edges (using Bonferroni and BH corrections)\n",
    "    edge_list_chrom['significant_bonf'] = edge_list_chrom['logpvals']<np.log(0.05/len(edge_list_chrom))\n",
    "    bh = statsmodels.stats.multitest.fdrcorrection(np.exp(edge_list_chrom['logpvals']), alpha=0.05, method='indep', is_sorted=False)\n",
    "    edge_list_chrom['corrected_pval'] = bh[0]\n",
    "    edge_list_chrom['significant_bh'] = bh[1]\n",
    "    # Label bottom 0.1% logpvals for this chromosome\n",
    "    edge_list_chrom['significant_interx'] = edge_list_chrom['logpvals']<=np.quantile(edge_list_chrom['logpvals'],0.001)\n",
    "    # Update edge_list_raw_intra\n",
    "    edge_list_raw_intra = pd.concat([edge_list_raw_intra,edge_list_chrom])\n",
    "# Save to pickle\n",
    "pickle.dump(edge_list_raw_intra, open(saving_dir+'edge_list_raw_intra.pkl', 'wb'), protocol=pickle.HIGHEST_PROTOCOL)"
   ]
  },
  {
   "cell_type": "code",
   "execution_count": 6,
   "metadata": {},
   "outputs": [
    {
     "name": "stdout",
     "output_type": "stream",
     "text": [
      "Total number of intraX edges = 996246\n",
      "Total number of significant intraX edges (Bonferroni) = 66720 (6.7%)\n",
      "Total number of significant intraX edges (BH) = 0 (0.0%)\n",
      "Total number of significant intraX edges (interx quantile) = 18070 (1.7999999999999998%)\n"
     ]
    },
    {
     "data": {
      "image/png": "[encoded data removed]",
      "text/plain": [
       "<Figure size 432x288 with 1 Axes>"
      ]
     },
     "metadata": {
      "needs_background": "light"
     },
     "output_type": "display_data"
    }
   ],
   "source": [
    "# Plot histogram of intraX edge weights (Hi-C contact values) between active loci\n",
    "edge_list_raw_intra = pickle.load(open(saving_dir+'edge_list_raw_intra.pkl', 'rb'))\n",
    "bonf_significant_edge_list_raw_intra = edge_list_raw_intra[edge_list_raw_intra['significant_bonf']==True]\n",
    "bh_significant_edge_list_raw_intra = edge_list_raw_intra[edge_list_raw_intra['significant_bh']==True]\n",
    "interx_significant_edge_list_raw_intra = edge_list_raw_intra[edge_list_raw_intra['significant_interx']==True]\n",
    "print('Total number of intraX edges = '+str(len(edge_list_raw_intra)))\n",
    "print('Total number of significant intraX edges (Bonferroni) = '+str(len(bonf_significant_edge_list_raw_intra))+' ('+str(100*np.round(len(bonf_significant_edge_list_raw_intra)/len(edge_list_raw_intra),3))+'%)')\n",
    "print('Total number of significant intraX edges (BH) = '+str(len(bh_significant_edge_list_raw_intra))+' ('+str(100*np.round(len(bh_significant_edge_list_raw_intra)/len(edge_list_raw_intra),3))+'%)')\n",
    "print('Total number of significant intraX edges (interx quantile) = '+str(len(interx_significant_edge_list_raw_intra))+' ('+str(100*np.round(len(interx_significant_edge_list_raw_intra)/len(edge_list_raw_intra),3))+'%)')\n",
    "plt.figure()\n",
    "plt.hist(edge_list_raw_intra['hic_contact'], bins = np.arange(0,2500,1), \n",
    "         color='blue', alpha=0.5, label='intraX edges')\n",
    "plt.hist(interx_significant_edge_list_raw_intra['hic_contact'], bins = np.arange(0,2500,1), \n",
    "         color='green', alpha=0.5, label='significant intraX edges')\n",
    "#plt.vlines(3, ymin=0, ymax=100000, color='red')\n",
    "plt.xlabel('hic contact (edge weight)')\n",
    "plt.ylabel('intraX edge count')\n",
    "plt.yscale('log')\n",
    "plt.legend()\n",
    "plt.title('Histogram of intraX edge weights')\n",
    "plt.show()"
   ]
  },
  {
   "cell_type": "markdown",
   "metadata": {},
   "source": [
    "### Construct global list of significant edges"
   ]
  },
  {
   "cell_type": "code",
   "execution_count": 42,
   "metadata": {},
   "outputs": [],
   "source": [
    "# Combine intraX and interX edges \n",
    "edge_list_raw_intra['significant'] = edge_list_raw_intra['significant_interx']\n",
    "edge_list_raw_inter['significant'] = edge_list_raw_inter['significant_bonf']\n",
    "edge_list_raw = pd.concat([edge_list_raw_intra[['locus1','locus2','hic_contact','logpvals','significant']], \n",
    "                           edge_list_raw_inter[['locus1','locus2','hic_contact','logpvals','significant']]])"
   ]
  },
  {
   "cell_type": "code",
   "execution_count": 43,
   "metadata": {},
   "outputs": [
    {
     "name": "stdout",
     "output_type": "stream",
     "text": [
      "Total number of significant edges = 32517\n"
     ]
    },
    {
     "data": {
      "text/html": [
       "<div>\n",
       "<style scoped>\n",
       "    .dataframe tbody tr th:only-of-type {\n",
       "        vertical-align: middle;\n",
       "    }\n",
       "\n",
       "    .dataframe tbody tr th {\n",
       "        vertical-align: top;\n",
       "    }\n",
       "\n",
       "    .dataframe thead th {\n",
       "        text-align: right;\n",
       "    }\n",
       "</style>\n",
       "<table border=\"1\" class=\"dataframe\">\n",
       "  <thead>\n",
       "    <tr style=\"text-align: right;\">\n",
       "      <th></th>\n",
       "      <th>locus1</th>\n",
       "      <th>locus2</th>\n",
       "      <th>hic_contact</th>\n",
       "      <th>logpvals</th>\n",
       "      <th>significant</th>\n",
       "    </tr>\n",
       "  </thead>\n",
       "  <tbody>\n",
       "    <tr>\n",
       "      <th>0</th>\n",
       "      <td>chr_1_loc_750000</td>\n",
       "      <td>chr_1_loc_1000000</td>\n",
       "      <td>6508.0</td>\n",
       "      <td>-inf</td>\n",
       "      <td>True</td>\n",
       "    </tr>\n",
       "    <tr>\n",
       "      <th>1</th>\n",
       "      <td>chr_1_loc_750000</td>\n",
       "      <td>chr_1_loc_1250000</td>\n",
       "      <td>1845.0</td>\n",
       "      <td>-inf</td>\n",
       "      <td>True</td>\n",
       "    </tr>\n",
       "    <tr>\n",
       "      <th>622</th>\n",
       "      <td>chr_1_loc_1000000</td>\n",
       "      <td>chr_1_loc_1250000</td>\n",
       "      <td>4429.0</td>\n",
       "      <td>-inf</td>\n",
       "      <td>True</td>\n",
       "    </tr>\n",
       "    <tr>\n",
       "      <th>1243</th>\n",
       "      <td>chr_1_loc_1250000</td>\n",
       "      <td>chr_1_loc_1500000</td>\n",
       "      <td>4363.0</td>\n",
       "      <td>-inf</td>\n",
       "      <td>True</td>\n",
       "    </tr>\n",
       "    <tr>\n",
       "      <th>1244</th>\n",
       "      <td>chr_1_loc_1250000</td>\n",
       "      <td>chr_1_loc_1750000</td>\n",
       "      <td>768.0</td>\n",
       "      <td>-inf</td>\n",
       "      <td>True</td>\n",
       "    </tr>\n",
       "  </tbody>\n",
       "</table>\n",
       "</div>"
      ],
      "text/plain": [
       "                 locus1             locus2  hic_contact  logpvals significant\n",
       "0      chr_1_loc_750000  chr_1_loc_1000000       6508.0      -inf        True\n",
       "1      chr_1_loc_750000  chr_1_loc_1250000       1845.0      -inf        True\n",
       "622   chr_1_loc_1000000  chr_1_loc_1250000       4429.0      -inf        True\n",
       "1243  chr_1_loc_1250000  chr_1_loc_1500000       4363.0      -inf        True\n",
       "1244  chr_1_loc_1250000  chr_1_loc_1750000        768.0      -inf        True"
      ]
     },
     "execution_count": 43,
     "metadata": {},
     "output_type": "execute_result"
    }
   ],
   "source": [
    "# Only keep significant edges\n",
    "significant_edge_list_raw = edge_list_raw[edge_list_raw['significant']==True]\n",
    "print('Total number of significant edges = '+str(len(significant_edge_list_raw)))\n",
    "significant_edge_list_raw.head()"
   ]
  },
  {
   "cell_type": "markdown",
   "metadata": {},
   "source": [
    "### Build graph using this edge list"
   ]
  },
  {
   "cell_type": "code",
   "execution_count": 44,
   "metadata": {},
   "outputs": [],
   "source": [
    "# Load data on adhesome and activity\n",
    "adhesome_loci_list = pickle.load(open(saving_dir+'adhesome_loci_list.pkl', 'rb'))\n",
    "active_adhesome_loci = pickle.load(open(saving_dir+'active_adhesome_loci.pkl', 'rb'))\n",
    "inactive_adhesome_loci = pickle.load(open(saving_dir+'inactive_adhesome_loci.pkl', 'rb'))\n",
    "adhesome_genes_list = pickle.load(open(saving_dir+'adhesome_genes.pkl', 'rb'))\n",
    "active_adhesome_genes = pickle.load(open(saving_dir+'active_adhesome_genes.pkl', 'rb'))\n",
    "inactive_adhesome_genes = pickle.load(open(saving_dir+'inactive_adhesome_genes.pkl', 'rb'))"
   ]
  },
  {
   "cell_type": "code",
   "execution_count": 46,
   "metadata": {},
   "outputs": [
    {
     "name": "stdout",
     "output_type": "stream",
     "text": [
      "Total number of nodes in G = 6003\n",
      "Number of active adhesome nodes in G = 275\n",
      "Total number of edges in G = 32517\n",
      "Average node degree in G = 10.833583208395803\n",
      "Number of connected components in G = 87\n",
      "Size of connected components = [4985, 103, 11, 25, 15, 2, 5, 14, 19, 7, 3, 3, 2, 4, 9, 2, 32, 17, 11, 2, 2, 2, 3, 44, 6, 13, 23, 39, 13, 12, 4, 5, 11, 3, 37, 12, 5, 11, 20, 17, 4, 2, 3, 4, 9, 6, 2, 16, 4, 18, 10, 22, 3, 8, 4, 19, 12, 3, 52, 10, 26, 16, 5, 27, 14, 2, 2, 19, 14, 4, 5, 3, 18, 2, 2, 12, 2, 5, 5, 5, 6, 4, 4, 7, 12, 15, 3]\n"
     ]
    },
    {
     "data": {
      "image/png": "[encoded data removed]",
      "text/plain": [
       "<Figure size 432x288 with 1 Axes>"
      ]
     },
     "metadata": {
      "needs_background": "light"
     },
     "output_type": "display_data"
    }
   ],
   "source": [
    "# Create graph from edge list\n",
    "G = nx.from_pandas_edgelist(significant_edge_list_raw, 'locus1', 'locus2', ['hic_contact','logpvals'])\n",
    "print('Total number of nodes in G = '+str(len(G.nodes)))\n",
    "print('Number of active adhesome nodes in G = '+str(len(set(active_adhesome_loci).intersection(set(G.nodes)))))\n",
    "print('Total number of edges in G = '+str(len(G.edges)))\n",
    "print('Average node degree in G = '+str(np.mean(list(dict(G.degree).values()))))\n",
    "print('Number of connected components in G = '+str(nx.number_connected_components(G)))\n",
    "print('Size of connected components = '+str([len(c) for c in nx.connected_components(G)]))\n",
    "#pickle.dump(G, open(prelim_results_dir+'interX_hic_network.pkl', 'wb'))\n",
    "plt.figure()\n",
    "plt.hist(dict(G.degree()).values(), bins=np.arange(0,600,20), \n",
    "         alpha=0.5, label='all active loci')\n",
    "plt.hist(dict(G.degree(active_adhesome_loci)).values(), bins=np.arange(0,600,20), \n",
    "         alpha=0.5, label='active adhesome loci')\n",
    "plt.title('Distribution of degrees in G')\n",
    "plt.yscale('log')\n",
    "plt.xlabel('node degree')\n",
    "plt.ylabel('number of nodes')\n",
    "plt.legend()\n",
    "plt.show()"
   ]
  },
  {
   "cell_type": "markdown",
   "metadata": {},
   "source": [
    "### Annotate graph"
   ]
  },
  {
   "cell_type": "code",
   "execution_count": 47,
   "metadata": {},
   "outputs": [],
   "source": [
    "# Load all TF genes (using TRRUST)\n",
    "tf_df0 = pickle.load(open(dir_genome+'trrust_df.pkl', 'rb'))\n",
    "all_tf_genes = np.unique(tf_df0['TF'].values)"
   ]
  },
  {
   "cell_type": "code",
   "execution_count": 48,
   "metadata": {},
   "outputs": [],
   "source": [
    "# Load gene location in hg19\n",
    "gene_locations_filename = dir_genome+'chrom_hg19.loc_canonical'\n",
    "gene_id_filename = dir_genome+'chrom_hg19.name'\n",
    "df_loc = lu.get_gene_locations(gene_locations_filename, gene_id_filename)"
   ]
  },
  {
   "cell_type": "code",
   "execution_count": 50,
   "metadata": {},
   "outputs": [
    {
     "name": "stderr",
     "output_type": "stream",
     "text": [
      "100%|██████████| 6003/6003 [01:47<00:00, 55.88it/s]\n"
     ]
    }
   ],
   "source": [
    "# For each locus, also express it by the corresponding genes\n",
    "adhesome_gene_id_ls = []\n",
    "tf_gene_id_ls = []\n",
    "locus_gene_list = []\n",
    "locus_adhesome_gene_list = []\n",
    "locus_tf_gene_list = []\n",
    "for locus in tqdm(list(G.nodes)):\n",
    "    time.sleep(.01)\n",
    "    # Select chromosome\n",
    "    chrom = 'chr'+locus.split('_')[1]\n",
    "    df_loc_chrom = df_loc[df_loc['#chrom']==chrom]\n",
    "    # Find genes and create gene ID for the locus\n",
    "    loc = int(locus.split('_')[3])\n",
    "    genes0 = df_loc_chrom.loc[(df_loc_chrom['chromStart']//resol)*resol == loc,'geneSymbol'].values\n",
    "    genes1 = df_loc_chrom.loc[(df_loc_chrom['chromEnd']//resol)*resol == loc,'geneSymbol'].values\n",
    "    genes2 = df_loc_chrom.loc[((df_loc_chrom['chromStart']//resol)*resol < loc) & \n",
    "                             ((df_loc_chrom['chromEnd']//resol)*resol > loc),'geneSymbol'].values\n",
    "    genes = np.unique(list(itertools.chain.from_iterable([genes0,genes1,genes2])))\n",
    "    adhesome_genes = [gene for gene in genes if gene in adhesome_genes_list]\n",
    "    tf_genes = [gene for gene in genes if gene in all_tf_genes]\n",
    "    locus_gene_list.append(genes)\n",
    "    locus_adhesome_gene_list.append(adhesome_genes)\n",
    "    locus_tf_gene_list.append(tf_genes)\n",
    "    adhesome_gene_id = ''+\"_\".join(adhesome_genes)\n",
    "    tf_gene_id = ''+\"_\".join(tf_genes)\n",
    "    adhesome_gene_id_ls.append(adhesome_gene_id)\n",
    "    tf_gene_id_ls.append(tf_gene_id)\n",
    "pickle.dump([adhesome_gene_id_ls,tf_gene_id_ls,locus_gene_list,locus_adhesome_gene_list,locus_tf_gene_list], open(saving_dir+'locus_gene_id.pkl', 'wb'), protocol=pickle.HIGHEST_PROTOCOL)"
   ]
  },
  {
   "cell_type": "code",
   "execution_count": 51,
   "metadata": {},
   "outputs": [
    {
     "data": {
      "text/html": [
       "<div>\n",
       "<style scoped>\n",
       "    .dataframe tbody tr th:only-of-type {\n",
       "        vertical-align: middle;\n",
       "    }\n",
       "\n",
       "    .dataframe tbody tr th {\n",
       "        vertical-align: top;\n",
       "    }\n",
       "\n",
       "    .dataframe thead th {\n",
       "        text-align: right;\n",
       "    }\n",
       "</style>\n",
       "<table border=\"1\" class=\"dataframe\">\n",
       "  <thead>\n",
       "    <tr style=\"text-align: right;\">\n",
       "      <th></th>\n",
       "      <th>chr</th>\n",
       "      <th>adhesome_gene_id</th>\n",
       "      <th>tf_gene_id</th>\n",
       "      <th>locus_gene_list</th>\n",
       "      <th>locus_adhesome_gene_list</th>\n",
       "      <th>locus_tf_gene_list</th>\n",
       "      <th>has_genes</th>\n",
       "      <th>has_adhesome_genes</th>\n",
       "      <th>has_tf_genes</th>\n",
       "    </tr>\n",
       "    <tr>\n",
       "      <th>locus_id</th>\n",
       "      <th></th>\n",
       "      <th></th>\n",
       "      <th></th>\n",
       "      <th></th>\n",
       "      <th></th>\n",
       "      <th></th>\n",
       "      <th></th>\n",
       "      <th></th>\n",
       "      <th></th>\n",
       "    </tr>\n",
       "  </thead>\n",
       "  <tbody>\n",
       "    <tr>\n",
       "      <th>chr_1_loc_750000</th>\n",
       "      <td>[1]</td>\n",
       "      <td></td>\n",
       "      <td></td>\n",
       "      <td>[AGRN, AK056486, BC033949, C1ORF170, FAM41C, H...</td>\n",
       "      <td>[]</td>\n",
       "      <td>[]</td>\n",
       "      <td>14</td>\n",
       "      <td>0</td>\n",
       "      <td>0</td>\n",
       "    </tr>\n",
       "    <tr>\n",
       "      <th>chr_1_loc_1000000</th>\n",
       "      <td>[1]</td>\n",
       "      <td></td>\n",
       "      <td></td>\n",
       "      <td>[ACAP3, AK128833, B3GALT6, BC033949, C1ORF159,...</td>\n",
       "      <td>[]</td>\n",
       "      <td>[]</td>\n",
       "      <td>21</td>\n",
       "      <td>0</td>\n",
       "      <td>0</td>\n",
       "    </tr>\n",
       "    <tr>\n",
       "      <th>chr_1_loc_1250000</th>\n",
       "      <td>[1]</td>\n",
       "      <td></td>\n",
       "      <td></td>\n",
       "      <td>[ANKRD65, ATAD3A, ATAD3B, ATAD3C, AURKAIP1, CC...</td>\n",
       "      <td>[]</td>\n",
       "      <td>[]</td>\n",
       "      <td>17</td>\n",
       "      <td>0</td>\n",
       "      <td>0</td>\n",
       "    </tr>\n",
       "  </tbody>\n",
       "</table>\n",
       "</div>"
      ],
      "text/plain": [
       "                   chr adhesome_gene_id tf_gene_id  \\\n",
       "locus_id                                             \n",
       "chr_1_loc_750000   [1]                               \n",
       "chr_1_loc_1000000  [1]                               \n",
       "chr_1_loc_1250000  [1]                               \n",
       "\n",
       "                                                     locus_gene_list  \\\n",
       "locus_id                                                               \n",
       "chr_1_loc_750000   [AGRN, AK056486, BC033949, C1ORF170, FAM41C, H...   \n",
       "chr_1_loc_1000000  [ACAP3, AK128833, B3GALT6, BC033949, C1ORF159,...   \n",
       "chr_1_loc_1250000  [ANKRD65, ATAD3A, ATAD3B, ATAD3C, AURKAIP1, CC...   \n",
       "\n",
       "                  locus_adhesome_gene_list locus_tf_gene_list  has_genes  \\\n",
       "locus_id                                                                   \n",
       "chr_1_loc_750000                        []                 []         14   \n",
       "chr_1_loc_1000000                       []                 []         21   \n",
       "chr_1_loc_1250000                       []                 []         17   \n",
       "\n",
       "                   has_adhesome_genes  has_tf_genes  \n",
       "locus_id                                             \n",
       "chr_1_loc_750000                    0             0  \n",
       "chr_1_loc_1000000                   0             0  \n",
       "chr_1_loc_1250000                   0             0  "
      ]
     },
     "execution_count": 51,
     "metadata": {},
     "output_type": "execute_result"
    }
   ],
   "source": [
    "# Dataframe of nodes in G\n",
    "adhesome_gene_id_ls,tf_gene_id_ls,locus_gene_list,locus_adhesome_gene_list,locus_tf_gene_list = pickle.load(open(saving_dir+'locus_gene_id.pkl', 'rb'))\n",
    "node_attributes = pd.DataFrame({'locus_id': list(G.nodes),\n",
    "                                'chr': [[int(locus.split('_')[1])] for locus in list(G.nodes)],\n",
    "                                'adhesome_gene_id': adhesome_gene_id_ls,\n",
    "                                'tf_gene_id': tf_gene_id_ls,\n",
    "                                'locus_gene_list': locus_gene_list,\n",
    "                                'locus_adhesome_gene_list': locus_adhesome_gene_list,\n",
    "                                'locus_tf_gene_list': locus_tf_gene_list,\n",
    "                                'has_genes': [len(gene_ls) for gene_ls in locus_gene_list],\n",
    "                                'has_adhesome_genes': [len(gene_ls) for gene_ls in locus_adhesome_gene_list],\n",
    "                                'has_tf_genes': [len(gene_ls) for gene_ls in locus_tf_gene_list]})\n",
    "node_attributes = node_attributes.set_index('locus_id')\n",
    "node_attributes.head(3)"
   ]
  },
  {
   "cell_type": "code",
   "execution_count": 52,
   "metadata": {},
   "outputs": [],
   "source": [
    "# Annotate graph\n",
    "nx.set_node_attributes(G, {locus: str(node_attributes.loc[locus,'chr'][0]) for locus in G.nodes}, 'chromosome')\n",
    "nx.set_node_attributes(G, {locus: node_attributes.loc[locus,'adhesome_gene_id'] for locus in G.nodes}, 'adhesome_gene_id')\n",
    "nx.set_node_attributes(G, {locus: node_attributes.loc[locus,'tf_gene_id'] for locus in G.nodes}, 'tf_gene_id')\n",
    "nx.set_node_attributes(G, {locus: node_attributes.loc[locus,'adhesome_gene_id']+'_'+node_attributes.loc[locus,'tf_gene_id'] for locus in G.nodes}, 'adh_tf_gene_id')\n",
    "nx.set_node_attributes(G, {locus: float(node_attributes.loc[locus,'has_genes']) for locus in G.nodes}, 'number_of_genes')\n",
    "nx.set_node_attributes(G, {locus: node_attributes.loc[locus,'locus_gene_list'].tolist() for locus in G.nodes}, 'gene_list')\n",
    "nx.set_node_attributes(G, {locus: float(node_attributes.loc[locus,'has_adhesome_genes']) for locus in G.nodes}, 'number_of_adhesome_genes')\n",
    "nx.set_node_attributes(G, {locus: str(node_attributes.loc[locus,'has_adhesome_genes']>0) for locus in G.nodes}, 'has_adhesome_genes')\n",
    "nx.set_node_attributes(G, {locus: node_attributes.loc[locus,'locus_adhesome_gene_list'] for locus in G.nodes}, 'adhesome_gene_list')\n",
    "nx.set_node_attributes(G, {locus: float(node_attributes.loc[locus,'has_tf_genes']) for locus in G.nodes}, 'number_of_tf_genes')\n",
    "nx.set_node_attributes(G, {locus: str(node_attributes.loc[locus,'has_tf_genes']>0) for locus in G.nodes}, 'has_tf_genes')\n",
    "nx.set_node_attributes(G, {locus: node_attributes.loc[locus,'locus_tf_gene_list'] for locus in G.nodes}, 'tf_gene_list')"
   ]
  },
  {
   "cell_type": "code",
   "execution_count": 53,
   "metadata": {},
   "outputs": [],
   "source": [
    "# Add edge weights as log-HiC\n",
    "nx.set_edge_attributes(G, {edge: np.log(1+G.get_edge_data(edge[0],edge[1])['hic_contact']) for edge in G.edges}, 'loghic')"
   ]
  },
  {
   "cell_type": "markdown",
   "metadata": {},
   "source": [
    "### Clustering choice"
   ]
  },
  {
   "cell_type": "code",
   "execution_count": 218,
   "metadata": {},
   "outputs": [
    {
     "name": "stderr",
     "output_type": "stream",
     "text": [
      "100%|██████████| 20/20 [01:11<00:00,  3.58s/it]\n"
     ]
    }
   ],
   "source": [
    "resolution_ls = np.arange(0.005,1.005,0.005)\n",
    "modularities = []\n",
    "num_comm = []\n",
    "average_nodes_comm = []\n",
    "num_adh_comm = []\n",
    "average_nodes_top_adh_comm = []\n",
    "average_adh_nodes_top_adh_comm = []\n",
    "for r in tqdm(resolution_ls):\n",
    "    time.sleep(.01)\n",
    "    # Cluster network using Louvain community detection\n",
    "    partition = community.best_partition(G, resolution=r, weight='loghic', random_state=6)\n",
    "    partition_str = {key: str(val) for i,(key,val) in enumerate(partition.items())}\n",
    "    nx.set_node_attributes(G, partition, 'modularity')\n",
    "    nx.set_node_attributes(G, partition_str, 'modularity_str')\n",
    "    # Summary of each cluster\n",
    "    community_summary = pd.DataFrame(columns=['community', 'n_nodes', 'chroms','n_edges','n_genes','n_tf','tf_list','n_adhesome','adhesome_list'])\n",
    "    for comm in range(n_communities):\n",
    "        sub_nodes = [locus for locus in partition.keys() if partition[locus]==comm]\n",
    "        sub_attributes = node_attributes[node_attributes.index.isin(sub_nodes)]\n",
    "        subG = G.subgraph(sub_nodes)\n",
    "        n_nodes = len(subG.nodes)\n",
    "        chroms = np.unique(sub_attributes['chr'].sum())\n",
    "        n_edges = len(subG.edges)\n",
    "        n_genes = sub_attributes['has_genes'].sum()\n",
    "        n_tf = len(np.unique(sub_attributes['locus_tf_gene_list'].sum()))\n",
    "        tf_list = np.unique(sub_attributes['locus_tf_gene_list'].sum())\n",
    "        n_adhesome = len(np.unique(sub_attributes['locus_adhesome_gene_list'].sum()))\n",
    "        adhesome_list = np.unique(sub_attributes['locus_adhesome_gene_list'].sum())\n",
    "        community_summary.loc[comm] = [comm, n_nodes,chroms,n_edges,n_genes,n_tf,tf_list,n_adhesome,adhesome_list]\n",
    "    community_summary = community_summary.sort_values(by='n_adhesome', ascending=False)\n",
    "    modularities.append(community.modularity(partition,G))\n",
    "    num_comm.append(len(set(partition.values())))\n",
    "    average_nodes_comm.append(community_summary['n_nodes'].mean())\n",
    "    num_adh_comm.append(len(community_summary[community_summary['n_adhesome']>=5]))\n",
    "    average_nodes_top_adh_comm.append(community_summary[community_summary['n_adhesome']>=5]['n_nodes'].mean())\n",
    "    average_adh_nodes_top_adh_comm.append(community_summary[community_summary['n_adhesome']>=5]['n_adhesome'].mean())"
   ]
  },
  {
   "cell_type": "code",
   "execution_count": 219,
   "metadata": {},
   "outputs": [
    {
     "data": {
      "image/png": "[encoded data removed]",
      "text/plain": [
       "<Figure size 432x288 with 1 Axes>"
      ]
     },
     "metadata": {
      "needs_background": "light"
     },
     "output_type": "display_data"
    }
   ],
   "source": [
    "# Plot modularity vs Louvain resolution\n",
    "plt.figure()\n",
    "plt.plot(resolution_ls, modularities, color='red', label='modularity')\n",
    "plt.xlabel('Louvain resolution')\n",
    "plt.legend()\n",
    "plt.show()"
   ]
  },
  {
   "cell_type": "code",
   "execution_count": 220,
   "metadata": {},
   "outputs": [
    {
     "data": {
      "image/png": "[encoded data removed]",
      "text/plain": [
       "<Figure size 432x288 with 1 Axes>"
      ]
     },
     "metadata": {
      "needs_background": "light"
     },
     "output_type": "display_data"
    }
   ],
   "source": [
    "# Plot community descriptions vs Louvain resolution\n",
    "plt.figure()\n",
    "plt.plot(resolution_ls, num_comm, color='blue', label='number of communities')\n",
    "plt.plot(resolution_ls, num_adh_comm, color='red', label='number of adh. communities')\n",
    "plt.plot(resolution_ls, average_nodes_comm, color='green', label='av. number of nodes per comm.')\n",
    "plt.plot(resolution_ls, average_nodes_top_adh_comm, color='black', label= 'av. number of nodes per adh. comm.')\n",
    "plt.plot(resolution_ls, average_adh_nodes_top_adh_comm, color='orange', label= 'av. number of adh. nodes per adh. comm.')\n",
    "plt.xlabel('Louvain resolution')\n",
    "plt.legend()\n",
    "plt.ylim(0,400)\n",
    "plt.show()"
   ]
  },
  {
   "cell_type": "markdown",
   "metadata": {},
   "source": [
    "The above plots help us determine the resolution parameter of Louvain."
   ]
  },
  {
   "cell_type": "code",
   "execution_count": 57,
   "metadata": {},
   "outputs": [
    {
     "name": "stdout",
     "output_type": "stream",
     "text": [
      "Number of communities = 834\n",
      "Modularity = 0.4853447926527564\n"
     ]
    }
   ],
   "source": [
    "# Cluster network using Louvain community detection\n",
    "partition = community.best_partition(G, weight='loghic', resolution=0.01, random_state=6)\n",
    "partition_str = {key: str(val) for i,(key,val) in enumerate(partition.items())}\n",
    "nx.set_node_attributes(G, partition, 'modularity')\n",
    "nx.set_node_attributes(G, partition_str, 'modularity_str')\n",
    "n_communities = len(set(partition.values()))\n",
    "print('Number of communities = '+str(len(set(partition.values()))))\n",
    "print('Modularity = '+str(community.modularity(partition,G)))"
   ]
  },
  {
   "cell_type": "code",
   "execution_count": 58,
   "metadata": {},
   "outputs": [
    {
     "name": "stderr",
     "output_type": "stream",
     "text": [
      "  4%|▍         | 37/834 [00:58<24:41,  1.86s/it]2021-05-05 17:18:07,219 Warning: No enrich terms using library GO_Biological_Process_2018 when cutoff = 0.05\n",
      " 29%|██▉       | 246/834 [04:56<18:47,  1.92s/it]2021-05-05 17:22:05,930 Warning: No enrich terms using library GO_Biological_Process_2018 when cutoff = 0.05\n",
      " 36%|███▌      | 301/834 [05:46<09:02,  1.02s/it]2021-05-05 17:22:58,223 Warning: No enrich terms using library GO_Biological_Process_2018 when cutoff = 0.05\n",
      " 62%|██████▏   | 519/834 [10:10<10:28,  1.99s/it]2021-05-05 17:27:20,062 Warning: No enrich terms using library GO_Biological_Process_2018 when cutoff = 0.05\n",
      " 79%|███████▉  | 657/834 [12:27<06:09,  2.09s/it]2021-05-05 17:29:36,805 Warning: No enrich terms using library GO_Biological_Process_2018 when cutoff = 0.05\n",
      " 79%|███████▉  | 659/834 [12:29<04:53,  1.67s/it]2021-05-05 17:29:38,258 Warning: No enrich terms using library GO_Biological_Process_2018 when cutoff = 0.05\n",
      " 90%|█████████ | 752/834 [14:18<01:25,  1.04s/it]2021-05-05 17:31:27,145 Warning: No enrich terms using library GO_Biological_Process_2018 when cutoff = 0.05\n",
      " 90%|█████████ | 754/834 [14:19<01:15,  1.06it/s]2021-05-05 17:31:28,559 Warning: No enrich terms using library GO_Biological_Process_2018 when cutoff = 0.05\n",
      " 93%|█████████▎| 778/834 [14:54<01:33,  1.67s/it]2021-05-05 17:32:03,186 Warning: No enrich terms using library GO_Biological_Process_2018 when cutoff = 0.05\n",
      "100%|██████████| 834/834 [15:37<00:00,  1.12s/it]\n"
     ]
    }
   ],
   "source": [
    "# Summary of each cluster\n",
    "community_summary = pd.DataFrame(columns=['community', 'n_nodes', 'chroms','n_edges','n_genes',\n",
    "                                          'n_tf','tf_list','n_tf_targets','tf_targets','significant_go_terms',\n",
    "                                          'n_adhesome','adhesome_list'])\n",
    "for comm in tqdm(range(n_communities)):\n",
    "    time.sleep(.01)\n",
    "    sub_nodes = [locus for locus in partition.keys() if partition[locus]==comm]\n",
    "    sub_attributes = node_attributes[node_attributes.index.isin(sub_nodes)]\n",
    "    subG = G.subgraph(sub_nodes)\n",
    "    n_nodes = len(subG.nodes)\n",
    "    chroms = np.unique(sub_attributes['chr'].sum())\n",
    "    n_edges = len(subG.edges)\n",
    "    n_genes = sub_attributes['has_genes'].sum()\n",
    "    n_tf = len(np.unique(sub_attributes['locus_tf_gene_list'].sum()))\n",
    "    tf_list = np.unique(sub_attributes['locus_tf_gene_list'].sum())\n",
    "    tf_targets =  np.unique(tf_df0[tf_df0['TF'].isin(tf_list)]['Target'].values).tolist()\n",
    "    n_tf_targets = len(tf_targets)\n",
    "    if n_tf_targets>0:\n",
    "        gsea_tf_targets = gseapy.enrichr(gene_list=tf_targets, gene_sets='GO_Biological_Process_2018', organism='Human',\n",
    "                         description='tf_targets', outdir='gsea_top_hic',format='png',\n",
    "                         verbose=False)\n",
    "        significant_go_terms = gsea_tf_targets.results[gsea_tf_targets.results['Adjusted P-value']<0.01]['Term'].values\n",
    "    else:\n",
    "        significant_go_terms = []\n",
    "    n_adhesome = len(np.unique(sub_attributes['locus_adhesome_gene_list'].sum()))\n",
    "    adhesome_list = np.unique(sub_attributes['locus_adhesome_gene_list'].sum())\n",
    "    community_summary.loc[comm] = [comm, n_nodes,chroms,n_edges,n_genes,\n",
    "                                   n_tf,tf_list,n_tf_targets,tf_targets, significant_go_terms,\n",
    "                                   n_adhesome,adhesome_list]\n",
    "community_summary = community_summary.sort_values(by='n_adhesome', ascending=False)\n",
    "# Save to pickle\n",
    "pickle.dump(community_summary, open(saving_dir+'community_summary.pkl', 'wb'))"
   ]
  },
  {
   "cell_type": "code",
   "execution_count": 60,
   "metadata": {},
   "outputs": [
    {
     "data": {
      "text/html": [
       "<div>\n",
       "<style scoped>\n",
       "    .dataframe tbody tr th:only-of-type {\n",
       "        vertical-align: middle;\n",
       "    }\n",
       "\n",
       "    .dataframe tbody tr th {\n",
       "        vertical-align: top;\n",
       "    }\n",
       "\n",
       "    .dataframe thead th {\n",
       "        text-align: right;\n",
       "    }\n",
       "</style>\n",
       "<table border=\"1\" class=\"dataframe\">\n",
       "  <thead>\n",
       "    <tr style=\"text-align: right;\">\n",
       "      <th></th>\n",
       "      <th>community</th>\n",
       "      <th>n_nodes</th>\n",
       "      <th>chroms</th>\n",
       "      <th>n_edges</th>\n",
       "      <th>n_genes</th>\n",
       "      <th>n_tf</th>\n",
       "      <th>tf_list</th>\n",
       "      <th>n_tf_targets</th>\n",
       "      <th>tf_targets</th>\n",
       "      <th>significant_go_terms</th>\n",
       "      <th>n_adhesome</th>\n",
       "      <th>adhesome_list</th>\n",
       "    </tr>\n",
       "  </thead>\n",
       "  <tbody>\n",
       "    <tr>\n",
       "      <th>459</th>\n",
       "      <td>459</td>\n",
       "      <td>11</td>\n",
       "      <td>[12]</td>\n",
       "      <td>23</td>\n",
       "      <td>100</td>\n",
       "      <td>12</td>\n",
       "      <td>[ATF7, HOXC10, HOXC11, HOXC13, HOXC6, HOXC8, H...</td>\n",
       "      <td>487</td>\n",
       "      <td>[ABCA1, ABCB1, ABCB8, ABCC1, ABCC3, ABCG2, ACA...</td>\n",
       "      <td>[regulation of cell proliferation (GO:0042127)...</td>\n",
       "      <td>4</td>\n",
       "      <td>[ITGA5, ITGA7, ITGB7, TENC1]</td>\n",
       "    </tr>\n",
       "    <tr>\n",
       "      <th>592</th>\n",
       "      <td>592</td>\n",
       "      <td>3</td>\n",
       "      <td>[16]</td>\n",
       "      <td>3</td>\n",
       "      <td>41</td>\n",
       "      <td>2</td>\n",
       "      <td>[FUS, SRCAP]</td>\n",
       "      <td>5</td>\n",
       "      <td>[AR, DDIT3, KLK3, MDM2, PCK2]</td>\n",
       "      <td>[]</td>\n",
       "      <td>4</td>\n",
       "      <td>[ITGAD, ITGAM, ITGAX, TGFB1I1]</td>\n",
       "    </tr>\n",
       "    <tr>\n",
       "      <th>31</th>\n",
       "      <td>31</td>\n",
       "      <td>13</td>\n",
       "      <td>[1]</td>\n",
       "      <td>31</td>\n",
       "      <td>137</td>\n",
       "      <td>7</td>\n",
       "      <td>[ASH1L, CRABP2, CREB3L4, HAX1, HDGF, ILF2, MEF2D]</td>\n",
       "      <td>20</td>\n",
       "      <td>[ACRV1, ATF3, ATM, ATP2A2, CD14, CDH1, DNAJC12...</td>\n",
       "      <td>[positive regulation of gene expression (GO:00...</td>\n",
       "      <td>3</td>\n",
       "      <td>[ARHGEF2, HAX1, SHC1]</td>\n",
       "    </tr>\n",
       "    <tr>\n",
       "      <th>652</th>\n",
       "      <td>652</td>\n",
       "      <td>4</td>\n",
       "      <td>[17]</td>\n",
       "      <td>6</td>\n",
       "      <td>27</td>\n",
       "      <td>2</td>\n",
       "      <td>[DLX3, DLX4]</td>\n",
       "      <td>2</td>\n",
       "      <td>[BRCA1, CGA]</td>\n",
       "      <td>[dosage compensation by inactivation of X chro...</td>\n",
       "      <td>2</td>\n",
       "      <td>[ABI3, ITGA3]</td>\n",
       "    </tr>\n",
       "    <tr>\n",
       "      <th>397</th>\n",
       "      <td>397</td>\n",
       "      <td>12</td>\n",
       "      <td>[10]</td>\n",
       "      <td>44</td>\n",
       "      <td>38</td>\n",
       "      <td>0</td>\n",
       "      <td>[]</td>\n",
       "      <td>0</td>\n",
       "      <td>[]</td>\n",
       "      <td>[]</td>\n",
       "      <td>2</td>\n",
       "      <td>[ADAM12, DOCK1]</td>\n",
       "    </tr>\n",
       "    <tr>\n",
       "      <th>576</th>\n",
       "      <td>576</td>\n",
       "      <td>2</td>\n",
       "      <td>[16]</td>\n",
       "      <td>1</td>\n",
       "      <td>41</td>\n",
       "      <td>0</td>\n",
       "      <td>[]</td>\n",
       "      <td>0</td>\n",
       "      <td>[]</td>\n",
       "      <td>[]</td>\n",
       "      <td>2</td>\n",
       "      <td>[PDPK1, PKD1]</td>\n",
       "    </tr>\n",
       "    <tr>\n",
       "      <th>88</th>\n",
       "      <td>88</td>\n",
       "      <td>15</td>\n",
       "      <td>[2]</td>\n",
       "      <td>39</td>\n",
       "      <td>57</td>\n",
       "      <td>1</td>\n",
       "      <td>[SATB2]</td>\n",
       "      <td>2</td>\n",
       "      <td>[TP63, UPF3B]</td>\n",
       "      <td>[]</td>\n",
       "      <td>2</td>\n",
       "      <td>[ABI2, CASP8]</td>\n",
       "    </tr>\n",
       "    <tr>\n",
       "      <th>524</th>\n",
       "      <td>524</td>\n",
       "      <td>6</td>\n",
       "      <td>[14]</td>\n",
       "      <td>9</td>\n",
       "      <td>42</td>\n",
       "      <td>1</td>\n",
       "      <td>[MTA1]</td>\n",
       "      <td>24</td>\n",
       "      <td>[ALOX15, ARNTL, BCAS3, BCL2L1, BRCA1, CDH1, CD...</td>\n",
       "      <td>[negative regulation of transcription, DNA-tem...</td>\n",
       "      <td>2</td>\n",
       "      <td>[AKT1, ZFYVE21]</td>\n",
       "    </tr>\n",
       "    <tr>\n",
       "      <th>110</th>\n",
       "      <td>110</td>\n",
       "      <td>14</td>\n",
       "      <td>[3]</td>\n",
       "      <td>34</td>\n",
       "      <td>88</td>\n",
       "      <td>0</td>\n",
       "      <td>[]</td>\n",
       "      <td>0</td>\n",
       "      <td>[]</td>\n",
       "      <td>[]</td>\n",
       "      <td>2</td>\n",
       "      <td>[NISCH, PPM1M]</td>\n",
       "    </tr>\n",
       "    <tr>\n",
       "      <th>92</th>\n",
       "      <td>92</td>\n",
       "      <td>8</td>\n",
       "      <td>[2]</td>\n",
       "      <td>28</td>\n",
       "      <td>27</td>\n",
       "      <td>1</td>\n",
       "      <td>[XRCC5]</td>\n",
       "      <td>3</td>\n",
       "      <td>[CD40, ERBB2, ETS1]</td>\n",
       "      <td>[regulation of angiogenesis (GO:0045765), regu...</td>\n",
       "      <td>2</td>\n",
       "      <td>[ARPC2, TNS1]</td>\n",
       "    </tr>\n",
       "    <tr>\n",
       "      <th>631</th>\n",
       "      <td>631</td>\n",
       "      <td>5</td>\n",
       "      <td>[17]</td>\n",
       "      <td>8</td>\n",
       "      <td>40</td>\n",
       "      <td>1</td>\n",
       "      <td>[PCGF2]</td>\n",
       "      <td>3</td>\n",
       "      <td>[HOXA7, ZEB1, ZEB2]</td>\n",
       "      <td>[negative regulation of transcription from RNA...</td>\n",
       "      <td>2</td>\n",
       "      <td>[LASP1, SRCIN1]</td>\n",
       "    </tr>\n",
       "    <tr>\n",
       "      <th>54</th>\n",
       "      <td>54</td>\n",
       "      <td>17</td>\n",
       "      <td>[2]</td>\n",
       "      <td>54</td>\n",
       "      <td>48</td>\n",
       "      <td>4</td>\n",
       "      <td>[E2F6, GRHL1, ID2, KLF11]</td>\n",
       "      <td>13</td>\n",
       "      <td>[APAF1, BRCA1, BRD7, COL1A2, CYC1, CYP11A1, E2...</td>\n",
       "      <td>[negative regulation of G0 to G1 transition (G...</td>\n",
       "      <td>2</td>\n",
       "      <td>[ASAP2, ITGB1BP1]</td>\n",
       "    </tr>\n",
       "    <tr>\n",
       "      <th>321</th>\n",
       "      <td>321</td>\n",
       "      <td>1</td>\n",
       "      <td>[8]</td>\n",
       "      <td>0</td>\n",
       "      <td>14</td>\n",
       "      <td>0</td>\n",
       "      <td>[]</td>\n",
       "      <td>0</td>\n",
       "      <td>[]</td>\n",
       "      <td>[]</td>\n",
       "      <td>2</td>\n",
       "      <td>[PLEC, SHARPIN]</td>\n",
       "    </tr>\n",
       "    <tr>\n",
       "      <th>561</th>\n",
       "      <td>561</td>\n",
       "      <td>10</td>\n",
       "      <td>[15]</td>\n",
       "      <td>22</td>\n",
       "      <td>44</td>\n",
       "      <td>0</td>\n",
       "      <td>[]</td>\n",
       "      <td>0</td>\n",
       "      <td>[]</td>\n",
       "      <td>[]</td>\n",
       "      <td>2</td>\n",
       "      <td>[CIB2, PEAK1]</td>\n",
       "    </tr>\n",
       "    <tr>\n",
       "      <th>660</th>\n",
       "      <td>660</td>\n",
       "      <td>7</td>\n",
       "      <td>[17]</td>\n",
       "      <td>12</td>\n",
       "      <td>76</td>\n",
       "      <td>1</td>\n",
       "      <td>[FOXJ1]</td>\n",
       "      <td>1</td>\n",
       "      <td>[ASPM]</td>\n",
       "      <td>[]</td>\n",
       "      <td>2</td>\n",
       "      <td>[GRB2, ITGB4]</td>\n",
       "    </tr>\n",
       "    <tr>\n",
       "      <th>236</th>\n",
       "      <td>236</td>\n",
       "      <td>13</td>\n",
       "      <td>[6]</td>\n",
       "      <td>30</td>\n",
       "      <td>45</td>\n",
       "      <td>1</td>\n",
       "      <td>[HDAC2]</td>\n",
       "      <td>27</td>\n",
       "      <td>[ALOX5, APAF1, BMP7, CAD, CCL2, CCNE1, CD1D, C...</td>\n",
       "      <td>[positive regulation of gene expression (GO:00...</td>\n",
       "      <td>2</td>\n",
       "      <td>[FYN, MARCKS]</td>\n",
       "    </tr>\n",
       "    <tr>\n",
       "      <th>252</th>\n",
       "      <td>252</td>\n",
       "      <td>10</td>\n",
       "      <td>[7]</td>\n",
       "      <td>19</td>\n",
       "      <td>43</td>\n",
       "      <td>0</td>\n",
       "      <td>[]</td>\n",
       "      <td>0</td>\n",
       "      <td>[]</td>\n",
       "      <td>[]</td>\n",
       "      <td>2</td>\n",
       "      <td>[ACTB, RAC1]</td>\n",
       "    </tr>\n",
       "    <tr>\n",
       "      <th>375</th>\n",
       "      <td>375</td>\n",
       "      <td>13</td>\n",
       "      <td>[10]</td>\n",
       "      <td>39</td>\n",
       "      <td>30</td>\n",
       "      <td>0</td>\n",
       "      <td>[]</td>\n",
       "      <td>0</td>\n",
       "      <td>[]</td>\n",
       "      <td>[]</td>\n",
       "      <td>2</td>\n",
       "      <td>[ABI1, SVIL]</td>\n",
       "    </tr>\n",
       "    <tr>\n",
       "      <th>373</th>\n",
       "      <td>373</td>\n",
       "      <td>13</td>\n",
       "      <td>[10]</td>\n",
       "      <td>39</td>\n",
       "      <td>28</td>\n",
       "      <td>0</td>\n",
       "      <td>[]</td>\n",
       "      <td>0</td>\n",
       "      <td>[]</td>\n",
       "      <td>[]</td>\n",
       "      <td>2</td>\n",
       "      <td>[ITGA8, VIM]</td>\n",
       "    </tr>\n",
       "    <tr>\n",
       "      <th>46</th>\n",
       "      <td>46</td>\n",
       "      <td>17</td>\n",
       "      <td>[1]</td>\n",
       "      <td>62</td>\n",
       "      <td>60</td>\n",
       "      <td>1</td>\n",
       "      <td>[HLX]</td>\n",
       "      <td>2</td>\n",
       "      <td>[BTG1, PAK1]</td>\n",
       "      <td>[regulation of mitotic cell cycle (GO:0007346)]</td>\n",
       "      <td>2</td>\n",
       "      <td>[CAPN2, ENAH]</td>\n",
       "    </tr>\n",
       "  </tbody>\n",
       "</table>\n",
       "</div>"
      ],
      "text/plain": [
       "    community n_nodes chroms n_edges n_genes n_tf  \\\n",
       "459       459      11   [12]      23     100   12   \n",
       "592       592       3   [16]       3      41    2   \n",
       "31         31      13    [1]      31     137    7   \n",
       "652       652       4   [17]       6      27    2   \n",
       "397       397      12   [10]      44      38    0   \n",
       "576       576       2   [16]       1      41    0   \n",
       "88         88      15    [2]      39      57    1   \n",
       "524       524       6   [14]       9      42    1   \n",
       "110       110      14    [3]      34      88    0   \n",
       "92         92       8    [2]      28      27    1   \n",
       "631       631       5   [17]       8      40    1   \n",
       "54         54      17    [2]      54      48    4   \n",
       "321       321       1    [8]       0      14    0   \n",
       "561       561      10   [15]      22      44    0   \n",
       "660       660       7   [17]      12      76    1   \n",
       "236       236      13    [6]      30      45    1   \n",
       "252       252      10    [7]      19      43    0   \n",
       "375       375      13   [10]      39      30    0   \n",
       "373       373      13   [10]      39      28    0   \n",
       "46         46      17    [1]      62      60    1   \n",
       "\n",
       "                                               tf_list n_tf_targets  \\\n",
       "459  [ATF7, HOXC10, HOXC11, HOXC13, HOXC6, HOXC8, H...          487   \n",
       "592                                       [FUS, SRCAP]            5   \n",
       "31   [ASH1L, CRABP2, CREB3L4, HAX1, HDGF, ILF2, MEF2D]           20   \n",
       "652                                       [DLX3, DLX4]            2   \n",
       "397                                                 []            0   \n",
       "576                                                 []            0   \n",
       "88                                             [SATB2]            2   \n",
       "524                                             [MTA1]           24   \n",
       "110                                                 []            0   \n",
       "92                                             [XRCC5]            3   \n",
       "631                                            [PCGF2]            3   \n",
       "54                           [E2F6, GRHL1, ID2, KLF11]           13   \n",
       "321                                                 []            0   \n",
       "561                                                 []            0   \n",
       "660                                            [FOXJ1]            1   \n",
       "236                                            [HDAC2]           27   \n",
       "252                                                 []            0   \n",
       "375                                                 []            0   \n",
       "373                                                 []            0   \n",
       "46                                               [HLX]            2   \n",
       "\n",
       "                                            tf_targets  \\\n",
       "459  [ABCA1, ABCB1, ABCB8, ABCC1, ABCC3, ABCG2, ACA...   \n",
       "592                      [AR, DDIT3, KLK3, MDM2, PCK2]   \n",
       "31   [ACRV1, ATF3, ATM, ATP2A2, CD14, CDH1, DNAJC12...   \n",
       "652                                       [BRCA1, CGA]   \n",
       "397                                                 []   \n",
       "576                                                 []   \n",
       "88                                       [TP63, UPF3B]   \n",
       "524  [ALOX15, ARNTL, BCAS3, BCL2L1, BRCA1, CDH1, CD...   \n",
       "110                                                 []   \n",
       "92                                 [CD40, ERBB2, ETS1]   \n",
       "631                                [HOXA7, ZEB1, ZEB2]   \n",
       "54   [APAF1, BRCA1, BRD7, COL1A2, CYC1, CYP11A1, E2...   \n",
       "321                                                 []   \n",
       "561                                                 []   \n",
       "660                                             [ASPM]   \n",
       "236  [ALOX5, APAF1, BMP7, CAD, CCL2, CCNE1, CD1D, C...   \n",
       "252                                                 []   \n",
       "375                                                 []   \n",
       "373                                                 []   \n",
       "46                                        [BTG1, PAK1]   \n",
       "\n",
       "                                  significant_go_terms n_adhesome  \\\n",
       "459  [regulation of cell proliferation (GO:0042127)...          4   \n",
       "592                                                 []          4   \n",
       "31   [positive regulation of gene expression (GO:00...          3   \n",
       "652  [dosage compensation by inactivation of X chro...          2   \n",
       "397                                                 []          2   \n",
       "576                                                 []          2   \n",
       "88                                                  []          2   \n",
       "524  [negative regulation of transcription, DNA-tem...          2   \n",
       "110                                                 []          2   \n",
       "92   [regulation of angiogenesis (GO:0045765), regu...          2   \n",
       "631  [negative regulation of transcription from RNA...          2   \n",
       "54   [negative regulation of G0 to G1 transition (G...          2   \n",
       "321                                                 []          2   \n",
       "561                                                 []          2   \n",
       "660                                                 []          2   \n",
       "236  [positive regulation of gene expression (GO:00...          2   \n",
       "252                                                 []          2   \n",
       "375                                                 []          2   \n",
       "373                                                 []          2   \n",
       "46     [regulation of mitotic cell cycle (GO:0007346)]          2   \n",
       "\n",
       "                      adhesome_list  \n",
       "459    [ITGA5, ITGA7, ITGB7, TENC1]  \n",
       "592  [ITGAD, ITGAM, ITGAX, TGFB1I1]  \n",
       "31            [ARHGEF2, HAX1, SHC1]  \n",
       "652                   [ABI3, ITGA3]  \n",
       "397                 [ADAM12, DOCK1]  \n",
       "576                   [PDPK1, PKD1]  \n",
       "88                    [ABI2, CASP8]  \n",
       "524                 [AKT1, ZFYVE21]  \n",
       "110                  [NISCH, PPM1M]  \n",
       "92                    [ARPC2, TNS1]  \n",
       "631                 [LASP1, SRCIN1]  \n",
       "54                [ASAP2, ITGB1BP1]  \n",
       "321                 [PLEC, SHARPIN]  \n",
       "561                   [CIB2, PEAK1]  \n",
       "660                   [GRB2, ITGB4]  \n",
       "236                   [FYN, MARCKS]  \n",
       "252                    [ACTB, RAC1]  \n",
       "375                    [ABI1, SVIL]  \n",
       "373                    [ITGA8, VIM]  \n",
       "46                    [CAPN2, ENAH]  "
      ]
     },
     "execution_count": 60,
     "metadata": {},
     "output_type": "execute_result"
    }
   ],
   "source": [
    "# Load pickle\n",
    "community_summary = pickle.load(open(saving_dir+'community_summary.pkl', 'rb'))\n",
    "community_summary.head(20)"
   ]
  },
  {
   "cell_type": "code",
   "execution_count": 25,
   "metadata": {
    "scrolled": false
   },
   "outputs": [
    {
     "name": "stdout",
     "output_type": "stream",
     "text": [
      "Number of communities with at least 5 adhesome genes = 8\n"
     ]
    },
    {
     "data": {
      "image/png": "[encoded data removed]",
      "text/plain": [
       "<Figure size 432x288 with 1 Axes>"
      ]
     },
     "metadata": {
      "needs_background": "light"
     },
     "output_type": "display_data"
    }
   ],
   "source": [
    "# Histogram of community size\n",
    "print('Number of communities with at least 5 adhesome genes = '+str(len(community_summary[community_summary['n_adhesome']>=5])))\n",
    "plt.figure()\n",
    "plt.hist(community_summary['n_nodes'].values, bins=np.arange(0,120,5), color='blue', alpha=0.5, label='all communities')\n",
    "plt.hist(community_summary[community_summary['n_adhesome']>0]['n_nodes'].values, bins=np.arange(0,120,5), color='red', alpha=0.5, label='adhesome communities')\n",
    "plt.hist(community_summary[community_summary['n_adhesome']>=5]['n_nodes'].values, bins=np.arange(0,120,5), color='green', alpha=0.5, label='adhesome communities (at least 5 adhesome genes)')\n",
    "plt.ylim(0,20)\n",
    "plt.legend()\n",
    "plt.title('Histogram of community size')\n",
    "plt.xlabel('community size')\n",
    "plt.ylabel('number of communities')\n",
    "plt.show()"
   ]
  },
  {
   "cell_type": "code",
   "execution_count": 29,
   "metadata": {},
   "outputs": [
    {
     "name": "stdout",
     "output_type": "stream",
     "text": [
      "Total number of nodes in G1 = 417\n",
      "Number of active adhesome nodes in G1 = 52\n",
      "Total number of edges in G1 = 4839\n",
      "Average node degree in G1 = 23.20863309352518\n",
      "Number of connected components in G1 = 1\n",
      "Size of connected components = [417]\n"
     ]
    },
    {
     "data": {
      "text/plain": [
       "PosixPath('/home/louiscam/projects/gpcr/save/figures/G1.html')"
      ]
     },
     "execution_count": 29,
     "metadata": {},
     "output_type": "execute_result"
    }
   ],
   "source": [
    "# Restrict network to top 7 communities\n",
    "select_communities = community_summary[community_summary['n_adhesome']>=6]['community'].values\n",
    "select_nodes = [node for node in partition.keys() if (partition[node] in select_communities)]\n",
    "G1 = G.subgraph(select_nodes)\n",
    "print('Total number of nodes in G1 = '+str(len(G1.nodes)))\n",
    "print('Number of active adhesome nodes in G1 = '+str(len(set(active_adhesome_loci).intersection(set(G1.nodes)))))\n",
    "print('Total number of edges in G1 = '+str(len(G1.edges)))\n",
    "print('Average node degree in G1 = '+str(np.mean(list(dict(G1.degree).values()))))\n",
    "print('Number of connected components in G1 = '+str(nx.number_connected_components(G1)))\n",
    "print('Size of connected components = '+str([len(c) for c in nx.connected_components(G1)]))\n",
    "# Save network to html\n",
    "oi.output_networkx_graph_as_interactive_html(G1, filename=saving_dir+\"G1.html\")"
   ]
  },
  {
   "cell_type": "markdown",
   "metadata": {},
   "source": [
    "### Random walk"
   ]
  },
  {
   "cell_type": "code",
   "execution_count": 73,
   "metadata": {},
   "outputs": [],
   "source": [
    "# Parameters of random walk\n",
    "n_repeat = 1000\n",
    "depth = nx.diameter(G.subgraph(max(nx.connected_components(G))).copy())\n",
    "adhesome_loci_in_network = [locus for locus in G.nodes if (locus in active_adhesome_loci)]\n",
    "all_loci_in_network = G.nodes"
   ]
  },
  {
   "cell_type": "code",
   "execution_count": 74,
   "metadata": {},
   "outputs": [],
   "source": [
    "# Define empty dataframe to store each run of the random walk\n",
    "runs_df = pd.DataFrame(0, index=np.arange(0,n_repeat), columns=all_loci_in_network)"
   ]
  },
  {
   "cell_type": "code",
   "execution_count": null,
   "metadata": {},
   "outputs": [
    {
     "name": "stderr",
     "output_type": "stream",
     "text": [
      " 70%|███████   | 702/1000 [30:24<12:39,  2.55s/it]"
     ]
    }
   ],
   "source": [
    "# Run procedure\n",
    "random.seed(13)\n",
    "for i in tqdm(np.arange(n_repeat)):\n",
    "    time.sleep(.01)\n",
    "    # Define an empty dataframe to count visit times\n",
    "    visit_df = pd.DataFrame(0, index=adhesome_loci_in_network, columns=all_loci_in_network)\n",
    "    # Loop over all adhesome nodes\n",
    "    for seed in adhesome_loci_in_network:\n",
    "        u = seed\n",
    "        visit_df.loc[seed,u] += 1\n",
    "        # Perform RW and update the visit time of each node in visit_df\n",
    "        for j in np.arange(depth):\n",
    "            u = random.choice(list(G.neighbors(u)))\n",
    "            visit_df.loc[seed,u] += 1\n",
    "    # Add aggregate RW results to to runs_df\n",
    "    runs_df.loc[i,:] = visit_df.mean(axis=0).values"
   ]
  },
  {
   "cell_type": "code",
   "execution_count": null,
   "metadata": {},
   "outputs": [],
   "source": [
    "pickle.dump(runs_df, open(saving_dir+'runs_df.pkl', 'wb'))"
   ]
  },
  {
   "cell_type": "code",
   "execution_count": null,
   "metadata": {},
   "outputs": [],
   "source": [
    "# Compute total number of visits for each locus in the network\n",
    "total_visits = runs_df.sum(axis=1).sort_values(ascending=False)\n",
    "total_visits.head()"
   ]
  },
  {
   "cell_type": "markdown",
   "metadata": {},
   "source": [
    "### Locus prioritization (Zhou et al.)"
   ]
  },
  {
   "cell_type": "code",
   "execution_count": null,
   "metadata": {},
   "outputs": [],
   "source": [
    "# Form affinity matrix of G\n",
    "W = nx.adjacency_matrix(G, weight=None)\n",
    "np.diag(W) = 0"
   ]
  },
  {
   "cell_type": "code",
   "execution_count": null,
   "metadata": {},
   "outputs": [],
   "source": [
    "# Construct normalized matrix S\n",
    "degrees = W.sum(axis=1).values\n",
    "D = np.diag(degrees)\n",
    "S = np.multidot([np.power(D,-0.5),W,np.power(D,-0.5)])"
   ]
  },
  {
   "cell_type": "code",
   "execution_count": null,
   "metadata": {},
   "outputs": [],
   "source": [
    "# Response\n",
    "Y = np.array([int(locus in adhesome_loci_in_network) for locus in G.nodes])"
   ]
  },
  {
   "cell_type": "code",
   "execution_count": null,
   "metadata": {},
   "outputs": [],
   "source": [
    "# Run algorithm\n",
    "alpha = 0.5\n",
    "n_iter = 1000\n",
    "epsilon_tol = 1e-4\n",
    "\n",
    "# Initialize\n",
    "convergence = []\n",
    "F_prev = Y\n",
    "F_curr = alpha*np.dot(S,F_prev)+(1-alpha)*Y\n",
    "# Loop\n",
    "for i in tqdm(np.arange(n_iter)):\n",
    "    ti,e.sleep(.01)\n",
    "    F_prev = F_curr\n",
    "    F_curr = alpha*np.dot(S,F_prev)+(1-alpha)*Y\n",
    "    convergence.append(np.linalg.norm(F_curr-F_prev,2))"
   ]
  },
  {
   "cell_type": "code",
   "execution_count": null,
   "metadata": {},
   "outputs": [],
   "source": [
    "# Plot convergence metric\n",
    "plt.figure()\n",
    "plt.plot(np.arange(n_iter), convergence)\n",
    "plt.xlabel('iteration')\n",
    "plt.ylabel('|Y_curr-Y_prev|')\n",
    "plt.show()"
   ]
  }
 ],
 "metadata": {
  "kernelspec": {
   "display_name": "Python 3",
   "language": "python",
   "name": "python3"
  },
  "language_info": {
   "codemirror_mode": {
    "name": "ipython",
    "version": 3
   },
   "file_extension": ".py",
   "mimetype": "text/x-python",
   "name": "python",
   "nbconvert_exporter": "python",
   "pygments_lexer": "ipython3",
   "version": "3.7.4"
  }
 },
 "nbformat": 4,
 "nbformat_minor": 2
}
