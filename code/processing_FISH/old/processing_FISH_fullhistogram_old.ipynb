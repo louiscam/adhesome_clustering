{
 "cells": [
  {
   "cell_type": "markdown",
   "metadata": {},
   "source": [
    "# Figure FISH"
   ]
  },
  {
   "cell_type": "code",
   "execution_count": 1,
   "metadata": {
    "code_folding": []
   },
   "outputs": [
    {
     "data": {
      "text/plain": [
       "<module 'utils' from '/home/louiscam/projects/gpcr/code/processing_FISH/utils.py'>"
      ]
     },
     "execution_count": 1,
     "metadata": {},
     "output_type": "execute_result"
    }
   ],
   "source": [
    "# Import standard libraries\n",
    "import warnings\n",
    "warnings.simplefilter(action='ignore', category=FutureWarning)\n",
    "from importlib import reload\n",
    "import numpy as np\n",
    "import matplotlib as mpl\n",
    "import matplotlib.pyplot as plt\n",
    "from scipy.cluster.hierarchy import dendrogram, linkage, fcluster, cut_tree\n",
    "from scipy.spatial.distance import pdist, squareform\n",
    "from sklearn.metrics import adjusted_mutual_info_score\n",
    "import seaborn as sns\n",
    "from scipy import sparse\n",
    "import scipy.stats as ss\n",
    "import csv\n",
    "import pandas as pd\n",
    "import networkx as nx\n",
    "import community\n",
    "import communities as com\n",
    "import pickle\n",
    "from collections import defaultdict\n",
    "import operator\n",
    "from scipy.sparse import csr_matrix\n",
    "import itertools\n",
    "import os.path\n",
    "import math\n",
    "from sklearn.cluster import AgglomerativeClustering\n",
    "from sklearn.decomposition import PCA\n",
    "from sklearn.manifold import TSNE\n",
    "from sklearn.metrics import adjusted_mutual_info_score\n",
    "from networkx.algorithms.community.kclique import k_clique_communities\n",
    "import pybedtools\n",
    "import time\n",
    "from tqdm import tqdm\n",
    "import random\n",
    "import OmicsIntegrator as oi\n",
    "import gseapy\n",
    "from gseapy.plot import barplot, dotplot\n",
    "from ortools.linear_solver import pywraplp\n",
    "import pyvis as pv\n",
    "from pyvis.network import Network\n",
    "from joblib import Parallel, delayed\n",
    "\n",
    "import utils as lu\n",
    "reload(lu)"
   ]
  },
  {
   "cell_type": "code",
   "execution_count": 2,
   "metadata": {},
   "outputs": [],
   "source": [
    "# Directory of genome data\n",
    "dir_genome = '/home/louiscam/projects/gpcr/data/genome_data/'\n",
    "# Directory of adhesome data\n",
    "dir_adhesome = '/home/louiscam/projects/gpcr/data/adhesome_data/'\n",
    "# Directory of processed HiC\n",
    "dir_processed_hic = '/home/louiscam/projects/gpcr/save/processed_hic_data/processed_hic_data_IMR90/final_BP250000_intraKR_interINTERKR/'\n",
    "# Directory of epigenomic data\n",
    "epigenome_dir = '/home/louiscam/projects/gpcr/data/regulatory_data/regulatory_data_IMR90/'\n",
    "processed_epigenome_data_dir = '/home/louiscam/projects/gpcr/save/processed_regulatory_marks/processed_epigenome_data_IMR90/'\n",
    "# Directory of FISH data\n",
    "dir_fish = '/home/louiscam/projects/gpcr/data/fish_data/'\n",
    "# Saving directory\n",
    "saving_dir = '/home/louiscam/projects/gpcr/save/figures/'\n",
    "saving_main_dir = '/home/louiscam/projects/gpcr/save/figures_main/'\n",
    "saving_supp_dir = '/home/louiscam/projects/gpcr/save/figures_supplement/'"
   ]
  },
  {
   "cell_type": "code",
   "execution_count": 3,
   "metadata": {},
   "outputs": [],
   "source": [
    "# Load gene to chromosome directory\n",
    "with open(saving_dir+'gene2chrom.pkl', 'rb') as f:\n",
    "    gene2chrom = pickle.load(f)\n",
    "# Load gene to locus directory\n",
    "with open(saving_dir+'gene2locus.pkl', 'rb') as f:\n",
    "    gene2locus = pickle.load(f)"
   ]
  },
  {
   "cell_type": "markdown",
   "metadata": {},
   "source": [
    "# Load FISH data"
   ]
  },
  {
   "cell_type": "markdown",
   "metadata": {},
   "source": [
    "### Load genomic scale FISH data\n",
    "Including for each locus whether the genes measured within it are actively transcribing and the distances from the locus to the nuclear lamina, the nearest nuclear speckle and the nearest nucleolus."
   ]
  },
  {
   "cell_type": "code",
   "execution_count": 4,
   "metadata": {},
   "outputs": [],
   "source": [
    "# Load data\n",
    "merfish_data = pd.read_csv(dir_fish+'dna_merfish_data.tsv', sep='\\t', header=0)"
   ]
  },
  {
   "cell_type": "code",
   "execution_count": 5,
   "metadata": {},
   "outputs": [
    {
     "name": "stderr",
     "output_type": "stream",
     "text": [
      "100%|██████████| 3668/3668 [00:43<00:00, 84.29it/s]\n"
     ]
    }
   ],
   "source": [
    "# For each cell, determine its nucleus size (maximum probe-probe distance)\n",
    "merfish_data_reduced = merfish_data[['cell number', 'genomic coordinate', 'x(nm)', 'y(nm)', 'z(nm)']]\n",
    "merfish_data_reduced = merfish_data_reduced.dropna(how='any', axis=0)\n",
    "cell_ids = merfish_data_reduced['cell number'].unique()\n",
    "max_dist_dict = {}\n",
    "for cell_id in tqdm(cell_ids):\n",
    "    coords = merfish_data_reduced[merfish_data_reduced['cell number']==cell_id][['x(nm)', 'y(nm)', 'z(nm)']]\n",
    "    dist = pdist(coords, metric='euclidean')\n",
    "    max_dist = dist.max()\n",
    "    max_dist_dict[cell_id] = max_dist"
   ]
  },
  {
   "cell_type": "code",
   "execution_count": 6,
   "metadata": {},
   "outputs": [],
   "source": [
    "# Build dictionary from Ensembl gene name to HGNC\n",
    "enst2hgnc_df = pd.read_csv(dir_genome+'ensemblGene2Name', sep='\\t', header=0)\n",
    "enst2hgnc_df.columns = ['ENST', 'HGNC']\n",
    "enst2hgnc_df = enst2hgnc_df.set_index('ENST')\n",
    "ensg2enst_df = pd.read_csv(dir_genome+'ensemblGene2Transcript2Protein', sep='\\t', header=0)\n",
    "ensg2enst_df.columns = ['ENSG', 'ENST', 'ENSP']\n",
    "ensg2enst_df = ensg2enst_df[['ENSG', 'ENST']]\n",
    "ensg2enst_df = ensg2enst_df.set_index('ENST')\n",
    "ensg2hgnc_df = ensg2enst_df.join(enst2hgnc_df, how='outer').reset_index()\n",
    "ensg2hgnc_df = ensg2hgnc_df[['ENSG', 'HGNC']].drop_duplicates(['ENSG', 'HGNC'])\n",
    "ensg2hgnc_df['HGNC'] = ensg2hgnc_df['HGNC'].str.upper()\n",
    "ensg2hgnc_df = ensg2hgnc_df.reset_index()[['ENSG', 'HGNC']]\n",
    "ensg2hgnc = {ensg2hgnc_df.loc[i,'ENSG']: ensg2hgnc_df.loc[i,'HGNC'] for i in range(len(ensg2hgnc_df))}"
   ]
  },
  {
   "cell_type": "code",
   "execution_count": 7,
   "metadata": {},
   "outputs": [],
   "source": [
    "# Add gene information to MERFISH data\n",
    "merfish_data['gene names'] = merfish_data['gene names'].astype(str)\n",
    "merfish_data['gene names'] = merfish_data['gene names'].apply(lambda x: x.split(',') if x!='nan' else [])\n",
    "merfish_data['gene_hgnc'] = merfish_data['gene names'].apply(lambda x: [ensg2hgnc[g] if (g in ensg2hgnc.keys()) \n",
    "                                                                    else 'unknown' for g in x] if len(x)>0 else [])\n",
    "merfish_data['n_genes'] = merfish_data['gene_hgnc'].apply(lambda x: len(x))\n",
    "merfish_data['transciption'] = merfish_data['transciption'].astype(str)\n",
    "merfish_data['transciption'] = merfish_data['transciption'].apply(lambda x: x.split(',') if x!='nan' else [])\n",
    "merfish_data['chrom'] = merfish_data['genomic coordinate'].str.split(':', expand=True)[0]"
   ]
  },
  {
   "cell_type": "code",
   "execution_count": 8,
   "metadata": {},
   "outputs": [],
   "source": [
    "# Reduce data (drop NAs, chrX and gene-less loci)\n",
    "merfish_data = merfish_data.dropna(how='any')\n",
    "merfish_data = merfish_data[merfish_data['chrom']!='chrX']\n",
    "merfish_data = merfish_data[['cell number',\n",
    "                             'chrom',\n",
    "                             'homolog number',\n",
    "                             'genomic coordinate',\n",
    "                             'gene_hgnc',\n",
    "                             'transciption',\n",
    "                             'x(nm)', 'y(nm)', 'z(nm)']]\n",
    "merfish_data.columns = [ 'cell_ID',\n",
    "                         'chrom',\n",
    "                         'homolog',\n",
    "                         'probe_locus',\n",
    "                         'gene_ID',\n",
    "                         'transcription',\n",
    "                         'x(nm)', 'y(nm)', 'z(nm)']"
   ]
  },
  {
   "cell_type": "code",
   "execution_count": 9,
   "metadata": {},
   "outputs": [
    {
     "name": "stdout",
     "output_type": "stream",
     "text": [
      "Total number of cells = 3533\n",
      "Total number of loci = 990\n"
     ]
    }
   ],
   "source": [
    "# Print basic statistics\n",
    "print(f'Total number of cells = {len(np.unique(merfish_data[\"cell_ID\"].values))}')\n",
    "print(f'Total number of loci = {len(np.unique(merfish_data[\"probe_locus\"].values))}')"
   ]
  },
  {
   "cell_type": "markdown",
   "metadata": {},
   "source": [
    "# Load genes of interest"
   ]
  },
  {
   "cell_type": "code",
   "execution_count": 10,
   "metadata": {},
   "outputs": [],
   "source": [
    "# Genes that we want to validate\n",
    "# Load all adhesome genes\n",
    "with open(saving_dir+'all_adhesome_genes.pkl', 'rb') as f:\n",
    "    all_adhesome_genes = pickle.load(f)\n",
    "# Load active adhesome genes\n",
    "with open(saving_dir+'active_adhesome_genes.pkl', 'rb') as f:\n",
    "    active_adhesome_genes = pickle.load(f)\n",
    "# Load adhesome TF genes and loci\n",
    "with open(saving_dir+'active_lung_adhesome_tf_genes.pkl', 'rb') as f:\n",
    "    active_lung_adhesome_tf_genes = pickle.load(f)\n",
    "active_adhesome_genes = np.concatenate([active_adhesome_genes, active_lung_adhesome_tf_genes])"
   ]
  },
  {
   "cell_type": "code",
   "execution_count": 11,
   "metadata": {},
   "outputs": [],
   "source": [
    "# Sample random non-adhesome active genes\n",
    "with open(saving_dir+'all_active_genes.pkl', 'rb') as f:\n",
    "    all_active_genes = pickle.load(f)\n",
    "with open(saving_dir+'all_inactive_genes.pkl', 'rb') as f:\n",
    "    all_inactive_genes = pickle.load(f)\n",
    "active_gene_pool = list(set(all_active_genes)-set(active_adhesome_genes))\n",
    "active_gene_pool = np.array(active_gene_pool)\n",
    "random_active_genes = active_gene_pool"
   ]
  },
  {
   "cell_type": "code",
   "execution_count": 12,
   "metadata": {},
   "outputs": [
    {
     "name": "stdout",
     "output_type": "stream",
     "text": [
      "Number of selected genes = 22595\n"
     ]
    }
   ],
   "source": [
    "# Genes for downstream analysis\n",
    "selected_genes = np.concatenate([active_adhesome_genes, random_active_genes])\n",
    "print(f'Number of selected genes = {len(selected_genes)}')"
   ]
  },
  {
   "cell_type": "code",
   "execution_count": 13,
   "metadata": {},
   "outputs": [],
   "source": [
    "# Location of genes in hg38\n",
    "df_loc = pd.read_csv(dir_genome+'chrom_hg38.loc', sep='\\t', header=0)\n",
    "df_loc = df_loc[df_loc['#chrom'].isin(['chr'+str(i) for i in range(1,23)])]\n",
    "df_loc = df_loc[['#chrom', 'chromStart', 'chromEnd', 'geneName']]\n",
    "df_loc.columns = ['chrom', 'start', 'end', 'geneName']\n",
    "df_loc = df_loc.sort_values(['chrom','start','end'])\n",
    "df_loc = df_loc.groupby(['chrom','geneName']).agg({'start':'min', 'end':'max'})\n",
    "df_loc = df_loc.reset_index().sort_values(['chrom','start','end'])\n",
    "df_loc_adhesome = df_loc[df_loc['geneName'].isin(selected_genes)]"
   ]
  },
  {
   "cell_type": "code",
   "execution_count": 15,
   "metadata": {},
   "outputs": [],
   "source": [
    "# Identify adhesome genes present within 500kb of available MERFISH probes\n",
    "resol = 500000"
   ]
  },
  {
   "cell_type": "code",
   "execution_count": 16,
   "metadata": {},
   "outputs": [],
   "source": [
    "# Construct a bed object for adhesome genes\n",
    "df_adhesome_pos = df_loc_adhesome[['chrom','start','end', 'geneName']]\n",
    "bed_adhesome = pybedtools.BedTool.from_dataframe(df_adhesome_pos).sort()\n",
    "bed_adhesome_df = bed_adhesome.to_dataframe()"
   ]
  },
  {
   "cell_type": "code",
   "execution_count": 17,
   "metadata": {},
   "outputs": [],
   "source": [
    "# Construct a bed object for MERFISH probes\n",
    "df_merfish_pos = merfish_data.loc[:,'probe_locus'].to_frame().drop_duplicates()\n",
    "df_merfish_pos['chrom'] = df_merfish_pos['probe_locus'].str.split(':', expand=True)[0]\n",
    "df_merfish_pos['extent'] = df_merfish_pos['probe_locus'].str.split(':', expand=True)[1]\n",
    "df_merfish_pos['start'] = df_merfish_pos['extent'].str.split('-', expand=True)[0].astype(int)\n",
    "df_merfish_pos['end'] = df_merfish_pos['extent'].str.split('-', expand=True)[1].astype(int)\n",
    "df_merfish_pos = df_merfish_pos[['chrom', 'start', 'end', 'probe_locus']]\n",
    "df_merfish_pos['start'] = (df_merfish_pos['start']-resol).clip(lower=0)\n",
    "df_merfish_pos['end'] = (df_merfish_pos['end']+resol)\n",
    "bed_merfish = pybedtools.BedTool.from_dataframe(df_merfish_pos).sort()\n",
    "bed_merfish_df = bed_merfish.to_dataframe()"
   ]
  },
  {
   "cell_type": "code",
   "execution_count": 18,
   "metadata": {},
   "outputs": [],
   "source": [
    "# Get counts for this feature in the segmented genome\n",
    "out = pybedtools.bedtool.BedTool.map(bed_merfish, bed_adhesome, c=[4], o='distinct', f=1e-9, F=1e-9)\n",
    "counts = out.to_dataframe()\n",
    "counts['score'] = counts['score'].str.split(',')\n",
    "counts['score'] = counts['score'].apply(lambda x: x if x[0]!='.' else [])\n",
    "merfishloc2gene = {counts.loc[i,'name']: counts.loc[i,'score'] for i in range(len(counts))}"
   ]
  },
  {
   "cell_type": "code",
   "execution_count": 19,
   "metadata": {},
   "outputs": [],
   "source": [
    "# Build dictionary mapping selected genes to the corresponding MERFISH locus\n",
    "counts = counts.loc[:,['name', 'score']]\n",
    "counts = counts.set_index('name').apply(pd.Series.explode).reset_index().dropna().reset_index().iloc[:,1:]\n",
    "gene2merfishloc = {counts.loc[i,'score']: counts[counts['score']==counts.loc[i,'score']]['name'].values\n",
    "                   for i in range(len(counts))}"
   ]
  },
  {
   "cell_type": "code",
   "execution_count": 20,
   "metadata": {},
   "outputs": [
    {
     "name": "stdout",
     "output_type": "stream",
     "text": [
      "Coverage of adhesome genes by MERFISH probes = 97\n",
      "Coverage of active adhesome genes by MERFISH probes = 105\n",
      "Coverage of random genes by MERFISH probes = 7425\n",
      "Number of MERFISH probes covering adhesome loci = 88\n",
      "Number of MERFISH probes covering active adhesome loci = 92\n"
     ]
    }
   ],
   "source": [
    "# Basic stats\n",
    "print(f'Coverage of adhesome genes by MERFISH probes = {len(np.unique(list(set(counts[\"score\"].values).intersection(set(all_adhesome_genes)))))}')\n",
    "print(f'Coverage of active adhesome genes by MERFISH probes = {len(np.unique(list(set(counts[\"score\"].values).intersection(set(active_adhesome_genes)))))}')\n",
    "print(f'Coverage of random genes by MERFISH probes = {len(np.unique(list(set(counts[\"score\"].values).intersection(set(random_active_genes)))))}')\n",
    "print(f'Number of MERFISH probes covering adhesome loci = {counts[counts[\"score\"].isin(all_adhesome_genes)][\"name\"].nunique()}')\n",
    "print(f'Number of MERFISH probes covering active adhesome loci = {counts[counts[\"score\"].isin(active_adhesome_genes)][\"name\"].nunique()}')"
   ]
  },
  {
   "cell_type": "code",
   "execution_count": 19,
   "metadata": {
    "scrolled": true
   },
   "outputs": [
    {
     "data": {
      "text/html": [
       "<div>\n",
       "<style scoped>\n",
       "    .dataframe tbody tr th:only-of-type {\n",
       "        vertical-align: middle;\n",
       "    }\n",
       "\n",
       "    .dataframe tbody tr th {\n",
       "        vertical-align: top;\n",
       "    }\n",
       "\n",
       "    .dataframe thead th {\n",
       "        text-align: right;\n",
       "    }\n",
       "</style>\n",
       "<table border=\"1\" class=\"dataframe\">\n",
       "  <thead>\n",
       "    <tr style=\"text-align: right;\">\n",
       "      <th></th>\n",
       "      <th>locus</th>\n",
       "      <th>chrom</th>\n",
       "      <th>location</th>\n",
       "    </tr>\n",
       "  </thead>\n",
       "  <tbody>\n",
       "    <tr>\n",
       "      <th>0</th>\n",
       "      <td>chr_10_loc_128500000</td>\n",
       "      <td>10</td>\n",
       "      <td>514.0</td>\n",
       "    </tr>\n",
       "    <tr>\n",
       "      <th>1</th>\n",
       "      <td>chr_10_loc_128750000</td>\n",
       "      <td>10</td>\n",
       "      <td>515.0</td>\n",
       "    </tr>\n",
       "    <tr>\n",
       "      <th>2</th>\n",
       "      <td>chr_10_loc_129000000</td>\n",
       "      <td>10</td>\n",
       "      <td>516.0</td>\n",
       "    </tr>\n",
       "    <tr>\n",
       "      <th>3</th>\n",
       "      <td>chr_10_loc_129250000</td>\n",
       "      <td>10</td>\n",
       "      <td>517.0</td>\n",
       "    </tr>\n",
       "    <tr>\n",
       "      <th>4</th>\n",
       "      <td>chr_10_loc_17250000</td>\n",
       "      <td>10</td>\n",
       "      <td>69.0</td>\n",
       "    </tr>\n",
       "    <tr>\n",
       "      <th>...</th>\n",
       "      <td>...</td>\n",
       "      <td>...</td>\n",
       "      <td>...</td>\n",
       "    </tr>\n",
       "    <tr>\n",
       "      <th>153</th>\n",
       "      <td>chr_9_loc_133750000</td>\n",
       "      <td>9</td>\n",
       "      <td>535.0</td>\n",
       "    </tr>\n",
       "    <tr>\n",
       "      <th>154</th>\n",
       "      <td>chr_9_loc_136500000</td>\n",
       "      <td>9</td>\n",
       "      <td>546.0</td>\n",
       "    </tr>\n",
       "    <tr>\n",
       "      <th>155</th>\n",
       "      <td>chr_9_loc_136750000</td>\n",
       "      <td>9</td>\n",
       "      <td>547.0</td>\n",
       "    </tr>\n",
       "    <tr>\n",
       "      <th>156</th>\n",
       "      <td>chr_9_loc_93500000</td>\n",
       "      <td>9</td>\n",
       "      <td>374.0</td>\n",
       "    </tr>\n",
       "    <tr>\n",
       "      <th>157</th>\n",
       "      <td>chr_9_loc_94750000</td>\n",
       "      <td>9</td>\n",
       "      <td>379.0</td>\n",
       "    </tr>\n",
       "  </tbody>\n",
       "</table>\n",
       "<p>158 rows × 3 columns</p>\n",
       "</div>"
      ],
      "text/plain": [
       "                    locus  chrom  location\n",
       "0    chr_10_loc_128500000     10     514.0\n",
       "1    chr_10_loc_128750000     10     515.0\n",
       "2    chr_10_loc_129000000     10     516.0\n",
       "3    chr_10_loc_129250000     10     517.0\n",
       "4     chr_10_loc_17250000     10      69.0\n",
       "..                    ...    ...       ...\n",
       "153   chr_9_loc_133750000      9     535.0\n",
       "154   chr_9_loc_136500000      9     546.0\n",
       "155   chr_9_loc_136750000      9     547.0\n",
       "156    chr_9_loc_93500000      9     374.0\n",
       "157    chr_9_loc_94750000      9     379.0\n",
       "\n",
       "[158 rows x 3 columns]"
      ]
     },
     "execution_count": 19,
     "metadata": {},
     "output_type": "execute_result"
    }
   ],
   "source": [
    "# Where are uncovered adhesome genes\n",
    "uncovered_adh_genes = np.unique(list(set(all_adhesome_genes)-set(counts[\"score\"].values)))\n",
    "uncovered_adh_loc = np.unique(list(itertools.chain.from_iterable([gene2locus[g] for g in uncovered_adh_genes])))\n",
    "uncovered_adh_loc_df = pd.DataFrame({'locus': uncovered_adh_loc})\n",
    "uncovered_adh_loc_df['chrom'] = uncovered_adh_loc_df['locus'].str.split('_', expand=True)[1].astype(int)\n",
    "uncovered_adh_loc_df['location'] = uncovered_adh_loc_df['locus'].str.split('_', expand=True)[3].astype(int)/250000\n",
    "uncovered_adh_loc_df"
   ]
  },
  {
   "cell_type": "code",
   "execution_count": 20,
   "metadata": {},
   "outputs": [],
   "source": [
    "# Identify MERFISH loci of adhesome genes\n",
    "adh_merfish_loc = np.unique(list((itertools.chain.from_iterable([gene2merfishloc[g] \n",
    "                             for g in active_adhesome_genes if (g in gene2merfishloc.keys())]))))\n",
    "# Identiy MERFISH loci of non adhesome genes\n",
    "rand_merfish_loc = np.unique(list((itertools.chain.from_iterable([gene2merfishloc[g] \n",
    "                             for g in random_active_genes if (g in gene2merfishloc.keys())]))))\n",
    "rand_merfish_loc = np.array(list(set(rand_merfish_loc)-set(adh_merfish_loc)))\n",
    "\n",
    "# Combine adh_merfish_loc and rand_merfish_loc\n",
    "selected_merfish_loc = np.concatenate([adh_merfish_loc, rand_merfish_loc])"
   ]
  },
  {
   "cell_type": "markdown",
   "metadata": {},
   "source": [
    "# Compare MERFISH distances between adhesome loci and random loci all non-adhesome active loci"
   ]
  },
  {
   "cell_type": "code",
   "execution_count": 21,
   "metadata": {},
   "outputs": [],
   "source": [
    "# Select MERFISH data corresponding to active adhesome genes and active random genes\n",
    "selected_merfish_data = merfish_data.copy()\n",
    "selected_merfish_data = selected_merfish_data.loc[selected_merfish_data['probe_locus'].isin(selected_merfish_loc),:]"
   ]
  },
  {
   "cell_type": "code",
   "execution_count": 22,
   "metadata": {},
   "outputs": [
    {
     "name": "stdout",
     "output_type": "stream",
     "text": [
      "Number of unique loci = 969\n",
      "Number of unique cells = 3533\n"
     ]
    }
   ],
   "source": [
    "# A few statistics\n",
    "all_merfish_loci = np.unique(selected_merfish_data[\"probe_locus\"])\n",
    "all_merfish_cells = np.unique(selected_merfish_data[\"cell_ID\"])\n",
    "print(f'Number of unique loci = {len(all_merfish_loci)}')\n",
    "print(f'Number of unique cells = {len(all_merfish_cells)}')"
   ]
  },
  {
   "cell_type": "code",
   "execution_count": 23,
   "metadata": {},
   "outputs": [
    {
     "name": "stderr",
     "output_type": "stream",
     "text": [
      "100%|██████████| 3533/3533 [01:19<00:00, 44.63it/s]\n"
     ]
    }
   ],
   "source": [
    "# Build a dictionary where for each cell, we report a gene by gene distance matrix between adhesome genes\n",
    "cell2distmat = {}\n",
    "for cell in tqdm(all_merfish_cells):\n",
    "    cell_data = selected_merfish_data.loc[selected_merfish_data['cell_ID']==cell,\n",
    "                                          ['x(nm)','y(nm)','z(nm)','probe_locus']]\n",
    "    cell_data = cell_data.groupby('probe_locus').agg({'x(nm)': 'mean', 'y(nm)': 'mean', 'z(nm)': 'mean'})\n",
    "    dist_mat = squareform(pdist(cell_data, metric='euclidean'))/max_dist_dict[cell_id]\n",
    "    cell2distmat[cell] = pd.DataFrame(dist_mat,columns = cell_data.index.values, index = cell_data.index.values)"
   ]
  },
  {
   "cell_type": "code",
   "execution_count": 24,
   "metadata": {
    "scrolled": true
   },
   "outputs": [
    {
     "name": "stderr",
     "output_type": "stream",
     "text": [
      "100%|██████████| 3533/3533 [02:07<00:00, 27.74it/s]\n"
     ]
    }
   ],
   "source": [
    "# Combine information across all cells into one dataframe\n",
    "distances_df = pd.DataFrame(0, columns=all_merfish_loci, index=all_merfish_loci)\n",
    "n_samples_df = pd.DataFrame(0, columns=all_merfish_loci, index=all_merfish_loci)\n",
    "for cell in tqdm(all_merfish_cells):\n",
    "    cell_dist_mat = cell2distmat[cell]\n",
    "    cell_idx = cell_dist_mat.index.values\n",
    "    distances_df.loc[cell_idx, cell_idx] += cell_dist_mat\n",
    "    n_samples_df.loc[cell_idx, cell_idx] += 1 \n",
    "n_samples_df = n_samples_df.replace(0, np.nan)"
   ]
  },
  {
   "cell_type": "code",
   "execution_count": 25,
   "metadata": {},
   "outputs": [
    {
     "name": "stdout",
     "output_type": "stream",
     "text": [
      "Maximum average distance = 8326.957249187171\n"
     ]
    }
   ],
   "source": [
    "# Average distance dataframe\n",
    "avg_dist_df = distances_df/n_samples_df\n",
    "print(f'Maximum average distance = {avg_dist_df.max().max()}')\n",
    "avg_scaled_dist_df = avg_dist_df/avg_dist_df.max().max()\n",
    "avg_scaled_prox_df = 1-avg_scaled_dist_df\n",
    "final_adh_loc = np.sort([g for g in all_merfish_loci if (g in adh_merfish_loc)])\n",
    "final_rand_loc = np.sort([g for g in all_merfish_loci if (g in rand_merfish_loc)])"
   ]
  },
  {
   "cell_type": "code",
   "execution_count": 26,
   "metadata": {},
   "outputs": [],
   "source": [
    "# Procedure to sort final_adh_loc and final_rand_loc in genomic order\n",
    "sort_adh = pd.DataFrame({'locus': final_adh_loc})\n",
    "sort_adh['chrom'] = sort_adh['locus'].str.split(':', expand=True)[0]\n",
    "sort_adh['chrom'] = sort_adh['chrom'].str.split('chr', expand=True)[1].astype(int)\n",
    "sort_adh['ext'] = sort_adh['locus'].str.split(':', expand=True)[1]\n",
    "sort_adh['start'] = sort_adh['ext'].str.split('-', expand=True)[0].astype(int)\n",
    "sort_adh['end'] = sort_adh['ext'].str.split('-', expand=True)[1].astype(int)\n",
    "sort_adh = sort_adh[['locus','chrom','start','end']]\n",
    "sort_adh = sort_adh.sort_values(['chrom','start','end'])\n",
    "final_adh_loc =  sort_adh['locus'].values\n",
    "sort_rand = pd.DataFrame({'locus': final_rand_loc})\n",
    "sort_rand['chrom'] = sort_rand['locus'].str.split(':', expand=True)[0]\n",
    "sort_rand['chrom'] = sort_rand['chrom'].str.split('chr', expand=True)[1].astype(int)\n",
    "sort_rand['ext'] = sort_rand['locus'].str.split(':', expand=True)[1]\n",
    "sort_rand['start'] = sort_rand['ext'].str.split('-', expand=True)[0].astype(int)\n",
    "sort_rand['end'] = sort_rand['ext'].str.split('-', expand=True)[1].astype(int)\n",
    "sort_rand = sort_rand[['locus','chrom','start','end']]\n",
    "sort_rand = sort_rand.sort_values(['chrom','start','end'])\n",
    "final_rand_loc =  sort_rand['locus'].values"
   ]
  },
  {
   "cell_type": "code",
   "execution_count": 27,
   "metadata": {},
   "outputs": [
    {
     "data": {
      "image/png": "[encoded data removed]",
      "text/plain": [
       "<Figure size 432x288 with 1 Axes>"
      ]
     },
     "metadata": {
      "needs_background": "light"
     },
     "output_type": "display_data"
    },
    {
     "name": "stdout",
     "output_type": "stream",
     "text": [
      "Wilcoxon Rank-Sums test (blue vs orange):\n",
      "RanksumsResult(statistic=43.367122968322356, pvalue=0.0)\n"
     ]
    }
   ],
   "source": [
    "# Plot histogram of MERFISH distances\n",
    "plt.figure()\n",
    "plt.hist(avg_scaled_prox_df.loc[final_adh_loc,final_adh_loc].values[np.triu_indices(len(final_adh_loc),1)], \n",
    "         color='dodgerblue', alpha=0.5, density=True, bins=np.arange(0, 1.05, 0.02),\n",
    "         label='active adhesome loci')\n",
    "plt.hist(avg_scaled_prox_df.loc[final_rand_loc,final_rand_loc].values[np.triu_indices(len(final_rand_loc),1)], \n",
    "         color='orange', alpha=0.5, density=True, bins=np.arange(0, 1.05, 0.02),\n",
    "         label='all active non-adhesome loci')\n",
    "plt.xlabel('average scaled pairwise Euclidean proximity')\n",
    "plt.ylabel('density')\n",
    "plt.legend(loc='upper left')\n",
    "plt.show()\n",
    "# Wilcoxon Rank-Sums test\n",
    "print('Wilcoxon Rank-Sums test (blue vs orange):')\n",
    "print(ss.ranksums(avg_scaled_prox_df.loc[final_adh_loc,final_adh_loc].values[np.triu_indices(len(final_adh_loc),1)],\n",
    "                  avg_scaled_prox_df.loc[final_rand_loc,final_rand_loc].values[np.triu_indices(len(final_rand_loc),1)]))"
   ]
  },
  {
   "cell_type": "code",
   "execution_count": null,
   "metadata": {},
   "outputs": [],
   "source": []
  },
  {
   "cell_type": "code",
   "execution_count": null,
   "metadata": {},
   "outputs": [],
   "source": []
  }
 ],
 "metadata": {
  "kernelspec": {
   "display_name": "Python 3",
   "language": "python",
   "name": "python3"
  },
  "language_info": {
   "codemirror_mode": {
    "name": "ipython",
    "version": 3
   },
   "file_extension": ".py",
   "mimetype": "text/x-python",
   "name": "python",
   "nbconvert_exporter": "python",
   "pygments_lexer": "ipython3",
   "version": "3.7.4"
  }
 },
 "nbformat": 4,
 "nbformat_minor": 2
}
